{
 "cells": [
  {
   "cell_type": "markdown",
   "id": "b7ba8c84-0539-4366-8d9a-65f7aa614f33",
   "metadata": {
    "slideshow": {
     "slide_type": "slide"
    },
    "tags": []
   },
   "source": [
    "# Statistics and Data Manipulation\n",
    "([Back to Overview](../index.html#/0/4))"
   ]
  },
  {
   "cell_type": "code",
   "execution_count": 1,
   "id": "170cbf24-6d75-46d3-92ca-29b233978949",
   "metadata": {},
   "outputs": [
    {
     "data": {
      "text/plain": [
       "map (generic function with 61 methods)"
      ]
     },
     "execution_count": 1,
     "metadata": {},
     "output_type": "execute_result"
    }
   ],
   "source": [
    "import Base: filter, map\n",
    "filter(f::Function)::Function = x -> filter(f, x)\n",
    "map(f::Function)::Function    = x -> map(f, x)"
   ]
  },
  {
   "cell_type": "code",
   "execution_count": 2,
   "id": "4f99ee8a-c722-44e3-877f-dfb980432208",
   "metadata": {},
   "outputs": [
    {
     "data": {
      "text/plain": [
       "11-element Vector{Int64}:\n",
       "  0\n",
       "  1\n",
       "  2\n",
       "  3\n",
       "  4\n",
       "  5\n",
       "  6\n",
       "  7\n",
       "  8\n",
       "  9\n",
       " 10"
      ]
     },
     "execution_count": 2,
     "metadata": {},
     "output_type": "execute_result"
    }
   ],
   "source": [
    "x = collect(range(0, 10))"
   ]
  },
  {
   "cell_type": "code",
   "execution_count": 3,
   "id": "571df489-8b0a-465f-88ad-c9e6cb702529",
   "metadata": {},
   "outputs": [
    {
     "data": {
      "text/plain": [
       "11-element Vector{Int64}:\n",
       "  1\n",
       "  2\n",
       "  3\n",
       "  4\n",
       "  5\n",
       "  6\n",
       "  7\n",
       "  8\n",
       "  9\n",
       " 10\n",
       " 11"
      ]
     },
     "execution_count": 3,
     "metadata": {},
     "output_type": "execute_result"
    }
   ],
   "source": [
    "x |> map(x->x+1)"
   ]
  },
  {
   "cell_type": "code",
   "execution_count": 4,
   "id": "071e890a-1987-49f1-9a36-88eb69d9ce3a",
   "metadata": {},
   "outputs": [
    {
     "data": {
      "text/plain": [
       "5-element Vector{Int64}:\n",
       "  2\n",
       "  4\n",
       "  6\n",
       "  8\n",
       " 10"
      ]
     },
     "execution_count": 4,
     "metadata": {},
     "output_type": "execute_result"
    }
   ],
   "source": [
    "x |> map(x->x+1) |> filter(x->x%2==0)"
   ]
  },
  {
   "cell_type": "code",
   "execution_count": null,
   "id": "1f4a4d70-fa72-4030-bbed-fe7a8fac03df",
   "metadata": {},
   "outputs": [],
   "source": []
  }
 ],
 "metadata": {
  "kernelspec": {
   "display_name": "Julia 1.7.1",
   "language": "julia",
   "name": "julia-1.7"
  },
  "language_info": {
   "file_extension": ".jl",
   "mimetype": "application/julia",
   "name": "julia",
   "version": "1.7.1"
  }
 },
 "nbformat": 4,
 "nbformat_minor": 5
}
