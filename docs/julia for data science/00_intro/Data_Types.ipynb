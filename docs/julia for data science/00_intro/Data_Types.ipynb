{
 "cells": [
  {
   "cell_type": "markdown",
   "id": "republican-basic",
   "metadata": {
    "slideshow": {
     "slide_type": "slide"
    },
    "tags": []
   },
   "source": [
    "# The Magic of Julia Data Types\n",
    "([Back to Overview](../index.html#/0/2))"
   ]
  },
  {
   "cell_type": "markdown",
   "id": "plastic-following",
   "metadata": {
    "slideshow": {
     "slide_type": "slide"
    },
    "tags": []
   },
   "source": [
    "Unlike object-oriented languaes (eg. C++ and Python), where classes _own_ methods, in Julia there are no _classes_ in the onject-oriented sense:\n",
    "* Data types define structured data _and nothing else_ (mostly)\n",
    "* Functions can have multiple definitions (each new definition of a function is called a _method_)\n",
    "* The Julia compiler chooses which method to apply to a function call based on the type of _all_ input arguments (i.e. Multiple Dispatch)\n",
    "\n",
    "This might be a bit strange for python users: classes look \"inside-out\" with method definitions accompanying data types.\n",
    "\n",
    "For encapsulation, use Modules!"
   ]
  },
  {
   "cell_type": "markdown",
   "id": "divided-temperature",
   "metadata": {
    "slideshow": {
     "slide_type": "slide"
    },
    "tags": []
   },
   "source": [
    "## Composite Data Types (Classes)"
   ]
  },
  {
   "cell_type": "markdown",
   "id": "dutch-lancaster",
   "metadata": {
    "slideshow": {
     "slide_type": "subslide"
    },
    "tags": []
   },
   "source": [
    "Let's define an ordered pair of reals"
   ]
  },
  {
   "cell_type": "code",
   "execution_count": 1,
   "id": "accomplished-mentor",
   "metadata": {
    "slideshow": {
     "slide_type": "fragment"
    },
    "tags": []
   },
   "outputs": [],
   "source": [
    "struct OrderedPair <: Number\n",
    "    x::Real\n",
    "    y::Real\n",
    "    \n",
    "    OrderedPair(x::Real, y::Real) = x > y ? error(\"out of order\") : new(x,y)\n",
    "end"
   ]
  },
  {
   "cell_type": "markdown",
   "id": "parental-level",
   "metadata": {
    "slideshow": {
     "slide_type": "fragment"
    },
    "tags": []
   },
   "source": [
    "The encapsulated function: `OrderedPair(x,y) = x > y ? error(\"out of order\") : new(x,y)` defines a constructor that ensure that the ordered pair stays ordered. In Python, this would be handled by  `__init__(self, x, y)` \n",
    "\n",
    "The is a one-line function definition here is equivalent to:\n",
    "```julia\n",
    "function OrderedPair(x,y)\n",
    "    if x > y\n",
    "        error(\"out of order\")\n",
    "    end\n",
    "    new(x,y)\n",
    "end\n",
    "```"
   ]
  },
  {
   "cell_type": "markdown",
   "id": "rational-integral",
   "metadata": {
    "slideshow": {
     "slide_type": "subslide"
    },
    "tags": []
   },
   "source": [
    "Let's define some math: addition and subtraction:\n",
    "* In Python we would define `__add__` and `__sub__`\n",
    "* In Julia we define new _methods_ for `Base.+` and `Base.-`\n",
    "\n",
    "We also need conversion and promotion rules for our custom data type. This way our `OrderedPair` is a first-class citizen ... just like `Float64` :)"
   ]
  },
  {
   "cell_type": "code",
   "execution_count": 2,
   "id": "subsequent-roots",
   "metadata": {
    "slideshow": {
     "slide_type": "fragment"
    },
    "tags": []
   },
   "outputs": [
    {
     "data": {
      "text/plain": [
       "promote_rule (generic function with 125 methods)"
      ]
     },
     "execution_count": 2,
     "metadata": {},
     "output_type": "execute_result"
    }
   ],
   "source": [
    "import Base: +, -, convert, promote_rule\n",
    "\n",
    "function +(a::OrderedPair, b::OrderedPair)\n",
    "    x_new = a.x + b.x\n",
    "    y_new = a.y + b.y\n",
    "    OrderedPair(x_new, y_new)\n",
    "end\n",
    "\n",
    "# One-liners can seem a bit magical\n",
    "-(a::OrderedPair, b::OrderedPair) = OrderedPair(a.x - b.x, a.y - b.y)\n",
    "\n",
    "# Getting these right might require some experimenting. Note how OrderedPair extends Number.\n",
    "convert(::Type{OrderedPair}, x::Real) = OrderedPair(x, x)\n",
    "promote_rule(::Type{OrderedPair}, ::Type{<:Real}) = OrderedPair"
   ]
  },
  {
   "cell_type": "markdown",
   "id": "a7cf701a-b06c-4bf0-beb5-6e8dec17ada8",
   "metadata": {
    "slideshow": {
     "slide_type": "subslide"
    },
    "tags": []
   },
   "source": [
    "We can now use our order pairs in addition and subtraction:"
   ]
  },
  {
   "cell_type": "code",
   "execution_count": 3,
   "id": "drawn-paste",
   "metadata": {
    "slideshow": {
     "slide_type": "fragment"
    },
    "tags": []
   },
   "outputs": [
    {
     "data": {
      "text/plain": [
       "OrderedPair(10, 20)"
      ]
     },
     "execution_count": 3,
     "metadata": {},
     "output_type": "execute_result"
    }
   ],
   "source": [
    "p1 = OrderedPair(1, 2)\n",
    "p2 = OrderedPair(10, 20)"
   ]
  },
  {
   "cell_type": "code",
   "execution_count": 4,
   "id": "bottom-bedroom",
   "metadata": {
    "slideshow": {
     "slide_type": "fragment"
    },
    "tags": []
   },
   "outputs": [
    {
     "data": {
      "text/plain": [
       "OrderedPair(11, 22)"
      ]
     },
     "execution_count": 4,
     "metadata": {},
     "output_type": "execute_result"
    }
   ],
   "source": [
    "p1 + p2"
   ]
  },
  {
   "cell_type": "markdown",
   "id": "2c76880f-9583-4d9e-bc5b-f7e65637e0a2",
   "metadata": {
    "slideshow": {
     "slide_type": "subslide"
    },
    "tags": []
   },
   "source": [
    "Our constructor ensures that the ordered pair type remains consistent (ie. ordered) "
   ]
  },
  {
   "cell_type": "code",
   "execution_count": 5,
   "id": "revised-equipment",
   "metadata": {
    "slideshow": {
     "slide_type": "subslide"
    },
    "tags": []
   },
   "outputs": [
    {
     "ename": "LoadError",
     "evalue": "out of order",
     "output_type": "error",
     "traceback": [
      "out of order",
      "",
      "Stacktrace:",
      " [1] error(s::String)",
      "   @ Base ./error.jl:33",
      " [2] OrderedPair(x::Int64, y::Int64)",
      "   @ Main ./In[1]:5",
      " [3] -(a::OrderedPair, b::OrderedPair)",
      "   @ Main ./In[2]:10",
      " [4] top-level scope",
      "   @ In[5]:1",
      " [5] eval",
      "   @ ./boot.jl:360 [inlined]",
      " [6] include_string(mapexpr::typeof(REPL.softscope), mod::Module, code::String, filename::String)",
      "   @ Base ./loading.jl:1094"
     ]
    }
   ],
   "source": [
    "p1 - p2"
   ]
  },
  {
   "cell_type": "code",
   "execution_count": 6,
   "id": "public-toilet",
   "metadata": {
    "slideshow": {
     "slide_type": "subslide"
    },
    "tags": []
   },
   "outputs": [
    {
     "data": {
      "text/plain": [
       "OrderedPair(9, 18)"
      ]
     },
     "execution_count": 6,
     "metadata": {},
     "output_type": "execute_result"
    }
   ],
   "source": [
    "p2 - p1"
   ]
  },
  {
   "cell_type": "markdown",
   "id": "f6dc7510-49ed-45f5-8247-71673130eab4",
   "metadata": {
    "slideshow": {
     "slide_type": "subslide"
    },
    "tags": []
   },
   "source": [
    "What are conversion and promotion used for? Let's say we want to convert the number `20` to an ordered pair -- that's where conversion is used:"
   ]
  },
  {
   "cell_type": "code",
   "execution_count": 7,
   "id": "introductory-china",
   "metadata": {
    "slideshow": {
     "slide_type": "fragment"
    },
    "tags": []
   },
   "outputs": [
    {
     "data": {
      "text/plain": [
       "OrderedPair(20.0, 20.0)"
      ]
     },
     "execution_count": 7,
     "metadata": {},
     "output_type": "execute_result"
    }
   ],
   "source": [
    "convert(OrderedPair, 20.)"
   ]
  },
  {
   "cell_type": "markdown",
   "id": "ca5d56ee-1489-4fa5-87da-c944417ad3c4",
   "metadata": {
    "slideshow": {
     "slide_type": "fragment"
    },
    "tags": []
   },
   "source": [
    "Promotion defines what type the result of two different inputs' data types should have. Together with conversion we can add a single number to both parts of the pair:"
   ]
  },
  {
   "cell_type": "code",
   "execution_count": 8,
   "id": "lesbian-trader",
   "metadata": {
    "slideshow": {
     "slide_type": "fragment"
    },
    "tags": []
   },
   "outputs": [
    {
     "data": {
      "text/plain": [
       "OrderedPair(21.0, 22.0)"
      ]
     },
     "execution_count": 8,
     "metadata": {},
     "output_type": "execute_result"
    }
   ],
   "source": [
    "p1 + 20."
   ]
  },
  {
   "cell_type": "markdown",
   "id": "facial-light",
   "metadata": {
    "slideshow": {
     "slide_type": "slide"
    },
    "tags": []
   },
   "source": [
    "## Generics and `UnionAll` Data Types"
   ]
  },
  {
   "cell_type": "markdown",
   "id": "chronic-present",
   "metadata": {
    "slideshow": {
     "slide_type": "subslide"
    },
    "tags": []
   },
   "source": [
    "We can use curly braces and the `where` keyword to define generic types. You can think of these as basically C++ templates. The `<:` symbol restricts the possible inputs to the generic type `T`"
   ]
  },
  {
   "cell_type": "code",
   "execution_count": 9,
   "id": "identified-underwear",
   "metadata": {
    "slideshow": {
     "slide_type": "fragment"
    },
    "tags": []
   },
   "outputs": [],
   "source": [
    "struct OrderedPair2{T} <: Number where T <: Number\n",
    "    x::T\n",
    "    y::T\n",
    "    OrderedPair2(x::T, y::T) where T = x > y ? error(\"out of order\") : new{T}(x,y)\n",
    "end"
   ]
  },
  {
   "cell_type": "markdown",
   "id": "touched-swimming",
   "metadata": {
    "slideshow": {
     "slide_type": "fragment"
    },
    "tags": []
   },
   "source": [
    "This now generates different specializations based on the type of `x`, and `y`"
   ]
  },
  {
   "cell_type": "code",
   "execution_count": 10,
   "id": "raising-cartoon",
   "metadata": {
    "slideshow": {
     "slide_type": "fragment"
    },
    "tags": []
   },
   "outputs": [
    {
     "data": {
      "text/plain": [
       "OrderedPair2{Float64}(1.0, 2.0)"
      ]
     },
     "execution_count": 10,
     "metadata": {},
     "output_type": "execute_result"
    }
   ],
   "source": [
    "p = OrderedPair2(1., 2.)"
   ]
  },
  {
   "cell_type": "code",
   "execution_count": 11,
   "id": "found-blood",
   "metadata": {
    "slideshow": {
     "slide_type": "fragment"
    },
    "tags": []
   },
   "outputs": [
    {
     "data": {
      "text/plain": [
       "OrderedPair2{Int64}(1, 2)"
      ]
     },
     "execution_count": 11,
     "metadata": {},
     "output_type": "execute_result"
    }
   ],
   "source": [
    "p2 = OrderedPair2(1, 2)"
   ]
  }
 ],
 "metadata": {
  "kernelspec": {
   "display_name": "Julia 1.7.2",
   "language": "julia",
   "name": "julia-1.7"
  },
  "language_info": {
   "file_extension": ".jl",
   "mimetype": "application/julia",
   "name": "julia",
   "version": "1.7.2"
  }
 },
 "nbformat": 4,
 "nbformat_minor": 5
}
