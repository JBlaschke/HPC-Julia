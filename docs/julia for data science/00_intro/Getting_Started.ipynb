{
 "cells": [
  {
   "cell_type": "markdown",
   "id": "unlimited-encyclopedia",
   "metadata": {
    "slideshow": {
     "slide_type": "slide"
    },
    "tags": []
   },
   "source": [
    "# Getting Started With Julia\n",
    "([Back to Overview](../index.html#/0/3))"
   ]
  },
  {
   "cell_type": "markdown",
   "id": "e903efee-af3e-4056-b6c3-a4b323729495",
   "metadata": {
    "slideshow": {
     "slide_type": "slide"
    },
    "tags": []
   },
   "source": [
    "## How to get Julia:"
   ]
  },
  {
   "cell_type": "markdown",
   "id": "aec029a5-4682-4460-8951-ddace602a834",
   "metadata": {
    "slideshow": {
     "slide_type": "subslide"
    },
    "tags": []
   },
   "source": [
    "1. Debian/Ubuntu: `apt-get install julia`\n",
    "2. macOS: `brew install --cask julia`\n",
    "3. Juliaup: https://github.com/JuliaLang/juliaup\n",
    "4. Manual install: https://julialang.org/downloads/"
   ]
  },
  {
   "cell_type": "markdown",
   "id": "90b5e212-265b-4636-b9cf-d618d1e2ad09",
   "metadata": {
    "slideshow": {
     "slide_type": "slide"
    },
    "tags": []
   },
   "source": [
    "## Interact with Julia using:"
   ]
  },
  {
   "cell_type": "markdown",
   "id": "instant-meeting",
   "metadata": {
    "slideshow": {
     "slide_type": "subslide"
    },
    "tags": []
   },
   "source": [
    "### Option 1: The REPL: `julia`\n",
    "\n",
    "![repl](repl.png)"
   ]
  },
  {
   "cell_type": "markdown",
   "id": "public-affiliation",
   "metadata": {
    "slideshow": {
     "slide_type": "subslide"
    },
    "tags": []
   },
   "source": [
    "### Option 2: Your favorite editor/CLI\n",
    "\n",
    "```bash\n",
    "vim hello.jl\n",
    "julia hello.jl\n",
    "```"
   ]
  },
  {
   "cell_type": "markdown",
   "id": "exclusive-offering",
   "metadata": {
    "slideshow": {
     "slide_type": "subslide"
    },
    "tags": []
   },
   "source": [
    "### Option 3: `IJulia` + Jupyter:\n",
    "\n",
    "```julia\n",
    "# Install IJulia\n",
    "import Pkg\n",
    "Pkg.add(\"IJulia\")\n",
    "\n",
    "# Install the Jupyter kernel\n",
    "using IJulia\n",
    "installkernel(\"Julia\")\n",
    "```\n",
    "\n",
    "... then start your favorite Jupyter instance\n",
    "\n",
    "**We'll be using Jupyter for the rest of this tutorial**"
   ]
  },
  {
   "cell_type": "markdown",
   "id": "owned-wales",
   "metadata": {
    "slideshow": {
     "slide_type": "subslide"
    },
    "tags": []
   },
   "source": [
    "### Option 4: Dedicated IDE\n",
    "\n",
    "* Juno https://junolab.org/\n",
    "* VScode https://code.visualstudio.com/docs/languages/julia\n",
    "\n",
    "![ide](ide.png)"
   ]
  },
  {
   "cell_type": "markdown",
   "id": "c8b7bbf3-dc9b-4ab4-bfbb-93126b62a43e",
   "metadata": {
    "slideshow": {
     "slide_type": "slide"
    },
    "tags": []
   },
   "source": [
    "## First Steps"
   ]
  },
  {
   "cell_type": "markdown",
   "id": "d0a6bd0e-e0b2-4b82-96a5-322e31ecf8ec",
   "metadata": {
    "slideshow": {
     "slide_type": "subslide"
    },
    "tags": []
   },
   "source": [
    "Let's start with Hello World"
   ]
  },
  {
   "cell_type": "code",
   "execution_count": 11,
   "id": "e841f919-16e2-4418-9089-adbc3fddcd6f",
   "metadata": {
    "slideshow": {
     "slide_type": "fragment"
    },
    "tags": []
   },
   "outputs": [
    {
     "name": "stdout",
     "output_type": "stream",
     "text": [
      "Hello World\n"
     ]
    }
   ],
   "source": [
    "println(\"Hello World\")"
   ]
  },
  {
   "cell_type": "markdown",
   "id": "western-spell",
   "metadata": {
    "slideshow": {
     "slide_type": "slide"
    },
    "tags": []
   },
   "source": [
    "## Package Management"
   ]
  },
  {
   "cell_type": "markdown",
   "id": "cbaf6fcc-887a-426e-8f90-81f567ed4e23",
   "metadata": {
    "slideshow": {
     "slide_type": "subslide"
    },
    "tags": []
   },
   "source": [
    "Two ways to manage packages:\n",
    "1. You can use the `Pkg` module from within Julia.\n",
    "2. From the Julia REPL you can type `]` to enter the Package Manager's CLI"
   ]
  },
  {
   "cell_type": "markdown",
   "id": "opened-reconstruction",
   "metadata": {
    "slideshow": {
     "slide_type": "subslide"
    },
    "tags": []
   },
   "source": [
    "Eg. to add the `CSV` package using the `Pkg` module run:\n",
    "\n",
    "```julia\n",
    "import Pkg\n",
    "Pkg.add(\"CSV\")\n",
    "```"
   ]
  },
  {
   "cell_type": "code",
   "execution_count": 4,
   "id": "0caca0be-0f5b-4c2a-83e9-eab13e5801e0",
   "metadata": {
    "slideshow": {
     "slide_type": "skip"
    },
    "tags": []
   },
   "outputs": [
    {
     "name": "stderr",
     "output_type": "stream",
     "text": [
      "\u001b[32m\u001b[1m    Updating\u001b[22m\u001b[39m `~/.julia/environments/v1.7/Project.toml`\n",
      " \u001b[90m [336ed68f] \u001b[39m\u001b[91m- CSV v0.10.2\u001b[39m\n",
      "\u001b[32m\u001b[1m    Updating\u001b[22m\u001b[39m `~/.julia/environments/v1.7/Manifest.toml`\n",
      " \u001b[90m [336ed68f] \u001b[39m\u001b[91m- CSV v0.10.2\u001b[39m\n",
      " \u001b[90m [944b1d66] \u001b[39m\u001b[91m- CodecZlib v0.7.0\u001b[39m\n",
      " \u001b[90m [91c51154] \u001b[39m\u001b[91m- SentinelArrays v1.3.12\u001b[39m\n",
      " \u001b[90m [3bb67fe8] \u001b[39m\u001b[91m- TranscodingStreams v0.9.6\u001b[39m\n",
      " \u001b[90m [ea10d353] \u001b[39m\u001b[91m- WeakRefStrings v1.4.2\u001b[39m\n"
     ]
    }
   ],
   "source": [
    "import Pkg\n",
    "Pkg.rm(\"CSV\")"
   ]
  },
  {
   "cell_type": "code",
   "execution_count": 5,
   "id": "55bde292-b843-4bd0-a1c0-b396ec58aa53",
   "metadata": {
    "slideshow": {
     "slide_type": "fragment"
    },
    "tags": []
   },
   "outputs": [
    {
     "name": "stderr",
     "output_type": "stream",
     "text": [
      "\u001b[32m\u001b[1m   Resolving\u001b[22m\u001b[39m package versions...\n",
      "\u001b[32m\u001b[1m    Updating\u001b[22m\u001b[39m `~/.julia/environments/v1.7/Project.toml`\n",
      " \u001b[90m [336ed68f] \u001b[39m\u001b[92m+ CSV v0.10.2\u001b[39m\n",
      "\u001b[32m\u001b[1m    Updating\u001b[22m\u001b[39m `~/.julia/environments/v1.7/Manifest.toml`\n",
      " \u001b[90m [336ed68f] \u001b[39m\u001b[92m+ CSV v0.10.2\u001b[39m\n",
      " \u001b[90m [944b1d66] \u001b[39m\u001b[92m+ CodecZlib v0.7.0\u001b[39m\n",
      " \u001b[90m [91c51154] \u001b[39m\u001b[92m+ SentinelArrays v1.3.12\u001b[39m\n",
      " \u001b[90m [3bb67fe8] \u001b[39m\u001b[92m+ TranscodingStreams v0.9.6\u001b[39m\n",
      " \u001b[90m [ea10d353] \u001b[39m\u001b[92m+ WeakRefStrings v1.4.2\u001b[39m\n"
     ]
    }
   ],
   "source": [
    "import Pkg\n",
    "Pkg.add(\"CSV\")"
   ]
  },
  {
   "cell_type": "markdown",
   "id": "53bde661-4883-4206-b548-1c984e0daf56",
   "metadata": {
    "slideshow": {
     "slide_type": "subslide"
    },
    "tags": []
   },
   "source": [
    "When you're in the REPL you can type `]` to enter the Package Manager's CLI (note that the promt turns blue and has the format `(environment name) pkg>`). Eg. to add the `CSV` package using the Package Manager's CLI in the REPL, type: `add CSV` in the Package manager"
   ]
  },
  {
   "cell_type": "markdown",
   "id": "b0b369b7-34be-42c6-85ea-126849dd08c7",
   "metadata": {
    "slideshow": {
     "slide_type": "fragment"
    },
    "tags": []
   },
   "source": [
    "![repl](pkg.png)\n",
    "\n",
    "(hit ESC to go back to normal mode)"
   ]
  },
  {
   "cell_type": "markdown",
   "id": "e3b7945c-7e6b-4b3f-a9dc-6d8392da9067",
   "metadata": {
    "slideshow": {
     "slide_type": "slide"
    },
    "tags": []
   },
   "source": [
    "## Environments"
   ]
  },
  {
   "cell_type": "markdown",
   "id": "6dd9cfc4-187e-4522-844a-14b8a085e6cb",
   "metadata": {
    "slideshow": {
     "slide_type": "subslide"
    },
    "tags": []
   },
   "source": [
    "Environments are a good way of managing dependencies"
   ]
  },
  {
   "cell_type": "code",
   "execution_count": 1,
   "id": "160db2b9-dc28-42d9-8693-887e4c3edb74",
   "metadata": {
    "slideshow": {
     "slide_type": "fragment"
    },
    "tags": []
   },
   "outputs": [
    {
     "data": {
      "text/plain": [
       "\"/tmp/jl_cjAB0j\""
      ]
     },
     "execution_count": 1,
     "metadata": {},
     "output_type": "execute_result"
    }
   ],
   "source": [
    "cd(mktempdir())\n",
    "pwd() # print current directory"
   ]
  },
  {
   "cell_type": "markdown",
   "id": "38d5967b-940e-4cbe-bfab-0a42b70c2a02",
   "metadata": {
    "slideshow": {
     "slide_type": "fragment"
    },
    "tags": []
   },
   "source": [
    "This creates an empty temporary folder"
   ]
  },
  {
   "cell_type": "code",
   "execution_count": 2,
   "id": "222444a4-3051-4ad2-a429-3f037ef01cc7",
   "metadata": {
    "slideshow": {
     "slide_type": "fragment"
    },
    "tags": []
   },
   "outputs": [
    {
     "data": {
      "text/plain": [
       "String[]"
      ]
     },
     "execution_count": 2,
     "metadata": {},
     "output_type": "execute_result"
    }
   ],
   "source": [
    "readdir()"
   ]
  },
  {
   "cell_type": "markdown",
   "id": "460d12ec-1a8a-4684-ba9a-bb2399e43f57",
   "metadata": {
    "slideshow": {
     "slide_type": "subslide"
    },
    "tags": []
   },
   "source": [
    "Let's use this directory as a Julia environment"
   ]
  },
  {
   "cell_type": "code",
   "execution_count": 3,
   "id": "0f7e3938-25e1-47fe-8566-c113fee214d3",
   "metadata": {
    "slideshow": {
     "slide_type": "fragment"
    },
    "tags": []
   },
   "outputs": [],
   "source": [
    "import Pkg"
   ]
  },
  {
   "cell_type": "code",
   "execution_count": 4,
   "id": "7b6e4158-9fe6-43c5-875e-16e67ae5e01f",
   "metadata": {
    "slideshow": {
     "slide_type": "fragment"
    },
    "tags": []
   },
   "outputs": [
    {
     "name": "stderr",
     "output_type": "stream",
     "text": [
      "\u001b[32m\u001b[1m  Activating\u001b[22m\u001b[39m new project at `/tmp/jl_cjAB0j`\n"
     ]
    }
   ],
   "source": [
    "Pkg.activate(\".\")"
   ]
  },
  {
   "cell_type": "code",
   "execution_count": 5,
   "id": "de9d849c-5cc0-4431-88c9-3b1dbf7a0ef2",
   "metadata": {
    "slideshow": {
     "slide_type": "fragment"
    },
    "tags": []
   },
   "outputs": [
    {
     "name": "stderr",
     "output_type": "stream",
     "text": [
      "\u001b[32m\u001b[1m    Updating\u001b[22m\u001b[39m registry at `~/.julia/registries/General.toml`\n",
      "\u001b[32m\u001b[1m   Resolving\u001b[22m\u001b[39m package versions...\n",
      "\u001b[32m\u001b[1m   Installed\u001b[22m\u001b[39m PooledArrays ─ v1.4.1\n",
      "\u001b[32m\u001b[1m   Installed\u001b[22m\u001b[39m Parsers ────── v2.2.4\n",
      "\u001b[32m\u001b[1m   Installed\u001b[22m\u001b[39m CSV ────────── v0.10.4\n",
      "\u001b[32m\u001b[1m    Updating\u001b[22m\u001b[39m `/tmp/jl_cjAB0j/Project.toml`\n",
      " \u001b[90m [336ed68f] \u001b[39m\u001b[92m+ CSV v0.10.4\u001b[39m\n",
      "\u001b[32m\u001b[1m    Updating\u001b[22m\u001b[39m `/tmp/jl_cjAB0j/Manifest.toml`\n",
      " \u001b[90m [336ed68f] \u001b[39m\u001b[92m+ CSV v0.10.4\u001b[39m\n",
      " \u001b[90m [944b1d66] \u001b[39m\u001b[92m+ CodecZlib v0.7.0\u001b[39m\n",
      " \u001b[90m [34da2185] \u001b[39m\u001b[92m+ Compat v3.42.0\u001b[39m\n",
      " \u001b[90m [9a962f9c] \u001b[39m\u001b[92m+ DataAPI v1.9.0\u001b[39m\n",
      " \u001b[90m [e2d170a0] \u001b[39m\u001b[92m+ DataValueInterfaces v1.0.0\u001b[39m\n",
      " \u001b[90m [48062228] \u001b[39m\u001b[92m+ FilePathsBase v0.9.18\u001b[39m\n",
      " \u001b[90m [842dd82b] \u001b[39m\u001b[92m+ InlineStrings v1.1.2\u001b[39m\n",
      " \u001b[90m [82899510] \u001b[39m\u001b[92m+ IteratorInterfaceExtensions v1.0.0\u001b[39m\n",
      " \u001b[90m [bac558e1] \u001b[39m\u001b[92m+ OrderedCollections v1.4.1\u001b[39m\n",
      " \u001b[90m [69de0a69] \u001b[39m\u001b[92m+ Parsers v2.2.4\u001b[39m\n",
      " \u001b[90m [2dfb63ee] \u001b[39m\u001b[92m+ PooledArrays v1.4.1\u001b[39m\n",
      " \u001b[90m [91c51154] \u001b[39m\u001b[92m+ SentinelArrays v1.3.12\u001b[39m\n",
      " \u001b[90m [3783bdb8] \u001b[39m\u001b[92m+ TableTraits v1.0.1\u001b[39m\n",
      " \u001b[90m [bd369af6] \u001b[39m\u001b[92m+ Tables v1.7.0\u001b[39m\n",
      " \u001b[90m [3bb67fe8] \u001b[39m\u001b[92m+ TranscodingStreams v0.9.6\u001b[39m\n",
      " \u001b[90m [ea10d353] \u001b[39m\u001b[92m+ WeakRefStrings v1.4.2\u001b[39m\n",
      " \u001b[90m [0dad84c5] \u001b[39m\u001b[92m+ ArgTools\u001b[39m\n",
      " \u001b[90m [56f22d72] \u001b[39m\u001b[92m+ Artifacts\u001b[39m\n",
      " \u001b[90m [2a0f44e3] \u001b[39m\u001b[92m+ Base64\u001b[39m\n",
      " \u001b[90m [ade2ca70] \u001b[39m\u001b[92m+ Dates\u001b[39m\n",
      " \u001b[90m [8bb1440f] \u001b[39m\u001b[92m+ DelimitedFiles\u001b[39m\n",
      " \u001b[90m [8ba89e20] \u001b[39m\u001b[92m+ Distributed\u001b[39m\n",
      " \u001b[90m [f43a241f] \u001b[39m\u001b[92m+ Downloads\u001b[39m\n",
      " \u001b[90m [9fa8497b] \u001b[39m\u001b[92m+ Future\u001b[39m\n",
      " \u001b[90m [b77e0a4c] \u001b[39m\u001b[92m+ InteractiveUtils\u001b[39m\n",
      " \u001b[90m [b27032c2] \u001b[39m\u001b[92m+ LibCURL\u001b[39m\n",
      " \u001b[90m [76f85450] \u001b[39m\u001b[92m+ LibGit2\u001b[39m\n",
      " \u001b[90m [8f399da3] \u001b[39m\u001b[92m+ Libdl\u001b[39m\n",
      " \u001b[90m [37e2e46d] \u001b[39m\u001b[92m+ LinearAlgebra\u001b[39m\n",
      " \u001b[90m [56ddb016] \u001b[39m\u001b[92m+ Logging\u001b[39m\n",
      " \u001b[90m [d6f4376e] \u001b[39m\u001b[92m+ Markdown\u001b[39m\n",
      " \u001b[90m [a63ad114] \u001b[39m\u001b[92m+ Mmap\u001b[39m\n",
      " \u001b[90m [ca575930] \u001b[39m\u001b[92m+ NetworkOptions\u001b[39m\n",
      " \u001b[90m [44cfe95a] \u001b[39m\u001b[92m+ Pkg\u001b[39m\n",
      " \u001b[90m [de0858da] \u001b[39m\u001b[92m+ Printf\u001b[39m\n",
      " \u001b[90m [3fa0cd96] \u001b[39m\u001b[92m+ REPL\u001b[39m\n",
      " \u001b[90m [9a3f8284] \u001b[39m\u001b[92m+ Random\u001b[39m\n",
      " \u001b[90m [ea8e919c] \u001b[39m\u001b[92m+ SHA\u001b[39m\n",
      " \u001b[90m [9e88b42a] \u001b[39m\u001b[92m+ Serialization\u001b[39m\n",
      " \u001b[90m [1a1011a3] \u001b[39m\u001b[92m+ SharedArrays\u001b[39m\n",
      " \u001b[90m [6462fe0b] \u001b[39m\u001b[92m+ Sockets\u001b[39m\n",
      " \u001b[90m [2f01184e] \u001b[39m\u001b[92m+ SparseArrays\u001b[39m\n",
      " \u001b[90m [10745b16] \u001b[39m\u001b[92m+ Statistics\u001b[39m\n",
      " \u001b[90m [fa267f1f] \u001b[39m\u001b[92m+ TOML\u001b[39m\n",
      " \u001b[90m [a4e569a6] \u001b[39m\u001b[92m+ Tar\u001b[39m\n",
      " \u001b[90m [8dfed614] \u001b[39m\u001b[92m+ Test\u001b[39m\n",
      " \u001b[90m [cf7118a7] \u001b[39m\u001b[92m+ UUIDs\u001b[39m\n",
      " \u001b[90m [4ec0a83e] \u001b[39m\u001b[92m+ Unicode\u001b[39m\n",
      " \u001b[90m [e66e0078] \u001b[39m\u001b[92m+ CompilerSupportLibraries_jll\u001b[39m\n",
      " \u001b[90m [deac9b47] \u001b[39m\u001b[92m+ LibCURL_jll\u001b[39m\n",
      " \u001b[90m [29816b5a] \u001b[39m\u001b[92m+ LibSSH2_jll\u001b[39m\n",
      " \u001b[90m [c8ffd9c3] \u001b[39m\u001b[92m+ MbedTLS_jll\u001b[39m\n",
      " \u001b[90m [14a3606d] \u001b[39m\u001b[92m+ MozillaCACerts_jll\u001b[39m\n",
      " \u001b[90m [4536629a] \u001b[39m\u001b[92m+ OpenBLAS_jll\u001b[39m\n",
      " \u001b[90m [83775a58] \u001b[39m\u001b[92m+ Zlib_jll\u001b[39m\n",
      " \u001b[90m [8e850b90] \u001b[39m\u001b[92m+ libblastrampoline_jll\u001b[39m\n",
      " \u001b[90m [8e850ede] \u001b[39m\u001b[92m+ nghttp2_jll\u001b[39m\n",
      " \u001b[90m [3f19e933] \u001b[39m\u001b[92m+ p7zip_jll\u001b[39m\n",
      "\u001b[32m\u001b[1mPrecompiling\u001b[22m\u001b[39m project...\n",
      "\u001b[32m  ✓ \u001b[39m\u001b[90mPooledArrays\u001b[39m\n",
      "\u001b[33m  ✓ \u001b[39m\u001b[90mParsers\u001b[39m\n",
      "\u001b[32m  ✓ \u001b[39m\u001b[90mInlineStrings\u001b[39m\n",
      "\u001b[32m  ✓ \u001b[39m\u001b[90mWeakRefStrings\u001b[39m\n",
      "\u001b[32m  ✓ \u001b[39mCSV\n",
      "  5 dependencies successfully precompiled in 9 seconds (17 already precompiled)\n",
      "  \u001b[33m1\u001b[39m dependency precompiled but a different version is currently loaded. Restart julia to access the new version\n"
     ]
    }
   ],
   "source": [
    "Pkg.add(\"CSV\")"
   ]
  },
  {
   "cell_type": "markdown",
   "id": "ec5260b4-6180-46c3-bcdc-3b154c95662f",
   "metadata": {
    "slideshow": {
     "slide_type": "subslide"
    },
    "tags": []
   },
   "source": [
    "This adds two files to the environment's root directory, which can then reproduce the your environment on another computer:"
   ]
  },
  {
   "cell_type": "code",
   "execution_count": 6,
   "id": "7d1e4cf4-bb7d-4ea3-8f52-33d8e1d2d199",
   "metadata": {
    "slideshow": {
     "slide_type": "fragment"
    },
    "tags": []
   },
   "outputs": [
    {
     "data": {
      "text/plain": [
       "2-element Vector{String}:\n",
       " \"Manifest.toml\"\n",
       " \"Project.toml\""
      ]
     },
     "execution_count": 6,
     "metadata": {},
     "output_type": "execute_result"
    }
   ],
   "source": [
    "readdir()"
   ]
  },
  {
   "cell_type": "markdown",
   "id": "7373a6de-fd0f-4df7-b39e-d999b3253d15",
   "metadata": {
    "slideshow": {
     "slide_type": "subslide"
    },
    "tags": []
   },
   "source": [
    "Let's see how the environment is defined:"
   ]
  },
  {
   "cell_type": "code",
   "execution_count": 9,
   "id": "7c131d7e-a087-49cc-85fe-3c078bfc18de",
   "metadata": {
    "slideshow": {
     "slide_type": "fragment"
    },
    "tags": []
   },
   "outputs": [
    {
     "name": "stdout",
     "output_type": "stream",
     "text": [
      "[deps]\n",
      "CSV = \"336ed68f-0bac-5ca0-87d4-7b16caf5d00b\"\n",
      "\n"
     ]
    }
   ],
   "source": [
    "println(read(\"Project.toml\", String))"
   ]
  },
  {
   "cell_type": "code",
   "execution_count": 13,
   "id": "74edba25-28f6-4b5d-a6c1-0555dbe8aec9",
   "metadata": {
    "slideshow": {
     "slide_type": "fragment"
    },
    "tags": []
   },
   "outputs": [
    {
     "name": "stdout",
     "output_type": "stream",
     "text": [
      "# This file is machine-generated - editing it directly is not advised\n",
      "\n",
      "julia_version = \"1.7.2\"\n",
      "manifest_format = \"2.0\"\n",
      "\n",
      "[[deps.ArgTools]]\n",
      "uuid = \"0dad84c5-d112-42e6-8d28-ef12dabb789f\"\n",
      "\n",
      "[[deps.Artifacts]]\n",
      "uuid = \"56f22d72-fd6d-98f1-02f0-08ddc0907c33\"\n",
      "\n",
      "[[deps.Base64]]\n",
      "uuid = \"2a0f44e3-6c83-55bd-87e4-b1978d98bd5f\"\n",
      "\n",
      "[[deps.CSV]]\n",
      "deps = [\"CodecZlib\", \"Dates\", \"FilePathsBase\", \"InlineStrings\", \"Mmap\", \"Parsers\", \"PooledArrays\", \"SentinelArrays\", \"Tables\", \"Unicode\", \"WeakRefStrings\"]\n",
      "git-tree-sha1 = \"873fb188a4b9d76549b81465b1f75c82aaf59238\"\n",
      "uuid = \"336ed68f-0bac-5ca0-87d4-7b16caf5d00b\"\n",
      "version = \"0.10.4\"\n",
      "\n",
      "[[deps.CodecZlib]]\n",
      "deps = [\"TranscodingStreams\", \"Zlib_jll\"]\n",
      "git-tree-sha1 = \"ded953804d019afa9a3f98981d99b33e3db7b6da\"\n",
      "uuid = \"944b1d66-785c-5afd-91f1-9de20f533193\"\n",
      "version = \"0.7.0\"\n",
      "\n",
      "[[deps.Compat]]\n",
      "deps = [\"Base64\", \"Dates\", \"DelimitedFiles\", \"Distributed\", \"InteractiveUtils\", \"LibGit2\", \"Libdl\", \"LinearAlgebra\", \"Markdown\", \"Mmap\", \"Pkg\", \"Printf\", \"REPL\", \"Random\", \"SHA\", \"Serialization\", \"SharedArrays\", \"Sockets\", \"SparseArrays\", \"Statistics\", \"Test\", \"UUIDs\", \"Unicode\"]\n",
      "git-tree-sha1 = \"96b0bc6c52df76506efc8a441c6cf1adcb1babc4\"\n",
      "uuid = \"34da2185-b29b-5c13-b0c7-acf172513d20\"\n",
      "version = \"3.42.0\"\n",
      "\n",
      "[[deps.CompilerSupportLibraries_jll]]\n",
      "deps = [\"Artifacts\", \"Libdl\"]\n",
      "uuid = \"e66e0078-7015-5450-92f7-15fbd957f2ae\"\n",
      "\n",
      "[[deps.DataAPI]]\n",
      "git-tree-sha1 = \"cc70b17275652eb47bc9e5f81635981f13cea5c8\"\n",
      "uuid = \"9a962f9c-6df0-11e9-0e5d-c546b8b5ee8a\"\n",
      "version = \"1.9.0\"\n",
      "\n",
      "[[deps.DataValueInterfaces]]\n",
      "git-tree-sha1 = \"bfc1187b79289637fa0ef6d4436ebdfe6905cbd6\"\n",
      "uuid = \"e2d170a0-9d28-54be-80f0-106bbe20a464\"\n",
      "version = \"1.0.0\"\n",
      "\n",
      "[[deps.Dates]]\n",
      "deps = [\"Printf\"]\n",
      "uuid = \"ade2ca70-3891-5945-98fb-dc099432e06a\"\n",
      "\n",
      "[[deps.DelimitedFiles]]\n",
      "deps = [\"Mmap\"]\n",
      "uuid = \"8bb1440f-4735-579b-a4ab-409b98df4dab\"\n",
      "\n",
      "[[deps.Distributed]]\n",
      "deps = [\"Random\", \"Serialization\", \"Sockets\"]\n",
      "uuid = \"8ba89e20-285c-5b6f-9357-94700520ee1b\"\n",
      "\n",
      "[[deps.Downloads]]\n",
      "deps = [\"ArgTools\", \"LibCURL\", \"NetworkOptions\"]\n",
      "uuid = \"f43a241f-c20a-4ad4-852c-f6b1247861c6\"\n",
      "\n",
      "[[deps.FilePathsBase]]\n",
      "deps = [\"Compat\", \"Dates\", \"Mmap\", \"Printf\", \"Test\", \"UUIDs\"]\n",
      "git-tree-sha1 = \"129b104185df66e408edd6625d480b7f9e9823a0\"\n",
      "uuid = \"48062228-2e41-5def-b9a4-89aafe57970f\"\n",
      "version = \"0.9.18\"\n",
      "\n",
      "[[deps.Future]]\n",
      "deps = [\"Random\"]\n",
      "uuid = \"9fa8497b-333b-5362-9e8d-4d0656e87820\"\n",
      "\n",
      "[[deps.InlineStrings]]\n",
      "deps = [\"Parsers\"]\n",
      "git-tree-sha1 = \"61feba885fac3a407465726d0c330b3055df897f\"\n",
      "uuid = \"842dd82b-1e85-43dc-bf29-5d0ee9dffc48\"\n",
      "version = \"1.1.2\"\n",
      "\n",
      "[[deps.InteractiveUtils]]\n",
      "deps = [\"Markdown\"]\n",
      "uuid = \"b77e0a4c-d291-57a0-90e8-8db25a27a240\"\n",
      "\n",
      "[[deps.IteratorInterfaceExtensions]]\n",
      "git-tree-sha1 = \"a3f24677c21f5bbe9d2a714f95dcd58337fb2856\"\n",
      "uuid = \"82899510-4779-5014-852e-03e436cf321d\"\n",
      "version = \"1.0.0\"\n",
      "\n",
      "[[deps.LibCURL]]\n",
      "deps = [\"LibCURL_jll\", \"MozillaCACerts_jll\"]\n",
      "uuid = \"b27032c2-a3e7-50c8-80cd-2d36dbcbfd21\"\n",
      "\n",
      "[[deps.LibCURL_jll]]\n",
      "deps = [\"Artifacts\", \"LibSSH2_jll\", \"Libdl\", \"MbedTLS_jll\", \"Zlib_jll\", \"nghttp2_jll\"]\n",
      "uuid = \"deac9b47-8bc7-5906-a0fe-35ac56dc84c0\"\n",
      "\n",
      "[[deps.LibGit2]]\n",
      "deps = [\"Base64\", \"NetworkOptions\", \"Printf\", \"SHA\"]\n",
      "uuid = \"76f85450-5226-5b5a-8eaa-529ad045b433\"\n",
      "\n",
      "[[deps.LibSSH2_jll]]\n",
      "deps = [\"Artifacts\", \"Libdl\", \"MbedTLS_jll\"]\n",
      "uuid = \"29816b5a-b9ab-546f-933c-edad1886dfa8\"\n",
      "\n",
      "[[deps.Libdl]]\n",
      "uuid = \"8f399da3-3557-5675-b5ff-fb832c97cbdb\"\n",
      "\n",
      "[[deps.LinearAlgebra]]\n",
      "deps = [\"Libdl\", \"libblastrampoline_jll\"]\n",
      "uuid = \"37e2e46d-f89d-539d-b4ee-838fcccc9c8e\"\n",
      "\n",
      "[[deps.Logging]]\n",
      "uuid = \"56ddb016-857b-54e1-b83d-db4d58db5568\"\n",
      "\n",
      "[[deps.Markdown]]\n",
      "deps = [\"Base64\"]\n",
      "uuid = \"d6f4376e-aef5-505a-96c1-9c027394607a\"\n",
      "\n",
      "[[deps.MbedTLS_jll]]\n",
      "deps = [\"Artifacts\", \"Libdl\"]\n",
      "uuid = \"c8ffd9c3-330d-5841-b78e-0817d7145fa1\"\n",
      "\n",
      "[[deps.Mmap]]\n",
      "uuid = \"a63ad114-7e13-5084-954f-fe012c677804\"\n",
      "\n",
      "[[deps.MozillaCACerts_jll]]\n",
      "uuid = \"14a3606d-f60d-562e-9121-12d972cd8159\"\n",
      "\n",
      "[[deps.NetworkOptions]]\n",
      "uuid = \"ca575930-c2e3-43a9-ace4-1e988b2c1908\"\n",
      "\n",
      "[[deps.OpenBLAS_jll]]\n",
      "deps = [\"Artifacts\", \"CompilerSupportLibraries_jll\", \"Libdl\"]\n",
      "uuid = \"4536629a-c528-5b80-bd46-f80d51c5b363\"\n",
      "\n",
      "[[deps.OrderedCollections]]\n",
      "git-tree-sha1 = \"85f8e6578bf1f9ee0d11e7bb1b1456435479d47c\"\n",
      "uuid = \"bac558e1-5e72-5ebc-8fee-abe8a469f55d\"\n",
      "version = \"1.4.1\"\n",
      "\n",
      "[[deps.Parsers]]\n",
      "deps = [\"Dates\"]\n",
      "git-tree-sha1 = \"621f4f3b4977325b9128d5fae7a8b4829a0c2222\"\n",
      "uuid = \"69de0a69-1ddd-5017-9359-2bf0b02dc9f0\"\n",
      "version = \"2.2.4\"\n",
      "\n",
      "[[deps.Pkg]]\n",
      "deps = [\"Artifacts\", \"Dates\", \"Downloads\", \"LibGit2\", \"Libdl\", \"Logging\", \"Markdown\", \"Printf\", \"REPL\", \"Random\", \"SHA\", \"Serialization\", \"TOML\", \"Tar\", \"UUIDs\", \"p7zip_jll\"]\n",
      "uuid = \"44cfe95a-1eb2-52ea-b672-e2afdf69b78f\"\n",
      "\n",
      "[[deps.PooledArrays]]\n",
      "deps = [\"DataAPI\", \"Future\"]\n",
      "git-tree-sha1 = \"28ef6c7ce353f0b35d0df0d5930e0d072c1f5b9b\"\n",
      "uuid = \"2dfb63ee-cc39-5dd5-95bd-886bf059d720\"\n",
      "version = \"1.4.1\"\n",
      "\n",
      "[[deps.Printf]]\n",
      "deps = [\"Unicode\"]\n",
      "uuid = \"de0858da-6303-5e67-8744-51eddeeeb8d7\"\n",
      "\n",
      "[[deps.REPL]]\n",
      "deps = [\"InteractiveUtils\", \"Markdown\", \"Sockets\", \"Unicode\"]\n",
      "uuid = \"3fa0cd96-eef1-5676-8a61-b3b8758bbffb\"\n",
      "\n",
      "[[deps.Random]]\n",
      "deps = [\"SHA\", \"Serialization\"]\n",
      "uuid = \"9a3f8284-a2c9-5f02-9a11-845980a1fd5c\"\n",
      "\n",
      "[[deps.SHA]]\n",
      "uuid = \"ea8e919c-243c-51af-8825-aaa63cd721ce\"\n",
      "\n",
      "[[deps.SentinelArrays]]\n",
      "deps = [\"Dates\", \"Random\"]\n",
      "git-tree-sha1 = \"6a2f7d70512d205ca8c7ee31bfa9f142fe74310c\"\n",
      "uuid = \"91c51154-3ec4-41a3-a24f-3f23e20d615c\"\n",
      "version = \"1.3.12\"\n",
      "\n",
      "[[deps.Serialization]]\n",
      "uuid = \"9e88b42a-f829-5b0c-bbe9-9e923198166b\"\n",
      "\n",
      "[[deps.SharedArrays]]\n",
      "deps = [\"Distributed\", \"Mmap\", \"Random\", \"Serialization\"]\n",
      "uuid = \"1a1011a3-84de-559e-8e89-a11a2f7dc383\"\n",
      "\n",
      "[[deps.Sockets]]\n",
      "uuid = \"6462fe0b-24de-5631-8697-dd941f90decc\"\n",
      "\n",
      "[[deps.SparseArrays]]\n",
      "deps = [\"LinearAlgebra\", \"Random\"]\n",
      "uuid = \"2f01184e-e22b-5df5-ae63-d93ebab69eaf\"\n",
      "\n",
      "[[deps.Statistics]]\n",
      "deps = [\"LinearAlgebra\", \"SparseArrays\"]\n",
      "uuid = \"10745b16-79ce-11e8-11f9-7d13ad32a3b2\"\n",
      "\n",
      "[[deps.TOML]]\n",
      "deps = [\"Dates\"]\n",
      "uuid = \"fa267f1f-6049-4f14-aa54-33bafae1ed76\"\n",
      "\n",
      "[[deps.TableTraits]]\n",
      "deps = [\"IteratorInterfaceExtensions\"]\n",
      "git-tree-sha1 = \"c06b2f539df1c6efa794486abfb6ed2022561a39\"\n",
      "uuid = \"3783bdb8-4a98-5b6b-af9a-565f29a5fe9c\"\n",
      "version = \"1.0.1\"\n",
      "\n",
      "[[deps.Tables]]\n",
      "deps = [\"DataAPI\", \"DataValueInterfaces\", \"IteratorInterfaceExtensions\", \"LinearAlgebra\", \"OrderedCollections\", \"TableTraits\", \"Test\"]\n",
      "git-tree-sha1 = \"5ce79ce186cc678bbb5c5681ca3379d1ddae11a1\"\n",
      "uuid = \"bd369af6-aec1-5ad0-b16a-f7cc5008161c\"\n",
      "version = \"1.7.0\"\n",
      "\n",
      "[[deps.Tar]]\n",
      "deps = [\"ArgTools\", \"SHA\"]\n",
      "uuid = \"a4e569a6-e804-4fa4-b0f3-eef7a1d5b13e\"\n",
      "\n",
      "[[deps.Test]]\n",
      "deps = [\"InteractiveUtils\", \"Logging\", \"Random\", \"Serialization\"]\n",
      "uuid = \"8dfed614-e22c-5e08-85e1-65c5234f0b40\"\n",
      "\n",
      "[[deps.TranscodingStreams]]\n",
      "deps = [\"Random\", \"Test\"]\n",
      "git-tree-sha1 = \"216b95ea110b5972db65aa90f88d8d89dcb8851c\"\n",
      "uuid = \"3bb67fe8-82b1-5028-8e26-92a6c54297fa\"\n",
      "version = \"0.9.6\"\n",
      "\n",
      "[[deps.UUIDs]]\n",
      "deps = [\"Random\", \"SHA\"]\n",
      "uuid = \"cf7118a7-6976-5b1a-9a39-7adc72f591a4\"\n",
      "\n",
      "[[deps.Unicode]]\n",
      "uuid = \"4ec0a83e-493e-50e2-b9ac-8f72acf5a8f5\"\n",
      "\n",
      "[[deps.WeakRefStrings]]\n",
      "deps = [\"DataAPI\", \"InlineStrings\", \"Parsers\"]\n",
      "git-tree-sha1 = \"b1be2855ed9ed8eac54e5caff2afcdb442d52c23\"\n",
      "uuid = \"ea10d353-3f73-51f8-a26c-33c1cb351aa5\"\n",
      "version = \"1.4.2\"\n",
      "\n",
      "[[deps.Zlib_jll]]\n",
      "deps = [\"Libdl\"]\n",
      "uuid = \"83775a58-1f1d-513f-b197-d71354ab007a\"\n",
      "\n",
      "[[deps.libblastrampoline_jll]]\n",
      "deps = [\"Artifacts\", \"Libdl\", \"OpenBLAS_jll\"]\n",
      "uuid = \"8e850b90-86db-534c-a0d3-1478176c7d93\"\n",
      "\n",
      "[[deps.nghttp2_jll]]\n",
      "deps = [\"Artifacts\", \"Libdl\"]\n",
      "uuid = \"8e850ede-7688-5339-a07c-302acd2aaf8d\"\n",
      "\n",
      "[[deps.p7zip_jll]]\n",
      "deps = [\"Artifacts\", \"Libdl\"]\n",
      "uuid = \"3f19e933-33d8-53b3-aaab-bd5110c3b7a0\"\n",
      "\n"
     ]
    }
   ],
   "source": [
    "println(read(\"Manifest.toml\", String))"
   ]
  },
  {
   "cell_type": "markdown",
   "id": "38d29f23-d3f7-4789-a281-200048959b2c",
   "metadata": {},
   "source": []
  }
 ],
 "metadata": {
  "kernelspec": {
   "display_name": "Julia 1.8.1",
   "language": "julia",
   "name": "julia-1.8"
  },
  "language_info": {
   "file_extension": ".jl",
   "mimetype": "application/julia",
   "name": "julia",
   "version": "1.8.1"
  }
 },
 "nbformat": 4,
 "nbformat_minor": 5
}
