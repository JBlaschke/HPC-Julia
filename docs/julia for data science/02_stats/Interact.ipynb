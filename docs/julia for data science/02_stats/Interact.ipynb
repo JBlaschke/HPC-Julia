{
 "cells": [
  {
   "cell_type": "markdown",
   "id": "b1a8538a-9bd6-4b32-ba92-01a037088c90",
   "metadata": {
    "slideshow": {
     "slide_type": "slide"
    },
    "tags": []
   },
   "source": [
    "# Interacting using Interact.jl\n",
    "([Back to Overview](../index.html#/0/4))"
   ]
  },
  {
   "cell_type": "markdown",
   "id": "e6ffa1d1-ef6e-43a3-ab02-0ffc9838ca85",
   "metadata": {
    "slideshow": {
     "slide_type": "fragment"
    },
    "tags": []
   },
   "source": [
    "Interact is currently broken, check out Pluto (`excercises/fridge/interactive.jl`) instead"
   ]
  },
  {
   "cell_type": "markdown",
   "id": "9f7e6eb6-aed6-43f8-84c0-05bab1c9c567",
   "metadata": {},
   "source": []
  }
 ],
 "metadata": {
  "kernelspec": {
   "display_name": "Julia 1.7.1",
   "language": "julia",
   "name": "julia-1.7"
  },
  "language_info": {
   "file_extension": ".jl",
   "mimetype": "application/julia",
   "name": "julia",
   "version": "1.7.1"
  }
 },
 "nbformat": 4,
 "nbformat_minor": 5
}
