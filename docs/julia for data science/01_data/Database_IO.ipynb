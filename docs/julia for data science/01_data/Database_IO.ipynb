{
 "cells": [
  {
   "cell_type": "markdown",
   "id": "a34f4b8e-f007-40f0-aebd-9a11ec273d8e",
   "metadata": {},
   "source": [
    "# Database I/O\n",
    "([Back to Overview](../index.html#/0/3))"
   ]
  }
 ],
 "metadata": {
  "kernelspec": {
   "display_name": "Julia 1.7.1",
   "language": "julia",
   "name": "julia-1.7"
  },
  "language_info": {
   "file_extension": ".jl",
   "mimetype": "application/julia",
   "name": "julia",
   "version": "1.7.1"
  }
 },
 "nbformat": 4,
 "nbformat_minor": 5
}
