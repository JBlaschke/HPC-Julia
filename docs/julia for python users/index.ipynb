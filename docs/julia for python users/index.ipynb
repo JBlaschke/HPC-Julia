{
 "cells": [
  {
   "cell_type": "markdown",
   "id": "northern-secretariat",
   "metadata": {
    "slideshow": {
     "slide_type": "slide"
    },
    "tags": []
   },
   "source": [
    "# Julia for Python Users\n",
    "\n",
    "Are you a Python user? Do you think it's the Bee's Knees? Well you should give\n",
    "Julia a try and be blown away by its features and speed.\n",
    "\n",
    "This presentation gives a gentle introduction to Julia. We assume you've got a\n",
    "basic understanding of Python (but not required)."
   ]
  },
  {
   "cell_type": "markdown",
   "id": "structural-consultancy",
   "metadata": {
    "slideshow": {
     "slide_type": "subslide"
    },
    "tags": []
   },
   "source": [
    "## A Gentle Introduction to Julia\n",
    "\n",
    "1. Getting Started: [Slides](00_intro/Getting%20Started.slides.html) [Notebook](00_intro/Getting%20Started.ipynb)\n",
    "2. Building Data Types (Classes): [Slides](00_intro/Data%20Types.slides.html) [Notebook](00_intro/Data%20Types.ipynb)\n",
    "\n",
    "Explore on [GitHub](https://github.com/JBlaschke/HPC-Julia/tree/main/docs/julia%20for%20python%20users/00_intro)"
   ]
  },
  {
   "cell_type": "markdown",
   "id": "reasonable-eugene",
   "metadata": {
    "slideshow": {
     "slide_type": "subslide"
    },
    "tags": []
   },
   "source": [
    "## Array Data\n",
    "\n",
    "1. Working With Arrays: [Slides](01_arrays/Array-Based%20Data%20Types.slides.html) [Notebook](01_arrays/Array-Based%20Data%20Types.ipynb)\n",
    "\n",
    "Explore on [GitHub](https://github.com/JBlaschke/HPC-Julia/tree/main/docs/julia%20for%20python%20users/01_arrays)"
   ]
  },
  {
   "cell_type": "markdown",
   "id": "competitive-ordering",
   "metadata": {
    "slideshow": {
     "slide_type": "subslide"
    },
    "tags": []
   },
   "source": [
    "## C API\n",
    "\n",
    "1. Calling Functions via the C-API: [Slides](02_capi/Calling%20C.slides.html) [Notebook](02_capi/Calling%20C.ipynb)\n",
    "\n",
    "Explore on [GitHub](https://github.com/JBlaschke/HPC-Julia/tree/main/docs/julia%20for%20python%20users/02_capi)"
   ]
  },
  {
   "cell_type": "markdown",
   "id": "cleared-offer",
   "metadata": {
    "slideshow": {
     "slide_type": "subslide"
    },
    "tags": []
   },
   "source": [
    "## Working In Parallel\n",
    "\n",
    "1. Distributed Computing: [Slides](03_parallel/Parallel.slides.html) [Notebook](03_parallel/Parallel.ipynb)\n",
    "\n",
    "Explore on [GitHub](https://github.com/JBlaschke/HPC-Julia/tree/main/docs/julia%20for%20python%20users/03_parallel)"
   ]
  },
  {
   "cell_type": "markdown",
   "id": "ignored-viewer",
   "metadata": {
    "slideshow": {
     "slide_type": "subslide"
    },
    "tags": []
   },
   "source": [
    "## What About Numba ?\n",
    "\n",
    "1. A Numba Example: [Slides](04_numba/Python.slides.html) [Notebook](04_numba/Python.ipynb)\n",
    "2. The same sgain, but in Julia: [Slides](04_numba/Julia.slides.html) [Notebook](04_numba/Julia.ipynb)\n",
    "\n",
    "Explore on [GitHub](https://github.com/JBlaschke/HPC-Julia/tree/main/docs/julia%20for%20python%20users/04_numba)"
   ]
  },
  {
   "cell_type": "markdown",
   "id": "recovered-worship",
   "metadata": {
    "slideshow": {
     "slide_type": "subslide"
    },
    "tags": []
   },
   "source": [
    "## Working with MPI\n",
    "\n",
    "1. MPI.jl Basics: [Slides](05_mpi/SharedArrays.slides.html) [Notebook](05_mpi/SharedArrays.ipynb)\n",
    "2. Using Distributed Arrays: [Slides](05_mpi/DistributedArrays.slides.html) [Notebook](05_mpi/DistributedArrays.ipynb)\n",
    "3. One-sided MPI Communication: [Slides](05_mpi/OneSided.slides.html) [Notebook](05_mpi/OneSided.ipynb)\n",
    "4. MPIArrays.jl Basics: [Slides](05_mpi/MPIArrays.slides.html) [Notebook](05_mpi/MPIArrays.ipynb)\n",
    "\n",
    "Explore on [GitHub](https://github.com/JBlaschke/HPC-Julia/tree/main/docs/julia%20for%20python%20users/05_mpi)"
   ]
  },
  {
   "cell_type": "markdown",
   "id": "criminal-thursday",
   "metadata": {},
   "source": [
    "## Working with GPUS\n",
    "\n",
    "Coming Soon: https://juliagpu.org/"
   ]
  }
 ],
 "metadata": {
  "kernelspec": {
   "display_name": "Julia 1.7.1",
   "language": "julia",
   "name": "julia-1.7"
  },
  "language_info": {
   "file_extension": ".jl",
   "mimetype": "application/julia",
   "name": "julia",
   "version": "1.7.1"
  }
 },
 "nbformat": 4,
 "nbformat_minor": 5
}
