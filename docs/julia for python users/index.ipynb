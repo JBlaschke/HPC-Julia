{
 "cells": [
  {
   "cell_type": "markdown",
   "id": "northern-secretariat",
   "metadata": {
    "slideshow": {
     "slide_type": "slide"
    },
    "tags": []
   },
   "source": [
    "# Julia for Python Users\n",
    "\n",
    "Are you a Python user? Do you think it's the Bee's Knees?"
   ]
  },
  {
   "cell_type": "markdown",
   "id": "7b9bb245-a820-41e1-8fb0-75eae2f97e60",
   "metadata": {
    "slideshow": {
     "slide_type": "fragment"
    },
    "tags": []
   },
   "source": [
    "Well you should give\n",
    "Julia a try and be blown away by its features and speed."
   ]
  },
  {
   "cell_type": "markdown",
   "id": "0a267a56-f035-41d2-a069-bf544f6c931a",
   "metadata": {
    "slideshow": {
     "slide_type": "subslide"
    },
    "tags": []
   },
   "source": [
    "This presentation gives a gentle introduction to Julia. We assume you've got a basic understanding of Python (but not required)."
   ]
  },
  {
   "cell_type": "markdown",
   "id": "1d2bf8b7-8f2c-43ee-b277-2ca3f8306cd9",
   "metadata": {
    "slideshow": {
     "slide_type": "fragment"
    },
    "tags": []
   },
   "source": [
    "The contents of this presentation is based on my 6-ish years of experience using Julia for scientific data processing (and for fun!). For deeper reading (including more HPC aspects) I, recommend:\n",
    "1. https://github.com/carstenbauer/JuliaHLRS22\n",
    "2. https://enccs.github.io/Julia-for-HPC/"
   ]
  },
  {
   "cell_type": "markdown",
   "id": "02cf382f-2aa3-4576-9eab-1568bf009819",
   "metadata": {
    "slideshow": {
     "slide_type": "subslide"
    },
    "tags": []
   },
   "source": [
    "## Outline"
   ]
  },
  {
   "cell_type": "markdown",
   "id": "e83c95fc-5693-4c56-86aa-17fee8214c55",
   "metadata": {
    "slideshow": {
     "slide_type": "fragment"
    },
    "tags": []
   },
   "source": [
    "This presentation gives a gentle introduction to Julia ith enough hands-on experience in Julia to start applying it to their own projects, or use Julia as a teaching tool in the classroom."
   ]
  },
  {
   "cell_type": "markdown",
   "id": "b888518e-0018-4174-bff1-dcda22fc6b9c",
   "metadata": {
    "slideshow": {
     "slide_type": "fragment"
    },
    "tags": []
   },
   "source": [
    "1. Gentle introduction to the Julia language\n",
    "2. Array Data\n",
    "3. C API\n",
    "4. Working in Parrallel"
   ]
  },
  {
   "cell_type": "markdown",
   "id": "structural-consultancy",
   "metadata": {
    "slideshow": {
     "slide_type": "subslide"
    },
    "tags": []
   },
   "source": [
    "## A Gentle Introduction to Julia\n",
    "\n",
    "1. Getting Started: [Slides](00_intro/Getting_Started.html) [Notebook](00_intro/Getting_Started.ipynb)\n",
    "2. The structure of a Julia Program (modules, control flow, and functions):  [Slides](00_intro/Program_Structure.html) [Notebook](00_intro/Program_Structure.ipynb)\n",
    "3. Methods, and Introspection: [Slides](00_intro/Methods_Introspection.html) [Notebook](00_intro/Methods_Introspection.ipynb)\n",
    "4. Structured Data Types (Classes): [Slides](00_intro/Data_Types.html) [Notebook](00_intro/Data_Types.ipynb)\n",
    "\n",
    "Explore on [GitHub](https://github.com/JBlaschke/HPC-Julia/tree/main/docs/julia%20for%20python%20users/00_intro)"
   ]
  },
  {
   "cell_type": "markdown",
   "id": "reasonable-eugene",
   "metadata": {
    "slideshow": {
     "slide_type": "subslide"
    },
    "tags": []
   },
   "source": [
    "## Array Data\n",
    "\n",
    "1. Working With Arrays: [Slides](01_arrays/Array-Based_Data_Types.html) [Notebook](01_arrays/Array-Based_Data_Types.ipynb)\n",
    "\n",
    "Explore on [GitHub](https://github.com/JBlaschke/HPC-Julia/tree/main/docs/julia%20for%20python%20users/01_arrays)"
   ]
  },
  {
   "cell_type": "markdown",
   "id": "competitive-ordering",
   "metadata": {
    "slideshow": {
     "slide_type": "subslide"
    },
    "tags": []
   },
   "source": [
    "## C API\n",
    "\n",
    "1. Calling Functions via the C-API: [Slides](02_capi/Calling_C.html) [Notebook](02_capi/Calling_C.ipynb)\n",
    "\n",
    "Explore on [GitHub](https://github.com/JBlaschke/HPC-Julia/tree/main/docs/julia%20for%20python%20users/02_capi)"
   ]
  },
  {
   "cell_type": "markdown",
   "id": "cleared-offer",
   "metadata": {
    "slideshow": {
     "slide_type": "subslide"
    },
    "tags": []
   },
   "source": [
    "## Working In Parallel\n",
    "\n",
    "1. Distributed Computing: [Slides](03_parallel/Parallel_Distributed.html) [Notebook](03_parallel/Parallel_Distributed.ipynb)\n",
    "2. Multi-Threaded Computing: [Slides](03_parallel/Parallel_Threaded.html) [Notebook](03_parallel/Parallel_Threaded.ipynb)\n",
    "\n",
    "Explore on [GitHub](https://github.com/JBlaschke/HPC-Julia/tree/main/docs/julia%20for%20python%20users/03_parallel)"
   ]
  },
  {
   "cell_type": "markdown",
   "id": "ignored-viewer",
   "metadata": {
    "slideshow": {
     "slide_type": "subslide"
    },
    "tags": []
   },
   "source": [
    "## What About Numba ?\n",
    "\n",
    "1. A Numba Example: [Slides](04_numba/Python.html) [Notebook](04_numba/Python.ipynb)\n",
    "2. The same again, but in Julia: [Slides](04_numba/Julia.html) [Notebook](04_numba/Julia.ipynb)\n",
    "\n",
    "Explore on [GitHub](https://github.com/JBlaschke/HPC-Julia/tree/main/docs/julia%20for%20python%20users/04_numba)"
   ]
  },
  {
   "cell_type": "markdown",
   "id": "recovered-worship",
   "metadata": {
    "slideshow": {
     "slide_type": "subslide"
    },
    "tags": []
   },
   "source": [
    "## Working with MPI\n",
    "\n",
    "1. MPI.jl Basics: [Slides](05_mpi/SharedArrays.html) [Notebook](05_mpi/SharedArrays.ipynb)\n",
    "2. Using Distributed Arrays: [Slides](05_mpi/DistributedArrays.html) [Notebook](05_mpi/DistributedArrays.ipynb)\n",
    "3. One-sided MPI Communication: [Slides](05_mpi/OneSided.html) [Notebook](05_mpi/OneSided.ipynb)\n",
    "4. MPIArrays.jl Basics: [Slides](05_mpi/MPIArrays.html) [Notebook](05_mpi/MPIArrays.ipynb)\n",
    "\n",
    "Explore on [GitHub](https://github.com/JBlaschke/HPC-Julia/tree/main/docs/julia%20for%20python%20users/05_mpi)"
   ]
  },
  {
   "cell_type": "markdown",
   "id": "criminal-thursday",
   "metadata": {
    "slideshow": {
     "slide_type": "subslide"
    },
    "tags": []
   },
   "source": [
    "## Working with GPUS\n",
    "\n",
    "1. CUDA.jl Basics: [Slides](06_gpu/CUDA.html) [Notebook](06_gpu/CUDA.ipynb)\n",
    "\n",
    "Explore on [GitHub](https://github.com/JBlaschke/HPC-Julia/tree/main/docs/julia%20for%20python%20users/06_cuda)"
   ]
  },
  {
   "cell_type": "code",
   "execution_count": null,
   "id": "9f7a3427-d790-494e-b75a-0c257d826def",
   "metadata": {},
   "outputs": [],
   "source": []
  }
 ],
 "metadata": {
  "kernelspec": {
   "display_name": "Julia 1.8.1",
   "language": "julia",
   "name": "julia-1.8"
  },
  "language_info": {
   "file_extension": ".jl",
   "mimetype": "application/julia",
   "name": "julia",
   "version": "1.8.1"
  }
 },
 "nbformat": 4,
 "nbformat_minor": 5
}
