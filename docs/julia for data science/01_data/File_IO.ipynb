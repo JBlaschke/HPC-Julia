{
 "cells": [
  {
   "cell_type": "markdown",
   "id": "a2c705e4-8d1c-456c-bcbf-b2655627c039",
   "metadata": {
    "slideshow": {
     "slide_type": "slide"
    },
    "tags": []
   },
   "source": [
    "# File I/O\n",
    "([Back to Overview](../index.html#/0/3))"
   ]
  },
  {
   "cell_type": "markdown",
   "id": "8a03de6c-0eeb-4338-bdde-26693448f97f",
   "metadata": {
    "slideshow": {
     "slide_type": "slide"
    },
    "tags": []
   },
   "source": [
    "## Read and Writing to Files Directly"
   ]
  },
  {
   "cell_type": "code",
   "execution_count": null,
   "id": "7bafd518-857b-4970-a083-1ff232ec40e7",
   "metadata": {},
   "outputs": [],
   "source": []
  }
 ],
 "metadata": {
  "kernelspec": {
   "display_name": "Julia 1.7.1",
   "language": "julia",
   "name": "julia-1.7"
  },
  "language_info": {
   "file_extension": ".jl",
   "mimetype": "application/julia",
   "name": "julia",
   "version": "1.7.1"
  }
 },
 "nbformat": 4,
 "nbformat_minor": 5
}
