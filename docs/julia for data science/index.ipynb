{
 "cells": [
  {
   "cell_type": "markdown",
   "id": "950abd48-72ed-4750-8b47-d97c34ea4ff2",
   "metadata": {
    "slideshow": {
     "slide_type": "slide"
    },
    "tags": []
   },
   "source": [
    "# Learning Data Science using Jupyter Notebooks and the Julia Language"
   ]
  },
  {
   "cell_type": "markdown",
   "id": "a0a71ebb-db03-4a45-be95-d2be9650b835",
   "metadata": {
    "slideshow": {
     "slide_type": "fragment"
    },
    "tags": []
   },
   "source": [
    "Are you a Data Scientist?"
   ]
  },
  {
   "cell_type": "markdown",
   "id": "fb53a4fc-b6b1-4fbe-b7d5-68a512af096b",
   "metadata": {
    "slideshow": {
     "slide_type": "fragment"
    },
    "tags": []
   },
   "source": [
    "(Or just interested in learning more about data science?)"
   ]
  },
  {
   "cell_type": "markdown",
   "id": "5b857e10-bbad-4f26-81ab-cf1d801fbe26",
   "metadata": {
    "slideshow": {
     "slide_type": "fragment"
    },
    "tags": []
   },
   "source": [
    "Are you a Python user? Do you think it's the Bee's Knees?"
   ]
  },
  {
   "cell_type": "markdown",
   "id": "59b7580f-b361-4f0f-a212-1a20043b21d0",
   "metadata": {
    "slideshow": {
     "slide_type": "fragment"
    },
    "tags": []
   },
   "source": [
    "Well you should give Julia a try and be blown away by its features and speed"
   ]
  },
  {
   "cell_type": "markdown",
   "id": "e4df2ab2-4e91-45de-9829-bc20c900ee62",
   "metadata": {
    "slideshow": {
     "slide_type": "subslide"
    },
    "tags": []
   },
   "source": [
    "## Outline"
   ]
  },
  {
   "cell_type": "markdown",
   "id": "603346b0-57b2-46ac-90bd-72b941cae9b8",
   "metadata": {
    "slideshow": {
     "slide_type": "fragment"
    },
    "tags": []
   },
   "source": [
    "This presentation gives a gentle introduction to Julia ith enough hands-on experience in Julia to start applying it to their own projects, or use Julia as a teaching tool in the classroom."
   ]
  },
  {
   "cell_type": "markdown",
   "id": "c586f6ac-9bb8-40b5-b194-ee0c4b7093fc",
   "metadata": {
    "slideshow": {
     "slide_type": "fragment"
    },
    "tags": []
   },
   "source": [
    "1. Gentle introduction to the Julia language\n",
    "2. Accessing and manipulating data\n",
    "3. Exploring data using interactive data visualization tools\n",
    "4. Exploring statistics, automatic differentiation and machine learning algorithms"
   ]
  },
  {
   "cell_type": "markdown",
   "id": "39f8305f-fa54-4b0d-a2a3-7d4ab4a9f419",
   "metadata": {
    "slideshow": {
     "slide_type": "subslide"
    },
    "tags": []
   },
   "source": [
    "## A Gentle Introduction to Julia\n",
    "\n",
    "1. Getting Started: [Slides](00_intro/Getting_Started.html) [Notebook](00_intro/Getting%20Started.ipynb)\n",
    "2. Control Flow and Functions:\n",
    "3. Structured Data Types (Classes): [Slides](00_intro/Data_Types.html) [Notebook](00_intro/Data%20Types.ipynb)\n",
    "\n",
    "Explore on [GitHub](https://github.com/JBlaschke/HPC-Julia/tree/main/docs/julia%20for%20python%20users/00_intro)"
   ]
  }
 ],
 "metadata": {
  "kernelspec": {
   "display_name": "Julia 1.7.1",
   "language": "julia",
   "name": "julia-1.7"
  },
  "language_info": {
   "file_extension": ".jl",
   "mimetype": "application/julia",
   "name": "julia",
   "version": "1.7.1"
  }
 },
 "nbformat": 4,
 "nbformat_minor": 5
}
