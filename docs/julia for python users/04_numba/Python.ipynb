{
 "cells": [
  {
   "cell_type": "code",
   "execution_count": 1,
   "id": "institutional-relation",
   "metadata": {
    "slideshow": {
     "slide_type": "skip"
    },
    "tags": []
   },
   "outputs": [
    {
     "name": "stdout",
     "output_type": "stream",
     "text": [
      "%pylab is deprecated, use %matplotlib inline and import the required libraries.\n",
      "Populating the interactive namespace from numpy and matplotlib\n"
     ]
    }
   ],
   "source": [
    "%pylab inline"
   ]
  },
  {
   "cell_type": "markdown",
   "id": "informal-donna",
   "metadata": {
    "slideshow": {
     "slide_type": "slide"
    },
    "tags": []
   },
   "source": [
    "# Numba Example\n",
    "\n",
    "([Back to Overview](../index.html#/0/7))\n",
    "\n",
    "JIT-compiled (thread) parallel python code: https://gist.github.com/safijari/fa4eba922cea19b3bc6a693fe2a97af7"
   ]
  },
  {
   "cell_type": "markdown",
   "id": "fourth-symbol",
   "metadata": {
    "slideshow": {
     "slide_type": "subslide"
    },
    "tags": []
   },
   "source": [
    "We want to solve a silly version of the (under) damped spring-mass problem\n",
    "\n",
    "![spring-mass](https://upload.wikimedia.org/wikipedia/commons/f/fa/Spring-mass_under-damped.gif)"
   ]
  },
  {
   "cell_type": "code",
   "execution_count": 2,
   "id": "engaged-alloy",
   "metadata": {
    "slideshow": {
     "slide_type": "subslide"
    },
    "tags": []
   },
   "outputs": [],
   "source": [
    "def friction_fn(v, vt):\n",
    "    if v > vt:\n",
    "        return - v * 3\n",
    "    else:\n",
    "        return - vt * 3 * np.sign(v)\n",
    "\n",
    "\n",
    "def simulate_spring_mass_funky_damper(x0, T=10, dt=0.0001, vt=1.0):\n",
    "    times = np.arange(0, T, dt)\n",
    "    positions = np.zeros_like(times)\n",
    "\n",
    "    v = 0\n",
    "    a = 0\n",
    "    x = x0\n",
    "    positions[0] = x0/x0\n",
    "\n",
    "    for ii in range(len(times)):\n",
    "        if ii == 0:\n",
    "            continue\n",
    "        t = times[ii]\n",
    "        a = friction_fn(v, vt) - 100*x\n",
    "        v = v + a*dt\n",
    "        x = x + v*dt\n",
    "        positions[ii] = x/x0\n",
    "\n",
    "    return times, positions"
   ]
  },
  {
   "cell_type": "code",
   "execution_count": 3,
   "id": "hairy-pottery",
   "metadata": {
    "slideshow": {
     "slide_type": "fragment"
    },
    "tags": []
   },
   "outputs": [],
   "source": [
    "plot(*simulate_spring_mass_funky_damper(0.1))\n",
    "plot(*simulate_spring_mass_funky_damper(1))\n",
    "plot(*simulate_spring_mass_funky_damper(10))\n",
    "legend(['0.1', '1', '10'])\n",
    "\n",
    "savefig(\"ts_python.png\")\n",
    "close()"
   ]
  },
  {
   "cell_type": "markdown",
   "id": "exempt-pressure",
   "metadata": {
    "slideshow": {
     "slide_type": "subslide"
    },
    "tags": []
   },
   "source": [
    "This code generates a time series of the (normalized) position given its different initial position:\n",
    "\n",
    "![ts](ts_python.png)"
   ]
  },
  {
   "cell_type": "code",
   "execution_count": 4,
   "id": "complex-isaac",
   "metadata": {
    "slideshow": {
     "slide_type": "fragment"
    },
    "tags": []
   },
   "outputs": [
    {
     "name": "stdout",
     "output_type": "stream",
     "text": [
      "CPU times: user 232 ms, sys: 4.7 ms, total: 237 ms\n",
      "Wall time: 236 ms\n"
     ]
    }
   ],
   "source": [
    "%time _ = simulate_spring_mass_funky_damper(1)"
   ]
  },
  {
   "cell_type": "markdown",
   "id": "random-hunter",
   "metadata": {
    "slideshow": {
     "slide_type": "slide"
    },
    "tags": []
   },
   "source": [
    "## Compile with Numba\n",
    "\n",
    "Remember to use the `njit` decorator, to disable (slow) python support"
   ]
  },
  {
   "cell_type": "code",
   "execution_count": 5,
   "id": "impaired-denver",
   "metadata": {
    "slideshow": {
     "slide_type": "fragment"
    },
    "tags": []
   },
   "outputs": [],
   "source": [
    "from numba import njit"
   ]
  },
  {
   "cell_type": "code",
   "execution_count": 6,
   "id": "systematic-representative",
   "metadata": {
    "slideshow": {
     "slide_type": "fragment"
    },
    "tags": []
   },
   "outputs": [],
   "source": [
    "@njit\n",
    "def numba_friction_fn(v, vt):\n",
    "    if v > vt:\n",
    "        return - v * 3\n",
    "    else:\n",
    "        return - vt * 3 * np.sign(v)\n",
    "\n",
    "@njit\n",
    "def numba_simulate_spring_mass_funky_damper(x0, T=10, dt=0.0001, vt=1.0):\n",
    "    times = np.arange(0, T, dt)\n",
    "    positions = np.zeros_like(times)\n",
    "    \n",
    "    v = 0\n",
    "    a = 0\n",
    "    x = x0\n",
    "    positions[0] = x0/x0\n",
    "    \n",
    "    for ii in range(len(times)):\n",
    "        if ii == 0:\n",
    "            continue\n",
    "        t = times[ii]\n",
    "        a = numba_friction_fn(v, vt) - 100*x\n",
    "        v = v + a*dt\n",
    "        x = x + v*dt\n",
    "        positions[ii] = x/x0\n",
    "    return times, positions"
   ]
  },
  {
   "cell_type": "code",
   "execution_count": 7,
   "id": "appointed-address",
   "metadata": {
    "slideshow": {
     "slide_type": "skip"
    },
    "tags": []
   },
   "outputs": [],
   "source": [
    "_ = numba_simulate_spring_mass_funky_damper(0.1)"
   ]
  },
  {
   "cell_type": "code",
   "execution_count": 8,
   "id": "spanish-newfoundland",
   "metadata": {
    "slideshow": {
     "slide_type": "skip"
    },
    "tags": []
   },
   "outputs": [],
   "source": [
    "_, ax = subplots(nrows=1, ncols=2, sharey=True, figsize=(12,5))\n",
    "\n",
    "ax[0].plot(*numba_simulate_spring_mass_funky_damper(0.1))\n",
    "ax[0].plot(*numba_simulate_spring_mass_funky_damper(1))\n",
    "ax[0].plot(*numba_simulate_spring_mass_funky_damper(10))\n",
    "ax[0].legend(['0.1', '1', '10'])\n",
    "\n",
    "ax[1].plot(*simulate_spring_mass_funky_damper(0.1))\n",
    "ax[1].plot(*simulate_spring_mass_funky_damper(1))\n",
    "ax[1].plot(*simulate_spring_mass_funky_damper(10))\n",
    "ax[1].legend(['0.1', '1', '10'])\n",
    "\n",
    "savefig(\"ts_numba.png\")\n",
    "close()"
   ]
  },
  {
   "cell_type": "markdown",
   "id": "centered-decision",
   "metadata": {
    "slideshow": {
     "slide_type": "subslide"
    },
    "tags": []
   },
   "source": [
    "Numba-generated a time series (left) vs original python version (right):\n",
    "\n",
    "![ts](ts_numba.png)"
   ]
  },
  {
   "cell_type": "code",
   "execution_count": 9,
   "id": "turkish-wilderness",
   "metadata": {
    "slideshow": {
     "slide_type": "fragment"
    },
    "tags": []
   },
   "outputs": [
    {
     "name": "stdout",
     "output_type": "stream",
     "text": [
      "CPU times: user 213 ms, sys: 2.8 ms, total: 216 ms\n",
      "Wall time: 215 ms\n"
     ]
    }
   ],
   "source": [
    "%time _ = simulate_spring_mass_funky_damper(1)"
   ]
  },
  {
   "cell_type": "code",
   "execution_count": 10,
   "id": "atomic-protein",
   "metadata": {
    "slideshow": {
     "slide_type": "fragment"
    },
    "tags": []
   },
   "outputs": [
    {
     "name": "stdout",
     "output_type": "stream",
     "text": [
      "CPU times: user 1.33 ms, sys: 45 µs, total: 1.37 ms\n",
      "Wall time: 1.4 ms\n"
     ]
    }
   ],
   "source": [
    "%time _ = numba_simulate_spring_mass_funky_damper(1)"
   ]
  }
 ],
 "metadata": {
  "kernelspec": {
   "display_name": "Python 3 (ipykernel)",
   "language": "python",
   "name": "python3"
  },
  "language_info": {
   "codemirror_mode": {
    "name": "ipython",
    "version": 3
   },
   "file_extension": ".py",
   "mimetype": "text/x-python",
   "name": "python",
   "nbconvert_exporter": "python",
   "pygments_lexer": "ipython3",
   "version": "3.9.14"
  }
 },
 "nbformat": 4,
 "nbformat_minor": 5
}
