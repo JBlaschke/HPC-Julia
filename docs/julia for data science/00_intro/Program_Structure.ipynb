{
 "cells": [
  {
   "cell_type": "markdown",
   "id": "cced748d-7fb4-485a-958e-5a14ef94e64f",
   "metadata": {
    "slideshow": {
     "slide_type": "slide"
    },
    "tags": []
   },
   "source": [
    "# The Structure of a Julia Program\n",
    "([Back to Overview](../index.html#/0/2))"
   ]
  },
  {
   "cell_type": "markdown",
   "id": "6cad4ff4-975f-4dc9-91c2-154154f35f78",
   "metadata": {
    "slideshow": {
     "slide_type": "slide"
    },
    "tags": []
   },
   "source": [
    "A Julia program is broken up into:\n",
    "1. Modules\n",
    "2. Functions\n",
    "3. Statements\n",
    "\n",
    "which organize code that can act on different data types.\n",
    "\n",
    "Let's look at each of these in turn."
   ]
  },
  {
   "cell_type": "markdown",
   "id": "1289fef4-432f-44fc-b2e0-1c591e069156",
   "metadata": {
    "slideshow": {
     "slide_type": "slide"
    },
    "tags": []
   },
   "source": [
    "## Modules"
   ]
  },
  {
   "cell_type": "markdown",
   "id": "68289867-0eee-4086-b81d-ddb2fdf16554",
   "metadata": {
    "slideshow": {
     "slide_type": "subslide"
    },
    "tags": []
   },
   "source": [
    "Modules encapsulate namespaces, and are similar to Python modules: https://docs.julialang.org/en/v1/manual/modules/"
   ]
  },
  {
   "cell_type": "markdown",
   "id": "b02b1848-34af-4331-9934-e99df70d5d8c",
   "metadata": {
    "slideshow": {
     "slide_type": "fragment"
    },
    "tags": []
   },
   "source": [
    "Created using the `module` keyword. They are frequently used to encapsulate source files into their own name-space:\n",
    "```julia\n",
    "module MyModule\n",
    "\n",
    "include(\"my_function.jl\")\n",
    "\n",
    "export my_func\n",
    "\n",
    "end\n",
    "```\n",
    "With the external source file `my_function.jl`:\n",
    "```julia\n",
    "function my_helper(...)\n",
    "    ...\n",
    "end\n",
    "\n",
    "function my_func(...)\n",
    "    ...\n",
    "    my_helper(...)\n",
    "    ...\n",
    "end\n",
    "```\n",
    "This hides `my_helper` from all functions outside of `MyModule`."
   ]
  },
  {
   "cell_type": "markdown",
   "id": "ef951a2d-a834-4edb-b0c2-82332ce9bf07",
   "metadata": {
    "slideshow": {
     "slide_type": "fragment"
    },
    "tags": []
   },
   "source": [
    "Note that unlike Python, modules do not necessarily need to be in seperate files or folders. Later we will see how code in one file can add to a preexisting module."
   ]
  },
  {
   "cell_type": "markdown",
   "id": "8419b9e6-538f-4d19-a0cd-a546d440eb72",
   "metadata": {
    "slideshow": {
     "slide_type": "subslide"
    },
    "tags": []
   },
   "source": [
    "Here is an example: Let's define two modules with the `hello` function:"
   ]
  },
  {
   "cell_type": "code",
   "execution_count": 1,
   "id": "ef177baf-db8b-432c-b2fb-35b8e68ea67e",
   "metadata": {
    "slideshow": {
     "slide_type": "fragment"
    },
    "tags": []
   },
   "outputs": [],
   "source": [
    "module ModuleA\n",
    "function hello()\n",
    "    println(\"Hi from A\")\n",
    "end\n",
    "end\n",
    "\n",
    "module ModuleB\n",
    "function hello()\n",
    "    println(\"Hi from B\")\n",
    "end\n",
    "end;"
   ]
  },
  {
   "cell_type": "markdown",
   "id": "101bf915-380f-4a8c-90ca-f921766b9e79",
   "metadata": {
    "slideshow": {
     "slide_type": "fragment"
    },
    "tags": []
   },
   "source": [
    "These can be called by using the `<Module Name>.<Function Name>` syntax:"
   ]
  },
  {
   "cell_type": "code",
   "execution_count": 2,
   "id": "8d0941d7-838c-44c4-bce0-4c929c0ec1f2",
   "metadata": {
    "slideshow": {
     "slide_type": "fragment"
    },
    "tags": []
   },
   "outputs": [
    {
     "name": "stdout",
     "output_type": "stream",
     "text": [
      "Hi from A\n"
     ]
    }
   ],
   "source": [
    "ModuleA.hello()"
   ]
  },
  {
   "cell_type": "code",
   "execution_count": 3,
   "id": "fa392f30-8f42-4200-8bf6-29098a433c74",
   "metadata": {
    "slideshow": {
     "slide_type": "fragment"
    },
    "tags": []
   },
   "outputs": [
    {
     "name": "stdout",
     "output_type": "stream",
     "text": [
      "Hi from B\n"
     ]
    }
   ],
   "source": [
    "ModuleB.hello()"
   ]
  },
  {
   "cell_type": "markdown",
   "id": "495eaa6f-1ff2-437e-afd2-adb3b76ebe79",
   "metadata": {
    "slideshow": {
     "slide_type": "slide"
    },
    "tags": []
   },
   "source": [
    "## Flow Control"
   ]
  },
  {
   "cell_type": "markdown",
   "id": "28aca31a-d26a-47ee-b44f-85e692323150",
   "metadata": {
    "slideshow": {
     "slide_type": "subslide"
    },
    "tags": []
   },
   "source": [
    "Flow control in Julia is very similar to popular programming languages C++ or Python -- we'll briefly look at them here. For more details, refer to the documentation here: https://docs.julialang.org/en/v1/manual/control-flow/#man-tasks"
   ]
  },
  {
   "cell_type": "markdown",
   "id": "5a1bb0d4-7bf8-4870-a75c-f1c10f2e2ef5",
   "metadata": {
    "slideshow": {
     "slide_type": "fragment"
    },
    "tags": []
   },
   "source": [
    "The main difference to other programming languages is that nested statements are begin with the statement keyword and end using the `end` keyword."
   ]
  },
  {
   "cell_type": "markdown",
   "id": "fcdeb53d-2e6d-41b2-8305-5f725a56370a",
   "metadata": {
    "slideshow": {
     "slide_type": "fragment"
    },
    "tags": []
   },
   "source": [
    "Note that the `do` expression is different from other languages (more about this in the `Functions` section later."
   ]
  },
  {
   "cell_type": "markdown",
   "id": "8ecf25ba-5352-47df-bbff-480d907414af",
   "metadata": {
    "slideshow": {
     "slide_type": "subslide"
    },
    "tags": []
   },
   "source": [
    "### Compound Expressions"
   ]
  },
  {
   "cell_type": "markdown",
   "id": "b7646ef0-3365-463d-9c4e-cbc6244f18be",
   "metadata": {
    "slideshow": {
     "slide_type": "fragment"
    },
    "tags": []
   },
   "source": [
    "Compound expressions (like a Python indentation block, or a C/C++ curly brace) are enclosed in `begin` and `end` statements."
   ]
  },
  {
   "cell_type": "code",
   "execution_count": 4,
   "id": "24024de0-3ca9-476d-8d19-3aa745963568",
   "metadata": {
    "slideshow": {
     "slide_type": "fragment"
    },
    "tags": []
   },
   "outputs": [
    {
     "name": "stdout",
     "output_type": "stream",
     "text": [
      "z = 3\n"
     ]
    }
   ],
   "source": [
    "z = begin\n",
    "    x = 1\n",
    "    y = 2 \n",
    "    x + y\n",
    "end\n",
    "\n",
    "@show z;"
   ]
  },
  {
   "cell_type": "markdown",
   "id": "136b2ba4-dea9-4c51-9ed9-431e2119a46c",
   "metadata": {
    "slideshow": {
     "slide_type": "subslide"
    },
    "tags": []
   },
   "source": [
    "Note that `begin` and `end` blocks are not their own scope (so not quite like a C curly brace):"
   ]
  },
  {
   "cell_type": "code",
   "execution_count": 6,
   "id": "6e9a89d9-8af1-417f-8c51-45a0f1013003",
   "metadata": {
    "slideshow": {
     "slide_type": "fragment"
    },
    "tags": []
   },
   "outputs": [
    {
     "name": "stdout",
     "output_type": "stream",
     "text": [
      "y = 2\n"
     ]
    },
    {
     "data": {
      "text/plain": [
       "2"
      ]
     },
     "execution_count": 6,
     "metadata": {},
     "output_type": "execute_result"
    }
   ],
   "source": [
    "@show y"
   ]
  },
  {
   "cell_type": "markdown",
   "id": "b2b91701-4e82-4176-a880-1368bacda6a5",
   "metadata": {
    "slideshow": {
     "slide_type": "subslide"
    },
    "tags": []
   },
   "source": [
    "### Conditional Evaluation"
   ]
  },
  {
   "cell_type": "markdown",
   "id": "b8861eb8-bfcb-40f3-9796-7f764f655a84",
   "metadata": {},
   "source": [
    "Conditional evaluation is done using and `if ... elseif ... else ... end` block:"
   ]
  },
  {
   "cell_type": "code",
   "execution_count": 8,
   "id": "fe4fe733-25f0-4af4-b1c6-5d301758efcc",
   "metadata": {
    "slideshow": {
     "slide_type": "fragment"
    },
    "tags": []
   },
   "outputs": [
    {
     "name": "stdout",
     "output_type": "stream",
     "text": [
      "x is less than y\n"
     ]
    }
   ],
   "source": [
    "x = 1\n",
    "y = 2\n",
    "if x < y\n",
    "    println(\"x is less than y\")\n",
    "elseif x > y\n",
    "    println(\"x is greater than y\")\n",
    "else\n",
    "    println(\"x is equal to y\")\n",
    "end"
   ]
  },
  {
   "cell_type": "markdown",
   "id": "c4e97646-eb7f-42db-8917-2774bb7f8cfe",
   "metadata": {
    "slideshow": {
     "slide_type": "subslide"
    },
    "tags": []
   },
   "source": [
    "Another popular conditional block is the terniary operator `a ? b : c`:"
   ]
  },
  {
   "cell_type": "code",
   "execution_count": 9,
   "id": "01496f15-eb14-42f0-bf81-0a30b583286b",
   "metadata": {
    "slideshow": {
     "slide_type": "fragment"
    },
    "tags": []
   },
   "outputs": [
    {
     "name": "stdout",
     "output_type": "stream",
     "text": [
      "x is less than y\n"
     ]
    }
   ],
   "source": [
    "x < y ? println(\"x is less than y\") : println(\"x is greater than, or equal to, y\")"
   ]
  },
  {
   "cell_type": "markdown",
   "id": "ba8aee19-db5b-45c5-b3ce-2062c3ad7966",
   "metadata": {
    "slideshow": {
     "slide_type": "subslide"
    },
    "tags": []
   },
   "source": [
    "### Short Circuit Evaluation"
   ]
  },
  {
   "cell_type": "markdown",
   "id": "67ec8799-8b04-4b6d-a480-af866e665681",
   "metadata": {
    "slideshow": {
     "slide_type": "fragment"
    },
    "tags": []
   },
   "source": [
    "The `&&` and `||` (logical and / or) evaluate only as much as is necessary to resolve the truth value of the expression. So they won't necessarily evaluate _both_ sides, depending on the state of the first statement. "
   ]
  },
  {
   "cell_type": "code",
   "execution_count": 15,
   "id": "f9f5ad0e-e692-4402-9059-966783cf4682",
   "metadata": {
    "slideshow": {
     "slide_type": "fragment"
    },
    "tags": []
   },
   "outputs": [
    {
     "name": "stdout",
     "output_type": "stream",
     "text": [
      "hi there\n"
     ]
    }
   ],
   "source": [
    "(x < y) && println(\"hi there\")"
   ]
  },
  {
   "cell_type": "code",
   "execution_count": 16,
   "id": "6494dc89-2e92-4e85-89c4-44b8ca341fcf",
   "metadata": {
    "slideshow": {
     "slide_type": "fragment"
    },
    "tags": []
   },
   "outputs": [
    {
     "data": {
      "text/plain": [
       "false"
      ]
     },
     "execution_count": 16,
     "metadata": {},
     "output_type": "execute_result"
    }
   ],
   "source": [
    "(x > y) && println(\"hi there\")"
   ]
  },
  {
   "cell_type": "markdown",
   "id": "28ee1a1d-be1e-410a-acf8-39039b9139d5",
   "metadata": {
    "slideshow": {
     "slide_type": "subslide"
    },
    "tags": []
   },
   "source": [
    "### Loops"
   ]
  },
  {
   "cell_type": "markdown",
   "id": "38ae0c52-86e1-4ea6-89bf-b55e3abac398",
   "metadata": {
    "slideshow": {
     "slide_type": "fragment"
    },
    "tags": []
   },
   "source": [
    "Use `for ... end` and `while ... end` as loops. `do ... end` is **not** a loop expression"
   ]
  },
  {
   "cell_type": "code",
   "execution_count": 20,
   "id": "75879199-1b3a-4c62-ae1e-b156cf6f1071",
   "metadata": {
    "slideshow": {
     "slide_type": "fragment"
    },
    "tags": []
   },
   "outputs": [
    {
     "name": "stdout",
     "output_type": "stream",
     "text": [
      "1,2,3,4,5,6,7,8,9,10,"
     ]
    }
   ],
   "source": [
    "for i in 1:10\n",
    "    print(i, \",\")\n",
    "end"
   ]
  },
  {
   "cell_type": "code",
   "execution_count": 22,
   "id": "e4fced89-fc73-4cda-af89-0df219f60dd0",
   "metadata": {
    "slideshow": {
     "slide_type": "fragment"
    },
    "tags": []
   },
   "outputs": [
    {
     "name": "stdout",
     "output_type": "stream",
     "text": [
      "0,1,2,3,4,5,6,7,8,9,"
     ]
    }
   ],
   "source": [
    "i = 0\n",
    "while i < 10\n",
    "    print(i, \",\")\n",
    "    i += 1\n",
    "end"
   ]
  },
  {
   "cell_type": "code",
   "execution_count": null,
   "id": "9c6d8e94-23d3-4fc6-9a1e-1fd7bea0c25b",
   "metadata": {},
   "outputs": [],
   "source": [
    "Try/Catch"
   ]
  },
  {
   "cell_type": "code",
   "execution_count": null,
   "id": "75c00813-edc9-4f8e-be7b-ae74d5c9af03",
   "metadata": {},
   "outputs": [],
   "source": [
    "Asynchronous programming: https://docs.julialang.org/en/v1/manual/asynchronous-programming/#man-asynchronous"
   ]
  },
  {
   "cell_type": "markdown",
   "id": "eb72f1e8-c3de-4967-9cba-8fcee978e3eb",
   "metadata": {
    "slideshow": {
     "slide_type": "slide"
    },
    "tags": []
   },
   "source": [
    "## Functions"
   ]
  },
  {
   "cell_type": "markdown",
   "id": "0f251f28-ee5a-40c8-9b51-c12dd2ed5cd1",
   "metadata": {
    "slideshow": {
     "slide_type": "subslide"
    },
    "tags": []
   },
   "source": [
    "The `function` keyword is used to declare a (multi-line) function. **The last statement is automatically returned**. Intermediate returns can be triggered using the `return` keyword"
   ]
  },
  {
   "cell_type": "code",
   "execution_count": 1,
   "id": "1b002f92-6661-4db3-993a-fc6e67ebf246",
   "metadata": {
    "slideshow": {
     "slide_type": "fragment"
    },
    "tags": []
   },
   "outputs": [
    {
     "data": {
      "text/plain": [
       "fib_1 (generic function with 1 method)"
      ]
     },
     "execution_count": 1,
     "metadata": {},
     "output_type": "execute_result"
    }
   ],
   "source": [
    "function fib_1(n)\n",
    "    if n <= 2\n",
    "        return 1\n",
    "    end\n",
    "\n",
    "    fib_1(n - 1) + fib_1(n - 2)\n",
    "end"
   ]
  },
  {
   "cell_type": "code",
   "execution_count": 2,
   "id": "8b9964e4-149b-418d-a96c-ab03424574e3",
   "metadata": {
    "slideshow": {
     "slide_type": "fragment"
    },
    "tags": []
   },
   "outputs": [
    {
     "data": {
      "text/plain": [
       "2178309"
      ]
     },
     "execution_count": 2,
     "metadata": {},
     "output_type": "execute_result"
    }
   ],
   "source": [
    "fib_1(32)"
   ]
  },
  {
   "cell_type": "markdown",
   "id": "7c444140-5f3e-4b49-818a-2f874944a1e9",
   "metadata": {
    "slideshow": {
     "slide_type": "subslide"
    },
    "tags": []
   },
   "source": [
    "Functions can also be defined using a single line of code:"
   ]
  },
  {
   "cell_type": "code",
   "execution_count": 4,
   "id": "e0d7e743-530b-431b-a1ac-6aa4b96acd4a",
   "metadata": {
    "slideshow": {
     "slide_type": "fragment"
    },
    "tags": []
   },
   "outputs": [
    {
     "data": {
      "text/plain": [
       "f (generic function with 1 method)"
      ]
     },
     "execution_count": 4,
     "metadata": {},
     "output_type": "execute_result"
    }
   ],
   "source": [
    "f(x) = 2x"
   ]
  },
  {
   "cell_type": "code",
   "execution_count": 5,
   "id": "b810d1b6-df55-4c01-808e-31d08f16c127",
   "metadata": {
    "slideshow": {
     "slide_type": "fragment"
    },
    "tags": []
   },
   "outputs": [
    {
     "data": {
      "text/plain": [
       "6"
      ]
     },
     "execution_count": 5,
     "metadata": {},
     "output_type": "execute_result"
    }
   ],
   "source": [
    "f(3)"
   ]
  },
  {
   "cell_type": "code",
   "execution_count": 27,
   "id": "b508c859-e19d-4278-8ce6-7cf485a1f771",
   "metadata": {},
   "outputs": [
    {
     "data": {
      "text/plain": [
       "fn (generic function with 1 method)"
      ]
     },
     "execution_count": 27,
     "metadata": {},
     "output_type": "execute_result"
    }
   ],
   "source": [
    "function fn(a, b)\n",
    "    a(b)\n",
    "end"
   ]
  },
  {
   "cell_type": "code",
   "execution_count": 30,
   "id": "869f26df-8867-4404-b398-e26e8c352457",
   "metadata": {},
   "outputs": [
    {
     "data": {
      "text/plain": [
       "13"
      ]
     },
     "execution_count": 30,
     "metadata": {},
     "output_type": "execute_result"
    }
   ],
   "source": [
    "fn(x->x+1, 12)"
   ]
  },
  {
   "cell_type": "code",
   "execution_count": 29,
   "id": "cc20b5e2-60b0-4d23-9468-6777ee78247c",
   "metadata": {},
   "outputs": [
    {
     "data": {
      "text/plain": [
       "13"
      ]
     },
     "execution_count": 29,
     "metadata": {},
     "output_type": "execute_result"
    }
   ],
   "source": [
    "fn(12) do x\n",
    "    x+1\n",
    "end"
   ]
  },
  {
   "cell_type": "code",
   "execution_count": null,
   "id": "f84352dd-7f32-461f-ad1f-02da8130dc83",
   "metadata": {},
   "outputs": [],
   "source": []
  }
 ],
 "metadata": {
  "kernelspec": {
   "display_name": "Julia 1.7.2",
   "language": "julia",
   "name": "julia-1.7"
  },
  "language_info": {
   "file_extension": ".jl",
   "mimetype": "application/julia",
   "name": "julia",
   "version": "1.7.2"
  }
 },
 "nbformat": 4,
 "nbformat_minor": 5
}
