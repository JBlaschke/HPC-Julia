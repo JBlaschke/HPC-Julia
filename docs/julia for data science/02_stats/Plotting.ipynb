{
 "cells": [
  {
   "cell_type": "markdown",
   "id": "449a9d71-ff0d-42d8-9dfe-625b4b1e75eb",
   "metadata": {
    "slideshow": {
     "slide_type": "slide"
    },
    "tags": []
   },
   "source": [
    "# Plotting using Plots.jl\n",
    "([Back to Overview](../index.html#/0/4))"
   ]
  },
  {
   "cell_type": "code",
   "execution_count": null,
   "id": "c61d6c65-0bdc-41b3-aceb-fabeba1380fc",
   "metadata": {},
   "outputs": [],
   "source": []
  }
 ],
 "metadata": {
  "kernelspec": {
   "display_name": "Julia 1.7.1",
   "language": "julia",
   "name": "julia-1.7"
  },
  "language_info": {
   "file_extension": ".jl",
   "mimetype": "application/julia",
   "name": "julia",
   "version": "1.7.1"
  }
 },
 "nbformat": 4,
 "nbformat_minor": 5
}
