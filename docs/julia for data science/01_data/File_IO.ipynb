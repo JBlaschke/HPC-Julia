{
 "cells": [
  {
   "cell_type": "markdown",
   "id": "a2c705e4-8d1c-456c-bcbf-b2655627c039",
   "metadata": {
    "slideshow": {
     "slide_type": "slide"
    },
    "tags": []
   },
   "source": [
    "# File I/O\n",
    "([Back to Overview](../index.html#/0/3))"
   ]
  },
  {
   "cell_type": "markdown",
   "id": "4dc261af-218f-4143-9712-5c2f3396149a",
   "metadata": {
    "slideshow": {
     "slide_type": "slide"
    },
    "tags": []
   },
   "source": [
    "## Interacting with the Filesystem"
   ]
  },
  {
   "cell_type": "markdown",
   "id": "77f29638-9a6e-492e-af02-1a8277a81dc2",
   "metadata": {
    "slideshow": {
     "slide_type": "subslide"
    },
    "tags": []
   },
   "source": [
    "A helpful trick: the `@__DIR__` macro gives us the directory of the current file (the `@__FILE__` macro gives us the full file path). In Jupyter it's equivalent toe `pwd()`"
   ]
  },
  {
   "cell_type": "code",
   "execution_count": 1,
   "id": "bd7a7f65-aed3-4f16-bf35-967a6e564190",
   "metadata": {
    "slideshow": {
     "slide_type": "fragment"
    },
    "tags": []
   },
   "outputs": [
    {
     "data": {
      "text/plain": [
       "\"/Users/blaschke/Developer/hpc-julia/docs/julia for data science/01_data\""
      ]
     },
     "execution_count": 1,
     "metadata": {},
     "output_type": "execute_result"
    }
   ],
   "source": [
    "@__DIR__"
   ]
  },
  {
   "cell_type": "markdown",
   "id": "4a43338e-6fc9-4a43-8bc5-04cb4a9102b2",
   "metadata": {
    "slideshow": {
     "slide_type": "subslide"
    },
    "tags": []
   },
   "source": [
    "Let's point the notebooks to our data source:"
   ]
  },
  {
   "cell_type": "code",
   "execution_count": 2,
   "id": "614b378f-054b-476a-a63d-a62574d47db1",
   "metadata": {
    "slideshow": {
     "slide_type": "fragment"
    },
    "tags": []
   },
   "outputs": [
    {
     "data": {
      "text/plain": [
       "\"/Users/blaschke/Developer/hpc-julia/docs/julia for data science/01_data/../../../exercises/covid/data\""
      ]
     },
     "execution_count": 2,
     "metadata": {},
     "output_type": "execute_result"
    }
   ],
   "source": [
    "data_directory = joinpath(@__DIR__, \"..\", \"..\", \"..\", \"exercises\", \"covid\", \"data\")"
   ]
  },
  {
   "cell_type": "markdown",
   "id": "2e96307e-bd76-471a-b955-fef2c92a7a03",
   "metadata": {
    "slideshow": {
     "slide_type": "subslide"
    },
    "tags": []
   },
   "source": [
    "Let's make a temporary working directory (ie. a scratch space):"
   ]
  },
  {
   "cell_type": "code",
   "execution_count": 3,
   "id": "9241b061-45ac-48d6-ad4d-2393c369ce95",
   "metadata": {
    "slideshow": {
     "slide_type": "fragment"
    },
    "tags": []
   },
   "outputs": [
    {
     "data": {
      "text/plain": [
       "\"/var/folders/gy/fk8y1bkd5b78l0n687jwhzkc0029yh/T/jl_H93q4P\""
      ]
     },
     "execution_count": 3,
     "metadata": {},
     "output_type": "execute_result"
    }
   ],
   "source": [
    "temp_directory = mktempdir()"
   ]
  },
  {
   "cell_type": "markdown",
   "id": "8a03de6c-0eeb-4338-bdde-26693448f97f",
   "metadata": {
    "slideshow": {
     "slide_type": "slide"
    },
    "tags": []
   },
   "source": [
    "## Read and Writing to Files Directly"
   ]
  },
  {
   "cell_type": "markdown",
   "id": "c77b2ba0-15f6-40b5-9ec7-e98dfc635a9d",
   "metadata": {
    "slideshow": {
     "slide_type": "fragment"
    },
    "tags": []
   },
   "source": [
    "This is really basic stuff -- you won't need to do this often at all, but it's good to see nonetheless."
   ]
  },
  {
   "cell_type": "markdown",
   "id": "d7c5b27f-f663-43fd-9ad9-713a0b61823a",
   "metadata": {
    "slideshow": {
     "slide_type": "fragment"
    },
    "tags": []
   },
   "source": [
    "First, let's make sure that the target directory is empty:"
   ]
  },
  {
   "cell_type": "code",
   "execution_count": 4,
   "id": "14ae6bbc-f163-4eaf-904e-f52ad28f20ca",
   "metadata": {
    "slideshow": {
     "slide_type": "fragment"
    },
    "tags": []
   },
   "outputs": [
    {
     "data": {
      "text/plain": [
       "String[]"
      ]
     },
     "execution_count": 4,
     "metadata": {},
     "output_type": "execute_result"
    }
   ],
   "source": [
    "readdir(temp_directory)"
   ]
  },
  {
   "cell_type": "markdown",
   "id": "248f6dec-d045-42f0-aef1-fbd378b9bbd2",
   "metadata": {
    "slideshow": {
     "slide_type": "subslide"
    },
    "tags": []
   },
   "source": [
    "Now we write a list of integers to `a.dat` in our `temp_directory`:"
   ]
  },
  {
   "cell_type": "code",
   "execution_count": 5,
   "id": "6e9bb7ab-b530-435c-9cc7-6bbe8958c3a1",
   "metadata": {
    "slideshow": {
     "slide_type": "fragment"
    },
    "tags": []
   },
   "outputs": [
    {
     "data": {
      "text/plain": [
       "\"/var/folders/gy/fk8y1bkd5b78l0n687jwhzkc0029yh/T/jl_H93q4P/a.dat\""
      ]
     },
     "execution_count": 5,
     "metadata": {},
     "output_type": "execute_result"
    }
   ],
   "source": [
    "file_path = joinpath(temp_directory, \"a.dat\")"
   ]
  },
  {
   "cell_type": "code",
   "execution_count": 6,
   "id": "4bf4696f-d361-4fea-8fea-73592a4ae424",
   "metadata": {
    "slideshow": {
     "slide_type": "fragment"
    },
    "tags": []
   },
   "outputs": [
    {
     "data": {
      "text/plain": [
       "3-element Vector{Int64}:\n",
       " 4\n",
       " 2\n",
       " 3"
      ]
     },
     "execution_count": 6,
     "metadata": {},
     "output_type": "execute_result"
    }
   ],
   "source": [
    "a = [4, 2, 3]"
   ]
  },
  {
   "cell_type": "code",
   "execution_count": 7,
   "id": "eb9253ab-11df-4459-b3e6-9977cd6c06a9",
   "metadata": {
    "slideshow": {
     "slide_type": "fragment"
    },
    "tags": []
   },
   "outputs": [
    {
     "data": {
      "text/plain": [
       "24"
      ]
     },
     "execution_count": 7,
     "metadata": {},
     "output_type": "execute_result"
    }
   ],
   "source": [
    "write(file_path, a)"
   ]
  },
  {
   "cell_type": "markdown",
   "id": "14b7e338-1d37-4766-ba68-af2f51f84425",
   "metadata": {
    "slideshow": {
     "slide_type": "subslide"
    },
    "tags": []
   },
   "source": [
    "There it is:"
   ]
  },
  {
   "cell_type": "code",
   "execution_count": 56,
   "id": "27379c55-55ca-4cf0-bcdb-0e4620de74dd",
   "metadata": {
    "slideshow": {
     "slide_type": "fragment"
    },
    "tags": []
   },
   "outputs": [
    {
     "data": {
      "text/plain": [
       "1-element Vector{String}:\n",
       " \"a.dat\""
      ]
     },
     "execution_count": 56,
     "metadata": {},
     "output_type": "execute_result"
    }
   ],
   "source": [
    "readdir(temp_directory)"
   ]
  },
  {
   "cell_type": "markdown",
   "id": "fded34de-b12f-4444-b498-2972a1513dec",
   "metadata": {
    "slideshow": {
     "slide_type": "subslide"
    },
    "tags": []
   },
   "source": [
    "Let's read it:"
   ]
  },
  {
   "cell_type": "code",
   "execution_count": 8,
   "id": "67f0c0b6-46b7-4c37-ae3e-5b6a049942ea",
   "metadata": {
    "slideshow": {
     "slide_type": "fragment"
    },
    "tags": []
   },
   "outputs": [
    {
     "data": {
      "text/plain": [
       "4"
      ]
     },
     "execution_count": 8,
     "metadata": {},
     "output_type": "execute_result"
    }
   ],
   "source": [
    "read(file_path, Int64)"
   ]
  },
  {
   "cell_type": "markdown",
   "id": "b039183f-00e7-49cf-b1f7-080c63df0998",
   "metadata": {
    "slideshow": {
     "slide_type": "fragment"
    },
    "tags": []
   },
   "source": [
    "Shoot! That only read the first integer! The problem is that `read` doesn't know where to stop, so it reads the data size which you _told_ it (`Int64`). For example, let's interpret the file as a null-terminated string:"
   ]
  },
  {
   "cell_type": "code",
   "execution_count": 11,
   "id": "a3fcd85c-fc08-4239-8c07-0527d785e36f",
   "metadata": {
    "slideshow": {
     "slide_type": "fragment"
    },
    "tags": []
   },
   "outputs": [
    {
     "data": {
      "text/plain": [
       "\"\\x04\\0\\0\\0\\0\\0\\0\\0\\x02\\0\\0\\0\\0\\0\\0\\0\\x03\\0\\0\\0\\0\\0\\0\\0\""
      ]
     },
     "execution_count": 11,
     "metadata": {},
     "output_type": "execute_result"
    }
   ],
   "source": [
    "read(file_path, String)"
   ]
  },
  {
   "cell_type": "markdown",
   "id": "c23f7ad9-bfaf-4d09-b420-56de5e7a1b3a",
   "metadata": {
    "slideshow": {
     "slide_type": "subslide"
    },
    "tags": []
   },
   "source": [
    "So to read an array of data, we need a loop that checks if we've reached the end of the file"
   ]
  },
  {
   "cell_type": "code",
   "execution_count": 12,
   "id": "35741642-b07a-4cee-99b5-55ebfd2ced9d",
   "metadata": {
    "slideshow": {
     "slide_type": "fragment"
    },
    "tags": []
   },
   "outputs": [
    {
     "name": "stdout",
     "output_type": "stream",
     "text": [
      "4,2,3,"
     ]
    }
   ],
   "source": [
    "open(file_path, \"r\") do io\n",
    "    while !eof(io)\n",
    "        print(read(io, Int64), \",\")\n",
    "    end\n",
    "end"
   ]
  },
  {
   "cell_type": "markdown",
   "id": "e7df00e0-d2e7-4535-b0ef-ff82d3cee6ae",
   "metadata": {
    "slideshow": {
     "slide_type": "slide"
    },
    "tags": []
   },
   "source": [
    "## JSON"
   ]
  },
  {
   "cell_type": "markdown",
   "id": "f5a2e65e-dad5-4e6e-8ca0-d81fd4d29f19",
   "metadata": {
    "slideshow": {
     "slide_type": "fragment"
    },
    "tags": []
   },
   "source": [
    "JSON is a really poular format for structured data. It's a bit clunky, but it's human readable, and pretty much every web API uses it, so we'll just have to live with the clunk. Check out the documentation here: https://github.com/JuliaIO/JSON.jl"
   ]
  },
  {
   "cell_type": "code",
   "execution_count": 13,
   "id": "2127c64f-b10d-4e6c-9016-350dcb5102b8",
   "metadata": {
    "slideshow": {
     "slide_type": "fragment"
    },
    "tags": []
   },
   "outputs": [],
   "source": [
    "using JSON"
   ]
  },
  {
   "cell_type": "markdown",
   "id": "9815b226-f692-4e42-85a2-11dbcd1e7e3b",
   "metadata": {
    "slideshow": {
     "slide_type": "subslide"
    },
    "tags": []
   },
   "source": [
    "Let's make a basic structured data object -- Eg. a dictionary:"
   ]
  },
  {
   "cell_type": "code",
   "execution_count": 16,
   "id": "84abedd3-b6fc-43bd-9912-b5a43727f990",
   "metadata": {
    "slideshow": {
     "slide_type": "fragment"
    },
    "tags": []
   },
   "outputs": [
    {
     "data": {
      "text/plain": [
       "Dict{String, Any} with 2 entries:\n",
       "  \"b\" => \"hello\"\n",
       "  \"a\" => 1"
      ]
     },
     "execution_count": 16,
     "metadata": {},
     "output_type": "execute_result"
    }
   ],
   "source": [
    "d = Dict(\n",
    "    \"a\"=>1,\n",
    "    \"b\"=>\"hello\"\n",
    ")"
   ]
  },
  {
   "cell_type": "markdown",
   "id": "864b9b70-e4ed-4322-a198-4f6c66c266a8",
   "metadata": {
    "slideshow": {
     "slide_type": "fragment"
    },
    "tags": []
   },
   "source": [
    "Which can be encoded as a JSON:"
   ]
  },
  {
   "cell_type": "code",
   "execution_count": 17,
   "id": "3bafee56-6a5a-4900-a298-5e41a7ff0faf",
   "metadata": {
    "slideshow": {
     "slide_type": "fragment"
    },
    "tags": []
   },
   "outputs": [
    {
     "data": {
      "text/plain": [
       "\"{\\\"b\\\":\\\"hello\\\",\\\"a\\\":1}\""
      ]
     },
     "execution_count": 17,
     "metadata": {},
     "output_type": "execute_result"
    }
   ],
   "source": [
    "json(d)"
   ]
  },
  {
   "cell_type": "markdown",
   "id": "1421b662-8239-49a7-a988-8991b8e81197",
   "metadata": {
    "slideshow": {
     "slide_type": "subslide"
    },
    "tags": []
   },
   "source": [
    "Which is just a string -- so we can read and write it as a string: "
   ]
  },
  {
   "cell_type": "code",
   "execution_count": 18,
   "id": "2a30465f-f72c-40c8-90e7-c7911ca799c1",
   "metadata": {
    "slideshow": {
     "slide_type": "fragment"
    },
    "tags": []
   },
   "outputs": [
    {
     "data": {
      "text/plain": [
       "19"
      ]
     },
     "execution_count": 18,
     "metadata": {},
     "output_type": "execute_result"
    }
   ],
   "source": [
    "json_file_path = joinpath(temp_directory, \"d.json\")\n",
    "write(json_file_path, json(d))"
   ]
  },
  {
   "cell_type": "markdown",
   "id": "b7010a9f-3d2c-42e5-b03d-d4a5c717a1a0",
   "metadata": {
    "slideshow": {
     "slide_type": "subslide"
    },
    "tags": []
   },
   "source": [
    "Which is just a string in a file, so we can read it as such."
   ]
  },
  {
   "cell_type": "code",
   "execution_count": 19,
   "id": "32bdf53d-86ba-46ca-a271-c5cf6aeb873c",
   "metadata": {
    "slideshow": {
     "slide_type": "fragment"
    },
    "tags": []
   },
   "outputs": [
    {
     "data": {
      "text/plain": [
       "Dict{String, Any} with 2 entries:\n",
       "  \"b\" => \"hello\"\n",
       "  \"a\" => 1"
      ]
     },
     "execution_count": 19,
     "metadata": {},
     "output_type": "execute_result"
    }
   ],
   "source": [
    "d_string = read(json_file_path, String)\n",
    "JSON.parse(d_string)"
   ]
  },
  {
   "cell_type": "markdown",
   "id": "5c498477-db2d-4580-83dd-ad67dca0a166",
   "metadata": {
    "slideshow": {
     "slide_type": "slide"
    },
    "tags": []
   },
   "source": [
    "## CSV"
   ]
  },
  {
   "cell_type": "markdown",
   "id": "98a2c2f5-7891-4cbb-a123-98fcb90ac7ce",
   "metadata": {},
   "source": [
    "CSV is another text-based format that is the defacto standard for sharing small to medium amounts of data. Check out the documentation here: https://csv.juliadata.org/stable/ and https://dataframes.juliadata.org/stable/"
   ]
  },
  {
   "cell_type": "code",
   "execution_count": 22,
   "id": "cc7f786c-e6bb-4020-914b-195bef82cf65",
   "metadata": {
    "slideshow": {
     "slide_type": "fragment"
    },
    "tags": []
   },
   "outputs": [],
   "source": [
    "using DataFrames\n",
    "using CSV"
   ]
  },
  {
   "cell_type": "markdown",
   "id": "e995a723-eb97-47e0-95e4-4f8a8a597da4",
   "metadata": {
    "slideshow": {
     "slide_type": "subslide"
    },
    "tags": []
   },
   "source": [
    "CSV is great for tabular data! And DataFrames are (imo) the best way to program against tabular data:"
   ]
  },
  {
   "cell_type": "code",
   "execution_count": 23,
   "id": "36dc0edb-820e-4017-a99c-4d226d91f919",
   "metadata": {
    "slideshow": {
     "slide_type": "fragment"
    },
    "tags": []
   },
   "outputs": [
    {
     "data": {
      "text/html": [
       "<div class=\"data-frame\"><p>0 rows × 3 columns</p><table class=\"data-frame\"><thead><tr><th></th><th>name</th><th>age</th><th>coffees</th></tr><tr><th></th><th title=\"String\">String</th><th title=\"Float64\">Float64</th><th title=\"Int64\">Int64</th></tr></thead><tbody></tbody></table></div>"
      ],
      "text/latex": [
       "\\begin{tabular}{r|ccc}\n",
       "\t& name & age & coffees\\\\\n",
       "\t\\hline\n",
       "\t& String & Float64 & Int64\\\\\n",
       "\t\\hline\n",
       "\\end{tabular}\n"
      ],
      "text/plain": [
       "\u001b[1m0×3 DataFrame\u001b[0m"
      ]
     },
     "execution_count": 23,
     "metadata": {},
     "output_type": "execute_result"
    }
   ],
   "source": [
    "df = DataFrame(name=String[], age=Float64[], coffees=Int64[])"
   ]
  },
  {
   "cell_type": "markdown",
   "id": "954f7239-2526-4a3d-977f-489a77598b96",
   "metadata": {
    "slideshow": {
     "slide_type": "subslide"
    },
    "tags": []
   },
   "source": [
    "Let's start adding data to our dataframe:"
   ]
  },
  {
   "cell_type": "code",
   "execution_count": 24,
   "id": "4424b817-2373-43a1-82d4-8f5829379cab",
   "metadata": {
    "slideshow": {
     "slide_type": "fragment"
    },
    "tags": []
   },
   "outputs": [
    {
     "data": {
      "text/html": [
       "<div class=\"data-frame\"><p>1 rows × 3 columns</p><table class=\"data-frame\"><thead><tr><th></th><th>name</th><th>age</th><th>coffees</th></tr><tr><th></th><th title=\"String\">String</th><th title=\"Float64\">Float64</th><th title=\"Int64\">Int64</th></tr></thead><tbody><tr><th>1</th><td>Johannes</td><td>36.5</td><td>10</td></tr></tbody></table></div>"
      ],
      "text/latex": [
       "\\begin{tabular}{r|ccc}\n",
       "\t& name & age & coffees\\\\\n",
       "\t\\hline\n",
       "\t& String & Float64 & Int64\\\\\n",
       "\t\\hline\n",
       "\t1 & Johannes & 36.5 & 10 \\\\\n",
       "\\end{tabular}\n"
      ],
      "text/plain": [
       "\u001b[1m1×3 DataFrame\u001b[0m\n",
       "\u001b[1m Row \u001b[0m│\u001b[1m name     \u001b[0m\u001b[1m age     \u001b[0m\u001b[1m coffees \u001b[0m\n",
       "\u001b[1m     \u001b[0m│\u001b[90m String   \u001b[0m\u001b[90m Float64 \u001b[0m\u001b[90m Int64   \u001b[0m\n",
       "─────┼────────────────────────────\n",
       "   1 │ Johannes     36.5       10"
      ]
     },
     "execution_count": 24,
     "metadata": {},
     "output_type": "execute_result"
    }
   ],
   "source": [
    "push!(df, (\"Johannes\", 36.5, 10))"
   ]
  },
  {
   "cell_type": "code",
   "execution_count": 25,
   "id": "fcb948e5-ab47-430d-9542-89647fdb8345",
   "metadata": {
    "slideshow": {
     "slide_type": "fragment"
    },
    "tags": []
   },
   "outputs": [
    {
     "data": {
      "text/html": [
       "<div class=\"data-frame\"><p>2 rows × 3 columns</p><table class=\"data-frame\"><thead><tr><th></th><th>name</th><th>age</th><th>coffees</th></tr><tr><th></th><th title=\"String\">String</th><th title=\"Float64\">Float64</th><th title=\"Int64\">Int64</th></tr></thead><tbody><tr><th>1</th><td>Johannes</td><td>36.5</td><td>10</td></tr><tr><th>2</th><td>Christin</td><td>34.1</td><td>2</td></tr></tbody></table></div>"
      ],
      "text/latex": [
       "\\begin{tabular}{r|ccc}\n",
       "\t& name & age & coffees\\\\\n",
       "\t\\hline\n",
       "\t& String & Float64 & Int64\\\\\n",
       "\t\\hline\n",
       "\t1 & Johannes & 36.5 & 10 \\\\\n",
       "\t2 & Christin & 34.1 & 2 \\\\\n",
       "\\end{tabular}\n"
      ],
      "text/plain": [
       "\u001b[1m2×3 DataFrame\u001b[0m\n",
       "\u001b[1m Row \u001b[0m│\u001b[1m name     \u001b[0m\u001b[1m age     \u001b[0m\u001b[1m coffees \u001b[0m\n",
       "\u001b[1m     \u001b[0m│\u001b[90m String   \u001b[0m\u001b[90m Float64 \u001b[0m\u001b[90m Int64   \u001b[0m\n",
       "─────┼────────────────────────────\n",
       "   1 │ Johannes     36.5       10\n",
       "   2 │ Christin     34.1        2"
      ]
     },
     "execution_count": 25,
     "metadata": {},
     "output_type": "execute_result"
    }
   ],
   "source": [
    "push!(df, (\"Christin\", 34.1, 2))"
   ]
  },
  {
   "cell_type": "markdown",
   "id": "5a17bed6-fdd2-47d3-a63d-358834abfe9b",
   "metadata": {
    "slideshow": {
     "slide_type": "subslide"
    },
    "tags": []
   },
   "source": [
    "Which we can now save to disk (again as text):"
   ]
  },
  {
   "cell_type": "code",
   "execution_count": 26,
   "id": "70ed3052-a3f7-4a33-b0b7-9bcf4e5df861",
   "metadata": {
    "slideshow": {
     "slide_type": "fragment"
    },
    "tags": []
   },
   "outputs": [
    {
     "data": {
      "text/plain": [
       "\"/var/folders/gy/fk8y1bkd5b78l0n687jwhzkc0029yh/T/jl_H93q4P/coffee.csv\""
      ]
     },
     "execution_count": 26,
     "metadata": {},
     "output_type": "execute_result"
    }
   ],
   "source": [
    "coffee_file_path = joinpath(temp_directory, \"coffee.csv\")\n",
    "CSV.write(coffee_file_path, df)"
   ]
  },
  {
   "cell_type": "code",
   "execution_count": 27,
   "id": "c5b6f473-a6e1-4d93-9461-c28b4b8bcf56",
   "metadata": {
    "slideshow": {
     "slide_type": "fragment"
    },
    "tags": []
   },
   "outputs": [
    {
     "data": {
      "text/plain": [
       "3-element Vector{String}:\n",
       " \"a.dat\"\n",
       " \"coffee.csv\"\n",
       " \"d.json\""
      ]
     },
     "execution_count": 27,
     "metadata": {},
     "output_type": "execute_result"
    }
   ],
   "source": [
    "readdir(temp_directory)"
   ]
  },
  {
   "cell_type": "markdown",
   "id": "4edd30a1-5e60-48c4-839e-59432b5ce1bd",
   "metadata": {
    "slideshow": {
     "slide_type": "subslide"
    },
    "tags": []
   },
   "source": [
    "Lets look at the CSV file's content:"
   ]
  },
  {
   "cell_type": "code",
   "execution_count": 20,
   "id": "856b3deb-bfe4-442f-965c-06c984d0f24e",
   "metadata": {
    "slideshow": {
     "slide_type": "fragment"
    },
    "tags": []
   },
   "outputs": [
    {
     "name": "stdout",
     "output_type": "stream",
     "text": [
      "name,age,coffees\n",
      "Johannes,37.5,10\n",
      "Christin,34.1,2\n"
     ]
    }
   ],
   "source": [
    "open(joinpath(temp_directory, \"coffee.csv\")) do io\n",
    "    for line in readlines(io)\n",
    "        println(line)\n",
    "    end\n",
    "end"
   ]
  },
  {
   "cell_type": "markdown",
   "id": "047501ef-4377-46c4-9391-a4a99284c11c",
   "metadata": {
    "slideshow": {
     "slide_type": "subslide"
    },
    "tags": []
   },
   "source": [
    "Loading a DataFrame from disk involves first creating a `CSV.File` object and then _piping_ it into a `DataFrame`"
   ]
  },
  {
   "cell_type": "code",
   "execution_count": 28,
   "id": "fcf37f19-950c-4625-8e49-6e90e13c35e3",
   "metadata": {
    "slideshow": {
     "slide_type": "fragment"
    },
    "tags": []
   },
   "outputs": [
    {
     "data": {
      "text/plain": [
       "2-element CSV.File:\n",
       " CSV.Row: (name = \"Johannes\", age = 36.5, coffees = 10)\n",
       " CSV.Row: (name = \"Christin\", age = 34.1, coffees = 2)"
      ]
     },
     "execution_count": 28,
     "metadata": {},
     "output_type": "execute_result"
    }
   ],
   "source": [
    "CSV.File(coffee_file_path)"
   ]
  },
  {
   "cell_type": "code",
   "execution_count": 31,
   "id": "483a5223-8860-47f5-b225-3e56240089dd",
   "metadata": {
    "slideshow": {
     "slide_type": "fragment"
    },
    "tags": []
   },
   "outputs": [
    {
     "data": {
      "text/html": [
       "<div class=\"data-frame\"><p>2 rows × 3 columns</p><table class=\"data-frame\"><thead><tr><th></th><th>name</th><th>age</th><th>coffees</th></tr><tr><th></th><th title=\"String15\">String15</th><th title=\"Float64\">Float64</th><th title=\"Int64\">Int64</th></tr></thead><tbody><tr><th>1</th><td>Johannes</td><td>36.5</td><td>10</td></tr><tr><th>2</th><td>Christin</td><td>34.1</td><td>2</td></tr></tbody></table></div>"
      ],
      "text/latex": [
       "\\begin{tabular}{r|ccc}\n",
       "\t& name & age & coffees\\\\\n",
       "\t\\hline\n",
       "\t& String15 & Float64 & Int64\\\\\n",
       "\t\\hline\n",
       "\t1 & Johannes & 36.5 & 10 \\\\\n",
       "\t2 & Christin & 34.1 & 2 \\\\\n",
       "\\end{tabular}\n"
      ],
      "text/plain": [
       "\u001b[1m2×3 DataFrame\u001b[0m\n",
       "\u001b[1m Row \u001b[0m│\u001b[1m name     \u001b[0m\u001b[1m age     \u001b[0m\u001b[1m coffees \u001b[0m\n",
       "\u001b[1m     \u001b[0m│\u001b[90m String15 \u001b[0m\u001b[90m Float64 \u001b[0m\u001b[90m Int64   \u001b[0m\n",
       "─────┼────────────────────────────\n",
       "   1 │ Johannes     36.5       10\n",
       "   2 │ Christin     34.1        2"
      ]
     },
     "execution_count": 31,
     "metadata": {},
     "output_type": "execute_result"
    }
   ],
   "source": [
    "CSV.File(coffee_file_path) |> DataFrame"
   ]
  },
  {
   "cell_type": "markdown",
   "id": "d0a9b72c-2c82-4dcf-ae4a-0501e0a08405",
   "metadata": {
    "slideshow": {
     "slide_type": "slide"
    },
    "tags": []
   },
   "source": [
    "## DataFrames"
   ]
  },
  {
   "cell_type": "markdown",
   "id": "6f755570-208d-44ef-ba02-7424f7cb8297",
   "metadata": {},
   "source": [
    "Let's read a more hefty data source:"
   ]
  },
  {
   "cell_type": "code",
   "execution_count": 30,
   "id": "4239e6bc-a477-492d-adb4-c26bf70e41a1",
   "metadata": {
    "slideshow": {
     "slide_type": "fragment"
    },
    "tags": []
   },
   "outputs": [
    {
     "data": {
      "text/plain": [
       "1-element Vector{String}:\n",
       " \"total-covid-cases-deaths-per-million.csv\""
      ]
     },
     "execution_count": 30,
     "metadata": {},
     "output_type": "execute_result"
    }
   ],
   "source": [
    "readdir(data_directory)"
   ]
  },
  {
   "cell_type": "markdown",
   "id": "17a79f12-3063-495b-821a-21d1053910a4",
   "metadata": {
    "slideshow": {
     "slide_type": "subslide"
    },
    "tags": []
   },
   "source": [
    "Which we can now read into a single `DataFrame`:"
   ]
  },
  {
   "cell_type": "code",
   "execution_count": 34,
   "id": "443cc55d-1bfb-4e0a-9e0c-3da9c974572f",
   "metadata": {
    "slideshow": {
     "slide_type": "fragment"
    },
    "tags": []
   },
   "outputs": [
    {
     "data": {
      "text/html": [
       "<div class=\"data-frame\"><p>141,467 rows × 5 columns (omitted printing of 1 columns)</p><table class=\"data-frame\"><thead><tr><th></th><th>Entity</th><th>Code</th><th>Day</th><th>Total confirmed deaths due to COVID-19 per million people</th></tr><tr><th></th><th title=\"String\">String</th><th title=\"String15\">String15</th><th title=\"Dates.Date\">Date</th><th title=\"Float64\">Float64</th></tr></thead><tbody><tr><th>1</th><td>Afghanistan</td><td>AFG</td><td>2020-03-23</td><td>0.025</td></tr><tr><th>2</th><td>Afghanistan</td><td>AFG</td><td>2020-03-24</td><td>0.025</td></tr><tr><th>3</th><td>Afghanistan</td><td>AFG</td><td>2020-03-25</td><td>0.025</td></tr><tr><th>4</th><td>Afghanistan</td><td>AFG</td><td>2020-03-26</td><td>0.05</td></tr><tr><th>5</th><td>Afghanistan</td><td>AFG</td><td>2020-03-27</td><td>0.05</td></tr><tr><th>6</th><td>Afghanistan</td><td>AFG</td><td>2020-03-28</td><td>0.05</td></tr><tr><th>7</th><td>Afghanistan</td><td>AFG</td><td>2020-03-29</td><td>0.1</td></tr><tr><th>8</th><td>Afghanistan</td><td>AFG</td><td>2020-03-30</td><td>0.1</td></tr><tr><th>9</th><td>Afghanistan</td><td>AFG</td><td>2020-03-31</td><td>0.1</td></tr><tr><th>10</th><td>Afghanistan</td><td>AFG</td><td>2020-04-01</td><td>0.1</td></tr><tr><th>11</th><td>Afghanistan</td><td>AFG</td><td>2020-04-02</td><td>0.1</td></tr><tr><th>12</th><td>Afghanistan</td><td>AFG</td><td>2020-04-03</td><td>0.126</td></tr><tr><th>13</th><td>Afghanistan</td><td>AFG</td><td>2020-04-04</td><td>0.126</td></tr><tr><th>14</th><td>Afghanistan</td><td>AFG</td><td>2020-04-05</td><td>0.176</td></tr><tr><th>15</th><td>Afghanistan</td><td>AFG</td><td>2020-04-06</td><td>0.176</td></tr><tr><th>16</th><td>Afghanistan</td><td>AFG</td><td>2020-04-07</td><td>0.276</td></tr><tr><th>17</th><td>Afghanistan</td><td>AFG</td><td>2020-04-08</td><td>0.351</td></tr><tr><th>18</th><td>Afghanistan</td><td>AFG</td><td>2020-04-09</td><td>0.377</td></tr><tr><th>19</th><td>Afghanistan</td><td>AFG</td><td>2020-04-10</td><td>0.377</td></tr><tr><th>20</th><td>Afghanistan</td><td>AFG</td><td>2020-04-11</td><td>0.377</td></tr><tr><th>21</th><td>Afghanistan</td><td>AFG</td><td>2020-04-12</td><td>0.452</td></tr><tr><th>22</th><td>Afghanistan</td><td>AFG</td><td>2020-04-13</td><td>0.477</td></tr><tr><th>23</th><td>Afghanistan</td><td>AFG</td><td>2020-04-14</td><td>0.552</td></tr><tr><th>24</th><td>Afghanistan</td><td>AFG</td><td>2020-04-15</td><td>0.628</td></tr><tr><th>25</th><td>Afghanistan</td><td>AFG</td><td>2020-04-16</td><td>0.728</td></tr><tr><th>26</th><td>Afghanistan</td><td>AFG</td><td>2020-04-17</td><td>0.753</td></tr><tr><th>27</th><td>Afghanistan</td><td>AFG</td><td>2020-04-18</td><td>0.753</td></tr><tr><th>28</th><td>Afghanistan</td><td>AFG</td><td>2020-04-19</td><td>0.753</td></tr><tr><th>29</th><td>Afghanistan</td><td>AFG</td><td>2020-04-20</td><td>0.828</td></tr><tr><th>30</th><td>Afghanistan</td><td>AFG</td><td>2020-04-21</td><td>0.904</td></tr><tr><th>&vellip;</th><td>&vellip;</td><td>&vellip;</td><td>&vellip;</td><td>&vellip;</td></tr></tbody></table></div>"
      ],
      "text/latex": [
       "\\begin{tabular}{r|ccccc}\n",
       "\t& Entity & Code & Day & Total confirmed deaths due to COVID-19 per million people & \\\\\n",
       "\t\\hline\n",
       "\t& String & String15 & Date & Float64 & \\\\\n",
       "\t\\hline\n",
       "\t1 & Afghanistan & AFG & 2020-03-23 & 0.025 & $\\dots$ \\\\\n",
       "\t2 & Afghanistan & AFG & 2020-03-24 & 0.025 & $\\dots$ \\\\\n",
       "\t3 & Afghanistan & AFG & 2020-03-25 & 0.025 & $\\dots$ \\\\\n",
       "\t4 & Afghanistan & AFG & 2020-03-26 & 0.05 & $\\dots$ \\\\\n",
       "\t5 & Afghanistan & AFG & 2020-03-27 & 0.05 & $\\dots$ \\\\\n",
       "\t6 & Afghanistan & AFG & 2020-03-28 & 0.05 & $\\dots$ \\\\\n",
       "\t7 & Afghanistan & AFG & 2020-03-29 & 0.1 & $\\dots$ \\\\\n",
       "\t8 & Afghanistan & AFG & 2020-03-30 & 0.1 & $\\dots$ \\\\\n",
       "\t9 & Afghanistan & AFG & 2020-03-31 & 0.1 & $\\dots$ \\\\\n",
       "\t10 & Afghanistan & AFG & 2020-04-01 & 0.1 & $\\dots$ \\\\\n",
       "\t11 & Afghanistan & AFG & 2020-04-02 & 0.1 & $\\dots$ \\\\\n",
       "\t12 & Afghanistan & AFG & 2020-04-03 & 0.126 & $\\dots$ \\\\\n",
       "\t13 & Afghanistan & AFG & 2020-04-04 & 0.126 & $\\dots$ \\\\\n",
       "\t14 & Afghanistan & AFG & 2020-04-05 & 0.176 & $\\dots$ \\\\\n",
       "\t15 & Afghanistan & AFG & 2020-04-06 & 0.176 & $\\dots$ \\\\\n",
       "\t16 & Afghanistan & AFG & 2020-04-07 & 0.276 & $\\dots$ \\\\\n",
       "\t17 & Afghanistan & AFG & 2020-04-08 & 0.351 & $\\dots$ \\\\\n",
       "\t18 & Afghanistan & AFG & 2020-04-09 & 0.377 & $\\dots$ \\\\\n",
       "\t19 & Afghanistan & AFG & 2020-04-10 & 0.377 & $\\dots$ \\\\\n",
       "\t20 & Afghanistan & AFG & 2020-04-11 & 0.377 & $\\dots$ \\\\\n",
       "\t21 & Afghanistan & AFG & 2020-04-12 & 0.452 & $\\dots$ \\\\\n",
       "\t22 & Afghanistan & AFG & 2020-04-13 & 0.477 & $\\dots$ \\\\\n",
       "\t23 & Afghanistan & AFG & 2020-04-14 & 0.552 & $\\dots$ \\\\\n",
       "\t24 & Afghanistan & AFG & 2020-04-15 & 0.628 & $\\dots$ \\\\\n",
       "\t25 & Afghanistan & AFG & 2020-04-16 & 0.728 & $\\dots$ \\\\\n",
       "\t26 & Afghanistan & AFG & 2020-04-17 & 0.753 & $\\dots$ \\\\\n",
       "\t27 & Afghanistan & AFG & 2020-04-18 & 0.753 & $\\dots$ \\\\\n",
       "\t28 & Afghanistan & AFG & 2020-04-19 & 0.753 & $\\dots$ \\\\\n",
       "\t29 & Afghanistan & AFG & 2020-04-20 & 0.828 & $\\dots$ \\\\\n",
       "\t30 & Afghanistan & AFG & 2020-04-21 & 0.904 & $\\dots$ \\\\\n",
       "\t$\\dots$ & $\\dots$ & $\\dots$ & $\\dots$ & $\\dots$ &  \\\\\n",
       "\\end{tabular}\n"
      ],
      "text/plain": [
       "\u001b[1m141467×5 DataFrame\u001b[0m\n",
       "\u001b[1m    Row \u001b[0m│\u001b[1m Entity      \u001b[0m\u001b[1m Code     \u001b[0m\u001b[1m Day        \u001b[0m\u001b[1m Total confirmed deaths due to COV\u001b[0m ⋯\n",
       "\u001b[1m        \u001b[0m│\u001b[90m String      \u001b[0m\u001b[90m String15 \u001b[0m\u001b[90m Date       \u001b[0m\u001b[90m Float64                          \u001b[0m ⋯\n",
       "────────┼───────────────────────────────────────────────────────────────────────\n",
       "      1 │ Afghanistan  AFG       2020-03-23                                    ⋯\n",
       "      2 │ Afghanistan  AFG       2020-03-24\n",
       "      3 │ Afghanistan  AFG       2020-03-25\n",
       "      4 │ Afghanistan  AFG       2020-03-26\n",
       "      5 │ Afghanistan  AFG       2020-03-27                                    ⋯\n",
       "      6 │ Afghanistan  AFG       2020-03-28\n",
       "      7 │ Afghanistan  AFG       2020-03-29\n",
       "      8 │ Afghanistan  AFG       2020-03-30\n",
       "      9 │ Afghanistan  AFG       2020-03-31                                    ⋯\n",
       "     10 │ Afghanistan  AFG       2020-04-01\n",
       "     11 │ Afghanistan  AFG       2020-04-02\n",
       "   ⋮    │      ⋮          ⋮          ⋮                                   ⋮     ⋱\n",
       " 141458 │ Zimbabwe     ZWE       2022-03-20\n",
       " 141459 │ Zimbabwe     ZWE       2022-03-21                                    ⋯\n",
       " 141460 │ Zimbabwe     ZWE       2022-03-22\n",
       " 141461 │ Zimbabwe     ZWE       2022-03-23\n",
       " 141462 │ Zimbabwe     ZWE       2022-03-24\n",
       " 141463 │ Zimbabwe     ZWE       2022-03-25                                    ⋯\n",
       " 141464 │ Zimbabwe     ZWE       2022-03-26\n",
       " 141465 │ Zimbabwe     ZWE       2022-03-27\n",
       " 141466 │ Zimbabwe     ZWE       2022-03-28\n",
       " 141467 │ Zimbabwe     ZWE       2022-03-29                                    ⋯\n",
       "\u001b[36m                                               2 columns and 141446 rows omitted\u001b[0m"
      ]
     },
     "execution_count": 34,
     "metadata": {},
     "output_type": "execute_result"
    }
   ],
   "source": [
    "data = CSV.File(joinpath(data_directory, \"total-covid-cases-deaths-per-million.csv\")) |> DataFrame\n",
    "dropmissing!(data) # Data is never perfect!"
   ]
  },
  {
   "cell_type": "markdown",
   "id": "81192477-dd51-4951-a1ee-cc08e4ba1859",
   "metadata": {
    "slideshow": {
     "slide_type": "subslide"
    },
    "tags": []
   },
   "source": [
    "`describe` gives us a high-level overview:"
   ]
  },
  {
   "cell_type": "code",
   "execution_count": 36,
   "id": "9f237b4c-5d26-41b4-9767-997e810a2f13",
   "metadata": {
    "slideshow": {
     "slide_type": "fragment"
    },
    "tags": []
   },
   "outputs": [
    {
     "data": {
      "text/html": [
       "<div class=\"data-frame\"><p>5 rows × 7 columns (omitted printing of 4 columns)</p><table class=\"data-frame\"><thead><tr><th></th><th>variable</th><th>mean</th><th>min</th></tr><tr><th></th><th title=\"Symbol\">Symbol</th><th title=\"Union{Nothing, Float64}\">Union…</th><th title=\"Any\">Any</th></tr></thead><tbody><tr><th>1</th><td>Entity</td><td></td><td>Afghanistan</td></tr><tr><th>2</th><td>Code</td><td></td><td>ABW</td></tr><tr><th>3</th><td>Day</td><td></td><td>2020-01-22</td></tr><tr><th>4</th><td>Total confirmed deaths due to COVID-19 per million people</td><td>527.4</td><td>0.001</td></tr><tr><th>5</th><td>Total confirmed cases of COVID-19 per million people</td><td>36548.1</td><td>0.018</td></tr></tbody></table></div>"
      ],
      "text/latex": [
       "\\begin{tabular}{r|cccc}\n",
       "\t& variable & mean & min & \\\\\n",
       "\t\\hline\n",
       "\t& Symbol & Union… & Any & \\\\\n",
       "\t\\hline\n",
       "\t1 & Entity &  & Afghanistan & $\\dots$ \\\\\n",
       "\t2 & Code &  & ABW & $\\dots$ \\\\\n",
       "\t3 & Day &  & 2020-01-22 & $\\dots$ \\\\\n",
       "\t4 & Total confirmed deaths due to COVID-19 per million people & 527.4 & 0.001 & $\\dots$ \\\\\n",
       "\t5 & Total confirmed cases of COVID-19 per million people & 36548.1 & 0.018 & $\\dots$ \\\\\n",
       "\\end{tabular}\n"
      ],
      "text/plain": [
       "\u001b[1m5×7 DataFrame\u001b[0m\n",
       "\u001b[1m Row \u001b[0m│\u001b[1m variable                          \u001b[0m\u001b[1m mean    \u001b[0m\u001b[1m min         \u001b[0m\u001b[1m median     \u001b[0m\u001b[1m ma\u001b[0m ⋯\n",
       "\u001b[1m     \u001b[0m│\u001b[90m Symbol                            \u001b[0m\u001b[90m Union…  \u001b[0m\u001b[90m Any         \u001b[0m\u001b[90m Any        \u001b[0m\u001b[90m An\u001b[0m ⋯\n",
       "─────┼──────────────────────────────────────────────────────────────────────────\n",
       "   1 │ Entity                            \u001b[90m         \u001b[0m Afghanistan \u001b[90m            \u001b[0m Zi ⋯\n",
       "   2 │ Code                              \u001b[90m         \u001b[0m ABW         \u001b[90m            \u001b[0m ZW\n",
       "   3 │ Day                               \u001b[90m         \u001b[0m 2020-01-22   2021-04-12  20\n",
       "   4 │ Total confirmed deaths due to CO…  527.4    0.001        133.003     63\n",
       "   5 │ Total confirmed cases of COVID-1…  36548.1  0.018        7670.75     7. ⋯\n",
       "\u001b[36m                                                               3 columns omitted\u001b[0m"
      ]
     },
     "execution_count": 36,
     "metadata": {},
     "output_type": "execute_result"
    }
   ],
   "source": [
    "describe(data)"
   ]
  },
  {
   "cell_type": "markdown",
   "id": "04f48f25-8b6d-42b5-9f79-9b2d88e66a85",
   "metadata": {
    "slideshow": {
     "slide_type": "subslide"
    },
    "tags": []
   },
   "source": [
    "Let's say we want to extract a Column:"
   ]
  },
  {
   "cell_type": "code",
   "execution_count": 35,
   "id": "9f7f16d2-4761-4d96-90ed-88eeaa98c5b3",
   "metadata": {
    "slideshow": {
     "slide_type": "fragment"
    },
    "tags": []
   },
   "outputs": [
    {
     "data": {
      "text/plain": [
       "141467-element Vector{Float64}:\n",
       "     1.004\n",
       "     1.054\n",
       "     1.858\n",
       "     2.008\n",
       "     2.284\n",
       "     2.661\n",
       "     2.862\n",
       "     2.862\n",
       "     4.167\n",
       "     4.82\n",
       "     5.899\n",
       "     6.753\n",
       "     6.778\n",
       "     ⋮\n",
       " 16168.118\n",
       " 16197.272\n",
       " 16197.272\n",
       " 16212.711\n",
       " 16212.711\n",
       " 16230.799\n",
       " 16246.437\n",
       " 16276.32\n",
       " 16276.32\n",
       " 16287.915\n",
       " 16295.005\n",
       " 16302.625"
      ]
     },
     "execution_count": 35,
     "metadata": {},
     "output_type": "execute_result"
    }
   ],
   "source": [
    "data[:, \"Total confirmed cases of COVID-19 per million people\"]"
   ]
  },
  {
   "cell_type": "markdown",
   "id": "30697749-cd08-4f19-bda7-af43d2de554a",
   "metadata": {
    "slideshow": {
     "slide_type": "subslide"
    },
    "tags": []
   },
   "source": [
    "Let's extract only those columns matching a country code:"
   ]
  },
  {
   "cell_type": "code",
   "execution_count": 37,
   "id": "ce6a662b-0763-4867-87c4-28253e39610c",
   "metadata": {
    "slideshow": {
     "slide_type": "fragment"
    },
    "tags": []
   },
   "outputs": [
    {
     "data": {
      "text/html": [
       "<div class=\"data-frame\"><p>760 rows × 5 columns (omitted printing of 1 columns)</p><table class=\"data-frame\"><thead><tr><th></th><th>Entity</th><th>Code</th><th>Day</th><th>Total confirmed deaths due to COVID-19 per million people</th></tr><tr><th></th><th title=\"String\">String</th><th title=\"String15\">String15</th><th title=\"Dates.Date\">Date</th><th title=\"Float64\">Float64</th></tr></thead><tbody><tr><th>1</th><td>United States</td><td>USA</td><td>2020-02-29</td><td>0.003</td></tr><tr><th>2</th><td>United States</td><td>USA</td><td>2020-03-01</td><td>0.003</td></tr><tr><th>3</th><td>United States</td><td>USA</td><td>2020-03-02</td><td>0.018</td></tr><tr><th>4</th><td>United States</td><td>USA</td><td>2020-03-03</td><td>0.021</td></tr><tr><th>5</th><td>United States</td><td>USA</td><td>2020-03-04</td><td>0.033</td></tr><tr><th>6</th><td>United States</td><td>USA</td><td>2020-03-05</td><td>0.036</td></tr><tr><th>7</th><td>United States</td><td>USA</td><td>2020-03-06</td><td>0.042</td></tr><tr><th>8</th><td>United States</td><td>USA</td><td>2020-03-07</td><td>0.051</td></tr><tr><th>9</th><td>United States</td><td>USA</td><td>2020-03-08</td><td>0.063</td></tr><tr><th>10</th><td>United States</td><td>USA</td><td>2020-03-09</td><td>0.066</td></tr><tr><th>11</th><td>United States</td><td>USA</td><td>2020-03-10</td><td>0.084</td></tr><tr><th>12</th><td>United States</td><td>USA</td><td>2020-03-11</td><td>0.099</td></tr><tr><th>13</th><td>United States</td><td>USA</td><td>2020-03-12</td><td>0.129</td></tr><tr><th>14</th><td>United States</td><td>USA</td><td>2020-03-13</td><td>0.153</td></tr><tr><th>15</th><td>United States</td><td>USA</td><td>2020-03-14</td><td>0.174</td></tr><tr><th>16</th><td>United States</td><td>USA</td><td>2020-03-15</td><td>0.21</td></tr><tr><th>17</th><td>United States</td><td>USA</td><td>2020-03-16</td><td>0.291</td></tr><tr><th>18</th><td>United States</td><td>USA</td><td>2020-03-17</td><td>0.403</td></tr><tr><th>19</th><td>United States</td><td>USA</td><td>2020-03-18</td><td>0.583</td></tr><tr><th>20</th><td>United States</td><td>USA</td><td>2020-03-19</td><td>0.799</td></tr><tr><th>21</th><td>United States</td><td>USA</td><td>2020-03-20</td><td>1.117</td></tr><tr><th>22</th><td>United States</td><td>USA</td><td>2020-03-21</td><td>1.427</td></tr><tr><th>23</th><td>United States</td><td>USA</td><td>2020-03-22</td><td>1.811</td></tr><tr><th>24</th><td>United States</td><td>USA</td><td>2020-03-23</td><td>2.373</td></tr><tr><th>25</th><td>United States</td><td>USA</td><td>2020-03-24</td><td>3.103</td></tr><tr><th>26</th><td>United States</td><td>USA</td><td>2020-03-25</td><td>4.103</td></tr><tr><th>27</th><td>United States</td><td>USA</td><td>2020-03-26</td><td>5.356</td></tr><tr><th>28</th><td>United States</td><td>USA</td><td>2020-03-27</td><td>6.924</td></tr><tr><th>29</th><td>United States</td><td>USA</td><td>2020-03-28</td><td>9.065</td></tr><tr><th>30</th><td>United States</td><td>USA</td><td>2020-03-29</td><td>10.732</td></tr><tr><th>&vellip;</th><td>&vellip;</td><td>&vellip;</td><td>&vellip;</td><td>&vellip;</td></tr></tbody></table></div>"
      ],
      "text/latex": [
       "\\begin{tabular}{r|ccccc}\n",
       "\t& Entity & Code & Day & Total confirmed deaths due to COVID-19 per million people & \\\\\n",
       "\t\\hline\n",
       "\t& String & String15 & Date & Float64 & \\\\\n",
       "\t\\hline\n",
       "\t1 & United States & USA & 2020-02-29 & 0.003 & $\\dots$ \\\\\n",
       "\t2 & United States & USA & 2020-03-01 & 0.003 & $\\dots$ \\\\\n",
       "\t3 & United States & USA & 2020-03-02 & 0.018 & $\\dots$ \\\\\n",
       "\t4 & United States & USA & 2020-03-03 & 0.021 & $\\dots$ \\\\\n",
       "\t5 & United States & USA & 2020-03-04 & 0.033 & $\\dots$ \\\\\n",
       "\t6 & United States & USA & 2020-03-05 & 0.036 & $\\dots$ \\\\\n",
       "\t7 & United States & USA & 2020-03-06 & 0.042 & $\\dots$ \\\\\n",
       "\t8 & United States & USA & 2020-03-07 & 0.051 & $\\dots$ \\\\\n",
       "\t9 & United States & USA & 2020-03-08 & 0.063 & $\\dots$ \\\\\n",
       "\t10 & United States & USA & 2020-03-09 & 0.066 & $\\dots$ \\\\\n",
       "\t11 & United States & USA & 2020-03-10 & 0.084 & $\\dots$ \\\\\n",
       "\t12 & United States & USA & 2020-03-11 & 0.099 & $\\dots$ \\\\\n",
       "\t13 & United States & USA & 2020-03-12 & 0.129 & $\\dots$ \\\\\n",
       "\t14 & United States & USA & 2020-03-13 & 0.153 & $\\dots$ \\\\\n",
       "\t15 & United States & USA & 2020-03-14 & 0.174 & $\\dots$ \\\\\n",
       "\t16 & United States & USA & 2020-03-15 & 0.21 & $\\dots$ \\\\\n",
       "\t17 & United States & USA & 2020-03-16 & 0.291 & $\\dots$ \\\\\n",
       "\t18 & United States & USA & 2020-03-17 & 0.403 & $\\dots$ \\\\\n",
       "\t19 & United States & USA & 2020-03-18 & 0.583 & $\\dots$ \\\\\n",
       "\t20 & United States & USA & 2020-03-19 & 0.799 & $\\dots$ \\\\\n",
       "\t21 & United States & USA & 2020-03-20 & 1.117 & $\\dots$ \\\\\n",
       "\t22 & United States & USA & 2020-03-21 & 1.427 & $\\dots$ \\\\\n",
       "\t23 & United States & USA & 2020-03-22 & 1.811 & $\\dots$ \\\\\n",
       "\t24 & United States & USA & 2020-03-23 & 2.373 & $\\dots$ \\\\\n",
       "\t25 & United States & USA & 2020-03-24 & 3.103 & $\\dots$ \\\\\n",
       "\t26 & United States & USA & 2020-03-25 & 4.103 & $\\dots$ \\\\\n",
       "\t27 & United States & USA & 2020-03-26 & 5.356 & $\\dots$ \\\\\n",
       "\t28 & United States & USA & 2020-03-27 & 6.924 & $\\dots$ \\\\\n",
       "\t29 & United States & USA & 2020-03-28 & 9.065 & $\\dots$ \\\\\n",
       "\t30 & United States & USA & 2020-03-29 & 10.732 & $\\dots$ \\\\\n",
       "\t$\\dots$ & $\\dots$ & $\\dots$ & $\\dots$ & $\\dots$ &  \\\\\n",
       "\\end{tabular}\n"
      ],
      "text/plain": [
       "\u001b[1m760×5 DataFrame\u001b[0m\n",
       "\u001b[1m Row \u001b[0m│\u001b[1m Entity        \u001b[0m\u001b[1m Code     \u001b[0m\u001b[1m Day        \u001b[0m\u001b[1m Total confirmed deaths due to COVI\u001b[0m ⋯\n",
       "\u001b[1m     \u001b[0m│\u001b[90m String        \u001b[0m\u001b[90m String15 \u001b[0m\u001b[90m Date       \u001b[0m\u001b[90m Float64                           \u001b[0m ⋯\n",
       "─────┼──────────────────────────────────────────────────────────────────────────\n",
       "   1 │ United States  USA       2020-02-29                                     ⋯\n",
       "   2 │ United States  USA       2020-03-01\n",
       "   3 │ United States  USA       2020-03-02\n",
       "   4 │ United States  USA       2020-03-03\n",
       "   5 │ United States  USA       2020-03-04                                     ⋯\n",
       "   6 │ United States  USA       2020-03-05\n",
       "   7 │ United States  USA       2020-03-06\n",
       "   8 │ United States  USA       2020-03-07\n",
       "   9 │ United States  USA       2020-03-08                                     ⋯\n",
       "  10 │ United States  USA       2020-03-09\n",
       "  11 │ United States  USA       2020-03-10\n",
       "  ⋮  │       ⋮           ⋮          ⋮                                   ⋮      ⋱\n",
       " 751 │ United States  USA       2022-03-20\n",
       " 752 │ United States  USA       2022-03-21                                     ⋯\n",
       " 753 │ United States  USA       2022-03-22\n",
       " 754 │ United States  USA       2022-03-23\n",
       " 755 │ United States  USA       2022-03-24\n",
       " 756 │ United States  USA       2022-03-25                                     ⋯\n",
       " 757 │ United States  USA       2022-03-26\n",
       " 758 │ United States  USA       2022-03-27\n",
       " 759 │ United States  USA       2022-03-28\n",
       " 760 │ United States  USA       2022-03-29                                     ⋯\n",
       "\u001b[36m                                                  2 columns and 739 rows omitted\u001b[0m"
      ]
     },
     "execution_count": 37,
     "metadata": {},
     "output_type": "execute_result"
    }
   ],
   "source": [
    "data[data[:, \"Code\"] .== \"USA\", :]"
   ]
  },
  {
   "cell_type": "code",
   "execution_count": null,
   "id": "88c471b7-acbe-4f71-9c8f-e5b61cf111d6",
   "metadata": {},
   "outputs": [],
   "source": []
  }
 ],
 "metadata": {
  "kernelspec": {
   "display_name": "Julia 1.7.1",
   "language": "julia",
   "name": "julia-1.7"
  },
  "language_info": {
   "file_extension": ".jl",
   "mimetype": "application/julia",
   "name": "julia",
   "version": "1.7.1"
  }
 },
 "nbformat": 4,
 "nbformat_minor": 5
}
