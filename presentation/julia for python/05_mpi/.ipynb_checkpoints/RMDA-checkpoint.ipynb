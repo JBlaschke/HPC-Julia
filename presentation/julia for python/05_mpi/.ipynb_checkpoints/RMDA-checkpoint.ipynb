{
 "cells": [
  {
   "cell_type": "code",
   "execution_count": 1,
   "id": "necessary-junior",
   "metadata": {},
   "outputs": [
    {
     "data": {
      "text/plain": [
       "2-element Vector{Int64}:\n",
       " 2\n",
       " 3"
      ]
     },
     "execution_count": 1,
     "metadata": {},
     "output_type": "execute_result"
    }
   ],
   "source": [
    "# to import MPIManager\n",
    "using MPIClusterManagers\n",
    "\n",
    "# need to also import Distributed to use addprocs()\n",
    "using Distributed\n",
    "\n",
    "# specify, number of mpi workers, launch cmd, etc.\n",
    "manager=MPIManager(np=2)\n",
    "\n",
    "# start mpi workers and add them as julia workers too.\n",
    "addprocs(manager)"
   ]
  },
  {
   "cell_type": "code",
   "execution_count": 2,
   "id": "incredible-bernard",
   "metadata": {},
   "outputs": [
    {
     "name": "stdout",
     "output_type": "stream",
     "text": [
      "      From worker 2:\tHello world, I am 0 of 2\n",
      "      From worker 3:\tHello world, I am 1 of 2\n"
     ]
    }
   ],
   "source": [
    "@mpi_do manager begin\n",
    "    using MPI: MPI, Comm, Win, free\n",
    "    comm = MPI.COMM_WORLD\n",
    "    rank = MPI.Comm_rank(comm)\n",
    "    size = MPI.Comm_size(comm)\n",
    "    println(\"Hello world, I am $(rank) of $(size)\")\n",
    "end"
   ]
  },
  {
   "cell_type": "code",
   "execution_count": 3,
   "id": "sufficient-thriller",
   "metadata": {},
   "outputs": [],
   "source": [
    "@mpi_do manager begin\n",
    "    \n",
    "    function mpi_shared_array(node_comm::Comm, ::Type{T}, sz::Tuple{Vararg{Int}}; owner_rank=0) where T\n",
    "        node_rank = MPI.Comm_rank(node_comm)\n",
    "        len_to_alloc = MPI.Comm_rank(node_comm) == owner_rank ? prod(sz) : 0\n",
    "        win, bufptr = MPI.Win_allocate_shared(T, len_to_alloc, node_comm)\n",
    "\n",
    "        if node_rank != owner_rank\n",
    "            len, sizofT, bufvoidptr = MPI.Win_shared_query(win, owner_rank)\n",
    "            bufptr = convert(Ptr{T}, bufvoidptr)\n",
    "        end\n",
    "        win, unsafe_wrap(Array, bufptr, sz)\n",
    "    end\n",
    "    \n",
    "    comm = MPI.COMM_WORLD\n",
    "    rank = MPI.Comm_rank(comm)\n",
    "    \n",
    "    owner_rank = 1\n",
    "\n",
    "    win, shared_arr =\n",
    "        mpi_shared_array(comm, Float32, (100, 2); owner_rank=owner_rank)\n",
    "    \n",
    "    if rank == 0\n",
    "        shared_arr[:, 1] .= 1:100\n",
    "    elseif rank == 1\n",
    "        shared_arr[:, 2] .= 901:1000\n",
    "    end\n",
    "end"
   ]
  },
  {
   "cell_type": "code",
   "execution_count": 4,
   "id": "awful-animation",
   "metadata": {},
   "outputs": [
    {
     "name": "stdout",
     "output_type": "stream",
     "text": [
      "      From worker 2:\tFloat32[901.0, 902.0, 903.0, 904.0, 905.0, 906.0, 907.0, 908.0, 909.0, 910.0, 911.0, 912.0, 913.0, 914.0, 915.0, 916.0, 917.0, 918.0, 919.0, 920.0, 921.0, 922.0, 923.0, 924.0, 925.0, 926.0, 927.0, 928.0, 929.0, 930.0, 931.0, 932.0, 933.0, 934.0, 935.0, 936.0, 937.0, 938.0, 939.0, 940.0, 941.0, 942.0, 943.0, 944.0, 945.0, 946.0, 947.0, 948.0, 949.0, 950.0, 951.0, 952.0, 953.0, 954.0, 955.0, 956.0, 957.0, 958.0, 959.0, 960.0, 961.0, 962.0, 963.0, 964.0, 965.0, 966.0, 967.0, 968.0, 969.0, 970.0, 971.0, 972.0, 973.0, 974.0, 975.0, 976.0, 977.0, 978.0, 979.0, 980.0, 981.0, 982.0, 983.0, 984.0, 985.0, 986.0, 987.0, 988.0, 989.0, 990.0, 991.0, 992.0, 993.0, 994.0, 995.0, 996.0, 997.0, 998.0, 999.0, 1000.0]\n"
     ]
    }
   ],
   "source": [
    "@mpi_do manager begin\n",
    "    if rank == 0\n",
    "        println(shared_arr[:, 2])\n",
    "    end\n",
    "end"
   ]
  },
  {
   "cell_type": "code",
   "execution_count": 5,
   "id": "chief-syndication",
   "metadata": {},
   "outputs": [],
   "source": [
    "@mpi_do manager begin\n",
    "    free(win)\n",
    "end"
   ]
  },
  {
   "cell_type": "code",
   "execution_count": null,
   "id": "fantastic-average",
   "metadata": {},
   "outputs": [],
   "source": []
  }
 ],
 "metadata": {
  "kernelspec": {
   "display_name": "Julia 1.6.0",
   "language": "julia",
   "name": "julia-1.6"
  },
  "language_info": {
   "file_extension": ".jl",
   "mimetype": "application/julia",
   "name": "julia",
   "version": "1.6.0"
  }
 },
 "nbformat": 4,
 "nbformat_minor": 5
}
