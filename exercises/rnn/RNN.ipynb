{
 "cells": [
  {
   "cell_type": "markdown",
   "id": "4b14b1cf-a08b-4db8-bd60-56e4a04793bf",
   "metadata": {
    "slideshow": {
     "slide_type": "slide"
    },
    "tags": []
   },
   "source": [
    "# Recurrent Neural Networks using `Flux.jl`"
   ]
  },
  {
   "cell_type": "markdown",
   "id": "df0d73d4-12db-4eca-87fe-c8fded479f85",
   "metadata": {
    "slideshow": {
     "slide_type": "fragment"
    },
    "tags": []
   },
   "source": [
    "Based on an [excellent 5-minute guide](https://www.jldc.ch/posts/recurrent-models-in-flux/) by Jonathan Chassot -- however `Flux.jl` has \"moved on\" breaking much of the API that the original tutorial dependet on. This is commonplace in Julia. It helps comparing different tutorials with the latest version of the documentation. For this tutorial, we updated Jonathan's work using [the stable Flux.jl docs](https://fluxml.ai/Flux.jl/stable/models/recurrence/)"
   ]
  },
  {
   "cell_type": "markdown",
   "id": "e0e7ad06-68fb-4891-8c83-8875e8987cd2",
   "metadata": {
    "slideshow": {
     "slide_type": "subslide"
    },
    "tags": []
   },
   "source": [
    "We are interested in a sequence-to-sequence modeling task on a univariate time series. That is, we have some time-series data $\\{x_t: t=1\\dots T\\}$ and at each time step $t$, we wish to predict the value of $x_{t+1}$.\n",
    "\n",
    "For instance, we might want to try and predict a stock’s closing price for the following day; this is an arduous task, and doing well will realistically require more than running a basic recurrent model on the past prices. Nevertheless, it is a simple, attractive example that we can use to explain the foundations of recurrent modeling in Flux."
   ]
  },
  {
   "cell_type": "markdown",
   "id": "286bd514-a67e-4410-8109-d6b256e17192",
   "metadata": {
    "slideshow": {
     "slide_type": "slide"
    },
    "tags": []
   },
   "source": [
    "## Data"
   ]
  },
  {
   "cell_type": "markdown",
   "id": "a5c97ec6-abc2-4ac5-b60e-fb1ca6f629c1",
   "metadata": {
    "slideshow": {
     "slide_type": "subslide"
    },
    "tags": []
   },
   "source": [
    "We will use stock data for Apple Inc. (AAPL) between the start of 2019 and the end of 2021. This data is contained as a csv file the same directory as this notebook."
   ]
  },
  {
   "cell_type": "code",
   "execution_count": 1,
   "id": "018ffc0a-9f65-43f1-80f0-a9aba0883653",
   "metadata": {
    "slideshow": {
     "slide_type": "subslide"
    },
    "tags": []
   },
   "outputs": [],
   "source": [
    "using CSV, DataFrames"
   ]
  },
  {
   "cell_type": "code",
   "execution_count": 2,
   "id": "d188379d-6726-4a1e-91aa-6e6572e060e2",
   "metadata": {
    "slideshow": {
     "slide_type": "subslide"
    },
    "tags": []
   },
   "outputs": [
    {
     "data": {
      "text/html": [
       "<div class=\"data-frame\"><p>757 rows × 7 columns</p><table class=\"data-frame\"><thead><tr><th></th><th>Date</th><th>Open</th><th>High</th><th>Low</th><th>Close</th><th>Adj Close</th><th>Volume</th></tr><tr><th></th><th title=\"Dates.Date\">Date</th><th title=\"Float64\">Float64</th><th title=\"Float64\">Float64</th><th title=\"Float64\">Float64</th><th title=\"Float64\">Float64</th><th title=\"Float64\">Float64</th><th title=\"Int64\">Int64</th></tr></thead><tbody><tr><th>1</th><td>2019-01-02</td><td>38.7225</td><td>39.7125</td><td>38.5575</td><td>39.48</td><td>38.2775</td><td>148158800</td></tr><tr><th>2</th><td>2019-01-03</td><td>35.995</td><td>36.43</td><td>35.5</td><td>35.5475</td><td>34.4648</td><td>365248800</td></tr><tr><th>3</th><td>2019-01-04</td><td>36.1325</td><td>37.1375</td><td>35.95</td><td>37.065</td><td>35.9361</td><td>234428400</td></tr><tr><th>4</th><td>2019-01-07</td><td>37.175</td><td>37.2075</td><td>36.475</td><td>36.9825</td><td>35.8561</td><td>219111200</td></tr><tr><th>5</th><td>2019-01-08</td><td>37.39</td><td>37.955</td><td>37.13</td><td>37.6875</td><td>36.5396</td><td>164101200</td></tr><tr><th>6</th><td>2019-01-09</td><td>37.8225</td><td>38.6325</td><td>37.4075</td><td>38.3275</td><td>37.1601</td><td>180396400</td></tr><tr><th>7</th><td>2019-01-10</td><td>38.125</td><td>38.4925</td><td>37.715</td><td>38.45</td><td>37.2789</td><td>143122800</td></tr><tr><th>8</th><td>2019-01-11</td><td>38.22</td><td>38.425</td><td>37.8775</td><td>38.0725</td><td>36.9129</td><td>108092800</td></tr><tr><th>9</th><td>2019-01-14</td><td>37.7125</td><td>37.8175</td><td>37.305</td><td>37.5</td><td>36.3578</td><td>129756800</td></tr><tr><th>10</th><td>2019-01-15</td><td>37.5675</td><td>38.3475</td><td>37.5125</td><td>38.2675</td><td>37.102</td><td>114843600</td></tr><tr><th>11</th><td>2019-01-16</td><td>38.27</td><td>38.97</td><td>38.25</td><td>38.735</td><td>37.5552</td><td>122278800</td></tr><tr><th>12</th><td>2019-01-17</td><td>38.55</td><td>39.415</td><td>38.315</td><td>38.965</td><td>37.7782</td><td>119284800</td></tr><tr><th>13</th><td>2019-01-18</td><td>39.375</td><td>39.47</td><td>38.995</td><td>39.205</td><td>38.0109</td><td>135004000</td></tr><tr><th>14</th><td>2019-01-22</td><td>39.1025</td><td>39.1825</td><td>38.155</td><td>38.325</td><td>37.1577</td><td>121576000</td></tr><tr><th>15</th><td>2019-01-23</td><td>38.5375</td><td>38.785</td><td>37.925</td><td>38.48</td><td>37.308</td><td>92522400</td></tr><tr><th>16</th><td>2019-01-24</td><td>38.5275</td><td>38.62</td><td>37.935</td><td>38.175</td><td>37.0123</td><td>101766000</td></tr><tr><th>17</th><td>2019-01-25</td><td>38.87</td><td>39.5325</td><td>38.58</td><td>39.44</td><td>38.2387</td><td>134142000</td></tr><tr><th>18</th><td>2019-01-28</td><td>38.9475</td><td>39.0825</td><td>38.415</td><td>39.075</td><td>37.8849</td><td>104768400</td></tr><tr><th>19</th><td>2019-01-29</td><td>39.0625</td><td>39.5325</td><td>38.5275</td><td>38.67</td><td>37.4922</td><td>166348800</td></tr><tr><th>20</th><td>2019-01-30</td><td>40.8125</td><td>41.5375</td><td>40.0575</td><td>41.3125</td><td>40.0542</td><td>244439200</td></tr><tr><th>21</th><td>2019-01-31</td><td>41.5275</td><td>42.25</td><td>41.14</td><td>41.61</td><td>40.3427</td><td>162958400</td></tr><tr><th>22</th><td>2019-02-01</td><td>41.74</td><td>42.245</td><td>41.4825</td><td>41.63</td><td>40.362</td><td>130672400</td></tr><tr><th>23</th><td>2019-02-04</td><td>41.8525</td><td>42.915</td><td>41.82</td><td>42.8125</td><td>41.5085</td><td>125982000</td></tr><tr><th>24</th><td>2019-02-05</td><td>43.215</td><td>43.77</td><td>43.0875</td><td>43.545</td><td>42.2187</td><td>144406400</td></tr><tr><th>25</th><td>2019-02-06</td><td>43.6625</td><td>43.8925</td><td>43.2125</td><td>43.56</td><td>42.2333</td><td>112958400</td></tr><tr><th>26</th><td>2019-02-07</td><td>43.1</td><td>43.485</td><td>42.585</td><td>42.735</td><td>41.4334</td><td>126966800</td></tr><tr><th>27</th><td>2019-02-08</td><td>42.2475</td><td>42.665</td><td>42.105</td><td>42.6025</td><td>41.4821</td><td>95280000</td></tr><tr><th>28</th><td>2019-02-11</td><td>42.7625</td><td>42.8025</td><td>42.3125</td><td>42.3575</td><td>41.2435</td><td>83973600</td></tr><tr><th>29</th><td>2019-02-12</td><td>42.525</td><td>42.75</td><td>42.425</td><td>42.7225</td><td>41.5989</td><td>89134000</td></tr><tr><th>30</th><td>2019-02-13</td><td>42.8475</td><td>43.12</td><td>42.48</td><td>42.545</td><td>41.4261</td><td>89960800</td></tr><tr><th>&vellip;</th><td>&vellip;</td><td>&vellip;</td><td>&vellip;</td><td>&vellip;</td><td>&vellip;</td><td>&vellip;</td><td>&vellip;</td></tr></tbody></table></div>"
      ],
      "text/latex": [
       "\\begin{tabular}{r|ccccccc}\n",
       "\t& Date & Open & High & Low & Close & Adj Close & Volume\\\\\n",
       "\t\\hline\n",
       "\t& Date & Float64 & Float64 & Float64 & Float64 & Float64 & Int64\\\\\n",
       "\t\\hline\n",
       "\t1 & 2019-01-02 & 38.7225 & 39.7125 & 38.5575 & 39.48 & 38.2775 & 148158800 \\\\\n",
       "\t2 & 2019-01-03 & 35.995 & 36.43 & 35.5 & 35.5475 & 34.4648 & 365248800 \\\\\n",
       "\t3 & 2019-01-04 & 36.1325 & 37.1375 & 35.95 & 37.065 & 35.9361 & 234428400 \\\\\n",
       "\t4 & 2019-01-07 & 37.175 & 37.2075 & 36.475 & 36.9825 & 35.8561 & 219111200 \\\\\n",
       "\t5 & 2019-01-08 & 37.39 & 37.955 & 37.13 & 37.6875 & 36.5396 & 164101200 \\\\\n",
       "\t6 & 2019-01-09 & 37.8225 & 38.6325 & 37.4075 & 38.3275 & 37.1601 & 180396400 \\\\\n",
       "\t7 & 2019-01-10 & 38.125 & 38.4925 & 37.715 & 38.45 & 37.2789 & 143122800 \\\\\n",
       "\t8 & 2019-01-11 & 38.22 & 38.425 & 37.8775 & 38.0725 & 36.9129 & 108092800 \\\\\n",
       "\t9 & 2019-01-14 & 37.7125 & 37.8175 & 37.305 & 37.5 & 36.3578 & 129756800 \\\\\n",
       "\t10 & 2019-01-15 & 37.5675 & 38.3475 & 37.5125 & 38.2675 & 37.102 & 114843600 \\\\\n",
       "\t11 & 2019-01-16 & 38.27 & 38.97 & 38.25 & 38.735 & 37.5552 & 122278800 \\\\\n",
       "\t12 & 2019-01-17 & 38.55 & 39.415 & 38.315 & 38.965 & 37.7782 & 119284800 \\\\\n",
       "\t13 & 2019-01-18 & 39.375 & 39.47 & 38.995 & 39.205 & 38.0109 & 135004000 \\\\\n",
       "\t14 & 2019-01-22 & 39.1025 & 39.1825 & 38.155 & 38.325 & 37.1577 & 121576000 \\\\\n",
       "\t15 & 2019-01-23 & 38.5375 & 38.785 & 37.925 & 38.48 & 37.308 & 92522400 \\\\\n",
       "\t16 & 2019-01-24 & 38.5275 & 38.62 & 37.935 & 38.175 & 37.0123 & 101766000 \\\\\n",
       "\t17 & 2019-01-25 & 38.87 & 39.5325 & 38.58 & 39.44 & 38.2387 & 134142000 \\\\\n",
       "\t18 & 2019-01-28 & 38.9475 & 39.0825 & 38.415 & 39.075 & 37.8849 & 104768400 \\\\\n",
       "\t19 & 2019-01-29 & 39.0625 & 39.5325 & 38.5275 & 38.67 & 37.4922 & 166348800 \\\\\n",
       "\t20 & 2019-01-30 & 40.8125 & 41.5375 & 40.0575 & 41.3125 & 40.0542 & 244439200 \\\\\n",
       "\t21 & 2019-01-31 & 41.5275 & 42.25 & 41.14 & 41.61 & 40.3427 & 162958400 \\\\\n",
       "\t22 & 2019-02-01 & 41.74 & 42.245 & 41.4825 & 41.63 & 40.362 & 130672400 \\\\\n",
       "\t23 & 2019-02-04 & 41.8525 & 42.915 & 41.82 & 42.8125 & 41.5085 & 125982000 \\\\\n",
       "\t24 & 2019-02-05 & 43.215 & 43.77 & 43.0875 & 43.545 & 42.2187 & 144406400 \\\\\n",
       "\t25 & 2019-02-06 & 43.6625 & 43.8925 & 43.2125 & 43.56 & 42.2333 & 112958400 \\\\\n",
       "\t26 & 2019-02-07 & 43.1 & 43.485 & 42.585 & 42.735 & 41.4334 & 126966800 \\\\\n",
       "\t27 & 2019-02-08 & 42.2475 & 42.665 & 42.105 & 42.6025 & 41.4821 & 95280000 \\\\\n",
       "\t28 & 2019-02-11 & 42.7625 & 42.8025 & 42.3125 & 42.3575 & 41.2435 & 83973600 \\\\\n",
       "\t29 & 2019-02-12 & 42.525 & 42.75 & 42.425 & 42.7225 & 41.5989 & 89134000 \\\\\n",
       "\t30 & 2019-02-13 & 42.8475 & 43.12 & 42.48 & 42.545 & 41.4261 & 89960800 \\\\\n",
       "\t$\\dots$ & $\\dots$ & $\\dots$ & $\\dots$ & $\\dots$ & $\\dots$ & $\\dots$ & $\\dots$ \\\\\n",
       "\\end{tabular}\n"
      ],
      "text/plain": [
       "\u001b[1m757×7 DataFrame\u001b[0m\n",
       "\u001b[1m Row \u001b[0m│\u001b[1m Date       \u001b[0m\u001b[1m Open     \u001b[0m\u001b[1m High     \u001b[0m\u001b[1m Low      \u001b[0m\u001b[1m Close    \u001b[0m\u001b[1m Adj Close \u001b[0m\u001b[1m Volume  \u001b[0m ⋯\n",
       "\u001b[1m     \u001b[0m│\u001b[90m Date       \u001b[0m\u001b[90m Float64  \u001b[0m\u001b[90m Float64  \u001b[0m\u001b[90m Float64  \u001b[0m\u001b[90m Float64  \u001b[0m\u001b[90m Float64   \u001b[0m\u001b[90m Int64   \u001b[0m ⋯\n",
       "─────┼──────────────────────────────────────────────────────────────────────────\n",
       "   1 │ 2019-01-02   38.7225   39.7125   38.5575   39.48      38.2775  14815880 ⋯\n",
       "   2 │ 2019-01-03   35.995    36.43     35.5      35.5475    34.4648  36524880\n",
       "   3 │ 2019-01-04   36.1325   37.1375   35.95     37.065     35.9361  23442840\n",
       "   4 │ 2019-01-07   37.175    37.2075   36.475    36.9825    35.8561  21911120\n",
       "   5 │ 2019-01-08   37.39     37.955    37.13     37.6875    36.5396  16410120 ⋯\n",
       "   6 │ 2019-01-09   37.8225   38.6325   37.4075   38.3275    37.1601  18039640\n",
       "   7 │ 2019-01-10   38.125    38.4925   37.715    38.45      37.2789  14312280\n",
       "   8 │ 2019-01-11   38.22     38.425    37.8775   38.0725    36.9129  10809280\n",
       "   9 │ 2019-01-14   37.7125   37.8175   37.305    37.5       36.3578  12975680 ⋯\n",
       "  10 │ 2019-01-15   37.5675   38.3475   37.5125   38.2675    37.102   11484360\n",
       "  11 │ 2019-01-16   38.27     38.97     38.25     38.735     37.5552  12227880\n",
       "  ⋮  │     ⋮          ⋮         ⋮         ⋮         ⋮          ⋮          ⋮    ⋱\n",
       " 748 │ 2021-12-17  169.93    173.47    169.69    171.14     170.922   19543270\n",
       " 749 │ 2021-12-20  168.28    170.58    167.46    169.75     169.534   10749910 ⋯\n",
       " 750 │ 2021-12-21  171.56    173.2     169.12    172.99     172.77     9118590\n",
       " 751 │ 2021-12-22  173.04    175.86    172.15    175.64     175.417    9213530\n",
       " 752 │ 2021-12-23  175.85    176.85    175.27    176.28     176.056    6835660\n",
       " 753 │ 2021-12-27  177.09    180.42    177.07    180.33     180.101    7491960 ⋯\n",
       " 754 │ 2021-12-28  180.16    181.33    178.53    179.29     179.062    7914430\n",
       " 755 │ 2021-12-29  179.33    180.63    178.14    179.38     179.152    6234890\n",
       " 756 │ 2021-12-30  179.47    180.57    178.09    178.2      177.973    5977300\n",
       " 757 │ 2021-12-31  178.09    179.23    177.26    177.57     177.344    6406230 ⋯\n",
       "\u001b[36m                                                   1 column and 736 rows omitted\u001b[0m"
      ]
     },
     "execution_count": 2,
     "metadata": {},
     "output_type": "execute_result"
    }
   ],
   "source": [
    "data = CSV.read(\"AAPL.csv\", DataFrame)"
   ]
  },
  {
   "cell_type": "markdown",
   "id": "5f73186b-84d6-41bd-8bba-5493fb5eca80",
   "metadata": {
    "slideshow": {
     "slide_type": "subslide"
    },
    "tags": []
   },
   "source": [
    "Let's extract a time series of close prices for the `AAPL` stock. To make training easier, we create a vector `X` and a vector `Y`, with a length of 756 (1 less than the length of the data set). `Y` is simply the vector of prices shifted by one day, i.e., `Y[t]` is tomorrow’s closing price.\n"
   ]
  },
  {
   "cell_type": "code",
   "execution_count": 3,
   "id": "1a99bc27-19c1-48d3-86c8-c2e9246d1298",
   "metadata": {
    "slideshow": {
     "slide_type": "fragment"
    },
    "tags": []
   },
   "outputs": [
    {
     "data": {
      "text/plain": [
       "756-element view(::Vector{Float32}, 2:757) with eltype Float32:\n",
       "  35.5475\n",
       "  37.065\n",
       "  36.9825\n",
       "  37.6875\n",
       "  38.3275\n",
       "  38.45\n",
       "  38.0725\n",
       "  37.5\n",
       "  38.2675\n",
       "  38.735\n",
       "  38.965\n",
       "  39.205\n",
       "  38.325\n",
       "   ⋮\n",
       " 179.3\n",
       " 172.26\n",
       " 171.14\n",
       " 169.75\n",
       " 172.99\n",
       " 175.64\n",
       " 176.28\n",
       " 180.33\n",
       " 179.29\n",
       " 179.38\n",
       " 178.2\n",
       " 177.57"
      ]
     },
     "execution_count": 3,
     "metadata": {},
     "output_type": "execute_result"
    }
   ],
   "source": [
    "price = @. Float32(data.Close)\n",
    "X = @view price[1:end-1]\n",
    "Y = @view price[2:end]"
   ]
  },
  {
   "cell_type": "markdown",
   "id": "a846841e-f52b-4c31-992e-32b511400f13",
   "metadata": {
    "slideshow": {
     "slide_type": "slide"
    },
    "tags": []
   },
   "source": [
    "## Recurrent data in `Flux.jl`"
   ]
  },
  {
   "cell_type": "markdown",
   "id": "8b2b05ee-31cd-4da1-8589-3416c5b81b50",
   "metadata": {
    "slideshow": {
     "slide_type": "fragment"
    },
    "tags": []
   },
   "source": [
    "First we need to convert the data into a format Flux can understand. Flux expects a different data shape than most other machine learning libraries such as PyTorch or TensorFlow.\n",
    "\n",
    "Typically, recurrent models expect input data in the form of 3-dimensional arrays with structure `(features, sequence_length, batch_size)`. Flux expects a vector of length `sequence_length` with structure `(features, batch_size)`.\n",
    "\n",
    "To keep things simple, we will work with the entire sequence length of 756. Furthermore, we have a single feature (today’s closing price) and a single batch. In other words, we can reshape the input data as follows:"
   ]
  },
  {
   "cell_type": "code",
   "execution_count": 4,
   "id": "bac89dff-4a20-4f23-b7c4-9d4c538326c4",
   "metadata": {
    "slideshow": {
     "slide_type": "subslide"
    },
    "tags": []
   },
   "outputs": [
    {
     "data": {
      "text/plain": [
       "756-element Vector{Vector{Float32}}:\n",
       " [39.48]\n",
       " [35.5475]\n",
       " [37.065]\n",
       " [36.9825]\n",
       " [37.6875]\n",
       " [38.3275]\n",
       " [38.45]\n",
       " [38.0725]\n",
       " [37.5]\n",
       " [38.2675]\n",
       " [38.735]\n",
       " [38.965]\n",
       " [39.205]\n",
       " ⋮\n",
       " [174.33]\n",
       " [179.3]\n",
       " [172.26]\n",
       " [171.14]\n",
       " [169.75]\n",
       " [172.99]\n",
       " [175.64]\n",
       " [176.28]\n",
       " [180.33]\n",
       " [179.29]\n",
       " [179.38]\n",
       " [178.2]"
      ]
     },
     "execution_count": 4,
     "metadata": {},
     "output_type": "execute_result"
    }
   ],
   "source": [
    "X = [[x] for x ∈ X]"
   ]
  },
  {
   "cell_type": "markdown",
   "id": "5f12c0a5-9779-42c6-a891-a8a0fd205d3d",
   "metadata": {
    "slideshow": {
     "slide_type": "subslide"
    },
    "tags": []
   },
   "source": [
    "(reminder: to make the `∈` symbol, type: `\\in` and push`<tab>`) Note there are many different ways to do that list transformation -- eg `map(x->[x], X)` -- you should stick with the version that you and your co-coders like best. And if it's code that runs often, you should experiment with `@code_typed`, `@code_lowered`, and `@benchmark` to find out if your favorite solution performs well."
   ]
  },
  {
   "cell_type": "markdown",
   "id": "79e8f56d-0bda-476a-a2bf-d64d9fd88824",
   "metadata": {
    "slideshow": {
     "slide_type": "fragment"
    },
    "tags": []
   },
   "source": [
    "If our input data were multivariate or had multiple batches, we would have to reshape our data differently."
   ]
  },
  {
   "cell_type": "markdown",
   "id": "80ef6dba-8e58-49e3-a390-baadf6ad960d",
   "metadata": {
    "slideshow": {
     "slide_type": "slide"
    },
    "tags": []
   },
   "source": [
    "## Recurrent model"
   ]
  },
  {
   "cell_type": "markdown",
   "id": "fbe8eec0-4d9c-486d-b4d6-f3543c3c168f",
   "metadata": {
    "slideshow": {
     "slide_type": "fragment"
    },
    "tags": []
   },
   "source": [
    "There are a lot of details I omitted, such as choosing a sensible sequence length, normalizing the data, and so on. While these are not relevant to our example, they are crucial to building a good deep learning model.\n",
    "\n",
    "But let's keep it simple for now: Creating a recurrent neural network model in `Flux.jl` is as easy as possible:"
   ]
  },
  {
   "cell_type": "code",
   "execution_count": 5,
   "id": "24c3b300-f909-4c53-8dad-dad9a07c99d6",
   "metadata": {
    "slideshow": {
     "slide_type": "subslide"
    },
    "tags": []
   },
   "outputs": [],
   "source": [
    "using Flux, Plots"
   ]
  },
  {
   "cell_type": "code",
   "execution_count": 6,
   "id": "44675b2c-7970-44f3-8015-e20f36ee69c2",
   "metadata": {
    "slideshow": {
     "slide_type": "fragment"
    },
    "tags": []
   },
   "outputs": [
    {
     "data": {
      "text/plain": [
       "Chain(\n",
       "  Recur(\n",
       "    RNNCell(1 => 32, relu),             \u001b[90m# 1_120 parameters\u001b[39m\n",
       "  ),\n",
       "  Dense(32 => 1),                       \u001b[90m# 33 parameters\u001b[39m\n",
       ") \u001b[90m        # Total: 6 trainable arrays, \u001b[39m1_153 parameters,\n",
       "\u001b[90m          # plus 1 non-trainable, 32 parameters, summarysize \u001b[39m4.871 KiB."
      ]
     },
     "execution_count": 6,
     "metadata": {},
     "output_type": "execute_result"
    }
   ],
   "source": [
    "model_single = Chain(\n",
    "    RNN(1 => 32, relu),\n",
    "    Dense(32 => 1, identity)\n",
    ")"
   ]
  },
  {
   "cell_type": "markdown",
   "id": "397f18c5-b899-42db-804f-a6579439b49c",
   "metadata": {
    "slideshow": {
     "slide_type": "fragment"
    },
    "tags": []
   },
   "source": [
    "That’s it! `model` is a neural network composed of 2 chained layers, a recurrent layer with input dimension 1, output dimension 32, and [ReLU](https://en.wikipedia.org/wiki/Rectifier_(neural_networks)) activation, and a fully-connected layer with input dimension 32, output dimension 1, and linear activation."
   ]
  },
  {
   "cell_type": "markdown",
   "id": "708a696c-358d-4823-a919-41c2eb8ed246",
   "metadata": {
    "slideshow": {
     "slide_type": "subslide"
    },
    "tags": []
   },
   "source": [
    "### Training the model"
   ]
  },
  {
   "cell_type": "markdown",
   "id": "59feeab5-25b1-468b-8f86-e5a3c10c6807",
   "metadata": {
    "slideshow": {
     "slide_type": "fragment"
    },
    "tags": []
   },
   "source": [
    "Now we are ready to train our model. We will train our model for 100 epochs using the [Adam](https://en.wikipedia.org/wiki/Stochastic_gradient_descent#Adam) optimizer and the [mean squared error](https://en.wikipedia.org/wiki/Mean_squared_error) loss. Note that Flux comes with a multitude of [optimizers](https://fluxml.ai/Flux.jl/stable/training/optimisers/) and [loss functions](https://fluxml.ai/Flux.jl/stable/models/losses/), but it is also possible (and relatively easy) to define your own."
   ]
  },
  {
   "cell_type": "markdown",
   "id": "c58302e4-5e99-4dcb-b354-3b4103fa92b5",
   "metadata": {
    "slideshow": {
     "slide_type": "subslide"
    },
    "tags": []
   },
   "source": [
    "First let's define a loss function:"
   ]
  },
  {
   "cell_type": "code",
   "execution_count": 7,
   "id": "8faaf17a-4f61-462a-8cae-07648b56ab5e",
   "metadata": {
    "slideshow": {
     "slide_type": "fragment"
    },
    "tags": []
   },
   "outputs": [
    {
     "data": {
      "text/plain": [
       "loss"
      ]
     },
     "execution_count": 7,
     "metadata": {},
     "output_type": "execute_result"
    }
   ],
   "source": [
    "\"\"\"\n",
    "    loss(model, x::AbstractArray{T,1}, y::T)\n",
    "\n",
    "Single-element loss function\n",
    "\"\"\"\n",
    "function loss(model, x::AbstractArray{T,1}, y::T) where T <: Number\n",
    "    Flux.Losses.mse(model(x), y)\n",
    "end\n",
    "\n",
    "\"\"\"\n",
    "    loss(model, X::B, Y::A) where {T <: Number, A <: AbstractArray{T,1}, B <: AbstractArray{<:A, 1}}\n",
    "\n",
    "Vector-based loss function.\n",
    "\"\"\"\n",
    "function loss(model, X::B, Y::A) where {T <: Number, A <: AbstractArray{T,1}, B <: AbstractArray{<:A, 1}}\n",
    "    model(X[1]) # ignores the output but updates the hidden states -- sometimes called \"warmup\"\n",
    "    sum(loss(model, xi, yi) for (xi, yi) in zip(X[2:end], Y[2:end]))\n",
    "end"
   ]
  },
  {
   "cell_type": "code",
   "execution_count": 8,
   "id": "86cd6c41-2614-469f-bdb8-0bea146b8fce",
   "metadata": {
    "slideshow": {
     "slide_type": "subslide"
    },
    "tags": []
   },
   "outputs": [
    {
     "data": {
      "text/plain": [
       "7.0591605f6"
      ]
     },
     "execution_count": 8,
     "metadata": {},
     "output_type": "execute_result"
    }
   ],
   "source": [
    "loss(model_single, X, Y)"
   ]
  },
  {
   "cell_type": "markdown",
   "id": "d9e361c8-6ecc-4bef-a96b-786dbeffb633",
   "metadata": {
    "slideshow": {
     "slide_type": "subslide"
    },
    "tags": []
   },
   "source": [
    "The training function `Flux.train!` essentially does this:\n",
    "```julia\n",
    "# Compute the gradient of the mean squared error loss\n",
    "∇ = gradient(θ) do\n",
    "    model(X[1]) # Warm-up the model\n",
    "    sum(Flux.Losses.mse.([model(x) for x ∈ X[2:end]], Y[2:end])) # Compute the total loss\n",
    "end\n",
    "Flux.update!(opt, θ, ∇) # Update the parameters\n",
    "```"
   ]
  },
  {
   "cell_type": "code",
   "execution_count": 9,
   "id": "38334a0c-0b38-41ba-8dc7-d92aa7ba70ce",
   "metadata": {
    "slideshow": {
     "slide_type": "subslide"
    },
    "tags": []
   },
   "outputs": [
    {
     "name": "stdout",
     "output_type": "stream",
     "text": [
      "New Loss = 11874.761               \r"
     ]
    }
   ],
   "source": [
    "epochs = 1000\n",
    "opt = Adam(1e-6)\n",
    "θ = Flux.params(model_single) # Keep track of the model parameters\n",
    "losses_single = Float32[] # a Float32 array\n",
    "loss_fn(x, y) = loss(model_single, x, y)\n",
    "for epoch ∈ 1:epochs # Training loop\n",
    "    Flux.reset!(model_single) # Reset the hidden state of the RNN\n",
    "    # model(X[1])\n",
    "    Flux.train!(loss_fn, θ, zip(X[2:end], Y[2:end]), opt)\n",
    "    new_loss = loss_fn(X, Y)\n",
    "    print(\"$(epoch): New Loss = $(new_loss)             \\r\")\n",
    "    push!(losses_single, new_loss)\n",
    "end"
   ]
  },
  {
   "cell_type": "markdown",
   "id": "9afbba62-4699-44d1-aac9-9ca9d9e74c36",
   "metadata": {
    "slideshow": {
     "slide_type": "fragment"
    },
    "tags": []
   },
   "source": [
    "You should see the loss gradually count down"
   ]
  },
  {
   "cell_type": "code",
   "execution_count": 10,
   "id": "a484337f-0007-49e8-857b-06b89899e3b2",
   "metadata": {
    "slideshow": {
     "slide_type": "subslide"
    },
    "tags": []
   },
   "outputs": [
    {
     "data": {
      "image/svg+xml": [
       "<?xml version=\"1.0\" encoding=\"utf-8\"?>\n",
       "<svg xmlns=\"http://www.w3.org/2000/svg\" xmlns:xlink=\"http://www.w3.org/1999/xlink\" width=\"600\" height=\"400\" viewBox=\"0 0 2400 1600\">\n",
       "<defs>\n",
       "  <clipPath id=\"clip320\">\n",
       "    <rect x=\"0\" y=\"0\" width=\"2400\" height=\"1600\"/>\n",
       "  </clipPath>\n",
       "</defs>\n",
       "<path clip-path=\"url(#clip320)\" d=\"\n",
       "M0 1600 L2400 1600 L2400 0 L0 0  Z\n",
       "  \" fill=\"#ffffff\" fill-rule=\"evenodd\" fill-opacity=\"1\"/>\n",
       "<defs>\n",
       "  <clipPath id=\"clip321\">\n",
       "    <rect x=\"480\" y=\"0\" width=\"1681\" height=\"1600\"/>\n",
       "  </clipPath>\n",
       "</defs>\n",
       "<path clip-path=\"url(#clip320)\" d=\"\n",
       "M159.422 1474.16 L2352.76 1474.16 L2352.76 47.2441 L159.422 47.2441  Z\n",
       "  \" fill=\"#ffffff\" fill-rule=\"evenodd\" fill-opacity=\"1\"/>\n",
       "<defs>\n",
       "  <clipPath id=\"clip322\">\n",
       "    <rect x=\"159\" y=\"47\" width=\"2194\" height=\"1428\"/>\n",
       "  </clipPath>\n",
       "</defs>\n",
       "<polyline clip-path=\"url(#clip322)\" style=\"stroke:#000000; stroke-linecap:round; stroke-linejoin:round; stroke-width:2; stroke-opacity:0.1; fill:none\" points=\"\n",
       "  221.498,1474.16 221.498,47.2441 \n",
       "  \"/>\n",
       "<polyline clip-path=\"url(#clip322)\" style=\"stroke:#000000; stroke-linecap:round; stroke-linejoin:round; stroke-width:2; stroke-opacity:0.1; fill:none\" points=\"\n",
       "  1600.95,1474.16 1600.95,47.2441 \n",
       "  \"/>\n",
       "<polyline clip-path=\"url(#clip320)\" style=\"stroke:#000000; stroke-linecap:round; stroke-linejoin:round; stroke-width:4; stroke-opacity:1; fill:none\" points=\"\n",
       "  159.422,1474.16 2352.76,1474.16 \n",
       "  \"/>\n",
       "<polyline clip-path=\"url(#clip320)\" style=\"stroke:#000000; stroke-linecap:round; stroke-linejoin:round; stroke-width:4; stroke-opacity:1; fill:none\" points=\"\n",
       "  221.498,1474.16 221.498,1455.27 \n",
       "  \"/>\n",
       "<polyline clip-path=\"url(#clip320)\" style=\"stroke:#000000; stroke-linecap:round; stroke-linejoin:round; stroke-width:4; stroke-opacity:1; fill:none\" points=\"\n",
       "  1600.95,1474.16 1600.95,1455.27 \n",
       "  \"/>\n",
       "<path clip-path=\"url(#clip320)\" d=\"M186.481 1548.29 L194.119 1548.29 L194.119 1521.92 L185.809 1523.59 L185.809 1519.33 L194.073 1517.66 L198.749 1517.66 L198.749 1548.29 L206.388 1548.29 L206.388 1552.22 L186.481 1552.22 L186.481 1548.29 Z\" fill=\"#000000\" fill-rule=\"evenodd\" fill-opacity=\"1\" /><path clip-path=\"url(#clip320)\" d=\"M225.832 1520.74 Q222.221 1520.74 220.392 1524.31 Q218.587 1527.85 218.587 1534.98 Q218.587 1542.09 220.392 1545.65 Q222.221 1549.19 225.832 1549.19 Q229.466 1549.19 231.272 1545.65 Q233.101 1542.09 233.101 1534.98 Q233.101 1527.85 231.272 1524.31 Q229.466 1520.74 225.832 1520.74 M225.832 1517.04 Q231.642 1517.04 234.698 1521.65 Q237.777 1526.23 237.777 1534.98 Q237.777 1543.71 234.698 1548.31 Q231.642 1552.9 225.832 1552.9 Q220.022 1552.9 216.943 1548.31 Q213.888 1543.71 213.888 1534.98 Q213.888 1526.23 216.943 1521.65 Q220.022 1517.04 225.832 1517.04 Z\" fill=\"#000000\" fill-rule=\"evenodd\" fill-opacity=\"1\" /><path clip-path=\"url(#clip320)\" d=\"M247.481 1499.24 Q244.547 1499.24 243.062 1502.13 Q241.595 1505.01 241.595 1510.8 Q241.595 1516.58 243.062 1519.47 Q244.547 1522.35 247.481 1522.35 Q250.434 1522.35 251.901 1519.47 Q253.387 1516.58 253.387 1510.8 Q253.387 1505.01 251.901 1502.13 Q250.434 1499.24 247.481 1499.24 M247.481 1496.23 Q252.202 1496.23 254.685 1499.97 Q257.186 1503.69 257.186 1510.8 Q257.186 1517.89 254.685 1521.64 Q252.202 1525.36 247.481 1525.36 Q242.761 1525.36 240.259 1521.64 Q237.777 1517.89 237.777 1510.8 Q237.777 1503.69 240.259 1499.97 Q242.761 1496.23 247.481 1496.23 Z\" fill=\"#000000\" fill-rule=\"evenodd\" fill-opacity=\"1\" /><path clip-path=\"url(#clip320)\" d=\"M1566.73 1548.29 L1574.36 1548.29 L1574.36 1521.92 L1566.05 1523.59 L1566.05 1519.33 L1574.32 1517.66 L1578.99 1517.66 L1578.99 1548.29 L1586.63 1548.29 L1586.63 1552.22 L1566.73 1552.22 L1566.73 1548.29 Z\" fill=\"#000000\" fill-rule=\"evenodd\" fill-opacity=\"1\" /><path clip-path=\"url(#clip320)\" d=\"M1606.08 1520.74 Q1602.47 1520.74 1600.64 1524.31 Q1598.83 1527.85 1598.83 1534.98 Q1598.83 1542.09 1600.64 1545.65 Q1602.47 1549.19 1606.08 1549.19 Q1609.71 1549.19 1611.52 1545.65 Q1613.35 1542.09 1613.35 1534.98 Q1613.35 1527.85 1611.52 1524.31 Q1609.71 1520.74 1606.08 1520.74 M1606.08 1517.04 Q1611.89 1517.04 1614.94 1521.65 Q1618.02 1526.23 1618.02 1534.98 Q1618.02 1543.71 1614.94 1548.31 Q1611.89 1552.9 1606.08 1552.9 Q1600.27 1552.9 1597.19 1548.31 Q1594.13 1543.71 1594.13 1534.98 Q1594.13 1526.23 1597.19 1521.65 Q1600.27 1517.04 1606.08 1517.04 Z\" fill=\"#000000\" fill-rule=\"evenodd\" fill-opacity=\"1\" /><path clip-path=\"url(#clip320)\" d=\"M1622.59 1521.62 L1635.85 1521.62 L1635.85 1524.81 L1618.02 1524.81 L1618.02 1521.62 Q1620.18 1519.38 1623.91 1515.62 Q1627.65 1511.84 1628.61 1510.75 Q1630.43 1508.7 1631.15 1507.29 Q1631.88 1505.86 1631.88 1504.48 Q1631.88 1502.24 1630.3 1500.83 Q1628.74 1499.42 1626.22 1499.42 Q1624.44 1499.42 1622.44 1500.04 Q1620.47 1500.67 1618.21 1501.93 L1618.21 1498.09 Q1620.5 1497.17 1622.5 1496.7 Q1624.49 1496.23 1626.15 1496.23 Q1630.51 1496.23 1633.11 1498.41 Q1635.7 1500.59 1635.7 1504.24 Q1635.7 1505.97 1635.04 1507.53 Q1634.4 1509.07 1632.69 1511.18 Q1632.22 1511.72 1629.7 1514.34 Q1627.18 1516.93 1622.59 1521.62 Z\" fill=\"#000000\" fill-rule=\"evenodd\" fill-opacity=\"1\" /><polyline clip-path=\"url(#clip322)\" style=\"stroke:#000000; stroke-linecap:round; stroke-linejoin:round; stroke-width:2; stroke-opacity:0.1; fill:none\" points=\"\n",
       "  159.422,1470.47 2352.76,1470.47 \n",
       "  \"/>\n",
       "<polyline clip-path=\"url(#clip322)\" style=\"stroke:#000000; stroke-linecap:round; stroke-linejoin:round; stroke-width:2; stroke-opacity:0.1; fill:none\" points=\"\n",
       "  159.422,978.799 2352.76,978.799 \n",
       "  \"/>\n",
       "<polyline clip-path=\"url(#clip322)\" style=\"stroke:#000000; stroke-linecap:round; stroke-linejoin:round; stroke-width:2; stroke-opacity:0.1; fill:none\" points=\"\n",
       "  159.422,487.128 2352.76,487.128 \n",
       "  \"/>\n",
       "<polyline clip-path=\"url(#clip320)\" style=\"stroke:#000000; stroke-linecap:round; stroke-linejoin:round; stroke-width:4; stroke-opacity:1; fill:none\" points=\"\n",
       "  159.422,1474.16 159.422,47.2441 \n",
       "  \"/>\n",
       "<polyline clip-path=\"url(#clip320)\" style=\"stroke:#000000; stroke-linecap:round; stroke-linejoin:round; stroke-width:4; stroke-opacity:1; fill:none\" points=\"\n",
       "  159.422,1470.47 178.32,1470.47 \n",
       "  \"/>\n",
       "<polyline clip-path=\"url(#clip320)\" style=\"stroke:#000000; stroke-linecap:round; stroke-linejoin:round; stroke-width:4; stroke-opacity:1; fill:none\" points=\"\n",
       "  159.422,978.799 178.32,978.799 \n",
       "  \"/>\n",
       "<polyline clip-path=\"url(#clip320)\" style=\"stroke:#000000; stroke-linecap:round; stroke-linejoin:round; stroke-width:4; stroke-opacity:1; fill:none\" points=\"\n",
       "  159.422,487.128 178.32,487.128 \n",
       "  \"/>\n",
       "<path clip-path=\"url(#clip320)\" d=\"M51.6634 1490.26 L59.3023 1490.26 L59.3023 1463.9 L50.9921 1465.56 L50.9921 1461.31 L59.256 1459.64 L63.9319 1459.64 L63.9319 1490.26 L71.5707 1490.26 L71.5707 1494.2 L51.6634 1494.2 L51.6634 1490.26 Z\" fill=\"#000000\" fill-rule=\"evenodd\" fill-opacity=\"1\" /><path clip-path=\"url(#clip320)\" d=\"M91.0151 1462.72 Q87.404 1462.72 85.5753 1466.28 Q83.7697 1469.82 83.7697 1476.95 Q83.7697 1484.06 85.5753 1487.62 Q87.404 1491.17 91.0151 1491.17 Q94.6493 1491.17 96.4548 1487.62 Q98.2835 1484.06 98.2835 1476.95 Q98.2835 1469.82 96.4548 1466.28 Q94.6493 1462.72 91.0151 1462.72 M91.0151 1459.01 Q96.8252 1459.01 99.8808 1463.62 Q102.959 1468.2 102.959 1476.95 Q102.959 1485.68 99.8808 1490.29 Q96.8252 1494.87 91.0151 1494.87 Q85.2049 1494.87 82.1262 1490.29 Q79.0707 1485.68 79.0707 1476.95 Q79.0707 1468.2 82.1262 1463.62 Q85.2049 1459.01 91.0151 1459.01 Z\" fill=\"#000000\" fill-rule=\"evenodd\" fill-opacity=\"1\" /><path clip-path=\"url(#clip320)\" d=\"M115.636 1442.02 L106.044 1457.01 L115.636 1457.01 L115.636 1442.02 M114.639 1438.71 L119.416 1438.71 L119.416 1457.01 L123.422 1457.01 L123.422 1460.17 L119.416 1460.17 L119.416 1466.79 L115.636 1466.79 L115.636 1460.17 L102.959 1460.17 L102.959 1456.5 L114.639 1438.71 Z\" fill=\"#000000\" fill-rule=\"evenodd\" fill-opacity=\"1\" /><path clip-path=\"url(#clip320)\" d=\"M53.958 998.592 L61.5968 998.592 L61.5968 972.226 L53.2867 973.893 L53.2867 969.634 L61.5505 967.967 L66.2264 967.967 L66.2264 998.592 L73.8653 998.592 L73.8653 1002.53 L53.958 1002.53 L53.958 998.592 Z\" fill=\"#000000\" fill-rule=\"evenodd\" fill-opacity=\"1\" /><path clip-path=\"url(#clip320)\" d=\"M93.3096 971.046 Q89.6985 971.046 87.8698 974.61 Q86.0643 978.152 86.0643 985.282 Q86.0643 992.388 87.8698 995.953 Q89.6985 999.495 93.3096 999.495 Q96.9438 999.495 98.7494 995.953 Q100.578 992.388 100.578 985.282 Q100.578 978.152 98.7494 974.61 Q96.9438 971.046 93.3096 971.046 M93.3096 967.342 Q99.1198 967.342 102.175 971.948 Q105.254 976.532 105.254 985.282 Q105.254 994.008 102.175 998.615 Q99.1198 1003.2 93.3096 1003.2 Q87.4995 1003.2 84.4208 998.615 Q81.3652 994.008 81.3652 985.282 Q81.3652 976.532 84.4208 971.948 Q87.4995 967.342 93.3096 967.342 Z\" fill=\"#000000\" fill-rule=\"evenodd\" fill-opacity=\"1\" /><path clip-path=\"url(#clip320)\" d=\"M106.439 947.037 L121.353 947.037 L121.353 950.234 L109.918 950.234 L109.918 957.118 Q110.746 956.835 111.573 956.704 Q112.401 956.553 113.228 956.553 Q117.93 956.553 120.676 959.13 Q123.422 961.707 123.422 966.108 Q123.422 970.64 120.601 973.161 Q117.78 975.662 112.645 975.662 Q110.878 975.662 109.034 975.361 Q107.21 975.06 105.254 974.458 L105.254 970.64 Q106.947 971.562 108.752 972.013 Q110.558 972.465 112.57 972.465 Q115.824 972.465 117.724 970.753 Q119.623 969.042 119.623 966.108 Q119.623 963.174 117.724 961.462 Q115.824 959.751 112.57 959.751 Q111.047 959.751 109.523 960.089 Q108.019 960.428 106.439 961.142 L106.439 947.037 Z\" fill=\"#000000\" fill-rule=\"evenodd\" fill-opacity=\"1\" /><path clip-path=\"url(#clip320)\" d=\"M52.7355 506.92 L60.3743 506.92 L60.3743 480.555 L52.0642 482.221 L52.0642 477.962 L60.328 476.295 L65.0039 476.295 L65.0039 506.92 L72.6428 506.92 L72.6428 510.855 L52.7355 510.855 L52.7355 506.92 Z\" fill=\"#000000\" fill-rule=\"evenodd\" fill-opacity=\"1\" /><path clip-path=\"url(#clip320)\" d=\"M92.0871 479.374 Q88.476 479.374 86.6473 482.939 Q84.8418 486.48 84.8418 493.61 Q84.8418 500.716 86.6473 504.281 Q88.476 507.823 92.0871 507.823 Q95.7213 507.823 97.5269 504.281 Q99.3556 500.716 99.3556 493.61 Q99.3556 486.48 97.5269 482.939 Q95.7213 479.374 92.0871 479.374 M92.0871 475.67 Q97.8973 475.67 100.953 480.277 Q104.031 484.86 104.031 493.61 Q104.031 502.337 100.953 506.943 Q97.8973 511.527 92.0871 511.527 Q86.2769 511.527 83.1983 506.943 Q80.1427 502.337 80.1427 493.61 Q80.1427 484.86 83.1983 480.277 Q86.2769 475.67 92.0871 475.67 Z\" fill=\"#000000\" fill-rule=\"evenodd\" fill-opacity=\"1\" /><path clip-path=\"url(#clip320)\" d=\"M114.056 467.891 Q111.498 467.891 109.994 469.64 Q108.508 471.389 108.508 474.436 Q108.508 477.464 109.994 479.232 Q111.498 480.981 114.056 480.981 Q116.614 480.981 118.1 479.232 Q119.604 477.464 119.604 474.436 Q119.604 471.389 118.1 469.64 Q116.614 467.891 114.056 467.891 M121.598 455.986 L121.598 459.446 Q120.169 458.769 118.702 458.412 Q117.253 458.054 115.824 458.054 Q112.062 458.054 110.069 460.593 Q108.094 463.132 107.812 468.267 Q108.922 466.631 110.595 465.766 Q112.269 464.882 114.282 464.882 Q118.513 464.882 120.958 467.458 Q123.422 470.016 123.422 474.436 Q123.422 478.762 120.864 481.376 Q118.307 483.99 114.056 483.99 Q109.185 483.99 106.608 480.266 Q104.031 476.524 104.031 469.433 Q104.031 462.775 107.191 458.825 Q110.351 454.857 115.673 454.857 Q117.103 454.857 118.551 455.139 Q120.018 455.421 121.598 455.986 Z\" fill=\"#000000\" fill-rule=\"evenodd\" fill-opacity=\"1\" /><polyline clip-path=\"url(#clip322)\" style=\"stroke:#009af9; stroke-linecap:round; stroke-linejoin:round; stroke-width:4; stroke-opacity:1; fill:none\" points=\"\n",
       "  221.498,87.6286 429.126,97.7521 550.581,107.809 636.755,118.025 703.597,128.523 758.21,139.358 804.385,150.555 844.384,162.165 879.665,174.228 911.225,186.771 \n",
       "  939.775,199.814 965.839,213.402 989.815,227.583 1012.01,242.398 1032.68,257.875 1052.01,274.068 1070.17,291.06 1087.29,308.901 1103.49,327.676 1118.85,347.475 \n",
       "  1133.47,368.388 1147.4,390.536 1160.72,414.053 1173.47,439.086 1185.7,465.782 1197.44,494.324 1208.75,524.98 1219.64,557.863 1230.15,592.513 1240.31,627.741 \n",
       "  1250.13,663.178 1259.64,699.406 1268.86,737.56 1277.8,778.553 1286.48,822.987 1294.92,871.669 1303.13,925.216 1311.12,984.201 1318.9,1048.83 1326.48,1118.52 \n",
       "  1333.88,1190.78 1341.1,1259.82 1348.15,1316.43 1355.03,1352.63 1361.76,1368.99 1368.35,1373.64 1374.79,1374.14 1381.1,1373.87 1387.27,1373.69 1393.32,1373.63 \n",
       "  1399.26,1373.66 1405.07,1373.71 1410.78,1373.79 1416.38,1373.87 1421.87,1373.96 1427.27,1374.04 1432.57,1374.13 1437.78,1374.21 1442.9,1374.3 1447.94,1374.39 \n",
       "  1452.89,1374.47 1457.76,1374.56 1462.55,1374.65 1467.27,1374.73 1471.91,1374.82 1476.49,1374.91 1480.99,1374.99 1485.43,1375.08 1489.8,1375.16 1494.11,1375.25 \n",
       "  1498.36,1375.34 1502.55,1375.42 1506.68,1375.5 1510.76,1375.58 1514.78,1375.66 1518.75,1375.74 1522.66,1375.82 1526.53,1375.9 1530.34,1375.98 1534.11,1376.05 \n",
       "  1537.83,1376.13 1541.51,1376.21 1545.14,1376.29 1548.73,1376.37 1552.27,1376.45 1555.77,1376.53 1559.24,1376.61 1562.66,1376.69 1566.05,1376.77 1569.39,1376.85 \n",
       "  1572.7,1376.93 1575.98,1377.01 1579.21,1377.08 1582.42,1377.16 1585.59,1377.24 1588.72,1377.32 1591.83,1377.4 1594.9,1377.48 1597.94,1377.56 1600.95,1377.63 \n",
       "  1603.93,1377.71 1606.88,1377.79 1609.81,1377.87 1612.7,1377.95 1615.57,1378.02 1618.41,1378.1 1621.22,1378.18 1624.01,1378.26 1626.77,1378.33 1629.5,1378.41 \n",
       "  1632.21,1378.49 1634.9,1378.56 1637.56,1378.63 1640.2,1378.71 1642.82,1378.78 1645.41,1378.86 1647.98,1378.93 1650.53,1379 1653.06,1379.08 1655.57,1379.15 \n",
       "  1658.05,1379.23 1660.52,1379.3 1662.96,1379.37 1665.39,1379.45 1667.79,1379.52 1670.18,1379.6 1672.55,1379.67 1674.9,1379.74 1677.23,1379.82 1679.54,1379.89 \n",
       "  1681.84,1379.96 1684.12,1380.04 1686.38,1380.11 1688.62,1380.18 1690.85,1380.26 1693.06,1380.33 1695.25,1380.4 1697.43,1380.48 1699.59,1380.55 1701.74,1380.62 \n",
       "  1703.87,1380.7 1705.99,1380.77 1708.09,1380.84 1710.18,1380.92 1712.25,1380.99 1714.31,1381.06 1716.36,1381.14 1718.39,1381.21 1720.4,1381.28 1722.41,1381.36 \n",
       "  1724.4,1381.43 1726.38,1381.5 1728.34,1381.57 1730.29,1381.65 1732.23,1381.72 1734.16,1381.79 1736.07,1381.87 1737.97,1381.94 1739.86,1382.01 1741.74,1382.08 \n",
       "  1743.61,1382.16 1745.46,1382.23 1747.3,1382.3 1749.14,1382.37 1750.96,1382.45 1752.77,1382.52 1754.57,1382.59 1756.35,1382.66 1758.13,1382.74 1759.9,1382.81 \n",
       "  1761.66,1382.88 1763.4,1382.95 1765.14,1383.03 1766.87,1383.1 1768.58,1383.17 1770.29,1383.24 1771.99,1383.32 1773.67,1383.39 1775.35,1383.46 1777.02,1383.53 \n",
       "  1778.68,1383.6 1780.33,1383.68 1781.97,1383.75 1783.61,1383.82 1785.23,1383.89 1786.84,1383.96 1788.45,1384.04 1790.05,1384.11 1791.64,1384.18 1793.22,1384.25 \n",
       "  1794.79,1384.32 1796.35,1384.4 1797.91,1384.47 1799.46,1384.54 1801,1384.61 1802.53,1384.68 1804.05,1384.76 1805.57,1384.83 1807.08,1384.9 1808.58,1384.97 \n",
       "  1810.08,1385.04 1811.56,1385.12 1813.04,1385.19 1814.51,1385.26 1815.98,1385.33 1817.44,1385.4 1818.89,1385.47 1820.33,1385.55 1821.77,1385.62 1823.2,1385.69 \n",
       "  1824.62,1385.76 1826.04,1385.83 1827.45,1385.9 1828.85,1385.97 1830.24,1386.05 1831.63,1386.12 1833.02,1386.19 1834.4,1386.26 1835.77,1386.33 1837.13,1386.4 \n",
       "  1838.49,1386.47 1839.84,1386.54 1841.19,1386.61 1842.53,1386.68 1843.86,1386.75 1845.19,1386.82 1846.51,1386.9 1847.83,1386.97 1849.14,1387.04 1850.45,1387.11 \n",
       "  1851.75,1387.18 1853.04,1387.25 1854.33,1387.32 1855.61,1387.39 1856.89,1387.46 1858.16,1387.53 1859.43,1387.6 1860.69,1387.67 1861.94,1387.74 1863.2,1387.81 \n",
       "  1864.44,1387.88 1865.68,1387.95 1866.92,1388.02 1868.15,1388.09 1869.37,1388.16 1870.59,1388.23 1871.81,1388.3 1873.02,1388.37 1874.22,1388.44 1875.42,1388.51 \n",
       "  1876.62,1388.58 1877.81,1388.65 1879,1388.72 1880.18,1388.79 1881.35,1388.86 1882.53,1388.93 1883.7,1388.99 1884.86,1389.06 1886.02,1389.13 1887.17,1389.2 \n",
       "  1888.32,1389.27 1889.47,1389.34 1890.61,1389.41 1891.74,1389.48 1892.88,1389.55 1894.01,1389.62 1895.13,1389.69 1896.25,1389.76 1897.36,1389.83 1898.48,1389.89 \n",
       "  1899.58,1389.96 1900.69,1390.03 1901.79,1390.1 1902.88,1390.17 1903.97,1390.24 1905.06,1390.31 1906.14,1390.38 1907.22,1390.45 1908.3,1390.52 1909.37,1390.58 \n",
       "  1910.44,1390.65 1911.5,1390.72 1912.56,1390.79 1913.62,1390.86 1914.67,1390.93 1915.72,1391 1916.77,1391.07 1917.81,1391.13 1918.85,1391.2 1919.88,1391.27 \n",
       "  1920.91,1391.34 1921.94,1391.41 1922.96,1391.48 1923.98,1391.54 1925,1391.61 1926.02,1391.68 1927.03,1391.75 1928.03,1391.82 1929.04,1391.88 1930.04,1391.95 \n",
       "  1931.03,1392.02 1932.03,1392.09 1933.02,1392.16 1934,1392.22 1934.99,1392.29 1935.97,1392.36 1936.95,1392.43 1937.92,1392.49 1938.89,1392.56 1939.86,1392.63 \n",
       "  1940.82,1392.7 1941.78,1392.76 1942.74,1392.83 1943.7,1392.9 1944.65,1392.97 1945.6,1393.03 1946.55,1393.1 1947.49,1393.17 1948.43,1393.24 1949.37,1393.3 \n",
       "  1950.3,1393.37 1951.24,1393.44 1952.16,1393.5 1953.09,1393.57 1954.01,1393.64 1954.93,1393.7 1955.85,1393.77 1956.77,1393.84 1957.68,1393.9 1958.59,1393.97 \n",
       "  1959.49,1394.04 1960.4,1394.1 1961.3,1394.17 1962.2,1394.24 1963.09,1394.3 1963.98,1394.37 1964.87,1394.44 1965.76,1394.5 1966.65,1394.57 1967.53,1394.64 \n",
       "  1968.41,1394.7 1969.29,1394.77 1970.16,1394.84 1971.03,1394.9 1971.9,1394.97 1972.77,1395.04 1973.63,1395.1 1974.5,1395.17 1975.35,1395.24 1976.21,1395.3 \n",
       "  1977.07,1395.37 1977.92,1395.44 1978.77,1395.5 1979.62,1395.57 1980.46,1395.63 1981.3,1395.7 1982.14,1395.77 1982.98,1395.83 1983.82,1395.9 1984.65,1395.97 \n",
       "  1985.48,1396.03 1986.31,1396.1 1987.14,1396.17 1987.96,1396.23 1988.78,1396.3 1989.6,1396.36 1990.42,1396.43 1991.23,1396.5 1992.05,1396.56 1992.86,1396.63 \n",
       "  1993.67,1396.7 1994.47,1396.76 1995.28,1396.83 1996.08,1396.89 1996.88,1396.96 1997.68,1397.03 1998.47,1397.09 1999.26,1397.16 2000.06,1397.22 2000.85,1397.29 \n",
       "  2001.63,1397.35 2002.42,1397.42 2003.2,1397.49 2003.98,1397.55 2004.76,1397.62 2005.54,1397.68 2006.31,1397.75 2007.09,1397.81 2007.86,1397.88 2008.63,1397.95 \n",
       "  2009.39,1398.01 2010.16,1398.08 2010.92,1398.14 2011.68,1398.21 2012.44,1398.27 2013.2,1398.34 2013.96,1398.4 2014.71,1398.47 2015.46,1398.54 2016.21,1398.6 \n",
       "  2016.96,1398.67 2017.7,1398.73 2018.45,1398.8 2019.19,1398.86 2019.93,1398.93 2020.67,1398.99 2021.41,1399.06 2022.14,1399.12 2022.88,1399.19 2023.61,1399.25 \n",
       "  2024.34,1399.32 2025.06,1399.38 2025.79,1399.45 2026.52,1399.51 2027.24,1399.58 2027.96,1399.64 2028.68,1399.71 2029.4,1399.77 2030.11,1399.84 2030.83,1399.9 \n",
       "  2031.54,1399.97 2032.25,1400.03 2032.96,1400.1 2033.66,1400.16 2034.37,1400.23 2035.07,1400.29 2035.78,1400.36 2036.48,1400.42 2037.18,1400.49 2037.87,1400.55 \n",
       "  2038.57,1400.62 2039.26,1400.68 2039.96,1400.75 2040.65,1400.81 2041.34,1400.88 2042.02,1400.94 2042.71,1401 2043.4,1401.07 2044.08,1401.13 2044.76,1401.2 \n",
       "  2045.44,1401.26 2046.12,1401.33 2046.8,1401.39 2047.47,1401.46 2048.14,1401.52 2048.82,1401.58 2049.49,1401.65 2050.16,1401.71 2050.83,1401.78 2051.49,1401.84 \n",
       "  2052.16,1401.91 2052.82,1401.97 2053.48,1402.03 2054.14,1402.1 2054.8,1402.16 2055.46,1402.23 2056.12,1402.29 2056.77,1402.35 2057.42,1402.42 2058.08,1402.48 \n",
       "  2058.73,1402.55 2059.37,1402.61 2060.02,1402.68 2060.67,1402.74 2061.31,1402.8 2061.96,1402.87 2062.6,1402.93 2063.24,1403 2063.88,1403.06 2064.52,1403.12 \n",
       "  2065.15,1403.19 2065.79,1403.25 2066.42,1403.31 2067.06,1403.38 2067.69,1403.44 2068.32,1403.51 2068.95,1403.57 2069.57,1403.63 2070.2,1403.7 2070.82,1403.76 \n",
       "  2071.45,1403.82 2072.07,1403.89 2072.69,1403.95 2073.31,1404.02 2073.93,1404.08 2074.54,1404.14 2075.16,1404.21 2075.77,1404.27 2076.39,1404.33 2077,1404.4 \n",
       "  2077.61,1404.46 2078.22,1404.53 2078.83,1404.59 2079.44,1404.65 2080.04,1404.72 2080.65,1404.78 2081.25,1404.84 2081.85,1404.91 2082.45,1404.97 2083.05,1405.04 \n",
       "  2083.65,1405.1 2084.25,1405.16 2084.84,1405.23 2085.44,1405.29 2086.03,1405.35 2086.62,1405.42 2087.22,1405.48 2087.81,1405.54 2088.4,1405.61 2088.98,1405.67 \n",
       "  2089.57,1405.73 2090.16,1405.8 2090.74,1405.86 2091.32,1405.92 2091.91,1405.99 2092.49,1406.05 2093.07,1406.11 2093.65,1406.17 2094.22,1406.24 2094.8,1406.3 \n",
       "  2095.38,1406.36 2095.95,1406.43 2096.52,1406.49 2097.1,1406.55 2097.67,1406.62 2098.24,1406.68 2098.81,1406.74 2099.37,1406.8 2099.94,1406.87 2100.51,1406.93 \n",
       "  2101.07,1406.99 2101.63,1407.06 2102.2,1407.12 2102.76,1407.18 2103.32,1407.24 2103.88,1407.31 2104.44,1407.37 2104.99,1407.43 2105.55,1407.49 2106.11,1407.56 \n",
       "  2106.66,1407.62 2107.21,1407.68 2107.76,1407.74 2108.32,1407.81 2108.87,1407.87 2109.41,1407.93 2109.96,1407.99 2110.51,1408.06 2111.06,1408.12 2111.6,1408.18 \n",
       "  2112.15,1408.24 2112.69,1408.3 2113.23,1408.37 2113.77,1408.43 2114.31,1408.49 2114.85,1408.55 2115.39,1408.62 2115.93,1408.68 2116.46,1408.74 2117,1408.8 \n",
       "  2117.53,1408.86 2118.07,1408.93 2118.6,1408.99 2119.13,1409.05 2119.66,1409.11 2120.19,1409.17 2120.72,1409.23 2121.25,1409.3 2121.77,1409.36 2122.3,1409.42 \n",
       "  2122.83,1409.48 2123.35,1409.54 2123.87,1409.6 2124.4,1409.67 2124.92,1409.73 2125.44,1409.79 2125.96,1409.85 2126.48,1409.91 2126.99,1409.97 2127.51,1410.04 \n",
       "  2128.03,1410.1 2128.54,1410.16 2129.06,1410.22 2129.57,1410.28 2130.08,1410.34 2130.59,1410.4 2131.1,1410.46 2131.61,1410.53 2132.12,1410.59 2132.63,1410.65 \n",
       "  2133.14,1410.71 2133.64,1410.77 2134.15,1410.83 2134.65,1410.89 2135.16,1410.95 2135.66,1411.01 2136.16,1411.08 2136.67,1411.14 2137.17,1411.2 2137.67,1411.26 \n",
       "  2138.16,1411.32 2138.66,1411.38 2139.16,1411.44 2139.66,1411.5 2140.15,1411.56 2140.65,1411.62 2141.14,1411.68 2141.63,1411.74 2142.13,1411.81 2142.62,1411.87 \n",
       "  2143.11,1411.93 2143.6,1411.99 2144.09,1412.05 2144.57,1412.11 2145.06,1412.17 2145.55,1412.23 2146.03,1412.29 2146.52,1412.35 2147,1412.41 2147.49,1412.47 \n",
       "  2147.97,1412.53 2148.45,1412.59 2148.93,1412.65 2149.41,1412.71 2149.89,1412.77 2150.37,1412.83 2150.85,1412.89 2151.33,1412.96 2151.8,1413.02 2152.28,1413.08 \n",
       "  2152.76,1413.14 2153.23,1413.2 2153.7,1413.26 2154.18,1413.32 2154.65,1413.38 2155.12,1413.44 2155.59,1413.5 2156.06,1413.56 2156.53,1413.62 2157,1413.68 \n",
       "  2157.47,1413.74 2157.93,1413.8 2158.4,1413.86 2158.86,1413.92 2159.33,1413.98 2159.79,1414.04 2160.26,1414.1 2160.72,1414.16 2161.18,1414.22 2161.64,1414.28 \n",
       "  2162.1,1414.34 2162.56,1414.4 2163.02,1414.46 2163.48,1414.52 2163.94,1414.58 2164.39,1414.64 2164.85,1414.7 2165.31,1414.76 2165.76,1414.82 2166.21,1414.88 \n",
       "  2166.67,1414.94 2167.12,1415 2167.57,1415.06 2168.02,1415.12 2168.48,1415.18 2168.93,1415.24 2169.38,1415.3 2169.82,1415.36 2170.27,1415.42 2170.72,1415.48 \n",
       "  2171.17,1415.54 2171.61,1415.6 2172.06,1415.66 2172.5,1415.72 2172.95,1415.78 2173.39,1415.84 2173.83,1415.9 2174.27,1415.96 2174.72,1416.02 2175.16,1416.08 \n",
       "  2175.6,1416.14 2176.04,1416.2 2176.48,1416.26 2176.91,1416.32 2177.35,1416.38 2177.79,1416.43 2178.22,1416.49 2178.66,1416.55 2179.1,1416.61 2179.53,1416.67 \n",
       "  2179.96,1416.73 2180.4,1416.79 2180.83,1416.85 2181.26,1416.91 2181.69,1416.97 2182.12,1417.03 2182.55,1417.09 2182.98,1417.15 2183.41,1417.21 2183.84,1417.27 \n",
       "  2184.27,1417.33 2184.69,1417.38 2185.12,1417.44 2185.55,1417.5 2185.97,1417.56 2186.4,1417.62 2186.82,1417.68 2187.24,1417.74 2187.67,1417.8 2188.09,1417.86 \n",
       "  2188.51,1417.92 2188.93,1417.98 2189.35,1418.03 2189.77,1418.09 2190.19,1418.15 2190.61,1418.21 2191.03,1418.27 2191.45,1418.33 2191.86,1418.39 2192.28,1418.45 \n",
       "  2192.69,1418.51 2193.11,1418.56 2193.52,1418.62 2193.94,1418.68 2194.35,1418.74 2194.76,1418.8 2195.18,1418.86 2195.59,1418.92 2196,1418.98 2196.41,1419.03 \n",
       "  2196.82,1419.09 2197.23,1419.15 2197.64,1419.21 2198.05,1419.27 2198.46,1419.33 2198.86,1419.39 2199.27,1419.44 2199.68,1419.5 2200.08,1419.56 2200.49,1419.62 \n",
       "  2200.89,1419.68 2201.29,1419.74 2201.7,1419.8 2202.1,1419.85 2202.5,1419.91 2202.9,1419.97 2203.31,1420.03 2203.71,1420.09 2204.11,1420.15 2204.51,1420.2 \n",
       "  2204.91,1420.26 2205.3,1420.32 2205.7,1420.38 2206.1,1420.44 2206.5,1420.5 2206.89,1420.56 2207.29,1420.61 2207.68,1420.67 2208.08,1420.73 2208.47,1420.79 \n",
       "  2208.87,1420.85 2209.26,1420.9 2209.65,1420.96 2210.05,1421.02 2210.44,1421.08 2210.83,1421.14 2211.22,1421.2 2211.61,1421.25 2212,1421.31 2212.39,1421.37 \n",
       "  2212.78,1421.43 2213.17,1421.49 2213.55,1421.54 2213.94,1421.6 2214.33,1421.66 2214.72,1421.72 2215.1,1421.78 2215.49,1421.83 2215.87,1421.89 2216.26,1421.95 \n",
       "  2216.64,1422.01 2217.02,1422.07 2217.4,1422.12 2217.79,1422.18 2218.17,1422.24 2218.55,1422.3 2218.93,1422.36 2219.31,1422.41 2219.69,1422.47 2220.07,1422.53 \n",
       "  2220.45,1422.59 2220.83,1422.64 2221.21,1422.7 2221.58,1422.76 2221.96,1422.82 2222.34,1422.88 2222.71,1422.93 2223.09,1422.99 2223.46,1423.05 2223.84,1423.11 \n",
       "  2224.21,1423.16 2224.59,1423.22 2224.96,1423.28 2225.33,1423.34 2225.71,1423.39 2226.08,1423.45 2226.45,1423.51 2226.82,1423.57 2227.19,1423.62 2227.56,1423.68 \n",
       "  2227.93,1423.74 2228.3,1423.79 2228.67,1423.85 2229.04,1423.91 2229.4,1423.97 2229.77,1424.02 2230.14,1424.08 2230.5,1424.14 2230.87,1424.2 2231.24,1424.25 \n",
       "  2231.6,1424.31 2231.97,1424.37 2232.33,1424.42 2232.69,1424.48 2233.06,1424.54 2233.42,1424.6 2233.78,1424.65 2234.14,1424.71 2234.51,1424.77 2234.87,1424.82 \n",
       "  2235.23,1424.88 2235.59,1424.94 2235.95,1424.99 2236.31,1425.05 2236.67,1425.11 2237.02,1425.17 2237.38,1425.22 2237.74,1425.28 2238.1,1425.34 2238.45,1425.39 \n",
       "  2238.81,1425.45 2239.17,1425.51 2239.52,1425.56 2239.88,1425.62 2240.23,1425.68 2240.59,1425.74 2240.94,1425.79 2241.29,1425.85 2241.65,1425.91 2242,1425.96 \n",
       "  2242.35,1426.02 2242.7,1426.07 2243.05,1426.13 2243.41,1426.19 2243.76,1426.24 2244.11,1426.3 2244.46,1426.36 2244.8,1426.41 2245.15,1426.47 2245.5,1426.53 \n",
       "  2245.85,1426.58 2246.2,1426.64 2246.55,1426.69 2246.89,1426.75 2247.24,1426.81 2247.58,1426.86 2247.93,1426.92 2248.28,1426.97 2248.62,1427.03 2248.97,1427.09 \n",
       "  2249.31,1427.14 2249.65,1427.2 2250,1427.25 2250.34,1427.31 2250.68,1427.37 2251.02,1427.42 2251.37,1427.48 2251.71,1427.53 2252.05,1427.59 2252.39,1427.64 \n",
       "  2252.73,1427.7 2253.07,1427.76 2253.41,1427.81 2253.75,1427.87 2254.09,1427.92 2254.42,1427.98 2254.76,1428.03 2255.1,1428.09 2255.44,1428.14 2255.77,1428.2 \n",
       "  2256.11,1428.26 2256.45,1428.31 2256.78,1428.37 2257.12,1428.42 2257.45,1428.48 2257.79,1428.53 2258.12,1428.59 2258.45,1428.64 2258.79,1428.7 2259.12,1428.75 \n",
       "  2259.45,1428.81 2259.79,1428.86 2260.12,1428.92 2260.45,1428.97 2260.78,1429.03 2261.11,1429.08 2261.44,1429.14 2261.77,1429.19 2262.1,1429.24 2262.43,1429.3 \n",
       "  2262.76,1429.35 2263.09,1429.41 2263.42,1429.46 2263.74,1429.52 2264.07,1429.57 2264.4,1429.62 2264.73,1429.68 2265.05,1429.73 2265.38,1429.78 2265.7,1429.84 \n",
       "  2266.03,1429.89 2266.35,1429.94 2266.68,1430 2267,1430.05 2267.33,1430.1 2267.65,1430.16 2267.97,1430.21 2268.3,1430.26 2268.62,1430.31 2268.94,1430.37 \n",
       "  2269.26,1430.42 2269.59,1430.47 2269.91,1430.52 2270.23,1430.57 2270.55,1430.62 2270.87,1430.67 2271.19,1430.72 2271.51,1430.77 2271.83,1430.82 2272.15,1430.87 \n",
       "  2272.46,1430.92 2272.78,1430.97 2273.1,1431.02 2273.42,1431.06 2273.74,1431.1 2274.05,1431.15 2274.37,1431.18 2274.68,1431.22 2275,1431.24 2275.32,1431.25 \n",
       "  2275.63,1431.26 2275.95,1431.29 2276.26,1431.32 2276.57,1431.36 2276.89,1431.4 2277.2,1431.45 2277.51,1431.49 2277.83,1431.54 2278.14,1431.59 2278.45,1431.64 \n",
       "  2278.76,1431.69 2279.08,1431.74 2279.39,1431.79 2279.7,1431.85 2280.01,1431.9 2280.32,1431.95 2280.63,1432 2280.94,1432.05 2281.25,1432.11 2281.56,1432.16 \n",
       "  2281.87,1432.21 2282.17,1432.27 2282.48,1432.32 2282.79,1432.37 2283.1,1432.43 2283.4,1432.48 2283.71,1432.53 2284.02,1432.59 2284.32,1432.64 2284.63,1432.7 \n",
       "  2284.93,1432.75 2285.24,1432.8 2285.54,1432.86 2285.85,1432.91 2286.15,1432.97 2286.46,1433.02 2286.76,1433.07 2287.06,1433.13 2287.37,1433.18 2287.67,1433.24 \n",
       "  2287.97,1433.29 2288.27,1433.34 2288.58,1433.4 2288.88,1433.45 2289.18,1433.51 2289.48,1433.56 2289.78,1433.62 2290.08,1433.67 2290.38,1433.73 2290.68,1433.78 \n",
       "  \n",
       "  \"/>\n",
       "<path clip-path=\"url(#clip320)\" d=\"\n",
       "M1938.93 198.488 L2279.64 198.488 L2279.64 94.8081 L1938.93 94.8081  Z\n",
       "  \" fill=\"#ffffff\" fill-rule=\"evenodd\" fill-opacity=\"1\"/>\n",
       "<polyline clip-path=\"url(#clip320)\" style=\"stroke:#000000; stroke-linecap:round; stroke-linejoin:round; stroke-width:4; stroke-opacity:1; fill:none\" points=\"\n",
       "  1938.93,198.488 2279.64,198.488 2279.64,94.8081 1938.93,94.8081 1938.93,198.488 \n",
       "  \"/>\n",
       "<polyline clip-path=\"url(#clip320)\" style=\"stroke:#009af9; stroke-linecap:round; stroke-linejoin:round; stroke-width:4; stroke-opacity:1; fill:none\" points=\"\n",
       "  1963.3,146.648 2109.52,146.648 \n",
       "  \"/>\n",
       "<path clip-path=\"url(#clip320)\" d=\"M2133.89 129.368 L2138.57 129.368 L2138.57 159.993 L2155.4 159.993 L2155.4 163.928 L2133.89 163.928 L2133.89 129.368 Z\" fill=\"#000000\" fill-rule=\"evenodd\" fill-opacity=\"1\" /><path clip-path=\"url(#clip320)\" d=\"M2169.33 140.988 Q2165.9 140.988 2163.91 143.674 Q2161.92 146.336 2161.92 150.988 Q2161.92 155.641 2163.89 158.326 Q2165.88 160.988 2169.33 160.988 Q2172.73 160.988 2174.72 158.303 Q2176.71 155.618 2176.71 150.988 Q2176.71 146.382 2174.72 143.697 Q2172.73 140.988 2169.33 140.988 M2169.33 137.377 Q2174.89 137.377 2178.06 140.988 Q2181.23 144.6 2181.23 150.988 Q2181.23 157.354 2178.06 160.988 Q2174.89 164.599 2169.33 164.599 Q2163.75 164.599 2160.58 160.988 Q2157.43 157.354 2157.43 150.988 Q2157.43 144.6 2160.58 140.988 Q2163.75 137.377 2169.33 137.377 Z\" fill=\"#000000\" fill-rule=\"evenodd\" fill-opacity=\"1\" /><path clip-path=\"url(#clip320)\" d=\"M2204.82 138.766 L2204.82 142.794 Q2203.01 141.868 2201.07 141.405 Q2199.12 140.942 2197.04 140.942 Q2193.87 140.942 2192.27 141.914 Q2190.7 142.887 2190.7 144.831 Q2190.7 146.312 2191.83 147.169 Q2192.96 148.002 2196.39 148.766 L2197.85 149.09 Q2202.39 150.062 2204.28 151.845 Q2206.21 153.604 2206.21 156.775 Q2206.21 160.386 2203.33 162.493 Q2200.49 164.599 2195.49 164.599 Q2193.4 164.599 2191.14 164.183 Q2188.89 163.789 2186.39 162.979 L2186.39 158.581 Q2188.75 159.808 2191.04 160.433 Q2193.33 161.035 2195.58 161.035 Q2198.59 161.035 2200.21 160.016 Q2201.83 158.974 2201.83 157.099 Q2201.83 155.363 2200.65 154.437 Q2199.49 153.512 2195.53 152.655 L2194.05 152.308 Q2190.09 151.474 2188.33 149.762 Q2186.58 148.025 2186.58 145.016 Q2186.58 141.359 2189.17 139.368 Q2191.76 137.377 2196.53 137.377 Q2198.89 137.377 2200.97 137.725 Q2203.06 138.072 2204.82 138.766 Z\" fill=\"#000000\" fill-rule=\"evenodd\" fill-opacity=\"1\" /><path clip-path=\"url(#clip320)\" d=\"M2229.52 138.766 L2229.52 142.794 Q2227.71 141.868 2225.77 141.405 Q2223.82 140.942 2221.74 140.942 Q2218.57 140.942 2216.97 141.914 Q2215.39 142.887 2215.39 144.831 Q2215.39 146.312 2216.53 147.169 Q2217.66 148.002 2221.09 148.766 L2222.55 149.09 Q2227.08 150.062 2228.98 151.845 Q2230.9 153.604 2230.9 156.775 Q2230.9 160.386 2228.03 162.493 Q2225.19 164.599 2220.19 164.599 Q2218.1 164.599 2215.83 164.183 Q2213.59 163.789 2211.09 162.979 L2211.09 158.581 Q2213.45 159.808 2215.74 160.433 Q2218.03 161.035 2220.28 161.035 Q2223.29 161.035 2224.91 160.016 Q2226.53 158.974 2226.53 157.099 Q2226.53 155.363 2225.35 154.437 Q2224.19 153.512 2220.23 152.655 L2218.75 152.308 Q2214.79 151.474 2213.03 149.762 Q2211.27 148.025 2211.27 145.016 Q2211.27 141.359 2213.87 139.368 Q2216.46 137.377 2221.23 137.377 Q2223.59 137.377 2225.67 137.725 Q2227.76 138.072 2229.52 138.766 Z\" fill=\"#000000\" fill-rule=\"evenodd\" fill-opacity=\"1\" /></svg>\n"
      ]
     },
     "execution_count": 10,
     "metadata": {},
     "output_type": "execute_result"
    }
   ],
   "source": [
    "plot(losses_single, label=\"Loss\", legend=:topright)\n",
    "plot!(yscale=:log, xscale=:log)"
   ]
  },
  {
   "cell_type": "code",
   "execution_count": 11,
   "id": "d6ab267e-e7b1-46bf-9415-bd79ac533d6b",
   "metadata": {
    "slideshow": {
     "slide_type": "subslide"
    },
    "tags": []
   },
   "outputs": [
    {
     "data": {
      "text/plain": [
       "756-element Vector{Float32}:\n",
       " 143.08594\n",
       "  94.424416\n",
       "  83.912384\n",
       "  59.45799\n",
       "  61.080647\n",
       "  47.85414\n",
       "  48.211422\n",
       "  41.455883\n",
       "  41.773148\n",
       "  38.401356\n",
       "  40.66958\n",
       "  38.49479\n",
       "  40.74498\n",
       "   ⋮\n",
       " 176.03642\n",
       " 177.4663\n",
       " 176.36446\n",
       " 174.63837\n",
       " 173.73766\n",
       " 172.44969\n",
       " 173.54225\n",
       " 174.34244\n",
       " 176.83797\n",
       " 178.44193\n",
       " 179.33025\n",
       " 179.72977"
      ]
     },
     "execution_count": 11,
     "metadata": {},
     "output_type": "execute_result"
    }
   ],
   "source": [
    "predicted_single = [\n",
    "    begin @assert(length(r)==0); x end for (x,r...) ∈ model_single.(X)\n",
    "]"
   ]
  },
  {
   "cell_type": "code",
   "execution_count": 12,
   "id": "df20c9bc-51a2-4a78-8b51-7e7b883435aa",
   "metadata": {
    "slideshow": {
     "slide_type": "subslide"
    },
    "tags": []
   },
   "outputs": [
    {
     "data": {
      "image/svg+xml": [
       "<?xml version=\"1.0\" encoding=\"utf-8\"?>\n",
       "<svg xmlns=\"http://www.w3.org/2000/svg\" xmlns:xlink=\"http://www.w3.org/1999/xlink\" width=\"600\" height=\"400\" viewBox=\"0 0 2400 1600\">\n",
       "<defs>\n",
       "  <clipPath id=\"clip360\">\n",
       "    <rect x=\"0\" y=\"0\" width=\"2400\" height=\"1600\"/>\n",
       "  </clipPath>\n",
       "</defs>\n",
       "<path clip-path=\"url(#clip360)\" d=\"\n",
       "M0 1600 L2400 1600 L2400 0 L0 0  Z\n",
       "  \" fill=\"#ffffff\" fill-rule=\"evenodd\" fill-opacity=\"1\"/>\n",
       "<defs>\n",
       "  <clipPath id=\"clip361\">\n",
       "    <rect x=\"480\" y=\"0\" width=\"1681\" height=\"1600\"/>\n",
       "  </clipPath>\n",
       "</defs>\n",
       "<path clip-path=\"url(#clip360)\" d=\"\n",
       "M169.121 1486.45 L2352.76 1486.45 L2352.76 47.2441 L169.121 47.2441  Z\n",
       "  \" fill=\"#ffffff\" fill-rule=\"evenodd\" fill-opacity=\"1\"/>\n",
       "<defs>\n",
       "  <clipPath id=\"clip362\">\n",
       "    <rect x=\"169\" y=\"47\" width=\"2185\" height=\"1440\"/>\n",
       "  </clipPath>\n",
       "</defs>\n",
       "<polyline clip-path=\"url(#clip362)\" style=\"stroke:#000000; stroke-linecap:round; stroke-linejoin:round; stroke-width:2; stroke-opacity:0.1; fill:none\" points=\"\n",
       "  228.197,1486.45 228.197,47.2441 \n",
       "  \"/>\n",
       "<polyline clip-path=\"url(#clip362)\" style=\"stroke:#000000; stroke-linecap:round; stroke-linejoin:round; stroke-width:2; stroke-opacity:0.1; fill:none\" points=\"\n",
       "  773.18,1486.45 773.18,47.2441 \n",
       "  \"/>\n",
       "<polyline clip-path=\"url(#clip362)\" style=\"stroke:#000000; stroke-linecap:round; stroke-linejoin:round; stroke-width:2; stroke-opacity:0.1; fill:none\" points=\"\n",
       "  1318.16,1486.45 1318.16,47.2441 \n",
       "  \"/>\n",
       "<polyline clip-path=\"url(#clip362)\" style=\"stroke:#000000; stroke-linecap:round; stroke-linejoin:round; stroke-width:2; stroke-opacity:0.1; fill:none\" points=\"\n",
       "  1863.14,1486.45 1863.14,47.2441 \n",
       "  \"/>\n",
       "<polyline clip-path=\"url(#clip360)\" style=\"stroke:#000000; stroke-linecap:round; stroke-linejoin:round; stroke-width:4; stroke-opacity:1; fill:none\" points=\"\n",
       "  169.121,1486.45 2352.76,1486.45 \n",
       "  \"/>\n",
       "<polyline clip-path=\"url(#clip360)\" style=\"stroke:#000000; stroke-linecap:round; stroke-linejoin:round; stroke-width:4; stroke-opacity:1; fill:none\" points=\"\n",
       "  228.197,1486.45 228.197,1467.55 \n",
       "  \"/>\n",
       "<polyline clip-path=\"url(#clip360)\" style=\"stroke:#000000; stroke-linecap:round; stroke-linejoin:round; stroke-width:4; stroke-opacity:1; fill:none\" points=\"\n",
       "  773.18,1486.45 773.18,1467.55 \n",
       "  \"/>\n",
       "<polyline clip-path=\"url(#clip360)\" style=\"stroke:#000000; stroke-linecap:round; stroke-linejoin:round; stroke-width:4; stroke-opacity:1; fill:none\" points=\"\n",
       "  1318.16,1486.45 1318.16,1467.55 \n",
       "  \"/>\n",
       "<polyline clip-path=\"url(#clip360)\" style=\"stroke:#000000; stroke-linecap:round; stroke-linejoin:round; stroke-width:4; stroke-opacity:1; fill:none\" points=\"\n",
       "  1863.14,1486.45 1863.14,1467.55 \n",
       "  \"/>\n",
       "<path clip-path=\"url(#clip360)\" d=\"M228.197 1517.37 Q224.586 1517.37 222.758 1520.93 Q220.952 1524.47 220.952 1531.6 Q220.952 1538.71 222.758 1542.27 Q224.586 1545.82 228.197 1545.82 Q231.832 1545.82 233.637 1542.27 Q235.466 1538.71 235.466 1531.6 Q235.466 1524.47 233.637 1520.93 Q231.832 1517.37 228.197 1517.37 M228.197 1513.66 Q234.008 1513.66 237.063 1518.27 Q240.142 1522.85 240.142 1531.6 Q240.142 1540.33 237.063 1544.94 Q234.008 1549.52 228.197 1549.52 Q222.387 1549.52 219.309 1544.94 Q216.253 1540.33 216.253 1531.6 Q216.253 1522.85 219.309 1518.27 Q222.387 1513.66 228.197 1513.66 Z\" fill=\"#000000\" fill-rule=\"evenodd\" fill-opacity=\"1\" /><path clip-path=\"url(#clip360)\" d=\"M736.872 1544.91 L753.191 1544.91 L753.191 1548.85 L731.247 1548.85 L731.247 1544.91 Q733.909 1542.16 738.492 1537.53 Q743.099 1532.88 744.279 1531.53 Q746.525 1529.01 747.404 1527.27 Q748.307 1525.51 748.307 1523.82 Q748.307 1521.07 746.363 1519.33 Q744.441 1517.6 741.339 1517.6 Q739.14 1517.6 736.687 1518.36 Q734.256 1519.13 731.478 1520.68 L731.478 1515.95 Q734.302 1514.82 736.756 1514.24 Q739.21 1513.66 741.247 1513.66 Q746.617 1513.66 749.812 1516.35 Q753.006 1519.03 753.006 1523.52 Q753.006 1525.65 752.196 1527.57 Q751.409 1529.47 749.302 1532.07 Q748.724 1532.74 745.622 1535.95 Q742.52 1539.15 736.872 1544.91 Z\" fill=\"#000000\" fill-rule=\"evenodd\" fill-opacity=\"1\" /><path clip-path=\"url(#clip360)\" d=\"M773.006 1517.37 Q769.395 1517.37 767.566 1520.93 Q765.761 1524.47 765.761 1531.6 Q765.761 1538.71 767.566 1542.27 Q769.395 1545.82 773.006 1545.82 Q776.64 1545.82 778.446 1542.27 Q780.274 1538.71 780.274 1531.6 Q780.274 1524.47 778.446 1520.93 Q776.64 1517.37 773.006 1517.37 M773.006 1513.66 Q778.816 1513.66 781.872 1518.27 Q784.95 1522.85 784.95 1531.6 Q784.95 1540.33 781.872 1544.94 Q778.816 1549.52 773.006 1549.52 Q767.196 1549.52 764.117 1544.94 Q761.062 1540.33 761.062 1531.6 Q761.062 1522.85 764.117 1518.27 Q767.196 1513.66 773.006 1513.66 Z\" fill=\"#000000\" fill-rule=\"evenodd\" fill-opacity=\"1\" /><path clip-path=\"url(#clip360)\" d=\"M803.168 1517.37 Q799.557 1517.37 797.728 1520.93 Q795.922 1524.47 795.922 1531.6 Q795.922 1538.71 797.728 1542.27 Q799.557 1545.82 803.168 1545.82 Q806.802 1545.82 808.608 1542.27 Q810.436 1538.71 810.436 1531.6 Q810.436 1524.47 808.608 1520.93 Q806.802 1517.37 803.168 1517.37 M803.168 1513.66 Q808.978 1513.66 812.034 1518.27 Q815.112 1522.85 815.112 1531.6 Q815.112 1540.33 812.034 1544.94 Q808.978 1549.52 803.168 1549.52 Q797.358 1549.52 794.279 1544.94 Q791.223 1540.33 791.223 1531.6 Q791.223 1522.85 794.279 1518.27 Q797.358 1513.66 803.168 1513.66 Z\" fill=\"#000000\" fill-rule=\"evenodd\" fill-opacity=\"1\" /><path clip-path=\"url(#clip360)\" d=\"M1291.25 1518.36 L1279.45 1536.81 L1291.25 1536.81 L1291.25 1518.36 M1290.03 1514.29 L1295.9 1514.29 L1295.9 1536.81 L1300.84 1536.81 L1300.84 1540.7 L1295.9 1540.7 L1295.9 1548.85 L1291.25 1548.85 L1291.25 1540.7 L1275.65 1540.7 L1275.65 1536.19 L1290.03 1514.29 Z\" fill=\"#000000\" fill-rule=\"evenodd\" fill-opacity=\"1\" /><path clip-path=\"url(#clip360)\" d=\"M1318.57 1517.37 Q1314.96 1517.37 1313.13 1520.93 Q1311.32 1524.47 1311.32 1531.6 Q1311.32 1538.71 1313.13 1542.27 Q1314.96 1545.82 1318.57 1545.82 Q1322.2 1545.82 1324.01 1542.27 Q1325.84 1538.71 1325.84 1531.6 Q1325.84 1524.47 1324.01 1520.93 Q1322.2 1517.37 1318.57 1517.37 M1318.57 1513.66 Q1324.38 1513.66 1327.43 1518.27 Q1330.51 1522.85 1330.51 1531.6 Q1330.51 1540.33 1327.43 1544.94 Q1324.38 1549.52 1318.57 1549.52 Q1312.76 1549.52 1309.68 1544.94 Q1306.62 1540.33 1306.62 1531.6 Q1306.62 1522.85 1309.68 1518.27 Q1312.76 1513.66 1318.57 1513.66 Z\" fill=\"#000000\" fill-rule=\"evenodd\" fill-opacity=\"1\" /><path clip-path=\"url(#clip360)\" d=\"M1348.73 1517.37 Q1345.12 1517.37 1343.29 1520.93 Q1341.48 1524.47 1341.48 1531.6 Q1341.48 1538.71 1343.29 1542.27 Q1345.12 1545.82 1348.73 1545.82 Q1352.36 1545.82 1354.17 1542.27 Q1356 1538.71 1356 1531.6 Q1356 1524.47 1354.17 1520.93 Q1352.36 1517.37 1348.73 1517.37 M1348.73 1513.66 Q1354.54 1513.66 1357.59 1518.27 Q1360.67 1522.85 1360.67 1531.6 Q1360.67 1540.33 1357.59 1544.94 Q1354.54 1549.52 1348.73 1549.52 Q1342.92 1549.52 1339.84 1544.94 Q1336.78 1540.33 1336.78 1531.6 Q1336.78 1522.85 1339.84 1518.27 Q1342.92 1513.66 1348.73 1513.66 Z\" fill=\"#000000\" fill-rule=\"evenodd\" fill-opacity=\"1\" /><path clip-path=\"url(#clip360)\" d=\"M1833.47 1529.7 Q1830.32 1529.7 1828.47 1531.86 Q1826.64 1534.01 1826.64 1537.76 Q1826.64 1541.49 1828.47 1543.66 Q1830.32 1545.82 1833.47 1545.82 Q1836.62 1545.82 1838.44 1543.66 Q1840.3 1541.49 1840.3 1537.76 Q1840.3 1534.01 1838.44 1531.86 Q1836.62 1529.7 1833.47 1529.7 M1842.75 1515.05 L1842.75 1519.31 Q1840.99 1518.48 1839.19 1518.04 Q1837.4 1517.6 1835.64 1517.6 Q1831.01 1517.6 1828.56 1520.72 Q1826.13 1523.85 1825.78 1530.17 Q1827.15 1528.15 1829.21 1527.09 Q1831.27 1526 1833.75 1526 Q1838.95 1526 1841.96 1529.17 Q1845 1532.32 1845 1537.76 Q1845 1543.08 1841.85 1546.3 Q1838.7 1549.52 1833.47 1549.52 Q1827.47 1549.52 1824.3 1544.94 Q1821.13 1540.33 1821.13 1531.6 Q1821.13 1523.41 1825.02 1518.55 Q1828.91 1513.66 1835.46 1513.66 Q1837.22 1513.66 1839 1514.01 Q1840.81 1514.36 1842.75 1515.05 Z\" fill=\"#000000\" fill-rule=\"evenodd\" fill-opacity=\"1\" /><path clip-path=\"url(#clip360)\" d=\"M1863.05 1517.37 Q1859.44 1517.37 1857.61 1520.93 Q1855.81 1524.47 1855.81 1531.6 Q1855.81 1538.71 1857.61 1542.27 Q1859.44 1545.82 1863.05 1545.82 Q1866.69 1545.82 1868.49 1542.27 Q1870.32 1538.71 1870.32 1531.6 Q1870.32 1524.47 1868.49 1520.93 Q1866.69 1517.37 1863.05 1517.37 M1863.05 1513.66 Q1868.86 1513.66 1871.92 1518.27 Q1875 1522.85 1875 1531.6 Q1875 1540.33 1871.92 1544.94 Q1868.86 1549.52 1863.05 1549.52 Q1857.24 1549.52 1854.16 1544.94 Q1851.11 1540.33 1851.11 1531.6 Q1851.11 1522.85 1854.16 1518.27 Q1857.24 1513.66 1863.05 1513.66 Z\" fill=\"#000000\" fill-rule=\"evenodd\" fill-opacity=\"1\" /><path clip-path=\"url(#clip360)\" d=\"M1893.21 1517.37 Q1889.6 1517.37 1887.77 1520.93 Q1885.97 1524.47 1885.97 1531.6 Q1885.97 1538.71 1887.77 1542.27 Q1889.6 1545.82 1893.21 1545.82 Q1896.85 1545.82 1898.65 1542.27 Q1900.48 1538.71 1900.48 1531.6 Q1900.48 1524.47 1898.65 1520.93 Q1896.85 1517.37 1893.21 1517.37 M1893.21 1513.66 Q1899.02 1513.66 1902.08 1518.27 Q1905.16 1522.85 1905.16 1531.6 Q1905.16 1540.33 1902.08 1544.94 Q1899.02 1549.52 1893.21 1549.52 Q1887.4 1549.52 1884.32 1544.94 Q1881.27 1540.33 1881.27 1531.6 Q1881.27 1522.85 1884.32 1518.27 Q1887.4 1513.66 1893.21 1513.66 Z\" fill=\"#000000\" fill-rule=\"evenodd\" fill-opacity=\"1\" /><polyline clip-path=\"url(#clip362)\" style=\"stroke:#000000; stroke-linecap:round; stroke-linejoin:round; stroke-width:2; stroke-opacity:0.1; fill:none\" points=\"\n",
       "  169.121,1216.41 2352.76,1216.41 \n",
       "  \"/>\n",
       "<polyline clip-path=\"url(#clip362)\" style=\"stroke:#000000; stroke-linecap:round; stroke-linejoin:round; stroke-width:2; stroke-opacity:0.1; fill:none\" points=\"\n",
       "  169.121,935.072 2352.76,935.072 \n",
       "  \"/>\n",
       "<polyline clip-path=\"url(#clip362)\" style=\"stroke:#000000; stroke-linecap:round; stroke-linejoin:round; stroke-width:2; stroke-opacity:0.1; fill:none\" points=\"\n",
       "  169.121,653.738 2352.76,653.738 \n",
       "  \"/>\n",
       "<polyline clip-path=\"url(#clip362)\" style=\"stroke:#000000; stroke-linecap:round; stroke-linejoin:round; stroke-width:2; stroke-opacity:0.1; fill:none\" points=\"\n",
       "  169.121,372.405 2352.76,372.405 \n",
       "  \"/>\n",
       "<polyline clip-path=\"url(#clip362)\" style=\"stroke:#000000; stroke-linecap:round; stroke-linejoin:round; stroke-width:2; stroke-opacity:0.1; fill:none\" points=\"\n",
       "  169.121,91.071 2352.76,91.071 \n",
       "  \"/>\n",
       "<polyline clip-path=\"url(#clip360)\" style=\"stroke:#000000; stroke-linecap:round; stroke-linejoin:round; stroke-width:4; stroke-opacity:1; fill:none\" points=\"\n",
       "  169.121,1486.45 169.121,47.2441 \n",
       "  \"/>\n",
       "<polyline clip-path=\"url(#clip360)\" style=\"stroke:#000000; stroke-linecap:round; stroke-linejoin:round; stroke-width:4; stroke-opacity:1; fill:none\" points=\"\n",
       "  169.121,1216.41 188.019,1216.41 \n",
       "  \"/>\n",
       "<polyline clip-path=\"url(#clip360)\" style=\"stroke:#000000; stroke-linecap:round; stroke-linejoin:round; stroke-width:4; stroke-opacity:1; fill:none\" points=\"\n",
       "  169.121,935.072 188.019,935.072 \n",
       "  \"/>\n",
       "<polyline clip-path=\"url(#clip360)\" style=\"stroke:#000000; stroke-linecap:round; stroke-linejoin:round; stroke-width:4; stroke-opacity:1; fill:none\" points=\"\n",
       "  169.121,653.738 188.019,653.738 \n",
       "  \"/>\n",
       "<polyline clip-path=\"url(#clip360)\" style=\"stroke:#000000; stroke-linecap:round; stroke-linejoin:round; stroke-width:4; stroke-opacity:1; fill:none\" points=\"\n",
       "  169.121,372.405 188.019,372.405 \n",
       "  \"/>\n",
       "<polyline clip-path=\"url(#clip360)\" style=\"stroke:#000000; stroke-linecap:round; stroke-linejoin:round; stroke-width:4; stroke-opacity:1; fill:none\" points=\"\n",
       "  169.121,91.071 188.019,91.071 \n",
       "  \"/>\n",
       "<path clip-path=\"url(#clip360)\" d=\"M91.5938 1214.54 Q88.4456 1214.54 86.5938 1216.69 Q84.7651 1218.85 84.7651 1222.6 Q84.7651 1226.32 86.5938 1228.5 Q88.4456 1230.65 91.5938 1230.65 Q94.7419 1230.65 96.5706 1228.5 Q98.4224 1226.32 98.4224 1222.6 Q98.4224 1218.85 96.5706 1216.69 Q94.7419 1214.54 91.5938 1214.54 M100.876 1199.89 L100.876 1204.15 Q99.1169 1203.32 97.3113 1202.88 Q95.5289 1202.44 93.7697 1202.44 Q89.1401 1202.44 86.6864 1205.56 Q84.2558 1208.69 83.9086 1215 Q85.2743 1212.99 87.3345 1211.93 Q89.3947 1210.84 91.8715 1210.84 Q97.0798 1210.84 100.089 1214.01 Q103.121 1217.16 103.121 1222.6 Q103.121 1227.92 99.9733 1231.14 Q96.8252 1234.36 91.5938 1234.36 Q85.5984 1234.36 82.4271 1229.77 Q79.2559 1225.17 79.2559 1216.44 Q79.2559 1208.25 83.1447 1203.38 Q87.0336 1198.5 93.5845 1198.5 Q95.3437 1198.5 97.1261 1198.85 Q98.9317 1199.19 100.876 1199.89 Z\" fill=\"#000000\" fill-rule=\"evenodd\" fill-opacity=\"1\" /><path clip-path=\"url(#clip360)\" d=\"M121.177 1202.2 Q117.566 1202.2 115.737 1205.77 Q113.932 1209.31 113.932 1216.44 Q113.932 1223.55 115.737 1227.11 Q117.566 1230.65 121.177 1230.65 Q124.811 1230.65 126.617 1227.11 Q128.445 1223.55 128.445 1216.44 Q128.445 1209.31 126.617 1205.77 Q124.811 1202.2 121.177 1202.2 M121.177 1198.5 Q126.987 1198.5 130.043 1203.11 Q133.121 1207.69 133.121 1216.44 Q133.121 1225.17 130.043 1229.77 Q126.987 1234.36 121.177 1234.36 Q115.367 1234.36 112.288 1229.77 Q109.233 1225.17 109.233 1216.44 Q109.233 1207.69 112.288 1203.11 Q115.367 1198.5 121.177 1198.5 Z\" fill=\"#000000\" fill-rule=\"evenodd\" fill-opacity=\"1\" /><path clip-path=\"url(#clip360)\" d=\"M81.154 951.634 L81.154 947.375 Q82.9133 948.208 84.7188 948.648 Q86.5243 949.088 88.2604 949.088 Q92.89 949.088 95.3206 945.986 Q97.7743 942.861 98.1215 936.519 Q96.7789 938.509 94.7187 939.574 Q92.6586 940.639 90.1586 940.639 Q84.9734 940.639 81.941 937.514 Q78.9318 934.366 78.9318 928.926 Q78.9318 923.602 82.0799 920.384 Q85.2281 917.167 90.4595 917.167 Q96.4548 917.167 99.603 921.773 Q102.774 926.357 102.774 935.106 Q102.774 943.278 98.8854 948.162 Q95.0197 953.023 88.4688 953.023 Q86.7095 953.023 84.904 952.676 Q83.0984 952.329 81.154 951.634 M90.4595 936.981 Q93.6076 936.981 95.4363 934.829 Q97.2882 932.676 97.2882 928.926 Q97.2882 925.199 95.4363 923.046 Q93.6076 920.87 90.4595 920.87 Q87.3114 920.87 85.4595 923.046 Q83.6308 925.199 83.6308 928.926 Q83.6308 932.676 85.4595 934.829 Q87.3114 936.981 90.4595 936.981 Z\" fill=\"#000000\" fill-rule=\"evenodd\" fill-opacity=\"1\" /><path clip-path=\"url(#clip360)\" d=\"M121.177 920.87 Q117.566 920.87 115.737 924.435 Q113.932 927.977 113.932 935.106 Q113.932 942.213 115.737 945.778 Q117.566 949.319 121.177 949.319 Q124.811 949.319 126.617 945.778 Q128.445 942.213 128.445 935.106 Q128.445 927.977 126.617 924.435 Q124.811 920.87 121.177 920.87 M121.177 917.167 Q126.987 917.167 130.043 921.773 Q133.121 926.357 133.121 935.106 Q133.121 943.833 130.043 948.44 Q126.987 953.023 121.177 953.023 Q115.367 953.023 112.288 948.44 Q109.233 943.833 109.233 935.106 Q109.233 926.357 112.288 921.773 Q115.367 917.167 121.177 917.167 Z\" fill=\"#000000\" fill-rule=\"evenodd\" fill-opacity=\"1\" /><path clip-path=\"url(#clip360)\" d=\"M51.6634 667.083 L59.3023 667.083 L59.3023 640.717 L50.9921 642.384 L50.9921 638.125 L59.256 636.458 L63.9319 636.458 L63.9319 667.083 L71.5707 667.083 L71.5707 671.018 L51.6634 671.018 L51.6634 667.083 Z\" fill=\"#000000\" fill-rule=\"evenodd\" fill-opacity=\"1\" /><path clip-path=\"url(#clip360)\" d=\"M85.0429 667.083 L101.362 667.083 L101.362 671.018 L79.4179 671.018 L79.4179 667.083 Q82.0799 664.328 86.6632 659.699 Q91.2697 655.046 92.4502 653.703 Q94.6956 651.18 95.5752 649.444 Q96.478 647.685 96.478 645.995 Q96.478 643.241 94.5336 641.504 Q92.6123 639.768 89.5104 639.768 Q87.3114 639.768 84.8577 640.532 Q82.4271 641.296 79.6494 642.847 L79.6494 638.125 Q82.4734 636.991 84.9271 636.412 Q87.3808 635.833 89.4178 635.833 Q94.7882 635.833 97.9826 638.518 Q101.177 641.204 101.177 645.694 Q101.177 647.824 100.367 649.745 Q99.5798 651.643 97.4734 654.236 Q96.8947 654.907 93.7928 658.125 Q90.691 661.319 85.0429 667.083 Z\" fill=\"#000000\" fill-rule=\"evenodd\" fill-opacity=\"1\" /><path clip-path=\"url(#clip360)\" d=\"M121.177 639.537 Q117.566 639.537 115.737 643.102 Q113.932 646.643 113.932 653.773 Q113.932 660.879 115.737 664.444 Q117.566 667.986 121.177 667.986 Q124.811 667.986 126.617 664.444 Q128.445 660.879 128.445 653.773 Q128.445 646.643 126.617 643.102 Q124.811 639.537 121.177 639.537 M121.177 635.833 Q126.987 635.833 130.043 640.44 Q133.121 645.023 133.121 653.773 Q133.121 662.5 130.043 667.106 Q126.987 671.689 121.177 671.689 Q115.367 671.689 112.288 667.106 Q109.233 662.5 109.233 653.773 Q109.233 645.023 112.288 640.44 Q115.367 635.833 121.177 635.833 Z\" fill=\"#000000\" fill-rule=\"evenodd\" fill-opacity=\"1\" /><path clip-path=\"url(#clip360)\" d=\"M51.6634 385.749 L59.3023 385.749 L59.3023 359.384 L50.9921 361.05 L50.9921 356.791 L59.256 355.125 L63.9319 355.125 L63.9319 385.749 L71.5707 385.749 L71.5707 389.685 L51.6634 389.685 L51.6634 385.749 Z\" fill=\"#000000\" fill-rule=\"evenodd\" fill-opacity=\"1\" /><path clip-path=\"url(#clip360)\" d=\"M81.0614 355.125 L99.4178 355.125 L99.4178 359.06 L85.3438 359.06 L85.3438 367.532 Q86.3623 367.185 87.3808 367.023 Q88.3993 366.837 89.4178 366.837 Q95.2049 366.837 98.5845 370.009 Q101.964 373.18 101.964 378.597 Q101.964 384.175 98.4919 387.277 Q95.0197 390.356 88.7003 390.356 Q86.5243 390.356 84.2558 389.985 Q82.0105 389.615 79.6031 388.874 L79.6031 384.175 Q81.6864 385.31 83.9086 385.865 Q86.1308 386.421 88.6077 386.421 Q92.6123 386.421 94.9502 384.314 Q97.2882 382.208 97.2882 378.597 Q97.2882 374.986 94.9502 372.879 Q92.6123 370.773 88.6077 370.773 Q86.7327 370.773 84.8577 371.189 Q83.0058 371.606 81.0614 372.486 L81.0614 355.125 Z\" fill=\"#000000\" fill-rule=\"evenodd\" fill-opacity=\"1\" /><path clip-path=\"url(#clip360)\" d=\"M121.177 358.203 Q117.566 358.203 115.737 361.768 Q113.932 365.31 113.932 372.439 Q113.932 379.546 115.737 383.111 Q117.566 386.652 121.177 386.652 Q124.811 386.652 126.617 383.111 Q128.445 379.546 128.445 372.439 Q128.445 365.31 126.617 361.768 Q124.811 358.203 121.177 358.203 M121.177 354.5 Q126.987 354.5 130.043 359.106 Q133.121 363.689 133.121 372.439 Q133.121 381.166 130.043 385.773 Q126.987 390.356 121.177 390.356 Q115.367 390.356 112.288 385.773 Q109.233 381.166 109.233 372.439 Q109.233 363.689 112.288 359.106 Q115.367 354.5 121.177 354.5 Z\" fill=\"#000000\" fill-rule=\"evenodd\" fill-opacity=\"1\" /><path clip-path=\"url(#clip360)\" d=\"M51.6634 104.416 L59.3023 104.416 L59.3023 78.0502 L50.9921 79.7169 L50.9921 75.4576 L59.256 73.791 L63.9319 73.791 L63.9319 104.416 L71.5707 104.416 L71.5707 108.351 L51.6634 108.351 L51.6634 104.416 Z\" fill=\"#000000\" fill-rule=\"evenodd\" fill-opacity=\"1\" /><path clip-path=\"url(#clip360)\" d=\"M91.0151 91.939 Q87.6817 91.939 85.7605 93.7214 Q83.8623 95.5038 83.8623 98.6288 Q83.8623 101.754 85.7605 103.536 Q87.6817 105.319 91.0151 105.319 Q94.3484 105.319 96.2697 103.536 Q98.1909 101.731 98.1909 98.6288 Q98.1909 95.5038 96.2697 93.7214 Q94.3715 91.939 91.0151 91.939 M86.3392 89.9483 Q83.3299 89.2075 81.6401 87.1474 Q79.9735 85.0872 79.9735 82.1243 Q79.9735 77.9808 82.9133 75.5734 Q85.8762 73.166 91.0151 73.166 Q96.1771 73.166 99.1169 75.5734 Q102.057 77.9808 102.057 82.1243 Q102.057 85.0872 100.367 87.1474 Q98.7002 89.2075 95.7141 89.9483 Q99.0937 90.7353 100.969 93.027 Q102.867 95.3186 102.867 98.6288 Q102.867 103.652 99.7882 106.337 Q96.7326 109.022 91.0151 109.022 Q85.2975 109.022 82.2188 106.337 Q79.1633 103.652 79.1633 98.6288 Q79.1633 95.3186 81.0614 93.027 Q82.9595 90.7353 86.3392 89.9483 M84.6262 82.5641 Q84.6262 85.2492 86.2929 86.7539 Q87.9827 88.2585 91.0151 88.2585 Q94.0243 88.2585 95.7141 86.7539 Q97.4271 85.2492 97.4271 82.5641 Q97.4271 79.8789 95.7141 78.3743 Q94.0243 76.8697 91.0151 76.8697 Q87.9827 76.8697 86.2929 78.3743 Q84.6262 79.8789 84.6262 82.5641 Z\" fill=\"#000000\" fill-rule=\"evenodd\" fill-opacity=\"1\" /><path clip-path=\"url(#clip360)\" d=\"M121.177 76.8697 Q117.566 76.8697 115.737 80.4344 Q113.932 83.9761 113.932 91.1057 Q113.932 98.2121 115.737 101.777 Q117.566 105.319 121.177 105.319 Q124.811 105.319 126.617 101.777 Q128.445 98.2121 128.445 91.1057 Q128.445 83.9761 126.617 80.4344 Q124.811 76.8697 121.177 76.8697 M121.177 73.166 Q126.987 73.166 130.043 77.7724 Q133.121 82.3557 133.121 91.1057 Q133.121 99.8325 130.043 104.439 Q126.987 109.022 121.177 109.022 Q115.367 109.022 112.288 104.439 Q109.233 99.8325 109.233 91.1057 Q109.233 82.3557 112.288 77.7724 Q115.367 73.166 121.177 73.166 Z\" fill=\"#000000\" fill-rule=\"evenodd\" fill-opacity=\"1\" /><polyline clip-path=\"url(#clip362)\" style=\"stroke:#009af9; stroke-linecap:round; stroke-linejoin:round; stroke-width:4; stroke-opacity:1; fill:none\" points=\"\n",
       "  230.922,1408.84 233.647,1445.72 236.372,1431.48 239.097,1432.26 241.822,1425.65 244.547,1419.65 247.272,1418.5 249.997,1422.04 252.722,1427.41 255.446,1420.21 \n",
       "  258.171,1415.82 260.896,1413.67 263.621,1411.42 266.346,1419.67 269.071,1418.22 271.796,1421.08 274.521,1409.21 277.246,1412.64 279.971,1416.43 282.696,1391.65 \n",
       "  285.421,1388.86 288.145,1388.68 290.87,1377.59 293.595,1370.72 296.32,1370.58 299.045,1378.31 301.77,1379.56 304.495,1381.85 307.22,1378.43 309.945,1380.09 \n",
       "  312.67,1378.64 315.395,1379.53 318.119,1378.34 320.844,1375.76 323.569,1378.03 326.294,1373.55 329.019,1370.6 331.744,1370.37 334.469,1369.1 337.194,1373.13 \n",
       "  339.919,1368.86 342.644,1366.8 345.369,1367.55 348.093,1369.92 350.818,1374.66 353.543,1373.69 356.268,1359.65 358.993,1354.94 361.718,1353.06 364.443,1348.33 \n",
       "  367.168,1342.72 369.893,1338.27 372.618,1341.76 375.343,1337.94 378.067,1321.69 380.792,1331.17 383.517,1336.58 386.242,1341.15 388.967,1337.21 391.692,1336.63 \n",
       "  394.417,1333.74 397.142,1330.72 399.867,1324.2 402.592,1321.08 405.317,1320.29 408.042,1317.22 410.766,1309.95 413.491,1311.36 416.216,1308.73 418.941,1312.64 \n",
       "  421.666,1312.83 424.391,1311.99 427.116,1311.94 429.841,1302.85 432.566,1301.13 435.291,1299.56 438.016,1292.65 440.74,1293.4 443.465,1297.8 446.19,1300.1 \n",
       "  448.915,1299.38 451.64,1308.61 454.365,1285.52 457.09,1288.73 459.815,1282.64 462.54,1290.3 465.265,1303.48 467.99,1303.38 470.714,1308.5 473.439,1316.79 \n",
       "  476.164,1343.66 478.889,1336.77 481.614,1331.47 484.339,1333.44 487.064,1335.97 489.789,1349.83 492.514,1341.6 495.239,1350.55 497.964,1357.87 500.688,1359.49 \n",
       "  503.413,1361.22 506.138,1363.21 508.863,1361.06 511.588,1368.63 514.313,1372.78 517.038,1357.92 519.763,1351.12 522.488,1344.83 525.213,1333.28 527.938,1327.58 \n",
       "  530.662,1322.35 533.387,1323.8 536.112,1323.9 538.837,1327.2 541.562,1324.51 544.287,1313.82 547.012,1315.18 549.737,1311.45 552.462,1313.04 555.187,1313.51 \n",
       "  557.912,1320.57 560.637,1310.65 563.361,1310.79 566.086,1315.06 568.811,1306.55 571.536,1303.78 574.261,1299.84 576.986,1300.27 579.711,1310.14 582.436,1307.28 \n",
       "  585.161,1302.61 587.886,1306.08 590.611,1302.45 593.335,1297.97 596.06,1299.63 598.785,1302.33 601.51,1296.91 604.235,1304.11 606.96,1293.26 609.685,1289.46 \n",
       "  612.41,1289.86 615.135,1293.73 617.86,1292.04 620.585,1287.49 623.309,1289.6 626.034,1279.61 628.759,1290.42 631.484,1300.76 634.209,1325.8 636.934,1317.22 \n",
       "  639.659,1312.43 642.384,1302.14 645.109,1307.86 647.834,1309.06 650.559,1289.15 653.283,1303.74 656.008,1306.1 658.733,1294.94 661.458,1285.92 664.183,1285.89 \n",
       "  666.908,1280.55 669.633,1280.97 672.358,1303.99 675.083,1294.97 677.808,1300.43 680.533,1297.22 683.258,1289.06 685.982,1289.69 688.707,1296.82 691.432,1288.64 \n",
       "  694.157,1279.05 696.882,1279.1 699.607,1276.96 702.332,1271.03 705.057,1254.88 707.782,1256.05 710.507,1266.22 713.232,1263.53 715.956,1261.65 718.681,1256.8 \n",
       "  721.406,1261.04 724.131,1268.62 726.856,1266.3 729.581,1268.73 732.306,1260.88 735.031,1263.55 737.756,1266.06 740.481,1253.99 743.206,1252.53 745.93,1265.73 \n",
       "  748.655,1261.37 751.38,1246.86 754.105,1246.74 756.83,1252.98 759.555,1246.81 762.28,1239.64 765.005,1225.29 767.73,1226.09 770.455,1227.38 773.18,1229.6 \n",
       "  775.904,1227.47 778.629,1224.82 781.354,1215.21 784.079,1216.5 786.804,1208.95 789.529,1208.01 792.254,1200.98 794.979,1195.19 797.704,1208.69 800.429,1208.76 \n",
       "  803.154,1195.87 805.878,1179.32 808.603,1175.38 811.328,1176.24 814.053,1175.99 816.778,1170.85 819.503,1169.19 822.228,1164.36 824.953,1164.92 827.678,1159.04 \n",
       "  830.403,1163.33 833.128,1156.01 835.853,1152.87 838.577,1154.77 841.302,1162.04 844.027,1164.8 846.752,1165.34 849.477,1154.58 852.202,1159.46 854.927,1151.14 \n",
       "  857.652,1152.52 860.377,1159.76 863.102,1170.81 865.827,1165.44 868.551,1156.43 871.276,1144.41 874.001,1153.29 876.726,1149.64 879.451,1144.27 882.176,1142.65 \n",
       "  884.901,1134 887.626,1122.96 890.351,1121.67 893.076,1123.24 895.801,1122.58 898.525,1123.94 901.25,1113.25 903.975,1112.62 906.7,1099.39 909.425,1099.65 \n",
       "  912.15,1095.62 914.875,1090.63 917.6,1074.92 920.325,1081.76 923.05,1076.21 925.775,1079.51 928.499,1068.26 931.224,1053.16 933.949,1051.52 936.674,1035.98 \n",
       "  939.399,1046.01 942.124,1049.15 944.849,1040.01 947.574,1031.83 950.299,1036.89 953.024,1034.24 955.749,1030.65 958.474,1032.81 961.198,1054.76 963.923,1034.27 \n",
       "  966.648,1018.67 969.373,1019.78 972.098,1053.44 974.823,1055.44 977.548,1031.55 980.273,1025.45 982.998,1016.64 985.723,1028.78 988.448,1025.22 991.172,1029.76 \n",
       "  993.897,1011.97 996.622,1017.43 999.347,1017.24 1002.07,1031.19 1004.8,1020.36 1007.52,1028.15 1010.25,1045.14 1012.97,1080.01 1015.7,1103.68 1018.42,1092.97 \n",
       "  1021.15,1137.82 1023.87,1138.19 1026.6,1078.53 1029.32,1100.78 1032.05,1069.31 1034.77,1092.34 1037.5,1101.46 1040.22,1155.05 1042.95,1110.11 1045.67,1133.34 \n",
       "  1048.4,1197.11 1051.12,1127.39 1053.85,1211.22 1056.57,1186.26 1059.3,1200.77 1062.02,1205.2 1064.75,1241.63 1067.47,1253.05 1070.19,1200.28 1072.92,1203.46 \n",
       "  1075.64,1173.17 1078.37,1198.26 1081.09,1181.68 1083.82,1182.9 1086.54,1214.27 1089.27,1204.85 1091.99,1213.1 1094.72,1163.73 1097.44,1170.85 1100.17,1155.29 \n",
       "  1102.89,1150.78 1105.62,1138.45 1108.34,1106.1 1111.07,1112.24 1113.79,1106.94 1116.52,1116.06 1119.24,1129.82 1121.97,1149.89 1124.69,1131.77 1127.42,1134.28 \n",
       "  1130.14,1115.66 1132.87,1115.2 1135.59,1125.96 1138.32,1104.5 1141.04,1090.27 1143.77,1101.36 1146.49,1091.77 1149.22,1081.46 1151.94,1074.26 1154.67,1066.97 \n",
       "  1157.39,1051.99 1160.12,1040.55 1162.84,1048.99 1165.57,1057.8 1168.29,1053.37 1171.02,1057.66 1173.74,1040.67 1176.47,1044.93 1179.19,1030.65 1181.92,1036.23 \n",
       "  1184.64,1031.45 1187.37,1036.52 1190.09,1033.28 1192.82,1032.95 1195.54,1033.68 1198.27,1024.51 1200.99,1021.02 1203.72,1016.85 1206.44,1023.41 1209.17,1001.89 \n",
       "  1211.89,997.293 1214.62,972.606 1217.34,951.858 1220.06,991.573 1222.79,984.774 1225.51,974.951 1228.24,953.64 1230.96,954.789 1233.69,954.46 1236.41,959.173 \n",
       "  1239.14,937.721 1241.86,919.763 1244.59,934.931 1247.31,923.725 1250.04,950.006 1252.76,930.899 1255.49,923.818 1258.21,925.436 1260.94,925.436 1263.66,902.601 \n",
       "  1266.39,905.321 1269.11,884.971 1271.84,881.126 1274.56,879.555 1277.29,883.705 1280.01,868.888 1282.74,862.628 1285.46,873.905 1288.19,875.734 1290.91,856.697 \n",
       "  1293.64,869.427 1296.36,866.872 1299.09,908.392 1301.81,910.549 1304.54,889.965 1307.26,904.57 1309.99,887.808 1312.71,877.023 1315.44,782.589 1318.16,757.48 \n",
       "  1320.89,750.658 1323.61,746.93 1326.34,710.919 1329.06,737.083 1331.79,721.938 1334.51,753.377 1337.24,719.289 1339.96,700.533 1342.69,701.495 1345.41,704.308 \n",
       "  1348.14,695.352 1350.86,693.992 1353.59,669.915 1356.31,612.757 1359.04,598.808 1361.76,608.49 1364.49,592.572 1367.21,606.755 1369.94,608.654 1372.66,568.963 \n",
       "  1375.38,520.761 1378.11,546.831 1380.83,645.486 1383.56,644.735 1386.28,721.071 1389.01,678.871 1391.73,714.788 1394.46,728.76 1397.18,697.251 1399.91,695.563 \n",
       "  1402.63,727.541 1405.36,744.328 1408.08,777.15 1410.81,746.766 1413.53,730.542 1416.26,774.524 1418.98,764.208 1421.71,726.135 1424.43,701.002 1427.16,709.161 \n",
       "  1429.88,693.031 1432.61,683.841 1435.33,719.195 1438.06,686.56 1440.78,717.882 1443.51,699.877 1446.23,700.908 1448.96,682.153 1451.68,612.476 1454.41,643.423 \n",
       "  1457.13,642.579 1459.86,647.08 1462.58,662.928 1465.31,691.437 1468.03,677.089 1470.76,683.091 1473.48,693.594 1476.21,700.252 1478.93,700.158 1481.66,685.623 \n",
       "  1484.38,736.263 1487.11,697.626 1489.83,758.207 1492.56,759.051 1495.28,743.39 1498.01,701.096 1500.73,662.835 1503.46,666.023 1506.18,688.248 1508.91,691.531 \n",
       "  1511.63,658.521 1514.36,661.147 1517.08,660.678 1519.81,650.925 1522.53,659.459 1525.25,672.212 1527.98,666.492 1530.7,678.683 1533.43,711.412 1536.15,699.033 \n",
       "  1538.88,690.968 1541.6,685.716 1544.33,662.647 1547.05,628.231 1549.78,624.855 1552.5,626.167 1555.23,632.638 1557.95,618.571 1560.68,612.663 1563.4,637.046 \n",
       "  1566.13,623.354 1568.85,631.138 1571.58,637.046 1574.3,579.841 1577.03,580.498 1579.75,572.151 1582.48,591.282 1585.2,576.559 1587.93,542.33 1590.65,550.958 \n",
       "  1593.38,541.486 1596.1,497.223 1598.83,514.291 1601.55,525.075 1604.28,534.734 1607,565.493 1609.73,550.489 1612.45,591.845 1615.18,551.333 1617.9,540.736 \n",
       "  1620.63,569.526 1623.35,571.214 1626.08,551.614 1628.8,570.182 1631.53,586.781 1634.25,580.31 1636.98,540.923 1639.7,495.535 1642.43,474.904 1645.15,438.799 \n",
       "  1647.88,436.549 1650.6,446.864 1653.33,493.472 1656.05,541.58 1658.78,521.136 1661.5,513.165 1664.23,523.012 1666.95,490.658 1669.68,496.567 1672.4,495.16 \n",
       "  1675.13,503.6 1677.85,509.414 1680.57,511.852 1683.3,509.602 1686.02,530.045 1688.75,552.083 1691.47,562.68 1694.2,561.179 1696.92,597.471 1699.65,598.784 \n",
       "  1702.37,603.567 1705.1,644.454 1707.82,641.922 1710.55,580.685 1713.27,605.724 1716,634.42 1718.72,652.519 1721.45,640.422 1724.17,687.873 1726.9,643.516 \n",
       "  1729.62,653.926 1732.35,635.358 1735.07,644.079 1737.8,616.321 1740.52,601.504 1743.25,609.1 1745.97,648.768 1748.7,653.832 1751.42,621.947 1754.15,629.919 \n",
       "  1756.87,652.894 1759.6,648.205 1762.32,642.391 1765.05,640.703 1767.77,654.676 1770.5,633.576 1773.22,625.605 1775.95,598.409 1778.67,595.502 1781.4,579.654 \n",
       "  1784.12,556.584 1786.85,531.827 1789.57,548.332 1792.3,518.417 1795.02,540.923 1797.75,517.76 1800.47,520.949 1803.2,514.572 1805.92,530.795 1808.65,527.138 \n",
       "  1811.37,541.767 1814.1,519.448 1816.82,515.697 1819.55,518.792 1822.27,526.388 1825,527.326 1827.72,546.269 1830.44,536.141 1833.17,580.123 1835.89,577.778 \n",
       "  1838.62,562.398 1841.34,557.991 1844.07,589.5 1846.79,598.315 1849.52,627.762 1852.24,607.131 1854.97,583.874 1857.69,594.939 1860.42,608.256 1863.14,609.756 \n",
       "  1865.87,585.187 1868.59,602.817 1871.32,587.156 1874.04,589.031 1876.77,589.5 1879.49,604.223 1882.22,610.507 1884.94,613.601 1887.67,606.287 1890.39,620.541 \n",
       "  1893.12,598.503 1895.84,598.409 1898.57,590.532 1901.29,586.875 1904.02,596.44 1906.74,584.811 1909.47,555.459 1912.19,563.336 1914.92,558.554 1917.64,543.174 \n",
       "  1920.37,555.646 1923.09,538.391 1925.82,522.637 1928.54,525.263 1931.27,527.982 1933.99,530.795 1936.72,515.134 1939.44,500.599 1942.17,494.691 1944.89,491.784 \n",
       "  1947.62,466.557 1950.34,447.239 1953.07,423.326 1955.79,435.798 1958.52,418.262 1961.24,423.982 1963.97,413.292 1966.69,380.376 1969.42,386.659 1972.14,406.258 \n",
       "  1974.87,443.207 1977.59,408.509 1980.32,415.542 1983.04,402.413 1985.76,385.909 1988.49,381.876 1991.21,402.695 1993.94,419.481 1996.66,413.292 1999.39,411.229 \n",
       "  2002.11,414.417 2004.84,397.162 2007.56,401.007 2010.29,399.975 2013.01,408.603 2015.74,409.072 2018.46,413.667 2021.19,411.229 2023.91,382.814 2026.64,380.845 \n",
       "  2029.36,361.901 2032.09,370.623 2034.81,406.54 2037.54,403.351 2040.26,389.378 2042.99,375.124 2045.71,375.968 2048.44,387.784 2051.16,395.474 2053.89,385.533 \n",
       "  2056.61,343.146 2059.34,355.243 2062.06,348.866 2064.79,338.176 2067.51,332.08 2070.24,309.667 2072.96,324.484 2075.69,334.237 2078.41,382.064 2081.14,376.625 \n",
       "  2083.86,390.035 2086.59,381.501 2089.31,383.752 2092.04,409.353 2094.76,438.612 2097.49,434.017 2100.21,411.322 2102.94,402.132 2105.66,401.288 2108.39,415.824 \n",
       "  2111.11,448.271 2113.84,439.643 2116.56,452.116 2119.29,441.331 2122.01,474.247 2124.74,455.773 2127.46,447.427 2130.19,435.33 2132.91,438.987 2135.64,439.831 \n",
       "  2138.36,452.022 2141.08,457.649 2143.81,430.922 2146.53,420.794 2149.26,404.758 2151.98,384.033 2154.71,379.344 2157.43,377.281 2160.16,384.689 2162.88,385.158 \n",
       "  2165.61,378.781 2168.33,383.189 2171.06,348.304 2173.78,374.28 2176.51,382.157 2179.23,372.217 2181.96,358.432 2184.68,363.402 2187.41,360.401 2190.13,368.278 \n",
       "  2192.86,364.809 2195.58,391.91 2198.31,392.379 2201.03,372.498 2203.76,372.405 2206.48,363.027 2209.21,339.676 2211.93,298.601 2214.66,273.469 2217.38,269.061 \n",
       "  2220.11,265.404 2222.83,260.434 2225.56,308.542 2228.28,276.376 2231.01,228.924 2233.73,233.895 2236.46,243.366 2239.18,261.372 2241.91,228.737 2244.63,173.783 \n",
       "  2247.36,137.21 2250.08,142.086 2252.81,96.2288 2255.53,131.02 2258.26,144.243 2260.98,97.6354 2263.71,163.655 2266.43,174.158 2269.16,187.193 2271.88,156.809 \n",
       "  2274.61,131.958 2277.33,125.956 2280.06,87.9763 2282.78,97.7293 2285.51,96.8851 2288.23,107.951 2290.95,113.859 \n",
       "  \"/>\n",
       "<polyline clip-path=\"url(#clip362)\" style=\"stroke:#e26f46; stroke-linecap:round; stroke-linejoin:round; stroke-width:4; stroke-opacity:1; fill:none\" points=\"\n",
       "  233.647,437.243 236.372,893.581 239.097,992.16 241.822,1221.49 244.547,1206.27 247.272,1330.31 249.997,1326.96 252.722,1390.31 255.446,1387.33 258.171,1418.95 \n",
       "  260.896,1397.68 263.621,1418.08 266.346,1396.97 269.071,1414.37 271.796,1402.28 274.521,1416.83 277.246,1406.41 279.971,1413.92 282.696,1406.84 285.421,1408.03 \n",
       "  288.145,1394.62 290.87,1396.15 293.595,1382.98 296.32,1381.1 299.045,1372.24 301.77,1374.04 304.495,1371.39 307.22,1375.86 309.945,1375.14 312.67,1377.32 \n",
       "  315.395,1375.91 318.119,1376.42 320.844,1375.4 323.569,1375.08 326.294,1374.11 329.019,1373.73 331.744,1370.88 334.469,1370.03 337.194,1367.7 339.919,1367.8 \n",
       "  342.644,1367.29 345.369,1366.1 348.093,1365.58 350.818,1365.18 353.543,1366.49 356.268,1368.11 358.993,1366.19 361.718,1361.59 364.443,1357.53 367.168,1351.7 \n",
       "  369.893,1347.31 372.618,1342.65 375.343,1340.2 378.067,1338.02 380.792,1332.67 383.517,1329.1 386.242,1330.03 388.967,1330.02 391.692,1333.51 394.417,1333.35 \n",
       "  397.142,1334.22 399.867,1330.8 402.592,1328.67 405.317,1323.57 408.042,1321.58 410.766,1317.6 413.491,1314.8 416.216,1310.99 418.941,1309.68 421.666,1307.24 \n",
       "  424.391,1308.89 427.116,1307.78 429.841,1309.25 432.566,1306.32 435.291,1303.66 438.016,1300.5 440.74,1296.63 443.465,1293.18 446.19,1292.97 448.915,1293.05 \n",
       "  451.64,1294.46 454.365,1297.14 457.09,1296.09 459.815,1290.17 462.54,1289.16 465.265,1283 467.99,1289.07 470.714,1290.87 473.439,1297.78 476.164,1302.42 \n",
       "  478.889,1313.87 481.614,1322.35 484.339,1326.2 487.064,1330.05 489.789,1330 492.514,1333.43 495.239,1336.34 497.964,1338.79 500.688,1345.5 503.413,1348.06 \n",
       "  506.138,1352.78 508.863,1355.08 511.588,1357.31 514.313,1358.39 517.038,1362.83 519.763,1361.11 522.488,1358.07 525.213,1352.82 527.938,1344.61 530.662,1336.34 \n",
       "  533.387,1329.82 536.112,1324.45 538.837,1322.52 541.562,1321.56 544.287,1322.38 547.012,1319.22 549.737,1316.73 552.462,1313.65 555.187,1310.65 557.912,1310.4 \n",
       "  560.637,1311.19 563.361,1311.98 566.086,1309.48 568.811,1311.11 571.536,1307.74 574.261,1305.71 576.986,1302.56 579.711,1299.85 582.436,1300.07 585.161,1301.89 \n",
       "  587.886,1301.11 590.611,1302.43 593.335,1301.34 596.06,1299.03 598.785,1297.56 601.51,1297.39 604.235,1296.16 606.96,1296.61 609.685,1296.39 612.41,1291.84 \n",
       "  615.135,1290.91 617.86,1288.17 620.585,1288.84 623.309,1286.74 626.034,1287.28 628.759,1283.96 631.484,1282.99 634.209,1286.84 636.934,1295.05 639.659,1305.39 \n",
       "  642.384,1307.55 645.109,1309.84 647.834,1304.57 650.559,1305.69 653.283,1298.14 656.008,1297.93 658.733,1298.86 661.458,1296.44 664.183,1293.15 666.908,1289.45 \n",
       "  669.633,1284.58 672.358,1280.35 675.083,1284.15 677.808,1288.21 680.533,1290.07 683.258,1295.24 685.982,1291.25 688.707,1290.54 691.432,1288.87 694.157,1289.01 \n",
       "  696.882,1284.01 699.607,1282.49 702.332,1277.71 705.057,1274.43 707.782,1267.21 710.507,1261.41 713.232,1259.41 715.956,1258.65 718.681,1258.27 721.406,1258.44 \n",
       "  724.131,1256.99 726.856,1259.05 729.581,1259.88 732.306,1261.98 735.031,1262.19 737.756,1260.65 740.481,1261.34 743.206,1257.97 745.93,1254.83 748.655,1255.5 \n",
       "  751.38,1256.29 754.105,1252.88 756.83,1250.48 759.555,1248.65 762.28,1246.29 765.005,1242.8 767.73,1237.86 770.455,1230.78 773.18,1227.69 775.904,1224.32 \n",
       "  778.629,1224.98 781.354,1223.36 784.079,1221.54 786.804,1216.89 789.529,1214.28 792.254,1208.38 794.979,1206.35 797.704,1199.61 800.429,1200.29 803.154,1200.65 \n",
       "  805.878,1199.45 808.603,1193.62 811.328,1186.32 814.053,1179.37 816.778,1174.77 819.503,1171.82 822.228,1169.61 824.953,1167.2 827.678,1164.08 830.403,1161.66 \n",
       "  833.128,1159.02 835.853,1158.23 838.577,1153.8 841.302,1153.54 844.027,1152.56 846.752,1155.81 849.477,1157.07 852.202,1158.06 854.927,1155.58 857.652,1155.03 \n",
       "  860.377,1149.69 863.102,1152.44 865.827,1153.96 868.551,1159.32 871.276,1157.34 874.001,1155.46 876.726,1149.61 879.451,1149.31 882.176,1143.43 884.901,1144.11 \n",
       "  887.626,1138.45 890.351,1133.61 893.076,1126 895.801,1123.36 898.525,1119.29 901.25,1119.94 903.975,1117.07 906.7,1114.38 909.425,1109.23 912.15,1102.64 \n",
       "  914.875,1099.15 917.6,1093.18 920.325,1087.75 923.05,1081.3 925.775,1079.5 928.499,1074.22 931.224,1074.32 933.949,1064.85 936.674,1060.34 939.399,1049.47 \n",
       "  942.124,1044.04 944.849,1042.91 947.574,1040.51 950.299,1037.56 953.024,1035.34 955.749,1033.22 958.474,1029.78 961.198,1029.56 963.923,1033.34 966.648,1036.14 \n",
       "  969.373,1029.12 972.098,1027.1 974.823,1026.78 977.548,1035.94 980.273,1034.15 982.998,1035.18 985.723,1027.24 988.448,1022.93 991.172,1020.7 993.897,1020.74 \n",
       "  996.622,1020.03 999.347,1015.67 1002.07,1016.24 1004.8,1014.69 1007.52,1018.99 1010.25,1017.3 1012.97,1027.35 1015.7,1037 1018.42,1060.24 1021.15,1072.41 \n",
       "  1023.87,1093.66 1026.6,1111.6 1029.32,1106.45 1032.05,1101.62 1034.77,1094.8 1037.5,1079.51 1040.22,1089.05 1042.95,1096.74 1045.67,1115.38 1048.4,1111.2 \n",
       "  1051.12,1144.94 1053.85,1138.49 1056.57,1155.77 1059.3,1175.5 1062.02,1174.14 1064.75,1193.79 1067.47,1198.75 1070.19,1222.59 1072.92,1216.16 1075.64,1216.91 \n",
       "  1078.37,1201.66 1081.09,1191.35 1083.82,1187.23 1086.54,1179.87 1089.27,1189.73 1091.99,1193.66 1094.72,1199.04 1097.44,1195 1100.17,1181.43 1102.89,1175.02 \n",
       "  1105.62,1157.27 1108.34,1153.36 1111.07,1134.35 1113.79,1125.56 1116.52,1114.41 1119.24,1110.27 1121.97,1112.92 1124.69,1122.86 1127.42,1128.83 1130.14,1130.14 \n",
       "  1132.87,1129.37 1135.59,1119.33 1138.32,1119.99 1141.04,1112.52 1143.77,1105.52 1146.49,1100.39 1149.22,1096.59 1151.94,1087.72 1154.67,1084.08 1157.39,1075.2 \n",
       "  1160.12,1067.27 1162.84,1055.17 1165.57,1049.86 1168.29,1047.57 1171.02,1048.43 1173.74,1049.61 1176.47,1049.48 1179.19,1043.98 1181.92,1041.44 1184.64,1033.19 \n",
       "  1187.37,1033.93 1190.09,1028.69 1192.82,1032.28 1195.54,1028.01 1198.27,1031.36 1200.99,1026.03 1203.72,1024.83 1206.44,1019.05 1209.17,1018.41 1211.89,1012.54 \n",
       "  1214.62,1005.51 1217.34,996.003 1220.06,978.064 1222.79,974.449 1225.51,975.65 1228.24,972.213 1230.96,971.588 1233.69,961.939 1236.41,958.285 1239.14,951.667 \n",
       "  1241.86,949.895 1244.59,937.164 1247.31,934.808 1250.04,927.178 1252.76,928.472 1255.49,932.039 1258.21,926.689 1260.94,928.021 1263.66,922.343 1266.39,917.394 \n",
       "  1269.11,908.142 1271.84,903.297 1274.56,888.637 1277.29,886.289 1280.01,877.952 1282.74,877.371 1285.46,867.772 1288.19,869.679 1290.91,866.211 1293.64,865.266 \n",
       "  1296.36,861.454 1299.09,865.134 1301.81,868.438 1304.54,886.874 1307.26,885.969 1309.99,896.114 1312.71,892.217 1315.44,886.118 1318.16,859.737 1320.89,820.019 \n",
       "  1323.61,792.61 1326.34,762.115 1329.06,744.901 1331.79,731.125 1334.51,732.822 1337.24,725.642 1339.96,735.126 1342.69,715.382 1345.41,717.554 1348.14,701.012 \n",
       "  1350.86,702.064 1353.59,691.015 1356.31,690.879 1359.04,662.663 1361.76,641.939 1364.49,619.494 1367.21,606.708 1369.94,596.848 1372.66,603.137 1375.38,590.957 \n",
       "  1378.11,573.585 1380.83,554.388 1383.56,569.622 1386.28,590.207 1389.01,627.262 1391.73,665.287 1394.46,673.931 1397.18,704.171 1399.91,694.323 1402.63,701.13 \n",
       "  1405.36,699.042 1408.08,714.759 1410.81,724.548 1413.53,744.722 1416.26,735.887 1418.98,750.089 1421.71,748.254 1424.43,744.823 1427.16,730.304 1429.88,720.952 \n",
       "  1432.61,705.267 1435.33,694.05 1438.06,694.861 1440.78,695.422 1443.51,693.502 1446.23,703.814 1448.96,693.628 1451.68,697.606 1454.41,668.156 1457.13,654.56 \n",
       "  1459.86,643.869 1462.58,636.368 1465.31,643.122 1468.03,655.679 1470.76,666.066 1473.48,669.808 1476.21,679.853 1478.93,681.602 1481.66,688.77 1484.38,686.999 \n",
       "  1487.11,697.23 1489.83,702.182 1492.56,707.844 1495.28,733.773 1498.01,730.221 1500.73,734.507 1503.46,706.029 1506.18,691.636 1508.91,674.556 1511.63,678.526 \n",
       "  1514.36,669.637 1517.08,669.704 1519.81,662.924 1522.53,656.665 1525.25,651.849 1527.98,656.845 1530.7,657.596 1533.43,663.254 1536.15,675.166 1538.88,684.988 \n",
       "  1541.6,686.333 1544.33,689.387 1547.05,678.88 1549.78,662.841 1552.5,644.149 1555.23,633.769 1557.95,624.887 1560.68,623.43 1563.4,616.565 1566.13,620.792 \n",
       "  1568.85,619.869 1571.58,620.31 1574.3,625.915 1577.03,614.864 1579.75,599.002 1582.48,589.822 1585.2,577.503 1587.93,578.987 1590.65,564.671 1593.38,560.275 \n",
       "  1596.1,549.558 1598.83,532.786 1601.55,518.277 1604.28,518.688 1607,514.355 1609.73,530.207 1612.45,538.072 1615.18,551.978 1617.9,560.151 1620.63,549.198 \n",
       "  1623.35,555.798 1626.08,553.475 1628.8,554.238 1631.53,554.724 1634.25,565.641 1636.98,565.859 1639.7,564.237 1642.43,542.187 1645.15,518.927 1647.88,486.009 \n",
       "  1650.6,460.43 1653.33,447.697 1656.05,451.792 1658.78,476.433 1661.5,496.247 1664.23,506.614 1666.95,515.137 1669.68,507.422 1672.4,497.871 1675.13,495.813 \n",
       "  1677.85,490.862 1680.57,496.297 1683.3,498.043 1686.02,502.954 1688.75,506.621 1691.47,520.256 1694.2,530.623 1696.92,543.791 1699.65,556.83 1702.37,574.179 \n",
       "  1705.1,579.762 1707.82,601.095 1710.55,613.861 1713.27,610.933 1716,603.669 1718.72,611.533 1721.45,612.918 1724.17,627.354 1726.9,639.901 1729.62,653.925 \n",
       "  1732.35,643.173 1735.07,651.701 1737.8,633.801 1740.52,637.271 1743.25,613.833 1745.97,616.681 1748.7,610.422 1751.42,629.582 1754.15,623.537 1756.87,632.21 \n",
       "  1759.6,630.779 1762.32,637.536 1765.05,633.969 1767.77,640.391 1770.5,638.217 1773.22,640.594 1775.95,629.957 1778.67,624.763 1781.4,606.106 1784.12,599.06 \n",
       "  1786.85,577.516 1789.57,564.644 1792.3,548.132 1795.02,541.287 1797.75,527.748 1800.47,532.256 1803.2,516.876 1805.92,522.957 1808.65,512.954 1811.37,523.28 \n",
       "  1814.1,518.76 1816.82,528.637 1819.55,515.441 1822.27,521.638 1825,511.949 1827.72,520.151 1830.44,519.621 1833.17,531.529 1835.89,535.556 1838.62,557.741 \n",
       "  1841.34,553.112 1844.07,562.99 1846.79,560.517 1849.52,575.309 1852.24,581.781 1854.97,601.34 1857.69,591.806 1860.42,597.215 1863.14,590.409 1865.87,596.722 \n",
       "  1868.59,590.576 1871.32,594.444 1874.04,590.754 1876.77,586.037 1879.49,585.777 1882.22,586.525 1884.94,593.268 1887.67,597.533 1890.39,602.508 1893.12,604.339 \n",
       "  1895.84,605.713 1898.57,597.561 1901.29,597.528 1904.02,587.11 1906.74,589.042 1909.47,584.021 1912.19,577.22 1914.92,566.971 1917.64,563.704 1920.37,550.727 \n",
       "  1923.09,550.356 1925.82,544.779 1928.54,536.133 1931.27,529.555 1933.99,525.379 1936.72,522.494 1939.44,520.521 1942.17,512.768 1944.89,505.544 1947.62,496.459 \n",
       "  1950.34,485.762 1953.07,469.961 1955.79,454.296 1958.52,439.055 1961.24,431.232 1963.97,420.205 1966.69,420.663 1969.42,404.351 1972.14,396.858 1974.87,392.024 \n",
       "  1977.59,401.545 1980.32,407.165 1983.04,408.52 1985.76,411.63 1988.49,397.471 1991.21,391.592 1993.94,386.041 1996.66,394.439 1999.39,397.545 2002.11,404.787 \n",
       "  2004.84,405.931 2007.56,404.359 2010.29,397.627 2013.01,398.087 2015.74,394.627 2018.46,399.8 2021.19,399.876 2023.91,405.15 2026.64,397.171 2029.36,390.368 \n",
       "  2032.09,378.982 2034.81,369.025 2037.54,374.403 2040.26,381.961 2042.99,385.216 2045.71,385.262 2048.44,379.098 2051.16,376.942 2053.89,377.961 2056.61,380.258 \n",
       "  2059.34,371.445 2062.06,361.492 2064.79,355.32 2067.51,342.146 2070.24,338.433 2072.96,326.801 2075.69,321.077 2078.41,320.86 2081.14,331.693 2083.86,349.605 \n",
       "  2086.59,360.101 2089.31,374.825 2092.04,372.809 2094.76,384.071 2097.49,393.909 2100.21,410.474 2102.94,411.716 2105.66,412.734 2108.39,403.719 2111.11,402.576 \n",
       "  2113.84,408.926 2116.56,421.167 2119.29,428.016 2122.01,438.563 2124.74,441.103 2127.46,451.953 2130.19,443.624 2132.91,447.284 2135.64,435.101 2138.36,437.758 \n",
       "  2141.08,432.691 2143.81,443.359 2146.53,436.982 2149.26,434.413 2151.98,421.363 2154.71,407.394 2157.43,391.352 2160.16,383.608 2162.88,376.688 2165.61,378.354 \n",
       "  2168.33,375.704 2171.06,377.467 2173.78,369.21 2176.51,363.521 2179.23,368.302 2181.96,364.289 2184.68,365.424 2187.41,360.75 2190.13,360.079 2192.86,355.659 \n",
       "  2195.58,359.618 2198.31,362.336 2201.03,375.139 2203.76,371.988 2206.48,374.682 2209.21,367.517 2211.93,358.03 2214.66,337.146 2217.38,314.204 2220.11,291.584 \n",
       "  2222.83,276.027 2225.56,264.449 2228.28,270.445 2231.01,276.576 2233.73,261.843 2236.46,253.818 2239.18,242.135 2241.91,239.943 2244.63,237.36 2247.36,220.669 \n",
       "  2250.08,194.092 2252.81,167.699 2255.53,139.869 2258.26,121.018 2260.98,128.241 2263.71,114.832 2266.43,125.164 2269.16,141.351 2271.88,149.798 2274.61,161.876 \n",
       "  2277.33,151.63 2280.06,144.126 2282.78,120.724 2285.51,105.682 2288.23,97.3518 2290.95,93.6052 \n",
       "  \"/>\n",
       "<path clip-path=\"url(#clip360)\" d=\"\n",
       "M241.909 250.738 L1018.98 250.738 L1018.98 95.2176 L241.909 95.2176  Z\n",
       "  \" fill=\"#ffffff\" fill-rule=\"evenodd\" fill-opacity=\"1\"/>\n",
       "<polyline clip-path=\"url(#clip360)\" style=\"stroke:#000000; stroke-linecap:round; stroke-linejoin:round; stroke-width:4; stroke-opacity:1; fill:none\" points=\"\n",
       "  241.909,250.738 1018.98,250.738 1018.98,95.2176 241.909,95.2176 241.909,250.738 \n",
       "  \"/>\n",
       "<polyline clip-path=\"url(#clip360)\" style=\"stroke:#009af9; stroke-linecap:round; stroke-linejoin:round; stroke-width:4; stroke-opacity:1; fill:none\" points=\"\n",
       "  266.172,147.058 411.747,147.058 \n",
       "  \"/>\n",
       "<path clip-path=\"url(#clip360)\" d=\"M451.843 134.384 L445.501 151.583 L458.209 151.583 L451.843 134.384 M449.204 129.778 L454.505 129.778 L467.676 164.338 L462.815 164.338 L459.667 155.472 L444.089 155.472 L440.941 164.338 L436.01 164.338 L449.204 129.778 Z\" fill=\"#000000\" fill-rule=\"evenodd\" fill-opacity=\"1\" /><path clip-path=\"url(#clip360)\" d=\"M490.362 139.407 L490.362 143.389 Q488.556 142.393 486.727 141.907 Q484.922 141.398 483.07 141.398 Q478.926 141.398 476.635 144.037 Q474.343 146.652 474.343 151.398 Q474.343 156.143 476.635 158.782 Q478.926 161.398 483.07 161.398 Q484.922 161.398 486.727 160.912 Q488.556 160.402 490.362 159.407 L490.362 163.342 Q488.579 164.176 486.658 164.592 Q484.76 165.009 482.607 165.009 Q476.751 165.009 473.301 161.328 Q469.852 157.648 469.852 151.398 Q469.852 145.055 473.325 141.421 Q476.82 137.787 482.885 137.787 Q484.852 137.787 486.727 138.203 Q488.602 138.597 490.362 139.407 Z\" fill=\"#000000\" fill-rule=\"evenodd\" fill-opacity=\"1\" /><path clip-path=\"url(#clip360)\" d=\"M501.982 131.051 L501.982 138.412 L510.755 138.412 L510.755 141.722 L501.982 141.722 L501.982 155.796 Q501.982 158.967 502.838 159.87 Q503.718 160.773 506.38 160.773 L510.755 160.773 L510.755 164.338 L506.38 164.338 Q501.449 164.338 499.574 162.509 Q497.699 160.657 497.699 155.796 L497.699 141.722 L494.574 141.722 L494.574 138.412 L497.699 138.412 L497.699 131.051 L501.982 131.051 Z\" fill=\"#000000\" fill-rule=\"evenodd\" fill-opacity=\"1\" /><path clip-path=\"url(#clip360)\" d=\"M515.917 154.106 L515.917 138.412 L520.176 138.412 L520.176 153.944 Q520.176 157.625 521.611 159.476 Q523.047 161.305 525.917 161.305 Q529.366 161.305 531.357 159.106 Q533.371 156.907 533.371 153.111 L533.371 138.412 L537.63 138.412 L537.63 164.338 L533.371 164.338 L533.371 160.356 Q531.82 162.717 529.759 163.875 Q527.722 165.009 525.014 165.009 Q520.547 165.009 518.232 162.231 Q515.917 159.453 515.917 154.106 M526.635 137.787 L526.635 137.787 Z\" fill=\"#000000\" fill-rule=\"evenodd\" fill-opacity=\"1\" /><path clip-path=\"url(#clip360)\" d=\"M558.185 151.305 Q553.023 151.305 551.033 152.486 Q549.042 153.666 549.042 156.514 Q549.042 158.782 550.523 160.125 Q552.028 161.444 554.597 161.444 Q558.139 161.444 560.269 158.944 Q562.421 156.421 562.421 152.254 L562.421 151.305 L558.185 151.305 M566.681 149.546 L566.681 164.338 L562.421 164.338 L562.421 160.402 Q560.963 162.763 558.787 163.898 Q556.611 165.009 553.463 165.009 Q549.482 165.009 547.121 162.787 Q544.783 160.541 544.783 156.791 Q544.783 152.416 547.699 150.194 Q550.639 147.972 556.449 147.972 L562.421 147.972 L562.421 147.555 Q562.421 144.615 560.477 143.018 Q558.556 141.398 555.06 141.398 Q552.838 141.398 550.732 141.93 Q548.625 142.463 546.681 143.527 L546.681 139.592 Q549.019 138.69 551.218 138.25 Q553.417 137.787 555.5 137.787 Q561.125 137.787 563.903 140.703 Q566.681 143.62 566.681 149.546 Z\" fill=\"#000000\" fill-rule=\"evenodd\" fill-opacity=\"1\" /><path clip-path=\"url(#clip360)\" d=\"M575.454 128.319 L579.713 128.319 L579.713 164.338 L575.454 164.338 L575.454 128.319 Z\" fill=\"#000000\" fill-rule=\"evenodd\" fill-opacity=\"1\" /><path clip-path=\"url(#clip360)\" d=\"M629.759 132.44 L629.759 137.37 Q627.398 135.171 624.713 134.083 Q622.051 132.995 619.041 132.995 Q613.116 132.995 609.967 136.629 Q606.819 140.24 606.819 147.092 Q606.819 153.921 609.967 157.555 Q613.116 161.166 619.041 161.166 Q622.051 161.166 624.713 160.078 Q627.398 158.99 629.759 156.791 L629.759 161.676 Q627.305 163.342 624.551 164.176 Q621.819 165.009 618.764 165.009 Q610.916 165.009 606.403 160.217 Q601.889 155.402 601.889 147.092 Q601.889 138.759 606.403 133.967 Q610.916 129.153 618.764 129.153 Q621.865 129.153 624.597 129.986 Q627.352 130.796 629.759 132.44 Z\" fill=\"#000000\" fill-rule=\"evenodd\" fill-opacity=\"1\" /><path clip-path=\"url(#clip360)\" d=\"M636.796 128.319 L641.055 128.319 L641.055 164.338 L636.796 164.338 L636.796 128.319 Z\" fill=\"#000000\" fill-rule=\"evenodd\" fill-opacity=\"1\" /><path clip-path=\"url(#clip360)\" d=\"M660.013 141.398 Q656.588 141.398 654.597 144.083 Q652.606 146.745 652.606 151.398 Q652.606 156.051 654.574 158.736 Q656.564 161.398 660.013 161.398 Q663.416 161.398 665.407 158.713 Q667.398 156.027 667.398 151.398 Q667.398 146.791 665.407 144.106 Q663.416 141.398 660.013 141.398 M660.013 137.787 Q665.569 137.787 668.74 141.398 Q671.912 145.009 671.912 151.398 Q671.912 157.764 668.74 161.398 Q665.569 165.009 660.013 165.009 Q654.435 165.009 651.263 161.398 Q648.115 157.764 648.115 151.398 Q648.115 145.009 651.263 141.398 Q654.435 137.787 660.013 137.787 Z\" fill=\"#000000\" fill-rule=\"evenodd\" fill-opacity=\"1\" /><path clip-path=\"url(#clip360)\" d=\"M695.499 139.176 L695.499 143.203 Q693.694 142.277 691.749 141.815 Q689.805 141.352 687.722 141.352 Q684.55 141.352 682.953 142.324 Q681.379 143.296 681.379 145.24 Q681.379 146.722 682.513 147.578 Q683.648 148.412 687.073 149.176 L688.532 149.5 Q693.069 150.472 694.967 152.254 Q696.888 154.014 696.888 157.185 Q696.888 160.796 694.018 162.902 Q691.171 165.009 686.171 165.009 Q684.087 165.009 681.819 164.592 Q679.573 164.199 677.074 163.388 L677.074 158.99 Q679.435 160.217 681.726 160.842 Q684.018 161.444 686.263 161.444 Q689.273 161.444 690.893 160.426 Q692.513 159.384 692.513 157.509 Q692.513 155.773 691.333 154.847 Q690.175 153.921 686.217 153.064 L684.736 152.717 Q680.777 151.884 679.018 150.171 Q677.259 148.435 677.259 145.426 Q677.259 141.768 679.851 139.778 Q682.444 137.787 687.212 137.787 Q689.573 137.787 691.657 138.134 Q693.74 138.481 695.499 139.176 Z\" fill=\"#000000\" fill-rule=\"evenodd\" fill-opacity=\"1\" /><path clip-path=\"url(#clip360)\" d=\"M703.671 138.412 L707.93 138.412 L707.93 164.338 L703.671 164.338 L703.671 138.412 M703.671 128.319 L707.93 128.319 L707.93 133.713 L703.671 133.713 L703.671 128.319 Z\" fill=\"#000000\" fill-rule=\"evenodd\" fill-opacity=\"1\" /><path clip-path=\"url(#clip360)\" d=\"M738.393 148.689 L738.393 164.338 L734.133 164.338 L734.133 148.828 Q734.133 145.148 732.698 143.319 Q731.263 141.49 728.393 141.49 Q724.944 141.49 722.953 143.69 Q720.962 145.889 720.962 149.685 L720.962 164.338 L716.68 164.338 L716.68 138.412 L720.962 138.412 L720.962 142.44 Q722.49 140.102 724.55 138.944 Q726.633 137.787 729.342 137.787 Q733.809 137.787 736.101 140.565 Q738.393 143.319 738.393 148.689 Z\" fill=\"#000000\" fill-rule=\"evenodd\" fill-opacity=\"1\" /><path clip-path=\"url(#clip360)\" d=\"M763.948 151.074 Q763.948 146.444 762.027 143.898 Q760.129 141.352 756.68 141.352 Q753.254 141.352 751.332 143.898 Q749.434 146.444 749.434 151.074 Q749.434 155.68 751.332 158.226 Q753.254 160.773 756.68 160.773 Q760.129 160.773 762.027 158.226 Q763.948 155.68 763.948 151.074 M768.207 161.12 Q768.207 167.74 765.267 170.958 Q762.328 174.199 756.263 174.199 Q754.018 174.199 752.027 173.851 Q750.036 173.527 748.161 172.833 L748.161 168.689 Q750.036 169.708 751.865 170.194 Q753.693 170.68 755.592 170.68 Q759.781 170.68 761.865 168.481 Q763.948 166.305 763.948 161.884 L763.948 159.777 Q762.629 162.069 760.568 163.203 Q758.508 164.338 755.638 164.338 Q750.869 164.338 747.953 160.703 Q745.036 157.069 745.036 151.074 Q745.036 145.055 747.953 141.421 Q750.869 137.787 755.638 137.787 Q758.508 137.787 760.568 138.921 Q762.629 140.055 763.948 142.347 L763.948 138.412 L768.207 138.412 L768.207 161.12 Z\" fill=\"#000000\" fill-rule=\"evenodd\" fill-opacity=\"1\" /><path clip-path=\"url(#clip360)\" d=\"M796.911 133.62 L796.911 146.606 L802.79 146.606 Q806.054 146.606 807.837 144.916 Q809.619 143.227 809.619 140.102 Q809.619 137 807.837 135.31 Q806.054 133.62 802.79 133.62 L796.911 133.62 M792.235 129.778 L802.79 129.778 Q808.601 129.778 811.564 132.416 Q814.55 135.032 814.55 140.102 Q814.55 145.217 811.564 147.833 Q808.601 150.449 802.79 150.449 L796.911 150.449 L796.911 164.338 L792.235 164.338 L792.235 129.778 Z\" fill=\"#000000\" fill-rule=\"evenodd\" fill-opacity=\"1\" /><path clip-path=\"url(#clip360)\" d=\"M834.827 142.393 Q834.11 141.977 833.253 141.791 Q832.42 141.583 831.401 141.583 Q827.79 141.583 825.846 143.944 Q823.925 146.282 823.925 150.68 L823.925 164.338 L819.642 164.338 L819.642 138.412 L823.925 138.412 L823.925 142.44 Q825.267 140.078 827.42 138.944 Q829.573 137.787 832.651 137.787 Q833.091 137.787 833.624 137.856 Q834.156 137.903 834.804 138.018 L834.827 142.393 Z\" fill=\"#000000\" fill-rule=\"evenodd\" fill-opacity=\"1\" /><path clip-path=\"url(#clip360)\" d=\"M839.295 138.412 L843.554 138.412 L843.554 164.338 L839.295 164.338 L839.295 138.412 M839.295 128.319 L843.554 128.319 L843.554 133.713 L839.295 133.713 L839.295 128.319 Z\" fill=\"#000000\" fill-rule=\"evenodd\" fill-opacity=\"1\" /><path clip-path=\"url(#clip360)\" d=\"M871.123 139.407 L871.123 143.389 Q869.318 142.393 867.489 141.907 Q865.684 141.398 863.832 141.398 Q859.688 141.398 857.397 144.037 Q855.105 146.652 855.105 151.398 Q855.105 156.143 857.397 158.782 Q859.688 161.398 863.832 161.398 Q865.684 161.398 867.489 160.912 Q869.318 160.402 871.123 159.407 L871.123 163.342 Q869.341 164.176 867.42 164.592 Q865.522 165.009 863.369 165.009 Q857.512 165.009 854.063 161.328 Q850.614 157.648 850.614 151.398 Q850.614 145.055 854.086 141.421 Q857.582 137.787 863.647 137.787 Q865.614 137.787 867.489 138.203 Q869.364 138.597 871.123 139.407 Z\" fill=\"#000000\" fill-rule=\"evenodd\" fill-opacity=\"1\" /><path clip-path=\"url(#clip360)\" d=\"M900.707 150.31 L900.707 152.393 L881.123 152.393 Q881.401 156.791 883.762 159.106 Q886.146 161.398 890.383 161.398 Q892.836 161.398 895.128 160.796 Q897.443 160.194 899.711 158.99 L899.711 163.018 Q897.42 163.99 895.012 164.5 Q892.605 165.009 890.128 165.009 Q883.924 165.009 880.29 161.398 Q876.679 157.787 876.679 151.629 Q876.679 145.264 880.105 141.537 Q883.554 137.787 889.387 137.787 Q894.619 137.787 897.651 141.166 Q900.707 144.523 900.707 150.31 M896.447 149.06 Q896.401 145.565 894.48 143.481 Q892.582 141.398 889.433 141.398 Q885.869 141.398 883.716 143.412 Q881.586 145.426 881.262 149.083 L896.447 149.06 Z\" fill=\"#000000\" fill-rule=\"evenodd\" fill-opacity=\"1\" /><polyline clip-path=\"url(#clip360)\" style=\"stroke:#e26f46; stroke-linecap:round; stroke-linejoin:round; stroke-width:4; stroke-opacity:1; fill:none\" points=\"\n",
       "  266.172,198.898 411.747,198.898 \n",
       "  \"/>\n",
       "<path clip-path=\"url(#clip360)\" d=\"M440.686 185.46 L440.686 198.446 L446.565 198.446 Q449.829 198.446 451.612 196.756 Q453.394 195.067 453.394 191.942 Q453.394 188.84 451.612 187.15 Q449.829 185.46 446.565 185.46 L440.686 185.46 M436.01 181.618 L446.565 181.618 Q452.376 181.618 455.339 184.256 Q458.325 186.872 458.325 191.942 Q458.325 197.057 455.339 199.673 Q452.376 202.289 446.565 202.289 L440.686 202.289 L440.686 216.178 L436.01 216.178 L436.01 181.618 Z\" fill=\"#000000\" fill-rule=\"evenodd\" fill-opacity=\"1\" /><path clip-path=\"url(#clip360)\" d=\"M478.602 194.233 Q477.885 193.817 477.028 193.631 Q476.195 193.423 475.176 193.423 Q471.565 193.423 469.621 195.784 Q467.7 198.122 467.7 202.52 L467.7 216.178 L463.417 216.178 L463.417 190.252 L467.7 190.252 L467.7 194.28 Q469.042 191.918 471.195 190.784 Q473.348 189.627 476.426 189.627 Q476.866 189.627 477.399 189.696 Q477.931 189.743 478.579 189.858 L478.602 194.233 Z\" fill=\"#000000\" fill-rule=\"evenodd\" fill-opacity=\"1\" /><path clip-path=\"url(#clip360)\" d=\"M504.204 202.15 L504.204 204.233 L484.621 204.233 Q484.899 208.631 487.26 210.946 Q489.644 213.238 493.88 213.238 Q496.334 213.238 498.625 212.636 Q500.94 212.034 503.209 210.83 L503.209 214.858 Q500.917 215.83 498.51 216.34 Q496.102 216.849 493.625 216.849 Q487.422 216.849 483.788 213.238 Q480.176 209.627 480.176 203.469 Q480.176 197.104 483.602 193.377 Q487.051 189.627 492.885 189.627 Q498.116 189.627 501.149 193.006 Q504.204 196.363 504.204 202.15 M499.945 200.9 Q499.899 197.405 497.977 195.321 Q496.079 193.238 492.931 193.238 Q489.366 193.238 487.213 195.252 Q485.084 197.266 484.76 200.923 L499.945 200.9 Z\" fill=\"#000000\" fill-rule=\"evenodd\" fill-opacity=\"1\" /><path clip-path=\"url(#clip360)\" d=\"M528.255 194.187 L528.255 180.159 L532.514 180.159 L532.514 216.178 L528.255 216.178 L528.255 212.289 Q526.912 214.603 524.852 215.738 Q522.815 216.849 519.945 216.849 Q515.246 216.849 512.283 213.099 Q509.343 209.349 509.343 203.238 Q509.343 197.127 512.283 193.377 Q515.246 189.627 519.945 189.627 Q522.815 189.627 524.852 190.761 Q526.912 191.872 528.255 194.187 M513.741 203.238 Q513.741 207.937 515.662 210.622 Q517.607 213.284 520.986 213.284 Q524.366 213.284 526.31 210.622 Q528.255 207.937 528.255 203.238 Q528.255 198.539 526.31 195.877 Q524.366 193.192 520.986 193.192 Q517.607 193.192 515.662 195.877 Q513.741 198.539 513.741 203.238 Z\" fill=\"#000000\" fill-rule=\"evenodd\" fill-opacity=\"1\" /><path clip-path=\"url(#clip360)\" d=\"M541.287 190.252 L545.546 190.252 L545.546 216.178 L541.287 216.178 L541.287 190.252 M541.287 180.159 L545.546 180.159 L545.546 185.553 L541.287 185.553 L541.287 180.159 Z\" fill=\"#000000\" fill-rule=\"evenodd\" fill-opacity=\"1\" /><path clip-path=\"url(#clip360)\" d=\"M573.116 191.247 L573.116 195.229 Q571.31 194.233 569.481 193.747 Q567.676 193.238 565.824 193.238 Q561.681 193.238 559.389 195.877 Q557.097 198.492 557.097 203.238 Q557.097 207.983 559.389 210.622 Q561.681 213.238 565.824 213.238 Q567.676 213.238 569.481 212.752 Q571.31 212.242 573.116 211.247 L573.116 215.182 Q571.333 216.016 569.412 216.432 Q567.514 216.849 565.361 216.849 Q559.505 216.849 556.056 213.168 Q552.607 209.488 552.607 203.238 Q552.607 196.895 556.079 193.261 Q559.574 189.627 565.639 189.627 Q567.607 189.627 569.481 190.043 Q571.356 190.437 573.116 191.247 Z\" fill=\"#000000\" fill-rule=\"evenodd\" fill-opacity=\"1\" /><path clip-path=\"url(#clip360)\" d=\"M584.736 182.891 L584.736 190.252 L593.509 190.252 L593.509 193.562 L584.736 193.562 L584.736 207.636 Q584.736 210.807 585.593 211.71 Q586.472 212.613 589.134 212.613 L593.509 212.613 L593.509 216.178 L589.134 216.178 Q584.204 216.178 582.329 214.349 Q580.454 212.497 580.454 207.636 L580.454 193.562 L577.329 193.562 L577.329 190.252 L580.454 190.252 L580.454 182.891 L584.736 182.891 Z\" fill=\"#000000\" fill-rule=\"evenodd\" fill-opacity=\"1\" /><path clip-path=\"url(#clip360)\" d=\"M621.287 202.15 L621.287 204.233 L601.704 204.233 Q601.981 208.631 604.342 210.946 Q606.727 213.238 610.963 213.238 Q613.416 213.238 615.708 212.636 Q618.023 212.034 620.291 210.83 L620.291 214.858 Q618 215.83 615.592 216.34 Q613.185 216.849 610.708 216.849 Q604.504 216.849 600.87 213.238 Q597.259 209.627 597.259 203.469 Q597.259 197.104 600.685 193.377 Q604.134 189.627 609.967 189.627 Q615.199 189.627 618.231 193.006 Q621.287 196.363 621.287 202.15 M617.028 200.9 Q616.981 197.405 615.06 195.321 Q613.162 193.238 610.014 193.238 Q606.449 193.238 604.296 195.252 Q602.167 197.266 601.842 200.923 L617.028 200.9 Z\" fill=\"#000000\" fill-rule=\"evenodd\" fill-opacity=\"1\" /><path clip-path=\"url(#clip360)\" d=\"M645.338 194.187 L645.338 180.159 L649.597 180.159 L649.597 216.178 L645.338 216.178 L645.338 212.289 Q643.995 214.603 641.935 215.738 Q639.898 216.849 637.027 216.849 Q632.328 216.849 629.365 213.099 Q626.426 209.349 626.426 203.238 Q626.426 197.127 629.365 193.377 Q632.328 189.627 637.027 189.627 Q639.898 189.627 641.935 190.761 Q643.995 191.872 645.338 194.187 M630.824 203.238 Q630.824 207.937 632.745 210.622 Q634.689 213.284 638.069 213.284 Q641.449 213.284 643.393 210.622 Q645.338 207.937 645.338 203.238 Q645.338 198.539 643.393 195.877 Q641.449 193.192 638.069 193.192 Q634.689 193.192 632.745 195.877 Q630.824 198.539 630.824 203.238 Z\" fill=\"#000000\" fill-rule=\"evenodd\" fill-opacity=\"1\" /><path clip-path=\"url(#clip360)\" d=\"M699.504 184.28 L699.504 189.21 Q697.143 187.011 694.458 185.923 Q691.796 184.835 688.786 184.835 Q682.861 184.835 679.712 188.469 Q676.564 192.08 676.564 198.932 Q676.564 205.761 679.712 209.395 Q682.861 213.006 688.786 213.006 Q691.796 213.006 694.458 211.918 Q697.143 210.83 699.504 208.631 L699.504 213.516 Q697.05 215.182 694.296 216.016 Q691.564 216.849 688.509 216.849 Q680.661 216.849 676.148 212.057 Q671.634 207.242 671.634 198.932 Q671.634 190.599 676.148 185.807 Q680.661 180.993 688.509 180.993 Q691.61 180.993 694.342 181.826 Q697.097 182.636 699.504 184.28 Z\" fill=\"#000000\" fill-rule=\"evenodd\" fill-opacity=\"1\" /><path clip-path=\"url(#clip360)\" d=\"M706.541 180.159 L710.8 180.159 L710.8 216.178 L706.541 216.178 L706.541 180.159 Z\" fill=\"#000000\" fill-rule=\"evenodd\" fill-opacity=\"1\" /><path clip-path=\"url(#clip360)\" d=\"M729.758 193.238 Q726.333 193.238 724.342 195.923 Q722.351 198.585 722.351 203.238 Q722.351 207.891 724.319 210.576 Q726.309 213.238 729.758 213.238 Q733.161 213.238 735.152 210.553 Q737.143 207.867 737.143 203.238 Q737.143 198.631 735.152 195.946 Q733.161 193.238 729.758 193.238 M729.758 189.627 Q735.314 189.627 738.485 193.238 Q741.656 196.849 741.656 203.238 Q741.656 209.604 738.485 213.238 Q735.314 216.849 729.758 216.849 Q724.18 216.849 721.008 213.238 Q717.86 209.604 717.86 203.238 Q717.86 196.849 721.008 193.238 Q724.18 189.627 729.758 189.627 Z\" fill=\"#000000\" fill-rule=\"evenodd\" fill-opacity=\"1\" /><path clip-path=\"url(#clip360)\" d=\"M765.244 191.016 L765.244 195.043 Q763.439 194.117 761.494 193.655 Q759.55 193.192 757.467 193.192 Q754.295 193.192 752.698 194.164 Q751.124 195.136 751.124 197.08 Q751.124 198.562 752.258 199.418 Q753.393 200.252 756.818 201.016 L758.277 201.34 Q762.814 202.312 764.712 204.094 Q766.633 205.854 766.633 209.025 Q766.633 212.636 763.763 214.742 Q760.916 216.849 755.916 216.849 Q753.832 216.849 751.564 216.432 Q749.318 216.039 746.819 215.228 L746.819 210.83 Q749.18 212.057 751.471 212.682 Q753.763 213.284 756.008 213.284 Q759.018 213.284 760.638 212.266 Q762.258 211.224 762.258 209.349 Q762.258 207.613 761.078 206.687 Q759.92 205.761 755.962 204.904 L754.481 204.557 Q750.522 203.724 748.763 202.011 Q747.004 200.275 747.004 197.266 Q747.004 193.608 749.596 191.618 Q752.189 189.627 756.957 189.627 Q759.318 189.627 761.402 189.974 Q763.485 190.321 765.244 191.016 Z\" fill=\"#000000\" fill-rule=\"evenodd\" fill-opacity=\"1\" /><path clip-path=\"url(#clip360)\" d=\"M773.416 190.252 L777.675 190.252 L777.675 216.178 L773.416 216.178 L773.416 190.252 M773.416 180.159 L777.675 180.159 L777.675 185.553 L773.416 185.553 L773.416 180.159 Z\" fill=\"#000000\" fill-rule=\"evenodd\" fill-opacity=\"1\" /><path clip-path=\"url(#clip360)\" d=\"M808.138 200.529 L808.138 216.178 L803.878 216.178 L803.878 200.668 Q803.878 196.988 802.443 195.159 Q801.008 193.33 798.138 193.33 Q794.689 193.33 792.698 195.53 Q790.707 197.729 790.707 201.525 L790.707 216.178 L786.425 216.178 L786.425 190.252 L790.707 190.252 L790.707 194.28 Q792.235 191.942 794.295 190.784 Q796.378 189.627 799.087 189.627 Q803.554 189.627 805.846 192.405 Q808.138 195.159 808.138 200.529 Z\" fill=\"#000000\" fill-rule=\"evenodd\" fill-opacity=\"1\" /><path clip-path=\"url(#clip360)\" d=\"M833.693 202.914 Q833.693 198.284 831.772 195.738 Q829.874 193.192 826.425 193.192 Q822.999 193.192 821.077 195.738 Q819.179 198.284 819.179 202.914 Q819.179 207.52 821.077 210.066 Q822.999 212.613 826.425 212.613 Q829.874 212.613 831.772 210.066 Q833.693 207.52 833.693 202.914 M837.952 212.96 Q837.952 219.58 835.012 222.798 Q832.073 226.039 826.008 226.039 Q823.763 226.039 821.772 225.691 Q819.781 225.367 817.906 224.673 L817.906 220.529 Q819.781 221.548 821.61 222.034 Q823.438 222.52 825.337 222.52 Q829.526 222.52 831.61 220.321 Q833.693 218.145 833.693 213.724 L833.693 211.617 Q832.374 213.909 830.313 215.043 Q828.253 216.178 825.383 216.178 Q820.614 216.178 817.698 212.543 Q814.781 208.909 814.781 202.914 Q814.781 196.895 817.698 193.261 Q820.614 189.627 825.383 189.627 Q828.253 189.627 830.313 190.761 Q832.374 191.895 833.693 194.187 L833.693 190.252 L837.952 190.252 L837.952 212.96 Z\" fill=\"#000000\" fill-rule=\"evenodd\" fill-opacity=\"1\" /><path clip-path=\"url(#clip360)\" d=\"M866.656 185.46 L866.656 198.446 L872.535 198.446 Q875.799 198.446 877.582 196.756 Q879.364 195.067 879.364 191.942 Q879.364 188.84 877.582 187.15 Q875.799 185.46 872.535 185.46 L866.656 185.46 M861.98 181.618 L872.535 181.618 Q878.346 181.618 881.309 184.256 Q884.295 186.872 884.295 191.942 Q884.295 197.057 881.309 199.673 Q878.346 202.289 872.535 202.289 L866.656 202.289 L866.656 216.178 L861.98 216.178 L861.98 181.618 Z\" fill=\"#000000\" fill-rule=\"evenodd\" fill-opacity=\"1\" /><path clip-path=\"url(#clip360)\" d=\"M904.572 194.233 Q903.855 193.817 902.998 193.631 Q902.165 193.423 901.146 193.423 Q897.535 193.423 895.591 195.784 Q893.67 198.122 893.67 202.52 L893.67 216.178 L889.387 216.178 L889.387 190.252 L893.67 190.252 L893.67 194.28 Q895.012 191.918 897.165 190.784 Q899.318 189.627 902.396 189.627 Q902.836 189.627 903.369 189.696 Q903.901 189.743 904.549 189.858 L904.572 194.233 Z\" fill=\"#000000\" fill-rule=\"evenodd\" fill-opacity=\"1\" /><path clip-path=\"url(#clip360)\" d=\"M909.04 190.252 L913.299 190.252 L913.299 216.178 L909.04 216.178 L909.04 190.252 M909.04 180.159 L913.299 180.159 L913.299 185.553 L909.04 185.553 L909.04 180.159 Z\" fill=\"#000000\" fill-rule=\"evenodd\" fill-opacity=\"1\" /><path clip-path=\"url(#clip360)\" d=\"M940.868 191.247 L940.868 195.229 Q939.063 194.233 937.234 193.747 Q935.429 193.238 933.577 193.238 Q929.433 193.238 927.142 195.877 Q924.85 198.492 924.85 203.238 Q924.85 207.983 927.142 210.622 Q929.433 213.238 933.577 213.238 Q935.429 213.238 937.234 212.752 Q939.063 212.242 940.868 211.247 L940.868 215.182 Q939.086 216.016 937.165 216.432 Q935.267 216.849 933.114 216.849 Q927.257 216.849 923.808 213.168 Q920.359 209.488 920.359 203.238 Q920.359 196.895 923.831 193.261 Q927.327 189.627 933.392 189.627 Q935.359 189.627 937.234 190.043 Q939.109 190.437 940.868 191.247 Z\" fill=\"#000000\" fill-rule=\"evenodd\" fill-opacity=\"1\" /><path clip-path=\"url(#clip360)\" d=\"M970.452 202.15 L970.452 204.233 L950.868 204.233 Q951.146 208.631 953.507 210.946 Q955.891 213.238 960.128 213.238 Q962.581 213.238 964.873 212.636 Q967.188 212.034 969.456 210.83 L969.456 214.858 Q967.165 215.83 964.757 216.34 Q962.35 216.849 959.873 216.849 Q953.669 216.849 950.035 213.238 Q946.424 209.627 946.424 203.469 Q946.424 197.104 949.85 193.377 Q953.299 189.627 959.132 189.627 Q964.364 189.627 967.396 193.006 Q970.452 196.363 970.452 202.15 M966.192 200.9 Q966.146 197.405 964.225 195.321 Q962.327 193.238 959.178 193.238 Q955.614 193.238 953.461 195.252 Q951.331 197.266 951.007 200.923 L966.192 200.9 Z\" fill=\"#000000\" fill-rule=\"evenodd\" fill-opacity=\"1\" /></svg>\n"
      ]
     },
     "execution_count": 12,
     "metadata": {},
     "output_type": "execute_result"
    }
   ],
   "source": [
    "plot(price, label=\"Actual Closing Price\")\n",
    "plot!(2:length(price), predicted_single, label=\"Predicted Closing Price\")\n",
    "plot!(legend=:topleft)"
   ]
  },
  {
   "cell_type": "code",
   "execution_count": 13,
   "id": "fe4a22e3-02c6-4e24-848f-a0ac62191803",
   "metadata": {
    "slideshow": {
     "slide_type": "slide"
    },
    "tags": []
   },
   "outputs": [
    {
     "data": {
      "text/plain": [
       "753-element view(::Vector{Float32}, 5:757) with eltype Float32:\n",
       "  37.6875\n",
       "  38.3275\n",
       "  38.45\n",
       "  38.0725\n",
       "  37.5\n",
       "  38.2675\n",
       "  38.735\n",
       "  38.965\n",
       "  39.205\n",
       "  38.325\n",
       "  38.48\n",
       "  38.175\n",
       "  39.44\n",
       "   ⋮\n",
       " 179.3\n",
       " 172.26\n",
       " 171.14\n",
       " 169.75\n",
       " 172.99\n",
       " 175.64\n",
       " 176.28\n",
       " 180.33\n",
       " 179.29\n",
       " 179.38\n",
       " 178.2\n",
       " 177.57"
      ]
     },
     "execution_count": 13,
     "metadata": {},
     "output_type": "execute_result"
    }
   ],
   "source": [
    "window_length = 5\n",
    "X = [\n",
    "    @view price[i:i+window_length-1]\n",
    "    for i in 1:length(price)-window_length+1\n",
    "]\n",
    "Y = @view price[window_length:end]"
   ]
  },
  {
   "cell_type": "code",
   "execution_count": 14,
   "id": "9548040d-d60f-4cb9-97d6-a06ec5eb4ce9",
   "metadata": {
    "slideshow": {
     "slide_type": "subslide"
    },
    "tags": []
   },
   "outputs": [
    {
     "data": {
      "text/plain": [
       "Chain(\n",
       "  Recur(\n",
       "    RNNCell(5 => 128, relu),            \u001b[90m# 17_280 parameters\u001b[39m\n",
       "  ),\n",
       "  Dense(128 => 1),                      \u001b[90m# 129 parameters\u001b[39m\n",
       ") \u001b[90m        # Total: 6 trainable arrays, \u001b[39m17_409 parameters,\n",
       "\u001b[90m          # plus 1 non-trainable, 128 parameters, summarysize \u001b[39m68.371 KiB."
      ]
     },
     "execution_count": 14,
     "metadata": {},
     "output_type": "execute_result"
    }
   ],
   "source": [
    "model_window = Chain(\n",
    "    RNN(window_length => 128, relu),\n",
    "    Dense(128 => 1, identity)\n",
    ")"
   ]
  },
  {
   "cell_type": "code",
   "execution_count": 15,
   "id": "8518b001-2e8d-46d7-bad7-b44a48d31d65",
   "metadata": {
    "slideshow": {
     "slide_type": "subslide"
    },
    "tags": []
   },
   "outputs": [
    {
     "name": "stdout",
     "output_type": "stream",
     "text": [
      "New Loss = 3745.303                \r"
     ]
    }
   ],
   "source": [
    "epochs = 1000\n",
    "opt = Adam(1e-6)\n",
    "θ = Flux.params(model_window) # Keep track of the model parameters\n",
    "losses_window = Float32[] # a Float32 array\n",
    "loss_fn(x, y) = loss(model_window, x, y)\n",
    "for epoch ∈ 1:epochs # Training loop\n",
    "    Flux.reset!(model_window) # Reset the hidden state of the RNN\n",
    "    # model(X[1])\n",
    "    Flux.train!(loss_fn, θ, zip(X[2:end], Y[2:end]), opt)\n",
    "    new_loss = loss_fn(X, Y)\n",
    "    print(\"$(epoch): New Loss = $(new_loss)             \\r\")\n",
    "    push!(losses_window, new_loss)\n",
    "end"
   ]
  },
  {
   "cell_type": "code",
   "execution_count": 16,
   "id": "65a4f729-b1db-44ea-8e88-fbfa3494ff2c",
   "metadata": {
    "slideshow": {
     "slide_type": "subslide"
    },
    "tags": []
   },
   "outputs": [
    {
     "data": {
      "image/svg+xml": [
       "<?xml version=\"1.0\" encoding=\"utf-8\"?>\n",
       "<svg xmlns=\"http://www.w3.org/2000/svg\" xmlns:xlink=\"http://www.w3.org/1999/xlink\" width=\"600\" height=\"400\" viewBox=\"0 0 2400 1600\">\n",
       "<defs>\n",
       "  <clipPath id=\"clip400\">\n",
       "    <rect x=\"0\" y=\"0\" width=\"2400\" height=\"1600\"/>\n",
       "  </clipPath>\n",
       "</defs>\n",
       "<path clip-path=\"url(#clip400)\" d=\"\n",
       "M0 1600 L2400 1600 L2400 0 L0 0  Z\n",
       "  \" fill=\"#ffffff\" fill-rule=\"evenodd\" fill-opacity=\"1\"/>\n",
       "<defs>\n",
       "  <clipPath id=\"clip401\">\n",
       "    <rect x=\"480\" y=\"0\" width=\"1681\" height=\"1600\"/>\n",
       "  </clipPath>\n",
       "</defs>\n",
       "<path clip-path=\"url(#clip400)\" d=\"\n",
       "M159.422 1474.16 L2352.76 1474.16 L2352.76 47.2441 L159.422 47.2441  Z\n",
       "  \" fill=\"#ffffff\" fill-rule=\"evenodd\" fill-opacity=\"1\"/>\n",
       "<defs>\n",
       "  <clipPath id=\"clip402\">\n",
       "    <rect x=\"159\" y=\"47\" width=\"2194\" height=\"1428\"/>\n",
       "  </clipPath>\n",
       "</defs>\n",
       "<polyline clip-path=\"url(#clip402)\" style=\"stroke:#000000; stroke-linecap:round; stroke-linejoin:round; stroke-width:2; stroke-opacity:0.1; fill:none\" points=\"\n",
       "  221.498,1474.16 221.498,47.2441 \n",
       "  \"/>\n",
       "<polyline clip-path=\"url(#clip402)\" style=\"stroke:#000000; stroke-linecap:round; stroke-linejoin:round; stroke-width:2; stroke-opacity:0.1; fill:none\" points=\"\n",
       "  1600.95,1474.16 1600.95,47.2441 \n",
       "  \"/>\n",
       "<polyline clip-path=\"url(#clip400)\" style=\"stroke:#000000; stroke-linecap:round; stroke-linejoin:round; stroke-width:4; stroke-opacity:1; fill:none\" points=\"\n",
       "  159.422,1474.16 2352.76,1474.16 \n",
       "  \"/>\n",
       "<polyline clip-path=\"url(#clip400)\" style=\"stroke:#000000; stroke-linecap:round; stroke-linejoin:round; stroke-width:4; stroke-opacity:1; fill:none\" points=\"\n",
       "  221.498,1474.16 221.498,1455.27 \n",
       "  \"/>\n",
       "<polyline clip-path=\"url(#clip400)\" style=\"stroke:#000000; stroke-linecap:round; stroke-linejoin:round; stroke-width:4; stroke-opacity:1; fill:none\" points=\"\n",
       "  1600.95,1474.16 1600.95,1455.27 \n",
       "  \"/>\n",
       "<path clip-path=\"url(#clip400)\" d=\"M186.481 1548.29 L194.119 1548.29 L194.119 1521.92 L185.809 1523.59 L185.809 1519.33 L194.073 1517.66 L198.749 1517.66 L198.749 1548.29 L206.388 1548.29 L206.388 1552.22 L186.481 1552.22 L186.481 1548.29 Z\" fill=\"#000000\" fill-rule=\"evenodd\" fill-opacity=\"1\" /><path clip-path=\"url(#clip400)\" d=\"M225.832 1520.74 Q222.221 1520.74 220.392 1524.31 Q218.587 1527.85 218.587 1534.98 Q218.587 1542.09 220.392 1545.65 Q222.221 1549.19 225.832 1549.19 Q229.466 1549.19 231.272 1545.65 Q233.101 1542.09 233.101 1534.98 Q233.101 1527.85 231.272 1524.31 Q229.466 1520.74 225.832 1520.74 M225.832 1517.04 Q231.642 1517.04 234.698 1521.65 Q237.777 1526.23 237.777 1534.98 Q237.777 1543.71 234.698 1548.31 Q231.642 1552.9 225.832 1552.9 Q220.022 1552.9 216.943 1548.31 Q213.888 1543.71 213.888 1534.98 Q213.888 1526.23 216.943 1521.65 Q220.022 1517.04 225.832 1517.04 Z\" fill=\"#000000\" fill-rule=\"evenodd\" fill-opacity=\"1\" /><path clip-path=\"url(#clip400)\" d=\"M247.481 1499.24 Q244.547 1499.24 243.062 1502.13 Q241.595 1505.01 241.595 1510.8 Q241.595 1516.58 243.062 1519.47 Q244.547 1522.35 247.481 1522.35 Q250.434 1522.35 251.901 1519.47 Q253.387 1516.58 253.387 1510.8 Q253.387 1505.01 251.901 1502.13 Q250.434 1499.24 247.481 1499.24 M247.481 1496.23 Q252.202 1496.23 254.685 1499.97 Q257.186 1503.69 257.186 1510.8 Q257.186 1517.89 254.685 1521.64 Q252.202 1525.36 247.481 1525.36 Q242.761 1525.36 240.259 1521.64 Q237.777 1517.89 237.777 1510.8 Q237.777 1503.69 240.259 1499.97 Q242.761 1496.23 247.481 1496.23 Z\" fill=\"#000000\" fill-rule=\"evenodd\" fill-opacity=\"1\" /><path clip-path=\"url(#clip400)\" d=\"M1566.73 1548.29 L1574.36 1548.29 L1574.36 1521.92 L1566.05 1523.59 L1566.05 1519.33 L1574.32 1517.66 L1578.99 1517.66 L1578.99 1548.29 L1586.63 1548.29 L1586.63 1552.22 L1566.73 1552.22 L1566.73 1548.29 Z\" fill=\"#000000\" fill-rule=\"evenodd\" fill-opacity=\"1\" /><path clip-path=\"url(#clip400)\" d=\"M1606.08 1520.74 Q1602.47 1520.74 1600.64 1524.31 Q1598.83 1527.85 1598.83 1534.98 Q1598.83 1542.09 1600.64 1545.65 Q1602.47 1549.19 1606.08 1549.19 Q1609.71 1549.19 1611.52 1545.65 Q1613.35 1542.09 1613.35 1534.98 Q1613.35 1527.85 1611.52 1524.31 Q1609.71 1520.74 1606.08 1520.74 M1606.08 1517.04 Q1611.89 1517.04 1614.94 1521.65 Q1618.02 1526.23 1618.02 1534.98 Q1618.02 1543.71 1614.94 1548.31 Q1611.89 1552.9 1606.08 1552.9 Q1600.27 1552.9 1597.19 1548.31 Q1594.13 1543.71 1594.13 1534.98 Q1594.13 1526.23 1597.19 1521.65 Q1600.27 1517.04 1606.08 1517.04 Z\" fill=\"#000000\" fill-rule=\"evenodd\" fill-opacity=\"1\" /><path clip-path=\"url(#clip400)\" d=\"M1622.59 1521.62 L1635.85 1521.62 L1635.85 1524.81 L1618.02 1524.81 L1618.02 1521.62 Q1620.18 1519.38 1623.91 1515.62 Q1627.65 1511.84 1628.61 1510.75 Q1630.43 1508.7 1631.15 1507.29 Q1631.88 1505.86 1631.88 1504.48 Q1631.88 1502.24 1630.3 1500.83 Q1628.74 1499.42 1626.22 1499.42 Q1624.44 1499.42 1622.44 1500.04 Q1620.47 1500.67 1618.21 1501.93 L1618.21 1498.09 Q1620.5 1497.17 1622.5 1496.7 Q1624.49 1496.23 1626.15 1496.23 Q1630.51 1496.23 1633.11 1498.41 Q1635.7 1500.59 1635.7 1504.24 Q1635.7 1505.97 1635.04 1507.53 Q1634.4 1509.07 1632.69 1511.18 Q1632.22 1511.72 1629.7 1514.34 Q1627.18 1516.93 1622.59 1521.62 Z\" fill=\"#000000\" fill-rule=\"evenodd\" fill-opacity=\"1\" /><polyline clip-path=\"url(#clip402)\" style=\"stroke:#000000; stroke-linecap:round; stroke-linejoin:round; stroke-width:2; stroke-opacity:0.1; fill:none\" points=\"\n",
       "  159.422,1259.37 2352.76,1259.37 \n",
       "  \"/>\n",
       "<polyline clip-path=\"url(#clip402)\" style=\"stroke:#000000; stroke-linecap:round; stroke-linejoin:round; stroke-width:2; stroke-opacity:0.1; fill:none\" points=\"\n",
       "  159.422,850.439 2352.76,850.439 \n",
       "  \"/>\n",
       "<polyline clip-path=\"url(#clip402)\" style=\"stroke:#000000; stroke-linecap:round; stroke-linejoin:round; stroke-width:2; stroke-opacity:0.1; fill:none\" points=\"\n",
       "  159.422,441.511 2352.76,441.511 \n",
       "  \"/>\n",
       "<polyline clip-path=\"url(#clip400)\" style=\"stroke:#000000; stroke-linecap:round; stroke-linejoin:round; stroke-width:4; stroke-opacity:1; fill:none\" points=\"\n",
       "  159.422,1474.16 159.422,47.2441 \n",
       "  \"/>\n",
       "<polyline clip-path=\"url(#clip400)\" style=\"stroke:#000000; stroke-linecap:round; stroke-linejoin:round; stroke-width:4; stroke-opacity:1; fill:none\" points=\"\n",
       "  159.422,1259.37 178.32,1259.37 \n",
       "  \"/>\n",
       "<polyline clip-path=\"url(#clip400)\" style=\"stroke:#000000; stroke-linecap:round; stroke-linejoin:round; stroke-width:4; stroke-opacity:1; fill:none\" points=\"\n",
       "  159.422,850.439 178.32,850.439 \n",
       "  \"/>\n",
       "<polyline clip-path=\"url(#clip400)\" style=\"stroke:#000000; stroke-linecap:round; stroke-linejoin:round; stroke-width:4; stroke-opacity:1; fill:none\" points=\"\n",
       "  159.422,441.511 178.32,441.511 \n",
       "  \"/>\n",
       "<path clip-path=\"url(#clip400)\" d=\"M51.6634 1279.16 L59.3023 1279.16 L59.3023 1252.79 L50.9921 1254.46 L50.9921 1250.2 L59.256 1248.53 L63.9319 1248.53 L63.9319 1279.16 L71.5707 1279.16 L71.5707 1283.09 L51.6634 1283.09 L51.6634 1279.16 Z\" fill=\"#000000\" fill-rule=\"evenodd\" fill-opacity=\"1\" /><path clip-path=\"url(#clip400)\" d=\"M91.0151 1251.61 Q87.404 1251.61 85.5753 1255.18 Q83.7697 1258.72 83.7697 1265.85 Q83.7697 1272.96 85.5753 1276.52 Q87.404 1280.06 91.0151 1280.06 Q94.6493 1280.06 96.4548 1276.52 Q98.2835 1272.96 98.2835 1265.85 Q98.2835 1258.72 96.4548 1255.18 Q94.6493 1251.61 91.0151 1251.61 M91.0151 1247.91 Q96.8252 1247.91 99.8808 1252.52 Q102.959 1257.1 102.959 1265.85 Q102.959 1274.58 99.8808 1279.18 Q96.8252 1283.77 91.0151 1283.77 Q85.2049 1283.77 82.1262 1279.18 Q79.0707 1274.58 79.0707 1265.85 Q79.0707 1257.1 82.1262 1252.52 Q85.2049 1247.91 91.0151 1247.91 Z\" fill=\"#000000\" fill-rule=\"evenodd\" fill-opacity=\"1\" /><path clip-path=\"url(#clip400)\" d=\"M115.636 1230.91 L106.044 1245.9 L115.636 1245.9 L115.636 1230.91 M114.639 1227.6 L119.416 1227.6 L119.416 1245.9 L123.422 1245.9 L123.422 1249.06 L119.416 1249.06 L119.416 1255.68 L115.636 1255.68 L115.636 1249.06 L102.959 1249.06 L102.959 1245.4 L114.639 1227.6 Z\" fill=\"#000000\" fill-rule=\"evenodd\" fill-opacity=\"1\" /><path clip-path=\"url(#clip400)\" d=\"M53.958 870.231 L61.5968 870.231 L61.5968 843.866 L53.2867 845.532 L53.2867 841.273 L61.5505 839.607 L66.2264 839.607 L66.2264 870.231 L73.8653 870.231 L73.8653 874.167 L53.958 874.167 L53.958 870.231 Z\" fill=\"#000000\" fill-rule=\"evenodd\" fill-opacity=\"1\" /><path clip-path=\"url(#clip400)\" d=\"M93.3096 842.685 Q89.6985 842.685 87.8698 846.25 Q86.0643 849.792 86.0643 856.921 Q86.0643 864.028 87.8698 867.593 Q89.6985 871.134 93.3096 871.134 Q96.9438 871.134 98.7494 867.593 Q100.578 864.028 100.578 856.921 Q100.578 849.792 98.7494 846.25 Q96.9438 842.685 93.3096 842.685 M93.3096 838.982 Q99.1198 838.982 102.175 843.588 Q105.254 848.171 105.254 856.921 Q105.254 865.648 102.175 870.255 Q99.1198 874.838 93.3096 874.838 Q87.4995 874.838 84.4208 870.255 Q81.3652 865.648 81.3652 856.921 Q81.3652 848.171 84.4208 843.588 Q87.4995 838.982 93.3096 838.982 Z\" fill=\"#000000\" fill-rule=\"evenodd\" fill-opacity=\"1\" /><path clip-path=\"url(#clip400)\" d=\"M106.439 818.676 L121.353 818.676 L121.353 821.874 L109.918 821.874 L109.918 828.757 Q110.746 828.475 111.573 828.343 Q112.401 828.193 113.228 828.193 Q117.93 828.193 120.676 830.77 Q123.422 833.346 123.422 837.747 Q123.422 842.28 120.601 844.8 Q117.78 847.302 112.645 847.302 Q110.878 847.302 109.034 847.001 Q107.21 846.7 105.254 846.098 L105.254 842.28 Q106.947 843.202 108.752 843.653 Q110.558 844.104 112.57 844.104 Q115.824 844.104 117.724 842.393 Q119.623 840.681 119.623 837.747 Q119.623 834.813 117.724 833.102 Q115.824 831.39 112.57 831.39 Q111.047 831.39 109.523 831.729 Q108.019 832.067 106.439 832.782 L106.439 818.676 Z\" fill=\"#000000\" fill-rule=\"evenodd\" fill-opacity=\"1\" /><path clip-path=\"url(#clip400)\" d=\"M52.7355 461.303 L60.3743 461.303 L60.3743 434.938 L52.0642 436.604 L52.0642 432.345 L60.328 430.679 L65.0039 430.679 L65.0039 461.303 L72.6428 461.303 L72.6428 465.239 L52.7355 465.239 L52.7355 461.303 Z\" fill=\"#000000\" fill-rule=\"evenodd\" fill-opacity=\"1\" /><path clip-path=\"url(#clip400)\" d=\"M92.0871 433.757 Q88.476 433.757 86.6473 437.322 Q84.8418 440.864 84.8418 447.993 Q84.8418 455.1 86.6473 458.665 Q88.476 462.206 92.0871 462.206 Q95.7213 462.206 97.5269 458.665 Q99.3556 455.1 99.3556 447.993 Q99.3556 440.864 97.5269 437.322 Q95.7213 433.757 92.0871 433.757 M92.0871 430.054 Q97.8973 430.054 100.953 434.66 Q104.031 439.243 104.031 447.993 Q104.031 456.72 100.953 461.327 Q97.8973 465.91 92.0871 465.91 Q86.2769 465.91 83.1983 461.327 Q80.1427 456.72 80.1427 447.993 Q80.1427 439.243 83.1983 434.66 Q86.2769 430.054 92.0871 430.054 Z\" fill=\"#000000\" fill-rule=\"evenodd\" fill-opacity=\"1\" /><path clip-path=\"url(#clip400)\" d=\"M114.056 422.274 Q111.498 422.274 109.994 424.023 Q108.508 425.772 108.508 428.819 Q108.508 431.847 109.994 433.615 Q111.498 435.364 114.056 435.364 Q116.614 435.364 118.1 433.615 Q119.604 431.847 119.604 428.819 Q119.604 425.772 118.1 424.023 Q116.614 422.274 114.056 422.274 M121.598 410.369 L121.598 413.829 Q120.169 413.152 118.702 412.795 Q117.253 412.438 115.824 412.438 Q112.062 412.438 110.069 414.977 Q108.094 417.516 107.812 422.65 Q108.922 421.014 110.595 420.149 Q112.269 419.265 114.282 419.265 Q118.513 419.265 120.958 421.842 Q123.422 424.399 123.422 428.819 Q123.422 433.145 120.864 435.759 Q118.307 438.374 114.056 438.374 Q109.185 438.374 106.608 434.65 Q104.031 430.907 104.031 423.816 Q104.031 417.158 107.191 413.209 Q110.351 409.24 115.673 409.24 Q117.103 409.24 118.551 409.522 Q120.018 409.805 121.598 410.369 Z\" fill=\"#000000\" fill-rule=\"evenodd\" fill-opacity=\"1\" /><polyline clip-path=\"url(#clip402)\" style=\"stroke:#009af9; stroke-linecap:round; stroke-linejoin:round; stroke-width:4; stroke-opacity:1; fill:none\" points=\"\n",
       "  221.498,109.244 429.126,117.664 550.581,126.028 636.755,134.525 703.597,143.256 758.21,152.268 804.385,161.581 844.384,171.237 879.665,181.27 911.225,191.701 \n",
       "  939.775,202.55 965.839,213.851 989.815,225.645 1012.01,237.967 1032.68,250.839 1052.01,264.307 1070.17,278.439 1087.29,293.279 1103.49,308.893 1118.85,325.36 \n",
       "  1133.47,342.754 1147.4,361.175 1160.72,380.734 1173.47,401.554 1185.7,423.758 1197.44,447.497 1208.75,472.993 1219.64,500.342 1230.15,529.161 1240.31,558.46 \n",
       "  1250.13,587.934 1259.64,618.065 1268.86,649.798 1277.8,683.892 1286.48,720.848 1294.92,761.338 1303.13,805.873 1311.12,854.931 1318.9,908.687 1326.48,966.645 \n",
       "  1333.88,1026.75 1341.1,1084.16 1348.15,1131.25 1355.03,1161.36 1361.76,1174.97 1368.35,1178.83 1374.79,1179.24 1381.1,1179.03 1387.27,1178.87 1393.32,1178.83 \n",
       "  1399.26,1178.84 1405.07,1178.89 1410.78,1178.96 1416.38,1179.02 1421.87,1179.09 1427.27,1179.17 1432.57,1179.24 1437.78,1179.31 1442.9,1179.38 1447.94,1179.45 \n",
       "  1452.89,1179.53 1457.76,1179.6 1462.55,1179.67 1467.27,1179.74 1471.91,1179.81 1476.49,1179.88 1480.99,1179.96 1485.43,1180.03 1489.8,1180.1 1494.11,1180.17 \n",
       "  1498.36,1180.24 1502.55,1180.31 1506.68,1180.38 1510.76,1180.44 1514.78,1180.51 1518.75,1180.58 1522.66,1180.64 1526.53,1180.71 1530.34,1180.77 1534.11,1180.84 \n",
       "  1537.83,1180.91 1541.51,1180.97 1545.14,1181.04 1548.73,1181.1 1552.27,1181.17 1555.77,1181.24 1559.24,1181.3 1562.66,1181.37 1566.05,1181.43 1569.39,1181.5 \n",
       "  1572.7,1181.57 1575.98,1181.63 1579.21,1181.7 1582.42,1181.76 1585.59,1181.83 1588.72,1181.89 1591.83,1181.96 1594.9,1182.02 1597.94,1182.09 1600.95,1182.15 \n",
       "  1603.93,1182.22 1606.88,1182.28 1609.81,1182.35 1612.7,1182.41 1615.57,1182.48 1618.41,1182.54 1621.22,1182.61 1624.01,1182.67 1626.77,1182.74 1629.5,1182.8 \n",
       "  1632.21,1182.86 1634.9,1182.92 1637.56,1182.99 1640.2,1183.05 1642.82,1183.11 1645.41,1183.17 1647.98,1183.23 1650.53,1183.29 1653.06,1183.35 1655.57,1183.42 \n",
       "  1658.05,1183.48 1660.52,1183.54 1662.96,1183.6 1665.39,1183.66 1667.79,1183.72 1670.18,1183.78 1672.55,1183.85 1674.9,1183.91 1677.23,1183.97 1679.54,1184.03 \n",
       "  1681.84,1184.09 1684.12,1184.15 1686.38,1184.21 1688.62,1184.27 1690.85,1184.34 1693.06,1184.4 1695.25,1184.46 1697.43,1184.52 1699.59,1184.58 1701.74,1184.64 \n",
       "  1703.87,1184.7 1705.99,1184.76 1708.09,1184.82 1710.18,1184.88 1712.25,1184.95 1714.31,1185.01 1716.36,1185.07 1718.39,1185.13 1720.4,1185.19 1722.41,1185.25 \n",
       "  1724.4,1185.31 1726.38,1185.37 1728.34,1185.43 1730.29,1185.49 1732.23,1185.55 1734.16,1185.61 1736.07,1185.67 1737.97,1185.73 1739.86,1185.79 1741.74,1185.85 \n",
       "  1743.61,1185.92 1745.46,1185.98 1747.3,1186.04 1749.14,1186.1 1750.96,1186.16 1752.77,1186.22 1754.57,1186.28 1756.35,1186.34 1758.13,1186.4 1759.9,1186.46 \n",
       "  1761.66,1186.52 1763.4,1186.58 1765.14,1186.64 1766.87,1186.7 1768.58,1186.76 1770.29,1186.82 1771.99,1186.88 1773.67,1186.94 1775.35,1187 1777.02,1187.06 \n",
       "  1778.68,1187.12 1780.33,1187.18 1781.97,1187.24 1783.61,1187.3 1785.23,1187.36 1786.84,1187.42 1788.45,1187.48 1790.05,1187.54 1791.64,1187.6 1793.22,1187.66 \n",
       "  1794.79,1187.72 1796.35,1187.78 1797.91,1187.84 1799.46,1187.9 1801,1187.96 1802.53,1188.02 1804.05,1188.08 1805.57,1188.14 1807.08,1188.2 1808.58,1188.26 \n",
       "  1810.08,1188.32 1811.56,1188.38 1813.04,1188.44 1814.51,1188.5 1815.98,1188.55 1817.44,1188.61 1818.89,1188.67 1820.33,1188.73 1821.77,1188.79 1823.2,1188.85 \n",
       "  1824.62,1188.91 1826.04,1188.97 1827.45,1189.03 1828.85,1189.09 1830.24,1189.15 1831.63,1189.21 1833.02,1189.27 1834.4,1189.33 1835.77,1189.39 1837.13,1189.44 \n",
       "  1838.49,1189.5 1839.84,1189.56 1841.19,1189.62 1842.53,1189.68 1843.86,1189.74 1845.19,1189.8 1846.51,1189.86 1847.83,1189.92 1849.14,1189.97 1850.45,1190.03 \n",
       "  1851.75,1190.09 1853.04,1190.15 1854.33,1190.21 1855.61,1190.27 1856.89,1190.33 1858.16,1190.38 1859.43,1190.44 1860.69,1190.5 1861.94,1190.56 1863.2,1190.62 \n",
       "  1864.44,1190.67 1865.68,1190.73 1866.92,1190.79 1868.15,1190.85 1869.37,1190.91 1870.59,1190.97 1871.81,1191.02 1873.02,1191.08 1874.22,1191.14 1875.42,1191.2 \n",
       "  1876.62,1191.26 1877.81,1191.31 1879,1191.37 1880.18,1191.43 1881.35,1191.49 1882.53,1191.54 1883.7,1191.6 1884.86,1191.66 1886.02,1191.72 1887.17,1191.78 \n",
       "  1888.32,1191.83 1889.47,1191.89 1890.61,1191.95 1891.74,1192.01 1892.88,1192.06 1894.01,1192.12 1895.13,1192.18 1896.25,1192.24 1897.36,1192.29 1898.48,1192.35 \n",
       "  1899.58,1192.41 1900.69,1192.47 1901.79,1192.52 1902.88,1192.58 1903.97,1192.64 1905.06,1192.7 1906.14,1192.75 1907.22,1192.81 1908.3,1192.87 1909.37,1192.92 \n",
       "  1910.44,1192.98 1911.5,1193.04 1912.56,1193.1 1913.62,1193.15 1914.67,1193.21 1915.72,1193.27 1916.77,1193.32 1917.81,1193.38 1918.85,1193.44 1919.88,1193.5 \n",
       "  1920.91,1193.55 1921.94,1193.61 1922.96,1193.67 1923.98,1193.72 1925,1193.78 1926.02,1193.84 1927.03,1193.89 1928.03,1193.95 1929.04,1194.01 1930.04,1194.06 \n",
       "  1931.03,1194.12 1932.03,1194.18 1933.02,1194.23 1934,1194.29 1934.99,1194.34 1935.97,1194.4 1936.95,1194.46 1937.92,1194.51 1938.89,1194.57 1939.86,1194.63 \n",
       "  1940.82,1194.68 1941.78,1194.74 1942.74,1194.79 1943.7,1194.85 1944.65,1194.91 1945.6,1194.96 1946.55,1195.02 1947.49,1195.07 1948.43,1195.13 1949.37,1195.18 \n",
       "  1950.3,1195.24 1951.24,1195.3 1952.16,1195.35 1953.09,1195.41 1954.01,1195.46 1954.93,1195.52 1955.85,1195.57 1956.77,1195.63 1957.68,1195.69 1958.59,1195.74 \n",
       "  1959.49,1195.8 1960.4,1195.85 1961.3,1195.91 1962.2,1195.96 1963.09,1196.02 1963.98,1196.07 1964.87,1196.13 1965.76,1196.18 1966.65,1196.24 1967.53,1196.3 \n",
       "  1968.41,1196.35 1969.29,1196.41 1970.16,1196.46 1971.03,1196.52 1971.9,1196.57 1972.77,1196.63 1973.63,1196.68 1974.5,1196.74 1975.35,1196.79 1976.21,1196.85 \n",
       "  1977.07,1196.9 1977.92,1196.96 1978.77,1197.01 1979.62,1197.07 1980.46,1197.13 1981.3,1197.18 1982.14,1197.24 1982.98,1197.29 1983.82,1197.35 1984.65,1197.4 \n",
       "  1985.48,1197.46 1986.31,1197.51 1987.14,1197.57 1987.96,1197.62 1988.78,1197.68 1989.6,1197.73 1990.42,1197.79 1991.23,1197.84 1992.05,1197.9 1992.86,1197.95 \n",
       "  1993.67,1198.01 1994.47,1198.06 1995.28,1198.12 1996.08,1198.17 1996.88,1198.23 1997.68,1198.28 1998.47,1198.34 1999.26,1198.39 2000.06,1198.45 2000.85,1198.5 \n",
       "  2001.63,1198.56 2002.42,1198.61 2003.2,1198.66 2003.98,1198.72 2004.76,1198.77 2005.54,1198.83 2006.31,1198.88 2007.09,1198.94 2007.86,1198.99 2008.63,1199.05 \n",
       "  2009.39,1199.1 2010.16,1199.16 2010.92,1199.21 2011.68,1199.27 2012.44,1199.32 2013.2,1199.37 2013.96,1199.43 2014.71,1199.48 2015.46,1199.54 2016.21,1199.59 \n",
       "  2016.96,1199.65 2017.7,1199.7 2018.45,1199.76 2019.19,1199.81 2019.93,1199.86 2020.67,1199.92 2021.41,1199.97 2022.14,1200.03 2022.88,1200.08 2023.61,1200.14 \n",
       "  2024.34,1200.19 2025.06,1200.24 2025.79,1200.3 2026.52,1200.35 2027.24,1200.41 2027.96,1200.46 2028.68,1200.51 2029.4,1200.57 2030.11,1200.62 2030.83,1200.68 \n",
       "  2031.54,1200.73 2032.25,1200.78 2032.96,1200.84 2033.66,1200.89 2034.37,1200.95 2035.07,1201 2035.78,1201.05 2036.48,1201.11 2037.18,1201.16 2037.87,1201.22 \n",
       "  2038.57,1201.27 2039.26,1201.32 2039.96,1201.38 2040.65,1201.43 2041.34,1201.48 2042.02,1201.54 2042.71,1201.59 2043.4,1201.64 2044.08,1201.7 2044.76,1201.75 \n",
       "  2045.44,1201.81 2046.12,1201.86 2046.8,1201.91 2047.47,1201.97 2048.14,1202.02 2048.82,1202.07 2049.49,1202.13 2050.16,1202.18 2050.83,1202.23 2051.49,1202.29 \n",
       "  2052.16,1202.34 2052.82,1202.39 2053.48,1202.45 2054.14,1202.5 2054.8,1202.55 2055.46,1202.61 2056.12,1202.66 2056.77,1202.71 2057.42,1202.77 2058.08,1202.82 \n",
       "  2058.73,1202.87 2059.37,1202.93 2060.02,1202.98 2060.67,1203.03 2061.31,1203.09 2061.96,1203.14 2062.6,1203.19 2063.24,1203.25 2063.88,1203.3 2064.52,1203.35 \n",
       "  2065.15,1203.41 2065.79,1203.46 2066.42,1203.51 2067.06,1203.57 2067.69,1203.62 2068.32,1203.67 2068.95,1203.72 2069.57,1203.78 2070.2,1203.83 2070.82,1203.88 \n",
       "  2071.45,1203.94 2072.07,1203.99 2072.69,1204.04 2073.31,1204.1 2073.93,1204.15 2074.54,1204.2 2075.16,1204.25 2075.77,1204.31 2076.39,1204.36 2077,1204.41 \n",
       "  2077.61,1204.47 2078.22,1204.52 2078.83,1204.57 2079.44,1204.63 2080.04,1204.68 2080.65,1204.73 2081.25,1204.78 2081.85,1204.84 2082.45,1204.89 2083.05,1204.94 \n",
       "  2083.65,1205 2084.25,1205.05 2084.84,1205.1 2085.44,1205.15 2086.03,1205.21 2086.62,1205.26 2087.22,1205.31 2087.81,1205.37 2088.4,1205.42 2088.98,1205.47 \n",
       "  2089.57,1205.52 2090.16,1205.58 2090.74,1205.63 2091.32,1205.68 2091.91,1205.73 2092.49,1205.79 2093.07,1205.84 2093.65,1205.89 2094.22,1205.94 2094.8,1206 \n",
       "  2095.38,1206.05 2095.95,1206.1 2096.52,1206.15 2097.1,1206.21 2097.67,1206.26 2098.24,1206.31 2098.81,1206.36 2099.37,1206.42 2099.94,1206.47 2100.51,1206.52 \n",
       "  2101.07,1206.57 2101.63,1206.62 2102.2,1206.68 2102.76,1206.73 2103.32,1206.78 2103.88,1206.83 2104.44,1206.88 2104.99,1206.94 2105.55,1206.99 2106.11,1207.04 \n",
       "  2106.66,1207.09 2107.21,1207.14 2107.76,1207.2 2108.32,1207.25 2108.87,1207.3 2109.41,1207.35 2109.96,1207.4 2110.51,1207.46 2111.06,1207.51 2111.6,1207.56 \n",
       "  2112.15,1207.61 2112.69,1207.66 2113.23,1207.71 2113.77,1207.77 2114.31,1207.82 2114.85,1207.87 2115.39,1207.92 2115.93,1207.97 2116.46,1208.02 2117,1208.08 \n",
       "  2117.53,1208.13 2118.07,1208.18 2118.6,1208.23 2119.13,1208.28 2119.66,1208.33 2120.19,1208.38 2120.72,1208.44 2121.25,1208.49 2121.77,1208.54 2122.3,1208.59 \n",
       "  2122.83,1208.64 2123.35,1208.69 2123.87,1208.74 2124.4,1208.79 2124.92,1208.85 2125.44,1208.9 2125.96,1208.95 2126.48,1209 2126.99,1209.05 2127.51,1209.1 \n",
       "  2128.03,1209.15 2128.54,1209.2 2129.06,1209.25 2129.57,1209.31 2130.08,1209.36 2130.59,1209.41 2131.1,1209.46 2131.61,1209.51 2132.12,1209.56 2132.63,1209.61 \n",
       "  2133.14,1209.66 2133.64,1209.71 2134.15,1209.76 2134.65,1209.82 2135.16,1209.87 2135.66,1209.92 2136.16,1209.97 2136.67,1210.02 2137.17,1210.07 2137.67,1210.12 \n",
       "  2138.16,1210.17 2138.66,1210.22 2139.16,1210.27 2139.66,1210.32 2140.15,1210.37 2140.65,1210.42 2141.14,1210.47 2141.63,1210.52 2142.13,1210.57 2142.62,1210.62 \n",
       "  2143.11,1210.67 2143.6,1210.73 2144.09,1210.78 2144.57,1210.83 2145.06,1210.88 2145.55,1210.93 2146.03,1210.98 2146.52,1211.03 2147,1211.08 2147.49,1211.13 \n",
       "  2147.97,1211.18 2148.45,1211.23 2148.93,1211.28 2149.41,1211.33 2149.89,1211.38 2150.37,1211.43 2150.85,1211.48 2151.33,1211.53 2151.8,1211.58 2152.28,1211.63 \n",
       "  2152.76,1211.68 2153.23,1211.73 2153.7,1211.78 2154.18,1211.83 2154.65,1211.88 2155.12,1211.93 2155.59,1211.98 2156.06,1212.03 2156.53,1212.08 2157,1212.13 \n",
       "  2157.47,1212.18 2157.93,1212.23 2158.4,1212.28 2158.86,1212.33 2159.33,1212.38 2159.79,1212.43 2160.26,1212.48 2160.72,1212.53 2161.18,1212.58 2161.64,1212.63 \n",
       "  2162.1,1212.68 2162.56,1212.73 2163.02,1212.78 2163.48,1212.83 2163.94,1212.88 2164.39,1212.93 2164.85,1212.98 2165.31,1213.03 2165.76,1213.08 2166.21,1213.13 \n",
       "  2166.67,1213.18 2167.12,1213.23 2167.57,1213.28 2168.02,1213.33 2168.48,1213.38 2168.93,1213.43 2169.38,1213.48 2169.82,1213.53 2170.27,1213.58 2170.72,1213.63 \n",
       "  2171.17,1213.68 2171.61,1213.73 2172.06,1213.78 2172.5,1213.83 2172.95,1213.88 2173.39,1213.93 2173.83,1213.98 2174.27,1214.03 2174.72,1214.08 2175.16,1214.13 \n",
       "  2175.6,1214.18 2176.04,1214.23 2176.48,1214.28 2176.91,1214.33 2177.35,1214.37 2177.79,1214.42 2178.22,1214.47 2178.66,1214.52 2179.1,1214.57 2179.53,1214.62 \n",
       "  2179.96,1214.67 2180.4,1214.72 2180.83,1214.77 2181.26,1214.82 2181.69,1214.87 2182.12,1214.92 2182.55,1214.97 2182.98,1215.02 2183.41,1215.07 2183.84,1215.12 \n",
       "  2184.27,1215.17 2184.69,1215.21 2185.12,1215.26 2185.55,1215.31 2185.97,1215.36 2186.4,1215.41 2186.82,1215.46 2187.24,1215.51 2187.67,1215.56 2188.09,1215.61 \n",
       "  2188.51,1215.66 2188.93,1215.71 2189.35,1215.75 2189.77,1215.8 2190.19,1215.85 2190.61,1215.9 2191.03,1215.95 2191.45,1216 2191.86,1216.05 2192.28,1216.1 \n",
       "  2192.69,1216.15 2193.11,1216.2 2193.52,1216.24 2193.94,1216.29 2194.35,1216.34 2194.76,1216.39 2195.18,1216.44 2195.59,1216.49 2196,1216.54 2196.41,1216.59 \n",
       "  2196.82,1216.64 2197.23,1216.68 2197.64,1216.73 2198.05,1216.78 2198.46,1216.83 2198.86,1216.88 2199.27,1216.93 2199.68,1216.98 2200.08,1217.03 2200.49,1217.07 \n",
       "  2200.89,1217.12 2201.29,1217.17 2201.7,1217.22 2202.1,1217.27 2202.5,1217.32 2202.9,1217.37 2203.31,1217.41 2203.71,1217.46 2204.11,1217.51 2204.51,1217.56 \n",
       "  2204.91,1217.61 2205.3,1217.66 2205.7,1217.71 2206.1,1217.75 2206.5,1217.8 2206.89,1217.85 2207.29,1217.9 2207.68,1217.95 2208.08,1218 2208.47,1218.05 \n",
       "  2208.87,1218.09 2209.26,1218.14 2209.65,1218.19 2210.05,1218.24 2210.44,1218.29 2210.83,1218.34 2211.22,1218.38 2211.61,1218.43 2212,1218.48 2212.39,1218.53 \n",
       "  2212.78,1218.58 2213.17,1218.63 2213.55,1218.67 2213.94,1218.72 2214.33,1218.77 2214.72,1218.82 2215.1,1218.87 2215.49,1218.92 2215.87,1218.96 2216.26,1219.01 \n",
       "  2216.64,1219.06 2217.02,1219.11 2217.4,1219.16 2217.79,1219.2 2218.17,1219.25 2218.55,1219.3 2218.93,1219.35 2219.31,1219.4 2219.69,1219.44 2220.07,1219.49 \n",
       "  2220.45,1219.54 2220.83,1219.59 2221.21,1219.64 2221.58,1219.68 2221.96,1219.73 2222.34,1219.78 2222.71,1219.83 2223.09,1219.88 2223.46,1219.92 2223.84,1219.97 \n",
       "  2224.21,1220.02 2224.59,1220.07 2224.96,1220.12 2225.33,1220.16 2225.71,1220.21 2226.08,1220.26 2226.45,1220.31 2226.82,1220.36 2227.19,1220.4 2227.56,1220.45 \n",
       "  2227.93,1220.5 2228.3,1220.55 2228.67,1220.59 2229.04,1220.64 2229.4,1220.69 2229.77,1220.74 2230.14,1220.78 2230.5,1220.83 2230.87,1220.88 2231.24,1220.93 \n",
       "  2231.6,1220.97 2231.97,1221.02 2232.33,1221.07 2232.69,1221.12 2233.06,1221.16 2233.42,1221.21 2233.78,1221.26 2234.14,1221.31 2234.51,1221.35 2234.87,1221.4 \n",
       "  2235.23,1221.45 2235.59,1221.5 2235.95,1221.54 2236.31,1221.59 2236.67,1221.64 2237.02,1221.69 2237.38,1221.73 2237.74,1221.78 2238.1,1221.83 2238.45,1221.88 \n",
       "  2238.81,1221.92 2239.17,1221.97 2239.52,1222.02 2239.88,1222.07 2240.23,1222.11 2240.59,1222.16 2240.94,1222.21 2241.29,1222.25 2241.65,1222.3 2242,1222.35 \n",
       "  2242.35,1222.4 2242.7,1222.44 2243.05,1222.49 2243.41,1222.54 2243.76,1222.58 2244.11,1222.63 2244.46,1222.68 2244.8,1222.72 2245.15,1222.77 2245.5,1222.82 \n",
       "  2245.85,1222.86 2246.2,1222.91 2246.55,1222.96 2246.89,1223 2247.24,1223.05 2247.58,1223.1 2247.93,1223.14 2248.28,1223.19 2248.62,1223.24 2248.97,1223.28 \n",
       "  2249.31,1223.33 2249.65,1223.38 2250,1223.42 2250.34,1223.47 2250.68,1223.52 2251.02,1223.56 2251.37,1223.61 2251.71,1223.65 2252.05,1223.7 2252.39,1223.75 \n",
       "  2252.73,1223.79 2253.07,1223.84 2253.41,1223.89 2253.75,1223.93 2254.09,1223.98 2254.42,1224.03 2254.76,1224.07 2255.1,1224.12 2255.44,1224.16 2255.77,1224.21 \n",
       "  2256.11,1224.26 2256.45,1224.3 2256.78,1224.35 2257.12,1224.39 2257.45,1224.44 2257.79,1224.49 2258.12,1224.53 2258.45,1224.58 2258.79,1224.62 2259.12,1224.67 \n",
       "  2259.45,1224.71 2259.79,1224.76 2260.12,1224.81 2260.45,1224.85 2260.78,1224.9 2261.11,1224.94 2261.44,1224.99 2261.77,1225.03 2262.1,1225.08 2262.43,1225.12 \n",
       "  2262.76,1225.17 2263.09,1225.21 2263.42,1225.26 2263.74,1225.3 2264.07,1225.35 2264.4,1225.39 2264.73,1225.44 2265.05,1225.48 2265.38,1225.53 2265.7,1225.57 \n",
       "  2266.03,1225.62 2266.35,1225.66 2266.68,1225.71 2267,1225.75 2267.33,1225.79 2267.65,1225.84 2267.97,1225.88 2268.3,1225.92 2268.62,1225.97 2268.94,1226.01 \n",
       "  2269.26,1226.05 2269.59,1226.1 2269.91,1226.14 2270.23,1226.18 2270.55,1226.23 2270.87,1226.27 2271.19,1226.31 2271.51,1226.35 2271.83,1226.39 2272.15,1226.43 \n",
       "  2272.46,1226.47 2272.78,1226.51 2273.1,1226.55 2273.42,1226.59 2273.74,1226.63 2274.05,1226.66 2274.37,1226.69 2274.68,1226.72 2275,1226.74 2275.32,1226.75 \n",
       "  2275.63,1226.76 2275.95,1226.78 2276.26,1226.8 2276.57,1226.84 2276.89,1226.87 2277.2,1226.91 2277.51,1226.95 2277.83,1226.99 2278.14,1227.03 2278.45,1227.07 \n",
       "  2278.76,1227.11 2279.08,1227.16 2279.39,1227.2 2279.7,1227.24 2280.01,1227.29 2280.32,1227.33 2280.63,1227.37 2280.94,1227.42 2281.25,1227.46 2281.56,1227.5 \n",
       "  2281.87,1227.55 2282.17,1227.59 2282.48,1227.64 2282.79,1227.68 2283.1,1227.73 2283.4,1227.77 2283.71,1227.81 2284.02,1227.86 2284.32,1227.9 2284.63,1227.95 \n",
       "  2284.93,1227.99 2285.24,1228.04 2285.54,1228.08 2285.85,1228.13 2286.15,1228.17 2286.46,1228.22 2286.76,1228.26 2287.06,1228.31 2287.37,1228.35 2287.67,1228.4 \n",
       "  2287.97,1228.44 2288.27,1228.49 2288.58,1228.53 2288.88,1228.58 2289.18,1228.62 2289.48,1228.67 2289.78,1228.71 2290.08,1228.76 2290.38,1228.81 2290.68,1228.85 \n",
       "  \n",
       "  \"/>\n",
       "<polyline clip-path=\"url(#clip402)\" style=\"stroke:#e26f46; stroke-linecap:round; stroke-linejoin:round; stroke-width:4; stroke-opacity:1; fill:none\" points=\"\n",
       "  221.498,87.6286 429.126,135.184 550.581,184.405 636.755,235.535 703.597,300.693 758.21,374.409 804.385,457.869 844.384,565.574 879.665,699.258 911.225,858.971 \n",
       "  939.775,1026.94 965.839,1132.22 989.815,1154.37 1012.01,1154.96 1032.68,1155.29 1052.01,1156.28 1070.17,1158.46 1087.29,1160.72 1103.49,1162.06 1118.85,1163.46 \n",
       "  1133.47,1164.48 1147.4,1165.31 1160.72,1166.09 1173.47,1166.95 1185.7,1167.79 1197.44,1168.5 1208.75,1169.13 1219.64,1169.69 1230.15,1170.19 1240.31,1170.66 \n",
       "  1250.13,1171.11 1259.64,1171.56 1268.86,1171.91 1277.8,1172.26 1286.48,1172.59 1294.92,1172.9 1303.13,1173.23 1311.12,1173.54 1318.9,1173.86 1326.48,1174.18 \n",
       "  1333.88,1174.51 1341.1,1174.83 1348.15,1175.15 1355.03,1175.46 1361.76,1175.78 1368.35,1176.09 1374.79,1176.43 1381.1,1176.76 1387.27,1177.11 1393.32,1177.48 \n",
       "  1399.26,1177.91 1405.07,1178.42 1410.78,1179.07 1416.38,1179.88 1421.87,1180.51 1427.27,1180.93 1432.57,1181.25 1437.78,1181.53 1442.9,1181.81 1447.94,1182.09 \n",
       "  1452.89,1182.35 1457.76,1182.59 1462.55,1182.83 1467.27,1183.06 1471.91,1183.3 1476.49,1183.54 1480.99,1183.85 1485.43,1184.2 1489.8,1184.65 1494.11,1185.26 \n",
       "  1498.36,1185.77 1502.55,1186.2 1506.68,1186.55 1510.76,1186.85 1514.78,1187.11 1518.75,1187.33 1522.66,1187.59 1526.53,1187.83 1530.34,1188.05 1534.11,1188.27 \n",
       "  1537.83,1188.5 1541.51,1188.72 1545.14,1188.94 1548.73,1189.18 1552.27,1189.43 1555.77,1189.84 1559.24,1190.22 1562.66,1190.54 1566.05,1190.84 1569.39,1191.13 \n",
       "  1572.7,1191.44 1575.98,1191.72 1579.21,1192 1582.42,1192.29 1585.59,1192.59 1588.72,1192.89 1591.83,1193.2 1594.9,1193.49 1597.94,1193.78 1600.95,1194.06 \n",
       "  1603.93,1194.34 1606.88,1194.61 1609.81,1194.89 1612.7,1195.17 1615.57,1195.44 1618.41,1195.78 1621.22,1196.14 1624.01,1196.49 1626.77,1196.84 1629.5,1197.2 \n",
       "  1632.21,1197.55 1634.9,1197.9 1637.56,1198.26 1640.2,1198.61 1642.82,1198.96 1645.41,1199.32 1647.98,1199.69 1650.53,1200.07 1653.06,1200.44 1655.57,1200.82 \n",
       "  1658.05,1201.19 1660.52,1201.55 1662.96,1201.92 1665.39,1202.29 1667.79,1202.66 1670.18,1203.03 1672.55,1203.4 1674.9,1203.77 1677.23,1204.14 1679.54,1204.51 \n",
       "  1681.84,1204.81 1684.12,1205.11 1686.38,1205.42 1688.62,1205.73 1690.85,1206.05 1693.06,1206.44 1695.25,1206.8 1697.43,1207.23 1699.59,1207.67 1701.74,1208.1 \n",
       "  1703.87,1208.53 1705.99,1208.96 1708.09,1209.39 1710.18,1209.82 1712.25,1210.25 1714.31,1210.69 1716.36,1211.12 1718.39,1211.54 1720.4,1211.98 1722.41,1212.4 \n",
       "  1724.4,1212.82 1726.38,1213.23 1728.34,1213.64 1730.29,1214.05 1732.23,1214.47 1734.16,1214.89 1736.07,1215.32 1737.97,1215.74 1739.86,1216.17 1741.74,1216.59 \n",
       "  1743.61,1217.02 1745.46,1217.45 1747.3,1217.88 1749.14,1218.31 1750.96,1218.73 1752.77,1219.15 1754.57,1219.59 1756.35,1220.03 1758.13,1220.48 1759.9,1220.93 \n",
       "  1761.66,1221.38 1763.4,1221.83 1765.14,1222.28 1766.87,1222.73 1768.58,1223.19 1770.29,1223.59 1771.99,1224.04 1773.67,1224.5 1775.35,1224.96 1777.02,1225.36 \n",
       "  1778.68,1225.82 1780.33,1226.27 1781.97,1226.73 1783.61,1227.19 1785.23,1227.58 1786.84,1228.04 1788.45,1228.5 1790.05,1228.9 1791.64,1229.36 1793.22,1229.82 \n",
       "  1794.79,1230.28 1796.35,1230.68 1797.91,1231.15 1799.46,1231.55 1801,1232.02 1802.53,1232.48 1804.05,1232.88 1805.57,1233.34 1807.08,1233.74 1808.58,1234.2 \n",
       "  1810.08,1234.65 1811.56,1235.05 1813.04,1235.51 1814.51,1235.93 1815.98,1236.44 1817.44,1236.94 1818.89,1237.42 1820.33,1237.9 1821.77,1238.45 1823.2,1239.05 \n",
       "  1824.62,1239.59 1826.04,1240.13 1827.45,1240.66 1828.85,1241.18 1830.24,1241.69 1831.63,1242.16 1833.02,1242.7 1834.4,1243.24 1835.77,1243.76 1837.13,1244.22 \n",
       "  1838.49,1244.76 1839.84,1245.28 1841.19,1245.74 1842.53,1246.27 1843.86,1246.73 1845.19,1247.28 1846.51,1247.75 1847.83,1248.3 1849.14,1248.77 1850.45,1249.32 \n",
       "  1851.75,1249.79 1853.04,1250.35 1854.33,1250.85 1855.61,1251.41 1856.89,1251.9 1858.16,1252.46 1859.43,1252.96 1860.69,1253.45 1861.94,1254.02 1863.2,1254.51 \n",
       "  1864.44,1255.08 1865.68,1255.57 1866.92,1256.07 1868.15,1256.64 1869.37,1257.14 1870.59,1257.61 1871.81,1258.08 1873.02,1258.62 1874.22,1259.09 1875.42,1259.55 \n",
       "  1876.62,1260.1 1877.81,1260.56 1879,1261.02 1880.18,1261.49 1881.35,1261.96 1882.53,1262.49 1883.7,1262.96 1884.86,1263.45 1886.02,1263.94 1887.17,1264.44 \n",
       "  1888.32,1264.97 1889.47,1265.47 1890.61,1265.97 1891.74,1266.48 1892.88,1266.97 1894.01,1267.48 1895.13,1267.98 1896.25,1268.49 1897.36,1268.99 1898.48,1269.5 \n",
       "  1899.58,1270.01 1900.69,1270.51 1901.79,1271.02 1902.88,1271.53 1903.97,1272.04 1905.06,1272.56 1906.14,1273.07 1907.22,1273.58 1908.3,1274.1 1909.37,1274.61 \n",
       "  1910.44,1275.13 1911.5,1275.63 1912.56,1276.14 1913.62,1276.65 1914.67,1277.17 1915.72,1277.66 1916.77,1278.16 1917.81,1278.66 1918.85,1279.17 1919.88,1279.59 \n",
       "  1920.91,1280.12 1921.94,1280.55 1922.96,1281.07 1923.98,1281.52 1925,1282.05 1926.02,1282.5 1927.03,1282.95 1928.03,1283.48 1929.04,1283.93 1930.04,1284.44 \n",
       "  1931.03,1284.9 1932.03,1285.44 1933.02,1285.9 1934,1286.35 1934.99,1286.82 1935.97,1287.26 1936.95,1287.74 1937.92,1288.17 1938.89,1288.61 1939.86,1289.06 \n",
       "  1940.82,1289.5 1941.78,1289.94 1942.74,1290.39 1943.7,1290.83 1944.65,1291.27 1945.6,1291.72 1946.55,1292.17 1947.49,1292.65 1948.43,1293.09 1949.37,1293.54 \n",
       "  1950.3,1293.99 1951.24,1294.43 1952.16,1294.9 1953.09,1295.36 1954.01,1295.83 1954.93,1296.29 1955.85,1296.75 1956.77,1297.21 1957.68,1297.67 1958.59,1298.14 \n",
       "  1959.49,1298.61 1960.4,1299.05 1961.3,1299.44 1962.2,1299.84 1963.09,1300.24 1963.98,1300.68 1964.87,1301.07 1965.76,1301.47 1966.65,1301.87 1967.53,1302.3 \n",
       "  1968.41,1302.7 1969.29,1303.1 1970.16,1303.49 1971.03,1303.9 1971.9,1304.3 1972.77,1304.67 1973.63,1305.07 1974.5,1305.5 1975.35,1305.93 1976.21,1306.3 \n",
       "  1977.07,1306.67 1977.92,1307.08 1978.77,1307.45 1979.62,1307.84 1980.46,1308.25 1981.3,1308.62 1982.14,1308.99 1982.98,1309.39 1983.82,1309.76 1984.65,1310.13 \n",
       "  1985.48,1310.53 1986.31,1310.93 1987.14,1311.29 1987.96,1311.67 1988.78,1312.04 1989.6,1312.4 1990.42,1312.77 1991.23,1313.17 1992.05,1313.54 1992.86,1313.9 \n",
       "  1993.67,1314.29 1994.47,1314.66 1995.28,1315.03 1996.08,1315.39 1996.88,1315.76 1997.68,1316.12 1998.47,1316.49 1999.26,1316.84 2000.06,1317.21 2000.85,1317.6 \n",
       "  2001.63,1317.97 2002.42,1318.34 2003.2,1318.71 2003.98,1319.07 2004.76,1319.46 2005.54,1319.84 2006.31,1320.2 2007.09,1320.57 2007.86,1320.93 2008.63,1321.3 \n",
       "  2009.39,1321.66 2010.16,1322.06 2010.92,1322.42 2011.68,1322.78 2012.44,1323.15 2013.2,1323.51 2013.96,1323.87 2014.71,1324.26 2015.46,1324.63 2016.21,1324.99 \n",
       "  2016.96,1325.35 2017.7,1325.72 2018.45,1326.07 2019.19,1326.47 2019.93,1326.83 2020.67,1327.19 2021.41,1327.55 2022.14,1327.91 2022.88,1328.27 2023.61,1328.66 \n",
       "  2024.34,1329.02 2025.06,1329.37 2025.79,1329.73 2026.52,1330.09 2027.24,1330.45 2027.96,1330.82 2028.68,1331.16 2029.4,1331.51 2030.11,1331.85 2030.83,1332.19 \n",
       "  2031.54,1332.52 2032.25,1332.87 2032.96,1333.25 2033.66,1333.6 2034.37,1333.95 2035.07,1334.31 2035.78,1334.65 2036.48,1335 2037.18,1335.37 2037.87,1335.71 \n",
       "  2038.57,1336.05 2039.26,1336.39 2039.96,1336.74 2040.65,1337.07 2041.34,1337.44 2042.02,1337.78 2042.71,1338.12 2043.4,1338.45 2044.08,1338.79 2044.76,1339.13 \n",
       "  2045.44,1339.5 2046.12,1339.84 2046.8,1340.17 2047.47,1340.51 2048.14,1340.84 2048.82,1341.19 2049.49,1341.55 2050.16,1341.88 2050.83,1342.22 2051.49,1342.55 \n",
       "  2052.16,1342.89 2052.82,1343.21 2053.48,1343.58 2054.14,1343.9 2054.8,1344.24 2055.46,1344.56 2056.12,1344.89 2056.77,1345.22 2057.42,1345.57 2058.08,1345.9 \n",
       "  2058.73,1346.22 2059.37,1346.61 2060.02,1346.94 2060.67,1347.26 2061.31,1347.61 2061.96,1347.93 2062.6,1348.26 2063.24,1348.56 2063.88,1348.89 2064.52,1349.2 \n",
       "  2065.15,1349.56 2065.79,1349.87 2066.42,1350.19 2067.06,1350.5 2067.69,1350.81 2068.32,1351.15 2068.95,1351.46 2069.57,1351.8 2070.2,1352.1 2070.82,1352.4 \n",
       "  2071.45,1352.7 2072.07,1353.01 2072.69,1353.3 2073.31,1353.63 2073.93,1353.93 2074.54,1354.26 2075.16,1354.53 2075.77,1354.82 2076.39,1355.15 2077,1355.44 \n",
       "  2077.61,1355.73 2078.22,1356.02 2078.83,1356.28 2079.44,1356.57 2080.04,1356.88 2080.65,1357.17 2081.25,1357.42 2081.85,1357.73 2082.45,1358 2083.05,1358.29 \n",
       "  2083.65,1358.56 2084.25,1358.83 2084.84,1359.11 2085.44,1359.38 2086.03,1359.7 2086.62,1360.01 2087.22,1360.28 2087.81,1360.58 2088.4,1360.86 2088.98,1361.1 \n",
       "  2089.57,1361.4 2090.16,1361.67 2090.74,1361.94 2091.32,1362.21 2091.91,1362.48 2092.49,1362.73 2093.07,1363.03 2093.65,1363.26 2094.22,1363.53 2094.8,1363.82 \n",
       "  2095.38,1364.09 2095.95,1364.32 2096.52,1364.61 2097.1,1364.87 2097.67,1365.14 2098.24,1365.4 2098.81,1365.65 2099.37,1365.91 2099.94,1366.17 2100.51,1366.42 \n",
       "  2101.07,1366.69 2101.63,1366.97 2102.2,1367.19 2102.76,1367.45 2103.32,1367.73 2103.88,1368 2104.44,1368.24 2104.99,1368.48 2105.55,1368.74 2106.11,1368.98 \n",
       "  2106.66,1369.22 2107.21,1369.47 2107.76,1369.68 2108.32,1369.95 2108.87,1370.19 2109.41,1370.44 2109.96,1370.67 2110.51,1370.92 2111.06,1371.16 2111.6,1371.39 \n",
       "  2112.15,1371.63 2112.69,1371.86 2113.23,1372.07 2113.77,1372.34 2114.31,1372.57 2114.85,1372.84 2115.39,1373.1 2115.93,1373.34 2116.46,1373.56 2117,1373.79 \n",
       "  2117.53,1374.03 2118.07,1374.26 2118.6,1374.48 2119.13,1374.71 2119.66,1374.94 2120.19,1375.16 2120.72,1375.39 2121.25,1375.62 2121.77,1375.81 2122.3,1376.06 \n",
       "  2122.83,1376.29 2123.35,1376.47 2123.87,1376.73 2124.4,1376.95 2124.92,1377.13 2125.44,1377.39 2125.96,1377.6 2126.48,1377.79 2126.99,1378.04 2127.51,1378.24 \n",
       "  2128.03,1378.44 2128.54,1378.71 2129.06,1379.02 2129.57,1379.39 2130.08,1380.2 2130.59,1381.1 2131.1,1381.81 2131.61,1382.47 2132.12,1382.95 2132.63,1383.35 \n",
       "  2133.14,1383.72 2133.64,1384.01 2134.15,1384.29 2134.65,1384.58 2135.16,1384.85 2135.66,1385.11 2136.16,1385.34 2136.67,1385.61 2137.17,1385.87 2137.67,1386.09 \n",
       "  2138.16,1386.34 2138.66,1386.58 2139.16,1386.8 2139.66,1387.05 2140.15,1387.28 2140.65,1387.49 2141.14,1387.73 2141.63,1387.95 2142.13,1388.18 2142.62,1388.38 \n",
       "  2143.11,1388.6 2143.6,1388.83 2144.09,1389.01 2144.57,1389.24 2145.06,1389.42 2145.55,1389.65 2146.03,1389.87 2146.52,1390.05 2147,1390.27 2147.49,1390.52 \n",
       "  2147.97,1390.75 2148.45,1390.97 2148.93,1391.15 2149.41,1391.36 2149.89,1391.57 2150.37,1391.75 2150.85,1391.97 2151.33,1392.17 2151.8,1392.34 2152.28,1392.55 \n",
       "  2152.76,1392.71 2153.23,1392.92 2153.7,1393.12 2154.18,1393.28 2154.65,1393.48 2155.12,1393.64 2155.59,1393.83 2156.06,1394.01 2156.53,1394.2 2157,1394.32 \n",
       "  2157.47,1394.53 2157.93,1394.73 2158.4,1394.97 2158.86,1395.2 2159.33,1395.54 2159.79,1395.95 2160.26,1396.32 2160.72,1396.6 2161.18,1396.9 2161.64,1397.22 \n",
       "  2162.1,1397.5 2162.56,1397.82 2163.02,1398.06 2163.48,1398.32 2163.94,1398.6 2164.39,1398.87 2164.85,1399.14 2165.31,1399.44 2165.76,1399.7 2166.21,1399.93 \n",
       "  2166.67,1400.15 2167.12,1400.37 2167.57,1400.6 2168.02,1400.82 2168.48,1401.04 2168.93,1401.26 2169.38,1401.48 2169.82,1401.71 2170.27,1401.92 2170.72,1402.14 \n",
       "  2171.17,1402.33 2171.61,1402.54 2172.06,1402.74 2172.5,1402.95 2172.95,1403.13 2173.39,1403.32 2173.83,1403.5 2174.27,1403.65 2174.72,1403.82 2175.16,1403.99 \n",
       "  2175.6,1404.17 2176.04,1404.34 2176.48,1404.51 2176.91,1404.68 2177.35,1404.83 2177.79,1404.99 2178.22,1405.16 2178.66,1405.32 2179.1,1405.47 2179.53,1405.63 \n",
       "  2179.96,1405.79 2180.4,1405.96 2180.83,1406.13 2181.26,1406.3 2181.69,1406.47 2182.12,1406.63 2182.55,1406.76 2182.98,1406.93 2183.41,1407.08 2183.84,1407.24 \n",
       "  2184.27,1407.39 2184.69,1407.54 2185.12,1407.69 2185.55,1407.85 2185.97,1408.01 2186.4,1408.14 2186.82,1408.31 2187.24,1408.47 2187.67,1408.63 2188.09,1408.76 \n",
       "  2188.51,1408.92 2188.93,1409.09 2189.35,1409.22 2189.77,1409.39 2190.19,1409.55 2190.61,1409.67 2191.03,1409.83 2191.45,1410 2191.86,1410.17 2192.28,1410.3 \n",
       "  2192.69,1410.46 2193.11,1410.62 2193.52,1410.74 2193.94,1410.9 2194.35,1411.06 2194.76,1411.18 2195.18,1411.33 2195.59,1411.48 2196,1411.65 2196.41,1411.76 \n",
       "  2196.82,1411.91 2197.23,1412.07 2197.64,1412.18 2198.05,1412.34 2198.46,1412.48 2198.86,1412.6 2199.27,1412.74 2199.68,1412.89 2200.08,1413 2200.49,1413.15 \n",
       "  2200.89,1413.3 2201.29,1413.4 2201.7,1413.54 2202.1,1413.69 2202.5,1413.8 2202.9,1413.94 2203.31,1414.08 2203.71,1414.18 2204.11,1414.32 2204.51,1414.46 \n",
       "  2204.91,1414.61 2205.3,1414.71 2205.7,1414.85 2206.1,1414.98 2206.5,1415.07 2206.89,1415.2 2207.29,1415.34 2207.68,1415.47 2208.08,1415.57 2208.47,1415.71 \n",
       "  2208.87,1415.84 2209.26,1415.93 2209.65,1416.06 2210.05,1416.19 2210.44,1416.29 2210.83,1416.41 2211.22,1416.53 2211.61,1416.64 2212,1416.77 2212.39,1416.9 \n",
       "  2212.78,1417.02 2213.17,1417.15 2213.55,1417.28 2213.94,1417.4 2214.33,1417.53 2214.72,1417.66 2215.1,1417.78 2215.49,1417.91 2215.87,1418.03 2216.26,1418.15 \n",
       "  2216.64,1418.28 2217.02,1418.4 2217.4,1418.51 2217.79,1418.63 2218.17,1418.75 2218.55,1418.87 2218.93,1418.98 2219.31,1419.1 2219.69,1419.22 2220.07,1419.33 \n",
       "  2220.45,1419.45 2220.83,1419.56 2221.21,1419.67 2221.58,1419.79 2221.96,1419.9 2222.34,1420.01 2222.71,1420.13 2223.09,1420.24 2223.46,1420.35 2223.84,1420.46 \n",
       "  2224.21,1420.58 2224.59,1420.68 2224.96,1420.8 2225.33,1420.91 2225.71,1421.01 2226.08,1421.12 2226.45,1421.23 2226.82,1421.34 2227.19,1421.45 2227.56,1421.56 \n",
       "  2227.93,1421.65 2228.3,1421.75 2228.67,1421.86 2229.04,1421.97 2229.4,1422.07 2229.77,1422.18 2230.14,1422.28 2230.5,1422.39 2230.87,1422.49 2231.24,1422.59 \n",
       "  2231.6,1422.7 2231.97,1422.81 2232.33,1422.92 2232.69,1423.03 2233.06,1423.08 2233.42,1423.11 2233.78,1423.15 2234.14,1423.18 2234.51,1423.21 2234.87,1423.25 \n",
       "  2235.23,1423.3 2235.59,1423.36 2235.95,1423.41 2236.31,1423.54 2236.67,1423.91 2237.02,1424.54 2237.38,1425.06 2237.74,1425.31 2238.1,1425.47 2238.45,1425.58 \n",
       "  2238.81,1425.68 2239.17,1425.76 2239.52,1425.85 2239.88,1425.93 2240.23,1426.01 2240.59,1426.09 2240.94,1426.17 2241.29,1426.25 2241.65,1426.31 2242,1426.39 \n",
       "  2242.35,1426.48 2242.7,1426.56 2243.05,1426.64 2243.41,1426.71 2243.76,1426.79 2244.11,1426.87 2244.46,1426.95 2244.8,1427.02 2245.15,1427.1 2245.5,1427.17 \n",
       "  2245.85,1427.24 2246.2,1427.32 2246.55,1427.39 2246.89,1427.47 2247.24,1427.54 2247.58,1427.61 2247.93,1427.68 2248.28,1427.75 2248.62,1427.82 2248.97,1427.89 \n",
       "  2249.31,1427.96 2249.65,1428.02 2250,1428.09 2250.34,1428.16 2250.68,1428.23 2251.02,1428.31 2251.37,1428.37 2251.71,1428.45 2252.05,1428.52 2252.39,1428.58 \n",
       "  2252.73,1428.65 2253.07,1428.72 2253.41,1428.79 2253.75,1428.86 2254.09,1428.93 2254.42,1428.99 2254.76,1429.06 2255.1,1429.13 2255.44,1429.2 2255.77,1429.26 \n",
       "  2256.11,1429.32 2256.45,1429.39 2256.78,1429.46 2257.12,1429.52 2257.45,1429.59 2257.79,1429.63 2258.12,1429.67 2258.45,1429.71 2258.79,1429.75 2259.12,1429.79 \n",
       "  2259.45,1429.83 2259.79,1429.86 2260.12,1429.91 2260.45,1429.95 2260.78,1429.99 2261.11,1430.02 2261.44,1430.06 2261.77,1430.1 2262.1,1430.14 2262.43,1430.17 \n",
       "  2262.76,1430.17 2263.09,1430.17 2263.42,1430.18 2263.74,1430.2 2264.07,1430.21 2264.4,1430.22 2264.73,1430.23 2265.05,1430.24 2265.38,1430.28 2265.7,1430.26 \n",
       "  2266.03,1430.28 2266.35,1430.24 2266.68,1430.23 2267,1430.22 2267.33,1430.2 2267.65,1430.19 2267.97,1430.17 2268.3,1430.15 2268.62,1430.14 2268.94,1430.11 \n",
       "  2269.26,1430.09 2269.59,1430.08 2269.91,1430.06 2270.23,1430.04 2270.55,1430.03 2270.87,1430.01 2271.19,1430 2271.51,1429.98 2271.83,1429.96 2272.15,1429.95 \n",
       "  2272.46,1429.93 2272.78,1429.91 2273.1,1429.89 2273.42,1429.87 2273.74,1429.86 2274.05,1429.84 2274.37,1429.9 2274.68,1430.03 2275,1430.09 2275.32,1430.22 \n",
       "  2275.63,1430.27 2275.95,1430.34 2276.26,1430.43 2276.57,1430.48 2276.89,1430.6 2277.2,1430.66 2277.51,1430.7 2277.83,1430.82 2278.14,1430.87 2278.45,1430.99 \n",
       "  2278.76,1431.05 2279.08,1431.16 2279.39,1431.21 2279.7,1431.25 2280.01,1431.34 2280.32,1431.39 2280.63,1431.49 2280.94,1431.54 2281.25,1431.65 2281.56,1431.7 \n",
       "  2281.87,1431.74 2282.17,1431.84 2282.48,1431.89 2282.79,1432 2283.1,1432.05 2283.4,1432.08 2283.71,1432.19 2284.02,1432.24 2284.32,1432.34 2284.63,1432.39 \n",
       "  2284.93,1432.42 2285.24,1432.53 2285.54,1432.57 2285.85,1432.68 2286.15,1432.73 2286.46,1432.76 2286.76,1432.86 2287.06,1432.91 2287.37,1432.94 2287.67,1433.09 \n",
       "  2287.97,1433.12 2288.27,1433.25 2288.58,1433.29 2288.88,1433.35 2289.18,1433.44 2289.48,1433.5 2289.78,1433.52 2290.08,1433.64 2290.38,1433.65 2290.68,1433.78 \n",
       "  \n",
       "  \"/>\n",
       "<path clip-path=\"url(#clip400)\" d=\"\n",
       "M1580.67 250.328 L2279.64 250.328 L2279.64 94.8081 L1580.67 94.8081  Z\n",
       "  \" fill=\"#ffffff\" fill-rule=\"evenodd\" fill-opacity=\"1\"/>\n",
       "<polyline clip-path=\"url(#clip400)\" style=\"stroke:#000000; stroke-linecap:round; stroke-linejoin:round; stroke-width:4; stroke-opacity:1; fill:none\" points=\"\n",
       "  1580.67,250.328 2279.64,250.328 2279.64,94.8081 1580.67,94.8081 1580.67,250.328 \n",
       "  \"/>\n",
       "<polyline clip-path=\"url(#clip400)\" style=\"stroke:#009af9; stroke-linecap:round; stroke-linejoin:round; stroke-width:4; stroke-opacity:1; fill:none\" points=\"\n",
       "  1605.04,146.648 1751.26,146.648 \n",
       "  \"/>\n",
       "<path clip-path=\"url(#clip400)\" d=\"M1775.63 129.368 L1780.3 129.368 L1780.3 159.993 L1797.13 159.993 L1797.13 163.928 L1775.63 163.928 L1775.63 129.368 Z\" fill=\"#000000\" fill-rule=\"evenodd\" fill-opacity=\"1\" /><path clip-path=\"url(#clip400)\" d=\"M1811.07 140.988 Q1807.64 140.988 1805.65 143.674 Q1803.66 146.336 1803.66 150.988 Q1803.66 155.641 1805.63 158.326 Q1807.62 160.988 1811.07 160.988 Q1814.47 160.988 1816.46 158.303 Q1818.45 155.618 1818.45 150.988 Q1818.45 146.382 1816.46 143.697 Q1814.47 140.988 1811.07 140.988 M1811.07 137.377 Q1816.62 137.377 1819.8 140.988 Q1822.97 144.6 1822.97 150.988 Q1822.97 157.354 1819.8 160.988 Q1816.62 164.599 1811.07 164.599 Q1805.49 164.599 1802.32 160.988 Q1799.17 157.354 1799.17 150.988 Q1799.17 144.6 1802.32 140.988 Q1805.49 137.377 1811.07 137.377 Z\" fill=\"#000000\" fill-rule=\"evenodd\" fill-opacity=\"1\" /><path clip-path=\"url(#clip400)\" d=\"M1846.55 138.766 L1846.55 142.794 Q1844.75 141.868 1842.8 141.405 Q1840.86 140.942 1838.78 140.942 Q1835.61 140.942 1834.01 141.914 Q1832.43 142.887 1832.43 144.831 Q1832.43 146.312 1833.57 147.169 Q1834.7 148.002 1838.13 148.766 L1839.59 149.09 Q1844.12 150.062 1846.02 151.845 Q1847.94 153.604 1847.94 156.775 Q1847.94 160.386 1845.07 162.493 Q1842.23 164.599 1837.23 164.599 Q1835.14 164.599 1832.87 164.183 Q1830.63 163.789 1828.13 162.979 L1828.13 158.581 Q1830.49 159.808 1832.78 160.433 Q1835.07 161.035 1837.32 161.035 Q1840.33 161.035 1841.95 160.016 Q1843.57 158.974 1843.57 157.099 Q1843.57 155.363 1842.39 154.437 Q1841.23 153.512 1837.27 152.655 L1835.79 152.308 Q1831.83 151.474 1830.07 149.762 Q1828.31 148.025 1828.31 145.016 Q1828.31 141.359 1830.91 139.368 Q1833.5 137.377 1838.27 137.377 Q1840.63 137.377 1842.71 137.725 Q1844.79 138.072 1846.55 138.766 Z\" fill=\"#000000\" fill-rule=\"evenodd\" fill-opacity=\"1\" /><path clip-path=\"url(#clip400)\" d=\"M1871.25 138.766 L1871.25 142.794 Q1869.45 141.868 1867.5 141.405 Q1865.56 140.942 1863.48 140.942 Q1860.3 140.942 1858.71 141.914 Q1857.13 142.887 1857.13 144.831 Q1857.13 146.312 1858.27 147.169 Q1859.4 148.002 1862.83 148.766 L1864.29 149.09 Q1868.82 150.062 1870.72 151.845 Q1872.64 153.604 1872.64 156.775 Q1872.64 160.386 1869.77 162.493 Q1866.92 164.599 1861.92 164.599 Q1859.84 164.599 1857.57 164.183 Q1855.33 163.789 1852.83 162.979 L1852.83 158.581 Q1855.19 159.808 1857.48 160.433 Q1859.77 161.035 1862.02 161.035 Q1865.03 161.035 1866.65 160.016 Q1868.27 158.974 1868.27 157.099 Q1868.27 155.363 1867.09 154.437 Q1865.93 153.512 1861.97 152.655 L1860.49 152.308 Q1856.53 151.474 1854.77 149.762 Q1853.01 148.025 1853.01 145.016 Q1853.01 141.359 1855.61 139.368 Q1858.2 137.377 1862.97 137.377 Q1865.33 137.377 1867.41 137.725 Q1869.49 138.072 1871.25 138.766 Z\" fill=\"#000000\" fill-rule=\"evenodd\" fill-opacity=\"1\" /><path clip-path=\"url(#clip400)\" d=\"M1915.4 130.502 L1915.4 135.063 Q1912.73 133.789 1910.37 133.164 Q1908.01 132.539 1905.81 132.539 Q1901.99 132.539 1899.91 134.021 Q1897.85 135.502 1897.85 138.234 Q1897.85 140.525 1899.22 141.706 Q1900.6 142.863 1904.45 143.581 L1907.27 144.16 Q1912.5 145.155 1914.98 147.678 Q1917.48 150.178 1917.48 154.391 Q1917.48 159.414 1914.1 162.007 Q1910.74 164.599 1904.24 164.599 Q1901.79 164.599 1899.01 164.044 Q1896.25 163.488 1893.29 162.4 L1893.29 157.586 Q1896.14 159.183 1898.87 159.993 Q1901.6 160.803 1904.24 160.803 Q1908.24 160.803 1910.42 159.229 Q1912.6 157.655 1912.6 154.738 Q1912.6 152.192 1911.02 150.757 Q1909.47 149.322 1905.91 148.604 L1903.06 148.049 Q1897.83 147.007 1895.49 144.785 Q1893.15 142.562 1893.15 138.604 Q1893.15 134.021 1896.37 131.382 Q1899.61 128.743 1905.28 128.743 Q1907.71 128.743 1910.23 129.183 Q1912.76 129.623 1915.4 130.502 Z\" fill=\"#000000\" fill-rule=\"evenodd\" fill-opacity=\"1\" /><path clip-path=\"url(#clip400)\" d=\"M1924.59 138.002 L1928.85 138.002 L1928.85 163.928 L1924.59 163.928 L1924.59 138.002 M1924.59 127.91 L1928.85 127.91 L1928.85 133.303 L1924.59 133.303 L1924.59 127.91 Z\" fill=\"#000000\" fill-rule=\"evenodd\" fill-opacity=\"1\" /><path clip-path=\"url(#clip400)\" d=\"M1959.31 148.28 L1959.31 163.928 L1955.05 163.928 L1955.05 148.419 Q1955.05 144.738 1953.61 142.91 Q1952.18 141.081 1949.31 141.081 Q1945.86 141.081 1943.87 143.28 Q1941.88 145.479 1941.88 149.275 L1941.88 163.928 L1937.6 163.928 L1937.6 138.002 L1941.88 138.002 L1941.88 142.03 Q1943.41 139.692 1945.47 138.535 Q1947.55 137.377 1950.26 137.377 Q1954.72 137.377 1957.02 140.155 Q1959.31 142.91 1959.31 148.28 Z\" fill=\"#000000\" fill-rule=\"evenodd\" fill-opacity=\"1\" /><path clip-path=\"url(#clip400)\" d=\"M1984.86 150.664 Q1984.86 146.035 1982.94 143.488 Q1981.04 140.942 1977.6 140.942 Q1974.17 140.942 1972.25 143.488 Q1970.35 146.035 1970.35 150.664 Q1970.35 155.271 1972.25 157.817 Q1974.17 160.363 1977.6 160.363 Q1981.04 160.363 1982.94 157.817 Q1984.86 155.271 1984.86 150.664 M1989.12 160.711 Q1989.12 167.331 1986.18 170.548 Q1983.24 173.789 1977.18 173.789 Q1974.93 173.789 1972.94 173.442 Q1970.95 173.118 1969.08 172.423 L1969.08 168.28 Q1970.95 169.298 1972.78 169.785 Q1974.61 170.271 1976.51 170.271 Q1980.7 170.271 1982.78 168.072 Q1984.86 165.896 1984.86 161.474 L1984.86 159.368 Q1983.54 161.66 1981.48 162.794 Q1979.42 163.928 1976.55 163.928 Q1971.79 163.928 1968.87 160.294 Q1965.95 156.66 1965.95 150.664 Q1965.95 144.646 1968.87 141.012 Q1971.79 137.377 1976.55 137.377 Q1979.42 137.377 1981.48 138.512 Q1983.54 139.646 1984.86 141.937 L1984.86 138.002 L1989.12 138.002 L1989.12 160.711 Z\" fill=\"#000000\" fill-rule=\"evenodd\" fill-opacity=\"1\" /><path clip-path=\"url(#clip400)\" d=\"M1997.9 127.91 L2002.16 127.91 L2002.16 163.928 L1997.9 163.928 L1997.9 127.91 Z\" fill=\"#000000\" fill-rule=\"evenodd\" fill-opacity=\"1\" /><path clip-path=\"url(#clip400)\" d=\"M2033.24 149.9 L2033.24 151.984 L2013.66 151.984 Q2013.94 156.382 2016.3 158.697 Q2018.68 160.988 2022.92 160.988 Q2025.37 160.988 2027.66 160.386 Q2029.98 159.785 2032.25 158.581 L2032.25 162.609 Q2029.96 163.581 2027.55 164.09 Q2025.14 164.599 2022.66 164.599 Q2016.46 164.599 2012.83 160.988 Q2009.22 157.377 2009.22 151.22 Q2009.22 144.854 2012.64 141.127 Q2016.09 137.377 2021.92 137.377 Q2027.16 137.377 2030.19 140.757 Q2033.24 144.113 2033.24 149.9 M2028.98 148.65 Q2028.94 145.155 2027.02 143.072 Q2025.12 140.988 2021.97 140.988 Q2018.41 140.988 2016.25 143.002 Q2014.12 145.016 2013.8 148.674 L2028.98 148.65 Z\" fill=\"#000000\" fill-rule=\"evenodd\" fill-opacity=\"1\" /><polyline clip-path=\"url(#clip400)\" style=\"stroke:#e26f46; stroke-linecap:round; stroke-linejoin:round; stroke-width:4; stroke-opacity:1; fill:none\" points=\"\n",
       "  1605.04,198.488 1751.26,198.488 \n",
       "  \"/>\n",
       "<path clip-path=\"url(#clip400)\" d=\"M1775.63 181.208 L1780.3 181.208 L1780.3 211.833 L1797.13 211.833 L1797.13 215.768 L1775.63 215.768 L1775.63 181.208 Z\" fill=\"#000000\" fill-rule=\"evenodd\" fill-opacity=\"1\" /><path clip-path=\"url(#clip400)\" d=\"M1811.07 192.828 Q1807.64 192.828 1805.65 195.514 Q1803.66 198.176 1803.66 202.828 Q1803.66 207.481 1805.63 210.166 Q1807.62 212.828 1811.07 212.828 Q1814.47 212.828 1816.46 210.143 Q1818.45 207.458 1818.45 202.828 Q1818.45 198.222 1816.46 195.537 Q1814.47 192.828 1811.07 192.828 M1811.07 189.217 Q1816.62 189.217 1819.8 192.828 Q1822.97 196.44 1822.97 202.828 Q1822.97 209.194 1819.8 212.828 Q1816.62 216.439 1811.07 216.439 Q1805.49 216.439 1802.32 212.828 Q1799.17 209.194 1799.17 202.828 Q1799.17 196.44 1802.32 192.828 Q1805.49 189.217 1811.07 189.217 Z\" fill=\"#000000\" fill-rule=\"evenodd\" fill-opacity=\"1\" /><path clip-path=\"url(#clip400)\" d=\"M1846.55 190.606 L1846.55 194.634 Q1844.75 193.708 1842.8 193.245 Q1840.86 192.782 1838.78 192.782 Q1835.61 192.782 1834.01 193.754 Q1832.43 194.727 1832.43 196.671 Q1832.43 198.152 1833.57 199.009 Q1834.7 199.842 1838.13 200.606 L1839.59 200.93 Q1844.12 201.902 1846.02 203.685 Q1847.94 205.444 1847.94 208.615 Q1847.94 212.226 1845.07 214.333 Q1842.23 216.439 1837.23 216.439 Q1835.14 216.439 1832.87 216.023 Q1830.63 215.629 1828.13 214.819 L1828.13 210.421 Q1830.49 211.648 1832.78 212.273 Q1835.07 212.875 1837.32 212.875 Q1840.33 212.875 1841.95 211.856 Q1843.57 210.814 1843.57 208.939 Q1843.57 207.203 1842.39 206.277 Q1841.23 205.352 1837.27 204.495 L1835.79 204.148 Q1831.83 203.314 1830.07 201.602 Q1828.31 199.865 1828.31 196.856 Q1828.31 193.199 1830.91 191.208 Q1833.5 189.217 1838.27 189.217 Q1840.63 189.217 1842.71 189.565 Q1844.79 189.912 1846.55 190.606 Z\" fill=\"#000000\" fill-rule=\"evenodd\" fill-opacity=\"1\" /><path clip-path=\"url(#clip400)\" d=\"M1871.25 190.606 L1871.25 194.634 Q1869.45 193.708 1867.5 193.245 Q1865.56 192.782 1863.48 192.782 Q1860.3 192.782 1858.71 193.754 Q1857.13 194.727 1857.13 196.671 Q1857.13 198.152 1858.27 199.009 Q1859.4 199.842 1862.83 200.606 L1864.29 200.93 Q1868.82 201.902 1870.72 203.685 Q1872.64 205.444 1872.64 208.615 Q1872.64 212.226 1869.77 214.333 Q1866.92 216.439 1861.92 216.439 Q1859.84 216.439 1857.57 216.023 Q1855.33 215.629 1852.83 214.819 L1852.83 210.421 Q1855.19 211.648 1857.48 212.273 Q1859.77 212.875 1862.02 212.875 Q1865.03 212.875 1866.65 211.856 Q1868.27 210.814 1868.27 208.939 Q1868.27 207.203 1867.09 206.277 Q1865.93 205.352 1861.97 204.495 L1860.49 204.148 Q1856.53 203.314 1854.77 201.602 Q1853.01 199.865 1853.01 196.856 Q1853.01 193.199 1855.61 191.208 Q1858.2 189.217 1862.97 189.217 Q1865.33 189.217 1867.41 189.565 Q1869.49 189.912 1871.25 190.606 Z\" fill=\"#000000\" fill-rule=\"evenodd\" fill-opacity=\"1\" /><path clip-path=\"url(#clip400)\" d=\"M1895.14 181.208 L1913.5 181.208 L1913.5 185.143 L1899.42 185.143 L1899.42 193.615 Q1900.44 193.268 1901.46 193.106 Q1902.48 192.921 1903.5 192.921 Q1909.29 192.921 1912.67 196.092 Q1916.04 199.264 1916.04 204.68 Q1916.04 210.259 1912.57 213.361 Q1909.1 216.439 1902.78 216.439 Q1900.6 216.439 1898.34 216.069 Q1896.09 215.699 1893.68 214.958 L1893.68 210.259 Q1895.77 211.393 1897.99 211.949 Q1900.21 212.504 1902.69 212.504 Q1906.69 212.504 1909.03 210.398 Q1911.37 208.291 1911.37 204.68 Q1911.37 201.069 1909.03 198.963 Q1906.69 196.856 1902.69 196.856 Q1900.81 196.856 1898.94 197.273 Q1897.09 197.69 1895.14 198.569 L1895.14 181.208 Z\" fill=\"#000000\" fill-rule=\"evenodd\" fill-opacity=\"1\" /><path clip-path=\"url(#clip400)\" d=\"M1922.5 200.884 L1934.98 200.884 L1934.98 204.68 L1922.5 204.68 L1922.5 200.884 Z\" fill=\"#000000\" fill-rule=\"evenodd\" fill-opacity=\"1\" /><path clip-path=\"url(#clip400)\" d=\"M1946.62 185.051 L1946.62 211.926 L1952.27 211.926 Q1959.42 211.926 1962.73 208.685 Q1966.07 205.444 1966.07 198.453 Q1966.07 191.509 1962.73 188.291 Q1959.42 185.051 1952.27 185.051 L1946.62 185.051 M1941.95 181.208 L1951.55 181.208 Q1961.6 181.208 1966.3 185.398 Q1971 189.565 1971 198.453 Q1971 207.389 1966.28 211.578 Q1961.55 215.768 1951.55 215.768 L1941.95 215.768 L1941.95 181.208 Z\" fill=\"#000000\" fill-rule=\"evenodd\" fill-opacity=\"1\" /><path clip-path=\"url(#clip400)\" d=\"M1990.05 202.736 Q1984.89 202.736 1982.9 203.916 Q1980.91 205.097 1980.91 207.944 Q1980.91 210.213 1982.39 211.555 Q1983.89 212.875 1986.46 212.875 Q1990 212.875 1992.13 210.375 Q1994.28 207.851 1994.28 203.685 L1994.28 202.736 L1990.05 202.736 M1998.54 200.977 L1998.54 215.768 L1994.28 215.768 L1994.28 211.833 Q1992.83 214.194 1990.65 215.328 Q1988.47 216.439 1985.33 216.439 Q1981.35 216.439 1978.98 214.217 Q1976.65 211.972 1976.65 208.222 Q1976.65 203.847 1979.56 201.625 Q1982.5 199.402 1988.31 199.402 L1994.28 199.402 L1994.28 198.986 Q1994.28 196.046 1992.34 194.449 Q1990.42 192.828 1986.92 192.828 Q1984.7 192.828 1982.6 193.361 Q1980.49 193.893 1978.54 194.958 L1978.54 191.023 Q1980.88 190.12 1983.08 189.68 Q1985.28 189.217 1987.36 189.217 Q1992.99 189.217 1995.77 192.134 Q1998.54 195.051 1998.54 200.977 Z\" fill=\"#000000\" fill-rule=\"evenodd\" fill-opacity=\"1\" /><path clip-path=\"url(#clip400)\" d=\"M2018.1 218.176 Q2016.3 222.805 2014.59 224.217 Q2012.87 225.629 2010 225.629 L2006.6 225.629 L2006.6 222.064 L2009.1 222.064 Q2010.86 222.064 2011.83 221.231 Q2012.8 220.398 2013.98 217.296 L2014.75 215.351 L2004.26 189.842 L2008.78 189.842 L2016.88 210.12 L2024.98 189.842 L2029.49 189.842 L2018.1 218.176 Z\" fill=\"#000000\" fill-rule=\"evenodd\" fill-opacity=\"1\" /><path clip-path=\"url(#clip400)\" d=\"M2047.55 181.208 L2052.27 181.208 L2059.54 210.421 L2066.78 181.208 L2072.04 181.208 L2079.31 210.421 L2086.55 181.208 L2091.3 181.208 L2082.62 215.768 L2076.74 215.768 L2069.45 185.768 L2062.09 215.768 L2056.21 215.768 L2047.55 181.208 Z\" fill=\"#000000\" fill-rule=\"evenodd\" fill-opacity=\"1\" /><path clip-path=\"url(#clip400)\" d=\"M2096.28 189.842 L2100.53 189.842 L2100.53 215.768 L2096.28 215.768 L2096.28 189.842 M2096.28 179.75 L2100.53 179.75 L2100.53 185.143 L2096.28 185.143 L2096.28 179.75 Z\" fill=\"#000000\" fill-rule=\"evenodd\" fill-opacity=\"1\" /><path clip-path=\"url(#clip400)\" d=\"M2131 200.12 L2131 215.768 L2126.74 215.768 L2126.74 200.259 Q2126.74 196.578 2125.3 194.75 Q2123.87 192.921 2121 192.921 Q2117.55 192.921 2115.56 195.12 Q2113.57 197.319 2113.57 201.115 L2113.57 215.768 L2109.28 215.768 L2109.28 189.842 L2113.57 189.842 L2113.57 193.87 Q2115.09 191.532 2117.15 190.375 Q2119.24 189.217 2121.95 189.217 Q2126.41 189.217 2128.71 191.995 Q2131 194.75 2131 200.12 Z\" fill=\"#000000\" fill-rule=\"evenodd\" fill-opacity=\"1\" /><path clip-path=\"url(#clip400)\" d=\"M2156.55 193.777 L2156.55 179.75 L2160.81 179.75 L2160.81 215.768 L2156.55 215.768 L2156.55 211.879 Q2155.21 214.194 2153.15 215.328 Q2151.11 216.439 2148.24 216.439 Q2143.54 216.439 2140.58 212.689 Q2137.64 208.939 2137.64 202.828 Q2137.64 196.717 2140.58 192.967 Q2143.54 189.217 2148.24 189.217 Q2151.11 189.217 2153.15 190.352 Q2155.21 191.463 2156.55 193.777 M2142.04 202.828 Q2142.04 207.527 2143.96 210.213 Q2145.9 212.875 2149.28 212.875 Q2152.66 212.875 2154.61 210.213 Q2156.55 207.527 2156.55 202.828 Q2156.55 198.129 2154.61 195.467 Q2152.66 192.782 2149.28 192.782 Q2145.9 192.782 2143.96 195.467 Q2142.04 198.129 2142.04 202.828 Z\" fill=\"#000000\" fill-rule=\"evenodd\" fill-opacity=\"1\" /><path clip-path=\"url(#clip400)\" d=\"M2179.63 192.828 Q2176.21 192.828 2174.21 195.514 Q2172.22 198.176 2172.22 202.828 Q2172.22 207.481 2174.19 210.166 Q2176.18 212.828 2179.63 212.828 Q2183.03 212.828 2185.02 210.143 Q2187.02 207.458 2187.02 202.828 Q2187.02 198.222 2185.02 195.537 Q2183.03 192.828 2179.63 192.828 M2179.63 189.217 Q2185.19 189.217 2188.36 192.828 Q2191.53 196.44 2191.53 202.828 Q2191.53 209.194 2188.36 212.828 Q2185.19 216.439 2179.63 216.439 Q2174.05 216.439 2170.88 212.828 Q2167.73 209.194 2167.73 202.828 Q2167.73 196.44 2170.88 192.828 Q2174.05 189.217 2179.63 189.217 Z\" fill=\"#000000\" fill-rule=\"evenodd\" fill-opacity=\"1\" /><path clip-path=\"url(#clip400)\" d=\"M2196.11 189.842 L2200.37 189.842 L2205.7 210.074 L2211 189.842 L2216.02 189.842 L2221.34 210.074 L2226.64 189.842 L2230.9 189.842 L2224.12 215.768 L2219.1 215.768 L2213.52 194.518 L2207.92 215.768 L2202.89 215.768 L2196.11 189.842 Z\" fill=\"#000000\" fill-rule=\"evenodd\" fill-opacity=\"1\" /></svg>\n"
      ]
     },
     "execution_count": 16,
     "metadata": {},
     "output_type": "execute_result"
    }
   ],
   "source": [
    "plot(losses_single, label=\"Loss Single\", legend=:topright)\n",
    "plot!(losses_window, label=\"Loss $(window_length)-Day Window\", legend=:topright)\n",
    "plot!(yscale=:log, xscale=:log)"
   ]
  },
  {
   "cell_type": "code",
   "execution_count": 17,
   "id": "a92da7f3-acf5-47a4-82de-a1a2e0f146eb",
   "metadata": {
    "slideshow": {
     "slide_type": "subslide"
    },
    "tags": []
   },
   "outputs": [
    {
     "data": {
      "image/svg+xml": [
       "<?xml version=\"1.0\" encoding=\"utf-8\"?>\n",
       "<svg xmlns=\"http://www.w3.org/2000/svg\" xmlns:xlink=\"http://www.w3.org/1999/xlink\" width=\"600\" height=\"400\" viewBox=\"0 0 2400 1600\">\n",
       "<defs>\n",
       "  <clipPath id=\"clip440\">\n",
       "    <rect x=\"0\" y=\"0\" width=\"2400\" height=\"1600\"/>\n",
       "  </clipPath>\n",
       "</defs>\n",
       "<path clip-path=\"url(#clip440)\" d=\"\n",
       "M0 1600 L2400 1600 L2400 0 L0 0  Z\n",
       "  \" fill=\"#ffffff\" fill-rule=\"evenodd\" fill-opacity=\"1\"/>\n",
       "<defs>\n",
       "  <clipPath id=\"clip441\">\n",
       "    <rect x=\"480\" y=\"0\" width=\"1681\" height=\"1600\"/>\n",
       "  </clipPath>\n",
       "</defs>\n",
       "<path clip-path=\"url(#clip440)\" d=\"\n",
       "M169.121 1486.45 L2352.76 1486.45 L2352.76 47.2441 L169.121 47.2441  Z\n",
       "  \" fill=\"#ffffff\" fill-rule=\"evenodd\" fill-opacity=\"1\"/>\n",
       "<defs>\n",
       "  <clipPath id=\"clip442\">\n",
       "    <rect x=\"169\" y=\"47\" width=\"2185\" height=\"1440\"/>\n",
       "  </clipPath>\n",
       "</defs>\n",
       "<polyline clip-path=\"url(#clip442)\" style=\"stroke:#000000; stroke-linecap:round; stroke-linejoin:round; stroke-width:2; stroke-opacity:0.1; fill:none\" points=\"\n",
       "  228.197,1486.45 228.197,47.2441 \n",
       "  \"/>\n",
       "<polyline clip-path=\"url(#clip442)\" style=\"stroke:#000000; stroke-linecap:round; stroke-linejoin:round; stroke-width:2; stroke-opacity:0.1; fill:none\" points=\"\n",
       "  773.18,1486.45 773.18,47.2441 \n",
       "  \"/>\n",
       "<polyline clip-path=\"url(#clip442)\" style=\"stroke:#000000; stroke-linecap:round; stroke-linejoin:round; stroke-width:2; stroke-opacity:0.1; fill:none\" points=\"\n",
       "  1318.16,1486.45 1318.16,47.2441 \n",
       "  \"/>\n",
       "<polyline clip-path=\"url(#clip442)\" style=\"stroke:#000000; stroke-linecap:round; stroke-linejoin:round; stroke-width:2; stroke-opacity:0.1; fill:none\" points=\"\n",
       "  1863.14,1486.45 1863.14,47.2441 \n",
       "  \"/>\n",
       "<polyline clip-path=\"url(#clip440)\" style=\"stroke:#000000; stroke-linecap:round; stroke-linejoin:round; stroke-width:4; stroke-opacity:1; fill:none\" points=\"\n",
       "  169.121,1486.45 2352.76,1486.45 \n",
       "  \"/>\n",
       "<polyline clip-path=\"url(#clip440)\" style=\"stroke:#000000; stroke-linecap:round; stroke-linejoin:round; stroke-width:4; stroke-opacity:1; fill:none\" points=\"\n",
       "  228.197,1486.45 228.197,1467.55 \n",
       "  \"/>\n",
       "<polyline clip-path=\"url(#clip440)\" style=\"stroke:#000000; stroke-linecap:round; stroke-linejoin:round; stroke-width:4; stroke-opacity:1; fill:none\" points=\"\n",
       "  773.18,1486.45 773.18,1467.55 \n",
       "  \"/>\n",
       "<polyline clip-path=\"url(#clip440)\" style=\"stroke:#000000; stroke-linecap:round; stroke-linejoin:round; stroke-width:4; stroke-opacity:1; fill:none\" points=\"\n",
       "  1318.16,1486.45 1318.16,1467.55 \n",
       "  \"/>\n",
       "<polyline clip-path=\"url(#clip440)\" style=\"stroke:#000000; stroke-linecap:round; stroke-linejoin:round; stroke-width:4; stroke-opacity:1; fill:none\" points=\"\n",
       "  1863.14,1486.45 1863.14,1467.55 \n",
       "  \"/>\n",
       "<path clip-path=\"url(#clip440)\" d=\"M228.197 1517.37 Q224.586 1517.37 222.758 1520.93 Q220.952 1524.47 220.952 1531.6 Q220.952 1538.71 222.758 1542.27 Q224.586 1545.82 228.197 1545.82 Q231.832 1545.82 233.637 1542.27 Q235.466 1538.71 235.466 1531.6 Q235.466 1524.47 233.637 1520.93 Q231.832 1517.37 228.197 1517.37 M228.197 1513.66 Q234.008 1513.66 237.063 1518.27 Q240.142 1522.85 240.142 1531.6 Q240.142 1540.33 237.063 1544.94 Q234.008 1549.52 228.197 1549.52 Q222.387 1549.52 219.309 1544.94 Q216.253 1540.33 216.253 1531.6 Q216.253 1522.85 219.309 1518.27 Q222.387 1513.66 228.197 1513.66 Z\" fill=\"#000000\" fill-rule=\"evenodd\" fill-opacity=\"1\" /><path clip-path=\"url(#clip440)\" d=\"M736.872 1544.91 L753.191 1544.91 L753.191 1548.85 L731.247 1548.85 L731.247 1544.91 Q733.909 1542.16 738.492 1537.53 Q743.099 1532.88 744.279 1531.53 Q746.525 1529.01 747.404 1527.27 Q748.307 1525.51 748.307 1523.82 Q748.307 1521.07 746.363 1519.33 Q744.441 1517.6 741.339 1517.6 Q739.14 1517.6 736.687 1518.36 Q734.256 1519.13 731.478 1520.68 L731.478 1515.95 Q734.302 1514.82 736.756 1514.24 Q739.21 1513.66 741.247 1513.66 Q746.617 1513.66 749.812 1516.35 Q753.006 1519.03 753.006 1523.52 Q753.006 1525.65 752.196 1527.57 Q751.409 1529.47 749.302 1532.07 Q748.724 1532.74 745.622 1535.95 Q742.52 1539.15 736.872 1544.91 Z\" fill=\"#000000\" fill-rule=\"evenodd\" fill-opacity=\"1\" /><path clip-path=\"url(#clip440)\" d=\"M773.006 1517.37 Q769.395 1517.37 767.566 1520.93 Q765.761 1524.47 765.761 1531.6 Q765.761 1538.71 767.566 1542.27 Q769.395 1545.82 773.006 1545.82 Q776.64 1545.82 778.446 1542.27 Q780.274 1538.71 780.274 1531.6 Q780.274 1524.47 778.446 1520.93 Q776.64 1517.37 773.006 1517.37 M773.006 1513.66 Q778.816 1513.66 781.872 1518.27 Q784.95 1522.85 784.95 1531.6 Q784.95 1540.33 781.872 1544.94 Q778.816 1549.52 773.006 1549.52 Q767.196 1549.52 764.117 1544.94 Q761.062 1540.33 761.062 1531.6 Q761.062 1522.85 764.117 1518.27 Q767.196 1513.66 773.006 1513.66 Z\" fill=\"#000000\" fill-rule=\"evenodd\" fill-opacity=\"1\" /><path clip-path=\"url(#clip440)\" d=\"M803.168 1517.37 Q799.557 1517.37 797.728 1520.93 Q795.922 1524.47 795.922 1531.6 Q795.922 1538.71 797.728 1542.27 Q799.557 1545.82 803.168 1545.82 Q806.802 1545.82 808.608 1542.27 Q810.436 1538.71 810.436 1531.6 Q810.436 1524.47 808.608 1520.93 Q806.802 1517.37 803.168 1517.37 M803.168 1513.66 Q808.978 1513.66 812.034 1518.27 Q815.112 1522.85 815.112 1531.6 Q815.112 1540.33 812.034 1544.94 Q808.978 1549.52 803.168 1549.52 Q797.358 1549.52 794.279 1544.94 Q791.223 1540.33 791.223 1531.6 Q791.223 1522.85 794.279 1518.27 Q797.358 1513.66 803.168 1513.66 Z\" fill=\"#000000\" fill-rule=\"evenodd\" fill-opacity=\"1\" /><path clip-path=\"url(#clip440)\" d=\"M1291.25 1518.36 L1279.45 1536.81 L1291.25 1536.81 L1291.25 1518.36 M1290.03 1514.29 L1295.9 1514.29 L1295.9 1536.81 L1300.84 1536.81 L1300.84 1540.7 L1295.9 1540.7 L1295.9 1548.85 L1291.25 1548.85 L1291.25 1540.7 L1275.65 1540.7 L1275.65 1536.19 L1290.03 1514.29 Z\" fill=\"#000000\" fill-rule=\"evenodd\" fill-opacity=\"1\" /><path clip-path=\"url(#clip440)\" d=\"M1318.57 1517.37 Q1314.96 1517.37 1313.13 1520.93 Q1311.32 1524.47 1311.32 1531.6 Q1311.32 1538.71 1313.13 1542.27 Q1314.96 1545.82 1318.57 1545.82 Q1322.2 1545.82 1324.01 1542.27 Q1325.84 1538.71 1325.84 1531.6 Q1325.84 1524.47 1324.01 1520.93 Q1322.2 1517.37 1318.57 1517.37 M1318.57 1513.66 Q1324.38 1513.66 1327.43 1518.27 Q1330.51 1522.85 1330.51 1531.6 Q1330.51 1540.33 1327.43 1544.94 Q1324.38 1549.52 1318.57 1549.52 Q1312.76 1549.52 1309.68 1544.94 Q1306.62 1540.33 1306.62 1531.6 Q1306.62 1522.85 1309.68 1518.27 Q1312.76 1513.66 1318.57 1513.66 Z\" fill=\"#000000\" fill-rule=\"evenodd\" fill-opacity=\"1\" /><path clip-path=\"url(#clip440)\" d=\"M1348.73 1517.37 Q1345.12 1517.37 1343.29 1520.93 Q1341.48 1524.47 1341.48 1531.6 Q1341.48 1538.71 1343.29 1542.27 Q1345.12 1545.82 1348.73 1545.82 Q1352.36 1545.82 1354.17 1542.27 Q1356 1538.71 1356 1531.6 Q1356 1524.47 1354.17 1520.93 Q1352.36 1517.37 1348.73 1517.37 M1348.73 1513.66 Q1354.54 1513.66 1357.59 1518.27 Q1360.67 1522.85 1360.67 1531.6 Q1360.67 1540.33 1357.59 1544.94 Q1354.54 1549.52 1348.73 1549.52 Q1342.92 1549.52 1339.84 1544.94 Q1336.78 1540.33 1336.78 1531.6 Q1336.78 1522.85 1339.84 1518.27 Q1342.92 1513.66 1348.73 1513.66 Z\" fill=\"#000000\" fill-rule=\"evenodd\" fill-opacity=\"1\" /><path clip-path=\"url(#clip440)\" d=\"M1833.47 1529.7 Q1830.32 1529.7 1828.47 1531.86 Q1826.64 1534.01 1826.64 1537.76 Q1826.64 1541.49 1828.47 1543.66 Q1830.32 1545.82 1833.47 1545.82 Q1836.62 1545.82 1838.44 1543.66 Q1840.3 1541.49 1840.3 1537.76 Q1840.3 1534.01 1838.44 1531.86 Q1836.62 1529.7 1833.47 1529.7 M1842.75 1515.05 L1842.75 1519.31 Q1840.99 1518.48 1839.19 1518.04 Q1837.4 1517.6 1835.64 1517.6 Q1831.01 1517.6 1828.56 1520.72 Q1826.13 1523.85 1825.78 1530.17 Q1827.15 1528.15 1829.21 1527.09 Q1831.27 1526 1833.75 1526 Q1838.95 1526 1841.96 1529.17 Q1845 1532.32 1845 1537.76 Q1845 1543.08 1841.85 1546.3 Q1838.7 1549.52 1833.47 1549.52 Q1827.47 1549.52 1824.3 1544.94 Q1821.13 1540.33 1821.13 1531.6 Q1821.13 1523.41 1825.02 1518.55 Q1828.91 1513.66 1835.46 1513.66 Q1837.22 1513.66 1839 1514.01 Q1840.81 1514.36 1842.75 1515.05 Z\" fill=\"#000000\" fill-rule=\"evenodd\" fill-opacity=\"1\" /><path clip-path=\"url(#clip440)\" d=\"M1863.05 1517.37 Q1859.44 1517.37 1857.61 1520.93 Q1855.81 1524.47 1855.81 1531.6 Q1855.81 1538.71 1857.61 1542.27 Q1859.44 1545.82 1863.05 1545.82 Q1866.69 1545.82 1868.49 1542.27 Q1870.32 1538.71 1870.32 1531.6 Q1870.32 1524.47 1868.49 1520.93 Q1866.69 1517.37 1863.05 1517.37 M1863.05 1513.66 Q1868.86 1513.66 1871.92 1518.27 Q1875 1522.85 1875 1531.6 Q1875 1540.33 1871.92 1544.94 Q1868.86 1549.52 1863.05 1549.52 Q1857.24 1549.52 1854.16 1544.94 Q1851.11 1540.33 1851.11 1531.6 Q1851.11 1522.85 1854.16 1518.27 Q1857.24 1513.66 1863.05 1513.66 Z\" fill=\"#000000\" fill-rule=\"evenodd\" fill-opacity=\"1\" /><path clip-path=\"url(#clip440)\" d=\"M1893.21 1517.37 Q1889.6 1517.37 1887.77 1520.93 Q1885.97 1524.47 1885.97 1531.6 Q1885.97 1538.71 1887.77 1542.27 Q1889.6 1545.82 1893.21 1545.82 Q1896.85 1545.82 1898.65 1542.27 Q1900.48 1538.71 1900.48 1531.6 Q1900.48 1524.47 1898.65 1520.93 Q1896.85 1517.37 1893.21 1517.37 M1893.21 1513.66 Q1899.02 1513.66 1902.08 1518.27 Q1905.16 1522.85 1905.16 1531.6 Q1905.16 1540.33 1902.08 1544.94 Q1899.02 1549.52 1893.21 1549.52 Q1887.4 1549.52 1884.32 1544.94 Q1881.27 1540.33 1881.27 1531.6 Q1881.27 1522.85 1884.32 1518.27 Q1887.4 1513.66 1893.21 1513.66 Z\" fill=\"#000000\" fill-rule=\"evenodd\" fill-opacity=\"1\" /><polyline clip-path=\"url(#clip442)\" style=\"stroke:#000000; stroke-linecap:round; stroke-linejoin:round; stroke-width:2; stroke-opacity:0.1; fill:none\" points=\"\n",
       "  169.121,1216.41 2352.76,1216.41 \n",
       "  \"/>\n",
       "<polyline clip-path=\"url(#clip442)\" style=\"stroke:#000000; stroke-linecap:round; stroke-linejoin:round; stroke-width:2; stroke-opacity:0.1; fill:none\" points=\"\n",
       "  169.121,935.072 2352.76,935.072 \n",
       "  \"/>\n",
       "<polyline clip-path=\"url(#clip442)\" style=\"stroke:#000000; stroke-linecap:round; stroke-linejoin:round; stroke-width:2; stroke-opacity:0.1; fill:none\" points=\"\n",
       "  169.121,653.738 2352.76,653.738 \n",
       "  \"/>\n",
       "<polyline clip-path=\"url(#clip442)\" style=\"stroke:#000000; stroke-linecap:round; stroke-linejoin:round; stroke-width:2; stroke-opacity:0.1; fill:none\" points=\"\n",
       "  169.121,372.405 2352.76,372.405 \n",
       "  \"/>\n",
       "<polyline clip-path=\"url(#clip442)\" style=\"stroke:#000000; stroke-linecap:round; stroke-linejoin:round; stroke-width:2; stroke-opacity:0.1; fill:none\" points=\"\n",
       "  169.121,91.071 2352.76,91.071 \n",
       "  \"/>\n",
       "<polyline clip-path=\"url(#clip440)\" style=\"stroke:#000000; stroke-linecap:round; stroke-linejoin:round; stroke-width:4; stroke-opacity:1; fill:none\" points=\"\n",
       "  169.121,1486.45 169.121,47.2441 \n",
       "  \"/>\n",
       "<polyline clip-path=\"url(#clip440)\" style=\"stroke:#000000; stroke-linecap:round; stroke-linejoin:round; stroke-width:4; stroke-opacity:1; fill:none\" points=\"\n",
       "  169.121,1216.41 188.019,1216.41 \n",
       "  \"/>\n",
       "<polyline clip-path=\"url(#clip440)\" style=\"stroke:#000000; stroke-linecap:round; stroke-linejoin:round; stroke-width:4; stroke-opacity:1; fill:none\" points=\"\n",
       "  169.121,935.072 188.019,935.072 \n",
       "  \"/>\n",
       "<polyline clip-path=\"url(#clip440)\" style=\"stroke:#000000; stroke-linecap:round; stroke-linejoin:round; stroke-width:4; stroke-opacity:1; fill:none\" points=\"\n",
       "  169.121,653.738 188.019,653.738 \n",
       "  \"/>\n",
       "<polyline clip-path=\"url(#clip440)\" style=\"stroke:#000000; stroke-linecap:round; stroke-linejoin:round; stroke-width:4; stroke-opacity:1; fill:none\" points=\"\n",
       "  169.121,372.405 188.019,372.405 \n",
       "  \"/>\n",
       "<polyline clip-path=\"url(#clip440)\" style=\"stroke:#000000; stroke-linecap:round; stroke-linejoin:round; stroke-width:4; stroke-opacity:1; fill:none\" points=\"\n",
       "  169.121,91.071 188.019,91.071 \n",
       "  \"/>\n",
       "<path clip-path=\"url(#clip440)\" d=\"M91.5938 1214.54 Q88.4456 1214.54 86.5938 1216.69 Q84.7651 1218.85 84.7651 1222.6 Q84.7651 1226.32 86.5938 1228.5 Q88.4456 1230.65 91.5938 1230.65 Q94.7419 1230.65 96.5706 1228.5 Q98.4224 1226.32 98.4224 1222.6 Q98.4224 1218.85 96.5706 1216.69 Q94.7419 1214.54 91.5938 1214.54 M100.876 1199.89 L100.876 1204.15 Q99.1169 1203.32 97.3113 1202.88 Q95.5289 1202.44 93.7697 1202.44 Q89.1401 1202.44 86.6864 1205.56 Q84.2558 1208.69 83.9086 1215 Q85.2743 1212.99 87.3345 1211.93 Q89.3947 1210.84 91.8715 1210.84 Q97.0798 1210.84 100.089 1214.01 Q103.121 1217.16 103.121 1222.6 Q103.121 1227.92 99.9733 1231.14 Q96.8252 1234.36 91.5938 1234.36 Q85.5984 1234.36 82.4271 1229.77 Q79.2559 1225.17 79.2559 1216.44 Q79.2559 1208.25 83.1447 1203.38 Q87.0336 1198.5 93.5845 1198.5 Q95.3437 1198.5 97.1261 1198.85 Q98.9317 1199.19 100.876 1199.89 Z\" fill=\"#000000\" fill-rule=\"evenodd\" fill-opacity=\"1\" /><path clip-path=\"url(#clip440)\" d=\"M121.177 1202.2 Q117.566 1202.2 115.737 1205.77 Q113.932 1209.31 113.932 1216.44 Q113.932 1223.55 115.737 1227.11 Q117.566 1230.65 121.177 1230.65 Q124.811 1230.65 126.617 1227.11 Q128.445 1223.55 128.445 1216.44 Q128.445 1209.31 126.617 1205.77 Q124.811 1202.2 121.177 1202.2 M121.177 1198.5 Q126.987 1198.5 130.043 1203.11 Q133.121 1207.69 133.121 1216.44 Q133.121 1225.17 130.043 1229.77 Q126.987 1234.36 121.177 1234.36 Q115.367 1234.36 112.288 1229.77 Q109.233 1225.17 109.233 1216.44 Q109.233 1207.69 112.288 1203.11 Q115.367 1198.5 121.177 1198.5 Z\" fill=\"#000000\" fill-rule=\"evenodd\" fill-opacity=\"1\" /><path clip-path=\"url(#clip440)\" d=\"M81.154 951.634 L81.154 947.375 Q82.9133 948.208 84.7188 948.648 Q86.5243 949.088 88.2604 949.088 Q92.89 949.088 95.3206 945.986 Q97.7743 942.861 98.1215 936.519 Q96.7789 938.509 94.7187 939.574 Q92.6586 940.639 90.1586 940.639 Q84.9734 940.639 81.941 937.514 Q78.9318 934.366 78.9318 928.926 Q78.9318 923.602 82.0799 920.384 Q85.2281 917.167 90.4595 917.167 Q96.4548 917.167 99.603 921.773 Q102.774 926.357 102.774 935.106 Q102.774 943.278 98.8854 948.162 Q95.0197 953.023 88.4688 953.023 Q86.7095 953.023 84.904 952.676 Q83.0984 952.329 81.154 951.634 M90.4595 936.981 Q93.6076 936.981 95.4363 934.829 Q97.2882 932.676 97.2882 928.926 Q97.2882 925.199 95.4363 923.046 Q93.6076 920.87 90.4595 920.87 Q87.3114 920.87 85.4595 923.046 Q83.6308 925.199 83.6308 928.926 Q83.6308 932.676 85.4595 934.829 Q87.3114 936.981 90.4595 936.981 Z\" fill=\"#000000\" fill-rule=\"evenodd\" fill-opacity=\"1\" /><path clip-path=\"url(#clip440)\" d=\"M121.177 920.87 Q117.566 920.87 115.737 924.435 Q113.932 927.977 113.932 935.106 Q113.932 942.213 115.737 945.778 Q117.566 949.319 121.177 949.319 Q124.811 949.319 126.617 945.778 Q128.445 942.213 128.445 935.106 Q128.445 927.977 126.617 924.435 Q124.811 920.87 121.177 920.87 M121.177 917.167 Q126.987 917.167 130.043 921.773 Q133.121 926.357 133.121 935.106 Q133.121 943.833 130.043 948.44 Q126.987 953.023 121.177 953.023 Q115.367 953.023 112.288 948.44 Q109.233 943.833 109.233 935.106 Q109.233 926.357 112.288 921.773 Q115.367 917.167 121.177 917.167 Z\" fill=\"#000000\" fill-rule=\"evenodd\" fill-opacity=\"1\" /><path clip-path=\"url(#clip440)\" d=\"M51.6634 667.083 L59.3023 667.083 L59.3023 640.717 L50.9921 642.384 L50.9921 638.125 L59.256 636.458 L63.9319 636.458 L63.9319 667.083 L71.5707 667.083 L71.5707 671.018 L51.6634 671.018 L51.6634 667.083 Z\" fill=\"#000000\" fill-rule=\"evenodd\" fill-opacity=\"1\" /><path clip-path=\"url(#clip440)\" d=\"M85.0429 667.083 L101.362 667.083 L101.362 671.018 L79.4179 671.018 L79.4179 667.083 Q82.0799 664.328 86.6632 659.699 Q91.2697 655.046 92.4502 653.703 Q94.6956 651.18 95.5752 649.444 Q96.478 647.685 96.478 645.995 Q96.478 643.241 94.5336 641.504 Q92.6123 639.768 89.5104 639.768 Q87.3114 639.768 84.8577 640.532 Q82.4271 641.296 79.6494 642.847 L79.6494 638.125 Q82.4734 636.991 84.9271 636.412 Q87.3808 635.833 89.4178 635.833 Q94.7882 635.833 97.9826 638.518 Q101.177 641.204 101.177 645.694 Q101.177 647.824 100.367 649.745 Q99.5798 651.643 97.4734 654.236 Q96.8947 654.907 93.7928 658.125 Q90.691 661.319 85.0429 667.083 Z\" fill=\"#000000\" fill-rule=\"evenodd\" fill-opacity=\"1\" /><path clip-path=\"url(#clip440)\" d=\"M121.177 639.537 Q117.566 639.537 115.737 643.102 Q113.932 646.643 113.932 653.773 Q113.932 660.879 115.737 664.444 Q117.566 667.986 121.177 667.986 Q124.811 667.986 126.617 664.444 Q128.445 660.879 128.445 653.773 Q128.445 646.643 126.617 643.102 Q124.811 639.537 121.177 639.537 M121.177 635.833 Q126.987 635.833 130.043 640.44 Q133.121 645.023 133.121 653.773 Q133.121 662.5 130.043 667.106 Q126.987 671.689 121.177 671.689 Q115.367 671.689 112.288 667.106 Q109.233 662.5 109.233 653.773 Q109.233 645.023 112.288 640.44 Q115.367 635.833 121.177 635.833 Z\" fill=\"#000000\" fill-rule=\"evenodd\" fill-opacity=\"1\" /><path clip-path=\"url(#clip440)\" d=\"M51.6634 385.749 L59.3023 385.749 L59.3023 359.384 L50.9921 361.05 L50.9921 356.791 L59.256 355.125 L63.9319 355.125 L63.9319 385.749 L71.5707 385.749 L71.5707 389.685 L51.6634 389.685 L51.6634 385.749 Z\" fill=\"#000000\" fill-rule=\"evenodd\" fill-opacity=\"1\" /><path clip-path=\"url(#clip440)\" d=\"M81.0614 355.125 L99.4178 355.125 L99.4178 359.06 L85.3438 359.06 L85.3438 367.532 Q86.3623 367.185 87.3808 367.023 Q88.3993 366.837 89.4178 366.837 Q95.2049 366.837 98.5845 370.009 Q101.964 373.18 101.964 378.597 Q101.964 384.175 98.4919 387.277 Q95.0197 390.356 88.7003 390.356 Q86.5243 390.356 84.2558 389.985 Q82.0105 389.615 79.6031 388.874 L79.6031 384.175 Q81.6864 385.31 83.9086 385.865 Q86.1308 386.421 88.6077 386.421 Q92.6123 386.421 94.9502 384.314 Q97.2882 382.208 97.2882 378.597 Q97.2882 374.986 94.9502 372.879 Q92.6123 370.773 88.6077 370.773 Q86.7327 370.773 84.8577 371.189 Q83.0058 371.606 81.0614 372.486 L81.0614 355.125 Z\" fill=\"#000000\" fill-rule=\"evenodd\" fill-opacity=\"1\" /><path clip-path=\"url(#clip440)\" d=\"M121.177 358.203 Q117.566 358.203 115.737 361.768 Q113.932 365.31 113.932 372.439 Q113.932 379.546 115.737 383.111 Q117.566 386.652 121.177 386.652 Q124.811 386.652 126.617 383.111 Q128.445 379.546 128.445 372.439 Q128.445 365.31 126.617 361.768 Q124.811 358.203 121.177 358.203 M121.177 354.5 Q126.987 354.5 130.043 359.106 Q133.121 363.689 133.121 372.439 Q133.121 381.166 130.043 385.773 Q126.987 390.356 121.177 390.356 Q115.367 390.356 112.288 385.773 Q109.233 381.166 109.233 372.439 Q109.233 363.689 112.288 359.106 Q115.367 354.5 121.177 354.5 Z\" fill=\"#000000\" fill-rule=\"evenodd\" fill-opacity=\"1\" /><path clip-path=\"url(#clip440)\" d=\"M51.6634 104.416 L59.3023 104.416 L59.3023 78.0502 L50.9921 79.7169 L50.9921 75.4576 L59.256 73.791 L63.9319 73.791 L63.9319 104.416 L71.5707 104.416 L71.5707 108.351 L51.6634 108.351 L51.6634 104.416 Z\" fill=\"#000000\" fill-rule=\"evenodd\" fill-opacity=\"1\" /><path clip-path=\"url(#clip440)\" d=\"M91.0151 91.939 Q87.6817 91.939 85.7605 93.7214 Q83.8623 95.5038 83.8623 98.6288 Q83.8623 101.754 85.7605 103.536 Q87.6817 105.319 91.0151 105.319 Q94.3484 105.319 96.2697 103.536 Q98.1909 101.731 98.1909 98.6288 Q98.1909 95.5038 96.2697 93.7214 Q94.3715 91.939 91.0151 91.939 M86.3392 89.9483 Q83.3299 89.2075 81.6401 87.1474 Q79.9735 85.0872 79.9735 82.1243 Q79.9735 77.9808 82.9133 75.5734 Q85.8762 73.166 91.0151 73.166 Q96.1771 73.166 99.1169 75.5734 Q102.057 77.9808 102.057 82.1243 Q102.057 85.0872 100.367 87.1474 Q98.7002 89.2075 95.7141 89.9483 Q99.0937 90.7353 100.969 93.027 Q102.867 95.3186 102.867 98.6288 Q102.867 103.652 99.7882 106.337 Q96.7326 109.022 91.0151 109.022 Q85.2975 109.022 82.2188 106.337 Q79.1633 103.652 79.1633 98.6288 Q79.1633 95.3186 81.0614 93.027 Q82.9595 90.7353 86.3392 89.9483 M84.6262 82.5641 Q84.6262 85.2492 86.2929 86.7539 Q87.9827 88.2585 91.0151 88.2585 Q94.0243 88.2585 95.7141 86.7539 Q97.4271 85.2492 97.4271 82.5641 Q97.4271 79.8789 95.7141 78.3743 Q94.0243 76.8697 91.0151 76.8697 Q87.9827 76.8697 86.2929 78.3743 Q84.6262 79.8789 84.6262 82.5641 Z\" fill=\"#000000\" fill-rule=\"evenodd\" fill-opacity=\"1\" /><path clip-path=\"url(#clip440)\" d=\"M121.177 76.8697 Q117.566 76.8697 115.737 80.4344 Q113.932 83.9761 113.932 91.1057 Q113.932 98.2121 115.737 101.777 Q117.566 105.319 121.177 105.319 Q124.811 105.319 126.617 101.777 Q128.445 98.2121 128.445 91.1057 Q128.445 83.9761 126.617 80.4344 Q124.811 76.8697 121.177 76.8697 M121.177 73.166 Q126.987 73.166 130.043 77.7724 Q133.121 82.3557 133.121 91.1057 Q133.121 99.8325 130.043 104.439 Q126.987 109.022 121.177 109.022 Q115.367 109.022 112.288 104.439 Q109.233 99.8325 109.233 91.1057 Q109.233 82.3557 112.288 77.7724 Q115.367 73.166 121.177 73.166 Z\" fill=\"#000000\" fill-rule=\"evenodd\" fill-opacity=\"1\" /><polyline clip-path=\"url(#clip442)\" style=\"stroke:#009af9; stroke-linecap:round; stroke-linejoin:round; stroke-width:4; stroke-opacity:1; fill:none\" points=\"\n",
       "  230.922,1408.84 233.647,1445.72 236.372,1431.48 239.097,1432.26 241.822,1425.65 244.547,1419.65 247.272,1418.5 249.997,1422.04 252.722,1427.41 255.446,1420.21 \n",
       "  258.171,1415.82 260.896,1413.67 263.621,1411.42 266.346,1419.67 269.071,1418.22 271.796,1421.08 274.521,1409.21 277.246,1412.64 279.971,1416.43 282.696,1391.65 \n",
       "  285.421,1388.86 288.145,1388.68 290.87,1377.59 293.595,1370.72 296.32,1370.58 299.045,1378.31 301.77,1379.56 304.495,1381.85 307.22,1378.43 309.945,1380.09 \n",
       "  312.67,1378.64 315.395,1379.53 318.119,1378.34 320.844,1375.76 323.569,1378.03 326.294,1373.55 329.019,1370.6 331.744,1370.37 334.469,1369.1 337.194,1373.13 \n",
       "  339.919,1368.86 342.644,1366.8 345.369,1367.55 348.093,1369.92 350.818,1374.66 353.543,1373.69 356.268,1359.65 358.993,1354.94 361.718,1353.06 364.443,1348.33 \n",
       "  367.168,1342.72 369.893,1338.27 372.618,1341.76 375.343,1337.94 378.067,1321.69 380.792,1331.17 383.517,1336.58 386.242,1341.15 388.967,1337.21 391.692,1336.63 \n",
       "  394.417,1333.74 397.142,1330.72 399.867,1324.2 402.592,1321.08 405.317,1320.29 408.042,1317.22 410.766,1309.95 413.491,1311.36 416.216,1308.73 418.941,1312.64 \n",
       "  421.666,1312.83 424.391,1311.99 427.116,1311.94 429.841,1302.85 432.566,1301.13 435.291,1299.56 438.016,1292.65 440.74,1293.4 443.465,1297.8 446.19,1300.1 \n",
       "  448.915,1299.38 451.64,1308.61 454.365,1285.52 457.09,1288.73 459.815,1282.64 462.54,1290.3 465.265,1303.48 467.99,1303.38 470.714,1308.5 473.439,1316.79 \n",
       "  476.164,1343.66 478.889,1336.77 481.614,1331.47 484.339,1333.44 487.064,1335.97 489.789,1349.83 492.514,1341.6 495.239,1350.55 497.964,1357.87 500.688,1359.49 \n",
       "  503.413,1361.22 506.138,1363.21 508.863,1361.06 511.588,1368.63 514.313,1372.78 517.038,1357.92 519.763,1351.12 522.488,1344.83 525.213,1333.28 527.938,1327.58 \n",
       "  530.662,1322.35 533.387,1323.8 536.112,1323.9 538.837,1327.2 541.562,1324.51 544.287,1313.82 547.012,1315.18 549.737,1311.45 552.462,1313.04 555.187,1313.51 \n",
       "  557.912,1320.57 560.637,1310.65 563.361,1310.79 566.086,1315.06 568.811,1306.55 571.536,1303.78 574.261,1299.84 576.986,1300.27 579.711,1310.14 582.436,1307.28 \n",
       "  585.161,1302.61 587.886,1306.08 590.611,1302.45 593.335,1297.97 596.06,1299.63 598.785,1302.33 601.51,1296.91 604.235,1304.11 606.96,1293.26 609.685,1289.46 \n",
       "  612.41,1289.86 615.135,1293.73 617.86,1292.04 620.585,1287.49 623.309,1289.6 626.034,1279.61 628.759,1290.42 631.484,1300.76 634.209,1325.8 636.934,1317.22 \n",
       "  639.659,1312.43 642.384,1302.14 645.109,1307.86 647.834,1309.06 650.559,1289.15 653.283,1303.74 656.008,1306.1 658.733,1294.94 661.458,1285.92 664.183,1285.89 \n",
       "  666.908,1280.55 669.633,1280.97 672.358,1303.99 675.083,1294.97 677.808,1300.43 680.533,1297.22 683.258,1289.06 685.982,1289.69 688.707,1296.82 691.432,1288.64 \n",
       "  694.157,1279.05 696.882,1279.1 699.607,1276.96 702.332,1271.03 705.057,1254.88 707.782,1256.05 710.507,1266.22 713.232,1263.53 715.956,1261.65 718.681,1256.8 \n",
       "  721.406,1261.04 724.131,1268.62 726.856,1266.3 729.581,1268.73 732.306,1260.88 735.031,1263.55 737.756,1266.06 740.481,1253.99 743.206,1252.53 745.93,1265.73 \n",
       "  748.655,1261.37 751.38,1246.86 754.105,1246.74 756.83,1252.98 759.555,1246.81 762.28,1239.64 765.005,1225.29 767.73,1226.09 770.455,1227.38 773.18,1229.6 \n",
       "  775.904,1227.47 778.629,1224.82 781.354,1215.21 784.079,1216.5 786.804,1208.95 789.529,1208.01 792.254,1200.98 794.979,1195.19 797.704,1208.69 800.429,1208.76 \n",
       "  803.154,1195.87 805.878,1179.32 808.603,1175.38 811.328,1176.24 814.053,1175.99 816.778,1170.85 819.503,1169.19 822.228,1164.36 824.953,1164.92 827.678,1159.04 \n",
       "  830.403,1163.33 833.128,1156.01 835.853,1152.87 838.577,1154.77 841.302,1162.04 844.027,1164.8 846.752,1165.34 849.477,1154.58 852.202,1159.46 854.927,1151.14 \n",
       "  857.652,1152.52 860.377,1159.76 863.102,1170.81 865.827,1165.44 868.551,1156.43 871.276,1144.41 874.001,1153.29 876.726,1149.64 879.451,1144.27 882.176,1142.65 \n",
       "  884.901,1134 887.626,1122.96 890.351,1121.67 893.076,1123.24 895.801,1122.58 898.525,1123.94 901.25,1113.25 903.975,1112.62 906.7,1099.39 909.425,1099.65 \n",
       "  912.15,1095.62 914.875,1090.63 917.6,1074.92 920.325,1081.76 923.05,1076.21 925.775,1079.51 928.499,1068.26 931.224,1053.16 933.949,1051.52 936.674,1035.98 \n",
       "  939.399,1046.01 942.124,1049.15 944.849,1040.01 947.574,1031.83 950.299,1036.89 953.024,1034.24 955.749,1030.65 958.474,1032.81 961.198,1054.76 963.923,1034.27 \n",
       "  966.648,1018.67 969.373,1019.78 972.098,1053.44 974.823,1055.44 977.548,1031.55 980.273,1025.45 982.998,1016.64 985.723,1028.78 988.448,1025.22 991.172,1029.76 \n",
       "  993.897,1011.97 996.622,1017.43 999.347,1017.24 1002.07,1031.19 1004.8,1020.36 1007.52,1028.15 1010.25,1045.14 1012.97,1080.01 1015.7,1103.68 1018.42,1092.97 \n",
       "  1021.15,1137.82 1023.87,1138.19 1026.6,1078.53 1029.32,1100.78 1032.05,1069.31 1034.77,1092.34 1037.5,1101.46 1040.22,1155.05 1042.95,1110.11 1045.67,1133.34 \n",
       "  1048.4,1197.11 1051.12,1127.39 1053.85,1211.22 1056.57,1186.26 1059.3,1200.77 1062.02,1205.2 1064.75,1241.63 1067.47,1253.05 1070.19,1200.28 1072.92,1203.46 \n",
       "  1075.64,1173.17 1078.37,1198.26 1081.09,1181.68 1083.82,1182.9 1086.54,1214.27 1089.27,1204.85 1091.99,1213.1 1094.72,1163.73 1097.44,1170.85 1100.17,1155.29 \n",
       "  1102.89,1150.78 1105.62,1138.45 1108.34,1106.1 1111.07,1112.24 1113.79,1106.94 1116.52,1116.06 1119.24,1129.82 1121.97,1149.89 1124.69,1131.77 1127.42,1134.28 \n",
       "  1130.14,1115.66 1132.87,1115.2 1135.59,1125.96 1138.32,1104.5 1141.04,1090.27 1143.77,1101.36 1146.49,1091.77 1149.22,1081.46 1151.94,1074.26 1154.67,1066.97 \n",
       "  1157.39,1051.99 1160.12,1040.55 1162.84,1048.99 1165.57,1057.8 1168.29,1053.37 1171.02,1057.66 1173.74,1040.67 1176.47,1044.93 1179.19,1030.65 1181.92,1036.23 \n",
       "  1184.64,1031.45 1187.37,1036.52 1190.09,1033.28 1192.82,1032.95 1195.54,1033.68 1198.27,1024.51 1200.99,1021.02 1203.72,1016.85 1206.44,1023.41 1209.17,1001.89 \n",
       "  1211.89,997.293 1214.62,972.606 1217.34,951.858 1220.06,991.573 1222.79,984.774 1225.51,974.951 1228.24,953.64 1230.96,954.789 1233.69,954.46 1236.41,959.173 \n",
       "  1239.14,937.721 1241.86,919.763 1244.59,934.931 1247.31,923.725 1250.04,950.006 1252.76,930.899 1255.49,923.818 1258.21,925.436 1260.94,925.436 1263.66,902.601 \n",
       "  1266.39,905.321 1269.11,884.971 1271.84,881.126 1274.56,879.555 1277.29,883.705 1280.01,868.888 1282.74,862.628 1285.46,873.905 1288.19,875.734 1290.91,856.697 \n",
       "  1293.64,869.427 1296.36,866.872 1299.09,908.392 1301.81,910.549 1304.54,889.965 1307.26,904.57 1309.99,887.808 1312.71,877.023 1315.44,782.589 1318.16,757.48 \n",
       "  1320.89,750.658 1323.61,746.93 1326.34,710.919 1329.06,737.083 1331.79,721.938 1334.51,753.377 1337.24,719.289 1339.96,700.533 1342.69,701.495 1345.41,704.308 \n",
       "  1348.14,695.352 1350.86,693.992 1353.59,669.915 1356.31,612.757 1359.04,598.808 1361.76,608.49 1364.49,592.572 1367.21,606.755 1369.94,608.654 1372.66,568.963 \n",
       "  1375.38,520.761 1378.11,546.831 1380.83,645.486 1383.56,644.735 1386.28,721.071 1389.01,678.871 1391.73,714.788 1394.46,728.76 1397.18,697.251 1399.91,695.563 \n",
       "  1402.63,727.541 1405.36,744.328 1408.08,777.15 1410.81,746.766 1413.53,730.542 1416.26,774.524 1418.98,764.208 1421.71,726.135 1424.43,701.002 1427.16,709.161 \n",
       "  1429.88,693.031 1432.61,683.841 1435.33,719.195 1438.06,686.56 1440.78,717.882 1443.51,699.877 1446.23,700.908 1448.96,682.153 1451.68,612.476 1454.41,643.423 \n",
       "  1457.13,642.579 1459.86,647.08 1462.58,662.928 1465.31,691.437 1468.03,677.089 1470.76,683.091 1473.48,693.594 1476.21,700.252 1478.93,700.158 1481.66,685.623 \n",
       "  1484.38,736.263 1487.11,697.626 1489.83,758.207 1492.56,759.051 1495.28,743.39 1498.01,701.096 1500.73,662.835 1503.46,666.023 1506.18,688.248 1508.91,691.531 \n",
       "  1511.63,658.521 1514.36,661.147 1517.08,660.678 1519.81,650.925 1522.53,659.459 1525.25,672.212 1527.98,666.492 1530.7,678.683 1533.43,711.412 1536.15,699.033 \n",
       "  1538.88,690.968 1541.6,685.716 1544.33,662.647 1547.05,628.231 1549.78,624.855 1552.5,626.167 1555.23,632.638 1557.95,618.571 1560.68,612.663 1563.4,637.046 \n",
       "  1566.13,623.354 1568.85,631.138 1571.58,637.046 1574.3,579.841 1577.03,580.498 1579.75,572.151 1582.48,591.282 1585.2,576.559 1587.93,542.33 1590.65,550.958 \n",
       "  1593.38,541.486 1596.1,497.223 1598.83,514.291 1601.55,525.075 1604.28,534.734 1607,565.493 1609.73,550.489 1612.45,591.845 1615.18,551.333 1617.9,540.736 \n",
       "  1620.63,569.526 1623.35,571.214 1626.08,551.614 1628.8,570.182 1631.53,586.781 1634.25,580.31 1636.98,540.923 1639.7,495.535 1642.43,474.904 1645.15,438.799 \n",
       "  1647.88,436.549 1650.6,446.864 1653.33,493.472 1656.05,541.58 1658.78,521.136 1661.5,513.165 1664.23,523.012 1666.95,490.658 1669.68,496.567 1672.4,495.16 \n",
       "  1675.13,503.6 1677.85,509.414 1680.57,511.852 1683.3,509.602 1686.02,530.045 1688.75,552.083 1691.47,562.68 1694.2,561.179 1696.92,597.471 1699.65,598.784 \n",
       "  1702.37,603.567 1705.1,644.454 1707.82,641.922 1710.55,580.685 1713.27,605.724 1716,634.42 1718.72,652.519 1721.45,640.422 1724.17,687.873 1726.9,643.516 \n",
       "  1729.62,653.926 1732.35,635.358 1735.07,644.079 1737.8,616.321 1740.52,601.504 1743.25,609.1 1745.97,648.768 1748.7,653.832 1751.42,621.947 1754.15,629.919 \n",
       "  1756.87,652.894 1759.6,648.205 1762.32,642.391 1765.05,640.703 1767.77,654.676 1770.5,633.576 1773.22,625.605 1775.95,598.409 1778.67,595.502 1781.4,579.654 \n",
       "  1784.12,556.584 1786.85,531.827 1789.57,548.332 1792.3,518.417 1795.02,540.923 1797.75,517.76 1800.47,520.949 1803.2,514.572 1805.92,530.795 1808.65,527.138 \n",
       "  1811.37,541.767 1814.1,519.448 1816.82,515.697 1819.55,518.792 1822.27,526.388 1825,527.326 1827.72,546.269 1830.44,536.141 1833.17,580.123 1835.89,577.778 \n",
       "  1838.62,562.398 1841.34,557.991 1844.07,589.5 1846.79,598.315 1849.52,627.762 1852.24,607.131 1854.97,583.874 1857.69,594.939 1860.42,608.256 1863.14,609.756 \n",
       "  1865.87,585.187 1868.59,602.817 1871.32,587.156 1874.04,589.031 1876.77,589.5 1879.49,604.223 1882.22,610.507 1884.94,613.601 1887.67,606.287 1890.39,620.541 \n",
       "  1893.12,598.503 1895.84,598.409 1898.57,590.532 1901.29,586.875 1904.02,596.44 1906.74,584.811 1909.47,555.459 1912.19,563.336 1914.92,558.554 1917.64,543.174 \n",
       "  1920.37,555.646 1923.09,538.391 1925.82,522.637 1928.54,525.263 1931.27,527.982 1933.99,530.795 1936.72,515.134 1939.44,500.599 1942.17,494.691 1944.89,491.784 \n",
       "  1947.62,466.557 1950.34,447.239 1953.07,423.326 1955.79,435.798 1958.52,418.262 1961.24,423.982 1963.97,413.292 1966.69,380.376 1969.42,386.659 1972.14,406.258 \n",
       "  1974.87,443.207 1977.59,408.509 1980.32,415.542 1983.04,402.413 1985.76,385.909 1988.49,381.876 1991.21,402.695 1993.94,419.481 1996.66,413.292 1999.39,411.229 \n",
       "  2002.11,414.417 2004.84,397.162 2007.56,401.007 2010.29,399.975 2013.01,408.603 2015.74,409.072 2018.46,413.667 2021.19,411.229 2023.91,382.814 2026.64,380.845 \n",
       "  2029.36,361.901 2032.09,370.623 2034.81,406.54 2037.54,403.351 2040.26,389.378 2042.99,375.124 2045.71,375.968 2048.44,387.784 2051.16,395.474 2053.89,385.533 \n",
       "  2056.61,343.146 2059.34,355.243 2062.06,348.866 2064.79,338.176 2067.51,332.08 2070.24,309.667 2072.96,324.484 2075.69,334.237 2078.41,382.064 2081.14,376.625 \n",
       "  2083.86,390.035 2086.59,381.501 2089.31,383.752 2092.04,409.353 2094.76,438.612 2097.49,434.017 2100.21,411.322 2102.94,402.132 2105.66,401.288 2108.39,415.824 \n",
       "  2111.11,448.271 2113.84,439.643 2116.56,452.116 2119.29,441.331 2122.01,474.247 2124.74,455.773 2127.46,447.427 2130.19,435.33 2132.91,438.987 2135.64,439.831 \n",
       "  2138.36,452.022 2141.08,457.649 2143.81,430.922 2146.53,420.794 2149.26,404.758 2151.98,384.033 2154.71,379.344 2157.43,377.281 2160.16,384.689 2162.88,385.158 \n",
       "  2165.61,378.781 2168.33,383.189 2171.06,348.304 2173.78,374.28 2176.51,382.157 2179.23,372.217 2181.96,358.432 2184.68,363.402 2187.41,360.401 2190.13,368.278 \n",
       "  2192.86,364.809 2195.58,391.91 2198.31,392.379 2201.03,372.498 2203.76,372.405 2206.48,363.027 2209.21,339.676 2211.93,298.601 2214.66,273.469 2217.38,269.061 \n",
       "  2220.11,265.404 2222.83,260.434 2225.56,308.542 2228.28,276.376 2231.01,228.924 2233.73,233.895 2236.46,243.366 2239.18,261.372 2241.91,228.737 2244.63,173.783 \n",
       "  2247.36,137.21 2250.08,142.086 2252.81,96.2288 2255.53,131.02 2258.26,144.243 2260.98,97.6354 2263.71,163.655 2266.43,174.158 2269.16,187.193 2271.88,156.809 \n",
       "  2274.61,131.958 2277.33,125.956 2280.06,87.9763 2282.78,97.7293 2285.51,96.8851 2288.23,107.951 2290.95,113.859 \n",
       "  \"/>\n",
       "<polyline clip-path=\"url(#clip442)\" style=\"stroke:#e26f46; stroke-linecap:round; stroke-linejoin:round; stroke-width:4; stroke-opacity:1; fill:none\" points=\"\n",
       "  233.647,437.243 236.372,893.581 239.097,992.16 241.822,1221.49 244.547,1206.27 247.272,1330.31 249.997,1326.96 252.722,1390.31 255.446,1387.33 258.171,1418.95 \n",
       "  260.896,1397.68 263.621,1418.08 266.346,1396.97 269.071,1414.37 271.796,1402.28 274.521,1416.83 277.246,1406.41 279.971,1413.92 282.696,1406.84 285.421,1408.03 \n",
       "  288.145,1394.62 290.87,1396.15 293.595,1382.98 296.32,1381.1 299.045,1372.24 301.77,1374.04 304.495,1371.39 307.22,1375.86 309.945,1375.14 312.67,1377.32 \n",
       "  315.395,1375.91 318.119,1376.42 320.844,1375.4 323.569,1375.08 326.294,1374.11 329.019,1373.73 331.744,1370.88 334.469,1370.03 337.194,1367.7 339.919,1367.8 \n",
       "  342.644,1367.29 345.369,1366.1 348.093,1365.58 350.818,1365.18 353.543,1366.49 356.268,1368.11 358.993,1366.19 361.718,1361.59 364.443,1357.53 367.168,1351.7 \n",
       "  369.893,1347.31 372.618,1342.65 375.343,1340.2 378.067,1338.02 380.792,1332.67 383.517,1329.1 386.242,1330.03 388.967,1330.02 391.692,1333.51 394.417,1333.35 \n",
       "  397.142,1334.22 399.867,1330.8 402.592,1328.67 405.317,1323.57 408.042,1321.58 410.766,1317.6 413.491,1314.8 416.216,1310.99 418.941,1309.68 421.666,1307.24 \n",
       "  424.391,1308.89 427.116,1307.78 429.841,1309.25 432.566,1306.32 435.291,1303.66 438.016,1300.5 440.74,1296.63 443.465,1293.18 446.19,1292.97 448.915,1293.05 \n",
       "  451.64,1294.46 454.365,1297.14 457.09,1296.09 459.815,1290.17 462.54,1289.16 465.265,1283 467.99,1289.07 470.714,1290.87 473.439,1297.78 476.164,1302.42 \n",
       "  478.889,1313.87 481.614,1322.35 484.339,1326.2 487.064,1330.05 489.789,1330 492.514,1333.43 495.239,1336.34 497.964,1338.79 500.688,1345.5 503.413,1348.06 \n",
       "  506.138,1352.78 508.863,1355.08 511.588,1357.31 514.313,1358.39 517.038,1362.83 519.763,1361.11 522.488,1358.07 525.213,1352.82 527.938,1344.61 530.662,1336.34 \n",
       "  533.387,1329.82 536.112,1324.45 538.837,1322.52 541.562,1321.56 544.287,1322.38 547.012,1319.22 549.737,1316.73 552.462,1313.65 555.187,1310.65 557.912,1310.4 \n",
       "  560.637,1311.19 563.361,1311.98 566.086,1309.48 568.811,1311.11 571.536,1307.74 574.261,1305.71 576.986,1302.56 579.711,1299.85 582.436,1300.07 585.161,1301.89 \n",
       "  587.886,1301.11 590.611,1302.43 593.335,1301.34 596.06,1299.03 598.785,1297.56 601.51,1297.39 604.235,1296.16 606.96,1296.61 609.685,1296.39 612.41,1291.84 \n",
       "  615.135,1290.91 617.86,1288.17 620.585,1288.84 623.309,1286.74 626.034,1287.28 628.759,1283.96 631.484,1282.99 634.209,1286.84 636.934,1295.05 639.659,1305.39 \n",
       "  642.384,1307.55 645.109,1309.84 647.834,1304.57 650.559,1305.69 653.283,1298.14 656.008,1297.93 658.733,1298.86 661.458,1296.44 664.183,1293.15 666.908,1289.45 \n",
       "  669.633,1284.58 672.358,1280.35 675.083,1284.15 677.808,1288.21 680.533,1290.07 683.258,1295.24 685.982,1291.25 688.707,1290.54 691.432,1288.87 694.157,1289.01 \n",
       "  696.882,1284.01 699.607,1282.49 702.332,1277.71 705.057,1274.43 707.782,1267.21 710.507,1261.41 713.232,1259.41 715.956,1258.65 718.681,1258.27 721.406,1258.44 \n",
       "  724.131,1256.99 726.856,1259.05 729.581,1259.88 732.306,1261.98 735.031,1262.19 737.756,1260.65 740.481,1261.34 743.206,1257.97 745.93,1254.83 748.655,1255.5 \n",
       "  751.38,1256.29 754.105,1252.88 756.83,1250.48 759.555,1248.65 762.28,1246.29 765.005,1242.8 767.73,1237.86 770.455,1230.78 773.18,1227.69 775.904,1224.32 \n",
       "  778.629,1224.98 781.354,1223.36 784.079,1221.54 786.804,1216.89 789.529,1214.28 792.254,1208.38 794.979,1206.35 797.704,1199.61 800.429,1200.29 803.154,1200.65 \n",
       "  805.878,1199.45 808.603,1193.62 811.328,1186.32 814.053,1179.37 816.778,1174.77 819.503,1171.82 822.228,1169.61 824.953,1167.2 827.678,1164.08 830.403,1161.66 \n",
       "  833.128,1159.02 835.853,1158.23 838.577,1153.8 841.302,1153.54 844.027,1152.56 846.752,1155.81 849.477,1157.07 852.202,1158.06 854.927,1155.58 857.652,1155.03 \n",
       "  860.377,1149.69 863.102,1152.44 865.827,1153.96 868.551,1159.32 871.276,1157.34 874.001,1155.46 876.726,1149.61 879.451,1149.31 882.176,1143.43 884.901,1144.11 \n",
       "  887.626,1138.45 890.351,1133.61 893.076,1126 895.801,1123.36 898.525,1119.29 901.25,1119.94 903.975,1117.07 906.7,1114.38 909.425,1109.23 912.15,1102.64 \n",
       "  914.875,1099.15 917.6,1093.18 920.325,1087.75 923.05,1081.3 925.775,1079.5 928.499,1074.22 931.224,1074.32 933.949,1064.85 936.674,1060.34 939.399,1049.47 \n",
       "  942.124,1044.04 944.849,1042.91 947.574,1040.51 950.299,1037.56 953.024,1035.34 955.749,1033.22 958.474,1029.78 961.198,1029.56 963.923,1033.34 966.648,1036.14 \n",
       "  969.373,1029.12 972.098,1027.1 974.823,1026.78 977.548,1035.94 980.273,1034.15 982.998,1035.18 985.723,1027.24 988.448,1022.93 991.172,1020.7 993.897,1020.74 \n",
       "  996.622,1020.03 999.347,1015.67 1002.07,1016.24 1004.8,1014.69 1007.52,1018.99 1010.25,1017.3 1012.97,1027.35 1015.7,1037 1018.42,1060.24 1021.15,1072.41 \n",
       "  1023.87,1093.66 1026.6,1111.6 1029.32,1106.45 1032.05,1101.62 1034.77,1094.8 1037.5,1079.51 1040.22,1089.05 1042.95,1096.74 1045.67,1115.38 1048.4,1111.2 \n",
       "  1051.12,1144.94 1053.85,1138.49 1056.57,1155.77 1059.3,1175.5 1062.02,1174.14 1064.75,1193.79 1067.47,1198.75 1070.19,1222.59 1072.92,1216.16 1075.64,1216.91 \n",
       "  1078.37,1201.66 1081.09,1191.35 1083.82,1187.23 1086.54,1179.87 1089.27,1189.73 1091.99,1193.66 1094.72,1199.04 1097.44,1195 1100.17,1181.43 1102.89,1175.02 \n",
       "  1105.62,1157.27 1108.34,1153.36 1111.07,1134.35 1113.79,1125.56 1116.52,1114.41 1119.24,1110.27 1121.97,1112.92 1124.69,1122.86 1127.42,1128.83 1130.14,1130.14 \n",
       "  1132.87,1129.37 1135.59,1119.33 1138.32,1119.99 1141.04,1112.52 1143.77,1105.52 1146.49,1100.39 1149.22,1096.59 1151.94,1087.72 1154.67,1084.08 1157.39,1075.2 \n",
       "  1160.12,1067.27 1162.84,1055.17 1165.57,1049.86 1168.29,1047.57 1171.02,1048.43 1173.74,1049.61 1176.47,1049.48 1179.19,1043.98 1181.92,1041.44 1184.64,1033.19 \n",
       "  1187.37,1033.93 1190.09,1028.69 1192.82,1032.28 1195.54,1028.01 1198.27,1031.36 1200.99,1026.03 1203.72,1024.83 1206.44,1019.05 1209.17,1018.41 1211.89,1012.54 \n",
       "  1214.62,1005.51 1217.34,996.003 1220.06,978.064 1222.79,974.449 1225.51,975.65 1228.24,972.213 1230.96,971.588 1233.69,961.939 1236.41,958.285 1239.14,951.667 \n",
       "  1241.86,949.895 1244.59,937.164 1247.31,934.808 1250.04,927.178 1252.76,928.472 1255.49,932.039 1258.21,926.689 1260.94,928.021 1263.66,922.343 1266.39,917.394 \n",
       "  1269.11,908.142 1271.84,903.297 1274.56,888.637 1277.29,886.289 1280.01,877.952 1282.74,877.371 1285.46,867.772 1288.19,869.679 1290.91,866.211 1293.64,865.266 \n",
       "  1296.36,861.454 1299.09,865.134 1301.81,868.438 1304.54,886.874 1307.26,885.969 1309.99,896.114 1312.71,892.217 1315.44,886.118 1318.16,859.737 1320.89,820.019 \n",
       "  1323.61,792.61 1326.34,762.115 1329.06,744.901 1331.79,731.125 1334.51,732.822 1337.24,725.642 1339.96,735.126 1342.69,715.382 1345.41,717.554 1348.14,701.012 \n",
       "  1350.86,702.064 1353.59,691.015 1356.31,690.879 1359.04,662.663 1361.76,641.939 1364.49,619.494 1367.21,606.708 1369.94,596.848 1372.66,603.137 1375.38,590.957 \n",
       "  1378.11,573.585 1380.83,554.388 1383.56,569.622 1386.28,590.207 1389.01,627.262 1391.73,665.287 1394.46,673.931 1397.18,704.171 1399.91,694.323 1402.63,701.13 \n",
       "  1405.36,699.042 1408.08,714.759 1410.81,724.548 1413.53,744.722 1416.26,735.887 1418.98,750.089 1421.71,748.254 1424.43,744.823 1427.16,730.304 1429.88,720.952 \n",
       "  1432.61,705.267 1435.33,694.05 1438.06,694.861 1440.78,695.422 1443.51,693.502 1446.23,703.814 1448.96,693.628 1451.68,697.606 1454.41,668.156 1457.13,654.56 \n",
       "  1459.86,643.869 1462.58,636.368 1465.31,643.122 1468.03,655.679 1470.76,666.066 1473.48,669.808 1476.21,679.853 1478.93,681.602 1481.66,688.77 1484.38,686.999 \n",
       "  1487.11,697.23 1489.83,702.182 1492.56,707.844 1495.28,733.773 1498.01,730.221 1500.73,734.507 1503.46,706.029 1506.18,691.636 1508.91,674.556 1511.63,678.526 \n",
       "  1514.36,669.637 1517.08,669.704 1519.81,662.924 1522.53,656.665 1525.25,651.849 1527.98,656.845 1530.7,657.596 1533.43,663.254 1536.15,675.166 1538.88,684.988 \n",
       "  1541.6,686.333 1544.33,689.387 1547.05,678.88 1549.78,662.841 1552.5,644.149 1555.23,633.769 1557.95,624.887 1560.68,623.43 1563.4,616.565 1566.13,620.792 \n",
       "  1568.85,619.869 1571.58,620.31 1574.3,625.915 1577.03,614.864 1579.75,599.002 1582.48,589.822 1585.2,577.503 1587.93,578.987 1590.65,564.671 1593.38,560.275 \n",
       "  1596.1,549.558 1598.83,532.786 1601.55,518.277 1604.28,518.688 1607,514.355 1609.73,530.207 1612.45,538.072 1615.18,551.978 1617.9,560.151 1620.63,549.198 \n",
       "  1623.35,555.798 1626.08,553.475 1628.8,554.238 1631.53,554.724 1634.25,565.641 1636.98,565.859 1639.7,564.237 1642.43,542.187 1645.15,518.927 1647.88,486.009 \n",
       "  1650.6,460.43 1653.33,447.697 1656.05,451.792 1658.78,476.433 1661.5,496.247 1664.23,506.614 1666.95,515.137 1669.68,507.422 1672.4,497.871 1675.13,495.813 \n",
       "  1677.85,490.862 1680.57,496.297 1683.3,498.043 1686.02,502.954 1688.75,506.621 1691.47,520.256 1694.2,530.623 1696.92,543.791 1699.65,556.83 1702.37,574.179 \n",
       "  1705.1,579.762 1707.82,601.095 1710.55,613.861 1713.27,610.933 1716,603.669 1718.72,611.533 1721.45,612.918 1724.17,627.354 1726.9,639.901 1729.62,653.925 \n",
       "  1732.35,643.173 1735.07,651.701 1737.8,633.801 1740.52,637.271 1743.25,613.833 1745.97,616.681 1748.7,610.422 1751.42,629.582 1754.15,623.537 1756.87,632.21 \n",
       "  1759.6,630.779 1762.32,637.536 1765.05,633.969 1767.77,640.391 1770.5,638.217 1773.22,640.594 1775.95,629.957 1778.67,624.763 1781.4,606.106 1784.12,599.06 \n",
       "  1786.85,577.516 1789.57,564.644 1792.3,548.132 1795.02,541.287 1797.75,527.748 1800.47,532.256 1803.2,516.876 1805.92,522.957 1808.65,512.954 1811.37,523.28 \n",
       "  1814.1,518.76 1816.82,528.637 1819.55,515.441 1822.27,521.638 1825,511.949 1827.72,520.151 1830.44,519.621 1833.17,531.529 1835.89,535.556 1838.62,557.741 \n",
       "  1841.34,553.112 1844.07,562.99 1846.79,560.517 1849.52,575.309 1852.24,581.781 1854.97,601.34 1857.69,591.806 1860.42,597.215 1863.14,590.409 1865.87,596.722 \n",
       "  1868.59,590.576 1871.32,594.444 1874.04,590.754 1876.77,586.037 1879.49,585.777 1882.22,586.525 1884.94,593.268 1887.67,597.533 1890.39,602.508 1893.12,604.339 \n",
       "  1895.84,605.713 1898.57,597.561 1901.29,597.528 1904.02,587.11 1906.74,589.042 1909.47,584.021 1912.19,577.22 1914.92,566.971 1917.64,563.704 1920.37,550.727 \n",
       "  1923.09,550.356 1925.82,544.779 1928.54,536.133 1931.27,529.555 1933.99,525.379 1936.72,522.494 1939.44,520.521 1942.17,512.768 1944.89,505.544 1947.62,496.459 \n",
       "  1950.34,485.762 1953.07,469.961 1955.79,454.296 1958.52,439.055 1961.24,431.232 1963.97,420.205 1966.69,420.663 1969.42,404.351 1972.14,396.858 1974.87,392.024 \n",
       "  1977.59,401.545 1980.32,407.165 1983.04,408.52 1985.76,411.63 1988.49,397.471 1991.21,391.592 1993.94,386.041 1996.66,394.439 1999.39,397.545 2002.11,404.787 \n",
       "  2004.84,405.931 2007.56,404.359 2010.29,397.627 2013.01,398.087 2015.74,394.627 2018.46,399.8 2021.19,399.876 2023.91,405.15 2026.64,397.171 2029.36,390.368 \n",
       "  2032.09,378.982 2034.81,369.025 2037.54,374.403 2040.26,381.961 2042.99,385.216 2045.71,385.262 2048.44,379.098 2051.16,376.942 2053.89,377.961 2056.61,380.258 \n",
       "  2059.34,371.445 2062.06,361.492 2064.79,355.32 2067.51,342.146 2070.24,338.433 2072.96,326.801 2075.69,321.077 2078.41,320.86 2081.14,331.693 2083.86,349.605 \n",
       "  2086.59,360.101 2089.31,374.825 2092.04,372.809 2094.76,384.071 2097.49,393.909 2100.21,410.474 2102.94,411.716 2105.66,412.734 2108.39,403.719 2111.11,402.576 \n",
       "  2113.84,408.926 2116.56,421.167 2119.29,428.016 2122.01,438.563 2124.74,441.103 2127.46,451.953 2130.19,443.624 2132.91,447.284 2135.64,435.101 2138.36,437.758 \n",
       "  2141.08,432.691 2143.81,443.359 2146.53,436.982 2149.26,434.413 2151.98,421.363 2154.71,407.394 2157.43,391.352 2160.16,383.608 2162.88,376.688 2165.61,378.354 \n",
       "  2168.33,375.704 2171.06,377.467 2173.78,369.21 2176.51,363.521 2179.23,368.302 2181.96,364.289 2184.68,365.424 2187.41,360.75 2190.13,360.079 2192.86,355.659 \n",
       "  2195.58,359.618 2198.31,362.336 2201.03,375.139 2203.76,371.988 2206.48,374.682 2209.21,367.517 2211.93,358.03 2214.66,337.146 2217.38,314.204 2220.11,291.584 \n",
       "  2222.83,276.027 2225.56,264.449 2228.28,270.445 2231.01,276.576 2233.73,261.843 2236.46,253.818 2239.18,242.135 2241.91,239.943 2244.63,237.36 2247.36,220.669 \n",
       "  2250.08,194.092 2252.81,167.699 2255.53,139.869 2258.26,121.018 2260.98,128.241 2263.71,114.832 2266.43,125.164 2269.16,141.351 2271.88,149.798 2274.61,161.876 \n",
       "  2277.33,151.63 2280.06,144.126 2282.78,120.724 2285.51,105.682 2288.23,97.3518 2290.95,93.6052 \n",
       "  \"/>\n",
       "<polyline clip-path=\"url(#clip442)\" style=\"stroke:#3da44d; stroke-linecap:round; stroke-linejoin:round; stroke-width:4; stroke-opacity:1; fill:none\" points=\"\n",
       "  241.822,654.455 244.547,998.264 247.272,1270.79 249.997,1293.17 252.722,1251.42 255.446,1337.4 258.171,1414.68 260.896,1429.67 263.621,1414.65 266.346,1413.57 \n",
       "  269.071,1418.42 271.796,1419.36 274.521,1413.72 277.246,1409.56 279.971,1410.12 282.696,1401.73 285.421,1391.9 288.145,1388.7 290.87,1379.67 293.595,1372.49 \n",
       "  296.32,1370.24 299.045,1370.53 301.77,1374.15 304.495,1377.32 307.22,1376.96 309.945,1376.92 312.67,1376.61 315.395,1377.85 318.119,1377.43 320.844,1376.08 \n",
       "  323.569,1375.36 326.294,1373.94 329.019,1370.71 331.744,1369.38 334.469,1368.07 337.194,1369.08 339.919,1368.8 342.644,1366.26 345.369,1365.47 348.093,1366.72 \n",
       "  350.818,1369.78 353.543,1372.14 356.268,1364.93 358.993,1357.4 361.718,1353.09 364.443,1349.08 367.168,1344.47 369.893,1339.75 372.618,1337.57 375.343,1336.18 \n",
       "  378.067,1327.28 380.792,1326.05 383.517,1330.26 386.242,1334.64 388.967,1336.18 391.692,1335.83 394.417,1332.11 397.142,1330.78 399.867,1326.34 402.592,1322.78 \n",
       "  405.317,1319.37 408.042,1316.83 410.766,1311.53 413.491,1309.41 416.216,1307.31 418.941,1308.21 421.666,1309.76 424.391,1310.12 427.116,1309.37 429.841,1305.44 \n",
       "  432.566,1300.88 435.291,1299.17 438.016,1294.47 440.74,1291.86 443.465,1293.79 446.19,1295.48 448.915,1296.76 451.64,1301.96 454.365,1293.51 457.09,1287.92 \n",
       "  459.815,1284.23 462.54,1285.68 465.265,1293.57 467.99,1301.01 470.714,1302.23 473.439,1310.42 476.164,1326.62 478.889,1335.48 481.614,1334.93 484.339,1333.61 \n",
       "  487.064,1334.76 489.789,1341.54 492.514,1345.66 495.239,1346.93 497.964,1352.41 500.688,1356.26 503.413,1358.63 506.138,1362.82 508.863,1360.79 511.588,1364.65 \n",
       "  514.313,1369.3 517.038,1364.14 519.763,1355.67 522.488,1348.43 525.213,1338.14 527.938,1330.41 530.662,1324.76 533.387,1320.8 536.112,1320.21 538.837,1322 \n",
       "  541.562,1321.79 544.287,1316.33 547.012,1312.86 549.737,1311.03 552.462,1310.24 555.187,1311.25 557.912,1315.08 560.637,1311.68 563.361,1309.71 566.086,1310.8 \n",
       "  568.811,1308.5 571.536,1304.03 574.261,1301.51 576.986,1298.24 579.711,1302.79 582.436,1305.66 585.161,1302.76 587.886,1303.04 590.611,1301.62 593.335,1298.29 \n",
       "  596.06,1298.49 598.785,1299.45 601.51,1297.01 604.235,1299.37 606.96,1295.97 609.685,1290.45 612.41,1288.39 615.135,1290.3 617.86,1289.73 620.585,1288.68 \n",
       "  623.309,1286.74 626.034,1282.08 628.759,1283.79 631.484,1292.73 634.209,1309.97 636.934,1315.88 639.659,1314.58 642.384,1306.32 645.109,1306.04 647.834,1306.84 \n",
       "  650.559,1300.29 653.283,1298.17 656.008,1302.12 658.733,1296.44 661.458,1289.77 664.183,1286.55 666.908,1279.71 669.633,1279.42 672.358,1290.73 675.083,1294.18 \n",
       "  677.808,1295.29 680.533,1296.25 683.258,1291.48 685.982,1288.08 688.707,1293.85 691.432,1290.03 694.157,1283.71 696.882,1278.76 699.607,1275.81 702.332,1271.55 \n",
       "  705.057,1262.22 707.782,1255.55 710.507,1258.08 713.232,1260.28 715.956,1259.88 718.681,1257.44 721.406,1256.08 724.131,1261.24 726.856,1264.79 729.581,1266.11 \n",
       "  732.306,1263.19 735.031,1260.95 737.756,1262.79 740.481,1258.67 743.206,1253.23 745.93,1258.46 748.655,1259.19 751.38,1252.21 754.105,1247.61 756.83,1247.86 \n",
       "  759.555,1246.01 762.28,1242.42 765.005,1232.21 767.73,1224.82 770.455,1223.63 773.18,1225.94 775.904,1225.64 778.629,1223.97 781.354,1216.63 784.079,1214.28 \n",
       "  786.804,1210.26 789.529,1207.54 792.254,1202.49 794.979,1196.72 797.704,1199.41 800.429,1204.57 803.154,1198.85 805.878,1187.15 808.603,1177.34 811.328,1173.19 \n",
       "  814.053,1173.96 816.778,1171.42 819.503,1168.04 822.228,1162.93 824.953,1161.45 827.678,1159.06 830.403,1159.72 833.128,1156.59 835.853,1152.78 838.577,1151.47 \n",
       "  841.302,1156.06 844.027,1159.47 846.752,1162.86 849.477,1157.57 852.202,1156.35 854.927,1152.82 857.652,1151.45 860.377,1154.73 863.102,1163.09 865.827,1163.59 \n",
       "  868.551,1160 871.276,1149.58 874.001,1148.91 876.726,1148.68 879.451,1146.4 882.176,1142.62 884.901,1136.46 887.626,1125.67 890.351,1121.76 893.076,1120.38 \n",
       "  895.801,1119.84 898.525,1120.44 901.25,1115.4 903.975,1110.81 906.7,1103.29 909.425,1098.74 912.15,1095.31 914.875,1091.5 917.6,1080 920.325,1077.91 \n",
       "  923.05,1074.35 925.775,1075.22 928.499,1070.29 931.224,1059.62 933.949,1050.27 936.674,1041.62 939.399,1039.35 942.124,1044.16 944.849,1040.51 947.574,1032.69 \n",
       "  950.299,1032.7 953.024,1030.58 955.749,1030.13 958.474,1030.34 961.198,1041.27 963.923,1038.19 966.648,1026.51 969.373,1020.03 972.098,1034.77 974.823,1046.68 \n",
       "  977.548,1042.59 980.273,1030.05 982.998,1019.92 985.723,1019.85 988.448,1025.35 991.172,1027.74 993.897,1017.57 996.622,1013.79 999.347,1012.79 1002.07,1022.54 \n",
       "  1004.8,1021.59 1007.52,1024.6 1010.25,1032.49 1012.97,1058.3 1015.7,1084.61 1018.42,1095.44 1021.15,1115.99 1023.87,1133.2 1026.6,1108.22 1029.32,1101.19 \n",
       "  1032.05,1088.38 1034.77,1082.96 1037.5,1096.11 1040.22,1125.46 1042.95,1119.46 1045.67,1125.35 1048.4,1159.46 1051.12,1151.33 1053.85,1175.3 1056.57,1195.7 \n",
       "  1059.3,1193.69 1062.02,1200.39 1064.75,1224.02 1067.47,1238.4 1070.19,1228.78 1072.92,1209.26 1075.64,1191.68 1078.37,1187.52 1081.09,1187.95 1083.82,1185.15 \n",
       "  1086.54,1193.53 1089.27,1202.01 1091.99,1202.85 1094.72,1187.56 1097.44,1171.58 1100.17,1160.57 1102.89,1153.93 1105.62,1142.41 1108.34,1123.72 1111.07,1106.42 \n",
       "  1113.79,1105.25 1116.52,1105.81 1119.24,1117.61 1121.97,1134.19 1124.69,1131.7 1127.42,1131.96 1130.14,1122.31 1132.87,1116.68 1135.59,1119.72 1138.32,1114.56 \n",
       "  1141.04,1097.2 1143.77,1096.65 1146.49,1091.15 1149.22,1083.68 1151.94,1077.8 1154.67,1068.51 1157.39,1055.63 1160.12,1045.29 1162.84,1043.09 1165.57,1048.65 \n",
       "  1168.29,1049.79 1171.02,1052.21 1173.74,1045.02 1176.47,1040.79 1179.19,1034.89 1181.92,1033.73 1184.64,1030.96 1187.37,1032.95 1190.09,1030.29 1192.82,1031.4 \n",
       "  1195.54,1029.64 1198.27,1027.17 1200.99,1021.15 1203.72,1017.98 1206.44,1018.35 1209.17,1009.45 1211.89,1000.17 1214.62,983.113 1217.34,962.474 1220.06,970.847 \n",
       "  1222.79,980.882 1225.51,974.762 1228.24,962.664 1230.96,953.089 1233.69,948.169 1236.41,955.63 1239.14,945.59 1241.86,929.576 1244.59,925.095 1247.31,923.617 \n",
       "  1250.04,933.932 1252.76,935.498 1255.49,925.972 1258.21,921.001 1260.94,923.463 1263.66,909.808 1266.39,907.345 1269.11,892.321 1271.84,882.116 1274.56,877.368 \n",
       "  1277.29,879.421 1280.01,870.686 1282.74,864.54 1285.46,864.455 1288.19,869.587 1290.91,861.735 1293.64,863.647 1296.36,863.775 1299.09,883.785 1301.81,901.781 \n",
       "  1304.54,898.482 1307.26,897.493 1309.99,894.657 1312.71,881.394 1315.44,833.541 1318.16,783.364 1320.89,757.205 1323.61,748.937 1326.34,722.114 1329.06,723.985 \n",
       "  1331.79,713.89 1334.51,727.835 1337.24,723.455 1339.96,709.881 1342.69,696.943 1345.41,700.86 1348.14,692.873 1350.86,695.76 1353.59,677.883 1356.31,639.407 \n",
       "  1359.04,608.571 1361.76,602.785 1364.49,593.915 1367.21,596.248 1369.94,600.884 1372.66,578.845 1375.38,541.708 1378.11,536.755 1380.83,587.886 1383.56,626.284 \n",
       "  1386.28,678.398 1389.01,687.992 1391.73,696.881 1394.46,715.004 1397.18,716.234 1399.91,703.646 1402.63,722.92 1405.36,730.642 1408.08,759.589 1410.81,759.32 \n",
       "  1413.53,741.824 1416.26,754.062 1418.98,764.701 1421.71,745.729 1424.43,723.367 1427.16,708.421 1429.88,695.016 1432.61,689.014 1435.33,701.53 1438.06,694.054 \n",
       "  1440.78,698.173 1443.51,701.702 1446.23,698.509 1448.96,687.213 1451.68,650.831 1454.41,632.198 1457.13,639.829 1459.86,638.494 1462.58,650.747 1465.31,672.235 \n",
       "  1468.03,670.047 1470.76,678.48 1473.48,685.766 1476.21,695.158 1478.93,698.152 1481.66,694.987 1484.38,712.1 1487.11,709.869 1489.83,731.062 1492.56,751.879 \n",
       "  1495.28,750.086 1498.01,721.225 1500.73,692.843 1503.46,665.925 1506.18,679.462 1508.91,684.718 1511.63,672.045 1514.36,658.484 1517.08,653.403 1519.81,649.459 \n",
       "  1522.53,653.859 1525.25,664.388 1527.98,662.551 1530.7,669.071 1533.43,690.863 1536.15,698.02 1538.88,694.43 1541.6,690.162 1544.33,674.089 1547.05,646.927 \n",
       "  1549.78,632.821 1552.5,624.837 1555.23,625.39 1557.95,620.224 1560.68,612.672 1563.4,619.169 1566.13,621.704 1568.85,624.167 1571.58,631.835 1574.3,604.737 \n",
       "  1577.03,583.483 1579.75,576.79 1582.48,578.882 1585.2,578.022 1587.93,559.701 1590.65,544.161 1593.38,540.93 1596.1,513.61 1598.83,509.605 1601.55,515.232 \n",
       "  1604.28,520.556 1607,543.406 1609.73,550.892 1612.45,566.252 1615.18,564.117 1617.9,549.273 1620.63,557.028 1623.35,569.002 1626.08,557.105 1628.8,566.509 \n",
       "  1631.53,573.569 1634.25,576.993 1636.98,560.047 1639.7,524.126 1642.43,489.296 1645.15,457.564 1647.88,439.685 1650.6,439.245 1653.33,461.68 1656.05,500.899 \n",
       "  1658.78,516.441 1661.5,511.799 1664.23,516.787 1666.95,503.378 1669.68,498.446 1672.4,500.717 1675.13,499.168 1677.85,502.261 1680.57,508.269 1683.3,505.753 \n",
       "  1686.02,518.073 1688.75,535.758 1691.47,553.024 1694.2,559.578 1696.92,579.667 1699.65,592.686 1702.37,600.861 1705.1,625.67 1707.82,640.662 1710.55,610.68 \n",
       "  1713.27,604.91 1716,619.785 1718.72,637.79 1721.45,645.06 1724.17,668.428 1726.9,655.024 1729.62,651.635 1732.35,644.871 1735.07,644.959 1737.8,626.713 \n",
       "  1740.52,615.498 1743.25,603.038 1745.97,626.538 1748.7,639.992 1751.42,634.801 1754.15,626.506 1756.87,637.618 1759.6,643.22 1762.32,646.048 1765.05,644.329 \n",
       "  1767.77,645.312 1770.5,639.066 1773.22,631.48 1775.95,612.891 1778.67,598.862 1781.4,584.561 1784.12,568.275 1786.85,542.885 1789.57,539.849 1792.3,524.267 \n",
       "  1795.02,527.347 1797.75,521.248 1800.47,516.266 1803.2,510.029 1805.92,520.602 1808.65,520.196 1811.37,533.369 1814.1,524.184 1816.82,518.151 1819.55,514.466 \n",
       "  1822.27,521.255 1825,522.807 1827.72,536.334 1830.44,535.421 1833.17,556.383 1835.89,571.133 1838.62,569.029 1841.34,561.51 1844.07,576.508 1846.79,587.137 \n",
       "  1849.52,613.418 1852.24,614.406 1854.97,597.641 1857.69,590.701 1860.42,601.622 1863.14,606.201 1865.87,599.564 1868.59,596.401 1871.32,589.434 1874.04,586.527 \n",
       "  1876.77,588.036 1879.49,596.681 1882.22,600.936 1884.94,609.589 1887.67,606.294 1890.39,613.045 1893.12,605.662 1895.84,600.449 1898.57,594.211 1901.29,588.948 \n",
       "  1904.02,589.05 1906.74,588.603 1909.47,567.492 1912.19,560.912 1914.92,556.793 1917.64,547.067 1920.37,548.88 1923.09,543.004 1925.82,526.454 1928.54,522.448 \n",
       "  1931.27,523.124 1933.99,523.925 1936.72,519.993 1939.44,506.115 1942.17,495.418 1944.89,490.283 1947.62,476.03 1950.34,457.733 1953.07,434.238 1955.79,427.572 \n",
       "  1958.52,419.839 1961.24,418.378 1963.97,412.316 1966.69,392.354 1969.42,380.24 1972.14,392.584 1974.87,416.064 1977.59,417.076 1980.32,412.999 1983.04,403.96 \n",
       "  1985.76,392.061 1988.49,383.369 1991.21,395.733 1993.94,404.429 1996.66,411.175 1999.39,409.054 2002.11,410.251 2004.84,401.967 2007.56,399.895 2010.29,400.587 \n",
       "  2013.01,402.864 2015.74,405.115 2018.46,409.413 2021.19,408.35 2023.91,395.196 2026.64,383.026 2029.36,370.846 2032.09,366.118 2034.81,385.159 2037.54,397.658 \n",
       "  2040.26,390.853 2042.99,381.569 2045.71,373.592 2048.44,378.579 2051.16,390.161 2053.89,388.505 2056.61,363.524 2059.34,351.09 2062.06,347.641 2064.79,341.153 \n",
       "  2067.51,334.59 2070.24,320.042 2072.96,312.619 2075.69,323.333 2078.41,352.025 2081.14,369.173 2083.86,380.562 2086.59,380.154 2089.31,382.735 2092.04,394.795 \n",
       "  2094.76,424.572 2097.49,432.182 2100.21,424.548 2102.94,409.531 2105.66,402.661 2108.39,408.574 2111.11,431.789 2113.84,439.692 2116.56,443.873 2119.29,442.639 \n",
       "  2122.01,456.789 2124.74,459.848 2127.46,455.894 2130.19,442.53 2132.91,439.707 2135.64,435.357 2138.36,446.602 2141.08,450.787 2143.81,441.162 2146.53,425.337 \n",
       "  2149.26,412.359 2151.98,393.761 2154.71,382.478 2157.43,377.576 2160.16,376.008 2162.88,378.621 2165.61,376.331 2168.33,376.253 2171.06,360.912 2173.78,361.692 \n",
       "  2176.51,372.949 2179.23,372.861 2181.96,362.989 2184.68,362.081 2187.41,355.498 2190.13,362.363 2192.86,363.865 2195.58,376.994 2198.31,384.918 2201.03,379.364 \n",
       "  2203.76,372.817 2206.48,367.77 2209.21,349.697 2211.93,322.095 2214.66,290.776 2217.38,271.026 2220.11,263.028 2222.83,257.408 2225.56,279.169 2228.28,278.046 \n",
       "  2231.01,247.642 2233.73,232.948 2236.46,235.166 2239.18,244.335 2241.91,242.504 2244.63,202.47 2247.36,156.581 2250.08,139.143 2252.81,112.871 2255.53,116.369 \n",
       "  2258.26,128.252 2260.98,108.548 2263.71,124.862 2266.43,156.49 2269.16,168.83 2271.88,168.049 2274.61,149.72 2277.33,127.129 2280.06,109.531 2282.78,96.3859 \n",
       "  2285.51,97.587 2288.23,97.3552 2290.95,102.41 \n",
       "  \"/>\n",
       "<path clip-path=\"url(#clip440)\" d=\"\n",
       "M241.909 302.578 L1560.13 302.578 L1560.13 95.2176 L241.909 95.2176  Z\n",
       "  \" fill=\"#ffffff\" fill-rule=\"evenodd\" fill-opacity=\"1\"/>\n",
       "<polyline clip-path=\"url(#clip440)\" style=\"stroke:#000000; stroke-linecap:round; stroke-linejoin:round; stroke-width:4; stroke-opacity:1; fill:none\" points=\"\n",
       "  241.909,302.578 1560.13,302.578 1560.13,95.2176 241.909,95.2176 241.909,302.578 \n",
       "  \"/>\n",
       "<polyline clip-path=\"url(#clip440)\" style=\"stroke:#009af9; stroke-linecap:round; stroke-linejoin:round; stroke-width:4; stroke-opacity:1; fill:none\" points=\"\n",
       "  266.172,147.058 411.747,147.058 \n",
       "  \"/>\n",
       "<path clip-path=\"url(#clip440)\" d=\"M451.843 134.384 L445.501 151.583 L458.209 151.583 L451.843 134.384 M449.204 129.778 L454.505 129.778 L467.676 164.338 L462.815 164.338 L459.667 155.472 L444.089 155.472 L440.941 164.338 L436.01 164.338 L449.204 129.778 Z\" fill=\"#000000\" fill-rule=\"evenodd\" fill-opacity=\"1\" /><path clip-path=\"url(#clip440)\" d=\"M490.362 139.407 L490.362 143.389 Q488.556 142.393 486.727 141.907 Q484.922 141.398 483.07 141.398 Q478.926 141.398 476.635 144.037 Q474.343 146.652 474.343 151.398 Q474.343 156.143 476.635 158.782 Q478.926 161.398 483.07 161.398 Q484.922 161.398 486.727 160.912 Q488.556 160.402 490.362 159.407 L490.362 163.342 Q488.579 164.176 486.658 164.592 Q484.76 165.009 482.607 165.009 Q476.751 165.009 473.301 161.328 Q469.852 157.648 469.852 151.398 Q469.852 145.055 473.325 141.421 Q476.82 137.787 482.885 137.787 Q484.852 137.787 486.727 138.203 Q488.602 138.597 490.362 139.407 Z\" fill=\"#000000\" fill-rule=\"evenodd\" fill-opacity=\"1\" /><path clip-path=\"url(#clip440)\" d=\"M501.982 131.051 L501.982 138.412 L510.755 138.412 L510.755 141.722 L501.982 141.722 L501.982 155.796 Q501.982 158.967 502.838 159.87 Q503.718 160.773 506.38 160.773 L510.755 160.773 L510.755 164.338 L506.38 164.338 Q501.449 164.338 499.574 162.509 Q497.699 160.657 497.699 155.796 L497.699 141.722 L494.574 141.722 L494.574 138.412 L497.699 138.412 L497.699 131.051 L501.982 131.051 Z\" fill=\"#000000\" fill-rule=\"evenodd\" fill-opacity=\"1\" /><path clip-path=\"url(#clip440)\" d=\"M515.917 154.106 L515.917 138.412 L520.176 138.412 L520.176 153.944 Q520.176 157.625 521.611 159.476 Q523.047 161.305 525.917 161.305 Q529.366 161.305 531.357 159.106 Q533.371 156.907 533.371 153.111 L533.371 138.412 L537.63 138.412 L537.63 164.338 L533.371 164.338 L533.371 160.356 Q531.82 162.717 529.759 163.875 Q527.722 165.009 525.014 165.009 Q520.547 165.009 518.232 162.231 Q515.917 159.453 515.917 154.106 M526.635 137.787 L526.635 137.787 Z\" fill=\"#000000\" fill-rule=\"evenodd\" fill-opacity=\"1\" /><path clip-path=\"url(#clip440)\" d=\"M558.185 151.305 Q553.023 151.305 551.033 152.486 Q549.042 153.666 549.042 156.514 Q549.042 158.782 550.523 160.125 Q552.028 161.444 554.597 161.444 Q558.139 161.444 560.269 158.944 Q562.421 156.421 562.421 152.254 L562.421 151.305 L558.185 151.305 M566.681 149.546 L566.681 164.338 L562.421 164.338 L562.421 160.402 Q560.963 162.763 558.787 163.898 Q556.611 165.009 553.463 165.009 Q549.482 165.009 547.121 162.787 Q544.783 160.541 544.783 156.791 Q544.783 152.416 547.699 150.194 Q550.639 147.972 556.449 147.972 L562.421 147.972 L562.421 147.555 Q562.421 144.615 560.477 143.018 Q558.556 141.398 555.06 141.398 Q552.838 141.398 550.732 141.93 Q548.625 142.463 546.681 143.527 L546.681 139.592 Q549.019 138.69 551.218 138.25 Q553.417 137.787 555.5 137.787 Q561.125 137.787 563.903 140.703 Q566.681 143.62 566.681 149.546 Z\" fill=\"#000000\" fill-rule=\"evenodd\" fill-opacity=\"1\" /><path clip-path=\"url(#clip440)\" d=\"M575.454 128.319 L579.713 128.319 L579.713 164.338 L575.454 164.338 L575.454 128.319 Z\" fill=\"#000000\" fill-rule=\"evenodd\" fill-opacity=\"1\" /><path clip-path=\"url(#clip440)\" d=\"M629.759 132.44 L629.759 137.37 Q627.398 135.171 624.713 134.083 Q622.051 132.995 619.041 132.995 Q613.116 132.995 609.967 136.629 Q606.819 140.24 606.819 147.092 Q606.819 153.921 609.967 157.555 Q613.116 161.166 619.041 161.166 Q622.051 161.166 624.713 160.078 Q627.398 158.99 629.759 156.791 L629.759 161.676 Q627.305 163.342 624.551 164.176 Q621.819 165.009 618.764 165.009 Q610.916 165.009 606.403 160.217 Q601.889 155.402 601.889 147.092 Q601.889 138.759 606.403 133.967 Q610.916 129.153 618.764 129.153 Q621.865 129.153 624.597 129.986 Q627.352 130.796 629.759 132.44 Z\" fill=\"#000000\" fill-rule=\"evenodd\" fill-opacity=\"1\" /><path clip-path=\"url(#clip440)\" d=\"M636.796 128.319 L641.055 128.319 L641.055 164.338 L636.796 164.338 L636.796 128.319 Z\" fill=\"#000000\" fill-rule=\"evenodd\" fill-opacity=\"1\" /><path clip-path=\"url(#clip440)\" d=\"M660.013 141.398 Q656.588 141.398 654.597 144.083 Q652.606 146.745 652.606 151.398 Q652.606 156.051 654.574 158.736 Q656.564 161.398 660.013 161.398 Q663.416 161.398 665.407 158.713 Q667.398 156.027 667.398 151.398 Q667.398 146.791 665.407 144.106 Q663.416 141.398 660.013 141.398 M660.013 137.787 Q665.569 137.787 668.74 141.398 Q671.912 145.009 671.912 151.398 Q671.912 157.764 668.74 161.398 Q665.569 165.009 660.013 165.009 Q654.435 165.009 651.263 161.398 Q648.115 157.764 648.115 151.398 Q648.115 145.009 651.263 141.398 Q654.435 137.787 660.013 137.787 Z\" fill=\"#000000\" fill-rule=\"evenodd\" fill-opacity=\"1\" /><path clip-path=\"url(#clip440)\" d=\"M695.499 139.176 L695.499 143.203 Q693.694 142.277 691.749 141.815 Q689.805 141.352 687.722 141.352 Q684.55 141.352 682.953 142.324 Q681.379 143.296 681.379 145.24 Q681.379 146.722 682.513 147.578 Q683.648 148.412 687.073 149.176 L688.532 149.5 Q693.069 150.472 694.967 152.254 Q696.888 154.014 696.888 157.185 Q696.888 160.796 694.018 162.902 Q691.171 165.009 686.171 165.009 Q684.087 165.009 681.819 164.592 Q679.573 164.199 677.074 163.388 L677.074 158.99 Q679.435 160.217 681.726 160.842 Q684.018 161.444 686.263 161.444 Q689.273 161.444 690.893 160.426 Q692.513 159.384 692.513 157.509 Q692.513 155.773 691.333 154.847 Q690.175 153.921 686.217 153.064 L684.736 152.717 Q680.777 151.884 679.018 150.171 Q677.259 148.435 677.259 145.426 Q677.259 141.768 679.851 139.778 Q682.444 137.787 687.212 137.787 Q689.573 137.787 691.657 138.134 Q693.74 138.481 695.499 139.176 Z\" fill=\"#000000\" fill-rule=\"evenodd\" fill-opacity=\"1\" /><path clip-path=\"url(#clip440)\" d=\"M703.671 138.412 L707.93 138.412 L707.93 164.338 L703.671 164.338 L703.671 138.412 M703.671 128.319 L707.93 128.319 L707.93 133.713 L703.671 133.713 L703.671 128.319 Z\" fill=\"#000000\" fill-rule=\"evenodd\" fill-opacity=\"1\" /><path clip-path=\"url(#clip440)\" d=\"M738.393 148.689 L738.393 164.338 L734.133 164.338 L734.133 148.828 Q734.133 145.148 732.698 143.319 Q731.263 141.49 728.393 141.49 Q724.944 141.49 722.953 143.69 Q720.962 145.889 720.962 149.685 L720.962 164.338 L716.68 164.338 L716.68 138.412 L720.962 138.412 L720.962 142.44 Q722.49 140.102 724.55 138.944 Q726.633 137.787 729.342 137.787 Q733.809 137.787 736.101 140.565 Q738.393 143.319 738.393 148.689 Z\" fill=\"#000000\" fill-rule=\"evenodd\" fill-opacity=\"1\" /><path clip-path=\"url(#clip440)\" d=\"M763.948 151.074 Q763.948 146.444 762.027 143.898 Q760.129 141.352 756.68 141.352 Q753.254 141.352 751.332 143.898 Q749.434 146.444 749.434 151.074 Q749.434 155.68 751.332 158.226 Q753.254 160.773 756.68 160.773 Q760.129 160.773 762.027 158.226 Q763.948 155.68 763.948 151.074 M768.207 161.12 Q768.207 167.74 765.267 170.958 Q762.328 174.199 756.263 174.199 Q754.018 174.199 752.027 173.851 Q750.036 173.527 748.161 172.833 L748.161 168.689 Q750.036 169.708 751.865 170.194 Q753.693 170.68 755.592 170.68 Q759.781 170.68 761.865 168.481 Q763.948 166.305 763.948 161.884 L763.948 159.777 Q762.629 162.069 760.568 163.203 Q758.508 164.338 755.638 164.338 Q750.869 164.338 747.953 160.703 Q745.036 157.069 745.036 151.074 Q745.036 145.055 747.953 141.421 Q750.869 137.787 755.638 137.787 Q758.508 137.787 760.568 138.921 Q762.629 140.055 763.948 142.347 L763.948 138.412 L768.207 138.412 L768.207 161.12 Z\" fill=\"#000000\" fill-rule=\"evenodd\" fill-opacity=\"1\" /><path clip-path=\"url(#clip440)\" d=\"M796.911 133.62 L796.911 146.606 L802.79 146.606 Q806.054 146.606 807.837 144.916 Q809.619 143.227 809.619 140.102 Q809.619 137 807.837 135.31 Q806.054 133.62 802.79 133.62 L796.911 133.62 M792.235 129.778 L802.79 129.778 Q808.601 129.778 811.564 132.416 Q814.55 135.032 814.55 140.102 Q814.55 145.217 811.564 147.833 Q808.601 150.449 802.79 150.449 L796.911 150.449 L796.911 164.338 L792.235 164.338 L792.235 129.778 Z\" fill=\"#000000\" fill-rule=\"evenodd\" fill-opacity=\"1\" /><path clip-path=\"url(#clip440)\" d=\"M834.827 142.393 Q834.11 141.977 833.253 141.791 Q832.42 141.583 831.401 141.583 Q827.79 141.583 825.846 143.944 Q823.925 146.282 823.925 150.68 L823.925 164.338 L819.642 164.338 L819.642 138.412 L823.925 138.412 L823.925 142.44 Q825.267 140.078 827.42 138.944 Q829.573 137.787 832.651 137.787 Q833.091 137.787 833.624 137.856 Q834.156 137.903 834.804 138.018 L834.827 142.393 Z\" fill=\"#000000\" fill-rule=\"evenodd\" fill-opacity=\"1\" /><path clip-path=\"url(#clip440)\" d=\"M839.295 138.412 L843.554 138.412 L843.554 164.338 L839.295 164.338 L839.295 138.412 M839.295 128.319 L843.554 128.319 L843.554 133.713 L839.295 133.713 L839.295 128.319 Z\" fill=\"#000000\" fill-rule=\"evenodd\" fill-opacity=\"1\" /><path clip-path=\"url(#clip440)\" d=\"M871.123 139.407 L871.123 143.389 Q869.318 142.393 867.489 141.907 Q865.684 141.398 863.832 141.398 Q859.688 141.398 857.397 144.037 Q855.105 146.652 855.105 151.398 Q855.105 156.143 857.397 158.782 Q859.688 161.398 863.832 161.398 Q865.684 161.398 867.489 160.912 Q869.318 160.402 871.123 159.407 L871.123 163.342 Q869.341 164.176 867.42 164.592 Q865.522 165.009 863.369 165.009 Q857.512 165.009 854.063 161.328 Q850.614 157.648 850.614 151.398 Q850.614 145.055 854.086 141.421 Q857.582 137.787 863.647 137.787 Q865.614 137.787 867.489 138.203 Q869.364 138.597 871.123 139.407 Z\" fill=\"#000000\" fill-rule=\"evenodd\" fill-opacity=\"1\" /><path clip-path=\"url(#clip440)\" d=\"M900.707 150.31 L900.707 152.393 L881.123 152.393 Q881.401 156.791 883.762 159.106 Q886.146 161.398 890.383 161.398 Q892.836 161.398 895.128 160.796 Q897.443 160.194 899.711 158.99 L899.711 163.018 Q897.42 163.99 895.012 164.5 Q892.605 165.009 890.128 165.009 Q883.924 165.009 880.29 161.398 Q876.679 157.787 876.679 151.629 Q876.679 145.264 880.105 141.537 Q883.554 137.787 889.387 137.787 Q894.619 137.787 897.651 141.166 Q900.707 144.523 900.707 150.31 M896.447 149.06 Q896.401 145.565 894.48 143.481 Q892.582 141.398 889.433 141.398 Q885.869 141.398 883.716 143.412 Q881.586 145.426 881.262 149.083 L896.447 149.06 Z\" fill=\"#000000\" fill-rule=\"evenodd\" fill-opacity=\"1\" /><polyline clip-path=\"url(#clip440)\" style=\"stroke:#e26f46; stroke-linecap:round; stroke-linejoin:round; stroke-width:4; stroke-opacity:1; fill:none\" points=\"\n",
       "  266.172,198.898 411.747,198.898 \n",
       "  \"/>\n",
       "<path clip-path=\"url(#clip440)\" d=\"M440.686 185.46 L440.686 198.446 L446.565 198.446 Q449.829 198.446 451.612 196.756 Q453.394 195.067 453.394 191.942 Q453.394 188.84 451.612 187.15 Q449.829 185.46 446.565 185.46 L440.686 185.46 M436.01 181.618 L446.565 181.618 Q452.376 181.618 455.339 184.256 Q458.325 186.872 458.325 191.942 Q458.325 197.057 455.339 199.673 Q452.376 202.289 446.565 202.289 L440.686 202.289 L440.686 216.178 L436.01 216.178 L436.01 181.618 Z\" fill=\"#000000\" fill-rule=\"evenodd\" fill-opacity=\"1\" /><path clip-path=\"url(#clip440)\" d=\"M478.602 194.233 Q477.885 193.817 477.028 193.631 Q476.195 193.423 475.176 193.423 Q471.565 193.423 469.621 195.784 Q467.7 198.122 467.7 202.52 L467.7 216.178 L463.417 216.178 L463.417 190.252 L467.7 190.252 L467.7 194.28 Q469.042 191.918 471.195 190.784 Q473.348 189.627 476.426 189.627 Q476.866 189.627 477.399 189.696 Q477.931 189.743 478.579 189.858 L478.602 194.233 Z\" fill=\"#000000\" fill-rule=\"evenodd\" fill-opacity=\"1\" /><path clip-path=\"url(#clip440)\" d=\"M504.204 202.15 L504.204 204.233 L484.621 204.233 Q484.899 208.631 487.26 210.946 Q489.644 213.238 493.88 213.238 Q496.334 213.238 498.625 212.636 Q500.94 212.034 503.209 210.83 L503.209 214.858 Q500.917 215.83 498.51 216.34 Q496.102 216.849 493.625 216.849 Q487.422 216.849 483.788 213.238 Q480.176 209.627 480.176 203.469 Q480.176 197.104 483.602 193.377 Q487.051 189.627 492.885 189.627 Q498.116 189.627 501.149 193.006 Q504.204 196.363 504.204 202.15 M499.945 200.9 Q499.899 197.405 497.977 195.321 Q496.079 193.238 492.931 193.238 Q489.366 193.238 487.213 195.252 Q485.084 197.266 484.76 200.923 L499.945 200.9 Z\" fill=\"#000000\" fill-rule=\"evenodd\" fill-opacity=\"1\" /><path clip-path=\"url(#clip440)\" d=\"M528.255 194.187 L528.255 180.159 L532.514 180.159 L532.514 216.178 L528.255 216.178 L528.255 212.289 Q526.912 214.603 524.852 215.738 Q522.815 216.849 519.945 216.849 Q515.246 216.849 512.283 213.099 Q509.343 209.349 509.343 203.238 Q509.343 197.127 512.283 193.377 Q515.246 189.627 519.945 189.627 Q522.815 189.627 524.852 190.761 Q526.912 191.872 528.255 194.187 M513.741 203.238 Q513.741 207.937 515.662 210.622 Q517.607 213.284 520.986 213.284 Q524.366 213.284 526.31 210.622 Q528.255 207.937 528.255 203.238 Q528.255 198.539 526.31 195.877 Q524.366 193.192 520.986 193.192 Q517.607 193.192 515.662 195.877 Q513.741 198.539 513.741 203.238 Z\" fill=\"#000000\" fill-rule=\"evenodd\" fill-opacity=\"1\" /><path clip-path=\"url(#clip440)\" d=\"M541.287 190.252 L545.546 190.252 L545.546 216.178 L541.287 216.178 L541.287 190.252 M541.287 180.159 L545.546 180.159 L545.546 185.553 L541.287 185.553 L541.287 180.159 Z\" fill=\"#000000\" fill-rule=\"evenodd\" fill-opacity=\"1\" /><path clip-path=\"url(#clip440)\" d=\"M573.116 191.247 L573.116 195.229 Q571.31 194.233 569.481 193.747 Q567.676 193.238 565.824 193.238 Q561.681 193.238 559.389 195.877 Q557.097 198.492 557.097 203.238 Q557.097 207.983 559.389 210.622 Q561.681 213.238 565.824 213.238 Q567.676 213.238 569.481 212.752 Q571.31 212.242 573.116 211.247 L573.116 215.182 Q571.333 216.016 569.412 216.432 Q567.514 216.849 565.361 216.849 Q559.505 216.849 556.056 213.168 Q552.607 209.488 552.607 203.238 Q552.607 196.895 556.079 193.261 Q559.574 189.627 565.639 189.627 Q567.607 189.627 569.481 190.043 Q571.356 190.437 573.116 191.247 Z\" fill=\"#000000\" fill-rule=\"evenodd\" fill-opacity=\"1\" /><path clip-path=\"url(#clip440)\" d=\"M584.736 182.891 L584.736 190.252 L593.509 190.252 L593.509 193.562 L584.736 193.562 L584.736 207.636 Q584.736 210.807 585.593 211.71 Q586.472 212.613 589.134 212.613 L593.509 212.613 L593.509 216.178 L589.134 216.178 Q584.204 216.178 582.329 214.349 Q580.454 212.497 580.454 207.636 L580.454 193.562 L577.329 193.562 L577.329 190.252 L580.454 190.252 L580.454 182.891 L584.736 182.891 Z\" fill=\"#000000\" fill-rule=\"evenodd\" fill-opacity=\"1\" /><path clip-path=\"url(#clip440)\" d=\"M621.287 202.15 L621.287 204.233 L601.704 204.233 Q601.981 208.631 604.342 210.946 Q606.727 213.238 610.963 213.238 Q613.416 213.238 615.708 212.636 Q618.023 212.034 620.291 210.83 L620.291 214.858 Q618 215.83 615.592 216.34 Q613.185 216.849 610.708 216.849 Q604.504 216.849 600.87 213.238 Q597.259 209.627 597.259 203.469 Q597.259 197.104 600.685 193.377 Q604.134 189.627 609.967 189.627 Q615.199 189.627 618.231 193.006 Q621.287 196.363 621.287 202.15 M617.028 200.9 Q616.981 197.405 615.06 195.321 Q613.162 193.238 610.014 193.238 Q606.449 193.238 604.296 195.252 Q602.167 197.266 601.842 200.923 L617.028 200.9 Z\" fill=\"#000000\" fill-rule=\"evenodd\" fill-opacity=\"1\" /><path clip-path=\"url(#clip440)\" d=\"M645.338 194.187 L645.338 180.159 L649.597 180.159 L649.597 216.178 L645.338 216.178 L645.338 212.289 Q643.995 214.603 641.935 215.738 Q639.898 216.849 637.027 216.849 Q632.328 216.849 629.365 213.099 Q626.426 209.349 626.426 203.238 Q626.426 197.127 629.365 193.377 Q632.328 189.627 637.027 189.627 Q639.898 189.627 641.935 190.761 Q643.995 191.872 645.338 194.187 M630.824 203.238 Q630.824 207.937 632.745 210.622 Q634.689 213.284 638.069 213.284 Q641.449 213.284 643.393 210.622 Q645.338 207.937 645.338 203.238 Q645.338 198.539 643.393 195.877 Q641.449 193.192 638.069 193.192 Q634.689 193.192 632.745 195.877 Q630.824 198.539 630.824 203.238 Z\" fill=\"#000000\" fill-rule=\"evenodd\" fill-opacity=\"1\" /><path clip-path=\"url(#clip440)\" d=\"M699.504 184.28 L699.504 189.21 Q697.143 187.011 694.458 185.923 Q691.796 184.835 688.786 184.835 Q682.861 184.835 679.712 188.469 Q676.564 192.08 676.564 198.932 Q676.564 205.761 679.712 209.395 Q682.861 213.006 688.786 213.006 Q691.796 213.006 694.458 211.918 Q697.143 210.83 699.504 208.631 L699.504 213.516 Q697.05 215.182 694.296 216.016 Q691.564 216.849 688.509 216.849 Q680.661 216.849 676.148 212.057 Q671.634 207.242 671.634 198.932 Q671.634 190.599 676.148 185.807 Q680.661 180.993 688.509 180.993 Q691.61 180.993 694.342 181.826 Q697.097 182.636 699.504 184.28 Z\" fill=\"#000000\" fill-rule=\"evenodd\" fill-opacity=\"1\" /><path clip-path=\"url(#clip440)\" d=\"M706.541 180.159 L710.8 180.159 L710.8 216.178 L706.541 216.178 L706.541 180.159 Z\" fill=\"#000000\" fill-rule=\"evenodd\" fill-opacity=\"1\" /><path clip-path=\"url(#clip440)\" d=\"M729.758 193.238 Q726.333 193.238 724.342 195.923 Q722.351 198.585 722.351 203.238 Q722.351 207.891 724.319 210.576 Q726.309 213.238 729.758 213.238 Q733.161 213.238 735.152 210.553 Q737.143 207.867 737.143 203.238 Q737.143 198.631 735.152 195.946 Q733.161 193.238 729.758 193.238 M729.758 189.627 Q735.314 189.627 738.485 193.238 Q741.656 196.849 741.656 203.238 Q741.656 209.604 738.485 213.238 Q735.314 216.849 729.758 216.849 Q724.18 216.849 721.008 213.238 Q717.86 209.604 717.86 203.238 Q717.86 196.849 721.008 193.238 Q724.18 189.627 729.758 189.627 Z\" fill=\"#000000\" fill-rule=\"evenodd\" fill-opacity=\"1\" /><path clip-path=\"url(#clip440)\" d=\"M765.244 191.016 L765.244 195.043 Q763.439 194.117 761.494 193.655 Q759.55 193.192 757.467 193.192 Q754.295 193.192 752.698 194.164 Q751.124 195.136 751.124 197.08 Q751.124 198.562 752.258 199.418 Q753.393 200.252 756.818 201.016 L758.277 201.34 Q762.814 202.312 764.712 204.094 Q766.633 205.854 766.633 209.025 Q766.633 212.636 763.763 214.742 Q760.916 216.849 755.916 216.849 Q753.832 216.849 751.564 216.432 Q749.318 216.039 746.819 215.228 L746.819 210.83 Q749.18 212.057 751.471 212.682 Q753.763 213.284 756.008 213.284 Q759.018 213.284 760.638 212.266 Q762.258 211.224 762.258 209.349 Q762.258 207.613 761.078 206.687 Q759.92 205.761 755.962 204.904 L754.481 204.557 Q750.522 203.724 748.763 202.011 Q747.004 200.275 747.004 197.266 Q747.004 193.608 749.596 191.618 Q752.189 189.627 756.957 189.627 Q759.318 189.627 761.402 189.974 Q763.485 190.321 765.244 191.016 Z\" fill=\"#000000\" fill-rule=\"evenodd\" fill-opacity=\"1\" /><path clip-path=\"url(#clip440)\" d=\"M773.416 190.252 L777.675 190.252 L777.675 216.178 L773.416 216.178 L773.416 190.252 M773.416 180.159 L777.675 180.159 L777.675 185.553 L773.416 185.553 L773.416 180.159 Z\" fill=\"#000000\" fill-rule=\"evenodd\" fill-opacity=\"1\" /><path clip-path=\"url(#clip440)\" d=\"M808.138 200.529 L808.138 216.178 L803.878 216.178 L803.878 200.668 Q803.878 196.988 802.443 195.159 Q801.008 193.33 798.138 193.33 Q794.689 193.33 792.698 195.53 Q790.707 197.729 790.707 201.525 L790.707 216.178 L786.425 216.178 L786.425 190.252 L790.707 190.252 L790.707 194.28 Q792.235 191.942 794.295 190.784 Q796.378 189.627 799.087 189.627 Q803.554 189.627 805.846 192.405 Q808.138 195.159 808.138 200.529 Z\" fill=\"#000000\" fill-rule=\"evenodd\" fill-opacity=\"1\" /><path clip-path=\"url(#clip440)\" d=\"M833.693 202.914 Q833.693 198.284 831.772 195.738 Q829.874 193.192 826.425 193.192 Q822.999 193.192 821.077 195.738 Q819.179 198.284 819.179 202.914 Q819.179 207.52 821.077 210.066 Q822.999 212.613 826.425 212.613 Q829.874 212.613 831.772 210.066 Q833.693 207.52 833.693 202.914 M837.952 212.96 Q837.952 219.58 835.012 222.798 Q832.073 226.039 826.008 226.039 Q823.763 226.039 821.772 225.691 Q819.781 225.367 817.906 224.673 L817.906 220.529 Q819.781 221.548 821.61 222.034 Q823.438 222.52 825.337 222.52 Q829.526 222.52 831.61 220.321 Q833.693 218.145 833.693 213.724 L833.693 211.617 Q832.374 213.909 830.313 215.043 Q828.253 216.178 825.383 216.178 Q820.614 216.178 817.698 212.543 Q814.781 208.909 814.781 202.914 Q814.781 196.895 817.698 193.261 Q820.614 189.627 825.383 189.627 Q828.253 189.627 830.313 190.761 Q832.374 191.895 833.693 194.187 L833.693 190.252 L837.952 190.252 L837.952 212.96 Z\" fill=\"#000000\" fill-rule=\"evenodd\" fill-opacity=\"1\" /><path clip-path=\"url(#clip440)\" d=\"M866.656 185.46 L866.656 198.446 L872.535 198.446 Q875.799 198.446 877.582 196.756 Q879.364 195.067 879.364 191.942 Q879.364 188.84 877.582 187.15 Q875.799 185.46 872.535 185.46 L866.656 185.46 M861.98 181.618 L872.535 181.618 Q878.346 181.618 881.309 184.256 Q884.295 186.872 884.295 191.942 Q884.295 197.057 881.309 199.673 Q878.346 202.289 872.535 202.289 L866.656 202.289 L866.656 216.178 L861.98 216.178 L861.98 181.618 Z\" fill=\"#000000\" fill-rule=\"evenodd\" fill-opacity=\"1\" /><path clip-path=\"url(#clip440)\" d=\"M904.572 194.233 Q903.855 193.817 902.998 193.631 Q902.165 193.423 901.146 193.423 Q897.535 193.423 895.591 195.784 Q893.67 198.122 893.67 202.52 L893.67 216.178 L889.387 216.178 L889.387 190.252 L893.67 190.252 L893.67 194.28 Q895.012 191.918 897.165 190.784 Q899.318 189.627 902.396 189.627 Q902.836 189.627 903.369 189.696 Q903.901 189.743 904.549 189.858 L904.572 194.233 Z\" fill=\"#000000\" fill-rule=\"evenodd\" fill-opacity=\"1\" /><path clip-path=\"url(#clip440)\" d=\"M909.04 190.252 L913.299 190.252 L913.299 216.178 L909.04 216.178 L909.04 190.252 M909.04 180.159 L913.299 180.159 L913.299 185.553 L909.04 185.553 L909.04 180.159 Z\" fill=\"#000000\" fill-rule=\"evenodd\" fill-opacity=\"1\" /><path clip-path=\"url(#clip440)\" d=\"M940.868 191.247 L940.868 195.229 Q939.063 194.233 937.234 193.747 Q935.429 193.238 933.577 193.238 Q929.433 193.238 927.142 195.877 Q924.85 198.492 924.85 203.238 Q924.85 207.983 927.142 210.622 Q929.433 213.238 933.577 213.238 Q935.429 213.238 937.234 212.752 Q939.063 212.242 940.868 211.247 L940.868 215.182 Q939.086 216.016 937.165 216.432 Q935.267 216.849 933.114 216.849 Q927.257 216.849 923.808 213.168 Q920.359 209.488 920.359 203.238 Q920.359 196.895 923.831 193.261 Q927.327 189.627 933.392 189.627 Q935.359 189.627 937.234 190.043 Q939.109 190.437 940.868 191.247 Z\" fill=\"#000000\" fill-rule=\"evenodd\" fill-opacity=\"1\" /><path clip-path=\"url(#clip440)\" d=\"M970.452 202.15 L970.452 204.233 L950.868 204.233 Q951.146 208.631 953.507 210.946 Q955.891 213.238 960.128 213.238 Q962.581 213.238 964.873 212.636 Q967.188 212.034 969.456 210.83 L969.456 214.858 Q967.165 215.83 964.757 216.34 Q962.35 216.849 959.873 216.849 Q953.669 216.849 950.035 213.238 Q946.424 209.627 946.424 203.469 Q946.424 197.104 949.85 193.377 Q953.299 189.627 959.132 189.627 Q964.364 189.627 967.396 193.006 Q970.452 196.363 970.452 202.15 M966.192 200.9 Q966.146 197.405 964.225 195.321 Q962.327 193.238 959.178 193.238 Q955.614 193.238 953.461 195.252 Q951.331 197.266 951.007 200.923 L966.192 200.9 Z\" fill=\"#000000\" fill-rule=\"evenodd\" fill-opacity=\"1\" /><polyline clip-path=\"url(#clip440)\" style=\"stroke:#3da44d; stroke-linecap:round; stroke-linejoin:round; stroke-width:4; stroke-opacity:1; fill:none\" points=\"\n",
       "  266.172,250.738 411.747,250.738 \n",
       "  \"/>\n",
       "<path clip-path=\"url(#clip440)\" d=\"M440.686 237.3 L440.686 250.286 L446.565 250.286 Q449.829 250.286 451.612 248.596 Q453.394 246.907 453.394 243.782 Q453.394 240.68 451.612 238.99 Q449.829 237.3 446.565 237.3 L440.686 237.3 M436.01 233.458 L446.565 233.458 Q452.376 233.458 455.339 236.096 Q458.325 238.712 458.325 243.782 Q458.325 248.897 455.339 251.513 Q452.376 254.129 446.565 254.129 L440.686 254.129 L440.686 268.018 L436.01 268.018 L436.01 233.458 Z\" fill=\"#000000\" fill-rule=\"evenodd\" fill-opacity=\"1\" /><path clip-path=\"url(#clip440)\" d=\"M478.602 246.073 Q477.885 245.657 477.028 245.471 Q476.195 245.263 475.176 245.263 Q471.565 245.263 469.621 247.624 Q467.7 249.962 467.7 254.36 L467.7 268.018 L463.417 268.018 L463.417 242.092 L467.7 242.092 L467.7 246.12 Q469.042 243.758 471.195 242.624 Q473.348 241.467 476.426 241.467 Q476.866 241.467 477.399 241.536 Q477.931 241.583 478.579 241.698 L478.602 246.073 Z\" fill=\"#000000\" fill-rule=\"evenodd\" fill-opacity=\"1\" /><path clip-path=\"url(#clip440)\" d=\"M504.204 253.99 L504.204 256.073 L484.621 256.073 Q484.899 260.471 487.26 262.786 Q489.644 265.078 493.88 265.078 Q496.334 265.078 498.625 264.476 Q500.94 263.874 503.209 262.67 L503.209 266.698 Q500.917 267.67 498.51 268.18 Q496.102 268.689 493.625 268.689 Q487.422 268.689 483.788 265.078 Q480.176 261.467 480.176 255.309 Q480.176 248.944 483.602 245.217 Q487.051 241.467 492.885 241.467 Q498.116 241.467 501.149 244.846 Q504.204 248.203 504.204 253.99 M499.945 252.74 Q499.899 249.245 497.977 247.161 Q496.079 245.078 492.931 245.078 Q489.366 245.078 487.213 247.092 Q485.084 249.106 484.76 252.763 L499.945 252.74 Z\" fill=\"#000000\" fill-rule=\"evenodd\" fill-opacity=\"1\" /><path clip-path=\"url(#clip440)\" d=\"M528.255 246.027 L528.255 231.999 L532.514 231.999 L532.514 268.018 L528.255 268.018 L528.255 264.129 Q526.912 266.443 524.852 267.578 Q522.815 268.689 519.945 268.689 Q515.246 268.689 512.283 264.939 Q509.343 261.189 509.343 255.078 Q509.343 248.967 512.283 245.217 Q515.246 241.467 519.945 241.467 Q522.815 241.467 524.852 242.601 Q526.912 243.712 528.255 246.027 M513.741 255.078 Q513.741 259.777 515.662 262.462 Q517.607 265.124 520.986 265.124 Q524.366 265.124 526.31 262.462 Q528.255 259.777 528.255 255.078 Q528.255 250.379 526.31 247.717 Q524.366 245.032 520.986 245.032 Q517.607 245.032 515.662 247.717 Q513.741 250.379 513.741 255.078 Z\" fill=\"#000000\" fill-rule=\"evenodd\" fill-opacity=\"1\" /><path clip-path=\"url(#clip440)\" d=\"M541.287 242.092 L545.546 242.092 L545.546 268.018 L541.287 268.018 L541.287 242.092 M541.287 231.999 L545.546 231.999 L545.546 237.393 L541.287 237.393 L541.287 231.999 Z\" fill=\"#000000\" fill-rule=\"evenodd\" fill-opacity=\"1\" /><path clip-path=\"url(#clip440)\" d=\"M573.116 243.087 L573.116 247.069 Q571.31 246.073 569.481 245.587 Q567.676 245.078 565.824 245.078 Q561.681 245.078 559.389 247.717 Q557.097 250.332 557.097 255.078 Q557.097 259.823 559.389 262.462 Q561.681 265.078 565.824 265.078 Q567.676 265.078 569.481 264.592 Q571.31 264.082 573.116 263.087 L573.116 267.022 Q571.333 267.856 569.412 268.272 Q567.514 268.689 565.361 268.689 Q559.505 268.689 556.056 265.008 Q552.607 261.328 552.607 255.078 Q552.607 248.735 556.079 245.101 Q559.574 241.467 565.639 241.467 Q567.607 241.467 569.481 241.883 Q571.356 242.277 573.116 243.087 Z\" fill=\"#000000\" fill-rule=\"evenodd\" fill-opacity=\"1\" /><path clip-path=\"url(#clip440)\" d=\"M584.736 234.731 L584.736 242.092 L593.509 242.092 L593.509 245.402 L584.736 245.402 L584.736 259.476 Q584.736 262.647 585.593 263.55 Q586.472 264.453 589.134 264.453 L593.509 264.453 L593.509 268.018 L589.134 268.018 Q584.204 268.018 582.329 266.189 Q580.454 264.337 580.454 259.476 L580.454 245.402 L577.329 245.402 L577.329 242.092 L580.454 242.092 L580.454 234.731 L584.736 234.731 Z\" fill=\"#000000\" fill-rule=\"evenodd\" fill-opacity=\"1\" /><path clip-path=\"url(#clip440)\" d=\"M621.287 253.99 L621.287 256.073 L601.704 256.073 Q601.981 260.471 604.342 262.786 Q606.727 265.078 610.963 265.078 Q613.416 265.078 615.708 264.476 Q618.023 263.874 620.291 262.67 L620.291 266.698 Q618 267.67 615.592 268.18 Q613.185 268.689 610.708 268.689 Q604.504 268.689 600.87 265.078 Q597.259 261.467 597.259 255.309 Q597.259 248.944 600.685 245.217 Q604.134 241.467 609.967 241.467 Q615.199 241.467 618.231 244.846 Q621.287 248.203 621.287 253.99 M617.028 252.74 Q616.981 249.245 615.06 247.161 Q613.162 245.078 610.014 245.078 Q606.449 245.078 604.296 247.092 Q602.167 249.106 601.842 252.763 L617.028 252.74 Z\" fill=\"#000000\" fill-rule=\"evenodd\" fill-opacity=\"1\" /><path clip-path=\"url(#clip440)\" d=\"M645.338 246.027 L645.338 231.999 L649.597 231.999 L649.597 268.018 L645.338 268.018 L645.338 264.129 Q643.995 266.443 641.935 267.578 Q639.898 268.689 637.027 268.689 Q632.328 268.689 629.365 264.939 Q626.426 261.189 626.426 255.078 Q626.426 248.967 629.365 245.217 Q632.328 241.467 637.027 241.467 Q639.898 241.467 641.935 242.601 Q643.995 243.712 645.338 246.027 M630.824 255.078 Q630.824 259.777 632.745 262.462 Q634.689 265.124 638.069 265.124 Q641.449 265.124 643.393 262.462 Q645.338 259.777 645.338 255.078 Q645.338 250.379 643.393 247.717 Q641.449 245.032 638.069 245.032 Q634.689 245.032 632.745 247.717 Q630.824 250.379 630.824 255.078 Z\" fill=\"#000000\" fill-rule=\"evenodd\" fill-opacity=\"1\" /><path clip-path=\"url(#clip440)\" d=\"M699.504 236.12 L699.504 241.05 Q697.143 238.851 694.458 237.763 Q691.796 236.675 688.786 236.675 Q682.861 236.675 679.712 240.309 Q676.564 243.92 676.564 250.772 Q676.564 257.601 679.712 261.235 Q682.861 264.846 688.786 264.846 Q691.796 264.846 694.458 263.758 Q697.143 262.67 699.504 260.471 L699.504 265.356 Q697.05 267.022 694.296 267.856 Q691.564 268.689 688.509 268.689 Q680.661 268.689 676.148 263.897 Q671.634 259.082 671.634 250.772 Q671.634 242.439 676.148 237.647 Q680.661 232.833 688.509 232.833 Q691.61 232.833 694.342 233.666 Q697.097 234.476 699.504 236.12 Z\" fill=\"#000000\" fill-rule=\"evenodd\" fill-opacity=\"1\" /><path clip-path=\"url(#clip440)\" d=\"M706.541 231.999 L710.8 231.999 L710.8 268.018 L706.541 268.018 L706.541 231.999 Z\" fill=\"#000000\" fill-rule=\"evenodd\" fill-opacity=\"1\" /><path clip-path=\"url(#clip440)\" d=\"M729.758 245.078 Q726.333 245.078 724.342 247.763 Q722.351 250.425 722.351 255.078 Q722.351 259.731 724.319 262.416 Q726.309 265.078 729.758 265.078 Q733.161 265.078 735.152 262.393 Q737.143 259.707 737.143 255.078 Q737.143 250.471 735.152 247.786 Q733.161 245.078 729.758 245.078 M729.758 241.467 Q735.314 241.467 738.485 245.078 Q741.656 248.689 741.656 255.078 Q741.656 261.444 738.485 265.078 Q735.314 268.689 729.758 268.689 Q724.18 268.689 721.008 265.078 Q717.86 261.444 717.86 255.078 Q717.86 248.689 721.008 245.078 Q724.18 241.467 729.758 241.467 Z\" fill=\"#000000\" fill-rule=\"evenodd\" fill-opacity=\"1\" /><path clip-path=\"url(#clip440)\" d=\"M765.244 242.856 L765.244 246.883 Q763.439 245.957 761.494 245.495 Q759.55 245.032 757.467 245.032 Q754.295 245.032 752.698 246.004 Q751.124 246.976 751.124 248.92 Q751.124 250.402 752.258 251.258 Q753.393 252.092 756.818 252.856 L758.277 253.18 Q762.814 254.152 764.712 255.934 Q766.633 257.694 766.633 260.865 Q766.633 264.476 763.763 266.582 Q760.916 268.689 755.916 268.689 Q753.832 268.689 751.564 268.272 Q749.318 267.879 746.819 267.068 L746.819 262.67 Q749.18 263.897 751.471 264.522 Q753.763 265.124 756.008 265.124 Q759.018 265.124 760.638 264.106 Q762.258 263.064 762.258 261.189 Q762.258 259.453 761.078 258.527 Q759.92 257.601 755.962 256.744 L754.481 256.397 Q750.522 255.564 748.763 253.851 Q747.004 252.115 747.004 249.106 Q747.004 245.448 749.596 243.458 Q752.189 241.467 756.957 241.467 Q759.318 241.467 761.402 241.814 Q763.485 242.161 765.244 242.856 Z\" fill=\"#000000\" fill-rule=\"evenodd\" fill-opacity=\"1\" /><path clip-path=\"url(#clip440)\" d=\"M773.416 242.092 L777.675 242.092 L777.675 268.018 L773.416 268.018 L773.416 242.092 M773.416 231.999 L777.675 231.999 L777.675 237.393 L773.416 237.393 L773.416 231.999 Z\" fill=\"#000000\" fill-rule=\"evenodd\" fill-opacity=\"1\" /><path clip-path=\"url(#clip440)\" d=\"M808.138 252.369 L808.138 268.018 L803.878 268.018 L803.878 252.508 Q803.878 248.828 802.443 246.999 Q801.008 245.17 798.138 245.17 Q794.689 245.17 792.698 247.37 Q790.707 249.569 790.707 253.365 L790.707 268.018 L786.425 268.018 L786.425 242.092 L790.707 242.092 L790.707 246.12 Q792.235 243.782 794.295 242.624 Q796.378 241.467 799.087 241.467 Q803.554 241.467 805.846 244.245 Q808.138 246.999 808.138 252.369 Z\" fill=\"#000000\" fill-rule=\"evenodd\" fill-opacity=\"1\" /><path clip-path=\"url(#clip440)\" d=\"M833.693 254.754 Q833.693 250.124 831.772 247.578 Q829.874 245.032 826.425 245.032 Q822.999 245.032 821.077 247.578 Q819.179 250.124 819.179 254.754 Q819.179 259.36 821.077 261.906 Q822.999 264.453 826.425 264.453 Q829.874 264.453 831.772 261.906 Q833.693 259.36 833.693 254.754 M837.952 264.8 Q837.952 271.42 835.012 274.638 Q832.073 277.879 826.008 277.879 Q823.763 277.879 821.772 277.531 Q819.781 277.207 817.906 276.513 L817.906 272.369 Q819.781 273.388 821.61 273.874 Q823.438 274.36 825.337 274.36 Q829.526 274.36 831.61 272.161 Q833.693 269.985 833.693 265.564 L833.693 263.457 Q832.374 265.749 830.313 266.883 Q828.253 268.018 825.383 268.018 Q820.614 268.018 817.698 264.383 Q814.781 260.749 814.781 254.754 Q814.781 248.735 817.698 245.101 Q820.614 241.467 825.383 241.467 Q828.253 241.467 830.313 242.601 Q832.374 243.735 833.693 246.027 L833.693 242.092 L837.952 242.092 L837.952 264.8 Z\" fill=\"#000000\" fill-rule=\"evenodd\" fill-opacity=\"1\" /><path clip-path=\"url(#clip440)\" d=\"M866.656 237.3 L866.656 250.286 L872.535 250.286 Q875.799 250.286 877.582 248.596 Q879.364 246.907 879.364 243.782 Q879.364 240.68 877.582 238.99 Q875.799 237.3 872.535 237.3 L866.656 237.3 M861.98 233.458 L872.535 233.458 Q878.346 233.458 881.309 236.096 Q884.295 238.712 884.295 243.782 Q884.295 248.897 881.309 251.513 Q878.346 254.129 872.535 254.129 L866.656 254.129 L866.656 268.018 L861.98 268.018 L861.98 233.458 Z\" fill=\"#000000\" fill-rule=\"evenodd\" fill-opacity=\"1\" /><path clip-path=\"url(#clip440)\" d=\"M904.572 246.073 Q903.855 245.657 902.998 245.471 Q902.165 245.263 901.146 245.263 Q897.535 245.263 895.591 247.624 Q893.67 249.962 893.67 254.36 L893.67 268.018 L889.387 268.018 L889.387 242.092 L893.67 242.092 L893.67 246.12 Q895.012 243.758 897.165 242.624 Q899.318 241.467 902.396 241.467 Q902.836 241.467 903.369 241.536 Q903.901 241.583 904.549 241.698 L904.572 246.073 Z\" fill=\"#000000\" fill-rule=\"evenodd\" fill-opacity=\"1\" /><path clip-path=\"url(#clip440)\" d=\"M909.04 242.092 L913.299 242.092 L913.299 268.018 L909.04 268.018 L909.04 242.092 M909.04 231.999 L913.299 231.999 L913.299 237.393 L909.04 237.393 L909.04 231.999 Z\" fill=\"#000000\" fill-rule=\"evenodd\" fill-opacity=\"1\" /><path clip-path=\"url(#clip440)\" d=\"M940.868 243.087 L940.868 247.069 Q939.063 246.073 937.234 245.587 Q935.429 245.078 933.577 245.078 Q929.433 245.078 927.142 247.717 Q924.85 250.332 924.85 255.078 Q924.85 259.823 927.142 262.462 Q929.433 265.078 933.577 265.078 Q935.429 265.078 937.234 264.592 Q939.063 264.082 940.868 263.087 L940.868 267.022 Q939.086 267.856 937.165 268.272 Q935.267 268.689 933.114 268.689 Q927.257 268.689 923.808 265.008 Q920.359 261.328 920.359 255.078 Q920.359 248.735 923.831 245.101 Q927.327 241.467 933.392 241.467 Q935.359 241.467 937.234 241.883 Q939.109 242.277 940.868 243.087 Z\" fill=\"#000000\" fill-rule=\"evenodd\" fill-opacity=\"1\" /><path clip-path=\"url(#clip440)\" d=\"M970.452 253.99 L970.452 256.073 L950.868 256.073 Q951.146 260.471 953.507 262.786 Q955.891 265.078 960.128 265.078 Q962.581 265.078 964.873 264.476 Q967.188 263.874 969.456 262.67 L969.456 266.698 Q967.165 267.67 964.757 268.18 Q962.35 268.689 959.873 268.689 Q953.669 268.689 950.035 265.078 Q946.424 261.467 946.424 255.309 Q946.424 248.944 949.85 245.217 Q953.299 241.467 959.132 241.467 Q964.364 241.467 967.396 244.846 Q970.452 248.203 970.452 253.99 M966.192 252.74 Q966.146 249.245 964.225 247.161 Q962.327 245.078 959.178 245.078 Q955.614 245.078 953.461 247.092 Q951.331 249.106 951.007 252.763 L966.192 252.74 Z\" fill=\"#000000\" fill-rule=\"evenodd\" fill-opacity=\"1\" /><path clip-path=\"url(#clip440)\" d=\"M1002.74 232.046 Q999.641 237.37 998.137 242.578 Q996.632 247.786 996.632 253.133 Q996.632 258.481 998.137 263.735 Q999.664 268.967 1002.74 274.268 L999.039 274.268 Q995.567 268.828 993.831 263.573 Q992.118 258.319 992.118 253.133 Q992.118 247.971 993.831 242.74 Q995.544 237.508 999.039 232.046 L1002.74 232.046 Z\" fill=\"#000000\" fill-rule=\"evenodd\" fill-opacity=\"1\" /><path clip-path=\"url(#clip440)\" d=\"M1010.66 233.458 L1015.36 233.458 L1015.36 254.453 Q1015.36 260.008 1017.37 262.462 Q1019.39 264.893 1023.9 264.893 Q1028.39 264.893 1030.4 262.462 Q1032.42 260.008 1032.42 254.453 L1032.42 233.458 L1037.12 233.458 L1037.12 255.032 Q1037.12 261.791 1033.76 265.24 Q1030.43 268.689 1023.9 268.689 Q1017.35 268.689 1013.99 265.24 Q1010.66 261.791 1010.66 255.032 L1010.66 233.458 Z\" fill=\"#000000\" fill-rule=\"evenodd\" fill-opacity=\"1\" /><path clip-path=\"url(#clip440)\" d=\"M1062.23 242.856 L1062.23 246.883 Q1060.43 245.957 1058.48 245.495 Q1056.54 245.032 1054.46 245.032 Q1051.28 245.032 1049.69 246.004 Q1048.11 246.976 1048.11 248.92 Q1048.11 250.402 1049.25 251.258 Q1050.38 252.092 1053.81 252.856 L1055.27 253.18 Q1059.8 254.152 1061.7 255.934 Q1063.62 257.694 1063.62 260.865 Q1063.62 264.476 1060.75 266.582 Q1057.9 268.689 1052.9 268.689 Q1050.82 268.689 1048.55 268.272 Q1046.31 267.879 1043.81 267.068 L1043.81 262.67 Q1046.17 263.897 1048.46 264.522 Q1050.75 265.124 1053 265.124 Q1056.01 265.124 1057.63 264.106 Q1059.25 263.064 1059.25 261.189 Q1059.25 259.453 1058.07 258.527 Q1056.91 257.601 1052.95 256.744 L1051.47 256.397 Q1047.51 255.564 1045.75 253.851 Q1043.99 252.115 1043.99 249.106 Q1043.99 245.448 1046.59 243.458 Q1049.18 241.467 1053.95 241.467 Q1056.31 241.467 1058.39 241.814 Q1060.47 242.161 1062.23 242.856 Z\" fill=\"#000000\" fill-rule=\"evenodd\" fill-opacity=\"1\" /><path clip-path=\"url(#clip440)\" d=\"M1070.4 242.092 L1074.66 242.092 L1074.66 268.018 L1070.4 268.018 L1070.4 242.092 M1070.4 231.999 L1074.66 231.999 L1074.66 237.393 L1070.4 237.393 L1070.4 231.999 Z\" fill=\"#000000\" fill-rule=\"evenodd\" fill-opacity=\"1\" /><path clip-path=\"url(#clip440)\" d=\"M1105.13 252.369 L1105.13 268.018 L1100.87 268.018 L1100.87 252.508 Q1100.87 248.828 1099.43 246.999 Q1098 245.17 1095.13 245.17 Q1091.68 245.17 1089.69 247.37 Q1087.7 249.569 1087.7 253.365 L1087.7 268.018 L1083.41 268.018 L1083.41 242.092 L1087.7 242.092 L1087.7 246.12 Q1089.22 243.782 1091.28 242.624 Q1093.37 241.467 1096.08 241.467 Q1100.54 241.467 1102.84 244.245 Q1105.13 246.999 1105.13 252.369 Z\" fill=\"#000000\" fill-rule=\"evenodd\" fill-opacity=\"1\" /><path clip-path=\"url(#clip440)\" d=\"M1130.68 254.754 Q1130.68 250.124 1128.76 247.578 Q1126.86 245.032 1123.41 245.032 Q1119.99 245.032 1118.07 247.578 Q1116.17 250.124 1116.17 254.754 Q1116.17 259.36 1118.07 261.906 Q1119.99 264.453 1123.41 264.453 Q1126.86 264.453 1128.76 261.906 Q1130.68 259.36 1130.68 254.754 M1134.94 264.8 Q1134.94 271.42 1132 274.638 Q1129.06 277.879 1123 277.879 Q1120.75 277.879 1118.76 277.531 Q1116.77 277.207 1114.9 276.513 L1114.9 272.369 Q1116.77 273.388 1118.6 273.874 Q1120.43 274.36 1122.33 274.36 Q1126.52 274.36 1128.6 272.161 Q1130.68 269.985 1130.68 265.564 L1130.68 263.457 Q1129.36 265.749 1127.3 266.883 Q1125.24 268.018 1122.37 268.018 Q1117.6 268.018 1114.69 264.383 Q1111.77 260.749 1111.77 254.754 Q1111.77 248.735 1114.69 245.101 Q1117.6 241.467 1122.37 241.467 Q1125.24 241.467 1127.3 242.601 Q1129.36 243.735 1130.68 246.027 L1130.68 242.092 L1134.94 242.092 L1134.94 264.8 Z\" fill=\"#000000\" fill-rule=\"evenodd\" fill-opacity=\"1\" /><path clip-path=\"url(#clip440)\" d=\"M1159.43 233.458 L1177.79 233.458 L1177.79 237.393 L1163.71 237.393 L1163.71 245.865 Q1164.73 245.518 1165.75 245.356 Q1166.77 245.17 1167.79 245.17 Q1173.58 245.17 1176.96 248.342 Q1180.33 251.513 1180.33 256.93 Q1180.33 262.508 1176.86 265.61 Q1173.39 268.689 1167.07 268.689 Q1164.89 268.689 1162.63 268.318 Q1160.38 267.948 1157.97 267.207 L1157.97 262.508 Q1160.06 263.643 1162.28 264.198 Q1164.5 264.754 1166.98 264.754 Q1170.98 264.754 1173.32 262.647 Q1175.66 260.541 1175.66 256.93 Q1175.66 253.319 1173.32 251.212 Q1170.98 249.106 1166.98 249.106 Q1165.1 249.106 1163.23 249.522 Q1161.38 249.939 1159.43 250.819 L1159.43 233.458 Z\" fill=\"#000000\" fill-rule=\"evenodd\" fill-opacity=\"1\" /><path clip-path=\"url(#clip440)\" d=\"M1186.79 253.133 L1199.27 253.133 L1199.27 256.93 L1186.79 256.93 L1186.79 253.133 Z\" fill=\"#000000\" fill-rule=\"evenodd\" fill-opacity=\"1\" /><path clip-path=\"url(#clip440)\" d=\"M1210.91 237.3 L1210.91 264.175 L1216.56 264.175 Q1223.71 264.175 1227.02 260.934 Q1230.36 257.694 1230.36 250.703 Q1230.36 243.758 1227.02 240.541 Q1223.71 237.3 1216.56 237.3 L1210.91 237.3 M1206.24 233.458 L1215.84 233.458 Q1225.89 233.458 1230.59 237.647 Q1235.29 241.814 1235.29 250.703 Q1235.29 259.638 1230.57 263.828 Q1225.84 268.018 1215.84 268.018 L1206.24 268.018 L1206.24 233.458 Z\" fill=\"#000000\" fill-rule=\"evenodd\" fill-opacity=\"1\" /><path clip-path=\"url(#clip440)\" d=\"M1254.34 254.985 Q1249.18 254.985 1247.19 256.166 Q1245.2 257.346 1245.2 260.194 Q1245.2 262.462 1246.68 263.805 Q1248.18 265.124 1250.75 265.124 Q1254.29 265.124 1256.42 262.624 Q1258.58 260.101 1258.58 255.934 L1258.58 254.985 L1254.34 254.985 M1262.83 253.226 L1262.83 268.018 L1258.58 268.018 L1258.58 264.082 Q1257.12 266.443 1254.94 267.578 Q1252.76 268.689 1249.62 268.689 Q1245.64 268.689 1243.27 266.467 Q1240.94 264.221 1240.94 260.471 Q1240.94 256.096 1243.85 253.874 Q1246.79 251.652 1252.6 251.652 L1258.58 251.652 L1258.58 251.235 Q1258.58 248.295 1256.63 246.698 Q1254.71 245.078 1251.21 245.078 Q1248.99 245.078 1246.89 245.61 Q1244.78 246.143 1242.83 247.207 L1242.83 243.272 Q1245.17 242.37 1247.37 241.93 Q1249.57 241.467 1251.65 241.467 Q1257.28 241.467 1260.06 244.383 Q1262.83 247.3 1262.83 253.226 Z\" fill=\"#000000\" fill-rule=\"evenodd\" fill-opacity=\"1\" /><path clip-path=\"url(#clip440)\" d=\"M1282.39 270.425 Q1280.59 275.055 1278.88 276.467 Q1277.16 277.879 1274.29 277.879 L1270.89 277.879 L1270.89 274.314 L1273.39 274.314 Q1275.15 274.314 1276.12 273.48 Q1277.09 272.647 1278.27 269.545 L1279.04 267.601 L1268.55 242.092 L1273.07 242.092 L1281.17 262.369 L1289.27 242.092 L1293.78 242.092 L1282.39 270.425 Z\" fill=\"#000000\" fill-rule=\"evenodd\" fill-opacity=\"1\" /><path clip-path=\"url(#clip440)\" d=\"M1311.84 233.458 L1316.56 233.458 L1323.83 262.67 L1331.07 233.458 L1336.33 233.458 L1343.6 262.67 L1350.84 233.458 L1355.59 233.458 L1346.91 268.018 L1341.03 268.018 L1333.74 238.018 L1326.38 268.018 L1320.5 268.018 L1311.84 233.458 Z\" fill=\"#000000\" fill-rule=\"evenodd\" fill-opacity=\"1\" /><path clip-path=\"url(#clip440)\" d=\"M1360.57 242.092 L1364.82 242.092 L1364.82 268.018 L1360.57 268.018 L1360.57 242.092 M1360.57 231.999 L1364.82 231.999 L1364.82 237.393 L1360.57 237.393 L1360.57 231.999 Z\" fill=\"#000000\" fill-rule=\"evenodd\" fill-opacity=\"1\" /><path clip-path=\"url(#clip440)\" d=\"M1395.29 252.369 L1395.29 268.018 L1391.03 268.018 L1391.03 252.508 Q1391.03 248.828 1389.59 246.999 Q1388.16 245.17 1385.29 245.17 Q1381.84 245.17 1379.85 247.37 Q1377.86 249.569 1377.86 253.365 L1377.86 268.018 L1373.57 268.018 L1373.57 242.092 L1377.86 242.092 L1377.86 246.12 Q1379.38 243.782 1381.44 242.624 Q1383.53 241.467 1386.24 241.467 Q1390.7 241.467 1393 244.245 Q1395.29 246.999 1395.29 252.369 Z\" fill=\"#000000\" fill-rule=\"evenodd\" fill-opacity=\"1\" /><path clip-path=\"url(#clip440)\" d=\"M1420.84 246.027 L1420.84 231.999 L1425.1 231.999 L1425.1 268.018 L1420.84 268.018 L1420.84 264.129 Q1419.5 266.443 1417.44 267.578 Q1415.4 268.689 1412.53 268.689 Q1407.83 268.689 1404.87 264.939 Q1401.93 261.189 1401.93 255.078 Q1401.93 248.967 1404.87 245.217 Q1407.83 241.467 1412.53 241.467 Q1415.4 241.467 1417.44 242.601 Q1419.5 243.712 1420.84 246.027 M1406.33 255.078 Q1406.33 259.777 1408.25 262.462 Q1410.19 265.124 1413.57 265.124 Q1416.95 265.124 1418.9 262.462 Q1420.84 259.777 1420.84 255.078 Q1420.84 250.379 1418.9 247.717 Q1416.95 245.032 1413.57 245.032 Q1410.19 245.032 1408.25 247.717 Q1406.33 250.379 1406.33 255.078 Z\" fill=\"#000000\" fill-rule=\"evenodd\" fill-opacity=\"1\" /><path clip-path=\"url(#clip440)\" d=\"M1443.92 245.078 Q1440.5 245.078 1438.5 247.763 Q1436.51 250.425 1436.51 255.078 Q1436.51 259.731 1438.48 262.416 Q1440.47 265.078 1443.92 265.078 Q1447.32 265.078 1449.31 262.393 Q1451.31 259.707 1451.31 255.078 Q1451.31 250.471 1449.31 247.786 Q1447.32 245.078 1443.92 245.078 M1443.92 241.467 Q1449.48 241.467 1452.65 245.078 Q1455.82 248.689 1455.82 255.078 Q1455.82 261.444 1452.65 265.078 Q1449.48 268.689 1443.92 268.689 Q1438.34 268.689 1435.17 265.078 Q1432.02 261.444 1432.02 255.078 Q1432.02 248.689 1435.17 245.078 Q1438.34 241.467 1443.92 241.467 Z\" fill=\"#000000\" fill-rule=\"evenodd\" fill-opacity=\"1\" /><path clip-path=\"url(#clip440)\" d=\"M1460.4 242.092 L1464.66 242.092 L1469.99 262.323 L1475.29 242.092 L1480.31 242.092 L1485.63 262.323 L1490.93 242.092 L1495.19 242.092 L1488.41 268.018 L1483.39 268.018 L1477.81 246.768 L1472.21 268.018 L1467.19 268.018 L1460.4 242.092 Z\" fill=\"#000000\" fill-rule=\"evenodd\" fill-opacity=\"1\" /><path clip-path=\"url(#clip440)\" d=\"M1500.98 232.046 L1504.68 232.046 Q1508.16 237.508 1509.87 242.74 Q1511.61 247.971 1511.61 253.133 Q1511.61 258.319 1509.87 263.573 Q1508.16 268.828 1504.68 274.268 L1500.98 274.268 Q1504.06 268.967 1505.56 263.735 Q1507.09 258.481 1507.09 253.133 Q1507.09 247.786 1505.56 242.578 Q1504.06 237.37 1500.98 232.046 Z\" fill=\"#000000\" fill-rule=\"evenodd\" fill-opacity=\"1\" /></svg>\n"
      ]
     },
     "execution_count": 17,
     "metadata": {},
     "output_type": "execute_result"
    }
   ],
   "source": [
    "predicted_window = [\n",
    "    begin @assert(length(r)==0); x end for (x,r...) ∈ model_window.(X)\n",
    "]\n",
    "plot(price, label=\"Actual Closing Price\")\n",
    "plot!(2:length(price), predicted_single, label=\"Predicted Closing Price\")\n",
    "plot!(window_length:length(price), predicted_window, label=\"Predicted Closing Price (Using $(window_length)-Day Window)\")\n",
    "plot!(legend=:topleft)"
   ]
  },
  {
   "cell_type": "code",
   "execution_count": 18,
   "id": "f034c02d-ed6b-441e-a6aa-1c7eedd9ac2c",
   "metadata": {
    "slideshow": {
     "slide_type": "subslide"
    },
    "tags": []
   },
   "outputs": [
    {
     "data": {
      "image/svg+xml": [
       "<?xml version=\"1.0\" encoding=\"utf-8\"?>\n",
       "<svg xmlns=\"http://www.w3.org/2000/svg\" xmlns:xlink=\"http://www.w3.org/1999/xlink\" width=\"600\" height=\"400\" viewBox=\"0 0 2400 1600\">\n",
       "<defs>\n",
       "  <clipPath id=\"clip480\">\n",
       "    <rect x=\"0\" y=\"0\" width=\"2400\" height=\"1600\"/>\n",
       "  </clipPath>\n",
       "</defs>\n",
       "<path clip-path=\"url(#clip480)\" d=\"\n",
       "M0 1600 L2400 1600 L2400 0 L0 0  Z\n",
       "  \" fill=\"#ffffff\" fill-rule=\"evenodd\" fill-opacity=\"1\"/>\n",
       "<defs>\n",
       "  <clipPath id=\"clip481\">\n",
       "    <rect x=\"480\" y=\"0\" width=\"1681\" height=\"1600\"/>\n",
       "  </clipPath>\n",
       "</defs>\n",
       "<path clip-path=\"url(#clip480)\" d=\"\n",
       "M188.574 1486.45 L2352.76 1486.45 L2352.76 47.2441 L188.574 47.2441  Z\n",
       "  \" fill=\"#ffffff\" fill-rule=\"evenodd\" fill-opacity=\"1\"/>\n",
       "<defs>\n",
       "  <clipPath id=\"clip482\">\n",
       "    <rect x=\"188\" y=\"47\" width=\"2165\" height=\"1440\"/>\n",
       "  </clipPath>\n",
       "</defs>\n",
       "<polyline clip-path=\"url(#clip482)\" style=\"stroke:#000000; stroke-linecap:round; stroke-linejoin:round; stroke-width:2; stroke-opacity:0.1; fill:none\" points=\"\n",
       "  247.121,1486.45 247.121,47.2441 \n",
       "  \"/>\n",
       "<polyline clip-path=\"url(#clip482)\" style=\"stroke:#000000; stroke-linecap:round; stroke-linejoin:round; stroke-width:2; stroke-opacity:0.1; fill:none\" points=\"\n",
       "  787.963,1486.45 787.963,47.2441 \n",
       "  \"/>\n",
       "<polyline clip-path=\"url(#clip482)\" style=\"stroke:#000000; stroke-linecap:round; stroke-linejoin:round; stroke-width:2; stroke-opacity:0.1; fill:none\" points=\"\n",
       "  1328.81,1486.45 1328.81,47.2441 \n",
       "  \"/>\n",
       "<polyline clip-path=\"url(#clip482)\" style=\"stroke:#000000; stroke-linecap:round; stroke-linejoin:round; stroke-width:2; stroke-opacity:0.1; fill:none\" points=\"\n",
       "  1869.65,1486.45 1869.65,47.2441 \n",
       "  \"/>\n",
       "<polyline clip-path=\"url(#clip480)\" style=\"stroke:#000000; stroke-linecap:round; stroke-linejoin:round; stroke-width:4; stroke-opacity:1; fill:none\" points=\"\n",
       "  188.574,1486.45 2352.76,1486.45 \n",
       "  \"/>\n",
       "<polyline clip-path=\"url(#clip480)\" style=\"stroke:#000000; stroke-linecap:round; stroke-linejoin:round; stroke-width:4; stroke-opacity:1; fill:none\" points=\"\n",
       "  247.121,1486.45 247.121,1467.55 \n",
       "  \"/>\n",
       "<polyline clip-path=\"url(#clip480)\" style=\"stroke:#000000; stroke-linecap:round; stroke-linejoin:round; stroke-width:4; stroke-opacity:1; fill:none\" points=\"\n",
       "  787.963,1486.45 787.963,1467.55 \n",
       "  \"/>\n",
       "<polyline clip-path=\"url(#clip480)\" style=\"stroke:#000000; stroke-linecap:round; stroke-linejoin:round; stroke-width:4; stroke-opacity:1; fill:none\" points=\"\n",
       "  1328.81,1486.45 1328.81,1467.55 \n",
       "  \"/>\n",
       "<polyline clip-path=\"url(#clip480)\" style=\"stroke:#000000; stroke-linecap:round; stroke-linejoin:round; stroke-width:4; stroke-opacity:1; fill:none\" points=\"\n",
       "  1869.65,1486.45 1869.65,1467.55 \n",
       "  \"/>\n",
       "<path clip-path=\"url(#clip480)\" d=\"M247.121 1517.37 Q243.509 1517.37 241.681 1520.93 Q239.875 1524.47 239.875 1531.6 Q239.875 1538.71 241.681 1542.27 Q243.509 1545.82 247.121 1545.82 Q250.755 1545.82 252.56 1542.27 Q254.389 1538.71 254.389 1531.6 Q254.389 1524.47 252.56 1520.93 Q250.755 1517.37 247.121 1517.37 M247.121 1513.66 Q252.931 1513.66 255.986 1518.27 Q259.065 1522.85 259.065 1531.6 Q259.065 1540.33 255.986 1544.94 Q252.931 1549.52 247.121 1549.52 Q241.31 1549.52 238.232 1544.94 Q235.176 1540.33 235.176 1531.6 Q235.176 1522.85 238.232 1518.27 Q241.31 1513.66 247.121 1513.66 Z\" fill=\"#000000\" fill-rule=\"evenodd\" fill-opacity=\"1\" /><path clip-path=\"url(#clip480)\" d=\"M751.655 1544.91 L767.975 1544.91 L767.975 1548.85 L746.03 1548.85 L746.03 1544.91 Q748.692 1542.16 753.276 1537.53 Q757.882 1532.88 759.063 1531.53 Q761.308 1529.01 762.188 1527.27 Q763.091 1525.51 763.091 1523.82 Q763.091 1521.07 761.146 1519.33 Q759.225 1517.6 756.123 1517.6 Q753.924 1517.6 751.47 1518.36 Q749.04 1519.13 746.262 1520.68 L746.262 1515.95 Q749.086 1514.82 751.54 1514.24 Q753.993 1513.66 756.03 1513.66 Q761.401 1513.66 764.595 1516.35 Q767.79 1519.03 767.79 1523.52 Q767.79 1525.65 766.979 1527.57 Q766.192 1529.47 764.086 1532.07 Q763.507 1532.74 760.405 1535.95 Q757.304 1539.15 751.655 1544.91 Z\" fill=\"#000000\" fill-rule=\"evenodd\" fill-opacity=\"1\" /><path clip-path=\"url(#clip480)\" d=\"M787.79 1517.37 Q784.178 1517.37 782.35 1520.93 Q780.544 1524.47 780.544 1531.6 Q780.544 1538.71 782.35 1542.27 Q784.178 1545.82 787.79 1545.82 Q791.424 1545.82 793.229 1542.27 Q795.058 1538.71 795.058 1531.6 Q795.058 1524.47 793.229 1520.93 Q791.424 1517.37 787.79 1517.37 M787.79 1513.66 Q793.6 1513.66 796.655 1518.27 Q799.734 1522.85 799.734 1531.6 Q799.734 1540.33 796.655 1544.94 Q793.6 1549.52 787.79 1549.52 Q781.979 1549.52 778.901 1544.94 Q775.845 1540.33 775.845 1531.6 Q775.845 1522.85 778.901 1518.27 Q781.979 1513.66 787.79 1513.66 Z\" fill=\"#000000\" fill-rule=\"evenodd\" fill-opacity=\"1\" /><path clip-path=\"url(#clip480)\" d=\"M817.951 1517.37 Q814.34 1517.37 812.512 1520.93 Q810.706 1524.47 810.706 1531.6 Q810.706 1538.71 812.512 1542.27 Q814.34 1545.82 817.951 1545.82 Q821.586 1545.82 823.391 1542.27 Q825.22 1538.71 825.22 1531.6 Q825.22 1524.47 823.391 1520.93 Q821.586 1517.37 817.951 1517.37 M817.951 1513.66 Q823.762 1513.66 826.817 1518.27 Q829.896 1522.85 829.896 1531.6 Q829.896 1540.33 826.817 1544.94 Q823.762 1549.52 817.951 1549.52 Q812.141 1549.52 809.063 1544.94 Q806.007 1540.33 806.007 1531.6 Q806.007 1522.85 809.063 1518.27 Q812.141 1513.66 817.951 1513.66 Z\" fill=\"#000000\" fill-rule=\"evenodd\" fill-opacity=\"1\" /><path clip-path=\"url(#clip480)\" d=\"M1301.9 1518.36 L1290.09 1536.81 L1301.9 1536.81 L1301.9 1518.36 M1300.67 1514.29 L1306.55 1514.29 L1306.55 1536.81 L1311.48 1536.81 L1311.48 1540.7 L1306.55 1540.7 L1306.55 1548.85 L1301.9 1548.85 L1301.9 1540.7 L1286.29 1540.7 L1286.29 1536.19 L1300.67 1514.29 Z\" fill=\"#000000\" fill-rule=\"evenodd\" fill-opacity=\"1\" /><path clip-path=\"url(#clip480)\" d=\"M1329.21 1517.37 Q1325.6 1517.37 1323.77 1520.93 Q1321.97 1524.47 1321.97 1531.6 Q1321.97 1538.71 1323.77 1542.27 Q1325.6 1545.82 1329.21 1545.82 Q1332.85 1545.82 1334.65 1542.27 Q1336.48 1538.71 1336.48 1531.6 Q1336.48 1524.47 1334.65 1520.93 Q1332.85 1517.37 1329.21 1517.37 M1329.21 1513.66 Q1335.02 1513.66 1338.08 1518.27 Q1341.16 1522.85 1341.16 1531.6 Q1341.16 1540.33 1338.08 1544.94 Q1335.02 1549.52 1329.21 1549.52 Q1323.4 1549.52 1320.32 1544.94 Q1317.27 1540.33 1317.27 1531.6 Q1317.27 1522.85 1320.32 1518.27 Q1323.4 1513.66 1329.21 1513.66 Z\" fill=\"#000000\" fill-rule=\"evenodd\" fill-opacity=\"1\" /><path clip-path=\"url(#clip480)\" d=\"M1359.37 1517.37 Q1355.76 1517.37 1353.93 1520.93 Q1352.13 1524.47 1352.13 1531.6 Q1352.13 1538.71 1353.93 1542.27 Q1355.76 1545.82 1359.37 1545.82 Q1363.01 1545.82 1364.81 1542.27 Q1366.64 1538.71 1366.64 1531.6 Q1366.64 1524.47 1364.81 1520.93 Q1363.01 1517.37 1359.37 1517.37 M1359.37 1513.66 Q1365.18 1513.66 1368.24 1518.27 Q1371.32 1522.85 1371.32 1531.6 Q1371.32 1540.33 1368.24 1544.94 Q1365.18 1549.52 1359.37 1549.52 Q1353.56 1549.52 1350.48 1544.94 Q1347.43 1540.33 1347.43 1531.6 Q1347.43 1522.85 1350.48 1518.27 Q1353.56 1513.66 1359.37 1513.66 Z\" fill=\"#000000\" fill-rule=\"evenodd\" fill-opacity=\"1\" /><path clip-path=\"url(#clip480)\" d=\"M1839.97 1529.7 Q1836.82 1529.7 1834.97 1531.86 Q1833.14 1534.01 1833.14 1537.76 Q1833.14 1541.49 1834.97 1543.66 Q1836.82 1545.82 1839.97 1545.82 Q1843.12 1545.82 1844.95 1543.66 Q1846.8 1541.49 1846.8 1537.76 Q1846.8 1534.01 1844.95 1531.86 Q1843.12 1529.7 1839.97 1529.7 M1849.25 1515.05 L1849.25 1519.31 Q1847.5 1518.48 1845.69 1518.04 Q1843.91 1517.6 1842.15 1517.6 Q1837.52 1517.6 1835.07 1520.72 Q1832.63 1523.85 1832.29 1530.17 Q1833.65 1528.15 1835.71 1527.09 Q1837.77 1526 1840.25 1526 Q1845.46 1526 1848.47 1529.17 Q1851.5 1532.32 1851.5 1537.76 Q1851.5 1543.08 1848.35 1546.3 Q1845.2 1549.52 1839.97 1549.52 Q1833.98 1549.52 1830.81 1544.94 Q1827.63 1540.33 1827.63 1531.6 Q1827.63 1523.41 1831.52 1518.55 Q1835.41 1513.66 1841.96 1513.66 Q1843.72 1513.66 1845.5 1514.01 Q1847.31 1514.36 1849.25 1515.05 Z\" fill=\"#000000\" fill-rule=\"evenodd\" fill-opacity=\"1\" /><path clip-path=\"url(#clip480)\" d=\"M1869.56 1517.37 Q1865.94 1517.37 1864.12 1520.93 Q1862.31 1524.47 1862.31 1531.6 Q1862.31 1538.71 1864.12 1542.27 Q1865.94 1545.82 1869.56 1545.82 Q1873.19 1545.82 1875 1542.27 Q1876.82 1538.71 1876.82 1531.6 Q1876.82 1524.47 1875 1520.93 Q1873.19 1517.37 1869.56 1517.37 M1869.56 1513.66 Q1875.37 1513.66 1878.42 1518.27 Q1881.5 1522.85 1881.5 1531.6 Q1881.5 1540.33 1878.42 1544.94 Q1875.37 1549.52 1869.56 1549.52 Q1863.75 1549.52 1860.67 1544.94 Q1857.61 1540.33 1857.61 1531.6 Q1857.61 1522.85 1860.67 1518.27 Q1863.75 1513.66 1869.56 1513.66 Z\" fill=\"#000000\" fill-rule=\"evenodd\" fill-opacity=\"1\" /><path clip-path=\"url(#clip480)\" d=\"M1899.72 1517.37 Q1896.11 1517.37 1894.28 1520.93 Q1892.47 1524.47 1892.47 1531.6 Q1892.47 1538.71 1894.28 1542.27 Q1896.11 1545.82 1899.72 1545.82 Q1903.35 1545.82 1905.16 1542.27 Q1906.99 1538.71 1906.99 1531.6 Q1906.99 1524.47 1905.16 1520.93 Q1903.35 1517.37 1899.72 1517.37 M1899.72 1513.66 Q1905.53 1513.66 1908.58 1518.27 Q1911.66 1522.85 1911.66 1531.6 Q1911.66 1540.33 1908.58 1544.94 Q1905.53 1549.52 1899.72 1549.52 Q1893.91 1549.52 1890.83 1544.94 Q1887.77 1540.33 1887.77 1531.6 Q1887.77 1522.85 1890.83 1518.27 Q1893.91 1513.66 1899.72 1513.66 Z\" fill=\"#000000\" fill-rule=\"evenodd\" fill-opacity=\"1\" /><polyline clip-path=\"url(#clip482)\" style=\"stroke:#000000; stroke-linecap:round; stroke-linejoin:round; stroke-width:2; stroke-opacity:0.1; fill:none\" points=\"\n",
       "  188.574,1213.46 2352.76,1213.46 \n",
       "  \"/>\n",
       "<polyline clip-path=\"url(#clip482)\" style=\"stroke:#000000; stroke-linecap:round; stroke-linejoin:round; stroke-width:2; stroke-opacity:0.1; fill:none\" points=\"\n",
       "  188.574,542.405 2352.76,542.405 \n",
       "  \"/>\n",
       "<polyline clip-path=\"url(#clip480)\" style=\"stroke:#000000; stroke-linecap:round; stroke-linejoin:round; stroke-width:4; stroke-opacity:1; fill:none\" points=\"\n",
       "  188.574,1486.45 188.574,47.2441 \n",
       "  \"/>\n",
       "<polyline clip-path=\"url(#clip480)\" style=\"stroke:#000000; stroke-linecap:round; stroke-linejoin:round; stroke-width:4; stroke-opacity:1; fill:none\" points=\"\n",
       "  188.574,1213.46 207.472,1213.46 \n",
       "  \"/>\n",
       "<polyline clip-path=\"url(#clip480)\" style=\"stroke:#000000; stroke-linecap:round; stroke-linejoin:round; stroke-width:4; stroke-opacity:1; fill:none\" points=\"\n",
       "  188.574,542.405 207.472,542.405 \n",
       "  \"/>\n",
       "<path clip-path=\"url(#clip480)\" d=\"M51.6634 1233.25 L59.3023 1233.25 L59.3023 1206.88 L50.9921 1208.55 L50.9921 1204.29 L59.256 1202.63 L63.9319 1202.63 L63.9319 1233.25 L71.5707 1233.25 L71.5707 1237.19 L51.6634 1237.19 L51.6634 1233.25 Z\" fill=\"#000000\" fill-rule=\"evenodd\" fill-opacity=\"1\" /><path clip-path=\"url(#clip480)\" d=\"M91.0151 1205.7 Q87.404 1205.7 85.5753 1209.27 Q83.7697 1212.81 83.7697 1219.94 Q83.7697 1227.05 85.5753 1230.61 Q87.404 1234.15 91.0151 1234.15 Q94.6493 1234.15 96.4548 1230.61 Q98.2835 1227.05 98.2835 1219.94 Q98.2835 1212.81 96.4548 1209.27 Q94.6493 1205.7 91.0151 1205.7 M91.0151 1202 Q96.8252 1202 99.8808 1206.61 Q102.959 1211.19 102.959 1219.94 Q102.959 1228.67 99.8808 1233.27 Q96.8252 1237.86 91.0151 1237.86 Q85.2049 1237.86 82.1262 1233.27 Q79.0707 1228.67 79.0707 1219.94 Q79.0707 1211.19 82.1262 1206.61 Q85.2049 1202 91.0151 1202 Z\" fill=\"#000000\" fill-rule=\"evenodd\" fill-opacity=\"1\" /><path clip-path=\"url(#clip480)\" d=\"M102.959 1196.1 L127.071 1196.1 L127.071 1199.3 L102.959 1199.3 L102.959 1196.1 Z\" fill=\"#000000\" fill-rule=\"evenodd\" fill-opacity=\"1\" /><path clip-path=\"url(#clip480)\" d=\"M146.782 1194.63 Q149.509 1195.22 151.032 1197.06 Q152.574 1198.9 152.574 1201.61 Q152.574 1205.77 149.716 1208.04 Q146.857 1210.32 141.591 1210.32 Q139.823 1210.32 137.942 1209.96 Q136.08 1209.62 134.086 1208.93 L134.086 1205.26 Q135.666 1206.18 137.547 1206.65 Q139.428 1207.12 141.478 1207.12 Q145.051 1207.12 146.913 1205.71 Q148.794 1204.3 148.794 1201.61 Q148.794 1199.13 147.045 1197.74 Q145.315 1196.33 142.211 1196.33 L138.939 1196.33 L138.939 1193.21 L142.362 1193.21 Q145.164 1193.21 146.65 1192.1 Q148.136 1190.97 148.136 1188.86 Q148.136 1186.7 146.593 1185.55 Q145.07 1184.38 142.211 1184.38 Q140.65 1184.38 138.863 1184.72 Q137.077 1185.06 134.933 1185.78 L134.933 1182.39 Q137.096 1181.79 138.976 1181.49 Q140.876 1181.19 142.55 1181.19 Q146.876 1181.19 149.396 1183.16 Q151.916 1185.12 151.916 1188.47 Q151.916 1190.8 150.581 1192.42 Q149.245 1194.01 146.782 1194.63 Z\" fill=\"#000000\" fill-rule=\"evenodd\" fill-opacity=\"1\" /><path clip-path=\"url(#clip480)\" d=\"M81.8687 562.198 L89.5075 562.198 L89.5075 535.832 L81.1974 537.499 L81.1974 533.239 L89.4612 531.573 L94.1371 531.573 L94.1371 562.198 L101.776 562.198 L101.776 566.133 L81.8687 566.133 L81.8687 562.198 Z\" fill=\"#000000\" fill-rule=\"evenodd\" fill-opacity=\"1\" /><path clip-path=\"url(#clip480)\" d=\"M121.22 534.651 Q117.609 534.651 115.781 538.216 Q113.975 541.758 113.975 548.887 Q113.975 555.994 115.781 559.559 Q117.609 563.1 121.22 563.1 Q124.855 563.1 126.66 559.559 Q128.489 555.994 128.489 548.887 Q128.489 541.758 126.66 538.216 Q124.855 534.651 121.22 534.651 M121.22 530.948 Q127.03 530.948 130.086 535.554 Q133.165 540.137 133.165 548.887 Q133.165 557.614 130.086 562.221 Q127.03 566.804 121.22 566.804 Q115.41 566.804 112.331 562.221 Q109.276 557.614 109.276 548.887 Q109.276 540.137 112.331 535.554 Q115.41 530.948 121.22 530.948 Z\" fill=\"#000000\" fill-rule=\"evenodd\" fill-opacity=\"1\" /><path clip-path=\"url(#clip480)\" d=\"M142.87 513.144 Q139.936 513.144 138.45 516.04 Q136.983 518.918 136.983 524.711 Q136.983 530.485 138.45 533.381 Q139.936 536.258 142.87 536.258 Q145.822 536.258 147.289 533.381 Q148.775 530.485 148.775 524.711 Q148.775 518.918 147.289 516.04 Q145.822 513.144 142.87 513.144 M142.87 510.135 Q147.59 510.135 150.073 513.877 Q152.574 517.601 152.574 524.711 Q152.574 531.801 150.073 535.544 Q147.59 539.268 142.87 539.268 Q138.149 539.268 135.647 535.544 Q133.165 531.801 133.165 524.711 Q133.165 517.601 135.647 513.877 Q138.149 510.135 142.87 510.135 Z\" fill=\"#000000\" fill-rule=\"evenodd\" fill-opacity=\"1\" /><polyline clip-path=\"url(#clip482)\" style=\"stroke:#009af9; stroke-linecap:round; stroke-linejoin:round; stroke-width:4; stroke-opacity:1; fill:none\" points=\"\n",
       "  249.825,87.9763 252.529,149.033 255.233,168.528 257.937,243.145 260.642,238.856 263.346,324.689 266.05,317.381 268.754,408.811 271.458,420.549 274.163,649.039 \n",
       "  276.867,490.596 279.571,575.647 282.275,456.552 284.98,629.113 287.684,474.855 290.388,562.557 293.092,582.151 295.796,670.133 298.501,495.559 301.205,472.983 \n",
       "  303.909,586.667 306.613,476.047 309.317,516.348 312.022,531.227 314.726,584.683 317.43,594.039 320.134,531.726 322.839,668.153 325.543,604.38 328.247,732.878 \n",
       "  330.951,634.81 333.655,696.903 336.36,859.11 339.064,654.858 341.768,815.94 344.472,648.916 347.176,823.944 349.881,766.674 352.585,595.407 355.289,754.185 \n",
       "  357.993,829.1 360.697,723.82 363.402,617.187 366.106,541.392 368.81,568.046 371.514,552.406 374.219,524.752 376.923,551.702 379.627,544.241 382.331,546.627 \n",
       "  385.035,545.918 387.74,771.968 390.444,680.653 393.148,488.532 395.852,720.517 398.556,564.406 401.261,525.832 403.965,568.185 406.669,649.479 409.373,850.319 \n",
       "  412.078,638.14 414.782,576.587 417.486,563.075 420.19,644.326 422.894,616.689 425.599,562.179 428.303,639.791 431.007,680.65 433.711,654.231 436.415,592.693 \n",
       "  439.12,650.126 441.824,621.393 444.528,579.412 447.232,599.882 449.937,622.895 452.641,559.579 455.345,645.931 458.049,610.997 460.753,568.964 463.458,580.693 \n",
       "  466.162,502.457 468.866,521.614 471.57,565.935 474.274,563.734 476.979,746.513 479.683,466.519 482.387,501.289 485.091,481.093 487.795,473.734 490.5,398.515 \n",
       "  493.204,455.66 495.908,545.076 498.612,567.519 501.317,587.102 504.021,469.647 506.725,555.814 509.429,501.981 512.133,473.39 514.838,503.576 517.542,509.479 \n",
       "  520.246,531.993 522.95,586.183 525.654,524.107 528.359,500.793 531.063,605.131 533.767,536.266 536.471,508.956 539.176,471.073 541.88,484.432 544.584,503.556 \n",
       "  547.288,585.557 549.992,818.15 552.697,609.923 555.401,654.926 558.105,551.181 560.809,624.19 563.513,598.168 566.218,808.363 568.922,657.703 571.626,534.525 \n",
       "  574.33,820.88 577.035,743.277 579.739,592.803 582.443,612.533 585.147,626.138 587.851,587.959 590.556,679.073 593.26,533.392 595.964,568.06 598.668,791.895 \n",
       "  601.372,604.047 604.077,1187.34 606.781,641.722 609.485,809.185 612.189,608.159 614.893,832.262 617.598,558.407 620.302,642.232 623.006,571.763 625.71,693.178 \n",
       "  628.415,659.224 631.119,628.556 633.823,730.491 636.527,657.67 639.231,561.928 641.936,578.629 644.64,480.341 647.344,404.05 650.048,458.822 652.752,570.259 \n",
       "  655.457,595.793 658.161,693.801 660.865,614.049 663.569,487.294 666.274,592.546 668.978,555.702 671.682,627.156 674.386,531.212 677.09,567.39 679.795,547.521 \n",
       "  682.499,635.047 685.203,452.551 687.907,528.564 690.611,516.721 693.316,568.792 696.02,582.947 698.724,717.129 701.428,581.394 704.133,903.08 706.837,536.558 \n",
       "  709.541,605.243 712.245,593.781 714.949,575.306 717.654,471.02 720.358,525.466 723.062,607.123 725.766,622.317 728.47,653.064 731.175,722.24 733.879,666.792 \n",
       "  736.583,521.546 739.287,567.523 741.992,547.992 744.696,750.948 747.4,729.838 750.104,595.85 752.808,566.029 755.513,595.341 758.217,527.767 760.921,587.937 \n",
       "  763.625,541.842 766.329,583.519 769.034,671.011 771.738,700.702 774.442,575.822 777.146,481.754 779.85,520.312 782.555,640.75 785.259,696.636 787.963,648.413 \n",
       "  790.667,938.279 793.372,556.022 796.076,602.785 798.78,558.548 801.484,581.538 804.188,565.404 806.893,525.47 809.597,545.548 812.301,552.228 815.005,607.878 \n",
       "  817.709,468.194 820.414,477.783 823.118,535.459 825.822,641.495 828.526,627.1 831.231,665.922 833.935,598.799 836.639,679.636 839.343,602.673 842.047,709.999 \n",
       "  844.752,652.961 847.456,596.721 850.16,762.425 852.864,552.007 855.568,516.477 858.273,540.759 860.977,671.374 863.681,727.349 866.385,614.944 869.09,670.486 \n",
       "  871.794,535.485 874.498,477.124 877.202,522.741 879.906,657.009 882.611,511.189 885.315,684.555 888.019,1105.8 890.723,602.755 893.427,783.834 896.132,535.11 \n",
       "  898.836,493.633 901.54,518.949 904.244,661.172 906.948,783.807 909.653,610.525 912.357,575.177 915.061,614.832 917.765,496.882 920.47,540.395 923.174,570.519 \n",
       "  925.878,551.645 928.582,477.643 931.286,586.055 933.991,601.754 936.695,1164.93 939.399,586.437 942.103,463.371 944.807,508.256 947.512,449.677 950.216,639.195 \n",
       "  952.92,601.353 955.624,656.388 958.329,549.905 961.033,799.08 963.737,750.536 966.441,668.366 969.145,652.134 971.85,446.404 974.554,767.292 977.258,481.989 \n",
       "  979.962,542.718 982.666,442.083 985.371,433.882 988.075,616.112 990.779,549.643 993.483,476.158 996.188,717.959 998.892,679.49 1001.6,545.762 1004.3,548.896 \n",
       "  1007,667.079 1009.71,715.745 1012.41,497.068 1015.12,591.196 1017.82,544.692 1020.53,436.683 1023.23,374.787 1025.93,351.84 1028.64,420.986 1031.34,353.719 \n",
       "  1034.05,391.063 1036.75,419.983 1039.45,591.291 1042.16,422.252 1044.86,672.135 1047.57,459.807 1050.27,352.847 1052.98,507.962 1055.68,479.26 1058.38,327.234 \n",
       "  1061.09,481.523 1063.79,343.402 1066.5,427.876 1069.2,446.133 1071.91,426.066 1074.61,384.102 1077.31,371.8 1080.02,458.17 1082.72,512.955 1085.43,392.815 \n",
       "  1088.13,640.912 1090.83,539.45 1093.54,617.477 1096.24,416.151 1098.95,496.043 1101.65,471.581 1104.36,413.592 1107.06,450.512 1109.76,442.813 1112.47,450.179 \n",
       "  1115.17,474.724 1117.88,385.283 1120.58,459.075 1123.29,475.802 1125.99,711.238 1128.69,471.01 1131.4,409.133 1134.1,547.42 1136.81,595.052 1139.51,500.251 \n",
       "  1142.22,502.242 1144.92,576.08 1147.62,493.674 1150.33,458.486 1153.03,621.347 1155.74,550.663 1158.44,495.957 1161.14,507.284 1163.85,484.001 1166.55,454.36 \n",
       "  1169.26,440.68 1171.96,582.881 1174.67,558.508 1177.37,589.047 1180.07,543.888 1182.78,547.019 1185.48,612.735 1188.19,508.294 1190.89,599.552 1193.6,706.18 \n",
       "  1196.3,667.424 1199,611.864 1201.71,798.976 1204.41,591.311 1207.12,572.996 1209.82,603.237 1212.52,557.998 1215.23,616.87 1217.93,487.399 1220.64,495.165 \n",
       "  1223.34,420.48 1226.05,391.915 1228.75,506.946 1231.45,533.061 1234.16,794.625 1236.86,476.02 1239.57,485.771 1242.27,564.391 1244.98,771.384 1247.68,503.856 \n",
       "  1250.38,429.012 1253.09,681.831 1255.79,526.169 1258.5,455.981 1261.2,673.726 1263.9,555.2 1266.61,737.927 1269.31,667.58 1272.02,470.092 1274.72,517.86 \n",
       "  1277.43,454.532 1280.13,458.816 1282.83,545.524 1285.54,667.612 1288.24,545.715 1290.95,498.455 1293.65,583.661 1296.36,584.912 1299.06,541.003 1301.76,621.348 \n",
       "  1304.47,595.695 1307.17,393.887 1309.88,396.497 1312.58,650.22 1315.28,475.87 1317.99,554.194 1320.69,495.526 1323.4,309.111 1326.1,310.312 1328.81,348.019 \n",
       "  1331.51,388.594 1334.21,377.52 1336.92,560.075 1339.62,544.4 1342.33,466.168 1345.03,580.227 1347.74,415.601 1350.44,504.26 1353.14,508.859 1355.85,591.451 \n",
       "  1358.55,556.97 1361.26,463.627 1363.96,336.465 1366.66,356.055 1369.37,418.87 1372.07,439.956 1374.78,1056.72 1377.48,520.032 1380.19,416.786 1382.89,346.858 \n",
       "  1385.59,440.566 1388.3,321.538 1391,340.28 1393.71,286.349 1396.41,376.741 1399.12,380.791 1401.82,370.859 1404.52,571.927 1407.23,738.942 1409.93,441.816 \n",
       "  1412.64,389.436 1415.34,358.308 1418.04,458.613 1420.75,502.241 1423.45,404.861 1426.16,502.652 1428.86,459.045 1431.57,392.63 1434.27,463.43 1436.97,436.419 \n",
       "  1439.68,462.139 1442.38,446.591 1445.09,554.254 1447.79,457.561 1450.5,579.894 1453.2,656.245 1455.9,522.796 1458.61,328.119 1461.31,448.191 1464.02,518.601 \n",
       "  1466.72,646.525 1469.42,441.27 1472.13,383.147 1474.83,462.209 1477.54,484.475 1480.24,451.99 1482.95,466.91 1485.65,476.11 1488.35,648.471 1491.06,381.256 \n",
       "  1493.76,849.712 1496.47,368.763 1499.17,377.499 1501.88,539.956 1504.58,432.315 1507.28,344.835 1509.99,401.478 1512.69,641.316 1515.4,484.762 1518.1,468.806 \n",
       "  1520.8,552.058 1523.51,546.113 1526.21,518.456 1528.92,660.048 1531.62,467.082 1534.33,539.654 1537.03,463.686 1539.73,383.464 1542.44,451.655 1545.14,586.112 \n",
       "  1547.85,806.778 1550.55,440.615 1553.26,378.562 1555.96,406.509 1558.66,479.166 1561.37,747.895 1564.07,580.814 1566.78,528.994 1569.48,466.522 1572.18,668.458 \n",
       "  1574.89,524.565 1577.59,486.141 1580.3,387.76 1583,416.24 1585.71,440.214 1588.41,723.048 1591.11,765.463 1593.82,409.97 1596.52,505.484 1599.23,474.895 \n",
       "  1601.93,375.381 1604.64,476.426 1607.34,573.661 1610.04,490.225 1612.75,377.629 1615.45,467.472 1618.16,372.75 1620.86,802.351 1623.56,471.711 1626.27,467.248 \n",
       "  1628.97,494.123 1631.68,699.507 1634.38,490.849 1637.09,422.998 1639.79,498.944 1642.49,447.403 1645.2,348.947 1647.9,350.974 1650.61,334.003 1653.31,380.87 \n",
       "  1656.02,506.541 1658.72,388.393 1661.42,322.944 1664.13,390.695 1666.83,485.086 1669.54,488.12 1672.24,449.198 1674.94,528.189 1677.65,662.963 1680.35,560.463 \n",
       "  1683.06,476.131 1685.76,493.244 1688.47,522.095 1691.17,439.349 1693.87,389.06 1696.58,395.777 1699.28,427.654 1701.99,372.916 1704.69,396.858 1707.4,431.442 \n",
       "  1710.1,354.789 1712.8,399.504 1715.51,419.665 1718.21,599.528 1720.92,427.039 1723.62,399.127 1726.32,437.878 1729.03,361.266 1731.73,634.984 1734.44,1445.72 \n",
       "  1737.14,560.11 1739.85,562.544 1742.55,481.91 1745.25,412.36 1747.96,608.825 1750.66,422.906 1753.37,393.547 1756.07,562.386 1758.78,579.797 1761.48,465.562 \n",
       "  1764.18,482.211 1766.89,606.361 1769.59,574.576 1772.3,501.519 1775,610.741 1777.71,496.845 1780.41,424.552 1783.11,431.863 1785.82,441.665 1788.52,395.66 \n",
       "  1791.23,388.575 1793.93,488.631 1796.63,430.367 1799.34,858.168 1802.04,536.286 1804.75,524.228 1807.45,678.763 1810.16,559.826 1812.86,502.21 1815.56,476.471 \n",
       "  1818.27,796.118 1820.97,511.128 1823.68,642.376 1826.38,608.492 1829.09,494.363 1831.79,442.901 1834.49,487.403 1837.2,382.588 1839.9,396.24 1842.61,610.404 \n",
       "  1845.31,605.89 1848.01,441.455 1850.72,406.993 1853.42,375.164 1856.13,445.803 1858.83,481.988 1861.54,648.905 1864.24,526.546 1866.94,472.05 1869.65,522.286 \n",
       "  1872.35,516.524 1875.06,566.898 1877.76,706.992 1880.47,639.183 1883.17,476.684 1885.87,451.193 1888.58,467.226 1891.28,549.102 1893.99,478.885 1896.69,588.483 \n",
       "  1899.39,566.681 1902.1,570.413 1904.8,530.014 1907.51,542.906 1910.21,619.743 1912.92,434.211 1915.62,504.289 1918.32,552.905 1921.03,466.286 1923.73,605.084 \n",
       "  1926.44,518.743 1929.14,458.943 1931.85,528.053 1934.55,715.833 1937.25,595.732 1939.96,565.955 1942.66,469.209 1945.37,478.651 1948.07,505.158 1950.77,429.76 \n",
       "  1953.48,405.148 1956.18,386.585 1958.89,476.413 1961.59,465.052 1964.3,567.411 1967,572.02 1969.7,400.798 1972.41,480.74 1975.11,542.174 1977.82,377.545 \n",
       "  1980.52,571.311 1983.23,553.363 1985.93,584.083 1988.63,444.388 1991.34,492.997 1994.04,526.005 1996.75,418.895 1999.45,474.568 2002.15,505.701 2004.86,539.825 \n",
       "  2007.56,548.922 2010.27,642.335 2012.97,676.934 2015.68,531.276 2018.38,500.442 2021.08,504.405 2023.79,523.838 2026.49,458.098 2029.2,488.542 2031.9,434.536 \n",
       "  2034.61,553.569 2037.31,407.725 2040.01,432.907 2042.72,565.191 2045.42,535.279 2048.13,543.275 2050.83,549.847 2053.53,476.233 2056.24,563.178 2058.94,408.774 \n",
       "  2061.65,489.286 2064.35,513.519 2067.06,483.794 2069.76,535.522 2072.46,433.519 2075.17,678.21 2077.87,509.486 2080.58,360.175 2083.28,390.198 2085.99,400.455 \n",
       "  2088.69,462.258 2091.39,547.19 2094.1,410.27 2096.8,371.372 2099.51,401.231 2102.21,775.819 2104.91,540.292 2107.62,523.049 2110.32,517.61 2113.03,388.563 \n",
       "  2115.73,427.143 2118.44,426.415 2121.14,508.347 2123.84,412.584 2126.55,498.936 2129.25,613.171 2131.96,554.332 2134.66,554.299 2137.37,608.888 2140.07,501.663 \n",
       "  2142.77,447.316 2145.48,514.975 2148.18,489.373 2150.89,430.564 2153.59,408.203 2156.29,435.97 2159,502.986 2161.7,752.276 2164.41,552.296 2167.11,842.42 \n",
       "  2169.82,564.303 2172.52,432.189 2175.22,602.156 2177.93,475.687 2180.63,627.273 2183.34,588.118 2186.04,691.427 2188.75,862.19 2191.45,555.452 2194.15,544.797 \n",
       "  2196.86,422.287 2199.56,429.3 2202.27,665.503 2204.97,844.857 2207.67,521.283 2210.38,436.694 2213.08,363.034 2215.79,356.326 2218.49,389.745 2221.2,442.671 \n",
       "  2223.9,493.01 2226.6,392.03 2229.31,586.908 2232.01,384.49 2234.72,436.321 2237.42,531.877 2240.13,472.608 2242.83,525.099 2245.53,356.479 2248.24,330.045 \n",
       "  2250.94,375.995 2253.65,345.11 2256.35,548.041 2259.05,454.305 2261.76,427.5 2264.46,382.129 2267.17,381.791 2269.87,388.25 2272.58,570.657 2275.28,429.706 \n",
       "  2277.98,444.567 2280.69,368.546 2283.39,455.274 2286.1,548.615 2288.8,530.511 2291.51,467.604 \n",
       "  \"/>\n",
       "<polyline clip-path=\"url(#clip482)\" style=\"stroke:#e26f46; stroke-linecap:round; stroke-linejoin:round; stroke-width:4; stroke-opacity:1; fill:none\" points=\"\n",
       "  249.825,114.036 252.529,172.75 255.233,274.586 257.937,287.843 260.642,257.574 263.346,330.807 266.05,746.698 268.754,490.489 271.458,645.716 274.163,584.23 \n",
       "  276.867,912.427 279.571,707.41 282.275,613.558 284.98,650.626 287.684,580.794 290.388,535.416 293.092,651.982 295.796,1112.65 298.501,688.527 301.205,704.038 \n",
       "  303.909,864.417 306.613,560.54 309.317,595.842 312.022,613.092 314.726,722.512 317.43,647.647 320.134,690.853 322.839,709.437 325.543,769.485 328.247,868.733 \n",
       "  330.951,664.444 333.655,853.265 336.36,972.301 339.064,761.156 341.768,756.769 344.472,623.936 347.176,1022.28 349.881,819.489 352.585,688.552 355.289,646.839 \n",
       "  357.993,605.969 360.697,717.232 363.402,598.28 366.106,672.464 368.81,1095.26 371.514,787.987 374.219,705.939 376.923,721.425 379.627,620.519 382.331,704.725 \n",
       "  385.035,592.819 387.74,601.241 390.444,580.689 393.148,577.865 395.852,756.588 398.556,781.543 401.261,711.993 403.965,1028.92 406.669,686.207 409.373,708.332 \n",
       "  412.078,768.526 414.782,851.866 417.486,715.276 420.19,695.047 422.894,725.501 425.599,615.105 428.303,650.858 431.007,698.891 433.711,668.092 436.415,667.255 \n",
       "  439.12,891.866 441.824,849.949 444.528,701.371 447.232,718.018 449.937,624.709 452.641,611.166 455.345,666.586 458.049,575.727 460.753,557.945 463.458,780.351 \n",
       "  466.162,714.543 468.866,611.206 471.57,537.08 474.274,675.93 476.979,581.651 479.683,579.964 482.387,484.362 485.091,735.412 487.795,639.156 490.5,933.098 \n",
       "  493.204,740.95 495.908,554.433 498.612,623.753 501.317,634.782 504.021,594.899 506.725,646.154 509.429,667.446 512.133,850.54 514.838,888.935 517.542,625.647 \n",
       "  520.246,638.753 522.95,582.252 525.654,612.51 528.359,635.591 531.063,606.18 533.767,658.666 536.471,674.512 539.176,652.937 541.88,633.114 544.584,599.585 \n",
       "  547.288,662.588 549.992,670.182 552.697,678.222 555.401,843.936 558.105,659.827 560.809,680.704 563.513,594.499 566.218,756.786 568.922,751.913 571.626,619.154 \n",
       "  574.33,694.831 577.035,894.944 579.739,710.445 582.443,691.036 585.147,566.155 587.851,713.353 590.556,947.781 593.26,651.753 595.964,778.797 598.668,871.096 \n",
       "  601.372,746.999 604.077,657.254 606.781,987.845 609.485,608.701 612.189,663.02 614.893,760.276 617.598,722.581 620.302,640.179 623.006,678.644 625.71,742.542 \n",
       "  628.415,657.663 631.119,672.122 633.823,576.135 636.527,557.495 639.231,491.547 641.936,731.324 644.64,685.736 647.344,621.047 650.048,701.409 652.752,682.393 \n",
       "  655.457,525.743 658.161,593.071 660.865,625.658 663.569,720.45 666.274,628.799 668.978,800.301 671.682,777.397 674.386,717.237 677.09,508.745 679.795,783.571 \n",
       "  682.499,600.749 685.203,763.394 687.907,674.08 690.611,713.164 693.316,654.11 696.02,727.366 698.724,610.248 701.428,866.385 704.133,745.713 706.837,823.608 \n",
       "  709.541,566.158 712.245,826.788 714.949,556.068 717.654,645.335 720.358,704.067 723.062,803.925 725.766,604.211 728.47,565.751 731.175,720.408 733.879,666.175 \n",
       "  736.583,678.403 739.287,666.822 741.992,644.616 744.696,609.935 747.4,795.288 750.104,567.169 752.808,684.122 755.513,596.917 758.217,773.28 760.921,601.188 \n",
       "  763.625,780.601 766.329,660.548 769.034,571.877 771.738,736.907 774.442,631.546 777.146,633.69 779.85,701.145 782.555,775.635 785.259,726.04 787.963,682.249 \n",
       "  790.667,733.743 793.372,833.619 796.076,720.004 798.78,718.219 801.484,543.385 804.188,620.501 806.893,653.724 809.597,559.94 812.301,694.202 815.005,651.344 \n",
       "  817.709,691.217 820.414,814.869 823.118,746.637 825.822,725.423 828.526,639.063 831.231,1114.23 833.935,635.35 836.639,813.603 839.343,992.229 842.047,643.936 \n",
       "  844.752,586.072 847.456,597.297 850.16,671.316 852.864,653.585 855.568,649.599 858.273,709.348 860.977,752.953 863.681,602.943 866.385,561.376 869.09,700.445 \n",
       "  871.794,636.415 874.498,600.187 877.202,616.399 879.906,764.161 882.611,686.098 885.315,1121.43 888.019,672.194 890.723,662.765 893.427,990.796 896.132,658.017 \n",
       "  898.836,662.001 901.54,638.09 904.244,685.346 906.948,702.283 909.653,627.82 912.357,768.484 915.061,872.327 917.765,772.454 920.47,601.901 923.174,628.858 \n",
       "  925.878,699.514 928.582,618.28 931.286,690.971 933.991,578.596 936.695,738.473 939.399,591.765 942.103,575.613 944.807,603.62 947.512,827.538 950.216,773.696 \n",
       "  952.92,620.616 955.624,633.684 958.329,823.014 961.033,671.859 963.737,507.107 966.441,626.926 969.145,559.84 971.85,895.056 974.554,475.5 977.258,549.073 \n",
       "  979.962,526.51 982.666,611.689 985.371,644.452 988.075,547.207 990.779,955.825 993.483,691.434 996.188,592.406 998.892,634.167 1001.6,614.821 1004.3,550.25 \n",
       "  1007,739.572 1009.71,636.753 1012.41,513.28 1015.12,460.879 1017.82,473.417 1020.53,672.067 1023.23,460.339 1025.93,603.559 1028.64,430.456 1031.34,846.438 \n",
       "  1034.05,473.501 1036.75,542.445 1039.45,596.922 1042.16,430.776 1044.86,542.647 1047.57,557.917 1050.27,407.365 1052.98,451.341 1055.68,411.923 1058.38,541.761 \n",
       "  1061.09,569.792 1063.79,607.337 1066.5,481.157 1069.2,499.104 1071.91,434.411 1074.61,589.207 1077.31,476.387 1080.02,529.209 1082.72,581.557 1085.43,681.393 \n",
       "  1088.13,465.306 1090.83,658.595 1093.54,533.734 1096.24,451.804 1098.95,791.408 1101.65,598.168 1104.36,648.431 1107.06,626.177 1109.76,481.151 1112.47,588.787 \n",
       "  1115.17,708.553 1117.88,533.708 1120.58,516.71 1123.29,492.303 1125.99,1011.04 1128.69,678.162 1131.4,575.873 1134.1,721.392 1136.81,582.04 1139.51,535.592 \n",
       "  1142.22,571.874 1144.92,609.212 1147.62,804.959 1150.33,682.368 1153.03,637.171 1155.74,717.792 1158.44,634.425 1161.14,608.704 1163.85,587.522 1166.55,544.802 \n",
       "  1169.26,635.83 1171.96,595.024 1174.67,616.927 1177.37,621.735 1180.07,619.674 1182.78,670.531 1185.48,828.028 1188.19,636.357 1190.89,653.536 1193.6,716.846 \n",
       "  1196.3,624.27 1199,664.941 1201.71,960.044 1204.41,747.319 1207.12,602.288 1209.82,563.327 1212.52,657.257 1215.23,531.366 1217.93,530.354 1220.64,465.367 \n",
       "  1223.34,627.836 1226.05,921.716 1228.75,546.136 1231.45,708.308 1234.16,581.186 1236.86,636.983 1239.57,559.445 1242.27,537.992 1244.98,537.77 1247.68,976.089 \n",
       "  1250.38,490.056 1253.09,611.619 1255.79,685.323 1258.5,615.156 1261.2,693.828 1263.9,567.984 1266.61,691.334 1269.31,566.072 1272.02,760.819 1274.72,683.799 \n",
       "  1277.43,618.523 1280.13,702.865 1282.83,696.916 1285.54,541.663 1288.24,583.446 1290.95,602.765 1293.65,589.421 1296.36,650.029 1299.06,448.692 1301.76,548.941 \n",
       "  1304.47,551.749 1307.17,569.739 1309.88,572.926 1312.58,616.569 1315.28,377.984 1317.99,443.774 1320.69,577.311 1323.4,692.179 1326.1,525.205 1328.81,509.949 \n",
       "  1331.51,557.26 1334.21,445.066 1336.92,621.233 1339.62,542.719 1342.33,612.634 1345.03,639.612 1347.74,671.651 1350.44,704.495 1353.14,558.23 1355.85,440.943 \n",
       "  1358.55,538.49 1361.26,590.686 1363.96,731.174 1366.66,531.356 1369.37,560.664 1372.07,537.322 1374.78,464.336 1377.48,535.42 1380.19,366.07 1382.89,476.66 \n",
       "  1385.59,395.211 1388.3,545.098 1391,479.571 1393.71,505.183 1396.41,473.901 1399.12,556.835 1401.82,611.15 1404.52,505.683 1407.23,481.462 1409.93,514.068 \n",
       "  1412.64,524.453 1415.34,466.612 1418.04,828.703 1420.75,470.818 1423.45,457.973 1426.16,789.089 1428.86,693.255 1431.57,600.184 1434.27,480.891 1436.97,564.193 \n",
       "  1439.68,470.253 1442.38,701.426 1445.09,674.817 1447.79,602.336 1450.5,405.572 1453.2,524.946 1455.9,661.58 1458.61,550.975 1461.31,516.998 1464.02,472.787 \n",
       "  1466.72,570.24 1469.42,611.367 1472.13,559.958 1474.83,601.694 1477.54,692.189 1480.24,542.548 1482.95,450.46 1485.65,516.504 1488.35,439.157 1491.06,568.456 \n",
       "  1493.76,575.116 1496.47,468.204 1499.17,429.414 1501.88,985.689 1504.58,548.733 1507.28,573.445 1509.99,506.839 1512.69,664.719 1515.4,567.08 1518.1,722.73 \n",
       "  1520.8,592.489 1523.51,559.997 1526.21,626.631 1528.92,540.01 1531.62,466.199 1534.33,758.605 1537.03,639.213 1539.73,614.915 1542.44,523.081 1545.14,475.377 \n",
       "  1547.85,558.25 1550.55,732.125 1553.26,567.427 1555.96,711.032 1558.66,1220.43 1561.37,479.729 1564.07,711.175 1566.78,571.221 1569.48,599.493 1572.18,447.559 \n",
       "  1574.89,653.602 1577.59,610.793 1580.3,515.268 1583,722.868 1585.71,482.522 1588.41,573.679 1591.11,816.936 1593.82,488.185 1596.52,609.806 1599.23,537.705 \n",
       "  1601.93,502.25 1604.64,459.186 1607.34,848.044 1610.04,444.876 1612.75,512.305 1615.45,551.531 1618.16,514.509 1620.86,682.76 1623.56,594.404 1626.27,633.453 \n",
       "  1628.97,509.108 1631.68,643.365 1634.38,473.182 1637.09,434.113 1639.79,500.794 1642.49,475.022 1645.2,648.816 1647.9,562.585 1650.61,423.803 1653.31,399.853 \n",
       "  1656.02,609.613 1658.72,729.542 1661.42,582.212 1664.13,512.799 1666.83,698.548 1669.54,593.236 1672.24,615.22 1674.94,568.708 1677.65,635.871 1680.35,628.924 \n",
       "  1683.06,518.679 1685.76,488.551 1688.47,539.571 1691.17,714.099 1693.87,480.126 1696.58,584.213 1699.28,663.129 1701.99,474.919 1704.69,737.38 1707.4,429.458 \n",
       "  1710.1,779.859 1712.8,499.168 1715.51,498.544 1718.21,610.791 1720.92,471.561 1723.62,522.521 1726.32,679.323 1729.03,541.007 1731.73,772.225 1734.44,532.423 \n",
       "  1737.14,503.518 1739.85,584.793 1742.55,458.561 1745.25,504.593 1747.96,511.779 1750.66,640.601 1753.37,495 1756.07,603.79 1758.78,633.897 1761.48,634.71 \n",
       "  1764.18,542.545 1766.89,594.417 1769.59,587.823 1772.3,500.189 1775,642.128 1777.71,605.318 1780.41,520.986 1783.11,526.395 1785.82,552.151 1788.52,588.239 \n",
       "  1791.23,506.462 1793.93,638.489 1796.63,609.871 1799.34,612.819 1802.04,534.307 1804.75,571.617 1807.45,553.125 1810.16,608.782 1812.86,672.632 1815.56,617.566 \n",
       "  1818.27,600.962 1820.97,613.337 1823.68,536.799 1826.38,791.755 1829.09,452.176 1831.79,575.872 1834.49,576.088 1837.2,637.628 1839.9,510.736 1842.61,525.339 \n",
       "  1845.31,501.122 1848.01,567.067 1850.72,505.104 1853.42,619.558 1856.13,576.03 1858.83,636.636 1861.54,500.89 1864.24,579.277 1866.94,679.88 1869.65,670.675 \n",
       "  1872.35,722.797 1875.06,563.568 1877.76,540.432 1880.47,624.888 1883.17,1232.27 1885.87,564.167 1888.58,568.63 1891.28,690.612 1893.99,633.3 1896.69,689.014 \n",
       "  1899.39,565.545 1902.1,630.378 1904.8,518.186 1907.51,673.812 1910.21,704.905 1912.92,627.815 1915.62,574.106 1918.32,611.328 1921.03,629.711 1923.73,659.319 \n",
       "  1926.44,606.304 1929.14,572.63 1931.85,606.298 1934.55,593.952 1937.25,790.737 1939.96,720.429 1942.66,541.432 1945.37,531.482 1948.07,527.688 1950.77,555.132 \n",
       "  1953.48,715.568 1956.18,592.422 1958.89,762.276 1961.59,518.626 1964.3,579.239 1967,505.762 1969.7,439.161 1972.41,551.191 1975.11,669.177 1977.82,717.473 \n",
       "  1980.52,583.346 1983.23,720.893 1985.93,571.351 1988.63,496.436 1991.34,687.013 1994.04,684.37 1996.75,621.233 1999.45,607.369 2002.15,749.587 2004.86,807.615 \n",
       "  2007.56,590.118 2010.27,626.246 2012.97,619.193 2015.68,657.137 2018.38,515.412 2021.08,684.076 2023.79,546.997 2026.49,613.636 2029.2,462.343 2031.9,590.889 \n",
       "  2034.61,722.111 2037.31,578.839 2040.01,675.757 2042.72,544.215 2045.42,597.608 2048.13,654.038 2050.83,467.009 2053.53,621.531 2056.24,740.075 2058.94,653.874 \n",
       "  2061.65,670.431 2064.35,532.585 2067.06,519.549 2069.76,527.761 2072.46,429.315 2075.17,564.746 2077.87,541.424 2080.58,730.905 2083.28,758.201 2085.99,499.68 \n",
       "  2088.69,503.199 2091.39,700.898 2094.1,509.003 2096.8,565.427 2099.51,729.085 2102.21,567.412 2104.91,487.622 2107.62,1054.1 2110.32,554.939 2113.03,733.775 \n",
       "  2115.73,482.033 2118.44,623.379 2121.14,552.33 2123.84,568.072 2126.55,791.774 2129.25,614.311 2131.96,595.673 2134.66,572.751 2137.37,533.857 2140.07,612.816 \n",
       "  2142.77,562.814 2145.48,538.84 2148.18,648.896 2150.89,878.516 2153.59,549.901 2156.29,577.451 2159,672.791 2161.7,571.705 2164.41,513.65 2167.11,513.803 \n",
       "  2169.82,544.173 2172.52,802.523 2175.22,612.507 2177.93,732.833 2180.63,605.412 2183.34,587.173 2186.04,765.448 2188.75,497.321 2191.45,564.619 2194.15,572.694 \n",
       "  2196.86,845.964 2199.56,608.612 2202.27,535.959 2204.97,453.189 2207.67,482.875 2210.38,694.244 2213.08,675.775 2215.79,652.286 2218.49,431.493 2221.2,710.011 \n",
       "  2223.9,475.264 2226.6,765.169 2229.31,555.445 2232.01,484.408 2234.72,505.108 2237.42,433.787 2240.13,471.933 2242.83,654.992 2245.53,486.685 2248.24,499.058 \n",
       "  2250.94,490.562 2253.65,527.679 2256.35,404.469 2259.05,480.871 2261.76,477.122 2264.46,524.814 2267.17,480.36 2269.87,744.341 2272.58,461.558 2275.28,731.174 \n",
       "  2277.98,794.238 2280.69,530.542 2283.39,523.023 \n",
       "  \"/>\n",
       "<path clip-path=\"url(#clip480)\" d=\"\n",
       "M982.681 250.738 L2280.62 250.738 L2280.62 95.2176 L982.681 95.2176  Z\n",
       "  \" fill=\"#ffffff\" fill-rule=\"evenodd\" fill-opacity=\"1\"/>\n",
       "<polyline clip-path=\"url(#clip480)\" style=\"stroke:#000000; stroke-linecap:round; stroke-linejoin:round; stroke-width:4; stroke-opacity:1; fill:none\" points=\"\n",
       "  982.681,250.738 2280.62,250.738 2280.62,95.2176 982.681,95.2176 982.681,250.738 \n",
       "  \"/>\n",
       "<polyline clip-path=\"url(#clip480)\" style=\"stroke:#009af9; stroke-linecap:round; stroke-linejoin:round; stroke-width:4; stroke-opacity:1; fill:none\" points=\"\n",
       "  1006.73,147.058 1151.01,147.058 \n",
       "  \"/>\n",
       "<path clip-path=\"url(#clip480)\" d=\"M1190.89 134.384 L1184.54 151.583 L1197.25 151.583 L1190.89 134.384 M1188.25 129.778 L1193.55 129.778 L1206.72 164.338 L1201.86 164.338 L1198.71 155.472 L1183.13 155.472 L1179.98 164.338 L1175.05 164.338 L1188.25 129.778 Z\" fill=\"#000000\" fill-rule=\"evenodd\" fill-opacity=\"1\" /><path clip-path=\"url(#clip480)\" d=\"M1229.4 139.407 L1229.4 143.389 Q1227.6 142.393 1225.77 141.907 Q1223.96 141.398 1222.11 141.398 Q1217.97 141.398 1215.68 144.037 Q1213.39 146.652 1213.39 151.398 Q1213.39 156.143 1215.68 158.782 Q1217.97 161.398 1222.11 161.398 Q1223.96 161.398 1225.77 160.912 Q1227.6 160.402 1229.4 159.407 L1229.4 163.342 Q1227.62 164.176 1225.7 164.592 Q1223.8 165.009 1221.65 165.009 Q1215.79 165.009 1212.34 161.328 Q1208.89 157.648 1208.89 151.398 Q1208.89 145.055 1212.37 141.421 Q1215.86 137.787 1221.93 137.787 Q1223.89 137.787 1225.77 138.203 Q1227.64 138.597 1229.4 139.407 Z\" fill=\"#000000\" fill-rule=\"evenodd\" fill-opacity=\"1\" /><path clip-path=\"url(#clip480)\" d=\"M1241.02 131.051 L1241.02 138.412 L1249.8 138.412 L1249.8 141.722 L1241.02 141.722 L1241.02 155.796 Q1241.02 158.967 1241.88 159.87 Q1242.76 160.773 1245.42 160.773 L1249.8 160.773 L1249.8 164.338 L1245.42 164.338 Q1240.49 164.338 1238.62 162.509 Q1236.74 160.657 1236.74 155.796 L1236.74 141.722 L1233.62 141.722 L1233.62 138.412 L1236.74 138.412 L1236.74 131.051 L1241.02 131.051 Z\" fill=\"#000000\" fill-rule=\"evenodd\" fill-opacity=\"1\" /><path clip-path=\"url(#clip480)\" d=\"M1254.96 154.106 L1254.96 138.412 L1259.22 138.412 L1259.22 153.944 Q1259.22 157.625 1260.65 159.476 Q1262.09 161.305 1264.96 161.305 Q1268.41 161.305 1270.4 159.106 Q1272.41 156.907 1272.41 153.111 L1272.41 138.412 L1276.67 138.412 L1276.67 164.338 L1272.41 164.338 L1272.41 160.356 Q1270.86 162.717 1268.8 163.875 Q1266.76 165.009 1264.06 165.009 Q1259.59 165.009 1257.27 162.231 Q1254.96 159.453 1254.96 154.106 M1265.68 137.787 L1265.68 137.787 Z\" fill=\"#000000\" fill-rule=\"evenodd\" fill-opacity=\"1\" /><path clip-path=\"url(#clip480)\" d=\"M1297.23 151.305 Q1292.07 151.305 1290.07 152.486 Q1288.08 153.666 1288.08 156.514 Q1288.08 158.782 1289.57 160.125 Q1291.07 161.444 1293.64 161.444 Q1297.18 161.444 1299.31 158.944 Q1301.46 156.421 1301.46 152.254 L1301.46 151.305 L1297.23 151.305 M1305.72 149.546 L1305.72 164.338 L1301.46 164.338 L1301.46 160.402 Q1300.01 162.763 1297.83 163.898 Q1295.65 165.009 1292.51 165.009 Q1288.52 165.009 1286.16 162.787 Q1283.82 160.541 1283.82 156.791 Q1283.82 152.416 1286.74 150.194 Q1289.68 147.972 1295.49 147.972 L1301.46 147.972 L1301.46 147.555 Q1301.46 144.615 1299.52 143.018 Q1297.6 141.398 1294.1 141.398 Q1291.88 141.398 1289.77 141.93 Q1287.67 142.463 1285.72 143.527 L1285.72 139.592 Q1288.06 138.69 1290.26 138.25 Q1292.46 137.787 1294.54 137.787 Q1300.17 137.787 1302.95 140.703 Q1305.72 143.62 1305.72 149.546 Z\" fill=\"#000000\" fill-rule=\"evenodd\" fill-opacity=\"1\" /><path clip-path=\"url(#clip480)\" d=\"M1314.5 128.319 L1318.76 128.319 L1318.76 164.338 L1314.5 164.338 L1314.5 128.319 Z\" fill=\"#000000\" fill-rule=\"evenodd\" fill-opacity=\"1\" /><path clip-path=\"url(#clip480)\" d=\"M1368.8 132.44 L1368.8 137.37 Q1366.44 135.171 1363.76 134.083 Q1361.09 132.995 1358.08 132.995 Q1352.16 132.995 1349.01 136.629 Q1345.86 140.24 1345.86 147.092 Q1345.86 153.921 1349.01 157.555 Q1352.16 161.166 1358.08 161.166 Q1361.09 161.166 1363.76 160.078 Q1366.44 158.99 1368.8 156.791 L1368.8 161.676 Q1366.35 163.342 1363.59 164.176 Q1360.86 165.009 1357.81 165.009 Q1349.96 165.009 1345.45 160.217 Q1340.93 155.402 1340.93 147.092 Q1340.93 138.759 1345.45 133.967 Q1349.96 129.153 1357.81 129.153 Q1360.91 129.153 1363.64 129.986 Q1366.39 130.796 1368.8 132.44 Z\" fill=\"#000000\" fill-rule=\"evenodd\" fill-opacity=\"1\" /><path clip-path=\"url(#clip480)\" d=\"M1375.84 128.319 L1380.1 128.319 L1380.1 164.338 L1375.84 164.338 L1375.84 128.319 Z\" fill=\"#000000\" fill-rule=\"evenodd\" fill-opacity=\"1\" /><path clip-path=\"url(#clip480)\" d=\"M1399.06 141.398 Q1395.63 141.398 1393.64 144.083 Q1391.65 146.745 1391.65 151.398 Q1391.65 156.051 1393.62 158.736 Q1395.61 161.398 1399.06 161.398 Q1402.46 161.398 1404.45 158.713 Q1406.44 156.027 1406.44 151.398 Q1406.44 146.791 1404.45 144.106 Q1402.46 141.398 1399.06 141.398 M1399.06 137.787 Q1404.61 137.787 1407.78 141.398 Q1410.95 145.009 1410.95 151.398 Q1410.95 157.764 1407.78 161.398 Q1404.61 165.009 1399.06 165.009 Q1393.48 165.009 1390.31 161.398 Q1387.16 157.764 1387.16 151.398 Q1387.16 145.009 1390.31 141.398 Q1393.48 137.787 1399.06 137.787 Z\" fill=\"#000000\" fill-rule=\"evenodd\" fill-opacity=\"1\" /><path clip-path=\"url(#clip480)\" d=\"M1434.54 139.176 L1434.54 143.203 Q1432.74 142.277 1430.79 141.815 Q1428.85 141.352 1426.76 141.352 Q1423.59 141.352 1422 142.324 Q1420.42 143.296 1420.42 145.24 Q1420.42 146.722 1421.56 147.578 Q1422.69 148.412 1426.12 149.176 L1427.57 149.5 Q1432.11 150.472 1434.01 152.254 Q1435.93 154.014 1435.93 157.185 Q1435.93 160.796 1433.06 162.902 Q1430.21 165.009 1425.21 165.009 Q1423.13 165.009 1420.86 164.592 Q1418.62 164.199 1416.12 163.388 L1416.12 158.99 Q1418.48 160.217 1420.77 160.842 Q1423.06 161.444 1425.31 161.444 Q1428.31 161.444 1429.94 160.426 Q1431.56 159.384 1431.56 157.509 Q1431.56 155.773 1430.38 154.847 Q1429.22 153.921 1425.26 153.064 L1423.78 152.717 Q1419.82 151.884 1418.06 150.171 Q1416.3 148.435 1416.3 145.426 Q1416.3 141.768 1418.89 139.778 Q1421.49 137.787 1426.25 137.787 Q1428.62 137.787 1430.7 138.134 Q1432.78 138.481 1434.54 139.176 Z\" fill=\"#000000\" fill-rule=\"evenodd\" fill-opacity=\"1\" /><path clip-path=\"url(#clip480)\" d=\"M1442.71 138.412 L1446.97 138.412 L1446.97 164.338 L1442.71 164.338 L1442.71 138.412 M1442.71 128.319 L1446.97 128.319 L1446.97 133.713 L1442.71 133.713 L1442.71 128.319 Z\" fill=\"#000000\" fill-rule=\"evenodd\" fill-opacity=\"1\" /><path clip-path=\"url(#clip480)\" d=\"M1477.44 148.689 L1477.44 164.338 L1473.18 164.338 L1473.18 148.828 Q1473.18 145.148 1471.74 143.319 Q1470.31 141.49 1467.44 141.49 Q1463.99 141.49 1462 143.69 Q1460 145.889 1460 149.685 L1460 164.338 L1455.72 164.338 L1455.72 138.412 L1460 138.412 L1460 142.44 Q1461.53 140.102 1463.59 138.944 Q1465.68 137.787 1468.38 137.787 Q1472.85 137.787 1475.14 140.565 Q1477.44 143.319 1477.44 148.689 Z\" fill=\"#000000\" fill-rule=\"evenodd\" fill-opacity=\"1\" /><path clip-path=\"url(#clip480)\" d=\"M1502.99 151.074 Q1502.99 146.444 1501.07 143.898 Q1499.17 141.352 1495.72 141.352 Q1492.3 141.352 1490.37 143.898 Q1488.48 146.444 1488.48 151.074 Q1488.48 155.68 1490.37 158.226 Q1492.3 160.773 1495.72 160.773 Q1499.17 160.773 1501.07 158.226 Q1502.99 155.68 1502.99 151.074 M1507.25 161.12 Q1507.25 167.74 1504.31 170.958 Q1501.37 174.199 1495.31 174.199 Q1493.06 174.199 1491.07 173.851 Q1489.08 173.527 1487.2 172.833 L1487.2 168.689 Q1489.08 169.708 1490.91 170.194 Q1492.74 170.68 1494.63 170.68 Q1498.82 170.68 1500.91 168.481 Q1502.99 166.305 1502.99 161.884 L1502.99 159.777 Q1501.67 162.069 1499.61 163.203 Q1497.55 164.338 1494.68 164.338 Q1489.91 164.338 1487 160.703 Q1484.08 157.069 1484.08 151.074 Q1484.08 145.055 1487 141.421 Q1489.91 137.787 1494.68 137.787 Q1497.55 137.787 1499.61 138.921 Q1501.67 140.055 1502.99 142.347 L1502.99 138.412 L1507.25 138.412 L1507.25 161.12 Z\" fill=\"#000000\" fill-rule=\"evenodd\" fill-opacity=\"1\" /><path clip-path=\"url(#clip480)\" d=\"M1535.95 133.62 L1535.95 146.606 L1541.83 146.606 Q1545.1 146.606 1546.88 144.916 Q1548.66 143.227 1548.66 140.102 Q1548.66 137 1546.88 135.31 Q1545.1 133.62 1541.83 133.62 L1535.95 133.62 M1531.28 129.778 L1541.83 129.778 Q1547.64 129.778 1550.61 132.416 Q1553.59 135.032 1553.59 140.102 Q1553.59 145.217 1550.61 147.833 Q1547.64 150.449 1541.83 150.449 L1535.95 150.449 L1535.95 164.338 L1531.28 164.338 L1531.28 129.778 Z\" fill=\"#000000\" fill-rule=\"evenodd\" fill-opacity=\"1\" /><path clip-path=\"url(#clip480)\" d=\"M1573.87 142.393 Q1573.15 141.977 1572.3 141.791 Q1571.46 141.583 1570.44 141.583 Q1566.83 141.583 1564.89 143.944 Q1562.97 146.282 1562.97 150.68 L1562.97 164.338 L1558.68 164.338 L1558.68 138.412 L1562.97 138.412 L1562.97 142.44 Q1564.31 140.078 1566.46 138.944 Q1568.62 137.787 1571.69 137.787 Q1572.13 137.787 1572.67 137.856 Q1573.2 137.903 1573.85 138.018 L1573.87 142.393 Z\" fill=\"#000000\" fill-rule=\"evenodd\" fill-opacity=\"1\" /><path clip-path=\"url(#clip480)\" d=\"M1578.34 138.412 L1582.6 138.412 L1582.6 164.338 L1578.34 164.338 L1578.34 138.412 M1578.34 128.319 L1582.6 128.319 L1582.6 133.713 L1578.34 133.713 L1578.34 128.319 Z\" fill=\"#000000\" fill-rule=\"evenodd\" fill-opacity=\"1\" /><path clip-path=\"url(#clip480)\" d=\"M1610.17 139.407 L1610.17 143.389 Q1608.36 142.393 1606.53 141.907 Q1604.73 141.398 1602.87 141.398 Q1598.73 141.398 1596.44 144.037 Q1594.15 146.652 1594.15 151.398 Q1594.15 156.143 1596.44 158.782 Q1598.73 161.398 1602.87 161.398 Q1604.73 161.398 1606.53 160.912 Q1608.36 160.402 1610.17 159.407 L1610.17 163.342 Q1608.38 164.176 1606.46 164.592 Q1604.56 165.009 1602.41 165.009 Q1596.55 165.009 1593.11 161.328 Q1589.66 157.648 1589.66 151.398 Q1589.66 145.055 1593.13 141.421 Q1596.62 137.787 1602.69 137.787 Q1604.66 137.787 1606.53 138.203 Q1608.41 138.597 1610.17 139.407 Z\" fill=\"#000000\" fill-rule=\"evenodd\" fill-opacity=\"1\" /><path clip-path=\"url(#clip480)\" d=\"M1639.75 150.31 L1639.75 152.393 L1620.17 152.393 Q1620.44 156.791 1622.8 159.106 Q1625.19 161.398 1629.42 161.398 Q1631.88 161.398 1634.17 160.796 Q1636.49 160.194 1638.75 158.99 L1638.75 163.018 Q1636.46 163.99 1634.05 164.5 Q1631.65 165.009 1629.17 165.009 Q1622.97 165.009 1619.33 161.398 Q1615.72 157.787 1615.72 151.629 Q1615.72 145.264 1619.15 141.537 Q1622.6 137.787 1628.43 137.787 Q1633.66 137.787 1636.69 141.166 Q1639.75 144.523 1639.75 150.31 M1635.49 149.06 Q1635.44 145.565 1633.52 143.481 Q1631.62 141.398 1628.48 141.398 Q1624.91 141.398 1622.76 143.412 Q1620.63 145.426 1620.3 149.083 L1635.49 149.06 Z\" fill=\"#000000\" fill-rule=\"evenodd\" fill-opacity=\"1\" /><polyline clip-path=\"url(#clip480)\" style=\"stroke:#e26f46; stroke-linecap:round; stroke-linejoin:round; stroke-width:4; stroke-opacity:1; fill:none\" points=\"\n",
       "  1006.73,198.898 1151.01,198.898 \n",
       "  \"/>\n",
       "<path clip-path=\"url(#clip480)\" d=\"M1179.73 185.46 L1179.73 198.446 L1185.61 198.446 Q1188.87 198.446 1190.65 196.756 Q1192.44 195.067 1192.44 191.942 Q1192.44 188.84 1190.65 187.15 Q1188.87 185.46 1185.61 185.46 L1179.73 185.46 M1175.05 181.618 L1185.61 181.618 Q1191.42 181.618 1194.38 184.256 Q1197.37 186.872 1197.37 191.942 Q1197.37 197.057 1194.38 199.673 Q1191.42 202.289 1185.61 202.289 L1179.73 202.289 L1179.73 216.178 L1175.05 216.178 L1175.05 181.618 Z\" fill=\"#000000\" fill-rule=\"evenodd\" fill-opacity=\"1\" /><path clip-path=\"url(#clip480)\" d=\"M1217.64 194.233 Q1216.93 193.817 1216.07 193.631 Q1215.24 193.423 1214.22 193.423 Q1210.61 193.423 1208.66 195.784 Q1206.74 198.122 1206.74 202.52 L1206.74 216.178 L1202.46 216.178 L1202.46 190.252 L1206.74 190.252 L1206.74 194.28 Q1208.08 191.918 1210.24 190.784 Q1212.39 189.627 1215.47 189.627 Q1215.91 189.627 1216.44 189.696 Q1216.97 189.743 1217.62 189.858 L1217.64 194.233 Z\" fill=\"#000000\" fill-rule=\"evenodd\" fill-opacity=\"1\" /><path clip-path=\"url(#clip480)\" d=\"M1243.25 202.15 L1243.25 204.233 L1223.66 204.233 Q1223.94 208.631 1226.3 210.946 Q1228.69 213.238 1232.92 213.238 Q1235.38 213.238 1237.67 212.636 Q1239.98 212.034 1242.25 210.83 L1242.25 214.858 Q1239.96 215.83 1237.55 216.34 Q1235.14 216.849 1232.67 216.849 Q1226.46 216.849 1222.83 213.238 Q1219.22 209.627 1219.22 203.469 Q1219.22 197.104 1222.64 193.377 Q1226.09 189.627 1231.93 189.627 Q1237.16 189.627 1240.19 193.006 Q1243.25 196.363 1243.25 202.15 M1238.99 200.9 Q1238.94 197.405 1237.02 195.321 Q1235.12 193.238 1231.97 193.238 Q1228.41 193.238 1226.26 195.252 Q1224.13 197.266 1223.8 200.923 L1238.99 200.9 Z\" fill=\"#000000\" fill-rule=\"evenodd\" fill-opacity=\"1\" /><path clip-path=\"url(#clip480)\" d=\"M1267.3 194.187 L1267.3 180.159 L1271.56 180.159 L1271.56 216.178 L1267.3 216.178 L1267.3 212.289 Q1265.95 214.603 1263.89 215.738 Q1261.86 216.849 1258.99 216.849 Q1254.29 216.849 1251.33 213.099 Q1248.39 209.349 1248.39 203.238 Q1248.39 197.127 1251.33 193.377 Q1254.29 189.627 1258.99 189.627 Q1261.86 189.627 1263.89 190.761 Q1265.95 191.872 1267.3 194.187 M1252.78 203.238 Q1252.78 207.937 1254.7 210.622 Q1256.65 213.284 1260.03 213.284 Q1263.41 213.284 1265.35 210.622 Q1267.3 207.937 1267.3 203.238 Q1267.3 198.539 1265.35 195.877 Q1263.41 193.192 1260.03 193.192 Q1256.65 193.192 1254.7 195.877 Q1252.78 198.539 1252.78 203.238 Z\" fill=\"#000000\" fill-rule=\"evenodd\" fill-opacity=\"1\" /><path clip-path=\"url(#clip480)\" d=\"M1280.33 190.252 L1284.59 190.252 L1284.59 216.178 L1280.33 216.178 L1280.33 190.252 M1280.33 180.159 L1284.59 180.159 L1284.59 185.553 L1280.33 185.553 L1280.33 180.159 Z\" fill=\"#000000\" fill-rule=\"evenodd\" fill-opacity=\"1\" /><path clip-path=\"url(#clip480)\" d=\"M1312.16 191.247 L1312.16 195.229 Q1310.35 194.233 1308.52 193.747 Q1306.72 193.238 1304.87 193.238 Q1300.72 193.238 1298.43 195.877 Q1296.14 198.492 1296.14 203.238 Q1296.14 207.983 1298.43 210.622 Q1300.72 213.238 1304.87 213.238 Q1306.72 213.238 1308.52 212.752 Q1310.35 212.242 1312.16 211.247 L1312.16 215.182 Q1310.38 216.016 1308.45 216.432 Q1306.56 216.849 1304.4 216.849 Q1298.55 216.849 1295.1 213.168 Q1291.65 209.488 1291.65 203.238 Q1291.65 196.895 1295.12 193.261 Q1298.62 189.627 1304.68 189.627 Q1306.65 189.627 1308.52 190.043 Q1310.4 190.437 1312.16 191.247 Z\" fill=\"#000000\" fill-rule=\"evenodd\" fill-opacity=\"1\" /><path clip-path=\"url(#clip480)\" d=\"M1323.78 182.891 L1323.78 190.252 L1332.55 190.252 L1332.55 193.562 L1323.78 193.562 L1323.78 207.636 Q1323.78 210.807 1324.63 211.71 Q1325.51 212.613 1328.18 212.613 L1332.55 212.613 L1332.55 216.178 L1328.18 216.178 Q1323.25 216.178 1321.37 214.349 Q1319.5 212.497 1319.5 207.636 L1319.5 193.562 L1316.37 193.562 L1316.37 190.252 L1319.5 190.252 L1319.5 182.891 L1323.78 182.891 Z\" fill=\"#000000\" fill-rule=\"evenodd\" fill-opacity=\"1\" /><path clip-path=\"url(#clip480)\" d=\"M1360.33 202.15 L1360.33 204.233 L1340.75 204.233 Q1341.02 208.631 1343.38 210.946 Q1345.77 213.238 1350.01 213.238 Q1352.46 213.238 1354.75 212.636 Q1357.07 212.034 1359.33 210.83 L1359.33 214.858 Q1357.04 215.83 1354.63 216.34 Q1352.23 216.849 1349.75 216.849 Q1343.55 216.849 1339.91 213.238 Q1336.3 209.627 1336.3 203.469 Q1336.3 197.104 1339.73 193.377 Q1343.18 189.627 1349.01 189.627 Q1354.24 189.627 1357.27 193.006 Q1360.33 196.363 1360.33 202.15 M1356.07 200.9 Q1356.02 197.405 1354.1 195.321 Q1352.2 193.238 1349.06 193.238 Q1345.49 193.238 1343.34 195.252 Q1341.21 197.266 1340.88 200.923 L1356.07 200.9 Z\" fill=\"#000000\" fill-rule=\"evenodd\" fill-opacity=\"1\" /><path clip-path=\"url(#clip480)\" d=\"M1384.38 194.187 L1384.38 180.159 L1388.64 180.159 L1388.64 216.178 L1384.38 216.178 L1384.38 212.289 Q1383.04 214.603 1380.98 215.738 Q1378.94 216.849 1376.07 216.849 Q1371.37 216.849 1368.41 213.099 Q1365.47 209.349 1365.47 203.238 Q1365.47 197.127 1368.41 193.377 Q1371.37 189.627 1376.07 189.627 Q1378.94 189.627 1380.98 190.761 Q1383.04 191.872 1384.38 194.187 M1369.87 203.238 Q1369.87 207.937 1371.79 210.622 Q1373.73 213.284 1377.11 213.284 Q1380.49 213.284 1382.44 210.622 Q1384.38 207.937 1384.38 203.238 Q1384.38 198.539 1382.44 195.877 Q1380.49 193.192 1377.11 193.192 Q1373.73 193.192 1371.79 195.877 Q1369.87 198.539 1369.87 203.238 Z\" fill=\"#000000\" fill-rule=\"evenodd\" fill-opacity=\"1\" /><path clip-path=\"url(#clip480)\" d=\"M1438.55 184.28 L1438.55 189.21 Q1436.19 187.011 1433.5 185.923 Q1430.84 184.835 1427.83 184.835 Q1421.9 184.835 1418.75 188.469 Q1415.61 192.08 1415.61 198.932 Q1415.61 205.761 1418.75 209.395 Q1421.9 213.006 1427.83 213.006 Q1430.84 213.006 1433.5 211.918 Q1436.19 210.83 1438.55 208.631 L1438.55 213.516 Q1436.09 215.182 1433.34 216.016 Q1430.61 216.849 1427.55 216.849 Q1419.7 216.849 1415.19 212.057 Q1410.68 207.242 1410.68 198.932 Q1410.68 190.599 1415.19 185.807 Q1419.7 180.993 1427.55 180.993 Q1430.65 180.993 1433.38 181.826 Q1436.14 182.636 1438.55 184.28 Z\" fill=\"#000000\" fill-rule=\"evenodd\" fill-opacity=\"1\" /><path clip-path=\"url(#clip480)\" d=\"M1445.58 180.159 L1449.84 180.159 L1449.84 216.178 L1445.58 216.178 L1445.58 180.159 Z\" fill=\"#000000\" fill-rule=\"evenodd\" fill-opacity=\"1\" /><path clip-path=\"url(#clip480)\" d=\"M1468.8 193.238 Q1465.37 193.238 1463.38 195.923 Q1461.39 198.585 1461.39 203.238 Q1461.39 207.891 1463.36 210.576 Q1465.35 213.238 1468.8 213.238 Q1472.2 213.238 1474.19 210.553 Q1476.19 207.867 1476.19 203.238 Q1476.19 198.631 1474.19 195.946 Q1472.2 193.238 1468.8 193.238 M1468.8 189.627 Q1474.36 189.627 1477.53 193.238 Q1480.7 196.849 1480.7 203.238 Q1480.7 209.604 1477.53 213.238 Q1474.36 216.849 1468.8 216.849 Q1463.22 216.849 1460.05 213.238 Q1456.9 209.604 1456.9 203.238 Q1456.9 196.849 1460.05 193.238 Q1463.22 189.627 1468.8 189.627 Z\" fill=\"#000000\" fill-rule=\"evenodd\" fill-opacity=\"1\" /><path clip-path=\"url(#clip480)\" d=\"M1504.29 191.016 L1504.29 195.043 Q1502.48 194.117 1500.54 193.655 Q1498.59 193.192 1496.51 193.192 Q1493.34 193.192 1491.74 194.164 Q1490.17 195.136 1490.17 197.08 Q1490.17 198.562 1491.3 199.418 Q1492.43 200.252 1495.86 201.016 L1497.32 201.34 Q1501.86 202.312 1503.75 204.094 Q1505.68 205.854 1505.68 209.025 Q1505.68 212.636 1502.81 214.742 Q1499.96 216.849 1494.96 216.849 Q1492.87 216.849 1490.61 216.432 Q1488.36 216.039 1485.86 215.228 L1485.86 210.83 Q1488.22 212.057 1490.51 212.682 Q1492.81 213.284 1495.05 213.284 Q1498.06 213.284 1499.68 212.266 Q1501.3 211.224 1501.3 209.349 Q1501.3 207.613 1500.12 206.687 Q1498.96 205.761 1495 204.904 L1493.52 204.557 Q1489.56 203.724 1487.81 202.011 Q1486.05 200.275 1486.05 197.266 Q1486.05 193.608 1488.64 191.618 Q1491.23 189.627 1496 189.627 Q1498.36 189.627 1500.44 189.974 Q1502.53 190.321 1504.29 191.016 Z\" fill=\"#000000\" fill-rule=\"evenodd\" fill-opacity=\"1\" /><path clip-path=\"url(#clip480)\" d=\"M1512.46 190.252 L1516.72 190.252 L1516.72 216.178 L1512.46 216.178 L1512.46 190.252 M1512.46 180.159 L1516.72 180.159 L1516.72 185.553 L1512.46 185.553 L1512.46 180.159 Z\" fill=\"#000000\" fill-rule=\"evenodd\" fill-opacity=\"1\" /><path clip-path=\"url(#clip480)\" d=\"M1547.18 200.529 L1547.18 216.178 L1542.92 216.178 L1542.92 200.668 Q1542.92 196.988 1541.49 195.159 Q1540.05 193.33 1537.18 193.33 Q1533.73 193.33 1531.74 195.53 Q1529.75 197.729 1529.75 201.525 L1529.75 216.178 L1525.47 216.178 L1525.47 190.252 L1529.75 190.252 L1529.75 194.28 Q1531.28 191.942 1533.34 190.784 Q1535.42 189.627 1538.13 189.627 Q1542.6 189.627 1544.89 192.405 Q1547.18 195.159 1547.18 200.529 Z\" fill=\"#000000\" fill-rule=\"evenodd\" fill-opacity=\"1\" /><path clip-path=\"url(#clip480)\" d=\"M1572.74 202.914 Q1572.74 198.284 1570.81 195.738 Q1568.92 193.192 1565.47 193.192 Q1562.04 193.192 1560.12 195.738 Q1558.22 198.284 1558.22 202.914 Q1558.22 207.52 1560.12 210.066 Q1562.04 212.613 1565.47 212.613 Q1568.92 212.613 1570.81 210.066 Q1572.74 207.52 1572.74 202.914 M1576.99 212.96 Q1576.99 219.58 1574.05 222.798 Q1571.12 226.039 1565.05 226.039 Q1562.8 226.039 1560.81 225.691 Q1558.82 225.367 1556.95 224.673 L1556.95 220.529 Q1558.82 221.548 1560.65 222.034 Q1562.48 222.52 1564.38 222.52 Q1568.57 222.52 1570.65 220.321 Q1572.74 218.145 1572.74 213.724 L1572.74 211.617 Q1571.42 213.909 1569.36 215.043 Q1567.3 216.178 1564.43 216.178 Q1559.66 216.178 1556.74 212.543 Q1553.82 208.909 1553.82 202.914 Q1553.82 196.895 1556.74 193.261 Q1559.66 189.627 1564.43 189.627 Q1567.3 189.627 1569.36 190.761 Q1571.42 191.895 1572.74 194.187 L1572.74 190.252 L1576.99 190.252 L1576.99 212.96 Z\" fill=\"#000000\" fill-rule=\"evenodd\" fill-opacity=\"1\" /><path clip-path=\"url(#clip480)\" d=\"M1605.7 185.46 L1605.7 198.446 L1611.58 198.446 Q1614.84 198.446 1616.62 196.756 Q1618.41 195.067 1618.41 191.942 Q1618.41 188.84 1616.62 187.15 Q1614.84 185.46 1611.58 185.46 L1605.7 185.46 M1601.02 181.618 L1611.58 181.618 Q1617.39 181.618 1620.35 184.256 Q1623.34 186.872 1623.34 191.942 Q1623.34 197.057 1620.35 199.673 Q1617.39 202.289 1611.58 202.289 L1605.7 202.289 L1605.7 216.178 L1601.02 216.178 L1601.02 181.618 Z\" fill=\"#000000\" fill-rule=\"evenodd\" fill-opacity=\"1\" /><path clip-path=\"url(#clip480)\" d=\"M1643.61 194.233 Q1642.9 193.817 1642.04 193.631 Q1641.21 193.423 1640.19 193.423 Q1636.58 193.423 1634.63 195.784 Q1632.71 198.122 1632.71 202.52 L1632.71 216.178 L1628.43 216.178 L1628.43 190.252 L1632.71 190.252 L1632.71 194.28 Q1634.05 191.918 1636.21 190.784 Q1638.36 189.627 1641.44 189.627 Q1641.88 189.627 1642.41 189.696 Q1642.94 189.743 1643.59 189.858 L1643.61 194.233 Z\" fill=\"#000000\" fill-rule=\"evenodd\" fill-opacity=\"1\" /><path clip-path=\"url(#clip480)\" d=\"M1648.08 190.252 L1652.34 190.252 L1652.34 216.178 L1648.08 216.178 L1648.08 190.252 M1648.08 180.159 L1652.34 180.159 L1652.34 185.553 L1648.08 185.553 L1648.08 180.159 Z\" fill=\"#000000\" fill-rule=\"evenodd\" fill-opacity=\"1\" /><path clip-path=\"url(#clip480)\" d=\"M1679.91 191.247 L1679.91 195.229 Q1678.11 194.233 1676.28 193.747 Q1674.47 193.238 1672.62 193.238 Q1668.48 193.238 1666.18 195.877 Q1663.89 198.492 1663.89 203.238 Q1663.89 207.983 1666.18 210.622 Q1668.48 213.238 1672.62 213.238 Q1674.47 213.238 1676.28 212.752 Q1678.11 212.242 1679.91 211.247 L1679.91 215.182 Q1678.13 216.016 1676.21 216.432 Q1674.31 216.849 1672.16 216.849 Q1666.3 216.849 1662.85 213.168 Q1659.4 209.488 1659.4 203.238 Q1659.4 196.895 1662.87 193.261 Q1666.37 189.627 1672.43 189.627 Q1674.4 189.627 1676.28 190.043 Q1678.15 190.437 1679.91 191.247 Z\" fill=\"#000000\" fill-rule=\"evenodd\" fill-opacity=\"1\" /><path clip-path=\"url(#clip480)\" d=\"M1709.49 202.15 L1709.49 204.233 L1689.91 204.233 Q1690.19 208.631 1692.55 210.946 Q1694.93 213.238 1699.17 213.238 Q1701.62 213.238 1703.92 212.636 Q1706.23 212.034 1708.5 210.83 L1708.5 214.858 Q1706.21 215.83 1703.8 216.34 Q1701.39 216.849 1698.92 216.849 Q1692.71 216.849 1689.08 213.238 Q1685.47 209.627 1685.47 203.469 Q1685.47 197.104 1688.89 193.377 Q1692.34 189.627 1698.17 189.627 Q1703.41 189.627 1706.44 193.006 Q1709.49 196.363 1709.49 202.15 M1705.23 200.9 Q1705.19 197.405 1703.27 195.321 Q1701.37 193.238 1698.22 193.238 Q1694.66 193.238 1692.5 195.252 Q1690.37 197.266 1690.05 200.923 L1705.23 200.9 Z\" fill=\"#000000\" fill-rule=\"evenodd\" fill-opacity=\"1\" /><path clip-path=\"url(#clip480)\" d=\"M1741.79 180.206 Q1738.68 185.53 1737.18 190.738 Q1735.67 195.946 1735.67 201.293 Q1735.67 206.641 1737.18 211.895 Q1738.71 217.127 1741.79 222.428 L1738.08 222.428 Q1734.61 216.988 1732.87 211.733 Q1731.16 206.479 1731.16 201.293 Q1731.16 196.131 1732.87 190.9 Q1734.59 185.668 1738.08 180.206 L1741.79 180.206 Z\" fill=\"#000000\" fill-rule=\"evenodd\" fill-opacity=\"1\" /><path clip-path=\"url(#clip480)\" d=\"M1750.7 181.618 L1769.05 181.618 L1769.05 185.553 L1754.98 185.553 L1754.98 194.025 Q1756 193.678 1757.02 193.516 Q1758.04 193.33 1759.05 193.33 Q1764.84 193.33 1768.22 196.502 Q1771.6 199.673 1771.6 205.09 Q1771.6 210.668 1768.13 213.77 Q1764.66 216.849 1758.34 216.849 Q1756.16 216.849 1753.89 216.478 Q1751.65 216.108 1749.24 215.367 L1749.24 210.668 Q1751.32 211.803 1753.54 212.358 Q1755.77 212.914 1758.24 212.914 Q1762.25 212.914 1764.59 210.807 Q1766.92 208.701 1766.92 205.09 Q1766.92 201.479 1764.59 199.372 Q1762.25 197.266 1758.24 197.266 Q1756.37 197.266 1754.49 197.682 Q1752.64 198.099 1750.7 198.979 L1750.7 181.618 Z\" fill=\"#000000\" fill-rule=\"evenodd\" fill-opacity=\"1\" /><path clip-path=\"url(#clip480)\" d=\"M1778.06 201.293 L1790.54 201.293 L1790.54 205.09 L1778.06 205.09 L1778.06 201.293 Z\" fill=\"#000000\" fill-rule=\"evenodd\" fill-opacity=\"1\" /><path clip-path=\"url(#clip480)\" d=\"M1814.38 194.187 L1814.38 180.159 L1818.64 180.159 L1818.64 216.178 L1814.38 216.178 L1814.38 212.289 Q1813.04 214.603 1810.97 215.738 Q1808.94 216.849 1806.07 216.849 Q1801.37 216.849 1798.41 213.099 Q1795.47 209.349 1795.47 203.238 Q1795.47 197.127 1798.41 193.377 Q1801.37 189.627 1806.07 189.627 Q1808.94 189.627 1810.97 190.761 Q1813.04 191.872 1814.38 194.187 M1799.86 203.238 Q1799.86 207.937 1801.79 210.622 Q1803.73 213.284 1807.11 213.284 Q1810.49 213.284 1812.43 210.622 Q1814.38 207.937 1814.38 203.238 Q1814.38 198.539 1812.43 195.877 Q1810.49 193.192 1807.11 193.192 Q1803.73 193.192 1801.79 195.877 Q1799.86 198.539 1799.86 203.238 Z\" fill=\"#000000\" fill-rule=\"evenodd\" fill-opacity=\"1\" /><path clip-path=\"url(#clip480)\" d=\"M1839.19 203.145 Q1834.03 203.145 1832.04 204.326 Q1830.05 205.506 1830.05 208.354 Q1830.05 210.622 1831.53 211.965 Q1833.03 213.284 1835.6 213.284 Q1839.15 213.284 1841.28 210.784 Q1843.43 208.261 1843.43 204.094 L1843.43 203.145 L1839.19 203.145 M1847.69 201.386 L1847.69 216.178 L1843.43 216.178 L1843.43 212.242 Q1841.97 214.603 1839.79 215.738 Q1837.62 216.849 1834.47 216.849 Q1830.49 216.849 1828.13 214.627 Q1825.79 212.381 1825.79 208.631 Q1825.79 204.256 1828.71 202.034 Q1831.65 199.812 1837.46 199.812 L1843.43 199.812 L1843.43 199.395 Q1843.43 196.455 1841.48 194.858 Q1839.56 193.238 1836.07 193.238 Q1833.85 193.238 1831.74 193.77 Q1829.63 194.303 1827.69 195.367 L1827.69 191.432 Q1830.03 190.53 1832.22 190.09 Q1834.42 189.627 1836.51 189.627 Q1842.13 189.627 1844.91 192.543 Q1847.69 195.46 1847.69 201.386 Z\" fill=\"#000000\" fill-rule=\"evenodd\" fill-opacity=\"1\" /><path clip-path=\"url(#clip480)\" d=\"M1867.25 218.585 Q1865.44 223.215 1863.73 224.627 Q1862.02 226.039 1859.15 226.039 L1855.74 226.039 L1855.74 222.474 L1858.24 222.474 Q1860 222.474 1860.97 221.64 Q1861.95 220.807 1863.13 217.705 L1863.89 215.761 L1853.41 190.252 L1857.92 190.252 L1866.02 210.529 L1874.12 190.252 L1878.64 190.252 L1867.25 218.585 Z\" fill=\"#000000\" fill-rule=\"evenodd\" fill-opacity=\"1\" /><path clip-path=\"url(#clip480)\" d=\"M1899.15 205.946 L1899.15 190.252 L1903.4 190.252 L1903.4 205.784 Q1903.4 209.465 1904.84 211.316 Q1906.28 213.145 1909.15 213.145 Q1912.59 213.145 1914.59 210.946 Q1916.6 208.747 1916.6 204.951 L1916.6 190.252 L1920.86 190.252 L1920.86 216.178 L1916.6 216.178 L1916.6 212.196 Q1915.05 214.557 1912.99 215.715 Q1910.95 216.849 1908.24 216.849 Q1903.78 216.849 1901.46 214.071 Q1899.15 211.293 1899.15 205.946 M1909.86 189.627 L1909.86 189.627 Z\" fill=\"#000000\" fill-rule=\"evenodd\" fill-opacity=\"1\" /><path clip-path=\"url(#clip480)\" d=\"M1946.16 191.016 L1946.16 195.043 Q1944.35 194.117 1942.41 193.655 Q1940.46 193.192 1938.38 193.192 Q1935.21 193.192 1933.61 194.164 Q1932.04 195.136 1932.04 197.08 Q1932.04 198.562 1933.17 199.418 Q1934.31 200.252 1937.73 201.016 L1939.19 201.34 Q1943.73 202.312 1945.63 204.094 Q1947.55 205.854 1947.55 209.025 Q1947.55 212.636 1944.68 214.742 Q1941.83 216.849 1936.83 216.849 Q1934.75 216.849 1932.48 216.432 Q1930.23 216.039 1927.73 215.228 L1927.73 210.83 Q1930.09 212.057 1932.39 212.682 Q1934.68 213.284 1936.92 213.284 Q1939.93 213.284 1941.55 212.266 Q1943.17 211.224 1943.17 209.349 Q1943.17 207.613 1941.99 206.687 Q1940.84 205.761 1936.88 204.904 L1935.4 204.557 Q1931.44 203.724 1929.68 202.011 Q1927.92 200.275 1927.92 197.266 Q1927.92 193.608 1930.51 191.618 Q1933.1 189.627 1937.87 189.627 Q1940.23 189.627 1942.32 189.974 Q1944.4 190.321 1946.16 191.016 Z\" fill=\"#000000\" fill-rule=\"evenodd\" fill-opacity=\"1\" /><path clip-path=\"url(#clip480)\" d=\"M1954.33 190.252 L1958.59 190.252 L1958.59 216.178 L1954.33 216.178 L1954.33 190.252 M1954.33 180.159 L1958.59 180.159 L1958.59 185.553 L1954.33 185.553 L1954.33 180.159 Z\" fill=\"#000000\" fill-rule=\"evenodd\" fill-opacity=\"1\" /><path clip-path=\"url(#clip480)\" d=\"M1989.05 200.529 L1989.05 216.178 L1984.79 216.178 L1984.79 200.668 Q1984.79 196.988 1983.36 195.159 Q1981.92 193.33 1979.05 193.33 Q1975.6 193.33 1973.61 195.53 Q1971.62 197.729 1971.62 201.525 L1971.62 216.178 L1967.34 216.178 L1967.34 190.252 L1971.62 190.252 L1971.62 194.28 Q1973.15 191.942 1975.21 190.784 Q1977.29 189.627 1980 189.627 Q1984.47 189.627 1986.76 192.405 Q1989.05 195.159 1989.05 200.529 Z\" fill=\"#000000\" fill-rule=\"evenodd\" fill-opacity=\"1\" /><path clip-path=\"url(#clip480)\" d=\"M2014.61 202.914 Q2014.61 198.284 2012.69 195.738 Q2010.79 193.192 2007.34 193.192 Q2003.91 193.192 2001.99 195.738 Q2000.09 198.284 2000.09 202.914 Q2000.09 207.52 2001.99 210.066 Q2003.91 212.613 2007.34 212.613 Q2010.79 212.613 2012.69 210.066 Q2014.61 207.52 2014.61 202.914 M2018.87 212.96 Q2018.87 219.58 2015.93 222.798 Q2012.99 226.039 2006.92 226.039 Q2004.68 226.039 2002.69 225.691 Q2000.7 225.367 1998.82 224.673 L1998.82 220.529 Q2000.7 221.548 2002.52 222.034 Q2004.35 222.52 2006.25 222.52 Q2010.44 222.52 2012.52 220.321 Q2014.61 218.145 2014.61 213.724 L2014.61 211.617 Q2013.29 213.909 2011.23 215.043 Q2009.17 216.178 2006.3 216.178 Q2001.53 216.178 1998.61 212.543 Q1995.7 208.909 1995.7 202.914 Q1995.7 196.895 1998.61 193.261 Q2001.53 189.627 2006.3 189.627 Q2009.17 189.627 2011.23 190.761 Q2013.29 191.895 2014.61 194.187 L2014.61 190.252 L2018.87 190.252 L2018.87 212.96 Z\" fill=\"#000000\" fill-rule=\"evenodd\" fill-opacity=\"1\" /><path clip-path=\"url(#clip480)\" d=\"M2040.23 190.252 L2044.49 190.252 L2049.82 210.483 L2055.12 190.252 L2060.14 190.252 L2065.46 210.483 L2070.77 190.252 L2075.02 190.252 L2068.24 216.178 L2063.22 216.178 L2057.64 194.928 L2052.04 216.178 L2047.02 216.178 L2040.23 190.252 Z\" fill=\"#000000\" fill-rule=\"evenodd\" fill-opacity=\"1\" /><path clip-path=\"url(#clip480)\" d=\"M2081.48 190.252 L2085.74 190.252 L2085.74 216.178 L2081.48 216.178 L2081.48 190.252 M2081.48 180.159 L2085.74 180.159 L2085.74 185.553 L2081.48 185.553 L2081.48 180.159 Z\" fill=\"#000000\" fill-rule=\"evenodd\" fill-opacity=\"1\" /><path clip-path=\"url(#clip480)\" d=\"M2116.2 200.529 L2116.2 216.178 L2111.95 216.178 L2111.95 200.668 Q2111.95 196.988 2110.51 195.159 Q2109.08 193.33 2106.2 193.33 Q2102.76 193.33 2100.77 195.53 Q2098.77 197.729 2098.77 201.525 L2098.77 216.178 L2094.49 216.178 L2094.49 190.252 L2098.77 190.252 L2098.77 194.28 Q2100.3 191.942 2102.36 190.784 Q2104.45 189.627 2107.15 189.627 Q2111.62 189.627 2113.91 192.405 Q2116.2 195.159 2116.2 200.529 Z\" fill=\"#000000\" fill-rule=\"evenodd\" fill-opacity=\"1\" /><path clip-path=\"url(#clip480)\" d=\"M2141.76 194.187 L2141.76 180.159 L2146.02 180.159 L2146.02 216.178 L2141.76 216.178 L2141.76 212.289 Q2140.42 214.603 2138.36 215.738 Q2136.32 216.849 2133.45 216.849 Q2128.75 216.849 2125.79 213.099 Q2122.85 209.349 2122.85 203.238 Q2122.85 197.127 2125.79 193.377 Q2128.75 189.627 2133.45 189.627 Q2136.32 189.627 2138.36 190.761 Q2140.42 191.872 2141.76 194.187 M2127.25 203.238 Q2127.25 207.937 2129.17 210.622 Q2131.11 213.284 2134.49 213.284 Q2137.87 213.284 2139.82 210.622 Q2141.76 207.937 2141.76 203.238 Q2141.76 198.539 2139.82 195.877 Q2137.87 193.192 2134.49 193.192 Q2131.11 193.192 2129.17 195.877 Q2127.25 198.539 2127.25 203.238 Z\" fill=\"#000000\" fill-rule=\"evenodd\" fill-opacity=\"1\" /><path clip-path=\"url(#clip480)\" d=\"M2164.84 193.238 Q2161.41 193.238 2159.42 195.923 Q2157.43 198.585 2157.43 203.238 Q2157.43 207.891 2159.4 210.576 Q2161.39 213.238 2164.84 213.238 Q2168.24 213.238 2170.23 210.553 Q2172.22 207.867 2172.22 203.238 Q2172.22 198.631 2170.23 195.946 Q2168.24 193.238 2164.84 193.238 M2164.84 189.627 Q2170.39 189.627 2173.57 193.238 Q2176.74 196.849 2176.74 203.238 Q2176.74 209.604 2173.57 213.238 Q2170.39 216.849 2164.84 216.849 Q2159.26 216.849 2156.09 213.238 Q2152.94 209.604 2152.94 203.238 Q2152.94 196.849 2156.09 193.238 Q2159.26 189.627 2164.84 189.627 Z\" fill=\"#000000\" fill-rule=\"evenodd\" fill-opacity=\"1\" /><path clip-path=\"url(#clip480)\" d=\"M2181.32 190.252 L2185.58 190.252 L2190.9 210.483 L2196.2 190.252 L2201.23 190.252 L2206.55 210.483 L2211.85 190.252 L2216.11 190.252 L2209.33 216.178 L2204.31 216.178 L2198.73 194.928 L2193.13 216.178 L2188.1 216.178 L2181.32 190.252 Z\" fill=\"#000000\" fill-rule=\"evenodd\" fill-opacity=\"1\" /><path clip-path=\"url(#clip480)\" d=\"M2221.9 180.206 L2225.6 180.206 Q2229.07 185.668 2230.79 190.9 Q2232.52 196.131 2232.52 201.293 Q2232.52 206.479 2230.79 211.733 Q2229.07 216.988 2225.6 222.428 L2221.9 222.428 Q2224.98 217.127 2226.48 211.895 Q2228.01 206.641 2228.01 201.293 Q2228.01 195.946 2226.48 190.738 Q2224.98 185.53 2221.9 180.206 Z\" fill=\"#000000\" fill-rule=\"evenodd\" fill-opacity=\"1\" /></svg>\n"
      ]
     },
     "execution_count": 18,
     "metadata": {},
     "output_type": "execute_result"
    }
   ],
   "source": [
    "plot(abs.(price[2:end] .- predicted_single), label=\"Actual Closing Price\")\n",
    "plot!(abs.(price[window_length:end] .- predicted_window), label=\"Predicted Closing Price ($(window_length)-day using window)\")\n",
    "plot!(legend=:topright, yscale=:log)"
   ]
  },
  {
   "cell_type": "code",
   "execution_count": 19,
   "id": "15a79e01-cff5-4ef7-be17-3f757d915b9d",
   "metadata": {
    "slideshow": {
     "slide_type": "subslide"
    },
    "tags": []
   },
   "outputs": [
    {
     "data": {
      "text/plain": [
       "732.9753f0"
      ]
     },
     "execution_count": 19,
     "metadata": {},
     "output_type": "execute_result"
    }
   ],
   "source": [
    "sum(abs.(price[window_length:end] .- predicted_window))"
   ]
  },
  {
   "cell_type": "code",
   "execution_count": 20,
   "id": "2222dce0-0ba0-4795-a69e-c8b74ce3153f",
   "metadata": {
    "slideshow": {
     "slide_type": "fragment"
    },
    "tags": []
   },
   "outputs": [
    {
     "data": {
      "text/plain": [
       "1645.7041f0"
      ]
     },
     "execution_count": 20,
     "metadata": {},
     "output_type": "execute_result"
    }
   ],
   "source": [
    "sum(abs.(price[2:end] .- predicted_single))"
   ]
  },
  {
   "cell_type": "code",
   "execution_count": null,
   "id": "de497faf-9fbd-42ce-afea-0a2a9ad6a06a",
   "metadata": {
    "slideshow": {
     "slide_type": "skip"
    },
    "tags": []
   },
   "outputs": [],
   "source": [
    "function loss(x, y)\n",
    "    model(x[1]) # ignores the output but updates the hidden states -- sometimes called \"warmup\"\n",
    "    sum(Flux.Losses.mse(model(xi), yi) for (xi, yi) in zip(x, y))\n",
    "end\n",
    "\n",
    "# Compute the gradient of the mean squared error loss\n",
    "∇ = gradient(θ) do\n",
    "    model(X[1]) # Warm-up the model\n",
    "    sum(Flux.Losses.mse.([model(x) for x ∈ X[2:end]], Y[2:end]))\n",
    "end\n",
    "Flux.update!(opt, θ, ∇) # Update the parameters"
   ]
  }
 ],
 "metadata": {
  "kernelspec": {
   "display_name": "Julia Brew 1.8.2",
   "language": "julia",
   "name": "julia-brew-1.8"
  },
  "language_info": {
   "file_extension": ".jl",
   "mimetype": "application/julia",
   "name": "julia",
   "version": "1.8.2"
  }
 },
 "nbformat": 4,
 "nbformat_minor": 5
}
