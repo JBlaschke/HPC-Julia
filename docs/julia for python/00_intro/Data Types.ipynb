{
 "cells": [
  {
   "cell_type": "markdown",
   "id": "republican-basic",
   "metadata": {
    "slideshow": {
     "slide_type": "slide"
    },
    "tags": []
   },
   "source": [
    "# The Magic of Julia Data Types"
   ]
  },
  {
   "cell_type": "markdown",
   "id": "plastic-following",
   "metadata": {
    "slideshow": {
     "slide_type": "fragment"
    },
    "tags": []
   },
   "source": [
    "Unlike python, where classes _own_ methods, in Julia there are no _classes_ in the python sense:\n",
    "* Data types define structured data _and nothing else_ (mostly)\n",
    "* Functions can have multiple definitions (each new definition of a function is called a _method_)\n",
    "* The Julia compiler chooses which method to apply to a function call based on the type of _all_ input arguments (i.e. Multiple Dispatch)\n",
    "\n",
    "This might be a bit strange for python users: classes look \"inside-out\" with method definitions accompanying data types.\n",
    "\n",
    "For encapsulation, use Modules!"
   ]
  },
  {
   "cell_type": "markdown",
   "id": "divided-temperature",
   "metadata": {
    "slideshow": {
     "slide_type": "slide"
    },
    "tags": []
   },
   "source": [
    "## Composite Data Types (Classes)"
   ]
  },
  {
   "cell_type": "markdown",
   "id": "dutch-lancaster",
   "metadata": {
    "slideshow": {
     "slide_type": "subslide"
    },
    "tags": []
   },
   "source": [
    "Let's define an ordered pair of reals"
   ]
  },
  {
   "cell_type": "code",
   "execution_count": 1,
   "id": "accomplished-mentor",
   "metadata": {
    "slideshow": {
     "slide_type": "fragment"
    },
    "tags": []
   },
   "outputs": [],
   "source": [
    "struct OrderedPair <: Number\n",
    "    x::Real\n",
    "    y::Real\n",
    "    \n",
    "    OrderedPair(x::Real, y::Real) = x > y ? error(\"out of order\") : new(x,y)\n",
    "end"
   ]
  },
  {
   "cell_type": "markdown",
   "id": "parental-level",
   "metadata": {
    "slideshow": {
     "slide_type": "fragment"
    },
    "tags": []
   },
   "source": [
    "The encapsulated function: `OrderedPair(x,y) = x > y ? error(\"out of order\") : new(x,y)` defines a constructor `__init__(self, x, y)` that ensure that the ordered pair stays ordered. This is a one-line function definition that is equivalent to:\n",
    "```julia\n",
    "function OrderedPair(x,y)\n",
    "    if x > y\n",
    "        error(\"out of order\")\n",
    "    end\n",
    "    new(x,y)\n",
    "end\n",
    "```"
   ]
  },
  {
   "cell_type": "markdown",
   "id": "rational-integral",
   "metadata": {
    "slideshow": {
     "slide_type": "subslide"
    },
    "tags": []
   },
   "source": [
    "Let's define some math: addition and subtraction: In python we would define `__add__` and `__sub__`. In julia we define new _methods_ for `Base.+` and `Base.-` as well a conversion and promotion rules for our custom data type. This way our `OrderedPair` is a first-class citizen ... just like `Float64` :)"
   ]
  },
  {
   "cell_type": "code",
   "execution_count": 2,
   "id": "subsequent-roots",
   "metadata": {
    "slideshow": {
     "slide_type": "fragment"
    },
    "tags": []
   },
   "outputs": [
    {
     "data": {
      "text/plain": [
       "promote_rule (generic function with 125 methods)"
      ]
     },
     "execution_count": 2,
     "metadata": {},
     "output_type": "execute_result"
    }
   ],
   "source": [
    "import Base: +, -, convert, promote_rule\n",
    "\n",
    "function +(a::OrderedPair, b::OrderedPair)\n",
    "    x_new = a.x + b.x\n",
    "    y_new = a.y + b.y\n",
    "    OrderedPair(x_new, y_new)\n",
    "end\n",
    "\n",
    "# One-liners can seem a bit magical\n",
    "-(a::OrderedPair, b::OrderedPair) = OrderedPair(a.x - b.x, a.y - b.y)\n",
    "\n",
    "# Getting these right might require some experimenting. Note how OrderedPair extends Number.\n",
    "convert(::Type{OrderedPair}, x::Real) = OrderedPair(x, x)\n",
    "promote_rule(::Type{OrderedPair}, ::Type{<:Real}) = OrderedPair"
   ]
  },
  {
   "cell_type": "code",
   "execution_count": 3,
   "id": "drawn-paste",
   "metadata": {
    "slideshow": {
     "slide_type": "subslide"
    },
    "tags": []
   },
   "outputs": [
    {
     "data": {
      "text/plain": [
       "OrderedPair(10, 20)"
      ]
     },
     "execution_count": 3,
     "metadata": {},
     "output_type": "execute_result"
    }
   ],
   "source": [
    "p1 = OrderedPair(1, 2)\n",
    "p2 = OrderedPair(10, 20)"
   ]
  },
  {
   "cell_type": "code",
   "execution_count": 4,
   "id": "bottom-bedroom",
   "metadata": {
    "slideshow": {
     "slide_type": "fragment"
    },
    "tags": []
   },
   "outputs": [
    {
     "data": {
      "text/plain": [
       "OrderedPair(11, 22)"
      ]
     },
     "execution_count": 4,
     "metadata": {},
     "output_type": "execute_result"
    }
   ],
   "source": [
    "p1 + p2"
   ]
  },
  {
   "cell_type": "code",
   "execution_count": 5,
   "id": "revised-equipment",
   "metadata": {
    "slideshow": {
     "slide_type": "subslide"
    },
    "tags": []
   },
   "outputs": [
    {
     "ename": "LoadError",
     "evalue": "out of order",
     "output_type": "error",
     "traceback": [
      "out of order",
      "",
      "Stacktrace:",
      " [1] error(s::String)",
      "   @ Base ./error.jl:33",
      " [2] OrderedPair(x::Int64, y::Int64)",
      "   @ Main ./In[1]:5",
      " [3] -(a::OrderedPair, b::OrderedPair)",
      "   @ Main ./In[2]:10",
      " [4] top-level scope",
      "   @ In[5]:1",
      " [5] eval",
      "   @ ./boot.jl:360 [inlined]",
      " [6] include_string(mapexpr::typeof(REPL.softscope), mod::Module, code::String, filename::String)",
      "   @ Base ./loading.jl:1094"
     ]
    }
   ],
   "source": [
    "p1 - p2"
   ]
  },
  {
   "cell_type": "code",
   "execution_count": 6,
   "id": "public-toilet",
   "metadata": {
    "slideshow": {
     "slide_type": "fragment"
    },
    "tags": []
   },
   "outputs": [
    {
     "data": {
      "text/plain": [
       "OrderedPair(9, 18)"
      ]
     },
     "execution_count": 6,
     "metadata": {},
     "output_type": "execute_result"
    }
   ],
   "source": [
    "p2 - p1"
   ]
  },
  {
   "cell_type": "code",
   "execution_count": 7,
   "id": "introductory-china",
   "metadata": {
    "slideshow": {
     "slide_type": "skip"
    },
    "tags": []
   },
   "outputs": [
    {
     "data": {
      "text/plain": [
       "OrderedPair(20.0, 20.0)"
      ]
     },
     "execution_count": 7,
     "metadata": {},
     "output_type": "execute_result"
    }
   ],
   "source": [
    "convert(OrderedPair, 20.)"
   ]
  },
  {
   "cell_type": "code",
   "execution_count": 8,
   "id": "lesbian-trader",
   "metadata": {
    "slideshow": {
     "slide_type": "fragment"
    },
    "tags": []
   },
   "outputs": [
    {
     "data": {
      "text/plain": [
       "OrderedPair(21.0, 22.0)"
      ]
     },
     "execution_count": 8,
     "metadata": {},
     "output_type": "execute_result"
    }
   ],
   "source": [
    "p1 + 20."
   ]
  },
  {
   "cell_type": "markdown",
   "id": "facial-light",
   "metadata": {
    "slideshow": {
     "slide_type": "slide"
    },
    "tags": []
   },
   "source": [
    "## Generics and `UnionAll` Data Types"
   ]
  },
  {
   "cell_type": "markdown",
   "id": "chronic-present",
   "metadata": {
    "slideshow": {
     "slide_type": "subslide"
    },
    "tags": []
   },
   "source": [
    "We can use curly braces and the `where` keyword to define generic types. These are basically templates. The `<:` symbol restricts the possible inputs to the generic type `T`"
   ]
  },
  {
   "cell_type": "code",
   "execution_count": 9,
   "id": "identified-underwear",
   "metadata": {
    "slideshow": {
     "slide_type": "fragment"
    },
    "tags": []
   },
   "outputs": [],
   "source": [
    "struct OrderedPair2{T} <: Number where T <: Number\n",
    "    x::T\n",
    "    y::T\n",
    "    OrderedPair2(x::T, y::T) where T = x > y ? error(\"out of order\") : new{T}(x,y)\n",
    "end"
   ]
  },
  {
   "cell_type": "markdown",
   "id": "touched-swimming",
   "metadata": {
    "slideshow": {
     "slide_type": "fragment"
    },
    "tags": []
   },
   "source": [
    "This now generates different specializations based on the type of `x`, and `y`"
   ]
  },
  {
   "cell_type": "code",
   "execution_count": 10,
   "id": "raising-cartoon",
   "metadata": {
    "slideshow": {
     "slide_type": "fragment"
    },
    "tags": []
   },
   "outputs": [
    {
     "data": {
      "text/plain": [
       "OrderedPair2{Float64}(1.0, 2.0)"
      ]
     },
     "execution_count": 10,
     "metadata": {},
     "output_type": "execute_result"
    }
   ],
   "source": [
    "p = OrderedPair2(1., 2.)"
   ]
  },
  {
   "cell_type": "code",
   "execution_count": 11,
   "id": "found-blood",
   "metadata": {
    "slideshow": {
     "slide_type": "fragment"
    },
    "tags": []
   },
   "outputs": [
    {
     "data": {
      "text/plain": [
       "OrderedPair2{Int64}(1, 2)"
      ]
     },
     "execution_count": 11,
     "metadata": {},
     "output_type": "execute_result"
    }
   ],
   "source": [
    "p2 = OrderedPair2(1, 2)"
   ]
  },
  {
   "cell_type": "markdown",
   "id": "dramatic-cycling",
   "metadata": {
    "slideshow": {
     "slide_type": "slide"
    },
    "tags": []
   },
   "source": [
    "## Julia Magic: Autodifferentiation in 4 lines"
   ]
  },
  {
   "cell_type": "markdown",
   "id": "israeli-professor",
   "metadata": {
    "slideshow": {
     "slide_type": "fragment"
    },
    "tags": []
   },
   "source": [
    "Take as an example the babylonian algorithm to calculate $\\sqrt{x}$\n",
    "> Repeat $ t \\leftarrow  \\frac{t+\\frac{x}{t}}{2} $ until $t$ converges to $\\sqrt{x}$.\n",
    "\n",
    "For illustration we will use 10 iterations"
   ]
  },
  {
   "cell_type": "code",
   "execution_count": 12,
   "id": "removed-orchestra",
   "metadata": {
    "slideshow": {
     "slide_type": "subslide"
    },
    "tags": []
   },
   "outputs": [
    {
     "data": {
      "text/plain": [
       "babylonian (generic function with 1 method)"
      ]
     },
     "execution_count": 12,
     "metadata": {},
     "output_type": "execute_result"
    }
   ],
   "source": [
    "function babylonian(x; N::Integer = 10) \n",
    "    t = (1+x)/2\n",
    "    for i = 2:N\n",
    "        t = (t + x/t)/2 \n",
    "    end    \n",
    "    t\n",
    "end"
   ]
  },
  {
   "cell_type": "markdown",
   "id": "turned-tower",
   "metadata": {
    "slideshow": {
     "slide_type": "fragment"
    },
    "tags": []
   },
   "source": [
    "Check: `sqrt(100) == 10`"
   ]
  },
  {
   "cell_type": "code",
   "execution_count": 13,
   "id": "conservative-harris",
   "metadata": {
    "slideshow": {
     "slide_type": "fragment"
    },
    "tags": []
   },
   "outputs": [
    {
     "data": {
      "text/plain": [
       "10.0"
      ]
     },
     "execution_count": 13,
     "metadata": {},
     "output_type": "execute_result"
    }
   ],
   "source": [
    "babylonian(100)"
   ]
  },
  {
   "cell_type": "code",
   "execution_count": 14,
   "id": "dying-conservative",
   "metadata": {
    "slideshow": {
     "slide_type": "fragment"
    },
    "tags": []
   },
   "outputs": [
    {
     "data": {
      "text/plain": [
       "(1.414213562373095, 1.4142135623730951)"
      ]
     },
     "execution_count": 14,
     "metadata": {},
     "output_type": "execute_result"
    }
   ],
   "source": [
    "x=2; babylonian(x), √x  # Type \\sqrt+<tab> to get the symbol"
   ]
  },
  {
   "cell_type": "markdown",
   "id": "institutional-transaction",
   "metadata": {
    "slideshow": {
     "slide_type": "subslide"
    },
    "tags": []
   },
   "source": [
    "Let's look at the convergence behaviour"
   ]
  },
  {
   "cell_type": "code",
   "execution_count": 15,
   "id": "knowing-monaco",
   "metadata": {
    "slideshow": {
     "slide_type": "fragment"
    },
    "tags": []
   },
   "outputs": [],
   "source": [
    "x = range(0.01, 10, length=100)\n",
    "y = [babylonian(x, N = N) for x = x, N = 1:5];"
   ]
  },
  {
   "cell_type": "code",
   "execution_count": 16,
   "id": "grateful-deputy",
   "metadata": {
    "slideshow": {
     "slide_type": "fragment"
    },
    "tags": []
   },
   "outputs": [
    {
     "data": {
      "image/svg+xml": [
       "<?xml version=\"1.0\" encoding=\"utf-8\"?>\n",
       "<svg xmlns=\"http://www.w3.org/2000/svg\" xmlns:xlink=\"http://www.w3.org/1999/xlink\" width=\"600\" height=\"400\" viewBox=\"0 0 2400 1600\">\n",
       "<defs>\n",
       "  <clipPath id=\"clip380\">\n",
       "    <rect x=\"0\" y=\"0\" width=\"2400\" height=\"1600\"/>\n",
       "  </clipPath>\n",
       "</defs>\n",
       "<path clip-path=\"url(#clip380)\" d=\"\n",
       "M0 1600 L2400 1600 L2400 0 L0 0  Z\n",
       "  \" fill=\"#ffffff\" fill-rule=\"evenodd\" fill-opacity=\"1\"/>\n",
       "<defs>\n",
       "  <clipPath id=\"clip381\">\n",
       "    <rect x=\"480\" y=\"0\" width=\"1681\" height=\"1600\"/>\n",
       "  </clipPath>\n",
       "</defs>\n",
       "<path clip-path=\"url(#clip380)\" d=\"\n",
       "M112.177 1486.45 L2352.76 1486.45 L2352.76 47.2441 L112.177 47.2441  Z\n",
       "  \" fill=\"#ffffff\" fill-rule=\"evenodd\" fill-opacity=\"1\"/>\n",
       "<defs>\n",
       "  <clipPath id=\"clip382\">\n",
       "    <rect x=\"112\" y=\"47\" width=\"2242\" height=\"1440\"/>\n",
       "  </clipPath>\n",
       "</defs>\n",
       "<polyline clip-path=\"url(#clip382)\" style=\"stroke:#000000; stroke-width:2; stroke-opacity:0.1; fill:none\" points=\"\n",
       "  173.474,1486.45 173.474,47.2441 \n",
       "  \"/>\n",
       "<polyline clip-path=\"url(#clip382)\" style=\"stroke:#000000; stroke-width:2; stroke-opacity:0.1; fill:none\" points=\"\n",
       "  702.441,1486.45 702.441,47.2441 \n",
       "  \"/>\n",
       "<polyline clip-path=\"url(#clip382)\" style=\"stroke:#000000; stroke-width:2; stroke-opacity:0.1; fill:none\" points=\"\n",
       "  1231.41,1486.45 1231.41,47.2441 \n",
       "  \"/>\n",
       "<polyline clip-path=\"url(#clip382)\" style=\"stroke:#000000; stroke-width:2; stroke-opacity:0.1; fill:none\" points=\"\n",
       "  1760.38,1486.45 1760.38,47.2441 \n",
       "  \"/>\n",
       "<polyline clip-path=\"url(#clip382)\" style=\"stroke:#000000; stroke-width:2; stroke-opacity:0.1; fill:none\" points=\"\n",
       "  2289.34,1486.45 2289.34,47.2441 \n",
       "  \"/>\n",
       "<polyline clip-path=\"url(#clip380)\" style=\"stroke:#000000; stroke-width:4; stroke-opacity:1; fill:none\" points=\"\n",
       "  112.177,1486.45 2352.76,1486.45 \n",
       "  \"/>\n",
       "<polyline clip-path=\"url(#clip380)\" style=\"stroke:#000000; stroke-width:4; stroke-opacity:1; fill:none\" points=\"\n",
       "  173.474,1486.45 173.474,1469.18 \n",
       "  \"/>\n",
       "<polyline clip-path=\"url(#clip380)\" style=\"stroke:#000000; stroke-width:4; stroke-opacity:1; fill:none\" points=\"\n",
       "  702.441,1486.45 702.441,1469.18 \n",
       "  \"/>\n",
       "<polyline clip-path=\"url(#clip380)\" style=\"stroke:#000000; stroke-width:4; stroke-opacity:1; fill:none\" points=\"\n",
       "  1231.41,1486.45 1231.41,1469.18 \n",
       "  \"/>\n",
       "<polyline clip-path=\"url(#clip380)\" style=\"stroke:#000000; stroke-width:4; stroke-opacity:1; fill:none\" points=\"\n",
       "  1760.38,1486.45 1760.38,1469.18 \n",
       "  \"/>\n",
       "<polyline clip-path=\"url(#clip380)\" style=\"stroke:#000000; stroke-width:4; stroke-opacity:1; fill:none\" points=\"\n",
       "  2289.34,1486.45 2289.34,1469.18 \n",
       "  \"/>\n",
       "<path clip-path=\"url(#clip380)\" d=\"M 0 0 M150.858 1515.64 Q147.247 1515.64 145.419 1519.2 Q143.613 1522.75 143.613 1529.87 Q143.613 1536.98 145.419 1540.55 Q147.247 1544.09 150.858 1544.09 Q154.493 1544.09 156.298 1540.55 Q158.127 1536.98 158.127 1529.87 Q158.127 1522.75 156.298 1519.2 Q154.493 1515.64 150.858 1515.64 M150.858 1511.93 Q156.668 1511.93 159.724 1516.54 Q162.803 1521.12 162.803 1529.87 Q162.803 1538.6 159.724 1543.21 Q156.668 1547.79 150.858 1547.79 Q145.048 1547.79 141.969 1543.21 Q138.914 1538.6 138.914 1529.87 Q138.914 1521.12 141.969 1516.54 Q145.048 1511.93 150.858 1511.93 Z\" fill=\"#000000\" fill-rule=\"evenodd\" fill-opacity=\"1\" /><path clip-path=\"url(#clip380)\" d=\"M 0 0 M171.02 1541.24 L175.904 1541.24 L175.904 1547.12 L171.02 1547.12 L171.02 1541.24 Z\" fill=\"#000000\" fill-rule=\"evenodd\" fill-opacity=\"1\" /><path clip-path=\"url(#clip380)\" d=\"M 0 0 M196.09 1515.64 Q192.478 1515.64 190.65 1519.2 Q188.844 1522.75 188.844 1529.87 Q188.844 1536.98 190.65 1540.55 Q192.478 1544.09 196.09 1544.09 Q199.724 1544.09 201.529 1540.55 Q203.358 1536.98 203.358 1529.87 Q203.358 1522.75 201.529 1519.2 Q199.724 1515.64 196.09 1515.64 M196.09 1511.93 Q201.9 1511.93 204.955 1516.54 Q208.034 1521.12 208.034 1529.87 Q208.034 1538.6 204.955 1543.21 Q201.9 1547.79 196.09 1547.79 Q190.279 1547.79 187.201 1543.21 Q184.145 1538.6 184.145 1529.87 Q184.145 1521.12 187.201 1516.54 Q190.279 1511.93 196.09 1511.93 Z\" fill=\"#000000\" fill-rule=\"evenodd\" fill-opacity=\"1\" /><path clip-path=\"url(#clip380)\" d=\"M 0 0 M674.178 1543.18 L690.497 1543.18 L690.497 1547.12 L668.553 1547.12 L668.553 1543.18 Q671.215 1540.43 675.798 1535.8 Q680.404 1531.15 681.585 1529.81 Q683.83 1527.28 684.71 1525.55 Q685.613 1523.79 685.613 1522.1 Q685.613 1519.34 683.668 1517.61 Q681.747 1515.87 678.645 1515.87 Q676.446 1515.87 673.992 1516.63 Q671.562 1517.4 668.784 1518.95 L668.784 1514.23 Q671.608 1513.09 674.062 1512.51 Q676.515 1511.93 678.552 1511.93 Q683.923 1511.93 687.117 1514.62 Q690.312 1517.31 690.312 1521.8 Q690.312 1523.93 689.502 1525.85 Q688.714 1527.74 686.608 1530.34 Q686.029 1531.01 682.927 1534.23 Q679.826 1537.42 674.178 1543.18 Z\" fill=\"#000000\" fill-rule=\"evenodd\" fill-opacity=\"1\" /><path clip-path=\"url(#clip380)\" d=\"M 0 0 M700.312 1541.24 L705.196 1541.24 L705.196 1547.12 L700.312 1547.12 L700.312 1541.24 Z\" fill=\"#000000\" fill-rule=\"evenodd\" fill-opacity=\"1\" /><path clip-path=\"url(#clip380)\" d=\"M 0 0 M715.427 1512.56 L733.784 1512.56 L733.784 1516.5 L719.71 1516.5 L719.71 1524.97 Q720.728 1524.62 721.747 1524.46 Q722.765 1524.27 723.784 1524.27 Q729.571 1524.27 732.95 1527.44 Q736.33 1530.62 736.33 1536.03 Q736.33 1541.61 732.858 1544.71 Q729.386 1547.79 723.066 1547.79 Q720.89 1547.79 718.622 1547.42 Q716.376 1547.05 713.969 1546.31 L713.969 1541.61 Q716.052 1542.74 718.275 1543.3 Q720.497 1543.86 722.974 1543.86 Q726.978 1543.86 729.316 1541.75 Q731.654 1539.64 731.654 1536.03 Q731.654 1532.42 729.316 1530.31 Q726.978 1528.21 722.974 1528.21 Q721.099 1528.21 719.224 1528.62 Q717.372 1529.04 715.427 1529.92 L715.427 1512.56 Z\" fill=\"#000000\" fill-rule=\"evenodd\" fill-opacity=\"1\" /><path clip-path=\"url(#clip380)\" d=\"M 0 0 M1198.57 1512.56 L1216.93 1512.56 L1216.93 1516.5 L1202.86 1516.5 L1202.86 1524.97 Q1203.87 1524.62 1204.89 1524.46 Q1205.91 1524.27 1206.93 1524.27 Q1212.72 1524.27 1216.1 1527.44 Q1219.48 1530.62 1219.48 1536.03 Q1219.48 1541.61 1216 1544.71 Q1212.53 1547.79 1206.21 1547.79 Q1204.04 1547.79 1201.77 1547.42 Q1199.52 1547.05 1197.11 1546.31 L1197.11 1541.61 Q1199.2 1542.74 1201.42 1543.3 Q1203.64 1543.86 1206.12 1543.86 Q1210.12 1543.86 1212.46 1541.75 Q1214.8 1539.64 1214.8 1536.03 Q1214.8 1532.42 1212.46 1530.31 Q1210.12 1528.21 1206.12 1528.21 Q1204.24 1528.21 1202.37 1528.62 Q1200.52 1529.04 1198.57 1529.92 L1198.57 1512.56 Z\" fill=\"#000000\" fill-rule=\"evenodd\" fill-opacity=\"1\" /><path clip-path=\"url(#clip380)\" d=\"M 0 0 M1228.69 1541.24 L1233.57 1541.24 L1233.57 1547.12 L1228.69 1547.12 L1228.69 1541.24 Z\" fill=\"#000000\" fill-rule=\"evenodd\" fill-opacity=\"1\" /><path clip-path=\"url(#clip380)\" d=\"M 0 0 M1253.76 1515.64 Q1250.15 1515.64 1248.32 1519.2 Q1246.51 1522.75 1246.51 1529.87 Q1246.51 1536.98 1248.32 1540.55 Q1250.15 1544.09 1253.76 1544.09 Q1257.39 1544.09 1259.2 1540.55 Q1261.03 1536.98 1261.03 1529.87 Q1261.03 1522.75 1259.2 1519.2 Q1257.39 1515.64 1253.76 1515.64 M1253.76 1511.93 Q1259.57 1511.93 1262.62 1516.54 Q1265.7 1521.12 1265.7 1529.87 Q1265.7 1538.6 1262.62 1543.21 Q1259.57 1547.79 1253.76 1547.79 Q1247.95 1547.79 1244.87 1543.21 Q1241.81 1538.6 1241.81 1529.87 Q1241.81 1521.12 1244.87 1516.54 Q1247.95 1511.93 1253.76 1511.93 Z\" fill=\"#000000\" fill-rule=\"evenodd\" fill-opacity=\"1\" /><path clip-path=\"url(#clip380)\" d=\"M 0 0 M1726.7 1512.56 L1748.92 1512.56 L1748.92 1514.55 L1736.37 1547.12 L1731.49 1547.12 L1743.29 1516.5 L1726.7 1516.5 L1726.7 1512.56 Z\" fill=\"#000000\" fill-rule=\"evenodd\" fill-opacity=\"1\" /><path clip-path=\"url(#clip380)\" d=\"M 0 0 M1758.04 1541.24 L1762.92 1541.24 L1762.92 1547.12 L1758.04 1547.12 L1758.04 1541.24 Z\" fill=\"#000000\" fill-rule=\"evenodd\" fill-opacity=\"1\" /><path clip-path=\"url(#clip380)\" d=\"M 0 0 M1773.15 1512.56 L1791.51 1512.56 L1791.51 1516.5 L1777.44 1516.5 L1777.44 1524.97 Q1778.45 1524.62 1779.47 1524.46 Q1780.49 1524.27 1781.51 1524.27 Q1787.3 1524.27 1790.68 1527.44 Q1794.06 1530.62 1794.06 1536.03 Q1794.06 1541.61 1790.58 1544.71 Q1787.11 1547.79 1780.79 1547.79 Q1778.62 1547.79 1776.35 1547.42 Q1774.1 1547.05 1771.7 1546.31 L1771.7 1541.61 Q1773.78 1542.74 1776 1543.3 Q1778.22 1543.86 1780.7 1543.86 Q1784.7 1543.86 1787.04 1541.75 Q1789.38 1539.64 1789.38 1536.03 Q1789.38 1532.42 1787.04 1530.31 Q1784.7 1528.21 1780.7 1528.21 Q1778.82 1528.21 1776.95 1528.62 Q1775.1 1529.04 1773.15 1529.92 L1773.15 1512.56 Z\" fill=\"#000000\" fill-rule=\"evenodd\" fill-opacity=\"1\" /><path clip-path=\"url(#clip380)\" d=\"M 0 0 M2241.42 1543.18 L2249.05 1543.18 L2249.05 1516.82 L2240.74 1518.49 L2240.74 1514.23 L2249.01 1512.56 L2253.68 1512.56 L2253.68 1543.18 L2261.32 1543.18 L2261.32 1547.12 L2241.42 1547.12 L2241.42 1543.18 Z\" fill=\"#000000\" fill-rule=\"evenodd\" fill-opacity=\"1\" /><path clip-path=\"url(#clip380)\" d=\"M 0 0 M2280.77 1515.64 Q2277.16 1515.64 2275.33 1519.2 Q2273.52 1522.75 2273.52 1529.87 Q2273.52 1536.98 2275.33 1540.55 Q2277.16 1544.09 2280.77 1544.09 Q2284.4 1544.09 2286.21 1540.55 Q2288.04 1536.98 2288.04 1529.87 Q2288.04 1522.75 2286.21 1519.2 Q2284.4 1515.64 2280.77 1515.64 M2280.77 1511.93 Q2286.58 1511.93 2289.63 1516.54 Q2292.71 1521.12 2292.71 1529.87 Q2292.71 1538.6 2289.63 1543.21 Q2286.58 1547.79 2280.77 1547.79 Q2274.96 1547.79 2271.88 1543.21 Q2268.82 1538.6 2268.82 1529.87 Q2268.82 1521.12 2271.88 1516.54 Q2274.96 1511.93 2280.77 1511.93 Z\" fill=\"#000000\" fill-rule=\"evenodd\" fill-opacity=\"1\" /><path clip-path=\"url(#clip380)\" d=\"M 0 0 M2300.93 1541.24 L2305.81 1541.24 L2305.81 1547.12 L2300.93 1547.12 L2300.93 1541.24 Z\" fill=\"#000000\" fill-rule=\"evenodd\" fill-opacity=\"1\" /><path clip-path=\"url(#clip380)\" d=\"M 0 0 M2326 1515.64 Q2322.39 1515.64 2320.56 1519.2 Q2318.75 1522.75 2318.75 1529.87 Q2318.75 1536.98 2320.56 1540.55 Q2322.39 1544.09 2326 1544.09 Q2329.63 1544.09 2331.44 1540.55 Q2333.27 1536.98 2333.27 1529.87 Q2333.27 1522.75 2331.44 1519.2 Q2329.63 1515.64 2326 1515.64 M2326 1511.93 Q2331.81 1511.93 2334.86 1516.54 Q2337.94 1521.12 2337.94 1529.87 Q2337.94 1538.6 2334.86 1543.21 Q2331.81 1547.79 2326 1547.79 Q2320.19 1547.79 2317.11 1543.21 Q2314.05 1538.6 2314.05 1529.87 Q2314.05 1521.12 2317.11 1516.54 Q2320.19 1511.93 2326 1511.93 Z\" fill=\"#000000\" fill-rule=\"evenodd\" fill-opacity=\"1\" /><polyline clip-path=\"url(#clip382)\" style=\"stroke:#000000; stroke-width:2; stroke-opacity:0.1; fill:none\" points=\"\n",
       "  112.177,1470.94 2352.76,1470.94 \n",
       "  \"/>\n",
       "<polyline clip-path=\"url(#clip382)\" style=\"stroke:#000000; stroke-width:2; stroke-opacity:0.1; fill:none\" points=\"\n",
       "  112.177,1219.49 2352.76,1219.49 \n",
       "  \"/>\n",
       "<polyline clip-path=\"url(#clip382)\" style=\"stroke:#000000; stroke-width:2; stroke-opacity:0.1; fill:none\" points=\"\n",
       "  112.177,968.046 2352.76,968.046 \n",
       "  \"/>\n",
       "<polyline clip-path=\"url(#clip382)\" style=\"stroke:#000000; stroke-width:2; stroke-opacity:0.1; fill:none\" points=\"\n",
       "  112.177,716.597 2352.76,716.597 \n",
       "  \"/>\n",
       "<polyline clip-path=\"url(#clip382)\" style=\"stroke:#000000; stroke-width:2; stroke-opacity:0.1; fill:none\" points=\"\n",
       "  112.177,465.149 2352.76,465.149 \n",
       "  \"/>\n",
       "<polyline clip-path=\"url(#clip382)\" style=\"stroke:#000000; stroke-width:2; stroke-opacity:0.1; fill:none\" points=\"\n",
       "  112.177,213.7 2352.76,213.7 \n",
       "  \"/>\n",
       "<polyline clip-path=\"url(#clip380)\" style=\"stroke:#000000; stroke-width:4; stroke-opacity:1; fill:none\" points=\"\n",
       "  112.177,1486.45 112.177,47.2441 \n",
       "  \"/>\n",
       "<polyline clip-path=\"url(#clip380)\" style=\"stroke:#000000; stroke-width:4; stroke-opacity:1; fill:none\" points=\"\n",
       "  112.177,1470.94 139.064,1470.94 \n",
       "  \"/>\n",
       "<polyline clip-path=\"url(#clip380)\" style=\"stroke:#000000; stroke-width:4; stroke-opacity:1; fill:none\" points=\"\n",
       "  112.177,1219.49 139.064,1219.49 \n",
       "  \"/>\n",
       "<polyline clip-path=\"url(#clip380)\" style=\"stroke:#000000; stroke-width:4; stroke-opacity:1; fill:none\" points=\"\n",
       "  112.177,968.046 139.064,968.046 \n",
       "  \"/>\n",
       "<polyline clip-path=\"url(#clip380)\" style=\"stroke:#000000; stroke-width:4; stroke-opacity:1; fill:none\" points=\"\n",
       "  112.177,716.597 139.064,716.597 \n",
       "  \"/>\n",
       "<polyline clip-path=\"url(#clip380)\" style=\"stroke:#000000; stroke-width:4; stroke-opacity:1; fill:none\" points=\"\n",
       "  112.177,465.149 139.064,465.149 \n",
       "  \"/>\n",
       "<polyline clip-path=\"url(#clip380)\" style=\"stroke:#000000; stroke-width:4; stroke-opacity:1; fill:none\" points=\"\n",
       "  112.177,213.7 139.064,213.7 \n",
       "  \"/>\n",
       "<path clip-path=\"url(#clip380)\" d=\"M 0 0 M64.2328 1456.74 Q60.6217 1456.74 58.793 1460.31 Q56.9875 1463.85 56.9875 1470.98 Q56.9875 1478.08 58.793 1481.65 Q60.6217 1485.19 64.2328 1485.19 Q67.867 1485.19 69.6726 1481.65 Q71.5013 1478.08 71.5013 1470.98 Q71.5013 1463.85 69.6726 1460.31 Q67.867 1456.74 64.2328 1456.74 M64.2328 1453.04 Q70.0429 1453.04 73.0985 1457.64 Q76.1772 1462.23 76.1772 1470.98 Q76.1772 1479.7 73.0985 1484.31 Q70.0429 1488.89 64.2328 1488.89 Q58.4226 1488.89 55.344 1484.31 Q52.2884 1479.7 52.2884 1470.98 Q52.2884 1462.23 55.344 1457.64 Q58.4226 1453.04 64.2328 1453.04 Z\" fill=\"#000000\" fill-rule=\"evenodd\" fill-opacity=\"1\" /><path clip-path=\"url(#clip380)\" d=\"M 0 0 M56.2699 1232.84 L63.9087 1232.84 L63.9087 1206.47 L55.5986 1208.14 L55.5986 1203.88 L63.8624 1202.21 L68.5383 1202.21 L68.5383 1232.84 L76.1772 1232.84 L76.1772 1236.77 L56.2699 1236.77 L56.2699 1232.84 Z\" fill=\"#000000\" fill-rule=\"evenodd\" fill-opacity=\"1\" /><path clip-path=\"url(#clip380)\" d=\"M 0 0 M59.8578 981.39 L76.1772 981.39 L76.1772 985.326 L54.2328 985.326 L54.2328 981.39 Q56.8949 978.636 61.4782 974.006 Q66.0846 969.354 67.2652 968.011 Q69.5105 965.488 70.3902 963.752 Q71.2929 961.992 71.2929 960.303 Q71.2929 957.548 69.3485 955.812 Q67.4272 954.076 64.3254 954.076 Q62.1263 954.076 59.6726 954.84 Q57.2421 955.604 54.4643 957.155 L54.4643 952.432 Q57.2884 951.298 59.7421 950.719 Q62.1958 950.141 64.2328 950.141 Q69.6031 950.141 72.7976 952.826 Q75.992 955.511 75.992 960.002 Q75.992 962.131 75.1818 964.053 Q74.3948 965.951 72.2883 968.543 Q71.7096 969.215 68.6078 972.432 Q65.5059 975.627 59.8578 981.39 Z\" fill=\"#000000\" fill-rule=\"evenodd\" fill-opacity=\"1\" /><path clip-path=\"url(#clip380)\" d=\"M 0 0 M69.0476 715.243 Q72.404 715.961 74.279 718.229 Q76.1772 720.498 76.1772 723.831 Q76.1772 728.947 72.6587 731.748 Q69.1402 734.549 62.6587 734.549 Q60.4828 734.549 58.168 734.109 Q55.8764 733.692 53.4227 732.836 L53.4227 728.322 Q55.3671 729.456 57.6819 730.035 Q59.9967 730.613 62.5198 730.613 Q66.918 730.613 69.2096 728.877 Q71.5244 727.141 71.5244 723.831 Q71.5244 720.775 69.3717 719.063 Q67.242 717.326 63.4226 717.326 L59.3949 717.326 L59.3949 713.484 L63.6078 713.484 Q67.0569 713.484 68.8855 712.118 Q70.7142 710.729 70.7142 708.137 Q70.7142 705.475 68.8161 704.063 Q66.9411 702.627 63.4226 702.627 Q61.5013 702.627 59.3023 703.044 Q57.1032 703.461 54.4643 704.34 L54.4643 700.174 Q57.1264 699.433 59.4412 699.063 Q61.7791 698.692 63.8393 698.692 Q69.1633 698.692 72.2652 701.123 Q75.367 703.53 75.367 707.651 Q75.367 710.521 73.7235 712.512 Q72.08 714.479 69.0476 715.243 Z\" fill=\"#000000\" fill-rule=\"evenodd\" fill-opacity=\"1\" /><path clip-path=\"url(#clip380)\" d=\"M 0 0 M66.5939 451.943 L54.7884 470.392 L66.5939 470.392 L66.5939 451.943 M65.367 447.869 L71.2466 447.869 L71.2466 470.392 L76.1772 470.392 L76.1772 474.281 L71.2466 474.281 L71.2466 482.429 L66.5939 482.429 L66.5939 474.281 L50.9921 474.281 L50.9921 469.767 L65.367 447.869 Z\" fill=\"#000000\" fill-rule=\"evenodd\" fill-opacity=\"1\" /><path clip-path=\"url(#clip380)\" d=\"M 0 0 M55.2745 196.42 L73.6309 196.42 L73.6309 200.356 L59.5569 200.356 L59.5569 208.828 Q60.5754 208.481 61.5939 208.319 Q62.6124 208.133 63.6309 208.133 Q69.418 208.133 72.7976 211.305 Q76.1772 214.476 76.1772 219.893 Q76.1772 225.471 72.705 228.573 Q69.2328 231.652 62.9134 231.652 Q60.7374 231.652 58.4689 231.281 Q56.2236 230.911 53.8162 230.17 L53.8162 225.471 Q55.8995 226.605 58.1217 227.161 Q60.3439 227.717 62.8208 227.717 Q66.8254 227.717 69.1633 225.61 Q71.5013 223.504 71.5013 219.893 Q71.5013 216.281 69.1633 214.175 Q66.8254 212.069 62.8208 212.069 Q60.9458 212.069 59.0708 212.485 Q57.2189 212.902 55.2745 213.781 L55.2745 196.42 Z\" fill=\"#000000\" fill-rule=\"evenodd\" fill-opacity=\"1\" /><polyline clip-path=\"url(#clip382)\" style=\"stroke:#009af9; stroke-width:4; stroke-opacity:1; fill:none\" points=\"\n",
       "  175.59,1343.96 196.941,1331.27 218.292,1318.59 239.643,1305.9 260.994,1293.21 282.345,1280.53 303.696,1267.84 325.047,1255.15 346.398,1242.47 367.749,1229.78 \n",
       "  389.1,1217.09 410.451,1204.41 431.802,1191.72 453.153,1179.03 474.504,1166.35 495.855,1153.66 517.207,1140.97 538.558,1128.29 559.909,1115.6 581.26,1102.91 \n",
       "  602.611,1090.23 623.962,1077.54 645.313,1064.85 666.664,1052.17 688.015,1039.48 709.366,1026.79 730.717,1014.11 752.068,1001.42 773.419,988.733 794.77,976.046 \n",
       "  816.121,963.36 837.472,950.673 858.823,937.986 880.174,925.299 901.525,912.613 922.876,899.926 944.227,887.239 965.578,874.553 986.93,861.866 1008.28,849.179 \n",
       "  1029.63,836.492 1050.98,823.806 1072.33,811.119 1093.68,798.432 1115.04,785.746 1136.39,773.059 1157.74,760.372 1179.09,747.685 1200.44,734.999 1221.79,722.312 \n",
       "  1243.14,709.625 1264.49,696.939 1285.84,684.252 1307.2,671.565 1328.55,658.878 1349.9,646.192 1371.25,633.505 1392.6,620.818 1413.95,608.132 1435.3,595.445 \n",
       "  1456.65,582.758 1478,570.071 1499.35,557.385 1520.71,544.698 1542.06,532.011 1563.41,519.325 1584.76,506.638 1606.11,493.951 1627.46,481.264 1648.81,468.578 \n",
       "  1670.16,455.891 1691.51,443.204 1712.87,430.518 1734.22,417.831 1755.57,405.144 1776.92,392.457 1798.27,379.771 1819.62,367.084 1840.97,354.397 1862.32,341.711 \n",
       "  1883.67,329.024 1905.02,316.337 1926.38,303.65 1947.73,290.964 1969.08,278.277 1990.43,265.59 2011.78,252.904 2033.13,240.217 2054.48,227.53 2075.83,214.843 \n",
       "  2097.18,202.157 2118.53,189.47 2139.89,176.783 2161.24,164.097 2182.59,151.41 2203.94,138.723 2225.29,126.036 2246.64,113.35 2267.99,100.663 2289.34,87.9763 \n",
       "  \n",
       "  \"/>\n",
       "<polyline clip-path=\"url(#clip382)\" style=\"stroke:#e26f46; stroke-width:4; stroke-opacity:1; fill:none\" points=\"\n",
       "  175.59,1404.96 196.941,1376 218.292,1350.81 239.643,1328.52 260.994,1308.5 282.345,1290.31 303.696,1273.59 325.047,1258.1 346.398,1243.62 367.749,1230 \n",
       "  389.1,1217.11 410.451,1204.83 431.802,1193.1 453.153,1181.84 474.504,1170.98 495.855,1160.49 517.207,1150.32 538.558,1140.43 559.909,1130.79 581.26,1121.38 \n",
       "  602.611,1112.17 623.962,1103.15 645.313,1094.3 666.664,1085.6 688.015,1077.03 709.366,1068.6 730.717,1060.28 752.068,1052.06 773.419,1043.95 794.77,1035.92 \n",
       "  816.121,1027.98 837.472,1020.12 858.823,1012.33 880.174,1004.61 901.525,996.95 922.876,989.349 944.227,981.802 965.578,974.307 986.93,966.859 1008.28,959.457 \n",
       "  1029.63,952.097 1050.98,944.776 1072.33,937.494 1093.68,930.247 1115.04,923.033 1136.39,915.851 1157.74,908.699 1179.09,901.575 1200.44,894.478 1221.79,887.407 \n",
       "  1243.14,880.36 1264.49,873.336 1285.84,866.334 1307.2,859.353 1328.55,852.391 1349.9,845.449 1371.25,838.525 1392.6,831.618 1413.95,824.728 1435.3,817.854 \n",
       "  1456.65,810.995 1478,804.15 1499.35,797.32 1520.71,790.502 1542.06,783.698 1563.41,776.906 1584.76,770.125 1606.11,763.356 1627.46,756.598 1648.81,749.85 \n",
       "  1670.16,743.113 1691.51,736.385 1712.87,729.666 1734.22,722.957 1755.57,716.256 1776.92,709.564 1798.27,702.88 1819.62,696.204 1840.97,689.535 1862.32,682.873 \n",
       "  1883.67,676.219 1905.02,669.571 1926.38,662.931 1947.73,656.296 1969.08,649.668 1990.43,643.045 2011.78,636.429 2033.13,629.818 2054.48,623.212 2075.83,616.612 \n",
       "  2097.18,610.017 2118.53,603.427 2139.89,596.842 2161.24,590.262 2182.59,583.686 2203.94,577.114 2225.29,570.547 2246.64,563.984 2267.99,557.425 2289.34,550.87 \n",
       "  \n",
       "  \"/>\n",
       "<polyline clip-path=\"url(#clip382)\" style=\"stroke:#3da44d; stroke-width:4; stroke-opacity:1; fill:none\" points=\"\n",
       "  175.59,1433.16 196.941,1386.54 218.292,1355.14 239.643,1330.32 260.994,1309.22 282.345,1290.57 303.696,1273.68 325.047,1258.12 346.398,1243.63 367.749,1230 \n",
       "  389.1,1217.11 410.451,1204.83 431.802,1193.11 453.153,1181.85 474.504,1171.02 495.855,1160.57 517.207,1150.45 538.558,1140.65 559.909,1131.13 581.26,1121.87 \n",
       "  602.611,1112.84 623.962,1104.04 645.313,1095.45 666.664,1087.05 688.015,1078.82 709.366,1070.77 730.717,1062.87 752.068,1055.12 773.419,1047.52 794.77,1040.05 \n",
       "  816.121,1032.7 837.472,1025.47 858.823,1018.36 880.174,1011.35 901.525,1004.45 922.876,997.651 944.227,990.943 965.578,984.325 986.93,977.793 1008.28,971.345 \n",
       "  1029.63,964.976 1050.98,958.683 1072.33,952.463 1093.68,946.314 1115.04,940.233 1136.39,934.217 1157.74,928.264 1179.09,922.372 1200.44,916.538 1221.79,910.761 \n",
       "  1243.14,905.039 1264.49,899.37 1285.84,893.751 1307.2,888.183 1328.55,882.662 1349.9,877.187 1371.25,871.757 1392.6,866.371 1413.95,861.028 1435.3,855.725 \n",
       "  1456.65,850.462 1478,845.237 1499.35,840.05 1520.71,834.9 1542.06,829.785 1563.41,824.704 1584.76,819.657 1606.11,814.642 1627.46,809.66 1648.81,804.707 \n",
       "  1670.16,799.786 1691.51,794.893 1712.87,790.029 1734.22,785.192 1755.57,780.383 1776.92,775.6 1798.27,770.843 1819.62,766.111 1840.97,761.403 1862.32,756.72 \n",
       "  1883.67,752.06 1905.02,747.422 1926.38,742.807 1947.73,738.214 1969.08,733.641 1990.43,729.09 2011.78,724.559 2033.13,720.048 2054.48,715.556 2075.83,711.083 \n",
       "  2097.18,706.629 2118.53,702.192 2139.89,697.774 2161.24,693.373 2182.59,688.989 2203.94,684.622 2225.29,680.271 2246.64,675.936 2267.99,671.616 2289.34,667.312 \n",
       "  \n",
       "  \"/>\n",
       "<polyline clip-path=\"url(#clip382)\" style=\"stroke:#c271d2; stroke-width:4; stroke-opacity:1; fill:none\" points=\"\n",
       "  175.59,1443.68 196.941,1387.2 218.292,1355.22 239.643,1330.33 260.994,1309.22 282.345,1290.57 303.696,1273.68 325.047,1258.12 346.398,1243.63 367.749,1230 \n",
       "  389.1,1217.11 410.451,1204.83 431.802,1193.11 453.153,1181.85 474.504,1171.02 495.855,1160.57 517.207,1150.45 538.558,1140.65 559.909,1131.13 581.26,1121.87 \n",
       "  602.611,1112.84 623.962,1104.04 645.313,1095.45 666.664,1087.05 688.015,1078.83 709.366,1070.77 730.717,1062.88 752.068,1055.14 773.419,1047.53 794.77,1040.06 \n",
       "  816.121,1032.72 837.472,1025.5 858.823,1018.4 880.174,1011.4 901.525,1004.51 922.876,997.724 944.227,991.03 965.578,984.428 986.93,977.915 1008.28,971.486 \n",
       "  1029.63,965.14 1050.98,958.871 1072.33,952.679 1093.68,946.56 1115.04,940.511 1136.39,934.531 1157.74,928.617 1179.09,922.766 1200.44,916.977 1221.79,911.248 \n",
       "  1243.14,905.577 1264.49,899.962 1285.84,894.403 1307.2,888.896 1328.55,883.44 1349.9,878.035 1371.25,872.679 1392.6,867.37 1413.95,862.108 1435.3,856.89 \n",
       "  1456.65,851.717 1478,846.586 1499.35,841.497 1520.71,836.449 1542.06,831.441 1563.41,826.472 1584.76,821.54 1606.11,816.646 1627.46,811.788 1648.81,806.966 \n",
       "  1670.16,802.178 1691.51,797.425 1712.87,792.704 1734.22,788.016 1755.57,783.36 1776.92,778.736 1798.27,774.142 1819.62,769.578 1840.97,765.043 1862.32,760.537 \n",
       "  1883.67,756.06 1905.02,751.61 1926.38,747.188 1947.73,742.793 1969.08,738.423 1990.43,734.08 2011.78,729.762 2033.13,725.469 2054.48,721.2 2075.83,716.955 \n",
       "  2097.18,712.735 2118.53,708.537 2139.89,704.362 2161.24,700.21 2182.59,696.079 2203.94,691.971 2225.29,687.884 2246.64,683.818 2267.99,679.773 2289.34,675.748 \n",
       "  \n",
       "  \"/>\n",
       "<polyline clip-path=\"url(#clip382)\" style=\"stroke:#ac8d18; stroke-width:4; stroke-opacity:1; fill:none\" points=\"\n",
       "  175.59,1445.72 196.941,1387.2 218.292,1355.22 239.643,1330.33 260.994,1309.22 282.345,1290.57 303.696,1273.68 325.047,1258.12 346.398,1243.63 367.749,1230 \n",
       "  389.1,1217.11 410.451,1204.83 431.802,1193.11 453.153,1181.85 474.504,1171.02 495.855,1160.57 517.207,1150.45 538.558,1140.65 559.909,1131.13 581.26,1121.87 \n",
       "  602.611,1112.84 623.962,1104.04 645.313,1095.45 666.664,1087.05 688.015,1078.83 709.366,1070.77 730.717,1062.88 752.068,1055.14 773.419,1047.53 794.77,1040.06 \n",
       "  816.121,1032.72 837.472,1025.5 858.823,1018.4 880.174,1011.4 901.525,1004.51 922.876,997.724 944.227,991.03 965.578,984.428 986.93,977.915 1008.28,971.486 \n",
       "  1029.63,965.14 1050.98,958.871 1072.33,952.679 1093.68,946.56 1115.04,940.511 1136.39,934.531 1157.74,928.617 1179.09,922.766 1200.44,916.977 1221.79,911.248 \n",
       "  1243.14,905.577 1264.49,899.963 1285.84,894.403 1307.2,888.896 1328.55,883.441 1349.9,878.036 1371.25,872.68 1392.6,867.371 1413.95,862.109 1435.3,856.891 \n",
       "  1456.65,851.718 1478,846.588 1499.35,841.499 1520.71,836.451 1542.06,831.443 1563.41,826.474 1584.76,821.543 1606.11,816.649 1627.46,811.792 1648.81,806.97 \n",
       "  1670.16,802.183 1691.51,797.429 1712.87,792.709 1734.22,788.022 1755.57,783.367 1776.92,778.743 1798.27,774.149 1819.62,769.586 1840.97,765.052 1862.32,760.548 \n",
       "  1883.67,756.071 1905.02,751.623 1926.38,747.201 1947.73,742.807 1969.08,738.439 1990.43,734.097 2011.78,729.78 2033.13,725.488 2054.48,721.221 2075.83,716.978 \n",
       "  2097.18,712.759 2118.53,708.563 2139.89,704.39 2161.24,700.24 2182.59,696.112 2203.94,692.006 2225.29,687.921 2246.64,683.857 2267.99,679.815 2289.34,675.793 \n",
       "  \n",
       "  \"/>\n",
       "<path clip-path=\"url(#clip380)\" d=\"\n",
       "M1931.08 458.098 L2278.07 458.098 L2278.07 95.2176 L1931.08 95.2176  Z\n",
       "  \" fill=\"#ffffff\" fill-rule=\"evenodd\" fill-opacity=\"1\"/>\n",
       "<polyline clip-path=\"url(#clip380)\" style=\"stroke:#000000; stroke-width:4; stroke-opacity:1; fill:none\" points=\"\n",
       "  1931.08,458.098 2278.07,458.098 2278.07,95.2176 1931.08,95.2176 1931.08,458.098 \n",
       "  \"/>\n",
       "<polyline clip-path=\"url(#clip380)\" style=\"stroke:#009af9; stroke-width:4; stroke-opacity:1; fill:none\" points=\"\n",
       "  1955.98,155.698 2105.35,155.698 \n",
       "  \"/>\n",
       "<path clip-path=\"url(#clip380)\" d=\"M 0 0 M2130.25 138.418 L2136.54 138.418 L2151.87 167.329 L2151.87 138.418 L2156.4 138.418 L2156.4 172.978 L2150.11 172.978 L2134.78 144.066 L2134.78 172.978 L2130.25 172.978 L2130.25 138.418 Z\" fill=\"#000000\" fill-rule=\"evenodd\" fill-opacity=\"1\" /><path clip-path=\"url(#clip380)\" d=\"M 0 0 M2166.08 151.45 L2195.76 151.45 L2195.76 155.339 L2166.08 155.339 L2166.08 151.45 M2166.08 160.894 L2195.76 160.894 L2195.76 164.829 L2166.08 164.829 L2166.08 160.894 Z\" fill=\"#000000\" fill-rule=\"evenodd\" fill-opacity=\"1\" /><path clip-path=\"url(#clip380)\" d=\"M 0 0 M2206.66 169.042 L2214.3 169.042 L2214.3 142.677 L2205.99 144.343 L2205.99 140.084 L2214.25 138.418 L2218.93 138.418 L2218.93 169.042 L2226.57 169.042 L2226.57 172.978 L2206.66 172.978 L2206.66 169.042 Z\" fill=\"#000000\" fill-rule=\"evenodd\" fill-opacity=\"1\" /><polyline clip-path=\"url(#clip380)\" style=\"stroke:#e26f46; stroke-width:4; stroke-opacity:1; fill:none\" points=\"\n",
       "  1955.98,216.178 2105.35,216.178 \n",
       "  \"/>\n",
       "<path clip-path=\"url(#clip380)\" d=\"M 0 0 M2130.25 198.898 L2136.54 198.898 L2151.87 227.809 L2151.87 198.898 L2156.4 198.898 L2156.4 233.458 L2150.11 233.458 L2134.78 204.546 L2134.78 233.458 L2130.25 233.458 L2130.25 198.898 Z\" fill=\"#000000\" fill-rule=\"evenodd\" fill-opacity=\"1\" /><path clip-path=\"url(#clip380)\" d=\"M 0 0 M2166.08 211.93 L2195.76 211.93 L2195.76 215.819 L2166.08 215.819 L2166.08 211.93 M2166.08 221.374 L2195.76 221.374 L2195.76 225.309 L2166.08 225.309 L2166.08 221.374 Z\" fill=\"#000000\" fill-rule=\"evenodd\" fill-opacity=\"1\" /><path clip-path=\"url(#clip380)\" d=\"M 0 0 M2209.88 229.522 L2226.2 229.522 L2226.2 233.458 L2204.25 233.458 L2204.25 229.522 Q2206.91 226.768 2211.5 222.138 Q2216.1 217.485 2217.28 216.143 Q2219.53 213.62 2220.41 211.884 Q2221.31 210.124 2221.31 208.435 Q2221.31 205.68 2219.37 203.944 Q2217.45 202.208 2214.34 202.208 Q2212.15 202.208 2209.69 202.972 Q2207.26 203.735 2204.48 205.286 L2204.48 200.564 Q2207.31 199.43 2209.76 198.851 Q2212.21 198.273 2214.25 198.273 Q2219.62 198.273 2222.82 200.958 Q2226.01 203.643 2226.01 208.134 Q2226.01 210.263 2225.2 212.185 Q2224.41 214.083 2222.31 216.675 Q2221.73 217.347 2218.63 220.564 Q2215.52 223.759 2209.88 229.522 Z\" fill=\"#000000\" fill-rule=\"evenodd\" fill-opacity=\"1\" /><polyline clip-path=\"url(#clip380)\" style=\"stroke:#3da44d; stroke-width:4; stroke-opacity:1; fill:none\" points=\"\n",
       "  1955.98,276.658 2105.35,276.658 \n",
       "  \"/>\n",
       "<path clip-path=\"url(#clip380)\" d=\"M 0 0 M2130.25 259.378 L2136.54 259.378 L2151.87 288.289 L2151.87 259.378 L2156.4 259.378 L2156.4 293.938 L2150.11 293.938 L2134.78 265.026 L2134.78 293.938 L2130.25 293.938 L2130.25 259.378 Z\" fill=\"#000000\" fill-rule=\"evenodd\" fill-opacity=\"1\" /><path clip-path=\"url(#clip380)\" d=\"M 0 0 M2166.08 272.41 L2195.76 272.41 L2195.76 276.299 L2166.08 276.299 L2166.08 272.41 M2166.08 281.854 L2195.76 281.854 L2195.76 285.789 L2166.08 285.789 L2166.08 281.854 Z\" fill=\"#000000\" fill-rule=\"evenodd\" fill-opacity=\"1\" /><path clip-path=\"url(#clip380)\" d=\"M 0 0 M2220.02 275.303 Q2223.37 276.021 2225.25 278.289 Q2227.15 280.558 2227.15 283.891 Q2227.15 289.007 2223.63 291.808 Q2220.11 294.609 2213.63 294.609 Q2211.45 294.609 2209.14 294.169 Q2206.84 293.752 2204.39 292.896 L2204.39 288.382 Q2206.33 289.516 2208.65 290.095 Q2210.96 290.674 2213.49 290.674 Q2217.89 290.674 2220.18 288.938 Q2222.49 287.201 2222.49 283.891 Q2222.49 280.836 2220.34 279.123 Q2218.21 277.387 2214.39 277.387 L2210.36 277.387 L2210.36 273.544 L2214.58 273.544 Q2218.02 273.544 2219.85 272.178 Q2221.68 270.79 2221.68 268.197 Q2221.68 265.535 2219.78 264.123 Q2217.91 262.688 2214.39 262.688 Q2212.47 262.688 2210.27 263.104 Q2208.07 263.521 2205.43 264.401 L2205.43 260.234 Q2208.09 259.493 2210.41 259.123 Q2212.75 258.753 2214.81 258.753 Q2220.13 258.753 2223.23 261.183 Q2226.33 263.59 2226.33 267.711 Q2226.33 270.581 2224.69 272.572 Q2223.05 274.54 2220.02 275.303 Z\" fill=\"#000000\" fill-rule=\"evenodd\" fill-opacity=\"1\" /><polyline clip-path=\"url(#clip380)\" style=\"stroke:#c271d2; stroke-width:4; stroke-opacity:1; fill:none\" points=\"\n",
       "  1955.98,337.138 2105.35,337.138 \n",
       "  \"/>\n",
       "<path clip-path=\"url(#clip380)\" d=\"M 0 0 M2130.25 319.858 L2136.54 319.858 L2151.87 348.769 L2151.87 319.858 L2156.4 319.858 L2156.4 354.418 L2150.11 354.418 L2134.78 325.506 L2134.78 354.418 L2130.25 354.418 L2130.25 319.858 Z\" fill=\"#000000\" fill-rule=\"evenodd\" fill-opacity=\"1\" /><path clip-path=\"url(#clip380)\" d=\"M 0 0 M2166.08 332.89 L2195.76 332.89 L2195.76 336.779 L2166.08 336.779 L2166.08 332.89 M2166.08 342.334 L2195.76 342.334 L2195.76 346.269 L2166.08 346.269 L2166.08 342.334 Z\" fill=\"#000000\" fill-rule=\"evenodd\" fill-opacity=\"1\" /><path clip-path=\"url(#clip380)\" d=\"M 0 0 M2218.7 323.932 L2206.89 342.381 L2218.7 342.381 L2218.7 323.932 M2217.47 319.858 L2223.35 319.858 L2223.35 342.381 L2228.28 342.381 L2228.28 346.269 L2223.35 346.269 L2223.35 354.418 L2218.7 354.418 L2218.7 346.269 L2203.09 346.269 L2203.09 341.756 L2217.47 319.858 Z\" fill=\"#000000\" fill-rule=\"evenodd\" fill-opacity=\"1\" /><polyline clip-path=\"url(#clip380)\" style=\"stroke:#ac8d18; stroke-width:4; stroke-opacity:1; fill:none\" points=\"\n",
       "  1955.98,397.618 2105.35,397.618 \n",
       "  \"/>\n",
       "<path clip-path=\"url(#clip380)\" d=\"M 0 0 M2130.25 380.338 L2136.54 380.338 L2151.87 409.249 L2151.87 380.338 L2156.4 380.338 L2156.4 414.898 L2150.11 414.898 L2134.78 385.986 L2134.78 414.898 L2130.25 414.898 L2130.25 380.338 Z\" fill=\"#000000\" fill-rule=\"evenodd\" fill-opacity=\"1\" /><path clip-path=\"url(#clip380)\" d=\"M 0 0 M2166.08 393.37 L2195.76 393.37 L2195.76 397.259 L2166.08 397.259 L2166.08 393.37 M2166.08 402.814 L2195.76 402.814 L2195.76 406.749 L2166.08 406.749 L2166.08 402.814 Z\" fill=\"#000000\" fill-rule=\"evenodd\" fill-opacity=\"1\" /><path clip-path=\"url(#clip380)\" d=\"M 0 0 M2205.9 380.338 L2224.25 380.338 L2224.25 384.273 L2210.18 384.273 L2210.18 392.745 Q2211.2 392.398 2212.21 392.236 Q2213.23 392.05 2214.25 392.05 Q2220.04 392.05 2223.42 395.222 Q2226.8 398.393 2226.8 403.81 Q2226.8 409.388 2223.33 412.49 Q2219.85 415.569 2213.53 415.569 Q2211.36 415.569 2209.09 415.198 Q2206.84 414.828 2204.44 414.087 L2204.44 409.388 Q2206.52 410.523 2208.74 411.078 Q2210.96 411.634 2213.44 411.634 Q2217.45 411.634 2219.78 409.527 Q2222.12 407.421 2222.12 403.81 Q2222.12 400.199 2219.78 398.092 Q2217.45 395.986 2213.44 395.986 Q2211.57 395.986 2209.69 396.402 Q2207.84 396.819 2205.9 397.699 L2205.9 380.338 Z\" fill=\"#000000\" fill-rule=\"evenodd\" fill-opacity=\"1\" /></svg>\n"
      ]
     },
     "execution_count": 16,
     "metadata": {},
     "output_type": "execute_result"
    }
   ],
   "source": [
    "using Plots\n",
    "\n",
    "plot(x, y[:, 1], label=\"N=1\")\n",
    "for i=2:5\n",
    "    plot!(x, y[:, i], label=\"N=$(i)\")\n",
    "end\n",
    "plot!()"
   ]
  },
  {
   "cell_type": "markdown",
   "id": "hawaiian-journalist",
   "metadata": {
    "slideshow": {
     "slide_type": "subslide"
    },
    "tags": []
   },
   "source": [
    "### ... and now the derivative almost by magic"
   ]
  },
  {
   "cell_type": "markdown",
   "id": "conservative-comparative",
   "metadata": {
    "slideshow": {
     "slide_type": "subslide"
    },
    "tags": []
   },
   "source": [
    "Define a dual type -- a methematical object that's a function-derivative pair"
   ]
  },
  {
   "cell_type": "code",
   "execution_count": 44,
   "id": "handled-documentary",
   "metadata": {
    "slideshow": {
     "slide_type": "fragment"
    },
    "tags": []
   },
   "outputs": [],
   "source": [
    "struct D <: Number\n",
    "    f::Tuple{Float64,Float64}\n",
    "end"
   ]
  },
  {
   "cell_type": "markdown",
   "id": "changed-panama",
   "metadata": {
    "slideshow": {
     "slide_type": "subslide"
    },
    "tags": []
   },
   "source": [
    "The first element follows the normal rules of arithmetic. But the second element implements:\n",
    "* Sum Rule: $(x+y)' = x' + y'$\n",
    "* Quotient Rule: $(\\frac{x}{y})' = \\frac{yx'-xy'}{y^2}$"
   ]
  },
  {
   "cell_type": "code",
   "execution_count": 45,
   "id": "accessory-lunch",
   "metadata": {
    "slideshow": {
     "slide_type": "fragment"
    },
    "tags": []
   },
   "outputs": [
    {
     "data": {
      "text/plain": [
       "promote_rule (generic function with 153 methods)"
      ]
     },
     "execution_count": 45,
     "metadata": {},
     "output_type": "execute_result"
    }
   ],
   "source": [
    "import Base: +, -, *, /, convert, promote_rule\n",
    "+(x::D, y::D) = D(x.f .+ y.f)\n",
    "-(x::D, y::D) = D(x.f .- y.f)\n",
    "*(x::D, y::D) = D((x.f[1]*y.f[1], (x.f[2]*y.f[1] + x.f[1]*y.f[2])))\n",
    "/(x::D, y::D) = D((x.f[1]/y.f[1], (y.f[1]*x.f[2] - x.f[1]*y.f[2])/y.f[1]^2))\n",
    "convert(::Type{D}, x::Real) = D((x,zero(x)))\n",
    "promote_rule(::Type{D}, ::Type{<:Number}) = D"
   ]
  },
  {
   "cell_type": "markdown",
   "id": "aquatic-projector",
   "metadata": {
    "slideshow": {
     "slide_type": "subslide"
    },
    "tags": []
   },
   "source": [
    "Let's compute the derivative of $\\sqrt{x}$ at $x=25$"
   ]
  },
  {
   "cell_type": "code",
   "execution_count": 48,
   "id": "worse-tribune",
   "metadata": {
    "slideshow": {
     "slide_type": "fragment"
    },
    "tags": []
   },
   "outputs": [
    {
     "data": {
      "text/plain": [
       "D((25.0, 1.0))"
      ]
     },
     "execution_count": 48,
     "metadata": {},
     "output_type": "execute_result"
    }
   ],
   "source": [
    "x = 25\n",
    "x̂ = D((x, 1))"
   ]
  },
  {
   "cell_type": "code",
   "execution_count": 49,
   "id": "finite-mandate",
   "metadata": {
    "slideshow": {
     "slide_type": "fragment"
    },
    "tags": []
   },
   "outputs": [
    {
     "data": {
      "text/plain": [
       "(5.0, 0.1)"
      ]
     },
     "execution_count": 49,
     "metadata": {},
     "output_type": "execute_result"
    }
   ],
   "source": [
    "(√x, .5/√x)"
   ]
  },
  {
   "cell_type": "code",
   "execution_count": 50,
   "id": "professional-manhattan",
   "metadata": {
    "slideshow": {
     "slide_type": "fragment"
    },
    "tags": []
   },
   "outputs": [
    {
     "data": {
      "text/plain": [
       "D((5.0, 0.1))"
      ]
     },
     "execution_count": 50,
     "metadata": {},
     "output_type": "execute_result"
    }
   ],
   "source": [
    "babylonian(x̂)"
   ]
  }
 ],
 "metadata": {
  "kernelspec": {
   "display_name": "Julia 1.6.0",
   "language": "julia",
   "name": "julia-1.6"
  },
  "language_info": {
   "file_extension": ".jl",
   "mimetype": "application/julia",
   "name": "julia",
   "version": "1.6.0"
  }
 },
 "nbformat": 4,
 "nbformat_minor": 5
}
