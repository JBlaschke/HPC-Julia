{
 "cells": [
  {
   "cell_type": "markdown",
   "id": "compatible-pressing",
   "metadata": {
    "slideshow": {
     "slide_type": "slide"
    },
    "tags": []
   },
   "source": [
    "# Array-Based Data Types\n",
    "([Back to Overview](../index.html#/0/3))"
   ]
  },
  {
   "cell_type": "markdown",
   "id": "every-times",
   "metadata": {
    "slideshow": {
     "slide_type": "slide"
    },
    "tags": []
   },
   "source": [
    "## Arrays, and Matrices"
   ]
  },
  {
   "cell_type": "markdown",
   "id": "northern-zealand",
   "metadata": {
    "slideshow": {
     "slide_type": "subslide"
    },
    "tags": []
   },
   "source": [
    "Physicists like lists and arrays of numbers:"
   ]
  },
  {
   "cell_type": "markdown",
   "id": "divided-brick",
   "metadata": {
    "slideshow": {
     "slide_type": "fragment"
    },
    "tags": []
   },
   "source": [
    "1-D list of numbers:"
   ]
  },
  {
   "cell_type": "code",
   "execution_count": 1,
   "id": "based-findings",
   "metadata": {
    "slideshow": {
     "slide_type": "fragment"
    },
    "tags": []
   },
   "outputs": [
    {
     "data": {
      "text/plain": [
       "3-element Vector{Float64}:\n",
       " 0.0\n",
       " 0.0\n",
       " 2.6769032496e-314"
      ]
     },
     "execution_count": 1,
     "metadata": {},
     "output_type": "execute_result"
    }
   ],
   "source": [
    "v = Vector{Float64}(undef, 3)"
   ]
  },
  {
   "cell_type": "code",
   "execution_count": 2,
   "id": "current-space",
   "metadata": {
    "slideshow": {
     "slide_type": "fragment"
    },
    "tags": []
   },
   "outputs": [
    {
     "data": {
      "text/plain": [
       "3-element Vector{Float64}:\n",
       " 0.0\n",
       " 0.0\n",
       " 0.0"
      ]
     },
     "execution_count": 2,
     "metadata": {},
     "output_type": "execute_result"
    }
   ],
   "source": [
    "fill!(v, 0)"
   ]
  },
  {
   "cell_type": "markdown",
   "id": "ongoing-given",
   "metadata": {
    "slideshow": {
     "slide_type": "subslide"
    },
    "tags": []
   },
   "source": [
    "Note the convention here: functions that mutate their arguments should end in a `!` (this is to warn the user, and \"only\" a convention ... the compiler won't complain, but the user of your library might)."
   ]
  },
  {
   "cell_type": "markdown",
   "id": "comparable-scottish",
   "metadata": {
    "slideshow": {
     "slide_type": "subslide"
    },
    "tags": []
   },
   "source": [
    "Arrays can be multi-dimensional:"
   ]
  },
  {
   "cell_type": "code",
   "execution_count": 3,
   "id": "covered-porcelain",
   "metadata": {
    "slideshow": {
     "slide_type": "fragment"
    },
    "tags": []
   },
   "outputs": [
    {
     "data": {
      "text/plain": [
       "2×2 Matrix{Float64}:\n",
       " 0.0           2.31605e-314\n",
       " 2.31609e-314  0.0"
      ]
     },
     "execution_count": 3,
     "metadata": {},
     "output_type": "execute_result"
    }
   ],
   "source": [
    "m = Matrix{Float64}(undef, 2, 2)"
   ]
  },
  {
   "cell_type": "code",
   "execution_count": 4,
   "id": "coordinated-mileage",
   "metadata": {
    "slideshow": {
     "slide_type": "fragment"
    },
    "tags": []
   },
   "outputs": [
    {
     "data": {
      "text/plain": [
       "2×2 Matrix{Float64}:\n",
       " 1.0  1.0\n",
       " 1.0  1.0"
      ]
     },
     "execution_count": 4,
     "metadata": {},
     "output_type": "execute_result"
    }
   ],
   "source": [
    "fill!(m, 1)"
   ]
  },
  {
   "cell_type": "markdown",
   "id": "checked-tourist",
   "metadata": {
    "slideshow": {
     "slide_type": "subslide"
    },
    "tags": []
   },
   "source": [
    "The `Matrix` type is a 2D \"array\", but we can specify any number of dimensions -- 3D for example:"
   ]
  },
  {
   "cell_type": "code",
   "execution_count": 5,
   "id": "timely-retro",
   "metadata": {
    "slideshow": {
     "slide_type": "fragment"
    },
    "tags": []
   },
   "outputs": [
    {
     "data": {
      "text/plain": [
       "2×5×2 Array{Float64, 3}:\n",
       "[:, :, 1] =\n",
       " 2.317e-314  2.317e-314  2.23241e-314  2.23241e-314  2.23241e-314\n",
       " 2.317e-314  2.317e-314  2.317e-314    2.317e-314    2.317e-314\n",
       "\n",
       "[:, :, 2] =\n",
       " 2.23241e-314  2.23241e-314  2.23241e-314  2.23241e-314  2.23241e-314\n",
       " 2.317e-314    2.317e-314    2.317e-314    2.23241e-314  2.23241e-314"
      ]
     },
     "execution_count": 5,
     "metadata": {},
     "output_type": "execute_result"
    }
   ],
   "source": [
    "a = Array{Float64, 3}(undef, 2, 5, 2)"
   ]
  },
  {
   "cell_type": "code",
   "execution_count": 6,
   "id": "divided-disaster",
   "metadata": {
    "slideshow": {
     "slide_type": "skip"
    },
    "tags": []
   },
   "outputs": [
    {
     "data": {
      "text/plain": [
       "2×5×2 Array{Float64, 3}:\n",
       "[:, :, 1] =\n",
       " -1.0  -1.0  -1.0  -1.0  -1.0\n",
       " -1.0  -1.0  -1.0  -1.0  -1.0\n",
       "\n",
       "[:, :, 2] =\n",
       " -1.0  -1.0  -1.0  -1.0  -1.0\n",
       " -1.0  -1.0  -1.0  -1.0  -1.0"
      ]
     },
     "execution_count": 6,
     "metadata": {},
     "output_type": "execute_result"
    }
   ],
   "source": [
    "fill!(a, -1)"
   ]
  },
  {
   "cell_type": "markdown",
   "id": "northern-pearl",
   "metadata": {
    "slideshow": {
     "slide_type": "subslide"
    },
    "tags": []
   },
   "source": [
    "One-liner to get a matrix of zeros (use `ones` for ones)"
   ]
  },
  {
   "cell_type": "code",
   "execution_count": 7,
   "id": "unique-interim",
   "metadata": {
    "slideshow": {
     "slide_type": "fragment"
    },
    "tags": []
   },
   "outputs": [
    {
     "data": {
      "text/plain": [
       "2×3 Matrix{Float64}:\n",
       " 0.0  0.0  0.0\n",
       " 0.0  0.0  0.0"
      ]
     },
     "execution_count": 7,
     "metadata": {},
     "output_type": "execute_result"
    }
   ],
   "source": [
    "zeros((2,3))"
   ]
  },
  {
   "cell_type": "markdown",
   "id": "featured-atlas",
   "metadata": {
    "slideshow": {
     "slide_type": "slide"
    },
    "tags": []
   },
   "source": [
    "## Indices start at 1 (And why shouldn't they?!)"
   ]
  },
  {
   "cell_type": "code",
   "execution_count": 8,
   "id": "numerical-secretary",
   "metadata": {
    "slideshow": {
     "slide_type": "subslide"
    },
    "tags": []
   },
   "outputs": [
    {
     "data": {
      "text/plain": [
       "3-element Vector{Int64}:\n",
       " 1\n",
       " 2\n",
       " 3"
      ]
     },
     "execution_count": 8,
     "metadata": {},
     "output_type": "execute_result"
    }
   ],
   "source": [
    "v = [1, 2, 3]"
   ]
  },
  {
   "cell_type": "code",
   "execution_count": 9,
   "id": "independent-lodging",
   "metadata": {
    "slideshow": {
     "slide_type": "fragment"
    },
    "tags": []
   },
   "outputs": [
    {
     "data": {
      "text/plain": [
       "1"
      ]
     },
     "execution_count": 9,
     "metadata": {},
     "output_type": "execute_result"
    }
   ],
   "source": [
    "v[1]"
   ]
  },
  {
   "cell_type": "markdown",
   "id": "modified-causing",
   "metadata": {},
   "source": [
    "So doing things c-style will get you an error:"
   ]
  },
  {
   "cell_type": "code",
   "execution_count": 10,
   "id": "upper-portrait",
   "metadata": {
    "slideshow": {
     "slide_type": "subslide"
    },
    "tags": []
   },
   "outputs": [
    {
     "ename": "LoadError",
     "evalue": "BoundsError: attempt to access 3-element Vector{Int64} at index [0]",
     "output_type": "error",
     "traceback": [
      "BoundsError: attempt to access 3-element Vector{Int64} at index [0]",
      "",
      "Stacktrace:",
      " [1] getindex(A::Vector{Int64}, i1::Int64)",
      "   @ Base ./array.jl:861",
      " [2] top-level scope",
      "   @ In[10]:1",
      " [3] eval",
      "   @ ./boot.jl:373 [inlined]",
      " [4] include_string(mapexpr::typeof(REPL.softscope), mod::Module, code::String, filename::String)",
      "   @ Base ./loading.jl:1196"
     ]
    }
   ],
   "source": [
    "v[0]"
   ]
  },
  {
   "cell_type": "markdown",
   "id": "sorted-matrix",
   "metadata": {
    "slideshow": {
     "slide_type": "subslide"
    },
    "tags": []
   },
   "source": [
    "The `end` shortcut gives you the _last_ index in an array type"
   ]
  },
  {
   "cell_type": "code",
   "execution_count": 11,
   "id": "further-tamil",
   "metadata": {
    "slideshow": {
     "slide_type": "fragment"
    },
    "tags": []
   },
   "outputs": [
    {
     "data": {
      "text/plain": [
       "3"
      ]
     },
     "execution_count": 11,
     "metadata": {},
     "output_type": "execute_result"
    }
   ],
   "source": [
    "v[end]"
   ]
  },
  {
   "cell_type": "markdown",
   "id": "hybrid-vault",
   "metadata": {
    "slideshow": {
     "slide_type": "slide"
    },
    "tags": []
   },
   "source": [
    "## Working with ND Arrays"
   ]
  },
  {
   "cell_type": "markdown",
   "id": "inclusive-patch",
   "metadata": {
    "slideshow": {
     "slide_type": "subslide"
    },
    "tags": []
   },
   "source": [
    "The `size` method returns an order tuple of each directions size"
   ]
  },
  {
   "cell_type": "code",
   "execution_count": 12,
   "id": "basic-nebraska",
   "metadata": {
    "slideshow": {
     "slide_type": "fragment"
    },
    "tags": []
   },
   "outputs": [
    {
     "data": {
      "text/plain": [
       "(2, 5, 2)"
      ]
     },
     "execution_count": 12,
     "metadata": {},
     "output_type": "execute_result"
    }
   ],
   "source": [
    "size(a)"
   ]
  },
  {
   "cell_type": "markdown",
   "id": "twenty-hybrid",
   "metadata": {
    "slideshow": {
     "slide_type": "subslide"
    },
    "tags": []
   },
   "source": [
    "Loops in brackets `[ ... ]` get stored as ND arrays"
   ]
  },
  {
   "cell_type": "code",
   "execution_count": 13,
   "id": "essential-camcorder",
   "metadata": {
    "slideshow": {
     "slide_type": "fragment"
    },
    "tags": []
   },
   "outputs": [
    {
     "data": {
      "text/plain": [
       "3×5 Matrix{Tuple{Int64, Int64}}:\n",
       " (1, 10)  (1, 11)  (1, 12)  (1, 13)  (1, 14)\n",
       " (2, 10)  (2, 11)  (2, 12)  (2, 13)  (2, 14)\n",
       " (3, 10)  (3, 11)  (3, 12)  (3, 13)  (3, 14)"
      ]
     },
     "execution_count": 13,
     "metadata": {},
     "output_type": "execute_result"
    }
   ],
   "source": [
    "m = [(i, j) for i=1:3, j=10:14]"
   ]
  },
  {
   "cell_type": "markdown",
   "id": "increasing-bachelor",
   "metadata": {
    "slideshow": {
     "slide_type": "subslide"
    },
    "tags": []
   },
   "source": [
    "**A word of caution:** arrays are stored in column-major format in memory. That means that the first indices are contigous blocks in memory (just like Fortran, and _unlike_ C/Python). If you itterate over an array in Julia, make sure that the _inner_ loop itterates over the _first_ index. This is something to keep in mind when itterating over several variables in a loop."
   ]
  },
  {
   "cell_type": "code",
   "execution_count": 14,
   "id": "smaller-norman",
   "metadata": {
    "slideshow": {
     "slide_type": "fragment"
    },
    "tags": []
   },
   "outputs": [
    {
     "name": "stdout",
     "output_type": "stream",
     "text": [
      "CartesianIndex(1, 1)\n",
      "CartesianIndex(2, 1)\n",
      "CartesianIndex(3, 1)\n",
      "CartesianIndex(1, 2)\n",
      "CartesianIndex(2, 2)\n",
      "CartesianIndex(3, 2)\n",
      "CartesianIndex(1, 3)\n",
      "CartesianIndex(2, 3)\n",
      "CartesianIndex(3, 3)\n",
      "CartesianIndex(1, 4)\n",
      "CartesianIndex(2, 4)\n",
      "CartesianIndex(3, 4)\n",
      "CartesianIndex(1, 5)\n",
      "CartesianIndex(2, 5)\n",
      "CartesianIndex(3, 5)\n"
     ]
    }
   ],
   "source": [
    "for i in CartesianIndices(m)\n",
    "    println(i)\n",
    "end"
   ]
  },
  {
   "cell_type": "markdown",
   "id": "considered-blind",
   "metadata": {
    "slideshow": {
     "slide_type": "subslide"
    },
    "tags": []
   },
   "source": [
    "We can interrogate the memory layout of a multi-dimensional array by using the `vec` method (a.k.a `[:]`) to slice it in 1-D:"
   ]
  },
  {
   "cell_type": "code",
   "execution_count": 15,
   "id": "public-pasta",
   "metadata": {
    "slideshow": {
     "slide_type": "fragment"
    },
    "tags": []
   },
   "outputs": [
    {
     "data": {
      "text/plain": [
       "15-element Vector{Tuple{Int64, Int64}}:\n",
       " (1, 10)\n",
       " (2, 10)\n",
       " (3, 10)\n",
       " (1, 11)\n",
       " (2, 11)\n",
       " (3, 11)\n",
       " (1, 12)\n",
       " (2, 12)\n",
       " (3, 12)\n",
       " (1, 13)\n",
       " (2, 13)\n",
       " (3, 13)\n",
       " (1, 14)\n",
       " (2, 14)\n",
       " (3, 14)"
      ]
     },
     "execution_count": 15,
     "metadata": {},
     "output_type": "execute_result"
    }
   ],
   "source": [
    "m[:]"
   ]
  },
  {
   "cell_type": "markdown",
   "id": "adolescent-bunny",
   "metadata": {
    "slideshow": {
     "slide_type": "subslide"
    },
    "tags": []
   },
   "source": [
    "Notice that the \"double for loop\" notation uses the _second_ index as the \"inner\" index -- this would be inefficinet memory access!"
   ]
  },
  {
   "cell_type": "code",
   "execution_count": 16,
   "id": "limiting-mortality",
   "metadata": {
    "slideshow": {
     "slide_type": "fragment"
    },
    "tags": []
   },
   "outputs": [
    {
     "name": "stdout",
     "output_type": "stream",
     "text": [
      "(1, 10)\n",
      "(1, 11)\n",
      "(1, 12)\n",
      "(1, 13)\n",
      "(1, 14)\n",
      "(2, 10)\n",
      "(2, 11)\n",
      "(2, 12)\n",
      "(2, 13)\n",
      "(2, 14)\n",
      "(3, 10)\n",
      "(3, 11)\n",
      "(3, 12)\n",
      "(3, 13)\n",
      "(3, 14)\n"
     ]
    }
   ],
   "source": [
    "for i=1:3, j=10:14\n",
    "    println((i, j))\n",
    "end"
   ]
  },
  {
   "cell_type": "markdown",
   "id": "3dc397cf-9557-4cc6-ba1b-3d1e46e08ef3",
   "metadata": {
    "slideshow": {
     "slide_type": "subslide"
    },
    "tags": []
   },
   "source": [
    "We can demonstrate the effect of this on performance by iterating over rows or columns in the inner loop"
   ]
  },
  {
   "cell_type": "code",
   "execution_count": 31,
   "id": "deadly-seven",
   "metadata": {
    "slideshow": {
     "slide_type": "skip"
    },
    "tags": []
   },
   "outputs": [],
   "source": [
    "using BenchmarkTools"
   ]
  },
  {
   "cell_type": "code",
   "execution_count": 60,
   "id": "5cebb254-6376-46c7-973d-1aeb2523c7e2",
   "metadata": {
    "slideshow": {
     "slide_type": "skip"
    },
    "tags": []
   },
   "outputs": [],
   "source": [
    "m = [i*j for i=1:1000, j=1:1000];"
   ]
  },
  {
   "cell_type": "code",
   "execution_count": 66,
   "id": "48c09242-cd58-46ca-9855-ead01a6d6a3f",
   "metadata": {
    "slideshow": {
     "slide_type": "subslide"
    },
    "tags": []
   },
   "outputs": [
    {
     "data": {
      "text/plain": [
       "iterate_rows (generic function with 1 method)"
      ]
     },
     "execution_count": 66,
     "metadata": {},
     "output_type": "execute_result"
    }
   ],
   "source": [
    "function iterate_rows(m)\n",
    "    x, y = size(m)\n",
    "    z = zeros(x, y)\n",
    "    for i=1:x\n",
    "        for j=1:y\n",
    "            z[i, j] = m[i, j]\n",
    "        end\n",
    "    end\n",
    "    z\n",
    "end"
   ]
  },
  {
   "cell_type": "code",
   "execution_count": 67,
   "id": "bc03dc7d-a611-4ea4-8d16-c6ec48605780",
   "metadata": {
    "slideshow": {
     "slide_type": "fragment"
    },
    "tags": []
   },
   "outputs": [
    {
     "data": {
      "text/plain": [
       "BenchmarkTools.Trial: 601 samples with 1 evaluation.\n",
       " Range \u001b[90m(\u001b[39m\u001b[36m\u001b[1mmin\u001b[22m\u001b[39m … \u001b[35mmax\u001b[39m\u001b[90m):  \u001b[39m\u001b[36m\u001b[1m6.875 ms\u001b[22m\u001b[39m … \u001b[35m15.983 ms\u001b[39m  \u001b[90m┊\u001b[39m GC \u001b[90m(\u001b[39mmin … max\u001b[90m): \u001b[39m0.00% … 31.34%\n",
       " Time  \u001b[90m(\u001b[39m\u001b[34m\u001b[1mmedian\u001b[22m\u001b[39m\u001b[90m):     \u001b[39m\u001b[34m\u001b[1m7.569 ms              \u001b[22m\u001b[39m\u001b[90m┊\u001b[39m GC \u001b[90m(\u001b[39mmedian\u001b[90m):    \u001b[39m0.00%\n",
       " Time  \u001b[90m(\u001b[39m\u001b[32m\u001b[1mmean\u001b[22m\u001b[39m ± \u001b[32mσ\u001b[39m\u001b[90m):   \u001b[39m\u001b[32m\u001b[1m8.305 ms\u001b[22m\u001b[39m ± \u001b[32m 1.598 ms\u001b[39m  \u001b[90m┊\u001b[39m GC \u001b[90m(\u001b[39mmean ± σ\u001b[90m):  \u001b[39m7.21% ± 11.83%\n",
       "\n",
       "  \u001b[39m \u001b[39m \u001b[39m▇\u001b[39m█\u001b[39m█\u001b[39m▄\u001b[39m▃\u001b[34m▂\u001b[39m\u001b[39m \u001b[39m \u001b[39m \u001b[39m \u001b[39m \u001b[39m \u001b[32m \u001b[39m\u001b[39m \u001b[39m \u001b[39m \u001b[39m \u001b[39m \u001b[39m \u001b[39m \u001b[39m \u001b[39m \u001b[39m \u001b[39m \u001b[39m \u001b[39m \u001b[39m \u001b[39m \u001b[39m \u001b[39m \u001b[39m \u001b[39m \u001b[39m \u001b[39m \u001b[39m \u001b[39m \u001b[39m \u001b[39m \u001b[39m \u001b[39m \u001b[39m \u001b[39m \u001b[39m \u001b[39m \u001b[39m \u001b[39m \u001b[39m \u001b[39m \u001b[39m \u001b[39m \u001b[39m \u001b[39m \u001b[39m \u001b[39m \u001b[39m \u001b[39m \u001b[39m \u001b[39m \n",
       "  \u001b[39m▃\u001b[39m▆\u001b[39m█\u001b[39m█\u001b[39m█\u001b[39m█\u001b[39m█\u001b[34m█\u001b[39m\u001b[39m▇\u001b[39m▅\u001b[39m▅\u001b[39m▄\u001b[39m▃\u001b[39m▃\u001b[32m▃\u001b[39m\u001b[39m▃\u001b[39m▃\u001b[39m▃\u001b[39m▃\u001b[39m▂\u001b[39m▃\u001b[39m▃\u001b[39m▂\u001b[39m▂\u001b[39m▃\u001b[39m▂\u001b[39m▂\u001b[39m▃\u001b[39m▃\u001b[39m▃\u001b[39m▃\u001b[39m▄\u001b[39m▃\u001b[39m▃\u001b[39m▂\u001b[39m▃\u001b[39m▃\u001b[39m▃\u001b[39m▃\u001b[39m▃\u001b[39m▃\u001b[39m▃\u001b[39m▃\u001b[39m▂\u001b[39m▃\u001b[39m▃\u001b[39m▂\u001b[39m▃\u001b[39m▃\u001b[39m▁\u001b[39m▂\u001b[39m▂\u001b[39m▂\u001b[39m▂\u001b[39m▂\u001b[39m▃\u001b[39m▃\u001b[39m▂\u001b[39m \u001b[39m▃\n",
       "  6.88 ms\u001b[90m        Histogram: frequency by time\u001b[39m        12.9 ms \u001b[0m\u001b[1m<\u001b[22m\n",
       "\n",
       " Memory estimate\u001b[90m: \u001b[39m\u001b[33m7.63 MiB\u001b[39m, allocs estimate\u001b[90m: \u001b[39m\u001b[33m2\u001b[39m."
      ]
     },
     "execution_count": 67,
     "metadata": {},
     "output_type": "execute_result"
    }
   ],
   "source": [
    "@benchmark iterate_rows(m)"
   ]
  },
  {
   "cell_type": "code",
   "execution_count": 68,
   "id": "98450b4c-6a85-4ca5-bf07-654d2482191c",
   "metadata": {
    "slideshow": {
     "slide_type": "subslide"
    },
    "tags": []
   },
   "outputs": [
    {
     "data": {
      "text/plain": [
       "iterate_cols (generic function with 1 method)"
      ]
     },
     "execution_count": 68,
     "metadata": {},
     "output_type": "execute_result"
    }
   ],
   "source": [
    "function iterate_cols(m)\n",
    "    x, y = size(m)\n",
    "    z = zeros(x, y)\n",
    "    for j=1:y\n",
    "        for i=1:x\n",
    "            z[i, j] = m[i, j]\n",
    "        end\n",
    "    end\n",
    "    z\n",
    "end"
   ]
  },
  {
   "cell_type": "code",
   "execution_count": 69,
   "id": "ce69d486-3621-474f-9773-5b1cfbf89234",
   "metadata": {
    "slideshow": {
     "slide_type": "fragment"
    },
    "tags": []
   },
   "outputs": [
    {
     "data": {
      "text/plain": [
       "BenchmarkTools.Trial: 1838 samples with 1 evaluation.\n",
       " Range \u001b[90m(\u001b[39m\u001b[36m\u001b[1mmin\u001b[22m\u001b[39m … \u001b[35mmax\u001b[39m\u001b[90m):  \u001b[39m\u001b[36m\u001b[1m1.426 ms\u001b[22m\u001b[39m … \u001b[35m9.704 ms\u001b[39m  \u001b[90m┊\u001b[39m GC \u001b[90m(\u001b[39mmin … max\u001b[90m): \u001b[39m 0.00% … 61.99%\n",
       " Time  \u001b[90m(\u001b[39m\u001b[34m\u001b[1mmedian\u001b[22m\u001b[39m\u001b[90m):     \u001b[39m\u001b[34m\u001b[1m2.030 ms             \u001b[22m\u001b[39m\u001b[90m┊\u001b[39m GC \u001b[90m(\u001b[39mmedian\u001b[90m):    \u001b[39m 0.00%\n",
       " Time  \u001b[90m(\u001b[39m\u001b[32m\u001b[1mmean\u001b[22m\u001b[39m ± \u001b[32mσ\u001b[39m\u001b[90m):   \u001b[39m\u001b[32m\u001b[1m2.712 ms\u001b[22m\u001b[39m ± \u001b[32m1.622 ms\u001b[39m  \u001b[90m┊\u001b[39m GC \u001b[90m(\u001b[39mmean ± σ\u001b[90m):  \u001b[39m24.87% ± 24.52%\n",
       "\n",
       "  \u001b[39m \u001b[39m▅\u001b[39m█\u001b[39m▄\u001b[39m▃\u001b[39m▁\u001b[34m \u001b[39m\u001b[39m \u001b[39m \u001b[39m \u001b[39m \u001b[39m \u001b[32m \u001b[39m\u001b[39m \u001b[39m \u001b[39m \u001b[39m \u001b[39m \u001b[39m \u001b[39m \u001b[39m \u001b[39m \u001b[39m \u001b[39m \u001b[39m \u001b[39m \u001b[39m \u001b[39m \u001b[39m \u001b[39m \u001b[39m \u001b[39m \u001b[39m \u001b[39m \u001b[39m \u001b[39m \u001b[39m \u001b[39m \u001b[39m \u001b[39m \u001b[39m \u001b[39m \u001b[39m \u001b[39m \u001b[39m \u001b[39m \u001b[39m \u001b[39m \u001b[39m \u001b[39m \u001b[39m \u001b[39m \u001b[39m \u001b[39m \u001b[39m \u001b[39m \u001b[39m \u001b[39m \u001b[39m \n",
       "  \u001b[39m▂\u001b[39m█\u001b[39m█\u001b[39m█\u001b[39m█\u001b[39m█\u001b[34m█\u001b[39m\u001b[39m█\u001b[39m▆\u001b[39m▅\u001b[39m▄\u001b[39m▄\u001b[32m▄\u001b[39m\u001b[39m▄\u001b[39m▄\u001b[39m▃\u001b[39m▃\u001b[39m▂\u001b[39m▂\u001b[39m▂\u001b[39m▂\u001b[39m▁\u001b[39m▂\u001b[39m▁\u001b[39m▁\u001b[39m▁\u001b[39m▁\u001b[39m▁\u001b[39m▁\u001b[39m▁\u001b[39m▁\u001b[39m▁\u001b[39m▁\u001b[39m▁\u001b[39m▁\u001b[39m▁\u001b[39m▃\u001b[39m▃\u001b[39m▄\u001b[39m▄\u001b[39m▃\u001b[39m▃\u001b[39m▃\u001b[39m▂\u001b[39m▂\u001b[39m▃\u001b[39m▂\u001b[39m▂\u001b[39m▂\u001b[39m▂\u001b[39m▃\u001b[39m▃\u001b[39m▃\u001b[39m▃\u001b[39m▂\u001b[39m▂\u001b[39m▂\u001b[39m \u001b[39m▃\n",
       "  1.43 ms\u001b[90m        Histogram: frequency by time\u001b[39m       7.36 ms \u001b[0m\u001b[1m<\u001b[22m\n",
       "\n",
       " Memory estimate\u001b[90m: \u001b[39m\u001b[33m7.63 MiB\u001b[39m, allocs estimate\u001b[90m: \u001b[39m\u001b[33m2\u001b[39m."
      ]
     },
     "execution_count": 69,
     "metadata": {},
     "output_type": "execute_result"
    }
   ],
   "source": [
    "@benchmark iterate_cols(m)"
   ]
  },
  {
   "cell_type": "markdown",
   "id": "periodic-version",
   "metadata": {
    "slideshow": {
     "slide_type": "subslide"
    },
    "tags": []
   },
   "source": [
    "### Broadcast Operations"
   ]
  },
  {
   "cell_type": "markdown",
   "id": "united-journal",
   "metadata": {
    "slideshow": {
     "slide_type": "subslide"
    },
    "tags": []
   },
   "source": [
    "Literal arrays are declared as follows"
   ]
  },
  {
   "cell_type": "code",
   "execution_count": 17,
   "id": "thirty-ambassador",
   "metadata": {
    "slideshow": {
     "slide_type": "fragment"
    },
    "tags": []
   },
   "outputs": [
    {
     "data": {
      "text/plain": [
       "2×2 Matrix{Int64}:\n",
       " 1  0\n",
       " 1  0"
      ]
     },
     "execution_count": 17,
     "metadata": {},
     "output_type": "execute_result"
    }
   ],
   "source": [
    "m_0 = [1 0; 1 0]"
   ]
  },
  {
   "cell_type": "markdown",
   "id": "received-stuart",
   "metadata": {
    "slideshow": {
     "slide_type": "fragment"
    },
    "tags": []
   },
   "source": [
    "Alternatively:"
   ]
  },
  {
   "cell_type": "code",
   "execution_count": 18,
   "id": "caring-barrier",
   "metadata": {
    "slideshow": {
     "slide_type": "fragment"
    },
    "tags": []
   },
   "outputs": [
    {
     "data": {
      "text/plain": [
       "2×2 Matrix{Int64}:\n",
       " 1  0\n",
       " 1  0"
      ]
     },
     "execution_count": 18,
     "metadata": {},
     "output_type": "execute_result"
    }
   ],
   "source": [
    "m_1 = [ [1 0]\n",
    "        [1 0] ]"
   ]
  },
  {
   "cell_type": "code",
   "execution_count": 19,
   "id": "caroline-flower",
   "metadata": {
    "slideshow": {
     "slide_type": "fragment"
    },
    "tags": []
   },
   "outputs": [
    {
     "data": {
      "text/plain": [
       "2×2 Matrix{Int64}:\n",
       " 0  1\n",
       " 0  0"
      ]
     },
     "execution_count": 19,
     "metadata": {},
     "output_type": "execute_result"
    }
   ],
   "source": [
    "m_2 = [ [0 1]\n",
    "        [0 0] ]"
   ]
  },
  {
   "cell_type": "markdown",
   "id": "charitable-delicious",
   "metadata": {
    "slideshow": {
     "slide_type": "subslide"
    },
    "tags": []
   },
   "source": [
    "We can perform basic arithmetic operations on array data as expected:"
   ]
  },
  {
   "cell_type": "code",
   "execution_count": 20,
   "id": "sudden-alias",
   "metadata": {
    "slideshow": {
     "slide_type": "fragment"
    },
    "tags": []
   },
   "outputs": [
    {
     "data": {
      "text/plain": [
       "2×2 Matrix{Int64}:\n",
       " 2  1\n",
       " 2  0"
      ]
     },
     "execution_count": 20,
     "metadata": {},
     "output_type": "execute_result"
    }
   ],
   "source": [
    "m_3 = 2 * m_1 + m_2"
   ]
  },
  {
   "cell_type": "markdown",
   "id": "organizational-compression",
   "metadata": {
    "slideshow": {
     "slide_type": "subslide"
    },
    "tags": []
   },
   "source": [
    "**Important** there is a difference in the maxtrix multiplication operator (i.e. the `*(A,B)` method defined for `Array`) and the element-wise multiplication opertation (i.e. `*(A[i], B[i])` for all `i`). The `.` syntax is short of \"broadcasting\" the multiplication operation over the entire array."
   ]
  },
  {
   "cell_type": "code",
   "execution_count": 21,
   "id": "adverse-serial",
   "metadata": {
    "slideshow": {
     "slide_type": "fragment"
    },
    "tags": []
   },
   "outputs": [
    {
     "data": {
      "text/plain": [
       "2×2 Matrix{Int64}:\n",
       " 0  1\n",
       " 0  1"
      ]
     },
     "execution_count": 21,
     "metadata": {},
     "output_type": "execute_result"
    }
   ],
   "source": [
    "m_1 * m_2"
   ]
  },
  {
   "cell_type": "code",
   "execution_count": 22,
   "id": "native-queensland",
   "metadata": {
    "slideshow": {
     "slide_type": "fragment"
    },
    "tags": []
   },
   "outputs": [
    {
     "data": {
      "text/plain": [
       "2×2 Matrix{Int64}:\n",
       " 0  0\n",
       " 0  0"
      ]
     },
     "execution_count": 22,
     "metadata": {},
     "output_type": "execute_result"
    }
   ],
   "source": [
    "m_1 .* m_2"
   ]
  },
  {
   "cell_type": "markdown",
   "id": "individual-program",
   "metadata": {
    "slideshow": {
     "slide_type": "subslide"
    },
    "tags": []
   },
   "source": [
    " => The \"dot\" operator performs a broadcast. But we can also be more specific:"
   ]
  },
  {
   "cell_type": "code",
   "execution_count": 23,
   "id": "surface-accident",
   "metadata": {
    "slideshow": {
     "slide_type": "fragment"
    },
    "tags": []
   },
   "outputs": [
    {
     "data": {
      "text/plain": [
       "f (generic function with 1 method)"
      ]
     },
     "execution_count": 23,
     "metadata": {},
     "output_type": "execute_result"
    }
   ],
   "source": [
    "f(x::Number) = x^2 + 1"
   ]
  },
  {
   "cell_type": "code",
   "execution_count": 24,
   "id": "ordinary-kruger",
   "metadata": {
    "slideshow": {
     "slide_type": "fragment"
    },
    "tags": []
   },
   "outputs": [
    {
     "data": {
      "text/plain": [
       "2×2 Matrix{Int64}:\n",
       " 5  2\n",
       " 5  1"
      ]
     },
     "execution_count": 24,
     "metadata": {},
     "output_type": "execute_result"
    }
   ],
   "source": [
    "broadcast(f, m_3)"
   ]
  },
  {
   "cell_type": "code",
   "execution_count": 25,
   "id": "satisfied-hebrew",
   "metadata": {
    "slideshow": {
     "slide_type": "fragment"
    },
    "tags": []
   },
   "outputs": [
    {
     "data": {
      "text/plain": [
       "2×2 Matrix{Int64}:\n",
       " 5  2\n",
       " 5  1"
      ]
     },
     "execution_count": 25,
     "metadata": {},
     "output_type": "execute_result"
    }
   ],
   "source": [
    "f.(m_3)"
   ]
  },
  {
   "cell_type": "markdown",
   "id": "weighted-simple",
   "metadata": {
    "slideshow": {
     "slide_type": "subslide"
    },
    "tags": []
   },
   "source": [
    "### Beware of Abstract Containers"
   ]
  },
  {
   "cell_type": "markdown",
   "id": "noble-tackle",
   "metadata": {
    "slideshow": {
     "slide_type": "fragment"
    },
    "tags": []
   },
   "source": [
    "**Every** concrete data type is a first class citizen $\\Rightarrow$ there is no penalty to using a data type that is not `double`, `int`, etc (provided it is well designed) ... But abstract types are a different:"
   ]
  },
  {
   "cell_type": "markdown",
   "id": "mounted-nancy",
   "metadata": {
    "slideshow": {
     "slide_type": "fragment"
    },
    "tags": []
   },
   "source": [
    "It is possible to define a container without the data type (it actually is of type `Any`)"
   ]
  },
  {
   "cell_type": "code",
   "execution_count": 26,
   "id": "modified-brush",
   "metadata": {
    "slideshow": {
     "slide_type": "fragment"
    },
    "tags": []
   },
   "outputs": [
    {
     "data": {
      "text/plain": [
       "3-element Vector{Any}:\n",
       " #undef\n",
       " #undef\n",
       " #undef"
      ]
     },
     "execution_count": 26,
     "metadata": {},
     "output_type": "execute_result"
    }
   ],
   "source": [
    "v_a = Vector(undef, 3)"
   ]
  },
  {
   "cell_type": "markdown",
   "id": "fatal-behalf",
   "metadata": {},
   "source": [
    "this can hold any sort of data (which can also change during execution)"
   ]
  },
  {
   "cell_type": "code",
   "execution_count": 27,
   "id": "simplified-france",
   "metadata": {
    "slideshow": {
     "slide_type": "subslide"
    },
    "tags": []
   },
   "outputs": [
    {
     "data": {
      "text/plain": [
       "3-element Vector{Any}:\n",
       " 1.1\n",
       " 1.1\n",
       " 1.1"
      ]
     },
     "execution_count": 27,
     "metadata": {},
     "output_type": "execute_result"
    }
   ],
   "source": [
    "fill!(v_a, 1.1)"
   ]
  },
  {
   "cell_type": "code",
   "execution_count": 28,
   "id": "genuine-alarm",
   "metadata": {
    "slideshow": {
     "slide_type": "fragment"
    },
    "tags": []
   },
   "outputs": [
    {
     "data": {
      "text/plain": [
       "3-element Vector{Any}:\n",
       " 1.1\n",
       "  \"asdf\"\n",
       " 1.1"
      ]
     },
     "execution_count": 28,
     "metadata": {},
     "output_type": "execute_result"
    }
   ],
   "source": [
    "v_a[2]=\"asdf\"\n",
    "v_a"
   ]
  },
  {
   "cell_type": "markdown",
   "id": "occupied-roads",
   "metadata": {
    "slideshow": {
     "slide_type": "subslide"
    },
    "tags": []
   },
   "source": [
    "This can result in a performance hit... `Any` arrays are containers with abstract type $\\Rightarrow$ they contain _pointers_ to data instead of data and should be avoided where performance is important"
   ]
  },
  {
   "cell_type": "code",
   "execution_count": 32,
   "id": "supported-cleaning",
   "metadata": {
    "slideshow": {
     "slide_type": "subslide"
    },
    "tags": []
   },
   "outputs": [],
   "source": [
    "v_abstract = Vector(undef, 10000)\n",
    "v_concrete = Vector{Float64}(undef, 10000)\n",
    "\n",
    "fill!(v_abstract, 10)\n",
    "fill!(v_concrete, 10);"
   ]
  },
  {
   "cell_type": "code",
   "execution_count": 33,
   "id": "russian-intention",
   "metadata": {
    "slideshow": {
     "slide_type": "subslide"
    },
    "tags": []
   },
   "outputs": [
    {
     "data": {
      "text/plain": [
       "BenchmarkTools.Trial: 10000 samples with 1 evaluation.\n",
       " Range \u001b[90m(\u001b[39m\u001b[36m\u001b[1mmin\u001b[22m\u001b[39m … \u001b[35mmax\u001b[39m\u001b[90m):  \u001b[39m\u001b[36m\u001b[1m288.257 μs\u001b[22m\u001b[39m … \u001b[35m  3.851 ms\u001b[39m  \u001b[90m┊\u001b[39m GC \u001b[90m(\u001b[39mmin … max\u001b[90m): \u001b[39m0.00% … 89.99%\n",
       " Time  \u001b[90m(\u001b[39m\u001b[34m\u001b[1mmedian\u001b[22m\u001b[39m\u001b[90m):     \u001b[39m\u001b[34m\u001b[1m370.265 μs               \u001b[22m\u001b[39m\u001b[90m┊\u001b[39m GC \u001b[90m(\u001b[39mmedian\u001b[90m):    \u001b[39m0.00%\n",
       " Time  \u001b[90m(\u001b[39m\u001b[32m\u001b[1mmean\u001b[22m\u001b[39m ± \u001b[32mσ\u001b[39m\u001b[90m):   \u001b[39m\u001b[32m\u001b[1m396.427 μs\u001b[22m\u001b[39m ± \u001b[32m221.855 μs\u001b[39m  \u001b[90m┊\u001b[39m GC \u001b[90m(\u001b[39mmean ± σ\u001b[90m):  \u001b[39m5.03% ±  7.89%\n",
       "\n",
       "  \u001b[39m \u001b[39m \u001b[39m▁\u001b[39m▄\u001b[39m▅\u001b[39m▅\u001b[39m▄\u001b[39m▅\u001b[39m▅\u001b[39m▆\u001b[39m█\u001b[34m█\u001b[39m\u001b[39m▇\u001b[39m▅\u001b[32m▄\u001b[39m\u001b[39m▃\u001b[39m▃\u001b[39m▃\u001b[39m▂\u001b[39m▂\u001b[39m▁\u001b[39m▁\u001b[39m▁\u001b[39m \u001b[39m▁\u001b[39m▁\u001b[39m \u001b[39m \u001b[39m \u001b[39m \u001b[39m \u001b[39m \u001b[39m \u001b[39m \u001b[39m \u001b[39m \u001b[39m \u001b[39m \u001b[39m \u001b[39m \u001b[39m \u001b[39m \u001b[39m \u001b[39m \u001b[39m \u001b[39m \u001b[39m \u001b[39m \u001b[39m \u001b[39m \u001b[39m \u001b[39m \u001b[39m \u001b[39m \u001b[39m \u001b[39m \u001b[39m \u001b[39m \u001b[39m \u001b[39m \u001b[39m \u001b[39m \u001b[39m▂\n",
       "  \u001b[39m▃\u001b[39m▆\u001b[39m█\u001b[39m█\u001b[39m█\u001b[39m█\u001b[39m█\u001b[39m█\u001b[39m█\u001b[39m█\u001b[39m█\u001b[34m█\u001b[39m\u001b[39m█\u001b[39m█\u001b[32m█\u001b[39m\u001b[39m█\u001b[39m█\u001b[39m█\u001b[39m█\u001b[39m█\u001b[39m█\u001b[39m█\u001b[39m█\u001b[39m█\u001b[39m█\u001b[39m█\u001b[39m█\u001b[39m█\u001b[39m█\u001b[39m█\u001b[39m▇\u001b[39m█\u001b[39m▇\u001b[39m▇\u001b[39m▆\u001b[39m▇\u001b[39m▇\u001b[39m▆\u001b[39m▇\u001b[39m▆\u001b[39m▇\u001b[39m▇\u001b[39m▇\u001b[39m▇\u001b[39m▅\u001b[39m▆\u001b[39m▅\u001b[39m▅\u001b[39m▅\u001b[39m▆\u001b[39m▄\u001b[39m▆\u001b[39m▅\u001b[39m▄\u001b[39m▅\u001b[39m▁\u001b[39m▄\u001b[39m▄\u001b[39m▄\u001b[39m▅\u001b[39m▄\u001b[39m \u001b[39m█\n",
       "  288 μs\u001b[90m        \u001b[39m\u001b[90mHistogram: \u001b[39m\u001b[90m\u001b[1mlog(\u001b[22m\u001b[39m\u001b[90mfrequency\u001b[39m\u001b[90m\u001b[1m)\u001b[22m\u001b[39m\u001b[90m by time\u001b[39m        745 μs \u001b[0m\u001b[1m<\u001b[22m\n",
       "\n",
       " Memory estimate\u001b[90m: \u001b[39m\u001b[33m383.08 KiB\u001b[39m, allocs estimate\u001b[90m: \u001b[39m\u001b[33m19502\u001b[39m."
      ]
     },
     "execution_count": 33,
     "metadata": {},
     "output_type": "execute_result"
    }
   ],
   "source": [
    "@benchmark sqrt.(v_abstract)"
   ]
  },
  {
   "cell_type": "code",
   "execution_count": 34,
   "id": "caroline-fruit",
   "metadata": {
    "slideshow": {
     "slide_type": "subslide"
    },
    "tags": []
   },
   "outputs": [
    {
     "data": {
      "text/plain": [
       "BenchmarkTools.Trial: 10000 samples with 1 evaluation.\n",
       " Range \u001b[90m(\u001b[39m\u001b[36m\u001b[1mmin\u001b[22m\u001b[39m … \u001b[35mmax\u001b[39m\u001b[90m):  \u001b[39m\u001b[36m\u001b[1m14.923 μs\u001b[22m\u001b[39m … \u001b[35m  5.462 ms\u001b[39m  \u001b[90m┊\u001b[39m GC \u001b[90m(\u001b[39mmin … max\u001b[90m): \u001b[39m 0.00% … 99.02%\n",
       " Time  \u001b[90m(\u001b[39m\u001b[34m\u001b[1mmedian\u001b[22m\u001b[39m\u001b[90m):     \u001b[39m\u001b[34m\u001b[1m45.358 μs               \u001b[22m\u001b[39m\u001b[90m┊\u001b[39m GC \u001b[90m(\u001b[39mmedian\u001b[90m):    \u001b[39m 0.00%\n",
       " Time  \u001b[90m(\u001b[39m\u001b[32m\u001b[1mmean\u001b[22m\u001b[39m ± \u001b[32mσ\u001b[39m\u001b[90m):   \u001b[39m\u001b[32m\u001b[1m54.975 μs\u001b[22m\u001b[39m ± \u001b[32m210.334 μs\u001b[39m  \u001b[90m┊\u001b[39m GC \u001b[90m(\u001b[39mmean ± σ\u001b[90m):  \u001b[39m15.75% ±  4.08%\n",
       "\n",
       "  \u001b[39m \u001b[39m \u001b[39m \u001b[39m \u001b[39m \u001b[39m \u001b[39m \u001b[39m \u001b[39m \u001b[39m \u001b[39m \u001b[39m \u001b[39m \u001b[39m \u001b[39m \u001b[39m \u001b[39m \u001b[39m \u001b[39m \u001b[39m \u001b[39m \u001b[39m \u001b[39m \u001b[39m \u001b[39m \u001b[39m \u001b[39m \u001b[39m \u001b[39m \u001b[39m \u001b[39m \u001b[39m▁\u001b[39m▅\u001b[39m█\u001b[39m▇\u001b[34m▄\u001b[39m\u001b[39m \u001b[39m \u001b[39m \u001b[39m \u001b[39m \u001b[39m \u001b[39m \u001b[39m \u001b[39m \u001b[39m \u001b[32m \u001b[39m\u001b[39m \u001b[39m \u001b[39m \u001b[39m \u001b[39m \u001b[39m \u001b[39m \u001b[39m \u001b[39m \u001b[39m \u001b[39m \u001b[39m \u001b[39m \u001b[39m \u001b[39m \n",
       "  \u001b[39m▂\u001b[39m▃\u001b[39m▃\u001b[39m▃\u001b[39m▂\u001b[39m▂\u001b[39m▂\u001b[39m▁\u001b[39m▂\u001b[39m▁\u001b[39m▁\u001b[39m▁\u001b[39m▁\u001b[39m▁\u001b[39m▁\u001b[39m▁\u001b[39m▂\u001b[39m▁\u001b[39m▁\u001b[39m▁\u001b[39m▁\u001b[39m▁\u001b[39m▁\u001b[39m▁\u001b[39m▁\u001b[39m▂\u001b[39m▂\u001b[39m▂\u001b[39m▂\u001b[39m▃\u001b[39m▅\u001b[39m█\u001b[39m█\u001b[39m█\u001b[39m█\u001b[34m█\u001b[39m\u001b[39m█\u001b[39m▅\u001b[39m▅\u001b[39m▅\u001b[39m▅\u001b[39m▅\u001b[39m▅\u001b[39m▄\u001b[39m▄\u001b[39m▃\u001b[32m▃\u001b[39m\u001b[39m▃\u001b[39m▃\u001b[39m▃\u001b[39m▂\u001b[39m▂\u001b[39m▂\u001b[39m▂\u001b[39m▂\u001b[39m▂\u001b[39m▂\u001b[39m▂\u001b[39m▂\u001b[39m▂\u001b[39m \u001b[39m▃\n",
       "  14.9 μs\u001b[90m         Histogram: frequency by time\u001b[39m         67.6 μs \u001b[0m\u001b[1m<\u001b[22m\n",
       "\n",
       " Memory estimate\u001b[90m: \u001b[39m\u001b[33m78.23 KiB\u001b[39m, allocs estimate\u001b[90m: \u001b[39m\u001b[33m5\u001b[39m."
      ]
     },
     "execution_count": 34,
     "metadata": {},
     "output_type": "execute_result"
    }
   ],
   "source": [
    "@benchmark sqrt.(v_concrete)"
   ]
  },
  {
   "cell_type": "markdown",
   "id": "36927dbb-cdc6-4d6b-9bc8-e2f110587f73",
   "metadata": {},
   "source": []
  }
 ],
 "metadata": {
  "kernelspec": {
   "display_name": "Julia 1.7.1",
   "language": "julia",
   "name": "julia-1.7"
  },
  "language_info": {
   "file_extension": ".jl",
   "mimetype": "application/julia",
   "name": "julia",
   "version": "1.7.1"
  }
 },
 "nbformat": 4,
 "nbformat_minor": 5
}
