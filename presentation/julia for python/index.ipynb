{
 "cells": [
  {
   "cell_type": "markdown",
   "id": "angry-eating",
   "metadata": {
    "slideshow": {
     "slide_type": "slide"
    },
    "tags": []
   },
   "source": [
    "# Julia for Python Users\n",
    "\n",
    "Are you a Python user? Do you think it's the Bee's Knees? Well you should give\n",
    "Julia a try and be blown away by its features and speed.\n",
    "\n",
    "This presentation gives a gentle introduction to Julia. We assume you've got a\n",
    "basic understanding of Python (but not required)."
   ]
  },
  {
   "cell_type": "markdown",
   "id": "optimum-funds",
   "metadata": {
    "slideshow": {
     "slide_type": "subslide"
    },
    "tags": []
   },
   "source": [
    "## A Gentle Introduction to Julia\n",
    "\n",
    "1. Getting Started: [Slides](00_intro/Getting%20Started.slides.html) [Notebook](00_intro/Getting%20Started.ipynb)\n",
    "2. Building Data Types (Classes): [Slides](00_intro/Data%20Types.slides.html) [Notebook](00_intro/Data%20Types.ipynb)"
   ]
  },
  {
   "cell_type": "markdown",
   "id": "black-steam",
   "metadata": {
    "slideshow": {
     "slide_type": "subslide"
    },
    "tags": []
   },
   "source": [
    "## Array Data\n",
    "\n",
    "1. Working With Arrays: [Slides](01_arrays/Array-Based%20Data%20Types.slides.html) [Notebook](01_arrays/Array-Based%20Data%20Types.ipynb)"
   ]
  },
  {
   "cell_type": "markdown",
   "id": "breeding-nightmare",
   "metadata": {
    "slideshow": {
     "slide_type": "subslide"
    },
    "tags": []
   },
   "source": [
    "## C API\n",
    "\n",
    "1. Calling Functions via the C-API: [Slides](02_capi/Calling%20C.slides.html) [Notebook](02_capi/Calling%20C.ipynb)"
   ]
  },
  {
   "cell_type": "markdown",
   "id": "hispanic-building",
   "metadata": {
    "slideshow": {
     "slide_type": "subslide"
    },
    "tags": []
   },
   "source": [
    "## Working In Parallel\n",
    "\n",
    "1. Distributed Computing: [Slides](03_parallel/Parallel.slides.html) [Notebook](03_parallel/Parallel.ipynb)"
   ]
  },
  {
   "cell_type": "markdown",
   "id": "reserved-mechanism",
   "metadata": {
    "slideshow": {
     "slide_type": "subslide"
    },
    "tags": []
   },
   "source": [
    "## What About Numba ?\n",
    "\n",
    "1. A Numba Example: [Slides](04_numba/Python.slides.html) [Notebook](04_numba/Python.ipynb)\n",
    "2. The same sgain, but in Julia: [Slides](04_numba/Julia.slides.html) [Notebook](04_numba/Julia.ipynb)"
   ]
  },
  {
   "cell_type": "markdown",
   "id": "promotional-boring",
   "metadata": {
    "slideshow": {
     "slide_type": "subslide"
    },
    "tags": []
   },
   "source": [
    "## Working with MPI\n",
    "\n",
    "1. MPI.jl Basics: [Slides](05_mpi/SharedArrays.slides.html) [Notebook](05_mpi/SharedArrays.ipynb)\n",
    "2. Using Distributed Arrays: [Slides](05_mpi/DistributedArrays.slides.html) [Notebook](05_mpi/DistributedArrays.ipynb)\n",
    "3. One-sided MPI Communication: [Slides](05_mpi/RDMA.slides.html) [Notebook](05_mpi/RDMA.ipynb)\n",
    "4. MPIArrays.jl Basics: [Slides](05_mpi/MPIArrays.slides.html) [Notebook](05_mpi/MPIArrays.ipynb)"
   ]
  },
  {
   "cell_type": "markdown",
   "id": "processed-arnold",
   "metadata": {},
   "source": [
    "## Working with GPUS\n",
    "\n",
    "Coming Soon: https://juliagpu.org/"
   ]
  }
 ],
 "metadata": {
  "kernelspec": {
   "display_name": "Python 3",
   "language": "python",
   "name": "python3"
  },
  "language_info": {
   "codemirror_mode": {
    "name": "ipython",
    "version": 3
   },
   "file_extension": ".py",
   "mimetype": "text/x-python",
   "name": "python",
   "nbconvert_exporter": "python",
   "pygments_lexer": "ipython3",
   "version": "3.8.8"
  }
 },
 "nbformat": 4,
 "nbformat_minor": 5
}
