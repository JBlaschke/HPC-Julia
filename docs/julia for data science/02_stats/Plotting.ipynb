{
 "cells": [
  {
   "cell_type": "markdown",
   "id": "449a9d71-ff0d-42d8-9dfe-625b4b1e75eb",
   "metadata": {
    "slideshow": {
     "slide_type": "slide"
    },
    "tags": []
   },
   "source": [
    "# Plotting using Plots.jl\n",
    "([Back to Overview](../index.html#/0/4))"
   ]
  },
  {
   "cell_type": "code",
   "execution_count": null,
   "id": "c61d6c65-0bdc-41b3-aceb-fabeba1380fc",
   "metadata": {
    "slideshow": {
     "slide_type": "subslide"
    },
    "tags": []
   },
   "outputs": [],
   "source": [
    "using Plots"
   ]
  },
  {
   "cell_type": "code",
   "execution_count": null,
   "id": "1d00ab89-7f05-4636-8619-902e5c50ffef",
   "metadata": {
    "slideshow": {
     "slide_type": "subslide"
    },
    "tags": []
   },
   "outputs": [],
   "source": [
    "x  = range(-10, 10, step=0.1)\n",
    "y1 = x.^2\n",
    "y2 = x.^3;"
   ]
  },
  {
   "cell_type": "code",
   "execution_count": null,
   "id": "d3fcc030-634a-4978-b3f8-9a33a527be58",
   "metadata": {
    "slideshow": {
     "slide_type": "subslide"
    },
    "tags": []
   },
   "outputs": [],
   "source": [
    "plot(x, y1)"
   ]
  },
  {
   "cell_type": "code",
   "execution_count": null,
   "id": "e1961baf-ae30-45d5-a781-f025c718e30b",
   "metadata": {
    "slideshow": {
     "slide_type": "subslide"
    },
    "tags": []
   },
   "outputs": [],
   "source": [
    "plot!(x, y2)"
   ]
  },
  {
   "cell_type": "code",
   "execution_count": null,
   "id": "e0311342-0d30-4a5f-bc6e-2190d8d50835",
   "metadata": {
    "slideshow": {
     "slide_type": "subslide"
    },
    "tags": []
   },
   "outputs": [],
   "source": [
    "data = x .+ 2 .* (rand(length(x)) .- 0.5)"
   ]
  },
  {
   "cell_type": "code",
   "execution_count": null,
   "id": "16cf2d03-659b-4262-81e0-4f04ff1e415f",
   "metadata": {
    "slideshow": {
     "slide_type": "subslide"
    },
    "tags": []
   },
   "outputs": [],
   "source": [
    "plot(x, data, line=nothing, marker=:circ, legend=:topleft, label=\"noise\")\n",
    "plot!(x, x, line=(:solid, 2), label=\"original\")"
   ]
  },
  {
   "cell_type": "code",
   "execution_count": null,
   "id": "0b5603a1-cb18-4edc-a286-de7718b1c783",
   "metadata": {
    "slideshow": {
     "slide_type": "subslide"
    },
    "tags": []
   },
   "outputs": [],
   "source": [
    "using LsqFit"
   ]
  },
  {
   "cell_type": "code",
   "execution_count": null,
   "id": "495391f3-e777-42ec-9ebb-3cbe4562b51a",
   "metadata": {
    "slideshow": {
     "slide_type": "subslide"
    },
    "tags": []
   },
   "outputs": [],
   "source": [
    "model(x, p) = @. p[1] + p[2]*x"
   ]
  },
  {
   "cell_type": "code",
   "execution_count": null,
   "id": "1c909068-28cb-43c4-9443-6b772a564fe8",
   "metadata": {
    "slideshow": {
     "slide_type": "subslide"
    },
    "tags": []
   },
   "outputs": [],
   "source": [
    "fit = curve_fit(model, x, data, [0., 0.])\n",
    "fit.param"
   ]
  },
  {
   "cell_type": "code",
   "execution_count": null,
   "id": "0a60b3fd-f1ee-4c37-b490-5340d3ea5f61",
   "metadata": {
    "slideshow": {
     "slide_type": "subslide"
    },
    "tags": []
   },
   "outputs": [],
   "source": [
    "plot!(x, model(x, fit.param), line=(:solid, 2), label=\"fit\")"
   ]
  },
  {
   "cell_type": "code",
   "execution_count": null,
   "id": "db796f46-1df2-4e73-8407-d6c7145db2fe",
   "metadata": {},
   "outputs": [],
   "source": []
  }
 ],
 "metadata": {
  "kernelspec": {
   "display_name": "Julia 1.8.1",
   "language": "julia",
   "name": "julia-1.8"
  },
  "language_info": {
   "file_extension": ".jl",
   "mimetype": "application/julia",
   "name": "julia",
   "version": "1.8.1"
  }
 },
 "nbformat": 4,
 "nbformat_minor": 5
}
