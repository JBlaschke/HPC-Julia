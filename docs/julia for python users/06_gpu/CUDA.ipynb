{
 "cells": [
  {
   "cell_type": "code",
   "execution_count": 6,
   "id": "2a255106-89f9-406e-9b5f-bc0c6e6489e3",
   "metadata": {
    "slideshow": {
     "slide_type": "skip"
    },
    "tags": []
   },
   "outputs": [],
   "source": [
    "using BenchmarkTools"
   ]
  },
  {
   "cell_type": "markdown",
   "id": "78164c94-3875-4ed8-976c-3099cb5da322",
   "metadata": {
    "slideshow": {
     "slide_type": "slide"
    },
    "tags": []
   },
   "source": [
    "# Using NVIDA GPUs (`CUDA.jl`)\n",
    "\n",
    "([Back to Overview](../index.html#/0/9))\n",
    "\n",
    "**Warning:** This requires you having a compatible GPU -- and and functions are not available in the REPL / in Jupyter.\n",
    "\n",
    "More info: [https://juliagpu.org/](https://juliagpu.org/)"
   ]
  },
  {
   "cell_type": "code",
   "execution_count": 1,
   "id": "6f3b0bbb-4eb4-4918-9d09-d495b8bdc02a",
   "metadata": {
    "slideshow": {
     "slide_type": "slide"
    },
    "tags": []
   },
   "outputs": [],
   "source": [
    "using CUDA"
   ]
  },
  {
   "cell_type": "markdown",
   "id": "f49de332-c559-411a-ad5c-b378630b086f",
   "metadata": {
    "slideshow": {
     "slide_type": "fragment"
    },
    "tags": []
   },
   "source": [
    "The `CUDA.jl` module provides us with the `CuArray` data type, which looks just like an ordinary array -- eg:"
   ]
  },
  {
   "cell_type": "code",
   "execution_count": 4,
   "id": "1bde1259-42a5-4f45-a524-150683e9a717",
   "metadata": {
    "slideshow": {
     "slide_type": "fragment"
    },
    "tags": []
   },
   "outputs": [
    {
     "data": {
      "text/plain": [
       "4-element CuArray{Int64, 1, CUDA.Mem.DeviceBuffer}:\n",
       " 2\n",
       " 3\n",
       " 4\n",
       " 5"
      ]
     },
     "execution_count": 4,
     "metadata": {},
     "output_type": "execute_result"
    }
   ],
   "source": [
    "A_d = CuArray([1,2,3,4])\n",
    "A_d .+= 1"
   ]
  },
  {
   "cell_type": "markdown",
   "id": "5779a27c-2d9c-43f8-8a47-d92c30809d7a",
   "metadata": {
    "slideshow": {
     "slide_type": "subslide"
    },
    "tags": []
   },
   "source": [
    "The `CuArray` constructor copies data from host to device. Data is copied back from the device to host using the (overloaded) `Array` constructor."
   ]
  },
  {
   "cell_type": "code",
   "execution_count": 5,
   "id": "40033b02-9573-4cbe-8406-d42a66f1abe0",
   "metadata": {
    "slideshow": {
     "slide_type": "fragment"
    },
    "tags": []
   },
   "outputs": [
    {
     "data": {
      "text/plain": [
       "4-element Vector{Int64}:\n",
       " 2\n",
       " 3\n",
       " 4\n",
       " 5"
      ]
     },
     "execution_count": 5,
     "metadata": {},
     "output_type": "execute_result"
    }
   ],
   "source": [
    "A = Array(A_d)"
   ]
  },
  {
   "cell_type": "markdown",
   "id": "c71ac1ce-4755-4415-9d8d-53617c7a96b0",
   "metadata": {
    "slideshow": {
     "slide_type": "slide"
    },
    "tags": []
   },
   "source": [
    "## Linear Algebra on the GPU"
   ]
  },
  {
   "cell_type": "markdown",
   "id": "ee5b5ac4-98e1-4797-aea8-921be9c6e1ef",
   "metadata": {
    "slideshow": {
     "slide_type": "subslide"
    },
    "tags": []
   },
   "source": [
    "`CuArray`s can (almost do everything that `Array`s can do -- eg: Matrix-Matrix multiplication:"
   ]
  },
  {
   "cell_type": "code",
   "execution_count": 7,
   "id": "f99da4cb-186c-458b-8101-9d77902ee177",
   "metadata": {
    "slideshow": {
     "slide_type": "fragment"
    },
    "tags": []
   },
   "outputs": [
    {
     "data": {
      "text/plain": [
       "BenchmarkTools.Trial: 2 samples with 1 evaluation.\n",
       " Range \u001b[90m(\u001b[39m\u001b[36m\u001b[1mmin\u001b[22m\u001b[39m … \u001b[35mmax\u001b[39m\u001b[90m):  \u001b[39m\u001b[36m\u001b[1m3.699 s\u001b[22m\u001b[39m … \u001b[35m   3.700 s\u001b[39m  \u001b[90m┊\u001b[39m GC \u001b[90m(\u001b[39mmin … max\u001b[90m): \u001b[39m0.03% … 0.02%\n",
       " Time  \u001b[90m(\u001b[39m\u001b[34m\u001b[1mmedian\u001b[22m\u001b[39m\u001b[90m):     \u001b[39m\u001b[34m\u001b[1m3.699 s               \u001b[22m\u001b[39m\u001b[90m┊\u001b[39m GC \u001b[90m(\u001b[39mmedian\u001b[90m):    \u001b[39m0.03%\n",
       " Time  \u001b[90m(\u001b[39m\u001b[32m\u001b[1mmean\u001b[22m\u001b[39m ± \u001b[32mσ\u001b[39m\u001b[90m):   \u001b[39m\u001b[32m\u001b[1m3.699 s\u001b[22m\u001b[39m ± \u001b[32m513.821 μs\u001b[39m  \u001b[90m┊\u001b[39m GC \u001b[90m(\u001b[39mmean ± σ\u001b[90m):  \u001b[39m0.03% ± 0.01%\n",
       "\n",
       "  \u001b[34m█\u001b[39m\u001b[39m \u001b[39m \u001b[39m \u001b[39m \u001b[39m \u001b[39m \u001b[39m \u001b[39m \u001b[39m \u001b[39m \u001b[39m \u001b[39m \u001b[39m \u001b[39m \u001b[39m \u001b[39m \u001b[39m \u001b[39m \u001b[39m \u001b[39m \u001b[39m \u001b[39m \u001b[39m \u001b[39m \u001b[39m \u001b[39m \u001b[39m \u001b[39m \u001b[32m \u001b[39m\u001b[39m \u001b[39m \u001b[39m \u001b[39m \u001b[39m \u001b[39m \u001b[39m \u001b[39m \u001b[39m \u001b[39m \u001b[39m \u001b[39m \u001b[39m \u001b[39m \u001b[39m \u001b[39m \u001b[39m \u001b[39m \u001b[39m \u001b[39m \u001b[39m \u001b[39m \u001b[39m \u001b[39m \u001b[39m \u001b[39m \u001b[39m \u001b[39m█\u001b[39m \u001b[39m \n",
       "  \u001b[34m█\u001b[39m\u001b[39m▁\u001b[39m▁\u001b[39m▁\u001b[39m▁\u001b[39m▁\u001b[39m▁\u001b[39m▁\u001b[39m▁\u001b[39m▁\u001b[39m▁\u001b[39m▁\u001b[39m▁\u001b[39m▁\u001b[39m▁\u001b[39m▁\u001b[39m▁\u001b[39m▁\u001b[39m▁\u001b[39m▁\u001b[39m▁\u001b[39m▁\u001b[39m▁\u001b[39m▁\u001b[39m▁\u001b[39m▁\u001b[39m▁\u001b[39m▁\u001b[39m▁\u001b[32m▁\u001b[39m\u001b[39m▁\u001b[39m▁\u001b[39m▁\u001b[39m▁\u001b[39m▁\u001b[39m▁\u001b[39m▁\u001b[39m▁\u001b[39m▁\u001b[39m▁\u001b[39m▁\u001b[39m▁\u001b[39m▁\u001b[39m▁\u001b[39m▁\u001b[39m▁\u001b[39m▁\u001b[39m▁\u001b[39m▁\u001b[39m▁\u001b[39m▁\u001b[39m▁\u001b[39m▁\u001b[39m▁\u001b[39m▁\u001b[39m▁\u001b[39m▁\u001b[39m█\u001b[39m \u001b[39m▁\n",
       "  3.7 s\u001b[90m          Histogram: frequency by time\u001b[39m          3.7 s \u001b[0m\u001b[1m<\u001b[22m\n",
       "\n",
       " Memory estimate\u001b[90m: \u001b[39m\u001b[33m512.00 MiB\u001b[39m, allocs estimate\u001b[90m: \u001b[39m\u001b[33m2\u001b[39m."
      ]
     },
     "execution_count": 7,
     "metadata": {},
     "output_type": "execute_result"
    }
   ],
   "source": [
    "A = rand(2^13, 2^13)\n",
    "@benchmark A * A"
   ]
  },
  {
   "cell_type": "code",
   "execution_count": 8,
   "id": "a8de6c91-275d-42f9-bcda-b3ebb8abe637",
   "metadata": {
    "slideshow": {
     "slide_type": "subslide"
    },
    "tags": []
   },
   "outputs": [
    {
     "data": {
      "text/plain": [
       "BenchmarkTools.Trial: 154 samples with 1 evaluation.\n",
       " Range \u001b[90m(\u001b[39m\u001b[36m\u001b[1mmin\u001b[22m\u001b[39m … \u001b[35mmax\u001b[39m\u001b[90m):  \u001b[39m\u001b[36m\u001b[1m12.514 μs\u001b[22m\u001b[39m … \u001b[35m   9.384 s\u001b[39m  \u001b[90m┊\u001b[39m GC \u001b[90m(\u001b[39mmin … max\u001b[90m): \u001b[39m0.00% … 0.02%\n",
       " Time  \u001b[90m(\u001b[39m\u001b[34m\u001b[1mmedian\u001b[22m\u001b[39m\u001b[90m):     \u001b[39m\u001b[34m\u001b[1m13.802 μs               \u001b[22m\u001b[39m\u001b[90m┊\u001b[39m GC \u001b[90m(\u001b[39mmedian\u001b[90m):    \u001b[39m0.00%\n",
       " Time  \u001b[90m(\u001b[39m\u001b[32m\u001b[1mmean\u001b[22m\u001b[39m ± \u001b[32mσ\u001b[39m\u001b[90m):   \u001b[39m\u001b[32m\u001b[1m60.949 ms\u001b[22m\u001b[39m ± \u001b[32m756.173 ms\u001b[39m  \u001b[90m┊\u001b[39m GC \u001b[90m(\u001b[39mmean ± σ\u001b[90m):  \u001b[39m0.02% ± 0.00%\n",
       "\n",
       "  \u001b[39m \u001b[39m \u001b[39m \u001b[39m \u001b[39m \u001b[39m \u001b[39m▇\u001b[39m▆\u001b[34m█\u001b[39m\u001b[39m▅\u001b[39m \u001b[39m \u001b[39m \u001b[39m \u001b[39m \u001b[39m \u001b[39m \u001b[39m \u001b[39m \u001b[39m \u001b[39m \u001b[39m \u001b[39m \u001b[39m \u001b[39m \u001b[39m \u001b[39m \u001b[39m \u001b[39m \u001b[39m \u001b[39m \u001b[39m \u001b[39m \u001b[39m \u001b[39m \u001b[39m \u001b[39m \u001b[39m \u001b[39m \u001b[39m \u001b[39m \u001b[39m \u001b[39m \u001b[39m \u001b[39m \u001b[39m \u001b[39m \u001b[39m \u001b[39m \u001b[39m \u001b[39m \u001b[39m \u001b[39m \u001b[39m \u001b[39m \u001b[39m \u001b[39m \u001b[39m \u001b[39m \u001b[39m \u001b[39m \u001b[39m \n",
       "  \u001b[39m▃\u001b[39m▃\u001b[39m▄\u001b[39m▃\u001b[39m▆\u001b[39m█\u001b[39m█\u001b[39m█\u001b[34m█\u001b[39m\u001b[39m█\u001b[39m▇\u001b[39m▇\u001b[39m▄\u001b[39m▄\u001b[39m▄\u001b[39m▁\u001b[39m▁\u001b[39m▄\u001b[39m▃\u001b[39m▁\u001b[39m▁\u001b[39m▃\u001b[39m▃\u001b[39m▄\u001b[39m▁\u001b[39m▁\u001b[39m▁\u001b[39m▁\u001b[39m▁\u001b[39m▃\u001b[39m▃\u001b[39m▁\u001b[39m▁\u001b[39m▁\u001b[39m▁\u001b[39m▁\u001b[39m▁\u001b[39m▁\u001b[39m▁\u001b[39m▁\u001b[39m▁\u001b[39m▁\u001b[39m▁\u001b[39m▁\u001b[39m▁\u001b[39m▁\u001b[39m▁\u001b[39m▃\u001b[39m▁\u001b[39m▁\u001b[39m▁\u001b[39m▁\u001b[39m▁\u001b[39m▁\u001b[39m▁\u001b[39m▁\u001b[39m▁\u001b[39m▁\u001b[39m▁\u001b[39m▃\u001b[39m \u001b[39m▃\n",
       "  12.5 μs\u001b[90m         Histogram: frequency by time\u001b[39m         21.7 μs \u001b[0m\u001b[1m<\u001b[22m\n",
       "\n",
       " Memory estimate\u001b[90m: \u001b[39m\u001b[33m640 bytes\u001b[39m, allocs estimate\u001b[90m: \u001b[39m\u001b[33m32\u001b[39m."
      ]
     },
     "execution_count": 8,
     "metadata": {},
     "output_type": "execute_result"
    }
   ],
   "source": [
    "A_d = CUDA.rand(2^13, 2^13)\n",
    "@benchmark A_d * A_d"
   ]
  },
  {
   "cell_type": "markdown",
   "id": "16609aee-7b21-4ddd-b9fd-766f17911c37",
   "metadata": {
    "slideshow": {
     "slide_type": "slide"
    },
    "tags": []
   },
   "source": [
    "## Vendor Libraries"
   ]
  },
  {
   "cell_type": "markdown",
   "id": "cc7b140c-7bac-47de-9e3f-29401f2cbe78",
   "metadata": {
    "slideshow": {
     "slide_type": "fragment"
    },
    "tags": []
   },
   "source": [
    "`CUDA.jl` also exposes the NVIDIA \"vendor libraries\""
   ]
  },
  {
   "cell_type": "markdown",
   "id": "01b850f6-e0ec-47d7-b0f1-d2228a1ec1ce",
   "metadata": {
    "slideshow": {
     "slide_type": "subslide"
    },
    "tags": []
   },
   "source": [
    "Let's create a 100x100 Float32 random array and an uninitialized array"
   ]
  },
  {
   "cell_type": "code",
   "execution_count": 9,
   "id": "fc468f5f-9368-47de-8c27-9f52405f9296",
   "metadata": {
    "slideshow": {
     "slide_type": "fragment"
    },
    "tags": []
   },
   "outputs": [
    {
     "data": {
      "text/plain": [
       "100×100 CuArray{Float32, 2, CUDA.Mem.DeviceBuffer}:\n",
       " 2082.15  2092.16  2091.42  2105.15  …  2039.76  2041.78  2046.69  2059.75\n",
       " 2079.88  2105.41  2077.09  2095.26     2054.86  2053.49  2041.09  2022.81\n",
       " 2095.56  2098.23  2093.99  2092.93     2055.27  2052.2   2063.72  2041.81\n",
       " 2083.29  2071.93  2092.69  2097.58     2035.97  2051.69  2057.53  2046.19\n",
       " 2086.36  2081.25  2115.68  2094.6      2067.96  2047.13  2040.15  2059.8\n",
       " 2120.73  2098.81  2069.96  2090.98  …  2055.71  2050.52  2065.02  2067.54\n",
       " 2123.32  2094.66  2115.04  2075.11     2061.45  2054.36  2040.53  2064.73\n",
       " 2094.55  2088.88  2081.22  2101.37     2050.09  2033.46  2026.06  2038.7\n",
       " 2073.11  2102.52  2074.06  2103.65     2028.82  2052.18  2042.16  2041.73\n",
       " 2076.01  2116.2   2096.57  2057.15     2046.49  2040.4   2037.01  2069.85\n",
       " 2094.41  2101.49  2097.47  2086.52  …  2030.35  2037.54  2046.77  2050.44\n",
       " 2095.69  2122.9   2087.56  2087.5      2047.51  2022.11  2057.35  2056.67\n",
       " 2081.02  2108.23  2083.8   2084.7      2062.69  2034.9   2044.1   2070.04\n",
       "    ⋮                                ⋱                             \n",
       " 2079.52  2109.95  2091.14  2080.68     2032.02  2054.69  2036.2   2040.29\n",
       " 2092.96  2120.33  2101.27  2085.17     2058.03  2053.94  2044.85  2029.11\n",
       " 2103.06  2097.95  2106.35  2069.27  …  2057.43  2058.4   2042.47  2017.44\n",
       " 2079.06  2082.43  2074.25  2079.19     2051.89  2035.77  2047.74  2036.39\n",
       " 2079.81  2087.6   2115.04  2072.7      2032.08  2039.93  2050.72  2046.42\n",
       " 2059.71  2084.6   2099.49  2099.53     2036.13  2054.69  2042.06  2052.63\n",
       " 2106.59  2089.19  2093.84  2068.37     2043.36  2072.42  2049.15  2069.34\n",
       " 2088.89  2090.79  2085.84  2085.13  …  2039.46  2035.72  2067.84  2053.37\n",
       " 2095.06  2083.16  2100.21  2070.28     2043.95  2046.82  2059.56  2038.39\n",
       " 2091.59  2090.94  2086.23  2098.35     2052.77  2068.35  2044.89  2037.73\n",
       " 2103.5   2086.0   2080.49  2086.72     2063.52  2046.87  2040.2   2031.73\n",
       " 2105.91  2095.45  2075.35  2085.48     2044.77  2080.15  2062.98  2034.4"
      ]
     },
     "execution_count": 9,
     "metadata": {},
     "output_type": "execute_result"
    }
   ],
   "source": [
    "A = CUDA.rand(100, 100)\n",
    "B = CuArray{Float32, 2}(undef, 100, 100)"
   ]
  },
  {
   "cell_type": "markdown",
   "id": "bc72aa33-2438-47c3-8df0-532c3b04e3ec",
   "metadata": {
    "slideshow": {
     "slide_type": "subslide"
    },
    "tags": []
   },
   "source": [
    "This is how we use cuBLAS for matrix multiplication"
   ]
  },
  {
   "cell_type": "code",
   "execution_count": 11,
   "id": "147cf77f-16f8-4b74-a12c-b9bb61ca548a",
   "metadata": {
    "slideshow": {
     "slide_type": "fragment"
    },
    "tags": []
   },
   "outputs": [],
   "source": [
    "using LinearAlgebra"
   ]
  },
  {
   "cell_type": "code",
   "execution_count": 12,
   "id": "049d4d0d-1859-4470-9261-b3a0afd113d5",
   "metadata": {
    "slideshow": {
     "slide_type": "fragment"
    },
    "tags": []
   },
   "outputs": [
    {
     "data": {
      "text/plain": [
       "100×100 CuArray{Float32, 2, CUDA.Mem.DeviceBuffer}:\n",
       " 26.0541  25.2375  29.5854  30.0792  …  26.8392  25.6859  27.2518  24.3397\n",
       " 26.9935  23.5858  28.8808  29.3612     25.9259  24.9045  26.9732  23.1663\n",
       " 23.8318  23.2544  27.0436  27.7514     25.895   21.8974  24.5736  21.4964\n",
       " 23.5895  23.2833  26.9411  27.9016     25.5831  21.5216  24.8104  21.5734\n",
       " 22.3585  19.5145  25.3224  23.5364     22.7726  20.6988  20.5169  21.429\n",
       " 26.9681  23.978   29.1811  30.7305  …  26.0771  24.9808  26.5454  22.6564\n",
       " 27.1567  23.9535  28.9172  31.3191     25.549   24.3823  24.8977  23.4401\n",
       " 25.8993  21.1598  27.3024  29.1862     25.0842  22.0787  24.354   22.3105\n",
       " 24.067   20.0603  26.9049  25.6144     24.9385  20.9405  24.0146  21.1177\n",
       " 26.75    24.1966  27.9697  30.6019     27.5482  27.0981  27.4829  25.1113\n",
       " 25.9405  23.8561  27.7157  27.9048  …  24.561   22.7346  23.671   22.6953\n",
       " 22.3711  21.3122  24.6065  25.8006     21.9968  20.3528  23.8327  18.8735\n",
       " 24.127   24.0281  28.7556  29.8256     25.0667  23.2287  27.309   22.7914\n",
       "  ⋮                                  ⋱                             \n",
       " 26.0763  22.9744  26.7275  28.1183     25.6966  22.5868  24.46    21.539\n",
       " 27.2424  25.6275  29.7721  29.4302     27.3675  25.1813  25.4957  23.3684\n",
       " 26.4729  22.27    27.3358  28.5067  …  26.078   23.9046  25.1857  21.8295\n",
       " 28.4721  24.7323  29.5149  30.6894     27.898   26.0704  27.2867  24.5573\n",
       " 23.7048  22.5066  26.0786  27.2572     22.6013  21.8899  23.4392  19.3053\n",
       " 26.1792  23.5768  29.231   29.1364     27.4271  22.9365  27.1357  21.8295\n",
       " 25.33    22.4369  27.6977  27.9236     26.8156  22.0475  24.218   21.5864\n",
       " 23.6859  22.5521  25.2596  28.3039  …  23.8837  22.6471  24.7953  22.7188\n",
       " 25.8494  24.4573  29.0917  28.9525     27.044   23.9894  26.2206  23.015\n",
       " 23.1796  22.0326  25.6665  26.4034     23.9209  21.6591  23.1553  22.0196\n",
       " 25.1667  23.0538  26.1574  27.0468     25.2525  21.5628  25.876   21.2762\n",
       " 28.4753  25.9483  28.9663  32.3276     29.313   23.6804  29.054   25.0353"
      ]
     },
     "execution_count": 12,
     "metadata": {},
     "output_type": "execute_result"
    }
   ],
   "source": [
    "mul!(B, A, A)"
   ]
  },
  {
   "cell_type": "markdown",
   "id": "b8885451-b380-4a29-8dee-0294c2f7221f",
   "metadata": {
    "slideshow": {
     "slide_type": "subslide"
    },
    "tags": []
   },
   "source": [
    "And how we use cuSOLVER for QR factorization"
   ]
  },
  {
   "cell_type": "code",
   "execution_count": 13,
   "id": "806b43cf-5ba0-4710-b803-a9db0e523e7f",
   "metadata": {
    "slideshow": {
     "slide_type": "fragment"
    },
    "tags": []
   },
   "outputs": [
    {
     "data": {
      "text/plain": [
       "CUDA.CUSOLVER.CuQR{Float32, CuArray{Float32, 2, CUDA.Mem.DeviceBuffer}} with factors Q and R:\n",
       "Float32[-0.086872816 -0.09331815 … 0.08632689 -0.05913295; -0.14449167 -0.04636904 … 0.13759896 0.061833113; … ; -0.13884494 -0.11526276 … -0.11043782 -0.23715988; -0.027167495 -0.014698244 … -0.104247 0.10333059]\n",
       "Float32[-6.08979 -4.1022744 … -4.163331 -3.9207644; 0.0 3.7753832 … 1.5390723 1.475018; … ; 0.0 0.0 … -0.33997408 -0.31492567; 0.0 0.0 … 0.0 -0.104866]"
      ]
     },
     "execution_count": 13,
     "metadata": {},
     "output_type": "execute_result"
    },
    {
     "name": "stderr",
     "output_type": "stream",
     "text": [
      "┌ Warning: Performing scalar indexing on task Task (runnable) @0x0000153246ec6f80.\n",
      "│ Invocation of CuQRPackedQ getindex resulted in scalar indexing of a GPU array.\n",
      "│ This is typically caused by calling an iterating implementation of a method.\n",
      "│ Such implementations *do not* execute on the GPU, but very slowly on the CPU,\n",
      "│ and therefore are only permitted from the REPL for prototyping purposes.\n",
      "│ If you did intend to index this array, annotate the caller with @allowscalar.\n",
      "└ @ GPUArraysCore /global/common/software/nersc/pm-2022q3/sw/julia-2022-09-24/packages/gnu/1.7.2/julia/packages/GPUArraysCore/lojQM/src/GPUArraysCore.jl:90\n"
     ]
    }
   ],
   "source": [
    "qr(A)"
   ]
  },
  {
   "cell_type": "markdown",
   "id": "ce4a50a1-b34b-4020-8dc2-05b19596299b",
   "metadata": {
    "slideshow": {
     "slide_type": "subslide"
    },
    "tags": []
   },
   "source": [
    "Note that the REPL is not always the right place to do HPC work :("
   ]
  },
  {
   "cell_type": "markdown",
   "id": "f1e10290-2aca-4898-a305-8c6f352f55e7",
   "metadata": {
    "slideshow": {
     "slide_type": "subslide"
    },
    "tags": []
   },
   "source": [
    "As you can see, `CuArray` implements all the standard linear operations -- this allows us to solve the equation `A*X == B` using \"natural\" Julia notation:"
   ]
  },
  {
   "cell_type": "code",
   "execution_count": 14,
   "id": "3624222b-ead0-487d-a0ed-4c34f09f4ce7",
   "metadata": {
    "slideshow": {
     "slide_type": "fragment"
    },
    "tags": []
   },
   "outputs": [
    {
     "data": {
      "text/plain": [
       "100×100 CuArray{Float32, 2, CUDA.Mem.DeviceBuffer}:\n",
       " 0.529052   0.00406169  0.91863    …  0.525636   0.769776   0.784503\n",
       " 0.879929   0.417679    0.744389      0.67582    0.248157   0.02853\n",
       " 0.828115   0.397523    0.639837      0.806668   0.129253   0.737683\n",
       " 0.0365297  0.0635211   0.629269      0.809794   0.539744   0.282567\n",
       " 0.833553   0.227285    0.553608      0.694572   0.601802   0.223628\n",
       " 0.423745   0.857526    0.387121   …  0.720532   0.425674   0.718662\n",
       " 0.584385   0.9915      0.8247        0.876032   0.533464   0.176703\n",
       " 0.0529149  0.164399    0.287799      0.0557293  0.548003   0.468465\n",
       " 0.991612   0.472535    0.336021      0.300175   0.449142   0.804357\n",
       " 0.932997   0.286497    0.512484      0.759955   0.939985   0.432341\n",
       " 0.120742   0.467765    0.812259   …  0.766405   0.0367783  0.103072\n",
       " 0.269098   0.684918    0.855942      0.155957   0.707839   0.492118\n",
       " 0.0709307  0.189344    0.371036      0.064961   0.608424   0.41663\n",
       " ⋮                                 ⋱                        \n",
       " 0.879304   0.987886    0.229584      0.423083   0.861781   0.134945\n",
       " 0.754965   0.600017    0.498787      0.0758788  0.0886346  0.432623\n",
       " 0.170082   0.59475     0.428682   …  0.420205   0.833453   0.51658\n",
       " 0.64004    0.816912    0.782219      0.266337   0.380474   0.36327\n",
       " 0.499439   0.717217    0.0625232     0.564627   0.501527   0.648257\n",
       " 0.662541   0.367817    0.966041      0.0789957  0.327314   0.827625\n",
       " 0.9314     0.326224    0.10941       0.308467   0.23607    0.982758\n",
       " 0.143566   0.804189    0.654912   …  0.0646843  0.911657   0.344508\n",
       " 0.322931   0.588407    0.176134      0.954792   0.354039   0.212988\n",
       " 0.308703   0.221739    0.588612      0.921901   0.300948   0.0555411\n",
       " 0.845507   0.134429    0.318678      0.823211   0.311328   0.465278\n",
       " 0.165459   0.0559445   0.621579      0.153315   0.143658   0.0995081"
      ]
     },
     "execution_count": 14,
     "metadata": {},
     "output_type": "execute_result"
    }
   ],
   "source": [
    "X = A \\ B"
   ]
  },
  {
   "cell_type": "markdown",
   "id": "9e9788ca-6bbc-44b8-8e58-58b6569638c3",
   "metadata": {
    "slideshow": {
     "slide_type": "subslide"
    },
    "tags": []
   },
   "source": [
    "And this is how you would use `cuFFT` to solve for the FFT"
   ]
  },
  {
   "cell_type": "code",
   "execution_count": 15,
   "id": "0855097f-674b-47b8-a614-e5be6d6a6b32",
   "metadata": {
    "slideshow": {
     "slide_type": "fragment"
    },
    "tags": []
   },
   "outputs": [],
   "source": [
    "using CUDA.CUFFT"
   ]
  },
  {
   "cell_type": "code",
   "execution_count": 16,
   "id": "78158b08-d71b-45c0-b5a6-730afc0da145",
   "metadata": {
    "slideshow": {
     "slide_type": "fragment"
    },
    "tags": []
   },
   "outputs": [
    {
     "data": {
      "text/plain": [
       "100×100 CuArray{ComplexF32, 2, CUDA.Mem.DeviceBuffer}:\n",
       "  4996.56+0.0im        4.46587-32.3087im  …   4.46586+32.3087im\n",
       " -20.9568+0.517911im   5.85378-33.298im       8.05122+20.0575im\n",
       " -2.38137+18.2609im   -15.4028+15.9944im      27.5542+28.7656im\n",
       "  17.2377-0.114767im  -16.3761+0.62662im      1.79021+19.8728im\n",
       " -8.86416+10.7737im    36.1061+44.3623im     -8.89453+23.4954im\n",
       "  14.4473+17.173im     13.6746+3.83518im  …  -2.07378-14.7015im\n",
       " -2.75777-39.7336im    5.54285-23.1793im      17.6668-16.4101im\n",
       "  6.87605-0.647937im   42.6327+9.88688im       5.2318+11.3489im\n",
       "  3.76207+5.34016im   -7.09813+4.564im        10.5995-28.0299im\n",
       "   -7.505+6.11845im   0.366056-21.036im      -18.8902-45.8033im\n",
       "  30.8541+10.1076im   -4.26083+22.0396im  …  -27.7394+15.4419im\n",
       "  20.4324+24.0654im     -23.65-36.5723im      17.2436+16.5718im\n",
       " -5.07428-24.5589im   -18.8063+9.97476im     -16.3899+12.5753im\n",
       "         ⋮                                ⋱  \n",
       " -5.07428+24.5589im   -16.3899-12.5753im     -18.8063-9.97476im\n",
       "  20.4324-24.0654im    17.2436-16.5718im       -23.65+36.5723im\n",
       "  30.8541-10.1076im   -27.7394-15.4419im  …  -4.26083-22.0396im\n",
       " -7.50499-6.11845im   -18.8902+45.8033im     0.366064+21.036im\n",
       "  3.76207-5.34015im    10.5995+28.0299im     -7.09813-4.56399im\n",
       "  6.87604+0.647937im    5.2318-11.3489im      42.6327-9.88688im\n",
       " -2.75777+39.7336im    17.6668+16.4101im      5.54286+23.1793im\n",
       "  14.4473-17.173im    -2.07379+14.7015im  …   13.6746-3.83519im\n",
       " -8.86417-10.7737im   -8.89453-23.4954im      36.1061-44.3623im\n",
       "  17.2377+0.114766im   1.79021-19.8727im     -16.3762-0.62662im\n",
       " -2.38136-18.2609im    27.5542-28.7656im     -15.4028-15.9944im\n",
       " -20.9568-0.517912im   8.05121-20.0575im      5.85377+33.298im"
      ]
     },
     "execution_count": 16,
     "metadata": {},
     "output_type": "execute_result"
    }
   ],
   "source": [
    "fft(A)"
   ]
  },
  {
   "cell_type": "markdown",
   "id": "a9be4e28-8f47-4ad7-9848-f539d4b2f0b9",
   "metadata": {
    "slideshow": {
     "slide_type": "subslide"
    },
    "tags": []
   },
   "source": [
    "Note that `broadcast`, `map`, `reduce`, `accumulate` work equally elegantly"
   ]
  },
  {
   "cell_type": "markdown",
   "id": "03cd265a-5c75-411f-bf15-4ce4c92e5354",
   "metadata": {
    "slideshow": {
     "slide_type": "slide"
    },
    "tags": []
   },
   "source": [
    "## Writing your own kernels"
   ]
  },
  {
   "cell_type": "markdown",
   "id": "0efe0340-c5a7-46c7-933f-210829e84e62",
   "metadata": {
    "slideshow": {
     "slide_type": "subslide"
    },
    "tags": []
   },
   "source": [
    "We define the Julia method normally"
   ]
  },
  {
   "cell_type": "code",
   "execution_count": 17,
   "id": "50ba1629-4a22-4094-af42-442f38dd0580",
   "metadata": {
    "slideshow": {
     "slide_type": "fragment"
    },
    "tags": []
   },
   "outputs": [
    {
     "data": {
      "text/plain": [
       "vadd! (generic function with 1 method)"
      ]
     },
     "execution_count": 17,
     "metadata": {},
     "output_type": "execute_result"
    }
   ],
   "source": [
    "function vadd!(c, a, b)\n",
    "    for i in 1:length(a)\n",
    "        @inbounds c[i] = a[i] + b[i]\n",
    "    end\n",
    "end"
   ]
  },
  {
   "cell_type": "markdown",
   "id": "359b95db-2583-47a2-975c-cfb20f85f53f",
   "metadata": {
    "slideshow": {
     "slide_type": "subslide"
    },
    "tags": []
   },
   "source": [
    "If we call it with CPU data ... it is executed on CPU:"
   ]
  },
  {
   "cell_type": "code",
   "execution_count": 19,
   "id": "eb64106a-1b0a-4e89-be04-4e5c2571030d",
   "metadata": {
    "slideshow": {
     "slide_type": "fragment"
    },
    "tags": []
   },
   "outputs": [],
   "source": [
    "A = zeros(10) .+ 5.0\n",
    "B = ones(10)\n",
    "C = similar(B)\n",
    "vadd!(C, A, B)"
   ]
  },
  {
   "cell_type": "markdown",
   "id": "0fd7029a-1450-435d-bb48-c1942b1b024e",
   "metadata": {
    "slideshow": {
     "slide_type": "subslide"
    },
    "tags": []
   },
   "source": [
    "And if we call if with GPU data, and we include the `@cuda` macro, then it's executed on GPU"
   ]
  },
  {
   "cell_type": "code",
   "execution_count": 20,
   "id": "bbebfcc1-af6d-4590-b420-d0aadddb281e",
   "metadata": {
    "slideshow": {
     "slide_type": "fragment"
    },
    "tags": []
   },
   "outputs": [
    {
     "data": {
      "text/plain": [
       "CUDA.HostKernel{typeof(vadd!), Tuple{CuDeviceVector{Float64, 1}, CuDeviceVector{Float64, 1}, CuDeviceVector{Float64, 1}}}(vadd!, CuFunction(Ptr{Nothing} @0x000000003dd6ae70, CuModule(Ptr{Nothing} @0x000000003f8fa7b0, CuContext(0x000000000203ce50, instance fbd34bc72a495c40))), CUDA.KernelState(Ptr{Nothing} @0x00001531fb200000))"
      ]
     },
     "execution_count": 20,
     "metadata": {},
     "output_type": "execute_result"
    }
   ],
   "source": [
    "A_d = CuArray(A)\n",
    "B_d = CuArray(B)\n",
    "C_d = similar(B_d)\n",
    "\n",
    "@cuda vadd!(C_d, A_d, B_d)"
   ]
  },
  {
   "cell_type": "markdown",
   "id": "491a29f9-b4ce-4962-b85a-7949fa87bb9c",
   "metadata": {
    "slideshow": {
     "slide_type": "subslide"
    },
    "tags": []
   },
   "source": [
    "`@cuda` lets you specify the number of threads and blocks (e.g. `@cuda threads=256 blocks=numblocks vadd!(C_d, A_d, B_d)`). The CUDA package also wraps the nsight systems profiler using the `@profile` macro. This doesn't work in the REPL."
   ]
  },
  {
   "cell_type": "markdown",
   "id": "5f5bfcb7-1633-41a9-90d2-042eea21a36d",
   "metadata": {
    "slideshow": {
     "slide_type": "fragment"
    },
    "tags": []
   },
   "source": [
    "Also check out [KernelAbstractions.jl](https://github.com/JuliaGPU/KernelAbstractions.jl), which helps you write vendor-agnostic code."
   ]
  }
 ],
 "metadata": {
  "kernelspec": {
   "display_name": "Julia 1.8.1",
   "language": "julia",
   "name": "julia-1.8"
  },
  "language_info": {
   "file_extension": ".jl",
   "mimetype": "application/julia",
   "name": "julia",
   "version": "1.8.1"
  }
 },
 "nbformat": 4,
 "nbformat_minor": 5
}
