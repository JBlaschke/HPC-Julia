{
 "cells": [
  {
   "cell_type": "markdown",
   "id": "unlimited-encyclopedia",
   "metadata": {
    "slideshow": {
     "slide_type": "slide"
    },
    "tags": []
   },
   "source": [
    "# Getting Started With Julia\n",
    "([Back to Overview](../index.html#/0/2))\n",
    "\n",
    "Get Julia:\n",
    "1. Debian/Ubuntu: `apt-get install julia`\n",
    "2. macOS: `brew install --cask julia`\n",
    "3. Juliaup: https://github.com/JuliaLang/juliaup\n",
    "4. Manual install: https://julialang.org/downloads/"
   ]
  },
  {
   "cell_type": "markdown",
   "id": "90b5e212-265b-4636-b9cf-d618d1e2ad09",
   "metadata": {
    "slideshow": {
     "slide_type": "subslide"
    },
    "tags": []
   },
   "source": [
    "Interact with Julia using:"
   ]
  },
  {
   "cell_type": "markdown",
   "id": "instant-meeting",
   "metadata": {
    "slideshow": {
     "slide_type": "subslide"
    },
    "tags": []
   },
   "source": [
    "### Option 1: The REPL: `julia`\n",
    "\n",
    "![repl](repl.png)"
   ]
  },
  {
   "cell_type": "markdown",
   "id": "public-affiliation",
   "metadata": {
    "slideshow": {
     "slide_type": "subslide"
    },
    "tags": []
   },
   "source": [
    "### Option 2: Your favorite editor/CLI\n",
    "\n",
    "```bash\n",
    "vim hello.jl\n",
    "julia hello.jl\n",
    "```"
   ]
  },
  {
   "cell_type": "markdown",
   "id": "exclusive-offering",
   "metadata": {
    "slideshow": {
     "slide_type": "subslide"
    },
    "tags": []
   },
   "source": [
    "### Option 3: `IJulia` + Jupyter:\n",
    "\n",
    "```julia\n",
    "# Install IJulia\n",
    "import Pkg\n",
    "Pkg.add(\"IJulia\")\n",
    "\n",
    "# Install the Jupyter kernel\n",
    "using IJulia\n",
    "installkernel(\"Julia\")\n",
    "```\n",
    "\n",
    "... then start your favorite Jupyter instance\n",
    "\n",
    "**We'll be using Jupyter for the rest of this tutorial**"
   ]
  },
  {
   "cell_type": "markdown",
   "id": "owned-wales",
   "metadata": {
    "slideshow": {
     "slide_type": "subslide"
    },
    "tags": []
   },
   "source": [
    "### Option 4: Dedicated IDE\n",
    "\n",
    "* Juno https://junolab.org/\n",
    "* VScode https://code.visualstudio.com/docs/languages/julia\n",
    "\n",
    "![ide](ide.png)"
   ]
  },
  {
   "cell_type": "markdown",
   "id": "c8b7bbf3-dc9b-4ab4-bfbb-93126b62a43e",
   "metadata": {
    "slideshow": {
     "slide_type": "slide"
    },
    "tags": []
   },
   "source": [
    "## First Steps"
   ]
  },
  {
   "cell_type": "markdown",
   "id": "d0a6bd0e-e0b2-4b82-96a5-322e31ecf8ec",
   "metadata": {
    "slideshow": {
     "slide_type": "subslide"
    },
    "tags": []
   },
   "source": [
    "Let's start with Hello World"
   ]
  },
  {
   "cell_type": "code",
   "execution_count": 11,
   "id": "e841f919-16e2-4418-9089-adbc3fddcd6f",
   "metadata": {
    "slideshow": {
     "slide_type": "fragment"
    },
    "tags": []
   },
   "outputs": [
    {
     "name": "stdout",
     "output_type": "stream",
     "text": [
      "Hello World\n"
     ]
    }
   ],
   "source": [
    "println(\"Hello World\")"
   ]
  },
  {
   "cell_type": "markdown",
   "id": "western-spell",
   "metadata": {
    "slideshow": {
     "slide_type": "slide"
    },
    "tags": []
   },
   "source": [
    "## Package Management"
   ]
  },
  {
   "cell_type": "markdown",
   "id": "cbaf6fcc-887a-426e-8f90-81f567ed4e23",
   "metadata": {
    "slideshow": {
     "slide_type": "fragment"
    },
    "tags": []
   },
   "source": [
    "Two ways to manage packages:\n",
    "1. You can use the `Pkg` module from within Julia.\n",
    "2. From the Julia REPL you can type `]` to enter the Package Manager's CLI"
   ]
  },
  {
   "cell_type": "markdown",
   "id": "opened-reconstruction",
   "metadata": {
    "slideshow": {
     "slide_type": "subslide"
    },
    "tags": []
   },
   "source": [
    "Eg. to add the `CSV` package using the `Pkg` module run:\n",
    "\n",
    "```julia\n",
    "import Pkg\n",
    "Pkg.add(\"CSV\")\n",
    "```"
   ]
  },
  {
   "cell_type": "code",
   "execution_count": 4,
   "id": "0caca0be-0f5b-4c2a-83e9-eab13e5801e0",
   "metadata": {
    "slideshow": {
     "slide_type": "skip"
    },
    "tags": []
   },
   "outputs": [
    {
     "name": "stderr",
     "output_type": "stream",
     "text": [
      "\u001b[32m\u001b[1m    Updating\u001b[22m\u001b[39m `~/.julia/environments/v1.7/Project.toml`\n",
      " \u001b[90m [336ed68f] \u001b[39m\u001b[91m- CSV v0.10.2\u001b[39m\n",
      "\u001b[32m\u001b[1m    Updating\u001b[22m\u001b[39m `~/.julia/environments/v1.7/Manifest.toml`\n",
      " \u001b[90m [336ed68f] \u001b[39m\u001b[91m- CSV v0.10.2\u001b[39m\n",
      " \u001b[90m [944b1d66] \u001b[39m\u001b[91m- CodecZlib v0.7.0\u001b[39m\n",
      " \u001b[90m [91c51154] \u001b[39m\u001b[91m- SentinelArrays v1.3.12\u001b[39m\n",
      " \u001b[90m [3bb67fe8] \u001b[39m\u001b[91m- TranscodingStreams v0.9.6\u001b[39m\n",
      " \u001b[90m [ea10d353] \u001b[39m\u001b[91m- WeakRefStrings v1.4.2\u001b[39m\n"
     ]
    }
   ],
   "source": [
    "import Pkg\n",
    "Pkg.rm(\"CSV\")"
   ]
  },
  {
   "cell_type": "code",
   "execution_count": 5,
   "id": "55bde292-b843-4bd0-a1c0-b396ec58aa53",
   "metadata": {
    "slideshow": {
     "slide_type": "fragment"
    },
    "tags": []
   },
   "outputs": [
    {
     "name": "stderr",
     "output_type": "stream",
     "text": [
      "\u001b[32m\u001b[1m   Resolving\u001b[22m\u001b[39m package versions...\n",
      "\u001b[32m\u001b[1m    Updating\u001b[22m\u001b[39m `~/.julia/environments/v1.7/Project.toml`\n",
      " \u001b[90m [336ed68f] \u001b[39m\u001b[92m+ CSV v0.10.2\u001b[39m\n",
      "\u001b[32m\u001b[1m    Updating\u001b[22m\u001b[39m `~/.julia/environments/v1.7/Manifest.toml`\n",
      " \u001b[90m [336ed68f] \u001b[39m\u001b[92m+ CSV v0.10.2\u001b[39m\n",
      " \u001b[90m [944b1d66] \u001b[39m\u001b[92m+ CodecZlib v0.7.0\u001b[39m\n",
      " \u001b[90m [91c51154] \u001b[39m\u001b[92m+ SentinelArrays v1.3.12\u001b[39m\n",
      " \u001b[90m [3bb67fe8] \u001b[39m\u001b[92m+ TranscodingStreams v0.9.6\u001b[39m\n",
      " \u001b[90m [ea10d353] \u001b[39m\u001b[92m+ WeakRefStrings v1.4.2\u001b[39m\n"
     ]
    }
   ],
   "source": [
    "import Pkg\n",
    "Pkg.add(\"CSV\")"
   ]
  },
  {
   "cell_type": "markdown",
   "id": "53bde661-4883-4206-b548-1c984e0daf56",
   "metadata": {
    "slideshow": {
     "slide_type": "subslide"
    },
    "tags": []
   },
   "source": [
    "When you're in the REPL you can type `]` to enter the Package Manager's CLI (note that the promt turns blue and has the format `(environment name) pkg>`). Eg. to add the `CSV` package using the Package Manager's CLI in the REPL, type: `add CSV` in the Package manager"
   ]
  },
  {
   "cell_type": "markdown",
   "id": "b0b369b7-34be-42c6-85ea-126849dd08c7",
   "metadata": {
    "slideshow": {
     "slide_type": "fragment"
    },
    "tags": []
   },
   "source": [
    "![repl](pkg.png)\n",
    "\n",
    "(hit ESC to go back to normal mode)"
   ]
  },
  {
   "cell_type": "markdown",
   "id": "e3b7945c-7e6b-4b3f-a9dc-6d8392da9067",
   "metadata": {
    "slideshow": {
     "slide_type": "slide"
    },
    "tags": []
   },
   "source": [
    "## Environments"
   ]
  },
  {
   "cell_type": "markdown",
   "id": "6dd9cfc4-187e-4522-844a-14b8a085e6cb",
   "metadata": {
    "slideshow": {
     "slide_type": "fragment"
    },
    "tags": []
   },
   "source": [
    "Environments are a good way of managing dependencies"
   ]
  },
  {
   "cell_type": "code",
   "execution_count": 5,
   "id": "160db2b9-dc28-42d9-8693-887e4c3edb74",
   "metadata": {
    "slideshow": {
     "slide_type": "fragment"
    },
    "tags": []
   },
   "outputs": [
    {
     "data": {
      "text/plain": [
       "\"/private/var/folders/gy/fk8y1bkd5b78l0n687jwhzkc0029yh/T/jl_6mEUMv\""
      ]
     },
     "execution_count": 5,
     "metadata": {},
     "output_type": "execute_result"
    }
   ],
   "source": [
    "cd(mktempdir())\n",
    "pwd() # print current directory"
   ]
  },
  {
   "cell_type": "markdown",
   "id": "38d5967b-940e-4cbe-bfab-0a42b70c2a02",
   "metadata": {
    "slideshow": {
     "slide_type": "fragment"
    },
    "tags": []
   },
   "source": [
    "This creates an empty temporary folder"
   ]
  },
  {
   "cell_type": "code",
   "execution_count": 10,
   "id": "222444a4-3051-4ad2-a429-3f037ef01cc7",
   "metadata": {
    "slideshow": {
     "slide_type": "fragment"
    },
    "tags": []
   },
   "outputs": [
    {
     "data": {
      "text/plain": [
       "String[]"
      ]
     },
     "execution_count": 10,
     "metadata": {},
     "output_type": "execute_result"
    }
   ],
   "source": [
    "readdir()"
   ]
  },
  {
   "cell_type": "markdown",
   "id": "460d12ec-1a8a-4684-ba9a-bb2399e43f57",
   "metadata": {
    "slideshow": {
     "slide_type": "subslide"
    },
    "tags": []
   },
   "source": [
    "Let's use this directory as a Julia environment"
   ]
  },
  {
   "cell_type": "code",
   "execution_count": 3,
   "id": "0f7e3938-25e1-47fe-8566-c113fee214d3",
   "metadata": {
    "slideshow": {
     "slide_type": "fragment"
    },
    "tags": []
   },
   "outputs": [],
   "source": [
    "import Pkg"
   ]
  },
  {
   "cell_type": "code",
   "execution_count": 17,
   "id": "7b6e4158-9fe6-43c5-875e-16e67ae5e01f",
   "metadata": {
    "slideshow": {
     "slide_type": "fragment"
    },
    "tags": []
   },
   "outputs": [
    {
     "name": "stderr",
     "output_type": "stream",
     "text": [
      "\u001b[32m\u001b[1m  Activating\u001b[22m\u001b[39m new project at `/private/var/folders/gy/fk8y1bkd5b78l0n687jwhzkc0029yh/T/jl_6mEUMv`\n"
     ]
    }
   ],
   "source": [
    "Pkg.activate(\".\")"
   ]
  },
  {
   "cell_type": "code",
   "execution_count": 18,
   "id": "de9d849c-5cc0-4431-88c9-3b1dbf7a0ef2",
   "metadata": {
    "slideshow": {
     "slide_type": "fragment"
    },
    "tags": []
   },
   "outputs": [
    {
     "name": "stderr",
     "output_type": "stream",
     "text": [
      "\u001b[32m\u001b[1m   Resolving\u001b[22m\u001b[39m package versions...\n",
      "\u001b[32m\u001b[1m    Updating\u001b[22m\u001b[39m `/private/var/folders/gy/fk8y1bkd5b78l0n687jwhzkc0029yh/T/jl_6mEUMv/Project.toml`\n",
      " \u001b[90m [336ed68f] \u001b[39m\u001b[92m+ CSV v0.10.4\u001b[39m\n",
      "\u001b[32m\u001b[1m    Updating\u001b[22m\u001b[39m `/private/var/folders/gy/fk8y1bkd5b78l0n687jwhzkc0029yh/T/jl_6mEUMv/Manifest.toml`\n",
      " \u001b[90m [336ed68f] \u001b[39m\u001b[92m+ CSV v0.10.4\u001b[39m\n",
      " \u001b[90m [944b1d66] \u001b[39m\u001b[92m+ CodecZlib v0.7.0\u001b[39m\n",
      " \u001b[90m [34da2185] \u001b[39m\u001b[92m+ Compat v3.42.0\u001b[39m\n",
      " \u001b[90m [9a962f9c] \u001b[39m\u001b[92m+ DataAPI v1.9.0\u001b[39m\n",
      " \u001b[90m [e2d170a0] \u001b[39m\u001b[92m+ DataValueInterfaces v1.0.0\u001b[39m\n",
      " \u001b[90m [48062228] \u001b[39m\u001b[92m+ FilePathsBase v0.9.18\u001b[39m\n",
      " \u001b[90m [842dd82b] \u001b[39m\u001b[92m+ InlineStrings v1.1.2\u001b[39m\n",
      " \u001b[90m [82899510] \u001b[39m\u001b[92m+ IteratorInterfaceExtensions v1.0.0\u001b[39m\n",
      " \u001b[90m [bac558e1] \u001b[39m\u001b[92m+ OrderedCollections v1.4.1\u001b[39m\n",
      " \u001b[90m [69de0a69] \u001b[39m\u001b[92m+ Parsers v2.2.4\u001b[39m\n",
      " \u001b[90m [2dfb63ee] \u001b[39m\u001b[92m+ PooledArrays v1.4.1\u001b[39m\n",
      " \u001b[90m [91c51154] \u001b[39m\u001b[92m+ SentinelArrays v1.3.12\u001b[39m\n",
      " \u001b[90m [3783bdb8] \u001b[39m\u001b[92m+ TableTraits v1.0.1\u001b[39m\n",
      " \u001b[90m [bd369af6] \u001b[39m\u001b[92m+ Tables v1.7.0\u001b[39m\n",
      " \u001b[90m [3bb67fe8] \u001b[39m\u001b[92m+ TranscodingStreams v0.9.6\u001b[39m\n",
      " \u001b[90m [ea10d353] \u001b[39m\u001b[92m+ WeakRefStrings v1.4.2\u001b[39m\n",
      " \u001b[90m [0dad84c5] \u001b[39m\u001b[92m+ ArgTools\u001b[39m\n",
      " \u001b[90m [56f22d72] \u001b[39m\u001b[92m+ Artifacts\u001b[39m\n",
      " \u001b[90m [2a0f44e3] \u001b[39m\u001b[92m+ Base64\u001b[39m\n",
      " \u001b[90m [ade2ca70] \u001b[39m\u001b[92m+ Dates\u001b[39m\n",
      " \u001b[90m [8bb1440f] \u001b[39m\u001b[92m+ DelimitedFiles\u001b[39m\n",
      " \u001b[90m [8ba89e20] \u001b[39m\u001b[92m+ Distributed\u001b[39m\n",
      " \u001b[90m [f43a241f] \u001b[39m\u001b[92m+ Downloads\u001b[39m\n",
      " \u001b[90m [9fa8497b] \u001b[39m\u001b[92m+ Future\u001b[39m\n",
      " \u001b[90m [b77e0a4c] \u001b[39m\u001b[92m+ InteractiveUtils\u001b[39m\n",
      " \u001b[90m [b27032c2] \u001b[39m\u001b[92m+ LibCURL\u001b[39m\n",
      " \u001b[90m [76f85450] \u001b[39m\u001b[92m+ LibGit2\u001b[39m\n",
      " \u001b[90m [8f399da3] \u001b[39m\u001b[92m+ Libdl\u001b[39m\n",
      " \u001b[90m [37e2e46d] \u001b[39m\u001b[92m+ LinearAlgebra\u001b[39m\n",
      " \u001b[90m [56ddb016] \u001b[39m\u001b[92m+ Logging\u001b[39m\n",
      " \u001b[90m [d6f4376e] \u001b[39m\u001b[92m+ Markdown\u001b[39m\n",
      " \u001b[90m [a63ad114] \u001b[39m\u001b[92m+ Mmap\u001b[39m\n",
      " \u001b[90m [ca575930] \u001b[39m\u001b[92m+ NetworkOptions\u001b[39m\n",
      " \u001b[90m [44cfe95a] \u001b[39m\u001b[92m+ Pkg\u001b[39m\n",
      " \u001b[90m [de0858da] \u001b[39m\u001b[92m+ Printf\u001b[39m\n",
      " \u001b[90m [3fa0cd96] \u001b[39m\u001b[92m+ REPL\u001b[39m\n",
      " \u001b[90m [9a3f8284] \u001b[39m\u001b[92m+ Random\u001b[39m\n",
      " \u001b[90m [ea8e919c] \u001b[39m\u001b[92m+ SHA\u001b[39m\n",
      " \u001b[90m [9e88b42a] \u001b[39m\u001b[92m+ Serialization\u001b[39m\n",
      " \u001b[90m [1a1011a3] \u001b[39m\u001b[92m+ SharedArrays\u001b[39m\n",
      " \u001b[90m [6462fe0b] \u001b[39m\u001b[92m+ Sockets\u001b[39m\n",
      " \u001b[90m [2f01184e] \u001b[39m\u001b[92m+ SparseArrays\u001b[39m\n",
      " \u001b[90m [10745b16] \u001b[39m\u001b[92m+ Statistics\u001b[39m\n",
      " \u001b[90m [fa267f1f] \u001b[39m\u001b[92m+ TOML\u001b[39m\n",
      " \u001b[90m [a4e569a6] \u001b[39m\u001b[92m+ Tar\u001b[39m\n",
      " \u001b[90m [8dfed614] \u001b[39m\u001b[92m+ Test\u001b[39m\n",
      " \u001b[90m [cf7118a7] \u001b[39m\u001b[92m+ UUIDs\u001b[39m\n",
      " \u001b[90m [4ec0a83e] \u001b[39m\u001b[92m+ Unicode\u001b[39m\n",
      " \u001b[90m [e66e0078] \u001b[39m\u001b[92m+ CompilerSupportLibraries_jll\u001b[39m\n",
      " \u001b[90m [deac9b47] \u001b[39m\u001b[92m+ LibCURL_jll\u001b[39m\n",
      " \u001b[90m [29816b5a] \u001b[39m\u001b[92m+ LibSSH2_jll\u001b[39m\n",
      " \u001b[90m [c8ffd9c3] \u001b[39m\u001b[92m+ MbedTLS_jll\u001b[39m\n",
      " \u001b[90m [14a3606d] \u001b[39m\u001b[92m+ MozillaCACerts_jll\u001b[39m\n",
      " \u001b[90m [4536629a] \u001b[39m\u001b[92m+ OpenBLAS_jll\u001b[39m\n",
      " \u001b[90m [83775a58] \u001b[39m\u001b[92m+ Zlib_jll\u001b[39m\n",
      " \u001b[90m [8e850b90] \u001b[39m\u001b[92m+ libblastrampoline_jll\u001b[39m\n",
      " \u001b[90m [8e850ede] \u001b[39m\u001b[92m+ nghttp2_jll\u001b[39m\n",
      " \u001b[90m [3f19e933] \u001b[39m\u001b[92m+ p7zip_jll\u001b[39m\n"
     ]
    }
   ],
   "source": [
    "Pkg.add(\"CSV\")"
   ]
  },
  {
   "cell_type": "code",
   "execution_count": 19,
   "id": "7d1e4cf4-bb7d-4ea3-8f52-33d8e1d2d199",
   "metadata": {
    "slideshow": {
     "slide_type": "subslide"
    },
    "tags": []
   },
   "outputs": [
    {
     "data": {
      "text/plain": [
       "2-element Vector{String}:\n",
       " \"Manifest.toml\"\n",
       " \"Project.toml\""
      ]
     },
     "execution_count": 19,
     "metadata": {},
     "output_type": "execute_result"
    }
   ],
   "source": [
    "readdir()"
   ]
  },
  {
   "cell_type": "markdown",
   "id": "encouraging-duplicate",
   "metadata": {
    "slideshow": {
     "slide_type": "slide"
    },
    "tags": []
   },
   "source": [
    "## Modules"
   ]
  },
  {
   "cell_type": "markdown",
   "id": "prospective-providence",
   "metadata": {
    "slideshow": {
     "slide_type": "fragment"
    },
    "tags": []
   },
   "source": [
    "Modules encapsulate namespaces, and are really similar to Python modules: https://docs.julialang.org/en/v1/manual/modules/"
   ]
  },
  {
   "cell_type": "markdown",
   "id": "related-sweden",
   "metadata": {
    "slideshow": {
     "slide_type": "fragment"
    },
    "tags": []
   },
   "source": [
    "Created using the `module` keyword. They are frequently used to encapsulate source files into their own name-space:\n",
    "```julia\n",
    "module MyModule\n",
    "\n",
    "include(\"my_function.jl\")\n",
    "\n",
    "export my_func\n",
    "\n",
    "end\n",
    "```\n",
    "With the external source file `my_function.jl`:\n",
    "```julia\n",
    "function my_helper(...)\n",
    "    ...\n",
    "end\n",
    "\n",
    "function my_func(...)\n",
    "    ...\n",
    "    my_helper(...)\n",
    "    ...\n",
    "end\n",
    "```\n",
    "This hides `my_helper` from all functions outside of `MyModule`"
   ]
  },
  {
   "cell_type": "markdown",
   "id": "brown-assault",
   "metadata": {
    "slideshow": {
     "slide_type": "slide"
    },
    "tags": []
   },
   "source": [
    "### So far everything is (more or less) identical to python ... so let's see where they diverge"
   ]
  },
  {
   "cell_type": "markdown",
   "id": "together-munich",
   "metadata": {
    "slideshow": {
     "slide_type": "slide"
    },
    "tags": []
   },
   "source": [
    "## Function Basics"
   ]
  },
  {
   "cell_type": "markdown",
   "id": "strong-simple",
   "metadata": {
    "slideshow": {
     "slide_type": "fragment"
    },
    "tags": []
   },
   "source": [
    "The `function` keyword is used to declare a (multi-line) function. **The last statement is automatically returned**. Intermediate returns can be triggered using the `return` keyword"
   ]
  },
  {
   "cell_type": "code",
   "execution_count": 1,
   "id": "residential-campus",
   "metadata": {
    "slideshow": {
     "slide_type": "fragment"
    },
    "tags": []
   },
   "outputs": [
    {
     "data": {
      "text/plain": [
       "fib_1 (generic function with 1 method)"
      ]
     },
     "execution_count": 1,
     "metadata": {},
     "output_type": "execute_result"
    }
   ],
   "source": [
    "function fib_1(n)\n",
    "    if n <= 2\n",
    "        return 1\n",
    "    end\n",
    "\n",
    "    fib_1(n - 1) + fib_1(n - 2)\n",
    "end"
   ]
  },
  {
   "cell_type": "code",
   "execution_count": 2,
   "id": "invalid-eclipse",
   "metadata": {
    "slideshow": {
     "slide_type": "fragment"
    },
    "tags": []
   },
   "outputs": [
    {
     "data": {
      "text/plain": [
       "2178309"
      ]
     },
     "execution_count": 2,
     "metadata": {},
     "output_type": "execute_result"
    }
   ],
   "source": [
    "fib_1(32)"
   ]
  },
  {
   "cell_type": "markdown",
   "id": "express-poster",
   "metadata": {
    "slideshow": {
     "slide_type": "slide"
    },
    "tags": []
   },
   "source": [
    "## Code Reflection and Introspection"
   ]
  },
  {
   "cell_type": "markdown",
   "id": "prospective-registrar",
   "metadata": {
    "slideshow": {
     "slide_type": "fragment"
    },
    "tags": []
   },
   "source": [
    "We may also inspect the details the code using code introspection: https://docs.julialang.org/en/v1/devdocs/reflection/#Reflection-and-introspection"
   ]
  },
  {
   "cell_type": "markdown",
   "id": "stretch-sympathy",
   "metadata": {
    "slideshow": {
     "slide_type": "subslide"
    },
    "tags": []
   },
   "source": [
    "The `@code_lowered` macro gives is a (still somewhat abstract) idea what Julia actually _does_."
   ]
  },
  {
   "cell_type": "code",
   "execution_count": 3,
   "id": "comfortable-blackberry",
   "metadata": {
    "slideshow": {
     "slide_type": "fragment"
    },
    "tags": []
   },
   "outputs": [
    {
     "data": {
      "text/plain": [
       "CodeInfo(\n",
       "\u001b[90m1 ─\u001b[39m %1 = n <= 2\n",
       "\u001b[90m└──\u001b[39m      goto #3 if not %1\n",
       "\u001b[90m2 ─\u001b[39m      return 1\n",
       "\u001b[90m3 ─\u001b[39m %4 = n - 1\n",
       "\u001b[90m│  \u001b[39m %5 = Main.fib_1(%4)\n",
       "\u001b[90m│  \u001b[39m %6 = n - 2\n",
       "\u001b[90m│  \u001b[39m %7 = Main.fib_1(%6)\n",
       "\u001b[90m│  \u001b[39m %8 = %5 + %7\n",
       "\u001b[90m└──\u001b[39m      return %8\n",
       ")"
      ]
     },
     "execution_count": 3,
     "metadata": {},
     "output_type": "execute_result"
    }
   ],
   "source": [
    "@code_lowered fib_1(32)"
   ]
  },
  {
   "cell_type": "markdown",
   "id": "cross-raise",
   "metadata": {
    "slideshow": {
     "slide_type": "subslide"
    },
    "tags": []
   },
   "source": [
    "Since our function has only one _method_, the input type is irrelevant from this perspective"
   ]
  },
  {
   "cell_type": "code",
   "execution_count": 4,
   "id": "standard-prayer",
   "metadata": {
    "slideshow": {
     "slide_type": "fragment"
    },
    "tags": []
   },
   "outputs": [
    {
     "data": {
      "text/plain": [
       "CodeInfo(\n",
       "\u001b[90m1 ─\u001b[39m %1 = n <= 2\n",
       "\u001b[90m└──\u001b[39m      goto #3 if not %1\n",
       "\u001b[90m2 ─\u001b[39m      return 1\n",
       "\u001b[90m3 ─\u001b[39m %4 = n - 1\n",
       "\u001b[90m│  \u001b[39m %5 = Main.fib_1(%4)\n",
       "\u001b[90m│  \u001b[39m %6 = n - 2\n",
       "\u001b[90m│  \u001b[39m %7 = Main.fib_1(%6)\n",
       "\u001b[90m│  \u001b[39m %8 = %5 + %7\n",
       "\u001b[90m└──\u001b[39m      return %8\n",
       ")"
      ]
     },
     "execution_count": 4,
     "metadata": {},
     "output_type": "execute_result"
    }
   ],
   "source": [
    "@code_lowered fib_1(32.1)"
   ]
  },
  {
   "cell_type": "markdown",
   "id": "destroyed-lightning",
   "metadata": {
    "slideshow": {
     "slide_type": "subslide"
    },
    "tags": []
   },
   "source": [
    "And `@code_llvm` shows the llvm IR:"
   ]
  },
  {
   "cell_type": "code",
   "execution_count": 5,
   "id": "foster-football",
   "metadata": {
    "slideshow": {
     "slide_type": "fragment"
    },
    "tags": []
   },
   "outputs": [
    {
     "name": "stdout",
     "output_type": "stream",
     "text": [
      "\u001b[90m;  @ In[1]:1 within `fib_1'\u001b[39m\n",
      "\u001b[95mdefine\u001b[39m \u001b[36mi64\u001b[39m \u001b[93m@julia_fib_1_1429\u001b[39m\u001b[33m(\u001b[39m\u001b[36mi64\u001b[39m \u001b[95msignext\u001b[39m \u001b[0m%0\u001b[33m)\u001b[39m \u001b[33m{\u001b[39m\n",
      "\u001b[91mtop:\u001b[39m\n",
      "\u001b[90m;  @ In[1]:2 within `fib_1'\u001b[39m\n",
      "\u001b[90m; ┌ @ int.jl:442 within `<='\u001b[39m\n",
      "   \u001b[0m%1 \u001b[0m= \u001b[96m\u001b[1micmp\u001b[22m\u001b[39m \u001b[96m\u001b[1msgt\u001b[22m\u001b[39m \u001b[36mi64\u001b[39m \u001b[0m%0\u001b[0m, \u001b[33m2\u001b[39m\n",
      "\u001b[90m; └\u001b[39m\n",
      "  \u001b[96m\u001b[1mbr\u001b[22m\u001b[39m \u001b[36mi1\u001b[39m \u001b[0m%1\u001b[0m, \u001b[36mlabel\u001b[39m \u001b[91m%L4\u001b[39m\u001b[0m, \u001b[36mlabel\u001b[39m \u001b[91m%L3\u001b[39m\n",
      "\n",
      "\u001b[91mL3:\u001b[39m                                               \u001b[90m; preds = %top\u001b[39m\n",
      "\u001b[90m;  @ In[1]:3 within `fib_1'\u001b[39m\n",
      "  \u001b[96m\u001b[1mret\u001b[22m\u001b[39m \u001b[36mi64\u001b[39m \u001b[33m1\u001b[39m\n",
      "\n",
      "\u001b[91mL4:\u001b[39m                                               \u001b[90m; preds = %top\u001b[39m\n",
      "\u001b[90m;  @ In[1]:6 within `fib_1'\u001b[39m\n",
      "\u001b[90m; ┌ @ int.jl:86 within `-'\u001b[39m\n",
      "   \u001b[0m%2 \u001b[0m= \u001b[96m\u001b[1madd\u001b[22m\u001b[39m \u001b[36mi64\u001b[39m \u001b[0m%0\u001b[0m, \u001b[33m-1\u001b[39m\n",
      "\u001b[90m; └\u001b[39m\n",
      "  \u001b[0m%3 \u001b[0m= \u001b[96m\u001b[1mcall\u001b[22m\u001b[39m \u001b[36mi64\u001b[39m \u001b[93m@julia_fib_1_1429\u001b[39m\u001b[33m(\u001b[39m\u001b[36mi64\u001b[39m \u001b[95msignext\u001b[39m \u001b[0m%2\u001b[33m)\u001b[39m\n",
      "\u001b[90m; ┌ @ int.jl:86 within `-'\u001b[39m\n",
      "   \u001b[0m%4 \u001b[0m= \u001b[96m\u001b[1madd\u001b[22m\u001b[39m \u001b[36mi64\u001b[39m \u001b[0m%0\u001b[0m, \u001b[33m-2\u001b[39m\n",
      "\u001b[90m; └\u001b[39m\n",
      "  \u001b[0m%5 \u001b[0m= \u001b[96m\u001b[1mcall\u001b[22m\u001b[39m \u001b[36mi64\u001b[39m \u001b[93m@julia_fib_1_1429\u001b[39m\u001b[33m(\u001b[39m\u001b[36mi64\u001b[39m \u001b[95msignext\u001b[39m \u001b[0m%4\u001b[33m)\u001b[39m\n",
      "\u001b[90m; ┌ @ int.jl:87 within `+'\u001b[39m\n",
      "   \u001b[0m%6 \u001b[0m= \u001b[96m\u001b[1madd\u001b[22m\u001b[39m \u001b[36mi64\u001b[39m \u001b[0m%5\u001b[0m, \u001b[0m%3\n",
      "\u001b[90m; └\u001b[39m\n",
      "  \u001b[96m\u001b[1mret\u001b[22m\u001b[39m \u001b[36mi64\u001b[39m \u001b[0m%6\n",
      "\u001b[33m}\u001b[39m\n"
     ]
    }
   ],
   "source": [
    "@code_llvm fib_1(32)"
   ]
  },
  {
   "cell_type": "markdown",
   "id": "artificial-corrections",
   "metadata": {
    "slideshow": {
     "slide_type": "subslide"
    },
    "tags": []
   },
   "source": [
    "And now we can see that Julia generates _different_ llvm IR code depending in data types"
   ]
  },
  {
   "cell_type": "code",
   "execution_count": 6,
   "id": "renewable-scale",
   "metadata": {
    "slideshow": {
     "slide_type": "fragment"
    },
    "tags": []
   },
   "outputs": [
    {
     "name": "stdout",
     "output_type": "stream",
     "text": [
      "\u001b[90m;  @ In[1]:1 within `fib_1'\u001b[39m\n",
      "\u001b[95mdefine\u001b[39m \u001b[36mi64\u001b[39m \u001b[93m@julia_fib_1_1462\u001b[39m\u001b[33m(\u001b[39m\u001b[36mdouble\u001b[39m \u001b[0m%0\u001b[33m)\u001b[39m \u001b[33m{\u001b[39m\n",
      "\u001b[91mtop:\u001b[39m\n",
      "\u001b[90m;  @ In[1]:2 within `fib_1'\u001b[39m\n",
      "\u001b[90m; ┌ @ float.jl:420 within `<='\u001b[39m\n",
      "\u001b[90m; │┌ @ bool.jl:37 within `|'\u001b[39m\n",
      "    \u001b[0m%1 \u001b[0m= \u001b[96m\u001b[1mfcmp\u001b[22m\u001b[39m \u001b[96m\u001b[1mugt\u001b[22m\u001b[39m \u001b[36mdouble\u001b[39m \u001b[0m%0\u001b[0m, \u001b[33m2.000000e+00\u001b[39m\n",
      "\u001b[90m; └└\u001b[39m\n",
      "  \u001b[96m\u001b[1mbr\u001b[22m\u001b[39m \u001b[36mi1\u001b[39m \u001b[0m%1\u001b[0m, \u001b[36mlabel\u001b[39m \u001b[91m%L12\u001b[39m\u001b[0m, \u001b[36mlabel\u001b[39m \u001b[91m%L11\u001b[39m\n",
      "\n",
      "\u001b[91mL11:\u001b[39m                                              \u001b[90m; preds = %top\u001b[39m\n",
      "\u001b[90m;  @ In[1]:3 within `fib_1'\u001b[39m\n",
      "  \u001b[96m\u001b[1mret\u001b[22m\u001b[39m \u001b[36mi64\u001b[39m \u001b[33m1\u001b[39m\n",
      "\n",
      "\u001b[91mL12:\u001b[39m                                              \u001b[90m; preds = %top\u001b[39m\n",
      "\u001b[90m;  @ In[1]:6 within `fib_1'\u001b[39m\n",
      "\u001b[90m; ┌ @ promotion.jl:323 within `-' @ float.jl:329\u001b[39m\n",
      "   \u001b[0m%2 \u001b[0m= \u001b[96m\u001b[1mfadd\u001b[22m\u001b[39m \u001b[36mdouble\u001b[39m \u001b[0m%0\u001b[0m, \u001b[33m-1.000000e+00\u001b[39m\n",
      "\u001b[90m; └\u001b[39m\n",
      "  \u001b[0m%3 \u001b[0m= \u001b[96m\u001b[1mcall\u001b[22m\u001b[39m \u001b[36mi64\u001b[39m \u001b[93m@julia_fib_1_1462\u001b[39m\u001b[33m(\u001b[39m\u001b[36mdouble\u001b[39m \u001b[0m%2\u001b[33m)\u001b[39m\n",
      "\u001b[90m; ┌ @ promotion.jl:323 within `-' @ float.jl:329\u001b[39m\n",
      "   \u001b[0m%4 \u001b[0m= \u001b[96m\u001b[1mfadd\u001b[22m\u001b[39m \u001b[36mdouble\u001b[39m \u001b[0m%0\u001b[0m, \u001b[33m-2.000000e+00\u001b[39m\n",
      "\u001b[90m; └\u001b[39m\n",
      "  \u001b[0m%5 \u001b[0m= \u001b[96m\u001b[1mcall\u001b[22m\u001b[39m \u001b[36mi64\u001b[39m \u001b[93m@julia_fib_1_1462\u001b[39m\u001b[33m(\u001b[39m\u001b[36mdouble\u001b[39m \u001b[0m%4\u001b[33m)\u001b[39m\n",
      "\u001b[90m; ┌ @ int.jl:87 within `+'\u001b[39m\n",
      "   \u001b[0m%6 \u001b[0m= \u001b[96m\u001b[1madd\u001b[22m\u001b[39m \u001b[36mi64\u001b[39m \u001b[0m%5\u001b[0m, \u001b[0m%3\n",
      "\u001b[90m; └\u001b[39m\n",
      "  \u001b[96m\u001b[1mret\u001b[22m\u001b[39m \u001b[36mi64\u001b[39m \u001b[0m%6\n",
      "\u001b[33m}\u001b[39m\n"
     ]
    }
   ],
   "source": [
    "@code_llvm fib_1(32.1)"
   ]
  },
  {
   "cell_type": "markdown",
   "id": "ranging-radical",
   "metadata": {
    "slideshow": {
     "slide_type": "subslide"
    },
    "tags": []
   },
   "source": [
    "Julia does compile different machine code for different input types. For more information go to:\n",
    "https://docs.julialang.org/en/v1/manual/integers-and-floating-point-numbers/#Integers-and-Floating-Point-Numbers and https://docs.julialang.org/en/v1/manual/types/"
   ]
  },
  {
   "cell_type": "markdown",
   "id": "incoming-abuse",
   "metadata": {
    "slideshow": {
     "slide_type": "slide"
    },
    "tags": []
   },
   "source": [
    "## Data types"
   ]
  },
  {
   "cell_type": "markdown",
   "id": "dutch-blind",
   "metadata": {
    "slideshow": {
     "slide_type": "fragment"
    },
    "tags": []
   },
   "source": [
    "Every data type is a first class citizen. They live in a tree, which can be interrogated using the `subtypes` command."
   ]
  },
  {
   "cell_type": "code",
   "execution_count": 7,
   "id": "dependent-netherlands",
   "metadata": {
    "slideshow": {
     "slide_type": "fragment"
    },
    "tags": []
   },
   "outputs": [
    {
     "data": {
      "text/plain": [
       "2-element Vector{Any}:\n",
       " Complex\n",
       " Real"
      ]
     },
     "execution_count": 7,
     "metadata": {},
     "output_type": "execute_result"
    }
   ],
   "source": [
    "subtypes(Number)"
   ]
  },
  {
   "cell_type": "code",
   "execution_count": 8,
   "id": "subsequent-listing",
   "metadata": {
    "slideshow": {
     "slide_type": "fragment"
    },
    "tags": []
   },
   "outputs": [
    {
     "data": {
      "text/plain": [
       "4-element Vector{Any}:\n",
       " AbstractFloat\n",
       " AbstractIrrational\n",
       " Integer\n",
       " Rational"
      ]
     },
     "execution_count": 8,
     "metadata": {},
     "output_type": "execute_result"
    }
   ],
   "source": [
    "subtypes(Real)"
   ]
  },
  {
   "cell_type": "code",
   "execution_count": 9,
   "id": "raised-piece",
   "metadata": {
    "slideshow": {
     "slide_type": "subslide"
    },
    "tags": []
   },
   "outputs": [
    {
     "data": {
      "text/plain": [
       "Type[]"
      ]
     },
     "execution_count": 9,
     "metadata": {},
     "output_type": "execute_result"
    }
   ],
   "source": [
    "subtypes(Int)"
   ]
  },
  {
   "cell_type": "markdown",
   "id": "illegal-charles",
   "metadata": {},
   "source": [
    "![Datatype tree for Julia Number abstract type](https://upload.wikimedia.org/wikipedia/commons/4/40/Type-hierarchy-for-julia-numbers.png)"
   ]
  },
  {
   "cell_type": "markdown",
   "id": "outside-article",
   "metadata": {
    "slideshow": {
     "slide_type": "subslide"
    },
    "tags": []
   },
   "source": [
    "While types are not strictly _necessary_, they are helpful in:\n",
    "1. helping the compiler optimize code\n",
    "2. provide meaningful error messages"
   ]
  },
  {
   "cell_type": "markdown",
   "id": "imperial-patrick",
   "metadata": {
    "slideshow": {
     "slide_type": "subslide"
    },
    "tags": []
   },
   "source": [
    "Let's call `fib_1` on a string type"
   ]
  },
  {
   "cell_type": "code",
   "execution_count": 10,
   "id": "introductory-immigration",
   "metadata": {
    "slideshow": {
     "slide_type": "fragment"
    },
    "tags": []
   },
   "outputs": [
    {
     "ename": "LoadError",
     "evalue": "MethodError: no method matching isless(::String, ::Int64)\n\u001b[0mClosest candidates are:\n\u001b[0m  isless(::AbstractString, \u001b[91m::AbstractString\u001b[39m) at strings/basic.jl:344\n\u001b[0m  isless(\u001b[91m::AbstractFloat\u001b[39m, ::Real) at operators.jl:169\n\u001b[0m  isless(\u001b[91m::Real\u001b[39m, ::Real) at operators.jl:357\n\u001b[0m  ...",
     "output_type": "error",
     "traceback": [
      "MethodError: no method matching isless(::String, ::Int64)\n\u001b[0mClosest candidates are:\n\u001b[0m  isless(::AbstractString, \u001b[91m::AbstractString\u001b[39m) at strings/basic.jl:344\n\u001b[0m  isless(\u001b[91m::AbstractFloat\u001b[39m, ::Real) at operators.jl:169\n\u001b[0m  isless(\u001b[91m::Real\u001b[39m, ::Real) at operators.jl:357\n\u001b[0m  ...",
      "",
      "Stacktrace:",
      " [1] <(x::String, y::Int64)",
      "   @ Base ./operators.jl:279",
      " [2] <=(x::String, y::Int64)",
      "   @ Base ./operators.jl:328",
      " [3] fib_1(n::String)",
      "   @ Main ./In[1]:2",
      " [4] top-level scope",
      "   @ In[10]:1",
      " [5] eval",
      "   @ ./boot.jl:360 [inlined]",
      " [6] include_string(mapexpr::typeof(REPL.softscope), mod::Module, code::String, filename::String)",
      "   @ Base ./loading.jl:1094"
     ]
    }
   ],
   "source": [
    "fib_1(\"32.\")"
   ]
  },
  {
   "cell_type": "markdown",
   "id": "valuable-translator",
   "metadata": {
    "slideshow": {
     "slide_type": "subslide"
    },
    "tags": []
   },
   "source": [
    "That's not really helpful, is it? Let's make an explicitly-typed version"
   ]
  },
  {
   "cell_type": "code",
   "execution_count": 11,
   "id": "sensitive-reform",
   "metadata": {
    "slideshow": {
     "slide_type": "fragment"
    },
    "tags": []
   },
   "outputs": [
    {
     "data": {
      "text/plain": [
       "fib_2 (generic function with 1 method)"
      ]
     },
     "execution_count": 11,
     "metadata": {},
     "output_type": "execute_result"
    }
   ],
   "source": [
    "function fib_2(n::Number)\n",
    "    n <= 2 && return 1\n",
    "    fib_2(n - 1) + fib_2(n - 2)\n",
    "end"
   ]
  },
  {
   "cell_type": "markdown",
   "id": "rapid-terminal",
   "metadata": {
    "slideshow": {
     "slide_type": "fragment"
    },
    "tags": []
   },
   "source": [
    "Which limits the inputs to numeric types (both `Int` and `Float64` are inherited from the abstract type `Number`)"
   ]
  },
  {
   "cell_type": "code",
   "execution_count": 12,
   "id": "rapid-nickel",
   "metadata": {
    "slideshow": {
     "slide_type": "subslide"
    },
    "tags": []
   },
   "outputs": [
    {
     "ename": "LoadError",
     "evalue": "MethodError: no method matching fib_2(::String)\n\u001b[0mClosest candidates are:\n\u001b[0m  fib_2(\u001b[91m::Number\u001b[39m) at In[11]:1",
     "output_type": "error",
     "traceback": [
      "MethodError: no method matching fib_2(::String)\n\u001b[0mClosest candidates are:\n\u001b[0m  fib_2(\u001b[91m::Number\u001b[39m) at In[11]:1",
      "",
      "Stacktrace:",
      " [1] top-level scope",
      "   @ In[12]:1",
      " [2] eval",
      "   @ ./boot.jl:360 [inlined]",
      " [3] include_string(mapexpr::typeof(REPL.softscope), mod::Module, code::String, filename::String)",
      "   @ Base ./loading.jl:1094"
     ]
    }
   ],
   "source": [
    "fib_2(\"32.\")"
   ]
  },
  {
   "cell_type": "markdown",
   "id": "dimensional-steps",
   "metadata": {
    "slideshow": {
     "slide_type": "slide"
    },
    "tags": []
   },
   "source": [
    "## Performance Benchmarking and Type Stability"
   ]
  },
  {
   "cell_type": "markdown",
   "id": "supported-think",
   "metadata": {
    "slideshow": {
     "slide_type": "subslide"
    },
    "tags": []
   },
   "source": [
    "Here is the reason why it's always good to specity data types: whenever a data type \"morphs\" into another (for example integer division), you have to do a lot of work, in order to accommodate type instability. It boils down to having to treat otherwise simple variables as more complex objects. For example:"
   ]
  },
  {
   "cell_type": "code",
   "execution_count": 13,
   "id": "fifth-picking",
   "metadata": {
    "slideshow": {
     "slide_type": "subslide"
    },
    "tags": []
   },
   "outputs": [
    {
     "data": {
      "text/plain": [
       "t1 (generic function with 1 method)"
      ]
     },
     "execution_count": 13,
     "metadata": {},
     "output_type": "execute_result"
    }
   ],
   "source": [
    "function t1(n)\n",
    "    s = 0\n",
    "    for i in 1:n\n",
    "        s += 1.1  ## WARNING: unstable type!\n",
    "    end\n",
    "    s\n",
    "end"
   ]
  },
  {
   "cell_type": "code",
   "execution_count": 14,
   "id": "exclusive-possession",
   "metadata": {
    "slideshow": {
     "slide_type": "fragment"
    },
    "tags": []
   },
   "outputs": [
    {
     "data": {
      "text/plain": [
       "t2 (generic function with 1 method)"
      ]
     },
     "execution_count": 14,
     "metadata": {},
     "output_type": "execute_result"
    }
   ],
   "source": [
    "function t2(n)\n",
    "    s = 0.      ## Stable type\n",
    "    for i in 1:n\n",
    "        s += 1.1\n",
    "    end\n",
    "    s\n",
    "end"
   ]
  },
  {
   "cell_type": "code",
   "execution_count": 15,
   "id": "russian-hygiene",
   "metadata": {
    "slideshow": {
     "slide_type": "skip"
    },
    "tags": []
   },
   "outputs": [],
   "source": [
    "using BenchmarkTools"
   ]
  },
  {
   "cell_type": "code",
   "execution_count": 16,
   "id": "historical-minneapolis",
   "metadata": {
    "slideshow": {
     "slide_type": "subslide"
    },
    "tags": []
   },
   "outputs": [
    {
     "data": {
      "text/plain": [
       "BenchmarkTools.Trial: \n",
       "  memory estimate:  0 bytes\n",
       "  allocs estimate:  0\n",
       "  --------------\n",
       "  minimum time:     8.532 ns (0.00% GC)\n",
       "  median time:      9.582 ns (0.00% GC)\n",
       "  mean time:        10.402 ns (0.00% GC)\n",
       "  maximum time:     54.412 ns (0.00% GC)\n",
       "  --------------\n",
       "  samples:          10000\n",
       "  evals/sample:     999"
      ]
     },
     "execution_count": 16,
     "metadata": {},
     "output_type": "execute_result"
    }
   ],
   "source": [
    "@benchmark t1(10)"
   ]
  },
  {
   "cell_type": "code",
   "execution_count": 17,
   "id": "dangerous-berkeley",
   "metadata": {
    "slideshow": {
     "slide_type": "subslide"
    },
    "tags": []
   },
   "outputs": [
    {
     "data": {
      "text/plain": [
       "BenchmarkTools.Trial: \n",
       "  memory estimate:  0 bytes\n",
       "  allocs estimate:  0\n",
       "  --------------\n",
       "  minimum time:     1.226 ns (0.00% GC)\n",
       "  median time:      1.334 ns (0.00% GC)\n",
       "  mean time:        1.472 ns (0.00% GC)\n",
       "  maximum time:     47.221 ns (0.00% GC)\n",
       "  --------------\n",
       "  samples:          10000\n",
       "  evals/sample:     1000"
      ]
     },
     "execution_count": 17,
     "metadata": {},
     "output_type": "execute_result"
    }
   ],
   "source": [
    "@benchmark t2(10)"
   ]
  },
  {
   "cell_type": "code",
   "execution_count": 18,
   "id": "disabled-recall",
   "metadata": {
    "slideshow": {
     "slide_type": "subslide"
    },
    "tags": []
   },
   "outputs": [
    {
     "name": "stdout",
     "output_type": "stream",
     "text": [
      "Variables\n",
      "  #self#\u001b[36m::Core.Const(t1)\u001b[39m\n",
      "  n\u001b[36m::Int64\u001b[39m\n",
      "  @_3\u001b[33m\u001b[1m::Union{Nothing, Tuple{Int64, Int64}}\u001b[22m\u001b[39m\n",
      "  s\u001b[91m\u001b[1m::Union{Float64, Int64}\u001b[22m\u001b[39m\n",
      "  i\u001b[36m::Int64\u001b[39m\n",
      "\n",
      "Body\u001b[91m\u001b[1m::Union{Float64, Int64}\u001b[22m\u001b[39m\n",
      "\u001b[90m1 ─\u001b[39m       (s = 0)\n",
      "\u001b[90m│  \u001b[39m %2  = (1:n)\u001b[36m::Core.PartialStruct(UnitRange{Int64}, Any[Core.Const(1), Int64])\u001b[39m\n",
      "\u001b[90m│  \u001b[39m       (@_3 = Base.iterate(%2))\n",
      "\u001b[90m│  \u001b[39m %4  = (@_3 === nothing)\u001b[36m::Bool\u001b[39m\n",
      "\u001b[90m│  \u001b[39m %5  = Base.not_int(%4)\u001b[36m::Bool\u001b[39m\n",
      "\u001b[90m└──\u001b[39m       goto #4 if not %5\n",
      "\u001b[90m2 ┄\u001b[39m %7  = @_3::Tuple{Int64, Int64}\u001b[36m::Tuple{Int64, Int64}\u001b[39m\n",
      "\u001b[90m│  \u001b[39m       (i = Core.getfield(%7, 1))\n",
      "\u001b[90m│  \u001b[39m %9  = Core.getfield(%7, 2)\u001b[36m::Int64\u001b[39m\n",
      "\u001b[90m│  \u001b[39m       (s = s + 1.1)\n",
      "\u001b[90m│  \u001b[39m       (@_3 = Base.iterate(%2, %9))\n",
      "\u001b[90m│  \u001b[39m %12 = (@_3 === nothing)\u001b[36m::Bool\u001b[39m\n",
      "\u001b[90m│  \u001b[39m %13 = Base.not_int(%12)\u001b[36m::Bool\u001b[39m\n",
      "\u001b[90m└──\u001b[39m       goto #4 if not %13\n",
      "\u001b[90m3 ─\u001b[39m       goto #2\n",
      "\u001b[90m4 ┄\u001b[39m       return s\n"
     ]
    }
   ],
   "source": [
    "@code_warntype t1(10)"
   ]
  },
  {
   "cell_type": "code",
   "execution_count": 19,
   "id": "legislative-machinery",
   "metadata": {
    "slideshow": {
     "slide_type": "subslide"
    },
    "tags": []
   },
   "outputs": [
    {
     "name": "stdout",
     "output_type": "stream",
     "text": [
      "Variables\n",
      "  #self#\u001b[36m::Core.Const(t2)\u001b[39m\n",
      "  n\u001b[36m::Int64\u001b[39m\n",
      "  @_3\u001b[33m\u001b[1m::Union{Nothing, Tuple{Int64, Int64}}\u001b[22m\u001b[39m\n",
      "  s\u001b[36m::Float64\u001b[39m\n",
      "  i\u001b[36m::Int64\u001b[39m\n",
      "\n",
      "Body\u001b[36m::Float64\u001b[39m\n",
      "\u001b[90m1 ─\u001b[39m       (s = 0.0)\n",
      "\u001b[90m│  \u001b[39m %2  = (1:n)\u001b[36m::Core.PartialStruct(UnitRange{Int64}, Any[Core.Const(1), Int64])\u001b[39m\n",
      "\u001b[90m│  \u001b[39m       (@_3 = Base.iterate(%2))\n",
      "\u001b[90m│  \u001b[39m %4  = (@_3 === nothing)\u001b[36m::Bool\u001b[39m\n",
      "\u001b[90m│  \u001b[39m %5  = Base.not_int(%4)\u001b[36m::Bool\u001b[39m\n",
      "\u001b[90m└──\u001b[39m       goto #4 if not %5\n",
      "\u001b[90m2 ┄\u001b[39m %7  = @_3::Tuple{Int64, Int64}\u001b[36m::Tuple{Int64, Int64}\u001b[39m\n",
      "\u001b[90m│  \u001b[39m       (i = Core.getfield(%7, 1))\n",
      "\u001b[90m│  \u001b[39m %9  = Core.getfield(%7, 2)\u001b[36m::Int64\u001b[39m\n",
      "\u001b[90m│  \u001b[39m       (s = s + 1.1)\n",
      "\u001b[90m│  \u001b[39m       (@_3 = Base.iterate(%2, %9))\n",
      "\u001b[90m│  \u001b[39m %12 = (@_3 === nothing)\u001b[36m::Bool\u001b[39m\n",
      "\u001b[90m│  \u001b[39m %13 = Base.not_int(%12)\u001b[36m::Bool\u001b[39m\n",
      "\u001b[90m└──\u001b[39m       goto #4 if not %13\n",
      "\u001b[90m3 ─\u001b[39m       goto #2\n",
      "\u001b[90m4 ┄\u001b[39m       return s\n"
     ]
    }
   ],
   "source": [
    "@code_warntype t2(10)"
   ]
  }
 ],
 "metadata": {
  "kernelspec": {
   "display_name": "Julia 1.7.1",
   "language": "julia",
   "name": "julia-1.7"
  },
  "language_info": {
   "file_extension": ".jl",
   "mimetype": "application/julia",
   "name": "julia",
   "version": "1.7.1"
  }
 },
 "nbformat": 4,
 "nbformat_minor": 5
}
