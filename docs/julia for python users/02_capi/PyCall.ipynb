{
 "cells": [
  {
   "cell_type": "markdown",
   "id": "d19df9e1-a08b-4740-8977-7598ffc20455",
   "metadata": {
    "slideshow": {
     "slide_type": "slide"
    },
    "tags": []
   },
   "source": [
    "# Integrating with external Python libraries\n",
    "\n",
    "([Back to Overview](../index.html#/0/5))"
   ]
  },
  {
   "cell_type": "markdown",
   "id": "05a312f6-571e-47c3-b346-008930fa5189",
   "metadata": {
    "slideshow": {
     "slide_type": "subslide"
    },
    "tags": []
   },
   "source": [
    "The `PyCall.jl` package lets you call external python libraries"
   ]
  },
  {
   "cell_type": "code",
   "execution_count": 6,
   "id": "863742d8-4db1-4e8e-8dfe-aff7069bfde9",
   "metadata": {
    "slideshow": {
     "slide_type": "fragment"
    },
    "tags": []
   },
   "outputs": [],
   "source": [
    "using PyCall"
   ]
  },
  {
   "cell_type": "markdown",
   "id": "1167a935-85d2-4466-b13c-798ffc08f189",
   "metadata": {
    "slideshow": {
     "slide_type": "slide"
    },
    "tags": []
   },
   "source": [
    "## Importing Modules"
   ]
  },
  {
   "cell_type": "markdown",
   "id": "b051f585-dd17-48a7-97ee-1d6f64561831",
   "metadata": {
    "slideshow": {
     "slide_type": "subslide"
    },
    "tags": []
   },
   "source": [
    "You use the `pyimport` function to import a python module"
   ]
  },
  {
   "cell_type": "code",
   "execution_count": 7,
   "id": "ea521f02-5a68-46aa-90ae-9e07ff0cbd85",
   "metadata": {
    "slideshow": {
     "slide_type": "fragment"
    },
    "tags": []
   },
   "outputs": [
    {
     "data": {
      "text/plain": [
       "PyObject <module 'math' from '/Users/blaschke/.julia/conda/3/lib/python3.8/lib-dynload/math.cpython-38-darwin.so'>"
      ]
     },
     "execution_count": 7,
     "metadata": {},
     "output_type": "execute_result"
    }
   ],
   "source": [
    "math = pyimport(\"math\")"
   ]
  },
  {
   "cell_type": "markdown",
   "id": "cf5aa378-a600-44a8-84be-30ccf1cb258a",
   "metadata": {
    "slideshow": {
     "slide_type": "subslide"
    },
    "tags": []
   },
   "source": [
    "Imported modules now look like Julia modules"
   ]
  },
  {
   "cell_type": "code",
   "execution_count": 8,
   "id": "44ece5a7-47e3-4b5c-aa00-db1f7d897ffc",
   "metadata": {
    "slideshow": {
     "slide_type": "fragment"
    },
    "tags": []
   },
   "outputs": [
    {
     "data": {
      "text/plain": [
       "0.7071067811865475"
      ]
     },
     "execution_count": 8,
     "metadata": {},
     "output_type": "execute_result"
    }
   ],
   "source": [
    "math.sin(math.pi / 4)"
   ]
  },
  {
   "cell_type": "markdown",
   "id": "4ae5e151-049b-4ba0-ac1d-c281b5fca17f",
   "metadata": {
    "slideshow": {
     "slide_type": "slide"
    },
    "tags": []
   },
   "source": [
    "## Managing Dependencies"
   ]
  },
  {
   "cell_type": "markdown",
   "id": "7dd9ef39-c4c6-4d59-9db3-46cdef0fdced",
   "metadata": {
    "slideshow": {
     "slide_type": "fragment"
    },
    "tags": []
   },
   "source": [
    "You can manage the python executable, and therefore the python search path using the `PYTHON` environment variable. Right now, I don't have anything set, so it defaults to Julia's own conda environment:"
   ]
  },
  {
   "cell_type": "code",
   "execution_count": 15,
   "id": "031492ce-25da-467c-8c3d-e72570fbeefe",
   "metadata": {
    "slideshow": {
     "slide_type": "fragment"
    },
    "tags": []
   },
   "outputs": [
    {
     "data": {
      "text/plain": [
       "\"/Users/blaschke/.julia/conda/3/lib/libpython3.8.dylib\""
      ]
     },
     "execution_count": 15,
     "metadata": {},
     "output_type": "execute_result"
    }
   ],
   "source": [
    "PyCall.libpython"
   ]
  },
  {
   "cell_type": "markdown",
   "id": "7defcb0c-0b53-447a-856b-e3c01235df04",
   "metadata": {
    "slideshow": {
     "slide_type": "subslide"
    },
    "tags": []
   },
   "source": [
    "Let's add `scipy` to this conda install (from Julia):"
   ]
  },
  {
   "cell_type": "code",
   "execution_count": 12,
   "id": "6ab82ed7-c588-4f41-90bf-5112094f43d6",
   "metadata": {
    "slideshow": {
     "slide_type": "fragment"
    },
    "tags": []
   },
   "outputs": [],
   "source": [
    "using Conda"
   ]
  },
  {
   "cell_type": "code",
   "execution_count": 13,
   "id": "3b7463c0-05d7-4320-9925-ab61ba5f76d4",
   "metadata": {
    "slideshow": {
     "slide_type": "fragment"
    },
    "tags": []
   },
   "outputs": [
    {
     "name": "stderr",
     "output_type": "stream",
     "text": [
      "┌ Info: Running `conda install -y scipy` in root environment\n",
      "└ @ Conda /Users/blaschke/.julia/packages/Conda/x2UxR/src/Conda.jl:127\n"
     ]
    },
    {
     "name": "stdout",
     "output_type": "stream",
     "text": [
      "Collecting package metadata (current_repodata.json): ...working... done\n",
      "Solving environment: ...working... done\n",
      "\n",
      "## Package Plan ##\n",
      "\n",
      "  environment location: /Users/blaschke/.julia/conda/3\n",
      "\n",
      "  added / updated specs:\n",
      "    - scipy\n",
      "\n",
      "\n",
      "The following packages will be downloaded:\n",
      "\n",
      "    package                    |            build\n",
      "    ---------------------------|-----------------\n",
      "    libcxx-14.0.6              |       hccf4f1f_0         1.3 MB  conda-forge\n",
      "    scipy-1.8.1                |   py38hb261484_2        21.9 MB  conda-forge\n",
      "    ------------------------------------------------------------\n",
      "                                           Total:        23.3 MB\n",
      "\n",
      "The following NEW packages will be INSTALLED:\n",
      "\n",
      "  scipy              conda-forge/osx-64::scipy-1.8.1-py38hb261484_2\n",
      "\n",
      "The following packages will be UPDATED:\n",
      "\n",
      "  libcxx                         pkgs/main::libcxx-10.0.0-1 --> conda-forge::libcxx-14.0.6-hccf4f1f_0\n",
      "\n",
      "\n",
      "\n",
      "Downloading and Extracting Packages\n",
      "libcxx-14.0.6        | 1.3 MB    | #################################### | 100% \n",
      "scipy-1.8.1          | 21.9 MB   | #################################### | 100% \n",
      "Preparing transaction: ...working... done\n",
      "Verifying transaction: ...working... done\n",
      "Executing transaction: ...working... done\n",
      "Retrieving notices: ...working... done\n"
     ]
    }
   ],
   "source": [
    "Conda.add(\"scipy\")"
   ]
  },
  {
   "cell_type": "markdown",
   "id": "69468041-e26e-49c3-b393-b45b94b20aaa",
   "metadata": {
    "slideshow": {
     "slide_type": "subslide"
    },
    "tags": []
   },
   "source": [
    "Now we can use scipy from Julia:"
   ]
  },
  {
   "cell_type": "code",
   "execution_count": 14,
   "id": "3caec3b2-54e6-44f8-9517-ce823c8e0354",
   "metadata": {
    "slideshow": {
     "slide_type": "fragment"
    },
    "tags": []
   },
   "outputs": [
    {
     "data": {
      "text/plain": [
       "0.7390851332151607"
      ]
     },
     "execution_count": 14,
     "metadata": {},
     "output_type": "execute_result"
    }
   ],
   "source": [
    "so = pyimport(\"scipy.optimize\")\n",
    "so.newton(x -> cos(x) - x, 1)"
   ]
  }
 ],
 "metadata": {
  "kernelspec": {
   "display_name": "Julia 1.8.1",
   "language": "julia",
   "name": "julia-1.8"
  },
  "language_info": {
   "file_extension": ".jl",
   "mimetype": "application/julia",
   "name": "julia",
   "version": "1.8.1"
  }
 },
 "nbformat": 4,
 "nbformat_minor": 5
}
