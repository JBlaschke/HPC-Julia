{
 "cells": [
  {
   "cell_type": "markdown",
   "id": "protective-insured",
   "metadata": {
    "slideshow": {
     "slide_type": "slide"
    },
    "tags": []
   },
   "source": [
    "# Julia + MPI\n",
    "\n",
    "([Back to Overview](../index.html#/0/7))\n",
    "\n",
    "`MPI.jl` provides wrappers for the system MPI libraries. And the `MPIClusterManagers.jl` package lets you control MPI workflows within Julia"
   ]
  },
  {
   "cell_type": "code",
   "execution_count": 1,
   "id": "confused-horse",
   "metadata": {
    "slideshow": {
     "slide_type": "subslide"
    },
    "tags": []
   },
   "outputs": [
    {
     "data": {
      "text/plain": [
       "4-element Vector{Int64}:\n",
       " 2\n",
       " 3\n",
       " 4\n",
       " 5"
      ]
     },
     "execution_count": 1,
     "metadata": {},
     "output_type": "execute_result"
    }
   ],
   "source": [
    "# to import MPIManager\n",
    "using MPIClusterManagers\n",
    "\n",
    "# need to also import Distributed to use addprocs()\n",
    "using Distributed\n",
    "\n",
    "# specify, number of mpi workers, launch cmd, etc.\n",
    "manager=MPIManager(np=4)\n",
    "\n",
    "# start mpi workers and add them as julia workers too.\n",
    "addprocs(manager)"
   ]
  },
  {
   "cell_type": "code",
   "execution_count": 2,
   "id": "minute-warrant",
   "metadata": {
    "slideshow": {
     "slide_type": "subslide"
    },
    "tags": []
   },
   "outputs": [
    {
     "name": "stdout",
     "output_type": "stream",
     "text": [
      "      From worker 3:\tHello world, I am 1 of 4\n",
      "      From worker 5:\tHello world, I am 3 of 4\n",
      "      From worker 2:\tHello world, I am 0 of 4\n",
      "      From worker 4:\tHello world, I am 2 of 4\n"
     ]
    }
   ],
   "source": [
    "@mpi_do manager begin\n",
    "    using MPI: MPI, Comm, Win, free\n",
    "    comm = MPI.COMM_WORLD\n",
    "    rank = MPI.Comm_rank(comm)\n",
    "    size = MPI.Comm_size(comm)\n",
    "    println(\"Hello world, I am $(rank) of $(size)\")\n",
    "end"
   ]
  },
  {
   "cell_type": "code",
   "execution_count": 3,
   "id": "cognitive-shame",
   "metadata": {
    "slideshow": {
     "slide_type": "subslide"
    },
    "tags": []
   },
   "outputs": [],
   "source": [
    "@mpi_do manager begin\n",
    "    using SharedArrays\n",
    "    a = SharedArray{Int64}(4)\n",
    "end"
   ]
  },
  {
   "cell_type": "code",
   "execution_count": 4,
   "id": "bright-strengthening",
   "metadata": {
    "slideshow": {
     "slide_type": "subslide"
    },
    "tags": []
   },
   "outputs": [
    {
     "name": "stdout",
     "output_type": "stream",
     "text": [
      "      From worker 2:\t0: [0, 0, 0, 0]\n",
      "      From worker 4:\t2: [0, 0, 2, 0]\n",
      "      From worker 5:\t3: [0, 0, 0, 3]\n",
      "      From worker 3:\t1: [0, 1, 0, 0]\n"
     ]
    }
   ],
   "source": [
    "@mpi_do manager begin\n",
    "    a[rank + 1] = rank\n",
    "    println(\"$(rank): $(a)\")\n",
    "end"
   ]
  },
  {
   "cell_type": "code",
   "execution_count": 5,
   "id": "immune-professional",
   "metadata": {
    "slideshow": {
     "slide_type": "subslide"
    },
    "tags": []
   },
   "outputs": [
    {
     "name": "stdout",
     "output_type": "stream",
     "text": [
      "      From worker 4:\t2: 0\n",
      "      From worker 2:\t0: 0\n",
      "      From worker 3:\t1: 0\n",
      "      From worker 5:\t3: 0\n"
     ]
    }
   ],
   "source": [
    "@mpi_do manager begin\n",
    "    index = (rank+2)%4 + 1\n",
    "    println(\"$(rank): $(a[index])\")\n",
    "end"
   ]
  }
 ],
 "metadata": {
  "kernelspec": {
   "display_name": "Julia 1.8.1",
   "language": "julia",
   "name": "julia-1.8"
  },
  "language_info": {
   "file_extension": ".jl",
   "mimetype": "application/julia",
   "name": "julia",
   "version": "1.8.1"
  }
 },
 "nbformat": 4,
 "nbformat_minor": 5
}
