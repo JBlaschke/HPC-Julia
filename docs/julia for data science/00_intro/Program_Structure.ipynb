{
 "cells": [
  {
   "cell_type": "markdown",
   "id": "cced748d-7fb4-485a-958e-5a14ef94e64f",
   "metadata": {
    "slideshow": {
     "slide_type": "slide"
    },
    "tags": []
   },
   "source": [
    "# The Structure of a Julia Program\n",
    "([Back to Overview](../index.html#/0/2))"
   ]
  },
  {
   "cell_type": "markdown",
   "id": "6cad4ff4-975f-4dc9-91c2-154154f35f78",
   "metadata": {
    "slideshow": {
     "slide_type": "subslide"
    },
    "tags": []
   },
   "source": [
    "A Julia program is broken up into:\n",
    "1. Modules\n",
    "2. Functions\n",
    "3. Statements\n",
    "\n",
    "which organize code that can act on different data types.\n",
    "\n",
    "Let's look at each of these in turn."
   ]
  },
  {
   "cell_type": "markdown",
   "id": "1289fef4-432f-44fc-b2e0-1c591e069156",
   "metadata": {
    "slideshow": {
     "slide_type": "slide"
    },
    "tags": []
   },
   "source": [
    "## Modules"
   ]
  },
  {
   "cell_type": "markdown",
   "id": "68289867-0eee-4086-b81d-ddb2fdf16554",
   "metadata": {
    "slideshow": {
     "slide_type": "fragment"
    },
    "tags": []
   },
   "source": [
    "Modules encapsulate namespaces, and are similar to Python modules: https://docs.julialang.org/en/v1/manual/modules/"
   ]
  },
  {
   "cell_type": "markdown",
   "id": "b02b1848-34af-4331-9934-e99df70d5d8c",
   "metadata": {
    "slideshow": {
     "slide_type": "fragment"
    },
    "tags": []
   },
   "source": [
    "Created using the `module` keyword. They are frequently used to encapsulate source files into their own name-space:\n",
    "```julia\n",
    "module MyModule\n",
    "\n",
    "include(\"my_function.jl\")\n",
    "\n",
    "export my_func\n",
    "\n",
    "end\n",
    "```\n",
    "With the external source file `my_function.jl`:\n",
    "```julia\n",
    "function my_helper(...)\n",
    "    ...\n",
    "end\n",
    "\n",
    "function my_func(...)\n",
    "    ...\n",
    "    my_helper(...)\n",
    "    ...\n",
    "end\n",
    "```\n",
    "This hides `my_helper` from all functions outside of `MyModule`."
   ]
  },
  {
   "cell_type": "markdown",
   "id": "ef951a2d-a834-4edb-b0c2-82332ce9bf07",
   "metadata": {
    "slideshow": {
     "slide_type": "fragment"
    },
    "tags": []
   },
   "source": [
    "Note that unlike Python, modules do not necessarily need to be in seperate files or folders. Later we will see how code in one file can add to a preexisting module."
   ]
  },
  {
   "cell_type": "code",
   "execution_count": null,
   "id": "ef177baf-db8b-432c-b2fb-35b8e68ea67e",
   "metadata": {},
   "outputs": [],
   "source": []
  }
 ],
 "metadata": {
  "kernelspec": {
   "display_name": "Julia 1.7.2",
   "language": "julia",
   "name": "julia-1.7"
  },
  "language_info": {
   "file_extension": ".jl",
   "mimetype": "application/julia",
   "name": "julia",
   "version": "1.7.2"
  }
 },
 "nbformat": 4,
 "nbformat_minor": 5
}
