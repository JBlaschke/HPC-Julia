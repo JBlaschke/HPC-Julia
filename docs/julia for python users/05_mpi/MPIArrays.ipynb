{
 "cells": [
  {
   "cell_type": "markdown",
   "id": "radical-interpretation",
   "metadata": {
    "slideshow": {
     "slide_type": "slide"
    },
    "tags": []
   },
   "source": [
    "# MPIArrays\n",
    "\n",
    "([Back to Overview](../index.html#/0/8))\n",
    "\n",
    "**Warning:** This is experimental -- NERSC is looking for applications to kick the wheels. And for motivated engineers to continue development (last commit in Jul/2019): https://github.com/barche/MPIArrays.jl"
   ]
  },
  {
   "cell_type": "code",
   "execution_count": 1,
   "id": "bright-ivory",
   "metadata": {
    "slideshow": {
     "slide_type": "skip"
    },
    "tags": []
   },
   "outputs": [
    {
     "data": {
      "text/plain": [
       "2-element Vector{Int64}:\n",
       " 2\n",
       " 3"
      ]
     },
     "execution_count": 1,
     "metadata": {},
     "output_type": "execute_result"
    }
   ],
   "source": [
    "# to import MPIManager\n",
    "using MPIClusterManagers\n",
    "\n",
    "# need to also import Distributed to use addprocs()\n",
    "using Distributed\n",
    "\n",
    "# specify, number of mpi workers, launch cmd, etc.\n",
    "manager=MPIManager(np=2)\n",
    "\n",
    "# start mpi workers and add them as julia workers too.\n",
    "addprocs(manager)"
   ]
  },
  {
   "cell_type": "code",
   "execution_count": 2,
   "id": "elder-introduction",
   "metadata": {
    "slideshow": {
     "slide_type": "slide"
    },
    "tags": []
   },
   "outputs": [],
   "source": [
    "@mpi_do manager begin\n",
    "    include(joinpath(\"MPIArrays.jl\", \"src\", \"MPIArrays.jl\"))\n",
    "    using .MPIArrays, MPI\n",
    "    \n",
    "    comm = MPI.COMM_WORLD\n",
    "    rank = MPI.Comm_rank(comm)\n",
    "    N = 30 # size of the matrix\n",
    "end"
   ]
  },
  {
   "cell_type": "code",
   "execution_count": 3,
   "id": "widespread-franchise",
   "metadata": {
    "slideshow": {
     "slide_type": "skip"
    },
    "tags": []
   },
   "outputs": [
    {
     "name": "stdout",
     "output_type": "stream",
     "text": [
      "      From worker 2:\t0: N=30\n",
      "      From worker 3:\t1: N=30\n"
     ]
    }
   ],
   "source": [
    "@mpi_do manager begin\n",
    "    println(\"$(rank): N=$(N)\")\n",
    "end"
   ]
  },
  {
   "cell_type": "code",
   "execution_count": 4,
   "id": "corrected-fantasy",
   "metadata": {
    "slideshow": {
     "slide_type": "subslide"
    },
    "tags": []
   },
   "outputs": [],
   "source": [
    "@mpi_do manager begin\n",
    "    # Create an uninitialized matrix and vector\n",
    "    x = MPIArray{Float64}(N)\n",
    "    A = MPIArray{Float64}(N,N)\n",
    "end"
   ]
  },
  {
   "cell_type": "code",
   "execution_count": 5,
   "id": "british-present",
   "metadata": {
    "slideshow": {
     "slide_type": "subslide"
    },
    "tags": []
   },
   "outputs": [],
   "source": [
    "@mpi_do manager begin\n",
    "    using Random\n",
    "    # Set random values by applying the `rand!` function to each local element in x and A\n",
    "    forlocalpart!(rand!, x)\n",
    "    forlocalpart!(rand!, A)\n",
    "end"
   ]
  },
  {
   "cell_type": "code",
   "execution_count": 6,
   "id": "ongoing-separate",
   "metadata": {
    "slideshow": {
     "slide_type": "subslide"
    },
    "tags": []
   },
   "outputs": [],
   "source": [
    "@mpi_do manager begin\n",
    "    # Make sure every process finished initializing the coefficients\n",
    "    sync(A, x)\n",
    "    b = A*x\n",
    "end"
   ]
  },
  {
   "cell_type": "code",
   "execution_count": 7,
   "id": "ultimate-reservoir",
   "metadata": {
    "slideshow": {
     "slide_type": "fragment"
    },
    "tags": []
   },
   "outputs": [
    {
     "name": "stdout",
     "output_type": "stream",
     "text": [
      "      From worker 2:\t0: b=[6.58448560732781, 5.397064398912319, 7.2643154419828, 6.659227285202218, 6.601799096937221, 6.087971504440199, 7.288367302111861, 5.965723191984332, 7.788123928904926, 6.906726045686252, 6.784108836906283, 8.248567581785284, 6.141569708627604, 6.066565417913599, 6.764081298937339, 7.171678033141173, 6.050349130440142, 6.551964852832224, 7.46361638548569, 8.23477485992181, 6.303863742596247, 7.572072339570294, 6.266950888366667, 7.009225600102562, 7.790626303820637, 5.4969217868349585, 6.63325855467022, 6.176998715842372, 7.191513001223977, 5.771460933503084]\n",
      "      From worker 3:\t1: b=[6.58448560732781, 5.397064398912319, 7.2643154419828, 6.659227285202218, 6.601799096937221, 6.087971504440199, 7.288367302111861, 5.965723191984332, 7.788123928904926, 6.906726045686252, 6.784108836906283, 8.248567581785284, 6.141569708627604, 6.066565417913599, 6.764081298937339, 7.171678033141173, 6.050349130440142, 6.551964852832224, 7.46361638548569, 8.23477485992181, 6.303863742596247, 7.572072339570294, 6.266950888366667, 7.009225600102562, 7.790626303820637, 5.4969217868349585, 6.63325855467022, 6.176998715842372, 7.191513001223977, 5.771460933503084]\n"
     ]
    }
   ],
   "source": [
    "@mpi_do manager begin\n",
    "    println(\"$(rank): b=$(b)\")\n",
    "end"
   ]
  },
  {
   "cell_type": "code",
   "execution_count": 8,
   "id": "cooperative-british",
   "metadata": {
    "slideshow": {
     "slide_type": "subslide"
    },
    "tags": []
   },
   "outputs": [],
   "source": [
    "@mpi_do manager begin\n",
    "    y = MPIArray{Float64}(4)\n",
    "end"
   ]
  },
  {
   "cell_type": "code",
   "execution_count": 10,
   "id": "worst-pathology",
   "metadata": {
    "slideshow": {
     "slide_type": "subslide"
    },
    "tags": []
   },
   "outputs": [
    {
     "name": "stdout",
     "output_type": "stream",
     "text": [
      "      From worker 3:\t1: Main.MPIArrays.Block{Float64, 1}([5.0e-324, 2.3815620396e-314, 0.0, 0.0], (3:4,), CartesianIndex{1}[CartesianIndex(2,)]) / [3, 4]\n",
      "      From worker 2:\t0: Main.MPIArrays.Block{Float64, 1}([5.0e-324, 2.3815620396e-314, 0.0, 0.0], (1:2,), CartesianIndex{1}[CartesianIndex(1,)]) / [1, 2]\n"
     ]
    }
   ],
   "source": [
    "@mpi_do manager begin\n",
    "    index = rank*2 + 1\n",
    "    yblock = y[index : index + 1]\n",
    "    println(\"$(rank): $(yblock) / $([i for i in index : index + 1])\")\n",
    "end"
   ]
  },
  {
   "cell_type": "code",
   "execution_count": 27,
   "id": "proprietary-builder",
   "metadata": {
    "slideshow": {
     "slide_type": "subslide"
    },
    "tags": []
   },
   "outputs": [
    {
     "name": "stdout",
     "output_type": "stream",
     "text": [
      "      From worker 3:\t1: Main.MPIArrays.Block{Float64, 1}([0.0, 0.0, 1.0, 1.0], (3:4,), CartesianIndex{1}[CartesianIndex(2,)])\n",
      "      From worker 2:\t0: Main.MPIArrays.Block{Float64, 1}([0.0, 0.0, 1.0, 1.0], (1:2,), CartesianIndex{1}[CartesianIndex(1,)])\n"
     ]
    }
   ],
   "source": [
    "@mpi_do manager begin\n",
    "    # get \"view\" into block\n",
    "    ymat = getblock(yblock)\n",
    "    # write into view\n",
    "    ymat[1:2] .= rank\n",
    "    # syncronize changes back to block\n",
    "    putblock!(ymat, yblock)\n",
    "    # ensure that all ranks have completed the `putblock!` operation\n",
    "    MPI.Barrier(comm)\n",
    "    println(\"$(rank): $(yblock)\")\n",
    "end"
   ]
  },
  {
   "cell_type": "code",
   "execution_count": 28,
   "id": "color-validity",
   "metadata": {
    "slideshow": {
     "slide_type": "subslide"
    },
    "tags": []
   },
   "outputs": [
    {
     "name": "stdout",
     "output_type": "stream",
     "text": [
      "      From worker 2:\t0: [0.0, 0.0, 1.0, 1.0]\n",
      "      From worker 3:\t1: [0.0, 0.0, 1.0, 1.0]\n"
     ]
    }
   ],
   "source": [
    "@mpi_do manager begin\n",
    "    println(\"$(rank): $(y)\")\n",
    "end"
   ]
  },
  {
   "cell_type": "code",
   "execution_count": 29,
   "id": "cross-organizer",
   "metadata": {
    "slideshow": {
     "slide_type": "subslide"
    },
    "tags": []
   },
   "outputs": [
    {
     "name": "stdout",
     "output_type": "stream",
     "text": [
      "      From worker 2:\t0: gb[1] = 0.0\n",
      "      From worker 3:\t1: gb[3] = 1.0\n"
     ]
    }
   ],
   "source": [
    "@mpi_do manager begin\n",
    "    gb = GlobalBlock(ymat, yblock)\n",
    "    println(\"$(rank): gb[$(index)] = $(gb[index])\")\n",
    "end"
   ]
  },
  {
   "cell_type": "code",
   "execution_count": null,
   "id": "unable-tribune",
   "metadata": {},
   "outputs": [],
   "source": []
  }
 ],
 "metadata": {
  "kernelspec": {
   "display_name": "Julia 1.8.1",
   "language": "julia",
   "name": "julia-1.8"
  },
  "language_info": {
   "file_extension": ".jl",
   "mimetype": "application/julia",
   "name": "julia",
   "version": "1.8.1"
  }
 },
 "nbformat": 4,
 "nbformat_minor": 5
}
