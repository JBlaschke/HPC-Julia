{
 "cells": [
  {
   "cell_type": "code",
   "execution_count": 1,
   "id": "09d0d3c4-9756-4fb7-9ad9-6628e4402256",
   "metadata": {},
   "outputs": [],
   "source": [
    "using MySQL\n",
    "using DataFrames\n",
    "using Dates\n",
    "using TimeZones\n",
    "using StatsBase, LinearAlgebra\n",
    "using LaTeXStrings\n",
    "using JSON\n",
    "using CSV\n",
    "\n",
    "import Base: @kwdef"
   ]
  },
  {
   "cell_type": "code",
   "execution_count": 4,
   "id": "36eb6e4f-4a83-4c50-867b-7554669ceaf6",
   "metadata": {},
   "outputs": [
    {
     "data": {
      "text/plain": [
       "DBCredentials"
      ]
     },
     "execution_count": 4,
     "metadata": {},
     "output_type": "execute_result"
    }
   ],
   "source": [
    "timestamp(t; target_tz::VariableTimeZone=tz\"America/Los_Angeles\") = astimezone(\n",
    "    ZonedDateTime(Dates.unix2datetime(t), tz\"GMT\"), target_tz\n",
    ")\n",
    "\n",
    "function get_emeter_data(conn::MySQL.Connection, name::String, idx::Int64)\n",
    "    DBInterface.execute(\n",
    "        DBInterface.prepare(conn,\n",
    "            \"SET @v1 := (SELECT emeter_start FROM $(name) WHERE idx = $(idx))\"\n",
    "        )\n",
    "    )\n",
    "    DBInterface.execute(\n",
    "        DBInterface.prepare(conn,\n",
    "            \"SET @v2 := (SELECT emeter_end FROM $(name) WHERE idx = $(idx))\"\n",
    "        )\n",
    "    )\n",
    "    events = DBInterface.execute(\n",
    "        DBInterface.prepare(conn,\n",
    "            \"SELECT * FROM $(name)_emeter WHERE idx BETWEEN @v1 and @v2\"\n",
    "        )\n",
    "    ) |> DataFrame\n",
    "    events = transform(\n",
    "        events,\n",
    "        :t => (x->timestamp.(x)) => :timestamp\n",
    "    )\n",
    "    return events\n",
    "end\n",
    "\n",
    "@kwdef mutable struct DBCredentials\n",
    "    host::String\n",
    "    name::String\n",
    "    username::String\n",
    "    password::String\n",
    "end"
   ]
  },
  {
   "cell_type": "code",
   "execution_count": 5,
   "id": "454e137a-19f4-43d9-a35e-41ef7de8d78b",
   "metadata": {},
   "outputs": [],
   "source": [
    "db_credenitals = DBCredentials(\n",
    "    ;JSON.parsefile(\n",
    "        joinpath(\"..\", \"..\", \"coffee-secrets\", \"db.json\"),\n",
    "        dicttype=Dict{Symbol,String}\n",
    "    )...\n",
    ")\n",
    "db_credenitals.host = \"127.0.0.1\";"
   ]
  },
  {
   "cell_type": "code",
   "execution_count": 6,
   "id": "00cd69ec-7723-4be3-b3f4-42024ad40d79",
   "metadata": {},
   "outputs": [
    {
     "data": {
      "text/plain": [
       "MySQL.Connection(host=\"127.0.0.1\", user=\"coffee\", port=\"3306\", db=\"coffee\")"
      ]
     },
     "execution_count": 6,
     "metadata": {},
     "output_type": "execute_result"
    }
   ],
   "source": [
    "db_conn = DBInterface.connect(\n",
    "    MySQL.Connection, db_credenitals.host,\n",
    "    db_credenitals.username, db_credenitals.password,\n",
    "    db=db_credenitals.name\n",
    ")"
   ]
  },
  {
   "cell_type": "code",
   "execution_count": 7,
   "id": "6f0fc563-6e2f-4681-a302-0f8bf5d71ea1",
   "metadata": {},
   "outputs": [
    {
     "data": {
      "text/html": [
       "<div class=\"data-frame\"><p>1,551,562 rows × 7 columns</p><table class=\"data-frame\"><thead><tr><th></th><th>idx</th><th>t</th><th>ma</th><th>mv</th><th>mw</th><th>wh</th><th>timestamp</th></tr><tr><th></th><th title=\"Int32\">Int32</th><th title=\"Union{Missing, Float64}\">Float64?</th><th title=\"Union{Missing, Int32}\">Int32?</th><th title=\"Union{Missing, Int32}\">Int32?</th><th title=\"Union{Missing, Int32}\">Int32?</th><th title=\"Union{Missing, Int32}\">Int32?</th><th title=\"ZonedDateTime\">ZonedDat…</th></tr></thead><tbody><tr><th>1</th><td>12</td><td>1.64349e9</td><td>59</td><td>121266</td><td>7139</td><td>7512</td><td>2022-01-29T12:19:41.336-08:00</td></tr><tr><th>2</th><td>13</td><td>1.64349e9</td><td>59</td><td>121266</td><td>7139</td><td>7512</td><td>2022-01-29T12:20:45.166-08:00</td></tr><tr><th>3</th><td>14</td><td>1.64349e9</td><td>59</td><td>121266</td><td>7139</td><td>7512</td><td>2022-01-29T12:20:53.324-08:00</td></tr><tr><th>4</th><td>15</td><td>1.64349e9</td><td>59</td><td>121266</td><td>7139</td><td>7512</td><td>2022-01-29T12:20:54.646-08:00</td></tr><tr><th>5</th><td>16</td><td>1.64349e9</td><td>59</td><td>121266</td><td>7139</td><td>7512</td><td>2022-01-29T12:20:55.542-08:00</td></tr><tr><th>6</th><td>17</td><td>1.64349e9</td><td>59</td><td>121266</td><td>7139</td><td>7512</td><td>2022-01-29T12:20:56.556-08:00</td></tr><tr><th>7</th><td>18</td><td>1.64349e9</td><td>59</td><td>121266</td><td>7139</td><td>7512</td><td>2022-01-29T12:21:03.581-08:00</td></tr><tr><th>8</th><td>19</td><td>1.64349e9</td><td>59</td><td>121266</td><td>7139</td><td>7512</td><td>2022-01-29T12:21:16.887-08:00</td></tr><tr><th>9</th><td>20</td><td>1.64349e9</td><td>59</td><td>121266</td><td>7139</td><td>7512</td><td>2022-01-29T12:21:20.293-08:00</td></tr><tr><th>10</th><td>21</td><td>1.64349e9</td><td>59</td><td>121338</td><td>7149</td><td>7575</td><td>2022-01-29T13:56:10.577-08:00</td></tr><tr><th>11</th><td>22</td><td>1.64349e9</td><td>59</td><td>121362</td><td>7135</td><td>7575</td><td>2022-01-29T13:56:16.623-08:00</td></tr><tr><th>12</th><td>23</td><td>1.64349e9</td><td>59</td><td>121287</td><td>7134</td><td>7575</td><td>2022-01-29T13:56:26.517-08:00</td></tr><tr><th>13</th><td>24</td><td>1.64349e9</td><td>59</td><td>121287</td><td>7134</td><td>7575</td><td>2022-01-29T13:56:27.810-08:00</td></tr><tr><th>14</th><td>25</td><td>1.64349e9</td><td>59</td><td>121270</td><td>7134</td><td>7575</td><td>2022-01-29T13:56:28.839-08:00</td></tr><tr><th>15</th><td>26</td><td>1.64349e9</td><td>59</td><td>121564</td><td>7164</td><td>7602</td><td>2022-01-29T14:17:13.671-08:00</td></tr><tr><th>16</th><td>27</td><td>1.64349e9</td><td>59</td><td>121591</td><td>7164</td><td>7602</td><td>2022-01-29T14:17:14.780-08:00</td></tr><tr><th>17</th><td>28</td><td>1.64349e9</td><td>59</td><td>121533</td><td>7167</td><td>7602</td><td>2022-01-29T14:17:23.204-08:00</td></tr><tr><th>18</th><td>29</td><td>1.64349e9</td><td>59</td><td>121497</td><td>7172</td><td>7602</td><td>2022-01-29T14:17:42.136-08:00</td></tr><tr><th>19</th><td>30</td><td>1.64349e9</td><td>59</td><td>121497</td><td>7172</td><td>7602</td><td>2022-01-29T14:17:43.138-08:00</td></tr><tr><th>20</th><td>31</td><td>1.64349e9</td><td>59</td><td>121497</td><td>7172</td><td>7602</td><td>2022-01-29T14:17:44.140-08:00</td></tr><tr><th>21</th><td>32</td><td>1.64349e9</td><td>59</td><td>121489</td><td>7172</td><td>7602</td><td>2022-01-29T14:17:45.142-08:00</td></tr><tr><th>22</th><td>33</td><td>1.64349e9</td><td>59</td><td>121489</td><td>7172</td><td>7602</td><td>2022-01-29T14:17:46.144-08:00</td></tr><tr><th>23</th><td>34</td><td>1.64349e9</td><td>59</td><td>121489</td><td>7132</td><td>7602</td><td>2022-01-29T14:17:47.146-08:00</td></tr><tr><th>24</th><td>35</td><td>1.64349e9</td><td>59</td><td>121489</td><td>7132</td><td>7602</td><td>2022-01-29T14:17:48.147-08:00</td></tr><tr><th>25</th><td>36</td><td>1.64349e9</td><td>59</td><td>121489</td><td>7132</td><td>7602</td><td>2022-01-29T14:17:49.149-08:00</td></tr><tr><th>26</th><td>37</td><td>1.64349e9</td><td>59</td><td>121504</td><td>7132</td><td>7602</td><td>2022-01-29T14:17:50.152-08:00</td></tr><tr><th>27</th><td>38</td><td>1.64349e9</td><td>59</td><td>121504</td><td>7132</td><td>7602</td><td>2022-01-29T14:17:51.154-08:00</td></tr><tr><th>28</th><td>39</td><td>1.64349e9</td><td>59</td><td>121504</td><td>7137</td><td>7602</td><td>2022-01-29T14:17:52.155-08:00</td></tr><tr><th>29</th><td>40</td><td>1.64349e9</td><td>59</td><td>121504</td><td>7137</td><td>7602</td><td>2022-01-29T14:17:53.156-08:00</td></tr><tr><th>30</th><td>41</td><td>1.64349e9</td><td>59</td><td>121504</td><td>7137</td><td>7602</td><td>2022-01-29T14:17:54.159-08:00</td></tr><tr><th>&vellip;</th><td>&vellip;</td><td>&vellip;</td><td>&vellip;</td><td>&vellip;</td><td>&vellip;</td><td>&vellip;</td><td>&vellip;</td></tr></tbody></table></div>"
      ],
      "text/latex": [
       "\\begin{tabular}{r|ccccccc}\n",
       "\t& idx & t & ma & mv & mw & wh & timestamp\\\\\n",
       "\t\\hline\n",
       "\t& Int32 & Float64? & Int32? & Int32? & Int32? & Int32? & ZonedDat…\\\\\n",
       "\t\\hline\n",
       "\t1 & 12 & 1.64349e9 & 59 & 121266 & 7139 & 7512 & 2022-01-29T12:19:41.336-08:00 \\\\\n",
       "\t2 & 13 & 1.64349e9 & 59 & 121266 & 7139 & 7512 & 2022-01-29T12:20:45.166-08:00 \\\\\n",
       "\t3 & 14 & 1.64349e9 & 59 & 121266 & 7139 & 7512 & 2022-01-29T12:20:53.324-08:00 \\\\\n",
       "\t4 & 15 & 1.64349e9 & 59 & 121266 & 7139 & 7512 & 2022-01-29T12:20:54.646-08:00 \\\\\n",
       "\t5 & 16 & 1.64349e9 & 59 & 121266 & 7139 & 7512 & 2022-01-29T12:20:55.542-08:00 \\\\\n",
       "\t6 & 17 & 1.64349e9 & 59 & 121266 & 7139 & 7512 & 2022-01-29T12:20:56.556-08:00 \\\\\n",
       "\t7 & 18 & 1.64349e9 & 59 & 121266 & 7139 & 7512 & 2022-01-29T12:21:03.581-08:00 \\\\\n",
       "\t8 & 19 & 1.64349e9 & 59 & 121266 & 7139 & 7512 & 2022-01-29T12:21:16.887-08:00 \\\\\n",
       "\t9 & 20 & 1.64349e9 & 59 & 121266 & 7139 & 7512 & 2022-01-29T12:21:20.293-08:00 \\\\\n",
       "\t10 & 21 & 1.64349e9 & 59 & 121338 & 7149 & 7575 & 2022-01-29T13:56:10.577-08:00 \\\\\n",
       "\t11 & 22 & 1.64349e9 & 59 & 121362 & 7135 & 7575 & 2022-01-29T13:56:16.623-08:00 \\\\\n",
       "\t12 & 23 & 1.64349e9 & 59 & 121287 & 7134 & 7575 & 2022-01-29T13:56:26.517-08:00 \\\\\n",
       "\t13 & 24 & 1.64349e9 & 59 & 121287 & 7134 & 7575 & 2022-01-29T13:56:27.810-08:00 \\\\\n",
       "\t14 & 25 & 1.64349e9 & 59 & 121270 & 7134 & 7575 & 2022-01-29T13:56:28.839-08:00 \\\\\n",
       "\t15 & 26 & 1.64349e9 & 59 & 121564 & 7164 & 7602 & 2022-01-29T14:17:13.671-08:00 \\\\\n",
       "\t16 & 27 & 1.64349e9 & 59 & 121591 & 7164 & 7602 & 2022-01-29T14:17:14.780-08:00 \\\\\n",
       "\t17 & 28 & 1.64349e9 & 59 & 121533 & 7167 & 7602 & 2022-01-29T14:17:23.204-08:00 \\\\\n",
       "\t18 & 29 & 1.64349e9 & 59 & 121497 & 7172 & 7602 & 2022-01-29T14:17:42.136-08:00 \\\\\n",
       "\t19 & 30 & 1.64349e9 & 59 & 121497 & 7172 & 7602 & 2022-01-29T14:17:43.138-08:00 \\\\\n",
       "\t20 & 31 & 1.64349e9 & 59 & 121497 & 7172 & 7602 & 2022-01-29T14:17:44.140-08:00 \\\\\n",
       "\t21 & 32 & 1.64349e9 & 59 & 121489 & 7172 & 7602 & 2022-01-29T14:17:45.142-08:00 \\\\\n",
       "\t22 & 33 & 1.64349e9 & 59 & 121489 & 7172 & 7602 & 2022-01-29T14:17:46.144-08:00 \\\\\n",
       "\t23 & 34 & 1.64349e9 & 59 & 121489 & 7132 & 7602 & 2022-01-29T14:17:47.146-08:00 \\\\\n",
       "\t24 & 35 & 1.64349e9 & 59 & 121489 & 7132 & 7602 & 2022-01-29T14:17:48.147-08:00 \\\\\n",
       "\t25 & 36 & 1.64349e9 & 59 & 121489 & 7132 & 7602 & 2022-01-29T14:17:49.149-08:00 \\\\\n",
       "\t26 & 37 & 1.64349e9 & 59 & 121504 & 7132 & 7602 & 2022-01-29T14:17:50.152-08:00 \\\\\n",
       "\t27 & 38 & 1.64349e9 & 59 & 121504 & 7132 & 7602 & 2022-01-29T14:17:51.154-08:00 \\\\\n",
       "\t28 & 39 & 1.64349e9 & 59 & 121504 & 7137 & 7602 & 2022-01-29T14:17:52.155-08:00 \\\\\n",
       "\t29 & 40 & 1.64349e9 & 59 & 121504 & 7137 & 7602 & 2022-01-29T14:17:53.156-08:00 \\\\\n",
       "\t30 & 41 & 1.64349e9 & 59 & 121504 & 7137 & 7602 & 2022-01-29T14:17:54.159-08:00 \\\\\n",
       "\t$\\dots$ & $\\dots$ & $\\dots$ & $\\dots$ & $\\dots$ & $\\dots$ & $\\dots$ & $\\dots$ \\\\\n",
       "\\end{tabular}\n"
      ],
      "text/plain": [
       "\u001b[1m1551562×7 DataFrame\u001b[0m\n",
       "\u001b[1m     Row \u001b[0m│\u001b[1m idx     \u001b[0m\u001b[1m t         \u001b[0m\u001b[1m ma     \u001b[0m\u001b[1m mv     \u001b[0m\u001b[1m mw     \u001b[0m\u001b[1m wh     \u001b[0m\u001b[1m timestamp      \u001b[0m ⋯\n",
       "\u001b[1m         \u001b[0m│\u001b[90m Int32   \u001b[0m\u001b[90m Float64?  \u001b[0m\u001b[90m Int32? \u001b[0m\u001b[90m Int32? \u001b[0m\u001b[90m Int32? \u001b[0m\u001b[90m Int32? \u001b[0m\u001b[90m ZonedDat…      \u001b[0m ⋯\n",
       "─────────┼──────────────────────────────────────────────────────────────────────\n",
       "       1 │      12  1.64349e9      59  121266    7139    7512  2022-01-29T12:1 ⋯\n",
       "       2 │      13  1.64349e9      59  121266    7139    7512  2022-01-29T12:2\n",
       "       3 │      14  1.64349e9      59  121266    7139    7512  2022-01-29T12:2\n",
       "       4 │      15  1.64349e9      59  121266    7139    7512  2022-01-29T12:2\n",
       "       5 │      16  1.64349e9      59  121266    7139    7512  2022-01-29T12:2 ⋯\n",
       "       6 │      17  1.64349e9      59  121266    7139    7512  2022-01-29T12:2\n",
       "       7 │      18  1.64349e9      59  121266    7139    7512  2022-01-29T12:2\n",
       "       8 │      19  1.64349e9      59  121266    7139    7512  2022-01-29T12:2\n",
       "       9 │      20  1.64349e9      59  121266    7139    7512  2022-01-29T12:2 ⋯\n",
       "      10 │      21  1.64349e9      59  121338    7149    7575  2022-01-29T13:5\n",
       "      11 │      22  1.64349e9      59  121362    7135    7575  2022-01-29T13:5\n",
       "    ⋮    │    ⋮         ⋮        ⋮       ⋮       ⋮       ⋮                   ⋮ ⋱\n",
       " 1551553 │ 1559912  1.64548e9    1569  119952  168143   23340  2022-02-21T12:3\n",
       " 1551554 │ 1559913  1.64548e9    1569  119946  168143   23340  2022-02-21T12:3 ⋯\n",
       " 1551555 │ 1559914  1.64548e9    1569  119946  168143   23340  2022-02-21T12:3\n",
       " 1551556 │ 1559915  1.64548e9    1569  119946  168184   23340  2022-02-21T12:3\n",
       " 1551557 │ 1559916  1.64548e9    1567  119946  168184   23340  2022-02-21T12:3\n",
       " 1551558 │ 1559917  1.64548e9    1567  119918  168184   23340  2022-02-21T12:3 ⋯\n",
       " 1551559 │ 1559918  1.64548e9    1567  119918  168147   23340  2022-02-21T12:3\n",
       " 1551560 │ 1559919  1.64548e9    1566  119918  168147   23340  2022-02-21T12:3\n",
       " 1551561 │ 1559920  1.64548e9    1566  119911  168147   23340  2022-02-21T12:3\n",
       " 1551562 │ 1559921  1.64548e9    1566  119911  167817   23342  2022-02-21T12:3 ⋯\n",
       "\u001b[36m                                               1 column and 1551541 rows omitted\u001b[0m"
      ]
     },
     "execution_count": 7,
     "metadata": {},
     "output_type": "execute_result"
    }
   ],
   "source": [
    "name = \"Arstotzka_Ministry_of_Energy\"\n",
    "idx_max = 54\n",
    "idx_blacklist = [\n",
    "    1,2,3,4,5,6,7,8,9,  # Debugging\n",
    "    51  #  Battery Charger\n",
    "]\n",
    "\n",
    "all_emeter_data = DataFrame[]\n",
    "\n",
    "for idx=1:idx_max\n",
    "    if idx in idx_blacklist\n",
    "        continue\n",
    "    end\n",
    "    push!(all_emeter_data, get_emeter_data(db_conn, name, idx))\n",
    "end\n",
    "all_emeter_data = vcat(all_emeter_data...)"
   ]
  },
  {
   "cell_type": "code",
   "execution_count": 8,
   "id": "ffce820c-8219-4d44-b486-06a7af7937b7",
   "metadata": {},
   "outputs": [
    {
     "data": {
      "text/html": [
       "<p>DataFrameRow (7 columns)</p><div class=\"data-frame\"><table class=\"data-frame\"><thead><tr><th></th><th>idx</th><th>t</th><th>ma</th><th>mv</th><th>mw</th><th>wh</th><th>timestamp</th></tr><tr><th></th><th title=\"Int32\">Int32</th><th title=\"Union{Missing, Float64}\">Float64?</th><th title=\"Union{Missing, Int32}\">Int32?</th><th title=\"Union{Missing, Int32}\">Int32?</th><th title=\"Union{Missing, Int32}\">Int32?</th><th title=\"Union{Missing, Int32}\">Int32?</th><th title=\"ZonedDateTime\">ZonedDat…</th></tr></thead><tbody><tr><th>1551562</th><td>1559921</td><td>1.64548e9</td><td>1566</td><td>119911</td><td>167817</td><td>23342</td><td>2022-02-21T12:35:34.350-08:00</td></tr></tbody></table></div>"
      ],
      "text/latex": [
       "\\begin{tabular}{r|ccccccc}\n",
       "\t& idx & t & ma & mv & mw & wh & timestamp\\\\\n",
       "\t\\hline\n",
       "\t& Int32 & Float64? & Int32? & Int32? & Int32? & Int32? & ZonedDat…\\\\\n",
       "\t\\hline\n",
       "\t1551562 & 1559921 & 1.64548e9 & 1566 & 119911 & 167817 & 23342 & 2022-02-21T12:35:34.350-08:00 \\\\\n",
       "\\end{tabular}\n"
      ],
      "text/plain": [
       "\u001b[1mDataFrameRow\u001b[0m\n",
       "\u001b[1m     Row \u001b[0m│\u001b[1m idx     \u001b[0m\u001b[1m t         \u001b[0m\u001b[1m ma     \u001b[0m\u001b[1m mv     \u001b[0m\u001b[1m mw     \u001b[0m\u001b[1m wh     \u001b[0m\u001b[1m timestamp      \u001b[0m ⋯\n",
       "\u001b[1m         \u001b[0m│\u001b[90m Int32   \u001b[0m\u001b[90m Float64?  \u001b[0m\u001b[90m Int32? \u001b[0m\u001b[90m Int32? \u001b[0m\u001b[90m Int32? \u001b[0m\u001b[90m Int32? \u001b[0m\u001b[90m ZonedDat…      \u001b[0m ⋯\n",
       "─────────┼──────────────────────────────────────────────────────────────────────\n",
       " 1551562 │ 1559921  1.64548e9    1566  119911  167817   23342  2022-02-21T12:3 ⋯\n",
       "\u001b[36m                                                                1 column omitted\u001b[0m"
      ]
     },
     "execution_count": 8,
     "metadata": {},
     "output_type": "execute_result"
    }
   ],
   "source": [
    "all_emeter_data[end,:]"
   ]
  },
  {
   "cell_type": "code",
   "execution_count": 13,
   "id": "33193b9e-f6e4-4ad9-9410-d1e669840ae7",
   "metadata": {},
   "outputs": [
    {
     "data": {
      "text/plain": [
       "coarsegrained (generic function with 1 method)"
      ]
     },
     "execution_count": 13,
     "metadata": {},
     "output_type": "execute_result"
    }
   ],
   "source": [
    "function coarsegrained(data, factor)\n",
    "    df = DataFrame(\n",
    "        t_start=Float64[], t_end=Float64[], \n",
    "        timestamp_start=ZonedDateTime[], timestamp_end=ZonedDateTime[],\n",
    "        ma=Float64[], mv=Float64[], mw=Float64[],\n",
    "        wh_start=Int64[], wh_end=Int64[]\n",
    "    )\n",
    "\n",
    "    for i=1:factor:nrow(data)-factor\n",
    "        section  = @view data[i:i+factor, :]\n",
    "        t_start  = section[1, [:t, :timestamp]]\n",
    "        t_end    = section[end, [:t, :timestamp]]\n",
    "        wh_start = section[1, :wh]\n",
    "        wh_end   = section[end, :wh]\n",
    "        means    = mean.(eachcol(section[!, [:ma, :mv, :mw]]))\n",
    "        push!(df, (\n",
    "                t_start[:t], t_end[:t], t_start[:timestamp], t_end[:timestamp],\n",
    "                means[1], means[2], means[3],\n",
    "                wh_start, wh_end\n",
    "            )\n",
    "        )\n",
    "    end\n",
    "    return df\n",
    "end"
   ]
  },
  {
   "cell_type": "code",
   "execution_count": 14,
   "id": "c868c9a3-6dea-4c1f-b7c5-9b9210dc6eaf",
   "metadata": {},
   "outputs": [
    {
     "data": {
      "text/html": [
       "<div class=\"data-frame\"><p>430 rows × 9 columns (omitted printing of 5 columns)</p><table class=\"data-frame\"><thead><tr><th></th><th>t_start</th><th>t_end</th><th>timestamp_start</th><th>timestamp_end</th></tr><tr><th></th><th title=\"Float64\">Float64</th><th title=\"Float64\">Float64</th><th title=\"ZonedDateTime\">ZonedDat…</th><th title=\"ZonedDateTime\">ZonedDat…</th></tr></thead><tbody><tr><th>1</th><td>1.64349e9</td><td>1.64352e9</td><td>2022-01-29T12:19:41.336-08:00</td><td>2022-01-29T20:14:11.100-08:00</td></tr><tr><th>2</th><td>1.64352e9</td><td>1.64352e9</td><td>2022-01-29T20:14:11.100-08:00</td><td>2022-01-29T21:57:39.900-08:00</td></tr><tr><th>3</th><td>1.64352e9</td><td>1.64353e9</td><td>2022-01-29T21:57:39.900-08:00</td><td>2022-01-29T23:28:01.599-08:00</td></tr><tr><th>4</th><td>1.64353e9</td><td>1.64353e9</td><td>2022-01-29T23:28:01.599-08:00</td><td>2022-01-30T00:30:42.107-08:00</td></tr><tr><th>5</th><td>1.64353e9</td><td>1.64354e9</td><td>2022-01-30T00:30:42.107-08:00</td><td>2022-01-30T01:32:23.883-08:00</td></tr><tr><th>6</th><td>1.64354e9</td><td>1.64354e9</td><td>2022-01-30T01:32:23.883-08:00</td><td>2022-01-30T02:35:43.941-08:00</td></tr><tr><th>7</th><td>1.64354e9</td><td>1.64354e9</td><td>2022-01-30T02:35:43.941-08:00</td><td>2022-01-30T03:38:55.029-08:00</td></tr><tr><th>8</th><td>1.64354e9</td><td>1.64355e9</td><td>2022-01-30T03:38:55.029-08:00</td><td>2022-01-30T04:41:03.245-08:00</td></tr><tr><th>9</th><td>1.64355e9</td><td>1.64355e9</td><td>2022-01-30T04:41:03.245-08:00</td><td>2022-01-30T05:43:46.964-08:00</td></tr><tr><th>10</th><td>1.64355e9</td><td>1.64355e9</td><td>2022-01-30T05:43:46.964-08:00</td><td>2022-01-30T06:45:55.903-08:00</td></tr><tr><th>11</th><td>1.64355e9</td><td>1.64357e9</td><td>2022-01-30T06:45:55.903-08:00</td><td>2022-01-30T10:21:50.341-08:00</td></tr><tr><th>12</th><td>1.64357e9</td><td>1.64357e9</td><td>2022-01-30T10:21:50.341-08:00</td><td>2022-01-30T11:25:43.785-08:00</td></tr><tr><th>13</th><td>1.64357e9</td><td>1.64359e9</td><td>2022-01-30T11:25:43.785-08:00</td><td>2022-01-30T16:26:15.407-08:00</td></tr><tr><th>14</th><td>1.64359e9</td><td>1.64359e9</td><td>2022-01-30T16:26:15.407-08:00</td><td>2022-01-30T17:28:30.877-08:00</td></tr><tr><th>15</th><td>1.64359e9</td><td>1.6436e9</td><td>2022-01-30T17:28:30.877-08:00</td><td>2022-01-30T18:30:07.286-08:00</td></tr><tr><th>16</th><td>1.6436e9</td><td>1.6436e9</td><td>2022-01-30T18:30:07.286-08:00</td><td>2022-01-30T19:32:02.162-08:00</td></tr><tr><th>17</th><td>1.6436e9</td><td>1.6436e9</td><td>2022-01-30T19:32:02.162-08:00</td><td>2022-01-30T20:36:21.541-08:00</td></tr><tr><th>18</th><td>1.6436e9</td><td>1.64361e9</td><td>2022-01-30T20:36:21.541-08:00</td><td>2022-01-30T22:21:06.741-08:00</td></tr><tr><th>19</th><td>1.64361e9</td><td>1.64361e9</td><td>2022-01-30T22:21:06.741-08:00</td><td>2022-01-30T23:24:09.223-08:00</td></tr><tr><th>20</th><td>1.64361e9</td><td>1.64362e9</td><td>2022-01-30T23:24:09.223-08:00</td><td>2022-01-31T00:26:03.336-08:00</td></tr><tr><th>21</th><td>1.64362e9</td><td>1.64362e9</td><td>2022-01-31T00:26:03.336-08:00</td><td>2022-01-31T01:28:09.573-08:00</td></tr><tr><th>22</th><td>1.64362e9</td><td>1.64363e9</td><td>2022-01-31T01:28:09.573-08:00</td><td>2022-01-31T02:30:04.443-08:00</td></tr><tr><th>23</th><td>1.64363e9</td><td>1.64363e9</td><td>2022-01-31T02:30:04.443-08:00</td><td>2022-01-31T03:30:53.945-08:00</td></tr><tr><th>24</th><td>1.64363e9</td><td>1.64363e9</td><td>2022-01-31T03:30:53.945-08:00</td><td>2022-01-31T04:32:34.426-08:00</td></tr><tr><th>25</th><td>1.64363e9</td><td>1.64364e9</td><td>2022-01-31T04:32:34.426-08:00</td><td>2022-01-31T05:33:48.444-08:00</td></tr><tr><th>26</th><td>1.64364e9</td><td>1.64364e9</td><td>2022-01-31T05:33:48.444-08:00</td><td>2022-01-31T06:35:54.900-08:00</td></tr><tr><th>27</th><td>1.64364e9</td><td>1.64364e9</td><td>2022-01-31T06:35:54.900-08:00</td><td>2022-01-31T07:38:16.282-08:00</td></tr><tr><th>28</th><td>1.64364e9</td><td>1.64365e9</td><td>2022-01-31T07:38:16.282-08:00</td><td>2022-01-31T08:40:52.014-08:00</td></tr><tr><th>29</th><td>1.64365e9</td><td>1.64365e9</td><td>2022-01-31T08:40:52.014-08:00</td><td>2022-01-31T09:42:21.716-08:00</td></tr><tr><th>30</th><td>1.64365e9</td><td>1.64365e9</td><td>2022-01-31T09:42:21.716-08:00</td><td>2022-01-31T10:44:25.193-08:00</td></tr><tr><th>&vellip;</th><td>&vellip;</td><td>&vellip;</td><td>&vellip;</td><td>&vellip;</td></tr></tbody></table></div>"
      ],
      "text/latex": [
       "\\begin{tabular}{r|ccccc}\n",
       "\t& t\\_start & t\\_end & timestamp\\_start & timestamp\\_end & \\\\\n",
       "\t\\hline\n",
       "\t& Float64 & Float64 & ZonedDat… & ZonedDat… & \\\\\n",
       "\t\\hline\n",
       "\t1 & 1.64349e9 & 1.64352e9 & 2022-01-29T12:19:41.336-08:00 & 2022-01-29T20:14:11.100-08:00 & $\\dots$ \\\\\n",
       "\t2 & 1.64352e9 & 1.64352e9 & 2022-01-29T20:14:11.100-08:00 & 2022-01-29T21:57:39.900-08:00 & $\\dots$ \\\\\n",
       "\t3 & 1.64352e9 & 1.64353e9 & 2022-01-29T21:57:39.900-08:00 & 2022-01-29T23:28:01.599-08:00 & $\\dots$ \\\\\n",
       "\t4 & 1.64353e9 & 1.64353e9 & 2022-01-29T23:28:01.599-08:00 & 2022-01-30T00:30:42.107-08:00 & $\\dots$ \\\\\n",
       "\t5 & 1.64353e9 & 1.64354e9 & 2022-01-30T00:30:42.107-08:00 & 2022-01-30T01:32:23.883-08:00 & $\\dots$ \\\\\n",
       "\t6 & 1.64354e9 & 1.64354e9 & 2022-01-30T01:32:23.883-08:00 & 2022-01-30T02:35:43.941-08:00 & $\\dots$ \\\\\n",
       "\t7 & 1.64354e9 & 1.64354e9 & 2022-01-30T02:35:43.941-08:00 & 2022-01-30T03:38:55.029-08:00 & $\\dots$ \\\\\n",
       "\t8 & 1.64354e9 & 1.64355e9 & 2022-01-30T03:38:55.029-08:00 & 2022-01-30T04:41:03.245-08:00 & $\\dots$ \\\\\n",
       "\t9 & 1.64355e9 & 1.64355e9 & 2022-01-30T04:41:03.245-08:00 & 2022-01-30T05:43:46.964-08:00 & $\\dots$ \\\\\n",
       "\t10 & 1.64355e9 & 1.64355e9 & 2022-01-30T05:43:46.964-08:00 & 2022-01-30T06:45:55.903-08:00 & $\\dots$ \\\\\n",
       "\t11 & 1.64355e9 & 1.64357e9 & 2022-01-30T06:45:55.903-08:00 & 2022-01-30T10:21:50.341-08:00 & $\\dots$ \\\\\n",
       "\t12 & 1.64357e9 & 1.64357e9 & 2022-01-30T10:21:50.341-08:00 & 2022-01-30T11:25:43.785-08:00 & $\\dots$ \\\\\n",
       "\t13 & 1.64357e9 & 1.64359e9 & 2022-01-30T11:25:43.785-08:00 & 2022-01-30T16:26:15.407-08:00 & $\\dots$ \\\\\n",
       "\t14 & 1.64359e9 & 1.64359e9 & 2022-01-30T16:26:15.407-08:00 & 2022-01-30T17:28:30.877-08:00 & $\\dots$ \\\\\n",
       "\t15 & 1.64359e9 & 1.6436e9 & 2022-01-30T17:28:30.877-08:00 & 2022-01-30T18:30:07.286-08:00 & $\\dots$ \\\\\n",
       "\t16 & 1.6436e9 & 1.6436e9 & 2022-01-30T18:30:07.286-08:00 & 2022-01-30T19:32:02.162-08:00 & $\\dots$ \\\\\n",
       "\t17 & 1.6436e9 & 1.6436e9 & 2022-01-30T19:32:02.162-08:00 & 2022-01-30T20:36:21.541-08:00 & $\\dots$ \\\\\n",
       "\t18 & 1.6436e9 & 1.64361e9 & 2022-01-30T20:36:21.541-08:00 & 2022-01-30T22:21:06.741-08:00 & $\\dots$ \\\\\n",
       "\t19 & 1.64361e9 & 1.64361e9 & 2022-01-30T22:21:06.741-08:00 & 2022-01-30T23:24:09.223-08:00 & $\\dots$ \\\\\n",
       "\t20 & 1.64361e9 & 1.64362e9 & 2022-01-30T23:24:09.223-08:00 & 2022-01-31T00:26:03.336-08:00 & $\\dots$ \\\\\n",
       "\t21 & 1.64362e9 & 1.64362e9 & 2022-01-31T00:26:03.336-08:00 & 2022-01-31T01:28:09.573-08:00 & $\\dots$ \\\\\n",
       "\t22 & 1.64362e9 & 1.64363e9 & 2022-01-31T01:28:09.573-08:00 & 2022-01-31T02:30:04.443-08:00 & $\\dots$ \\\\\n",
       "\t23 & 1.64363e9 & 1.64363e9 & 2022-01-31T02:30:04.443-08:00 & 2022-01-31T03:30:53.945-08:00 & $\\dots$ \\\\\n",
       "\t24 & 1.64363e9 & 1.64363e9 & 2022-01-31T03:30:53.945-08:00 & 2022-01-31T04:32:34.426-08:00 & $\\dots$ \\\\\n",
       "\t25 & 1.64363e9 & 1.64364e9 & 2022-01-31T04:32:34.426-08:00 & 2022-01-31T05:33:48.444-08:00 & $\\dots$ \\\\\n",
       "\t26 & 1.64364e9 & 1.64364e9 & 2022-01-31T05:33:48.444-08:00 & 2022-01-31T06:35:54.900-08:00 & $\\dots$ \\\\\n",
       "\t27 & 1.64364e9 & 1.64364e9 & 2022-01-31T06:35:54.900-08:00 & 2022-01-31T07:38:16.282-08:00 & $\\dots$ \\\\\n",
       "\t28 & 1.64364e9 & 1.64365e9 & 2022-01-31T07:38:16.282-08:00 & 2022-01-31T08:40:52.014-08:00 & $\\dots$ \\\\\n",
       "\t29 & 1.64365e9 & 1.64365e9 & 2022-01-31T08:40:52.014-08:00 & 2022-01-31T09:42:21.716-08:00 & $\\dots$ \\\\\n",
       "\t30 & 1.64365e9 & 1.64365e9 & 2022-01-31T09:42:21.716-08:00 & 2022-01-31T10:44:25.193-08:00 & $\\dots$ \\\\\n",
       "\t$\\dots$ & $\\dots$ & $\\dots$ & $\\dots$ & $\\dots$ &  \\\\\n",
       "\\end{tabular}\n"
      ],
      "text/plain": [
       "\u001b[1m430×9 DataFrame\u001b[0m\n",
       "\u001b[1m Row \u001b[0m│\u001b[1m t_start   \u001b[0m\u001b[1m t_end     \u001b[0m\u001b[1m timestamp_start               \u001b[0m\u001b[1m timestamp_end     \u001b[0m ⋯\n",
       "\u001b[1m     \u001b[0m│\u001b[90m Float64   \u001b[0m\u001b[90m Float64   \u001b[0m\u001b[90m ZonedDateTime                 \u001b[0m\u001b[90m ZonedDateTime     \u001b[0m ⋯\n",
       "─────┼──────────────────────────────────────────────────────────────────────────\n",
       "   1 │ 1.64349e9  1.64352e9  2022-01-29T12:19:41.336-08:00  2022-01-29T20:14:1 ⋯\n",
       "   2 │ 1.64352e9  1.64352e9  2022-01-29T20:14:11.100-08:00  2022-01-29T21:57:3\n",
       "   3 │ 1.64352e9  1.64353e9  2022-01-29T21:57:39.900-08:00  2022-01-29T23:28:0\n",
       "   4 │ 1.64353e9  1.64353e9  2022-01-29T23:28:01.599-08:00  2022-01-30T00:30:4\n",
       "   5 │ 1.64353e9  1.64354e9  2022-01-30T00:30:42.107-08:00  2022-01-30T01:32:2 ⋯\n",
       "   6 │ 1.64354e9  1.64354e9  2022-01-30T01:32:23.883-08:00  2022-01-30T02:35:4\n",
       "   7 │ 1.64354e9  1.64354e9  2022-01-30T02:35:43.941-08:00  2022-01-30T03:38:5\n",
       "   8 │ 1.64354e9  1.64355e9  2022-01-30T03:38:55.029-08:00  2022-01-30T04:41:0\n",
       "   9 │ 1.64355e9  1.64355e9  2022-01-30T04:41:03.245-08:00  2022-01-30T05:43:4 ⋯\n",
       "  10 │ 1.64355e9  1.64355e9  2022-01-30T05:43:46.964-08:00  2022-01-30T06:45:5\n",
       "  11 │ 1.64355e9  1.64357e9  2022-01-30T06:45:55.903-08:00  2022-01-30T10:21:5\n",
       "  ⋮  │     ⋮          ⋮                    ⋮                              ⋮    ⋱\n",
       " 421 │ 1.64543e9  1.64543e9  2022-02-20T22:51:09.167-08:00  2022-02-21T00:07:4\n",
       " 422 │ 1.64543e9  1.64544e9  2022-02-21T00:07:44.727-08:00  2022-02-21T01:26:0 ⋯\n",
       " 423 │ 1.64544e9  1.64544e9  2022-02-21T01:26:09.642-08:00  2022-02-21T02:45:2\n",
       " 424 │ 1.64544e9  1.64544e9  2022-02-21T02:45:25.222-08:00  2022-02-21T04:03:0\n",
       " 425 │ 1.64544e9  1.64545e9  2022-02-21T04:03:09.430-08:00  2022-02-21T05:21:3\n",
       " 426 │ 1.64545e9  1.64545e9  2022-02-21T05:21:38.184-08:00  2022-02-21T06:35:2 ⋯\n",
       " 427 │ 1.64545e9  1.64546e9  2022-02-21T06:35:20.567-08:00  2022-02-21T07:46:3\n",
       " 428 │ 1.64546e9  1.64546e9  2022-02-21T07:46:31.532-08:00  2022-02-21T08:57:2\n",
       " 429 │ 1.64546e9  1.64547e9  2022-02-21T08:57:20.383-08:00  2022-02-21T10:11:4\n",
       " 430 │ 1.64547e9  1.64547e9  2022-02-21T10:11:46.003-08:00  2022-02-21T11:23:3 ⋯\n",
       "\u001b[36m                                                  6 columns and 409 rows omitted\u001b[0m"
      ]
     },
     "execution_count": 14,
     "metadata": {},
     "output_type": "execute_result"
    }
   ],
   "source": [
    "df_10seconds = coarsegrained(all_emeter_data, 10)\n",
    "df_minuntes = coarsegrained(all_emeter_data, 60)\n",
    "df_10minuntes = coarsegrained(all_emeter_data, 600)\n",
    "df_hours = coarsegrained(all_emeter_data, 60*60)"
   ]
  },
  {
   "cell_type": "code",
   "execution_count": 15,
   "id": "54eb5c39-ee74-41d7-abeb-2a7bfdad462f",
   "metadata": {},
   "outputs": [
    {
     "data": {
      "text/plain": [
       "\"fridge_hours.csv\""
      ]
     },
     "execution_count": 15,
     "metadata": {},
     "output_type": "execute_result"
    }
   ],
   "source": [
    "CSV.write(\"fridge_10seconds.csv\", df_10seconds)\n",
    "CSV.write(\"fridge_minutes.csv\", df_minuntes)\n",
    "CSV.write(\"fridge_10minutes.csv\", df_10minuntes)\n",
    "CSV.write(\"fridge_hours.csv\", df_hours)"
   ]
  },
  {
   "cell_type": "code",
   "execution_count": null,
   "id": "56b0e7dd-9df8-44da-aef3-55b10d5a1e0d",
   "metadata": {},
   "outputs": [],
   "source": []
  }
 ],
 "metadata": {
  "kernelspec": {
   "display_name": "Julia 1.7.1",
   "language": "julia",
   "name": "julia-1.7"
  },
  "language_info": {
   "file_extension": ".jl",
   "mimetype": "application/julia",
   "name": "julia",
   "version": "1.7.1"
  }
 },
 "nbformat": 4,
 "nbformat_minor": 5
}
