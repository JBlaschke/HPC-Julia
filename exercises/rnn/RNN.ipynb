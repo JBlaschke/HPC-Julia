{
 "cells": [
  {
   "cell_type": "markdown",
   "id": "4b14b1cf-a08b-4db8-bd60-56e4a04793bf",
   "metadata": {},
   "source": [
    "# Recurrent Neural Networks using `Flux.jl`"
   ]
  },
  {
   "cell_type": "markdown",
   "id": "df0d73d4-12db-4eca-87fe-c8fded479f85",
   "metadata": {},
   "source": [
    "Based on an [excellent 5-minute guide](https://www.jldc.ch/posts/recurrent-models-in-flux/) by Jonathan Chassot -- however `Flux.jl` has \"moved on\" breaking much of the API that the original tutorial dependet on. This is commonplace in Julia. It helps comparing different tutorials with the latest version of the documentation. For this tutorial, we updated Jonathan's work using [the stable Flux.jl docs](https://fluxml.ai/Flux.jl/stable/models/recurrence/)"
   ]
  },
  {
   "cell_type": "markdown",
   "id": "e0e7ad06-68fb-4891-8c83-8875e8987cd2",
   "metadata": {},
   "source": [
    "We are interested in a sequence-to-sequence modeling task on a univariate time series. That is, we have some time-series data $\\{x_t: t=1\\dots T\\}$ and at each time step $t$, we wish to predict the value of $x_{t+1}$.\n",
    "\n",
    "For instance, we might want to try and predict a stock’s closing price for the following day; this is an arduous task, and doing well will realistically require more than running a basic recurrent model on the past prices. Nevertheless, it is a simple, attractive example that we can use to explain the foundations of recurrent modeling in Flux."
   ]
  },
  {
   "cell_type": "markdown",
   "id": "286bd514-a67e-4410-8109-d6b256e17192",
   "metadata": {},
   "source": [
    "## Data"
   ]
  },
  {
   "cell_type": "markdown",
   "id": "a5c97ec6-abc2-4ac5-b60e-fb1ca6f629c1",
   "metadata": {},
   "source": [
    "We will use stock data for Apple Inc. (AAPL) between the start of 2019 and the end of 2021. This data is contained as a csv file the same directory as this notebook."
   ]
  },
  {
   "cell_type": "code",
   "execution_count": 1,
   "id": "018ffc0a-9f65-43f1-80f0-a9aba0883653",
   "metadata": {},
   "outputs": [],
   "source": [
    "using CSV, DataFrames "
   ]
  },
  {
   "cell_type": "code",
   "execution_count": 2,
   "id": "d188379d-6726-4a1e-91aa-6e6572e060e2",
   "metadata": {},
   "outputs": [
    {
     "data": {
      "text/html": [
       "<div class=\"data-frame\"><p>757 rows × 7 columns</p><table class=\"data-frame\"><thead><tr><th></th><th>Date</th><th>Open</th><th>High</th><th>Low</th><th>Close</th><th>Adj Close</th><th>Volume</th></tr><tr><th></th><th title=\"Dates.Date\">Date</th><th title=\"Float64\">Float64</th><th title=\"Float64\">Float64</th><th title=\"Float64\">Float64</th><th title=\"Float64\">Float64</th><th title=\"Float64\">Float64</th><th title=\"Int64\">Int64</th></tr></thead><tbody><tr><th>1</th><td>2019-01-02</td><td>38.7225</td><td>39.7125</td><td>38.5575</td><td>39.48</td><td>38.2775</td><td>148158800</td></tr><tr><th>2</th><td>2019-01-03</td><td>35.995</td><td>36.43</td><td>35.5</td><td>35.5475</td><td>34.4648</td><td>365248800</td></tr><tr><th>3</th><td>2019-01-04</td><td>36.1325</td><td>37.1375</td><td>35.95</td><td>37.065</td><td>35.9361</td><td>234428400</td></tr><tr><th>4</th><td>2019-01-07</td><td>37.175</td><td>37.2075</td><td>36.475</td><td>36.9825</td><td>35.8561</td><td>219111200</td></tr><tr><th>5</th><td>2019-01-08</td><td>37.39</td><td>37.955</td><td>37.13</td><td>37.6875</td><td>36.5396</td><td>164101200</td></tr><tr><th>6</th><td>2019-01-09</td><td>37.8225</td><td>38.6325</td><td>37.4075</td><td>38.3275</td><td>37.1601</td><td>180396400</td></tr><tr><th>7</th><td>2019-01-10</td><td>38.125</td><td>38.4925</td><td>37.715</td><td>38.45</td><td>37.2789</td><td>143122800</td></tr><tr><th>8</th><td>2019-01-11</td><td>38.22</td><td>38.425</td><td>37.8775</td><td>38.0725</td><td>36.9129</td><td>108092800</td></tr><tr><th>9</th><td>2019-01-14</td><td>37.7125</td><td>37.8175</td><td>37.305</td><td>37.5</td><td>36.3578</td><td>129756800</td></tr><tr><th>10</th><td>2019-01-15</td><td>37.5675</td><td>38.3475</td><td>37.5125</td><td>38.2675</td><td>37.102</td><td>114843600</td></tr><tr><th>11</th><td>2019-01-16</td><td>38.27</td><td>38.97</td><td>38.25</td><td>38.735</td><td>37.5552</td><td>122278800</td></tr><tr><th>12</th><td>2019-01-17</td><td>38.55</td><td>39.415</td><td>38.315</td><td>38.965</td><td>37.7782</td><td>119284800</td></tr><tr><th>13</th><td>2019-01-18</td><td>39.375</td><td>39.47</td><td>38.995</td><td>39.205</td><td>38.0109</td><td>135004000</td></tr><tr><th>14</th><td>2019-01-22</td><td>39.1025</td><td>39.1825</td><td>38.155</td><td>38.325</td><td>37.1577</td><td>121576000</td></tr><tr><th>15</th><td>2019-01-23</td><td>38.5375</td><td>38.785</td><td>37.925</td><td>38.48</td><td>37.308</td><td>92522400</td></tr><tr><th>16</th><td>2019-01-24</td><td>38.5275</td><td>38.62</td><td>37.935</td><td>38.175</td><td>37.0123</td><td>101766000</td></tr><tr><th>17</th><td>2019-01-25</td><td>38.87</td><td>39.5325</td><td>38.58</td><td>39.44</td><td>38.2387</td><td>134142000</td></tr><tr><th>18</th><td>2019-01-28</td><td>38.9475</td><td>39.0825</td><td>38.415</td><td>39.075</td><td>37.8849</td><td>104768400</td></tr><tr><th>19</th><td>2019-01-29</td><td>39.0625</td><td>39.5325</td><td>38.5275</td><td>38.67</td><td>37.4922</td><td>166348800</td></tr><tr><th>20</th><td>2019-01-30</td><td>40.8125</td><td>41.5375</td><td>40.0575</td><td>41.3125</td><td>40.0542</td><td>244439200</td></tr><tr><th>21</th><td>2019-01-31</td><td>41.5275</td><td>42.25</td><td>41.14</td><td>41.61</td><td>40.3427</td><td>162958400</td></tr><tr><th>22</th><td>2019-02-01</td><td>41.74</td><td>42.245</td><td>41.4825</td><td>41.63</td><td>40.362</td><td>130672400</td></tr><tr><th>23</th><td>2019-02-04</td><td>41.8525</td><td>42.915</td><td>41.82</td><td>42.8125</td><td>41.5085</td><td>125982000</td></tr><tr><th>24</th><td>2019-02-05</td><td>43.215</td><td>43.77</td><td>43.0875</td><td>43.545</td><td>42.2187</td><td>144406400</td></tr><tr><th>25</th><td>2019-02-06</td><td>43.6625</td><td>43.8925</td><td>43.2125</td><td>43.56</td><td>42.2333</td><td>112958400</td></tr><tr><th>26</th><td>2019-02-07</td><td>43.1</td><td>43.485</td><td>42.585</td><td>42.735</td><td>41.4334</td><td>126966800</td></tr><tr><th>27</th><td>2019-02-08</td><td>42.2475</td><td>42.665</td><td>42.105</td><td>42.6025</td><td>41.4821</td><td>95280000</td></tr><tr><th>28</th><td>2019-02-11</td><td>42.7625</td><td>42.8025</td><td>42.3125</td><td>42.3575</td><td>41.2435</td><td>83973600</td></tr><tr><th>29</th><td>2019-02-12</td><td>42.525</td><td>42.75</td><td>42.425</td><td>42.7225</td><td>41.5989</td><td>89134000</td></tr><tr><th>30</th><td>2019-02-13</td><td>42.8475</td><td>43.12</td><td>42.48</td><td>42.545</td><td>41.4261</td><td>89960800</td></tr><tr><th>&vellip;</th><td>&vellip;</td><td>&vellip;</td><td>&vellip;</td><td>&vellip;</td><td>&vellip;</td><td>&vellip;</td><td>&vellip;</td></tr></tbody></table></div>"
      ],
      "text/latex": [
       "\\begin{tabular}{r|ccccccc}\n",
       "\t& Date & Open & High & Low & Close & Adj Close & Volume\\\\\n",
       "\t\\hline\n",
       "\t& Date & Float64 & Float64 & Float64 & Float64 & Float64 & Int64\\\\\n",
       "\t\\hline\n",
       "\t1 & 2019-01-02 & 38.7225 & 39.7125 & 38.5575 & 39.48 & 38.2775 & 148158800 \\\\\n",
       "\t2 & 2019-01-03 & 35.995 & 36.43 & 35.5 & 35.5475 & 34.4648 & 365248800 \\\\\n",
       "\t3 & 2019-01-04 & 36.1325 & 37.1375 & 35.95 & 37.065 & 35.9361 & 234428400 \\\\\n",
       "\t4 & 2019-01-07 & 37.175 & 37.2075 & 36.475 & 36.9825 & 35.8561 & 219111200 \\\\\n",
       "\t5 & 2019-01-08 & 37.39 & 37.955 & 37.13 & 37.6875 & 36.5396 & 164101200 \\\\\n",
       "\t6 & 2019-01-09 & 37.8225 & 38.6325 & 37.4075 & 38.3275 & 37.1601 & 180396400 \\\\\n",
       "\t7 & 2019-01-10 & 38.125 & 38.4925 & 37.715 & 38.45 & 37.2789 & 143122800 \\\\\n",
       "\t8 & 2019-01-11 & 38.22 & 38.425 & 37.8775 & 38.0725 & 36.9129 & 108092800 \\\\\n",
       "\t9 & 2019-01-14 & 37.7125 & 37.8175 & 37.305 & 37.5 & 36.3578 & 129756800 \\\\\n",
       "\t10 & 2019-01-15 & 37.5675 & 38.3475 & 37.5125 & 38.2675 & 37.102 & 114843600 \\\\\n",
       "\t11 & 2019-01-16 & 38.27 & 38.97 & 38.25 & 38.735 & 37.5552 & 122278800 \\\\\n",
       "\t12 & 2019-01-17 & 38.55 & 39.415 & 38.315 & 38.965 & 37.7782 & 119284800 \\\\\n",
       "\t13 & 2019-01-18 & 39.375 & 39.47 & 38.995 & 39.205 & 38.0109 & 135004000 \\\\\n",
       "\t14 & 2019-01-22 & 39.1025 & 39.1825 & 38.155 & 38.325 & 37.1577 & 121576000 \\\\\n",
       "\t15 & 2019-01-23 & 38.5375 & 38.785 & 37.925 & 38.48 & 37.308 & 92522400 \\\\\n",
       "\t16 & 2019-01-24 & 38.5275 & 38.62 & 37.935 & 38.175 & 37.0123 & 101766000 \\\\\n",
       "\t17 & 2019-01-25 & 38.87 & 39.5325 & 38.58 & 39.44 & 38.2387 & 134142000 \\\\\n",
       "\t18 & 2019-01-28 & 38.9475 & 39.0825 & 38.415 & 39.075 & 37.8849 & 104768400 \\\\\n",
       "\t19 & 2019-01-29 & 39.0625 & 39.5325 & 38.5275 & 38.67 & 37.4922 & 166348800 \\\\\n",
       "\t20 & 2019-01-30 & 40.8125 & 41.5375 & 40.0575 & 41.3125 & 40.0542 & 244439200 \\\\\n",
       "\t21 & 2019-01-31 & 41.5275 & 42.25 & 41.14 & 41.61 & 40.3427 & 162958400 \\\\\n",
       "\t22 & 2019-02-01 & 41.74 & 42.245 & 41.4825 & 41.63 & 40.362 & 130672400 \\\\\n",
       "\t23 & 2019-02-04 & 41.8525 & 42.915 & 41.82 & 42.8125 & 41.5085 & 125982000 \\\\\n",
       "\t24 & 2019-02-05 & 43.215 & 43.77 & 43.0875 & 43.545 & 42.2187 & 144406400 \\\\\n",
       "\t25 & 2019-02-06 & 43.6625 & 43.8925 & 43.2125 & 43.56 & 42.2333 & 112958400 \\\\\n",
       "\t26 & 2019-02-07 & 43.1 & 43.485 & 42.585 & 42.735 & 41.4334 & 126966800 \\\\\n",
       "\t27 & 2019-02-08 & 42.2475 & 42.665 & 42.105 & 42.6025 & 41.4821 & 95280000 \\\\\n",
       "\t28 & 2019-02-11 & 42.7625 & 42.8025 & 42.3125 & 42.3575 & 41.2435 & 83973600 \\\\\n",
       "\t29 & 2019-02-12 & 42.525 & 42.75 & 42.425 & 42.7225 & 41.5989 & 89134000 \\\\\n",
       "\t30 & 2019-02-13 & 42.8475 & 43.12 & 42.48 & 42.545 & 41.4261 & 89960800 \\\\\n",
       "\t$\\dots$ & $\\dots$ & $\\dots$ & $\\dots$ & $\\dots$ & $\\dots$ & $\\dots$ & $\\dots$ \\\\\n",
       "\\end{tabular}\n"
      ],
      "text/plain": [
       "\u001b[1m757×7 DataFrame\u001b[0m\n",
       "\u001b[1m Row \u001b[0m│\u001b[1m Date       \u001b[0m\u001b[1m Open     \u001b[0m\u001b[1m High     \u001b[0m\u001b[1m Low      \u001b[0m\u001b[1m Close    \u001b[0m\u001b[1m Adj Close \u001b[0m\u001b[1m Volume  \u001b[0m ⋯\n",
       "\u001b[1m     \u001b[0m│\u001b[90m Date       \u001b[0m\u001b[90m Float64  \u001b[0m\u001b[90m Float64  \u001b[0m\u001b[90m Float64  \u001b[0m\u001b[90m Float64  \u001b[0m\u001b[90m Float64   \u001b[0m\u001b[90m Int64   \u001b[0m ⋯\n",
       "─────┼──────────────────────────────────────────────────────────────────────────\n",
       "   1 │ 2019-01-02   38.7225   39.7125   38.5575   39.48      38.2775  14815880 ⋯\n",
       "   2 │ 2019-01-03   35.995    36.43     35.5      35.5475    34.4648  36524880\n",
       "   3 │ 2019-01-04   36.1325   37.1375   35.95     37.065     35.9361  23442840\n",
       "   4 │ 2019-01-07   37.175    37.2075   36.475    36.9825    35.8561  21911120\n",
       "   5 │ 2019-01-08   37.39     37.955    37.13     37.6875    36.5396  16410120 ⋯\n",
       "   6 │ 2019-01-09   37.8225   38.6325   37.4075   38.3275    37.1601  18039640\n",
       "   7 │ 2019-01-10   38.125    38.4925   37.715    38.45      37.2789  14312280\n",
       "   8 │ 2019-01-11   38.22     38.425    37.8775   38.0725    36.9129  10809280\n",
       "   9 │ 2019-01-14   37.7125   37.8175   37.305    37.5       36.3578  12975680 ⋯\n",
       "  10 │ 2019-01-15   37.5675   38.3475   37.5125   38.2675    37.102   11484360\n",
       "  11 │ 2019-01-16   38.27     38.97     38.25     38.735     37.5552  12227880\n",
       "  ⋮  │     ⋮          ⋮         ⋮         ⋮         ⋮          ⋮          ⋮    ⋱\n",
       " 748 │ 2021-12-17  169.93    173.47    169.69    171.14     170.922   19543270\n",
       " 749 │ 2021-12-20  168.28    170.58    167.46    169.75     169.534   10749910 ⋯\n",
       " 750 │ 2021-12-21  171.56    173.2     169.12    172.99     172.77     9118590\n",
       " 751 │ 2021-12-22  173.04    175.86    172.15    175.64     175.417    9213530\n",
       " 752 │ 2021-12-23  175.85    176.85    175.27    176.28     176.056    6835660\n",
       " 753 │ 2021-12-27  177.09    180.42    177.07    180.33     180.101    7491960 ⋯\n",
       " 754 │ 2021-12-28  180.16    181.33    178.53    179.29     179.062    7914430\n",
       " 755 │ 2021-12-29  179.33    180.63    178.14    179.38     179.152    6234890\n",
       " 756 │ 2021-12-30  179.47    180.57    178.09    178.2      177.973    5977300\n",
       " 757 │ 2021-12-31  178.09    179.23    177.26    177.57     177.344    6406230 ⋯\n",
       "\u001b[36m                                                   1 column and 736 rows omitted\u001b[0m"
      ]
     },
     "execution_count": 2,
     "metadata": {},
     "output_type": "execute_result"
    }
   ],
   "source": [
    "data = CSV.read(\"AAPL.csv\", DataFrame)"
   ]
  },
  {
   "cell_type": "markdown",
   "id": "5f73186b-84d6-41bd-8bba-5493fb5eca80",
   "metadata": {},
   "source": [
    "Let's extract a time series of close prices for the `AAPL` stock. To make training easier, we create a vector `X` and a vector `Y`, with a length of 756 (1 less than the length of the data set). `Y` is simply the vector of prices shifted by one day, i.e., `Y[t]` is tomorrow’s closing price.\n"
   ]
  },
  {
   "cell_type": "code",
   "execution_count": 33,
   "id": "1a99bc27-19c1-48d3-86c8-c2e9246d1298",
   "metadata": {},
   "outputs": [
    {
     "data": {
      "text/plain": [
       "756-element Vector{Float32}:\n",
       "  35.5475\n",
       "  37.065\n",
       "  36.9825\n",
       "  37.6875\n",
       "  38.3275\n",
       "  38.45\n",
       "  38.0725\n",
       "  37.5\n",
       "  38.2675\n",
       "  38.735\n",
       "  38.965\n",
       "  39.205\n",
       "  38.325\n",
       "   ⋮\n",
       " 179.3\n",
       " 172.26\n",
       " 171.14\n",
       " 169.75\n",
       " 172.99\n",
       " 175.64\n",
       " 176.28\n",
       " 180.33\n",
       " 179.29\n",
       " 179.38\n",
       " 178.2\n",
       " 177.57"
      ]
     },
     "execution_count": 33,
     "metadata": {},
     "output_type": "execute_result"
    }
   ],
   "source": [
    "price = @. Float32(data.Close)\n",
    "X = price[1:end-1]\n",
    "Y = price[2:end]"
   ]
  },
  {
   "cell_type": "markdown",
   "id": "a846841e-f52b-4c31-992e-32b511400f13",
   "metadata": {},
   "source": [
    "## Recurrent data in `Flux.jl`"
   ]
  },
  {
   "cell_type": "markdown",
   "id": "8b2b05ee-31cd-4da1-8589-3416c5b81b50",
   "metadata": {},
   "source": [
    "First we need to convert the data into a format Flux can understand. Flux expects a different data shape than most other machine learning libraries such as PyTorch or TensorFlow.\n",
    "\n",
    "Typically, recurrent models expect input data in the form of 3-dimensional arrays with structure `(features, sequence_length, batch_size)`. Flux expects a vector of length `sequence_length` with structure `(features, batch_size)`.\n",
    "\n",
    "To keep things simple, we will work with the entire sequence length of 756. Furthermore, we have a single feature (today’s closing price) and a single batch. In other words, we can reshape the input data as follows:"
   ]
  },
  {
   "cell_type": "code",
   "execution_count": 29,
   "id": "bac89dff-4a20-4f23-b7c4-9d4c538326c4",
   "metadata": {},
   "outputs": [
    {
     "data": {
      "text/plain": [
       "756-element Vector{Vector{Float32}}:\n",
       " [39.48]\n",
       " [35.5475]\n",
       " [37.065]\n",
       " [36.9825]\n",
       " [37.6875]\n",
       " [38.3275]\n",
       " [38.45]\n",
       " [38.0725]\n",
       " [37.5]\n",
       " [38.2675]\n",
       " [38.735]\n",
       " [38.965]\n",
       " [39.205]\n",
       " ⋮\n",
       " [174.33]\n",
       " [179.3]\n",
       " [172.26]\n",
       " [171.14]\n",
       " [169.75]\n",
       " [172.99]\n",
       " [175.64]\n",
       " [176.28]\n",
       " [180.33]\n",
       " [179.29]\n",
       " [179.38]\n",
       " [178.2]"
      ]
     },
     "execution_count": 29,
     "metadata": {},
     "output_type": "execute_result"
    }
   ],
   "source": [
    "X = [[x] for x ∈ X]"
   ]
  },
  {
   "cell_type": "markdown",
   "id": "5f12c0a5-9779-42c6-a891-a8a0fd205d3d",
   "metadata": {},
   "source": [
    "(reminder: to make the `∈` symbol, type: `\\in` and push`<tab>`) Note there are many different ways to do that list transformation -- eg `map(x->[x], X)` -- you should stick with the version that you and your co-coders like best. And if it's code that runs often, you should experiment with `@code_typed`, `@code_lowered`, and `@benchmark` to find out if your favorite solution performs well."
   ]
  },
  {
   "cell_type": "markdown",
   "id": "79e8f56d-0bda-476a-a2bf-d64d9fd88824",
   "metadata": {},
   "source": [
    "If our input data were multivariate or had multiple batches, we would have to reshape our data differently."
   ]
  },
  {
   "cell_type": "markdown",
   "id": "80ef6dba-8e58-49e3-a390-baadf6ad960d",
   "metadata": {},
   "source": [
    "## Recurrent model"
   ]
  },
  {
   "cell_type": "markdown",
   "id": "fbe8eec0-4d9c-486d-b4d6-f3543c3c168f",
   "metadata": {},
   "source": [
    "There are a lot of details I omitted, such as choosing a sensible sequence length, normalizing the data, and so on. While these are not relevant to our example, they are crucial to building a good deep learning model.\n",
    "\n",
    "But let's keep it simple for now: Creating a recurrent neural network model in `Flux.jl` is as easy as possible:"
   ]
  },
  {
   "cell_type": "code",
   "execution_count": 51,
   "id": "24c3b300-f909-4c53-8dad-dad9a07c99d6",
   "metadata": {},
   "outputs": [],
   "source": [
    "using Flux"
   ]
  },
  {
   "cell_type": "code",
   "execution_count": null,
   "id": "692aba7c-cca5-4545-8eb6-5f36d25f8d40",
   "metadata": {},
   "outputs": [],
   "source": [
    "Flux.Recur"
   ]
  },
  {
   "cell_type": "code",
   "execution_count": 59,
   "id": "44675b2c-7970-44f3-8015-e20f36ee69c2",
   "metadata": {},
   "outputs": [
    {
     "data": {
      "text/plain": [
       "Chain(\n",
       "  Recur(\n",
       "    RNNCell(1 => 32, relu),             \u001b[90m# 1_120 parameters\u001b[39m\n",
       "  ),\n",
       "  Dense(32 => 1),                       \u001b[90m# 33 parameters\u001b[39m\n",
       ") \u001b[90m        # Total: 6 trainable arrays, \u001b[39m1_153 parameters,\n",
       "\u001b[90m          # plus 1 non-trainable, 32 parameters, summarysize \u001b[39m4.871 KiB."
      ]
     },
     "execution_count": 59,
     "metadata": {},
     "output_type": "execute_result"
    }
   ],
   "source": [
    "model = Chain(\n",
    "    RNN(1 => 32, relu),\n",
    "    Dense(32 => 1, identity)\n",
    ")"
   ]
  },
  {
   "cell_type": "markdown",
   "id": "397f18c5-b899-42db-804f-a6579439b49c",
   "metadata": {},
   "source": [
    "That’s it! `model` is a neural network composed of 2 chained layers, a recurrent layer with input dimension 1, output dimension 32, and [ReLU](https://en.wikipedia.org/wiki/Rectifier_(neural_networks)) activation, and a fully-connected layer with input dimension 32, output dimension 1, and linear activation."
   ]
  },
  {
   "cell_type": "markdown",
   "id": "708a696c-358d-4823-a919-41c2eb8ed246",
   "metadata": {},
   "source": [
    "### Training the model"
   ]
  },
  {
   "cell_type": "markdown",
   "id": "59feeab5-25b1-468b-8f86-e5a3c10c6807",
   "metadata": {},
   "source": [
    "Now we are ready to train our model. We will train our model for 100 epochs using the [Adam](https://en.wikipedia.org/wiki/Stochastic_gradient_descent#Adam) optimizer and the [mean squared error](https://en.wikipedia.org/wiki/Mean_squared_error) loss. Note that Flux comes with a multitude of [optimizers](https://fluxml.ai/Flux.jl/stable/training/optimisers/) and [loss functions](https://fluxml.ai/Flux.jl/stable/models/losses/), but it is also possible (and relatively easy) to define your own."
   ]
  },
  {
   "cell_type": "markdown",
   "id": "c58302e4-5e99-4dcb-b354-3b4103fa92b5",
   "metadata": {},
   "source": [
    "First let's define a loss function:"
   ]
  },
  {
   "cell_type": "code",
   "execution_count": 82,
   "id": "8faaf17a-4f61-462a-8cae-07648b56ab5e",
   "metadata": {},
   "outputs": [
    {
     "data": {
      "text/plain": [
       "loss (generic function with 1 method)"
      ]
     },
     "execution_count": 82,
     "metadata": {},
     "output_type": "execute_result"
    }
   ],
   "source": [
    "function loss(x, y)\n",
    "  model([x[1]]) # ignores the output but updates the hidden states -- sometimes called \"warmup\"\n",
    "  sum(Flux.Losses.mse(model([xi]), yi) for (xi, yi) in zip(x, y))\n",
    "end"
   ]
  },
  {
   "cell_type": "code",
   "execution_count": 83,
   "id": "3123acc5-dac6-4507-8451-9eb3c68abcbf",
   "metadata": {},
   "outputs": [
    {
     "data": {
      "text/plain": [
       "2.9560038f7"
      ]
     },
     "execution_count": 83,
     "metadata": {},
     "output_type": "execute_result"
    }
   ],
   "source": [
    "loss(X,Y)"
   ]
  },
  {
   "cell_type": "code",
   "execution_count": 85,
   "id": "38334a0c-0b38-41ba-8dc7-d92aa7ba70ce",
   "metadata": {},
   "outputs": [
    {
     "name": "stdout",
     "output_type": "stream",
     "text": [
      "New Loss = 5119.911  \r"
     ]
    }
   ],
   "source": [
    "epochs = 100\n",
    "opt = ADAM()\n",
    "θ = Flux.params(model) # Keep track of the model parameters\n",
    "losses = Float32[] # a Float32 array\n",
    "for epoch ∈ 1:epochs # Training loop\n",
    "    # Flux.reset!(model) # Reset the hidden state of the RNN\n",
    "    # # Compute the gradient of the mean squared error loss\n",
    "    # ∇ = gradient(θ) do\n",
    "    #     model([X[1]]) # Warm-up the model\n",
    "    #     sum(Flux.Losses.mse.([model(x)[1] for x ∈ X[2:end]], Y[2:end]))\n",
    "    # end\n",
    "    # Flux.update!(opt, θ, ∇) # Update the parameters\n",
    "    Flux.train!(loss, θ, zip(X, Y), opt)\n",
    "    new_loss = loss(X, Y)\n",
    "    print(\"New Loss = $(new_loss) \\r\")\n",
    "    push!(losses, new_loss)\n",
    "end"
   ]
  },
  {
   "cell_type": "markdown",
   "id": "9afbba62-4699-44d1-aac9-9ca9d9e74c36",
   "metadata": {},
   "source": [
    "You should see the loss gradually count down"
   ]
  },
  {
   "cell_type": "code",
   "execution_count": 86,
   "id": "999363e5-206e-4200-b0b5-ab0e7bbf5198",
   "metadata": {},
   "outputs": [],
   "source": [
    "using Plots"
   ]
  },
  {
   "cell_type": "code",
   "execution_count": 87,
   "id": "a484337f-0007-49e8-857b-06b89899e3b2",
   "metadata": {},
   "outputs": [
    {
     "data": {
      "image/svg+xml": [
       "<?xml version=\"1.0\" encoding=\"utf-8\"?>\n",
       "<svg xmlns=\"http://www.w3.org/2000/svg\" xmlns:xlink=\"http://www.w3.org/1999/xlink\" width=\"600\" height=\"400\" viewBox=\"0 0 2400 1600\">\n",
       "<defs>\n",
       "  <clipPath id=\"clip810\">\n",
       "    <rect x=\"0\" y=\"0\" width=\"2400\" height=\"1600\"/>\n",
       "  </clipPath>\n",
       "</defs>\n",
       "<path clip-path=\"url(#clip810)\" d=\"\n",
       "M0 1600 L2400 1600 L2400 0 L0 0  Z\n",
       "  \" fill=\"#ffffff\" fill-rule=\"evenodd\" fill-opacity=\"1\"/>\n",
       "<defs>\n",
       "  <clipPath id=\"clip811\">\n",
       "    <rect x=\"480\" y=\"0\" width=\"1681\" height=\"1600\"/>\n",
       "  </clipPath>\n",
       "</defs>\n",
       "<path clip-path=\"url(#clip810)\" d=\"\n",
       "M306.435 1486.45 L2352.76 1486.45 L2352.76 47.2441 L306.435 47.2441  Z\n",
       "  \" fill=\"#ffffff\" fill-rule=\"evenodd\" fill-opacity=\"1\"/>\n",
       "<defs>\n",
       "  <clipPath id=\"clip812\">\n",
       "    <rect x=\"306\" y=\"47\" width=\"2047\" height=\"1440\"/>\n",
       "  </clipPath>\n",
       "</defs>\n",
       "<polyline clip-path=\"url(#clip812)\" style=\"stroke:#000000; stroke-linecap:butt; stroke-linejoin:round; stroke-width:2; stroke-opacity:0.1; fill:none\" points=\"\n",
       "  344.85,1486.45 344.85,47.2441 \n",
       "  \"/>\n",
       "<polyline clip-path=\"url(#clip812)\" style=\"stroke:#000000; stroke-linecap:butt; stroke-linejoin:round; stroke-width:2; stroke-opacity:0.1; fill:none\" points=\"\n",
       "  832.348,1486.45 832.348,47.2441 \n",
       "  \"/>\n",
       "<polyline clip-path=\"url(#clip812)\" style=\"stroke:#000000; stroke-linecap:butt; stroke-linejoin:round; stroke-width:2; stroke-opacity:0.1; fill:none\" points=\"\n",
       "  1319.85,1486.45 1319.85,47.2441 \n",
       "  \"/>\n",
       "<polyline clip-path=\"url(#clip812)\" style=\"stroke:#000000; stroke-linecap:butt; stroke-linejoin:round; stroke-width:2; stroke-opacity:0.1; fill:none\" points=\"\n",
       "  1807.34,1486.45 1807.34,47.2441 \n",
       "  \"/>\n",
       "<polyline clip-path=\"url(#clip812)\" style=\"stroke:#000000; stroke-linecap:butt; stroke-linejoin:round; stroke-width:2; stroke-opacity:0.1; fill:none\" points=\"\n",
       "  2294.84,1486.45 2294.84,47.2441 \n",
       "  \"/>\n",
       "<polyline clip-path=\"url(#clip810)\" style=\"stroke:#000000; stroke-linecap:butt; stroke-linejoin:round; stroke-width:4; stroke-opacity:1; fill:none\" points=\"\n",
       "  306.435,1486.45 2352.76,1486.45 \n",
       "  \"/>\n",
       "<polyline clip-path=\"url(#clip810)\" style=\"stroke:#000000; stroke-linecap:butt; stroke-linejoin:round; stroke-width:4; stroke-opacity:1; fill:none\" points=\"\n",
       "  344.85,1486.45 344.85,1467.55 \n",
       "  \"/>\n",
       "<polyline clip-path=\"url(#clip810)\" style=\"stroke:#000000; stroke-linecap:butt; stroke-linejoin:round; stroke-width:4; stroke-opacity:1; fill:none\" points=\"\n",
       "  832.348,1486.45 832.348,1467.55 \n",
       "  \"/>\n",
       "<polyline clip-path=\"url(#clip810)\" style=\"stroke:#000000; stroke-linecap:butt; stroke-linejoin:round; stroke-width:4; stroke-opacity:1; fill:none\" points=\"\n",
       "  1319.85,1486.45 1319.85,1467.55 \n",
       "  \"/>\n",
       "<polyline clip-path=\"url(#clip810)\" style=\"stroke:#000000; stroke-linecap:butt; stroke-linejoin:round; stroke-width:4; stroke-opacity:1; fill:none\" points=\"\n",
       "  1807.34,1486.45 1807.34,1467.55 \n",
       "  \"/>\n",
       "<polyline clip-path=\"url(#clip810)\" style=\"stroke:#000000; stroke-linecap:butt; stroke-linejoin:round; stroke-width:4; stroke-opacity:1; fill:none\" points=\"\n",
       "  2294.84,1486.45 2294.84,1467.55 \n",
       "  \"/>\n",
       "<path clip-path=\"url(#clip810)\" d=\"M344.85 1517.37 Q341.239 1517.37 339.41 1520.93 Q337.605 1524.47 337.605 1531.6 Q337.605 1538.71 339.41 1542.27 Q341.239 1545.82 344.85 1545.82 Q348.484 1545.82 350.29 1542.27 Q352.119 1538.71 352.119 1531.6 Q352.119 1524.47 350.29 1520.93 Q348.484 1517.37 344.85 1517.37 M344.85 1513.66 Q350.66 1513.66 353.716 1518.27 Q356.795 1522.85 356.795 1531.6 Q356.795 1540.33 353.716 1544.94 Q350.66 1549.52 344.85 1549.52 Q339.04 1549.52 335.961 1544.94 Q332.906 1540.33 332.906 1531.6 Q332.906 1522.85 335.961 1518.27 Q339.04 1513.66 344.85 1513.66 Z\" fill=\"#000000\" fill-rule=\"evenodd\" fill-opacity=\"1\" /><path clip-path=\"url(#clip810)\" d=\"M811.619 1544.91 L827.938 1544.91 L827.938 1548.85 L805.994 1548.85 L805.994 1544.91 Q808.656 1542.16 813.239 1537.53 Q817.846 1532.88 819.026 1531.53 Q821.272 1529.01 822.151 1527.27 Q823.054 1525.51 823.054 1523.82 Q823.054 1521.07 821.11 1519.33 Q819.188 1517.6 816.086 1517.6 Q813.887 1517.6 811.434 1518.36 Q809.003 1519.13 806.225 1520.68 L806.225 1515.95 Q809.049 1514.82 811.503 1514.24 Q813.957 1513.66 815.994 1513.66 Q821.364 1513.66 824.559 1516.35 Q827.753 1519.03 827.753 1523.52 Q827.753 1525.65 826.943 1527.57 Q826.156 1529.47 824.049 1532.07 Q823.471 1532.74 820.369 1535.95 Q817.267 1539.15 811.619 1544.91 Z\" fill=\"#000000\" fill-rule=\"evenodd\" fill-opacity=\"1\" /><path clip-path=\"url(#clip810)\" d=\"M837.799 1514.29 L856.156 1514.29 L856.156 1518.22 L842.082 1518.22 L842.082 1526.7 Q843.1 1526.35 844.119 1526.19 Q845.137 1526 846.156 1526 Q851.943 1526 855.322 1529.17 Q858.702 1532.34 858.702 1537.76 Q858.702 1543.34 855.23 1546.44 Q851.758 1549.52 845.438 1549.52 Q843.262 1549.52 840.994 1549.15 Q838.748 1548.78 836.341 1548.04 L836.341 1543.34 Q838.424 1544.47 840.647 1545.03 Q842.869 1545.58 845.346 1545.58 Q849.35 1545.58 851.688 1543.48 Q854.026 1541.37 854.026 1537.76 Q854.026 1534.15 851.688 1532.04 Q849.35 1529.94 845.346 1529.94 Q843.471 1529.94 841.596 1530.35 Q839.744 1530.77 837.799 1531.65 L837.799 1514.29 Z\" fill=\"#000000\" fill-rule=\"evenodd\" fill-opacity=\"1\" /><path clip-path=\"url(#clip810)\" d=\"M1294.54 1514.29 L1312.9 1514.29 L1312.9 1518.22 L1298.83 1518.22 L1298.83 1526.7 Q1299.85 1526.35 1300.86 1526.19 Q1301.88 1526 1302.9 1526 Q1308.69 1526 1312.07 1529.17 Q1315.45 1532.34 1315.45 1537.76 Q1315.45 1543.34 1311.98 1546.44 Q1308.5 1549.52 1302.18 1549.52 Q1300.01 1549.52 1297.74 1549.15 Q1295.49 1548.78 1293.09 1548.04 L1293.09 1543.34 Q1295.17 1544.47 1297.39 1545.03 Q1299.61 1545.58 1302.09 1545.58 Q1306.1 1545.58 1308.43 1543.48 Q1310.77 1541.37 1310.77 1537.76 Q1310.77 1534.15 1308.43 1532.04 Q1306.1 1529.94 1302.09 1529.94 Q1300.22 1529.94 1298.34 1530.35 Q1296.49 1530.77 1294.54 1531.65 L1294.54 1514.29 Z\" fill=\"#000000\" fill-rule=\"evenodd\" fill-opacity=\"1\" /><path clip-path=\"url(#clip810)\" d=\"M1334.66 1517.37 Q1331.05 1517.37 1329.22 1520.93 Q1327.42 1524.47 1327.42 1531.6 Q1327.42 1538.71 1329.22 1542.27 Q1331.05 1545.82 1334.66 1545.82 Q1338.29 1545.82 1340.1 1542.27 Q1341.93 1538.71 1341.93 1531.6 Q1341.93 1524.47 1340.1 1520.93 Q1338.29 1517.37 1334.66 1517.37 M1334.66 1513.66 Q1340.47 1513.66 1343.53 1518.27 Q1346.6 1522.85 1346.6 1531.6 Q1346.6 1540.33 1343.53 1544.94 Q1340.47 1549.52 1334.66 1549.52 Q1328.85 1549.52 1325.77 1544.94 Q1322.72 1540.33 1322.72 1531.6 Q1322.72 1522.85 1325.77 1518.27 Q1328.85 1513.66 1334.66 1513.66 Z\" fill=\"#000000\" fill-rule=\"evenodd\" fill-opacity=\"1\" /><path clip-path=\"url(#clip810)\" d=\"M1781.2 1514.29 L1803.42 1514.29 L1803.42 1516.28 L1790.87 1548.85 L1785.99 1548.85 L1797.79 1518.22 L1781.2 1518.22 L1781.2 1514.29 Z\" fill=\"#000000\" fill-rule=\"evenodd\" fill-opacity=\"1\" /><path clip-path=\"url(#clip810)\" d=\"M1812.59 1514.29 L1830.94 1514.29 L1830.94 1518.22 L1816.87 1518.22 L1816.87 1526.7 Q1817.89 1526.35 1818.91 1526.19 Q1819.92 1526 1820.94 1526 Q1826.73 1526 1830.11 1529.17 Q1833.49 1532.34 1833.49 1537.76 Q1833.49 1543.34 1830.02 1546.44 Q1826.54 1549.52 1820.23 1549.52 Q1818.05 1549.52 1815.78 1549.15 Q1813.54 1548.78 1811.13 1548.04 L1811.13 1543.34 Q1813.21 1544.47 1815.43 1545.03 Q1817.66 1545.58 1820.13 1545.58 Q1824.14 1545.58 1826.48 1543.48 Q1828.81 1541.37 1828.81 1537.76 Q1828.81 1534.15 1826.48 1532.04 Q1824.14 1529.94 1820.13 1529.94 Q1818.26 1529.94 1816.38 1530.35 Q1814.53 1530.77 1812.59 1531.65 L1812.59 1514.29 Z\" fill=\"#000000\" fill-rule=\"evenodd\" fill-opacity=\"1\" /><path clip-path=\"url(#clip810)\" d=\"M2254.45 1544.91 L2262.09 1544.91 L2262.09 1518.55 L2253.78 1520.21 L2253.78 1515.95 L2262.04 1514.29 L2266.72 1514.29 L2266.72 1544.91 L2274.36 1544.91 L2274.36 1548.85 L2254.45 1548.85 L2254.45 1544.91 Z\" fill=\"#000000\" fill-rule=\"evenodd\" fill-opacity=\"1\" /><path clip-path=\"url(#clip810)\" d=\"M2293.8 1517.37 Q2290.19 1517.37 2288.36 1520.93 Q2286.55 1524.47 2286.55 1531.6 Q2286.55 1538.71 2288.36 1542.27 Q2290.19 1545.82 2293.8 1545.82 Q2297.43 1545.82 2299.24 1542.27 Q2301.07 1538.71 2301.07 1531.6 Q2301.07 1524.47 2299.24 1520.93 Q2297.43 1517.37 2293.8 1517.37 M2293.8 1513.66 Q2299.61 1513.66 2302.67 1518.27 Q2305.74 1522.85 2305.74 1531.6 Q2305.74 1540.33 2302.67 1544.94 Q2299.61 1549.52 2293.8 1549.52 Q2287.99 1549.52 2284.91 1544.94 Q2281.86 1540.33 2281.86 1531.6 Q2281.86 1522.85 2284.91 1518.27 Q2287.99 1513.66 2293.8 1513.66 Z\" fill=\"#000000\" fill-rule=\"evenodd\" fill-opacity=\"1\" /><path clip-path=\"url(#clip810)\" d=\"M2323.96 1517.37 Q2320.35 1517.37 2318.52 1520.93 Q2316.72 1524.47 2316.72 1531.6 Q2316.72 1538.71 2318.52 1542.27 Q2320.35 1545.82 2323.96 1545.82 Q2327.6 1545.82 2329.4 1542.27 Q2331.23 1538.71 2331.23 1531.6 Q2331.23 1524.47 2329.4 1520.93 Q2327.6 1517.37 2323.96 1517.37 M2323.96 1513.66 Q2329.77 1513.66 2332.83 1518.27 Q2335.91 1522.85 2335.91 1531.6 Q2335.91 1540.33 2332.83 1544.94 Q2329.77 1549.52 2323.96 1549.52 Q2318.15 1549.52 2315.07 1544.94 Q2312.02 1540.33 2312.02 1531.6 Q2312.02 1522.85 2315.07 1518.27 Q2318.15 1513.66 2323.96 1513.66 Z\" fill=\"#000000\" fill-rule=\"evenodd\" fill-opacity=\"1\" /><polyline clip-path=\"url(#clip812)\" style=\"stroke:#000000; stroke-linecap:butt; stroke-linejoin:round; stroke-width:2; stroke-opacity:0.1; fill:none\" points=\"\n",
       "  306.435,1456.02 2352.76,1456.02 \n",
       "  \"/>\n",
       "<polyline clip-path=\"url(#clip812)\" style=\"stroke:#000000; stroke-linecap:butt; stroke-linejoin:round; stroke-width:2; stroke-opacity:0.1; fill:none\" points=\"\n",
       "  306.435,1026.46 2352.76,1026.46 \n",
       "  \"/>\n",
       "<polyline clip-path=\"url(#clip812)\" style=\"stroke:#000000; stroke-linecap:butt; stroke-linejoin:round; stroke-width:2; stroke-opacity:0.1; fill:none\" points=\"\n",
       "  306.435,596.907 2352.76,596.907 \n",
       "  \"/>\n",
       "<polyline clip-path=\"url(#clip812)\" style=\"stroke:#000000; stroke-linecap:butt; stroke-linejoin:round; stroke-width:2; stroke-opacity:0.1; fill:none\" points=\"\n",
       "  306.435,167.352 2352.76,167.352 \n",
       "  \"/>\n",
       "<polyline clip-path=\"url(#clip810)\" style=\"stroke:#000000; stroke-linecap:butt; stroke-linejoin:round; stroke-width:4; stroke-opacity:1; fill:none\" points=\"\n",
       "  306.435,1486.45 306.435,47.2441 \n",
       "  \"/>\n",
       "<polyline clip-path=\"url(#clip810)\" style=\"stroke:#000000; stroke-linecap:butt; stroke-linejoin:round; stroke-width:4; stroke-opacity:1; fill:none\" points=\"\n",
       "  306.435,1456.02 325.333,1456.02 \n",
       "  \"/>\n",
       "<polyline clip-path=\"url(#clip810)\" style=\"stroke:#000000; stroke-linecap:butt; stroke-linejoin:round; stroke-width:4; stroke-opacity:1; fill:none\" points=\"\n",
       "  306.435,1026.46 325.333,1026.46 \n",
       "  \"/>\n",
       "<polyline clip-path=\"url(#clip810)\" style=\"stroke:#000000; stroke-linecap:butt; stroke-linejoin:round; stroke-width:4; stroke-opacity:1; fill:none\" points=\"\n",
       "  306.435,596.907 325.333,596.907 \n",
       "  \"/>\n",
       "<polyline clip-path=\"url(#clip810)\" style=\"stroke:#000000; stroke-linecap:butt; stroke-linejoin:round; stroke-width:4; stroke-opacity:1; fill:none\" points=\"\n",
       "  306.435,167.352 325.333,167.352 \n",
       "  \"/>\n",
       "<path clip-path=\"url(#clip810)\" d=\"M54.6105 1445.18 L72.9668 1445.18 L72.9668 1449.12 L58.8928 1449.12 L58.8928 1457.59 Q59.9113 1457.25 60.9299 1457.08 Q61.9484 1456.9 62.9669 1456.9 Q68.7539 1456.9 72.1335 1460.07 Q75.5131 1463.24 75.5131 1468.66 Q75.5131 1474.24 72.0409 1477.34 Q68.5687 1480.42 62.2493 1480.42 Q60.0734 1480.42 57.8049 1480.05 Q55.5595 1479.68 53.1521 1478.93 L53.1521 1474.24 Q55.2354 1475.37 57.4577 1475.93 Q59.6799 1476.48 62.1567 1476.48 Q66.1613 1476.48 68.4993 1474.37 Q70.8372 1472.27 70.8372 1468.66 Q70.8372 1465.05 68.4993 1462.94 Q66.1613 1460.83 62.1567 1460.83 Q60.2817 1460.83 58.4067 1461.25 Q56.5549 1461.67 54.6105 1462.55 L54.6105 1445.18 Z\" fill=\"#000000\" fill-rule=\"evenodd\" fill-opacity=\"1\" /><path clip-path=\"url(#clip810)\" d=\"M84.726 1473.87 L89.6103 1473.87 L89.6103 1479.74 L84.726 1479.74 L84.726 1473.87 Z\" fill=\"#000000\" fill-rule=\"evenodd\" fill-opacity=\"1\" /><path clip-path=\"url(#clip810)\" d=\"M109.795 1448.26 Q106.184 1448.26 104.356 1451.83 Q102.55 1455.37 102.55 1462.5 Q102.55 1469.61 104.356 1473.17 Q106.184 1476.71 109.795 1476.71 Q113.43 1476.71 115.235 1473.17 Q117.064 1469.61 117.064 1462.5 Q117.064 1455.37 115.235 1451.83 Q113.43 1448.26 109.795 1448.26 M109.795 1444.56 Q115.605 1444.56 118.661 1449.17 Q121.74 1453.75 121.74 1462.5 Q121.74 1471.23 118.661 1475.83 Q115.605 1480.42 109.795 1480.42 Q103.985 1480.42 100.906 1475.83 Q97.851 1471.23 97.851 1462.5 Q97.851 1453.75 100.906 1449.17 Q103.985 1444.56 109.795 1444.56 Z\" fill=\"#000000\" fill-rule=\"evenodd\" fill-opacity=\"1\" /><path clip-path=\"url(#clip810)\" d=\"M139.957 1448.26 Q136.346 1448.26 134.517 1451.83 Q132.712 1455.37 132.712 1462.5 Q132.712 1469.61 134.517 1473.17 Q136.346 1476.71 139.957 1476.71 Q143.591 1476.71 145.397 1473.17 Q147.226 1469.61 147.226 1462.5 Q147.226 1455.37 145.397 1451.83 Q143.591 1448.26 139.957 1448.26 M139.957 1444.56 Q145.767 1444.56 148.823 1449.17 Q151.902 1453.75 151.902 1462.5 Q151.902 1471.23 148.823 1475.83 Q145.767 1480.42 139.957 1480.42 Q134.147 1480.42 131.068 1475.83 Q128.013 1471.23 128.013 1462.5 Q128.013 1453.75 131.068 1449.17 Q134.147 1444.56 139.957 1444.56 Z\" fill=\"#000000\" fill-rule=\"evenodd\" fill-opacity=\"1\" /><path clip-path=\"url(#clip810)\" d=\"M188.29 1454.28 L177.712 1464.91 L188.29 1475.49 L185.536 1478.29 L174.911 1467.66 L164.286 1478.29 L161.554 1475.49 L172.11 1464.91 L161.554 1454.28 L164.286 1451.48 L174.911 1462.11 L185.536 1451.48 L188.29 1454.28 Z\" fill=\"#000000\" fill-rule=\"evenodd\" fill-opacity=\"1\" /><path clip-path=\"url(#clip810)\" d=\"M200.651 1475.81 L208.29 1475.81 L208.29 1449.44 L199.98 1451.11 L199.98 1446.85 L208.244 1445.18 L212.92 1445.18 L212.92 1475.81 L220.559 1475.81 L220.559 1479.74 L200.651 1479.74 L200.651 1475.81 Z\" fill=\"#000000\" fill-rule=\"evenodd\" fill-opacity=\"1\" /><path clip-path=\"url(#clip810)\" d=\"M240.003 1448.26 Q236.392 1448.26 234.563 1451.83 Q232.758 1455.37 232.758 1462.5 Q232.758 1469.61 234.563 1473.17 Q236.392 1476.71 240.003 1476.71 Q243.637 1476.71 245.443 1473.17 Q247.271 1469.61 247.271 1462.5 Q247.271 1455.37 245.443 1451.83 Q243.637 1448.26 240.003 1448.26 M240.003 1444.56 Q245.813 1444.56 248.869 1449.17 Q251.947 1453.75 251.947 1462.5 Q251.947 1471.23 248.869 1475.83 Q245.813 1480.42 240.003 1480.42 Q234.193 1480.42 231.114 1475.83 Q228.059 1471.23 228.059 1462.5 Q228.059 1453.75 231.114 1449.17 Q234.193 1444.56 240.003 1444.56 Z\" fill=\"#000000\" fill-rule=\"evenodd\" fill-opacity=\"1\" /><path clip-path=\"url(#clip810)\" d=\"M264.643 1437.19 Q267.37 1437.78 268.893 1439.62 Q270.435 1441.46 270.435 1444.17 Q270.435 1448.33 267.577 1450.6 Q264.718 1452.88 259.452 1452.88 Q257.684 1452.88 255.803 1452.52 Q253.941 1452.18 251.947 1451.49 L251.947 1447.82 Q253.527 1448.74 255.408 1449.21 Q257.289 1449.68 259.339 1449.68 Q262.912 1449.68 264.774 1448.27 Q266.655 1446.86 266.655 1444.17 Q266.655 1441.69 264.906 1440.3 Q263.176 1438.89 260.072 1438.89 L256.8 1438.89 L256.8 1435.76 L260.223 1435.76 Q263.025 1435.76 264.511 1434.66 Q265.997 1433.53 265.997 1431.42 Q265.997 1429.26 264.455 1428.11 Q262.931 1426.94 260.072 1426.94 Q258.511 1426.94 256.725 1427.28 Q254.938 1427.62 252.794 1428.34 L252.794 1424.95 Q254.957 1424.35 256.837 1424.05 Q258.737 1423.75 260.411 1423.75 Q264.737 1423.75 267.257 1425.72 Q269.777 1427.68 269.777 1431.03 Q269.777 1433.36 268.442 1434.98 Q267.106 1436.57 264.643 1437.19 Z\" fill=\"#000000\" fill-rule=\"evenodd\" fill-opacity=\"1\" /><path clip-path=\"url(#clip810)\" d=\"M53.3995 1046.25 L61.0384 1046.25 L61.0384 1019.89 L52.7282 1021.56 L52.7282 1017.3 L60.9921 1015.63 L65.668 1015.63 L65.668 1046.25 L73.3068 1046.25 L73.3068 1050.19 L53.3995 1050.19 L53.3995 1046.25 Z\" fill=\"#000000\" fill-rule=\"evenodd\" fill-opacity=\"1\" /><path clip-path=\"url(#clip810)\" d=\"M82.7512 1044.31 L87.6354 1044.31 L87.6354 1050.19 L82.7512 1050.19 L82.7512 1044.31 Z\" fill=\"#000000\" fill-rule=\"evenodd\" fill-opacity=\"1\" /><path clip-path=\"url(#clip810)\" d=\"M107.821 1018.71 Q104.209 1018.71 102.381 1022.27 Q100.575 1025.82 100.575 1032.94 Q100.575 1040.05 102.381 1043.62 Q104.209 1047.16 107.821 1047.16 Q111.455 1047.16 113.26 1043.62 Q115.089 1040.05 115.089 1032.94 Q115.089 1025.82 113.26 1022.27 Q111.455 1018.71 107.821 1018.71 M107.821 1015.01 Q113.631 1015.01 116.686 1019.61 Q119.765 1024.19 119.765 1032.94 Q119.765 1041.67 116.686 1046.28 Q113.631 1050.86 107.821 1050.86 Q102.01 1050.86 98.9317 1046.28 Q95.8761 1041.67 95.8761 1032.94 Q95.8761 1024.19 98.9317 1019.61 Q102.01 1015.01 107.821 1015.01 Z\" fill=\"#000000\" fill-rule=\"evenodd\" fill-opacity=\"1\" /><path clip-path=\"url(#clip810)\" d=\"M137.982 1018.71 Q134.371 1018.71 132.543 1022.27 Q130.737 1025.82 130.737 1032.94 Q130.737 1040.05 132.543 1043.62 Q134.371 1047.16 137.982 1047.16 Q141.617 1047.16 143.422 1043.62 Q145.251 1040.05 145.251 1032.94 Q145.251 1025.82 143.422 1022.27 Q141.617 1018.71 137.982 1018.71 M137.982 1015.01 Q143.793 1015.01 146.848 1019.61 Q149.927 1024.19 149.927 1032.94 Q149.927 1041.67 146.848 1046.28 Q143.793 1050.86 137.982 1050.86 Q132.172 1050.86 129.094 1046.28 Q126.038 1041.67 126.038 1032.94 Q126.038 1024.19 129.094 1019.61 Q132.172 1015.01 137.982 1015.01 Z\" fill=\"#000000\" fill-rule=\"evenodd\" fill-opacity=\"1\" /><path clip-path=\"url(#clip810)\" d=\"M186.315 1024.73 L175.737 1035.35 L186.315 1045.93 L183.561 1048.73 L172.936 1038.11 L162.311 1048.73 L159.58 1045.93 L170.135 1035.35 L159.58 1024.73 L162.311 1021.93 L172.936 1032.55 L183.561 1021.93 L186.315 1024.73 Z\" fill=\"#000000\" fill-rule=\"evenodd\" fill-opacity=\"1\" /><path clip-path=\"url(#clip810)\" d=\"M198.677 1046.25 L206.315 1046.25 L206.315 1019.89 L198.005 1021.56 L198.005 1017.3 L206.269 1015.63 L210.945 1015.63 L210.945 1046.25 L218.584 1046.25 L218.584 1050.19 L198.677 1050.19 L198.677 1046.25 Z\" fill=\"#000000\" fill-rule=\"evenodd\" fill-opacity=\"1\" /><path clip-path=\"url(#clip810)\" d=\"M238.028 1018.71 Q234.417 1018.71 232.588 1022.27 Q230.783 1025.82 230.783 1032.94 Q230.783 1040.05 232.588 1043.62 Q234.417 1047.16 238.028 1047.16 Q241.662 1047.16 243.468 1043.62 Q245.297 1040.05 245.297 1032.94 Q245.297 1025.82 243.468 1022.27 Q241.662 1018.71 238.028 1018.71 M238.028 1015.01 Q243.838 1015.01 246.894 1019.61 Q249.973 1024.19 249.973 1032.94 Q249.973 1041.67 246.894 1046.28 Q243.838 1050.86 238.028 1050.86 Q232.218 1050.86 229.139 1046.28 Q226.084 1041.67 226.084 1032.94 Q226.084 1024.19 229.139 1019.61 Q232.218 1015.01 238.028 1015.01 Z\" fill=\"#000000\" fill-rule=\"evenodd\" fill-opacity=\"1\" /><path clip-path=\"url(#clip810)\" d=\"M262.649 998.01 L253.057 1013 L262.649 1013 L262.649 998.01 M261.652 994.7 L266.429 994.7 L266.429 1013 L270.435 1013 L270.435 1016.16 L266.429 1016.16 L266.429 1022.78 L262.649 1022.78 L262.649 1016.16 L249.973 1016.16 L249.973 1012.49 L261.652 994.7 Z\" fill=\"#000000\" fill-rule=\"evenodd\" fill-opacity=\"1\" /><path clip-path=\"url(#clip810)\" d=\"M53.3995 616.7 L61.0384 616.7 L61.0384 590.334 L52.7282 592.001 L52.7282 587.742 L60.9921 586.075 L65.668 586.075 L65.668 616.7 L73.3068 616.7 L73.3068 620.635 L53.3995 620.635 L53.3995 616.7 Z\" fill=\"#000000\" fill-rule=\"evenodd\" fill-opacity=\"1\" /><path clip-path=\"url(#clip810)\" d=\"M82.7512 614.755 L87.6354 614.755 L87.6354 620.635 L82.7512 620.635 L82.7512 614.755 Z\" fill=\"#000000\" fill-rule=\"evenodd\" fill-opacity=\"1\" /><path clip-path=\"url(#clip810)\" d=\"M97.8669 586.075 L116.223 586.075 L116.223 590.01 L102.149 590.01 L102.149 598.482 Q103.168 598.135 104.186 597.973 Q105.205 597.788 106.223 597.788 Q112.01 597.788 115.39 600.959 Q118.77 604.131 118.77 609.547 Q118.77 615.126 115.297 618.228 Q111.825 621.306 105.506 621.306 Q103.33 621.306 101.061 620.936 Q98.8159 620.566 96.4085 619.825 L96.4085 615.126 Q98.4919 616.26 100.714 616.816 Q102.936 617.371 105.413 617.371 Q109.418 617.371 111.756 615.265 Q114.094 613.158 114.094 609.547 Q114.094 605.936 111.756 603.83 Q109.418 601.723 105.413 601.723 Q103.538 601.723 101.663 602.14 Q99.8113 602.556 97.8669 603.436 L97.8669 586.075 Z\" fill=\"#000000\" fill-rule=\"evenodd\" fill-opacity=\"1\" /><path clip-path=\"url(#clip810)\" d=\"M137.982 589.154 Q134.371 589.154 132.543 592.719 Q130.737 596.26 130.737 603.39 Q130.737 610.496 132.543 614.061 Q134.371 617.603 137.982 617.603 Q141.617 617.603 143.422 614.061 Q145.251 610.496 145.251 603.39 Q145.251 596.26 143.422 592.719 Q141.617 589.154 137.982 589.154 M137.982 585.45 Q143.793 585.45 146.848 590.057 Q149.927 594.64 149.927 603.39 Q149.927 612.117 146.848 616.723 Q143.793 621.306 137.982 621.306 Q132.172 621.306 129.094 616.723 Q126.038 612.117 126.038 603.39 Q126.038 594.64 129.094 590.057 Q132.172 585.45 137.982 585.45 Z\" fill=\"#000000\" fill-rule=\"evenodd\" fill-opacity=\"1\" /><path clip-path=\"url(#clip810)\" d=\"M186.315 595.172 L175.737 605.797 L186.315 616.376 L183.561 619.177 L172.936 608.552 L162.311 619.177 L159.58 616.376 L170.135 605.797 L159.58 595.172 L162.311 592.371 L172.936 602.996 L183.561 592.371 L186.315 595.172 Z\" fill=\"#000000\" fill-rule=\"evenodd\" fill-opacity=\"1\" /><path clip-path=\"url(#clip810)\" d=\"M198.677 616.7 L206.315 616.7 L206.315 590.334 L198.005 592.001 L198.005 587.742 L206.269 586.075 L210.945 586.075 L210.945 616.7 L218.584 616.7 L218.584 620.635 L198.677 620.635 L198.677 616.7 Z\" fill=\"#000000\" fill-rule=\"evenodd\" fill-opacity=\"1\" /><path clip-path=\"url(#clip810)\" d=\"M238.028 589.154 Q234.417 589.154 232.588 592.719 Q230.783 596.26 230.783 603.39 Q230.783 610.496 232.588 614.061 Q234.417 617.603 238.028 617.603 Q241.662 617.603 243.468 614.061 Q245.297 610.496 245.297 603.39 Q245.297 596.26 243.468 592.719 Q241.662 589.154 238.028 589.154 M238.028 585.45 Q243.838 585.45 246.894 590.057 Q249.973 594.64 249.973 603.39 Q249.973 612.117 246.894 616.723 Q243.838 621.306 238.028 621.306 Q232.218 621.306 229.139 616.723 Q226.084 612.117 226.084 603.39 Q226.084 594.64 229.139 590.057 Q232.218 585.45 238.028 585.45 Z\" fill=\"#000000\" fill-rule=\"evenodd\" fill-opacity=\"1\" /><path clip-path=\"url(#clip810)\" d=\"M262.649 568.455 L253.057 583.445 L262.649 583.445 L262.649 568.455 M261.652 565.145 L266.429 565.145 L266.429 583.445 L270.435 583.445 L270.435 586.604 L266.429 586.604 L266.429 593.225 L262.649 593.225 L262.649 586.604 L249.973 586.604 L249.973 582.937 L261.652 565.145 Z\" fill=\"#000000\" fill-rule=\"evenodd\" fill-opacity=\"1\" /><path clip-path=\"url(#clip810)\" d=\"M56.6171 187.145 L72.9365 187.145 L72.9365 191.08 L50.9921 191.08 L50.9921 187.145 Q53.6541 184.39 58.2375 179.761 Q62.8439 175.108 64.0245 173.765 Q66.2698 171.242 67.1494 169.506 Q68.0522 167.747 68.0522 166.057 Q68.0522 163.302 66.1078 161.566 Q64.1865 159.83 61.0847 159.83 Q58.8856 159.83 56.4319 160.594 Q54.0014 161.358 51.2236 162.909 L51.2236 158.187 Q54.0477 157.053 56.5014 156.474 Q58.955 155.895 60.9921 155.895 Q66.3624 155.895 69.5568 158.58 Q72.7513 161.265 72.7513 165.756 Q72.7513 167.886 71.9411 169.807 Q71.1541 171.705 69.0476 174.298 Q68.4689 174.969 65.367 178.187 Q62.2652 181.381 56.6171 187.145 Z\" fill=\"#000000\" fill-rule=\"evenodd\" fill-opacity=\"1\" /><path clip-path=\"url(#clip810)\" d=\"M82.7512 185.2 L87.6354 185.2 L87.6354 191.08 L82.7512 191.08 L82.7512 185.2 Z\" fill=\"#000000\" fill-rule=\"evenodd\" fill-opacity=\"1\" /><path clip-path=\"url(#clip810)\" d=\"M107.821 159.599 Q104.209 159.599 102.381 163.164 Q100.575 166.705 100.575 173.835 Q100.575 180.941 102.381 184.506 Q104.209 188.048 107.821 188.048 Q111.455 188.048 113.26 184.506 Q115.089 180.941 115.089 173.835 Q115.089 166.705 113.26 163.164 Q111.455 159.599 107.821 159.599 M107.821 155.895 Q113.631 155.895 116.686 160.502 Q119.765 165.085 119.765 173.835 Q119.765 182.562 116.686 187.168 Q113.631 191.751 107.821 191.751 Q102.01 191.751 98.9317 187.168 Q95.8761 182.562 95.8761 173.835 Q95.8761 165.085 98.9317 160.502 Q102.01 155.895 107.821 155.895 Z\" fill=\"#000000\" fill-rule=\"evenodd\" fill-opacity=\"1\" /><path clip-path=\"url(#clip810)\" d=\"M137.982 159.599 Q134.371 159.599 132.543 163.164 Q130.737 166.705 130.737 173.835 Q130.737 180.941 132.543 184.506 Q134.371 188.048 137.982 188.048 Q141.617 188.048 143.422 184.506 Q145.251 180.941 145.251 173.835 Q145.251 166.705 143.422 163.164 Q141.617 159.599 137.982 159.599 M137.982 155.895 Q143.793 155.895 146.848 160.502 Q149.927 165.085 149.927 173.835 Q149.927 182.562 146.848 187.168 Q143.793 191.751 137.982 191.751 Q132.172 191.751 129.094 187.168 Q126.038 182.562 126.038 173.835 Q126.038 165.085 129.094 160.502 Q132.172 155.895 137.982 155.895 Z\" fill=\"#000000\" fill-rule=\"evenodd\" fill-opacity=\"1\" /><path clip-path=\"url(#clip810)\" d=\"M186.315 165.617 L175.737 176.242 L186.315 186.821 L183.561 189.622 L172.936 178.997 L162.311 189.622 L159.58 186.821 L170.135 176.242 L159.58 165.617 L162.311 162.816 L172.936 173.441 L183.561 162.816 L186.315 165.617 Z\" fill=\"#000000\" fill-rule=\"evenodd\" fill-opacity=\"1\" /><path clip-path=\"url(#clip810)\" d=\"M198.677 187.145 L206.315 187.145 L206.315 160.779 L198.005 162.446 L198.005 158.187 L206.269 156.52 L210.945 156.52 L210.945 187.145 L218.584 187.145 L218.584 191.08 L198.677 191.08 L198.677 187.145 Z\" fill=\"#000000\" fill-rule=\"evenodd\" fill-opacity=\"1\" /><path clip-path=\"url(#clip810)\" d=\"M238.028 159.599 Q234.417 159.599 232.588 163.164 Q230.783 166.705 230.783 173.835 Q230.783 180.941 232.588 184.506 Q234.417 188.048 238.028 188.048 Q241.662 188.048 243.468 184.506 Q245.297 180.941 245.297 173.835 Q245.297 166.705 243.468 163.164 Q241.662 159.599 238.028 159.599 M238.028 155.895 Q243.838 155.895 246.894 160.502 Q249.973 165.085 249.973 173.835 Q249.973 182.562 246.894 187.168 Q243.838 191.751 238.028 191.751 Q232.218 191.751 229.139 187.168 Q226.084 182.562 226.084 173.835 Q226.084 165.085 229.139 160.502 Q232.218 155.895 238.028 155.895 Z\" fill=\"#000000\" fill-rule=\"evenodd\" fill-opacity=\"1\" /><path clip-path=\"url(#clip810)\" d=\"M262.649 138.9 L253.057 153.89 L262.649 153.89 L262.649 138.9 M261.652 135.59 L266.429 135.59 L266.429 153.89 L270.435 153.89 L270.435 157.049 L266.429 157.049 L266.429 163.67 L262.649 163.67 L262.649 157.049 L249.973 157.049 L249.973 153.382 L261.652 135.59 Z\" fill=\"#000000\" fill-rule=\"evenodd\" fill-opacity=\"1\" /><polyline clip-path=\"url(#clip812)\" style=\"stroke:#009af9; stroke-linecap:butt; stroke-linejoin:round; stroke-width:4; stroke-opacity:1; fill:none\" points=\"\n",
       "  364.35,87.9763 383.85,878.593 403.35,1113.34 422.85,1200.2 442.35,1213.33 461.85,1226.45 481.35,1203.75 500.849,1233.14 520.349,1244.61 539.849,1263.64 \n",
       "  559.349,1250.46 578.849,1283.9 598.349,1292.96 617.849,1300.04 637.349,1308.94 656.849,1287.32 676.349,1300.25 695.849,1303.11 715.348,1277.69 734.848,1313.25 \n",
       "  754.348,1310.84 773.848,1320.8 793.348,1315.9 812.848,1323.63 832.348,1314.11 851.848,1332.74 871.348,1328.38 890.848,1335.98 910.348,1330.21 929.848,1341.44 \n",
       "  949.347,1336.66 968.847,1346.02 988.347,1340.39 1007.85,1351.62 1027.35,1348.83 1046.85,1355.75 1066.35,1354.93 1085.85,1360.79 1105.35,1359 1124.85,1367.9 \n",
       "  1144.35,1369.39 1163.85,1370.75 1183.35,1374.05 1202.85,1374.38 1222.35,1384.49 1241.85,1384.97 1261.35,1390.21 1280.85,1396.78 1300.35,1402.28 1319.85,1409.8 \n",
       "  1339.35,1405.12 1358.85,1406.69 1378.35,1411.46 1397.85,1412.71 1417.35,1421.97 1436.85,1423.49 1456.35,1425.31 1475.84,1426.94 1495.34,1429.82 1514.84,1424.52 \n",
       "  1534.34,1429 1553.84,1434.05 1573.34,1432.35 1592.84,1426.18 1612.34,1423.91 1631.84,1425.56 1651.34,1423.71 1670.84,1418.8 1690.34,1423.93 1709.84,1423.23 \n",
       "  1729.34,1425.15 1748.84,1425.14 1768.34,1429.05 1787.84,1429.87 1807.34,1430.54 1826.84,1431.66 1846.34,1428.61 1865.84,1435.62 1885.34,1434.65 1904.84,1436.24 \n",
       "  1924.34,1436.39 1943.84,1437.38 1963.34,1437.4 1982.84,1438.42 2002.34,1437.99 2021.84,1440.81 2041.34,1439.9 2060.84,1441.4 2080.34,1441.36 2099.84,1441.88 \n",
       "  2119.34,1442.26 2138.84,1442.78 2158.34,1442.95 2177.84,1444.5 2197.34,1443.43 2216.84,1443.74 2236.34,1444.07 2255.84,1445.23 2275.34,1444.58 2294.84,1445.72 \n",
       "  \n",
       "  \"/>\n",
       "<path clip-path=\"url(#clip810)\" d=\"\n",
       "M2004.75 198.898 L2284.55 198.898 L2284.55 95.2176 L2004.75 95.2176  Z\n",
       "  \" fill=\"#ffffff\" fill-rule=\"evenodd\" fill-opacity=\"1\"/>\n",
       "<polyline clip-path=\"url(#clip810)\" style=\"stroke:#000000; stroke-linecap:butt; stroke-linejoin:round; stroke-width:4; stroke-opacity:1; fill:none\" points=\"\n",
       "  2004.75,198.898 2284.55,198.898 2284.55,95.2176 2004.75,95.2176 2004.75,198.898 \n",
       "  \"/>\n",
       "<polyline clip-path=\"url(#clip810)\" style=\"stroke:#009af9; stroke-linecap:butt; stroke-linejoin:round; stroke-width:4; stroke-opacity:1; fill:none\" points=\"\n",
       "  2027.48,147.058 2163.9,147.058 \n",
       "  \"/>\n",
       "<path clip-path=\"url(#clip810)\" d=\"M2200.48 166.745 Q2198.68 171.375 2196.97 172.787 Q2195.25 174.199 2192.38 174.199 L2188.98 174.199 L2188.98 170.634 L2191.48 170.634 Q2193.24 170.634 2194.21 169.8 Q2195.18 168.967 2196.36 165.865 L2197.13 163.921 L2186.64 138.412 L2191.16 138.412 L2199.26 158.689 L2207.36 138.412 L2211.87 138.412 L2200.48 166.745 Z\" fill=\"#000000\" fill-rule=\"evenodd\" fill-opacity=\"1\" /><path clip-path=\"url(#clip810)\" d=\"M2219.16 160.402 L2226.8 160.402 L2226.8 134.037 L2218.49 135.703 L2218.49 131.444 L2226.76 129.778 L2231.43 129.778 L2231.43 160.402 L2239.07 160.402 L2239.07 164.338 L2219.16 164.338 L2219.16 160.402 Z\" fill=\"#000000\" fill-rule=\"evenodd\" fill-opacity=\"1\" /></svg>\n"
      ]
     },
     "execution_count": 87,
     "metadata": {},
     "output_type": "execute_result"
    }
   ],
   "source": [
    "plot(losses)"
   ]
  },
  {
   "cell_type": "code",
   "execution_count": 98,
   "id": "d6ab267e-e7b1-46bf-9415-bd79ac533d6b",
   "metadata": {},
   "outputs": [
    {
     "data": {
      "text/plain": [
       "756-element Vector{Float32}:\n",
       "  69.109505\n",
       "  33.175243\n",
       "  40.622776\n",
       "  38.753647\n",
       "  40.114574\n",
       "  40.389107\n",
       "  40.661266\n",
       "  40.326653\n",
       "  39.78553\n",
       "  40.39507\n",
       "  40.875397\n",
       "  41.151897\n",
       "  41.381653\n",
       "   ⋮\n",
       " 175.94337\n",
       " 179.99333\n",
       " 174.34541\n",
       " 172.77695\n",
       " 171.17763\n",
       " 174.02092\n",
       " 176.60385\n",
       " 177.55455\n",
       " 181.17857\n",
       " 180.66211\n",
       " 180.73724\n",
       " 179.61147"
      ]
     },
     "execution_count": 98,
     "metadata": {},
     "output_type": "execute_result"
    }
   ],
   "source": [
    "predicted = [model([x])[1] for x ∈ X]"
   ]
  },
  {
   "cell_type": "code",
   "execution_count": 99,
   "id": "df20c9bc-51a2-4a78-8b51-7e7b883435aa",
   "metadata": {},
   "outputs": [
    {
     "data": {
      "image/svg+xml": [
       "<?xml version=\"1.0\" encoding=\"utf-8\"?>\n",
       "<svg xmlns=\"http://www.w3.org/2000/svg\" xmlns:xlink=\"http://www.w3.org/1999/xlink\" width=\"600\" height=\"400\" viewBox=\"0 0 2400 1600\">\n",
       "<defs>\n",
       "  <clipPath id=\"clip970\">\n",
       "    <rect x=\"0\" y=\"0\" width=\"2400\" height=\"1600\"/>\n",
       "  </clipPath>\n",
       "</defs>\n",
       "<path clip-path=\"url(#clip970)\" d=\"\n",
       "M0 1600 L2400 1600 L2400 0 L0 0  Z\n",
       "  \" fill=\"#ffffff\" fill-rule=\"evenodd\" fill-opacity=\"1\"/>\n",
       "<defs>\n",
       "  <clipPath id=\"clip971\">\n",
       "    <rect x=\"480\" y=\"0\" width=\"1681\" height=\"1600\"/>\n",
       "  </clipPath>\n",
       "</defs>\n",
       "<path clip-path=\"url(#clip970)\" d=\"\n",
       "M169.121 1486.45 L2352.76 1486.45 L2352.76 47.2441 L169.121 47.2441  Z\n",
       "  \" fill=\"#ffffff\" fill-rule=\"evenodd\" fill-opacity=\"1\"/>\n",
       "<defs>\n",
       "  <clipPath id=\"clip972\">\n",
       "    <rect x=\"169\" y=\"47\" width=\"2185\" height=\"1440\"/>\n",
       "  </clipPath>\n",
       "</defs>\n",
       "<polyline clip-path=\"url(#clip972)\" style=\"stroke:#000000; stroke-linecap:butt; stroke-linejoin:round; stroke-width:2; stroke-opacity:0.1; fill:none\" points=\"\n",
       "  228.194,1486.45 228.194,47.2441 \n",
       "  \"/>\n",
       "<polyline clip-path=\"url(#clip972)\" style=\"stroke:#000000; stroke-linecap:butt; stroke-linejoin:round; stroke-width:2; stroke-opacity:0.1; fill:none\" points=\"\n",
       "  773.898,1486.45 773.898,47.2441 \n",
       "  \"/>\n",
       "<polyline clip-path=\"url(#clip972)\" style=\"stroke:#000000; stroke-linecap:butt; stroke-linejoin:round; stroke-width:2; stroke-opacity:0.1; fill:none\" points=\"\n",
       "  1319.6,1486.45 1319.6,47.2441 \n",
       "  \"/>\n",
       "<polyline clip-path=\"url(#clip972)\" style=\"stroke:#000000; stroke-linecap:butt; stroke-linejoin:round; stroke-width:2; stroke-opacity:0.1; fill:none\" points=\"\n",
       "  1865.31,1486.45 1865.31,47.2441 \n",
       "  \"/>\n",
       "<polyline clip-path=\"url(#clip970)\" style=\"stroke:#000000; stroke-linecap:butt; stroke-linejoin:round; stroke-width:4; stroke-opacity:1; fill:none\" points=\"\n",
       "  169.121,1486.45 2352.76,1486.45 \n",
       "  \"/>\n",
       "<polyline clip-path=\"url(#clip970)\" style=\"stroke:#000000; stroke-linecap:butt; stroke-linejoin:round; stroke-width:4; stroke-opacity:1; fill:none\" points=\"\n",
       "  228.194,1486.45 228.194,1467.55 \n",
       "  \"/>\n",
       "<polyline clip-path=\"url(#clip970)\" style=\"stroke:#000000; stroke-linecap:butt; stroke-linejoin:round; stroke-width:4; stroke-opacity:1; fill:none\" points=\"\n",
       "  773.898,1486.45 773.898,1467.55 \n",
       "  \"/>\n",
       "<polyline clip-path=\"url(#clip970)\" style=\"stroke:#000000; stroke-linecap:butt; stroke-linejoin:round; stroke-width:4; stroke-opacity:1; fill:none\" points=\"\n",
       "  1319.6,1486.45 1319.6,1467.55 \n",
       "  \"/>\n",
       "<polyline clip-path=\"url(#clip970)\" style=\"stroke:#000000; stroke-linecap:butt; stroke-linejoin:round; stroke-width:4; stroke-opacity:1; fill:none\" points=\"\n",
       "  1865.31,1486.45 1865.31,1467.55 \n",
       "  \"/>\n",
       "<path clip-path=\"url(#clip970)\" d=\"M228.194 1517.37 Q224.583 1517.37 222.754 1520.93 Q220.948 1524.47 220.948 1531.6 Q220.948 1538.71 222.754 1542.27 Q224.583 1545.82 228.194 1545.82 Q231.828 1545.82 233.634 1542.27 Q235.462 1538.71 235.462 1531.6 Q235.462 1524.47 233.634 1520.93 Q231.828 1517.37 228.194 1517.37 M228.194 1513.66 Q234.004 1513.66 237.059 1518.27 Q240.138 1522.85 240.138 1531.6 Q240.138 1540.33 237.059 1544.94 Q234.004 1549.52 228.194 1549.52 Q222.384 1549.52 219.305 1544.94 Q216.249 1540.33 216.249 1531.6 Q216.249 1522.85 219.305 1518.27 Q222.384 1513.66 228.194 1513.66 Z\" fill=\"#000000\" fill-rule=\"evenodd\" fill-opacity=\"1\" /><path clip-path=\"url(#clip970)\" d=\"M737.59 1544.91 L753.909 1544.91 L753.909 1548.85 L731.965 1548.85 L731.965 1544.91 Q734.627 1542.16 739.21 1537.53 Q743.817 1532.88 744.997 1531.53 Q747.243 1529.01 748.122 1527.27 Q749.025 1525.51 749.025 1523.82 Q749.025 1521.07 747.081 1519.33 Q745.16 1517.6 742.058 1517.6 Q739.859 1517.6 737.405 1518.36 Q734.974 1519.13 732.197 1520.68 L732.197 1515.95 Q735.021 1514.82 737.474 1514.24 Q739.928 1513.66 741.965 1513.66 Q747.335 1513.66 750.53 1516.35 Q753.724 1519.03 753.724 1523.52 Q753.724 1525.65 752.914 1527.57 Q752.127 1529.47 750.021 1532.07 Q749.442 1532.74 746.34 1535.95 Q743.238 1539.15 737.59 1544.91 Z\" fill=\"#000000\" fill-rule=\"evenodd\" fill-opacity=\"1\" /><path clip-path=\"url(#clip970)\" d=\"M773.724 1517.37 Q770.113 1517.37 768.284 1520.93 Q766.479 1524.47 766.479 1531.6 Q766.479 1538.71 768.284 1542.27 Q770.113 1545.82 773.724 1545.82 Q777.358 1545.82 779.164 1542.27 Q780.993 1538.71 780.993 1531.6 Q780.993 1524.47 779.164 1520.93 Q777.358 1517.37 773.724 1517.37 M773.724 1513.66 Q779.534 1513.66 782.59 1518.27 Q785.669 1522.85 785.669 1531.6 Q785.669 1540.33 782.59 1544.94 Q779.534 1549.52 773.724 1549.52 Q767.914 1549.52 764.835 1544.94 Q761.78 1540.33 761.78 1531.6 Q761.78 1522.85 764.835 1518.27 Q767.914 1513.66 773.724 1513.66 Z\" fill=\"#000000\" fill-rule=\"evenodd\" fill-opacity=\"1\" /><path clip-path=\"url(#clip970)\" d=\"M803.886 1517.37 Q800.275 1517.37 798.446 1520.93 Q796.641 1524.47 796.641 1531.6 Q796.641 1538.71 798.446 1542.27 Q800.275 1545.82 803.886 1545.82 Q807.52 1545.82 809.326 1542.27 Q811.155 1538.71 811.155 1531.6 Q811.155 1524.47 809.326 1520.93 Q807.52 1517.37 803.886 1517.37 M803.886 1513.66 Q809.696 1513.66 812.752 1518.27 Q815.83 1522.85 815.83 1531.6 Q815.83 1540.33 812.752 1544.94 Q809.696 1549.52 803.886 1549.52 Q798.076 1549.52 794.997 1544.94 Q791.942 1540.33 791.942 1531.6 Q791.942 1522.85 794.997 1518.27 Q798.076 1513.66 803.886 1513.66 Z\" fill=\"#000000\" fill-rule=\"evenodd\" fill-opacity=\"1\" /><path clip-path=\"url(#clip970)\" d=\"M1292.69 1518.36 L1280.89 1536.81 L1292.69 1536.81 L1292.69 1518.36 M1291.47 1514.29 L1297.34 1514.29 L1297.34 1536.81 L1302.28 1536.81 L1302.28 1540.7 L1297.34 1540.7 L1297.34 1548.85 L1292.69 1548.85 L1292.69 1540.7 L1277.09 1540.7 L1277.09 1536.19 L1291.47 1514.29 Z\" fill=\"#000000\" fill-rule=\"evenodd\" fill-opacity=\"1\" /><path clip-path=\"url(#clip970)\" d=\"M1320.01 1517.37 Q1316.4 1517.37 1314.57 1520.93 Q1312.76 1524.47 1312.76 1531.6 Q1312.76 1538.71 1314.57 1542.27 Q1316.4 1545.82 1320.01 1545.82 Q1323.64 1545.82 1325.45 1542.27 Q1327.28 1538.71 1327.28 1531.6 Q1327.28 1524.47 1325.45 1520.93 Q1323.64 1517.37 1320.01 1517.37 M1320.01 1513.66 Q1325.82 1513.66 1328.87 1518.27 Q1331.95 1522.85 1331.95 1531.6 Q1331.95 1540.33 1328.87 1544.94 Q1325.82 1549.52 1320.01 1549.52 Q1314.2 1549.52 1311.12 1544.94 Q1308.06 1540.33 1308.06 1531.6 Q1308.06 1522.85 1311.12 1518.27 Q1314.2 1513.66 1320.01 1513.66 Z\" fill=\"#000000\" fill-rule=\"evenodd\" fill-opacity=\"1\" /><path clip-path=\"url(#clip970)\" d=\"M1350.17 1517.37 Q1346.56 1517.37 1344.73 1520.93 Q1342.92 1524.47 1342.92 1531.6 Q1342.92 1538.71 1344.73 1542.27 Q1346.56 1545.82 1350.17 1545.82 Q1353.8 1545.82 1355.61 1542.27 Q1357.44 1538.71 1357.44 1531.6 Q1357.44 1524.47 1355.61 1520.93 Q1353.8 1517.37 1350.17 1517.37 M1350.17 1513.66 Q1355.98 1513.66 1359.03 1518.27 Q1362.11 1522.85 1362.11 1531.6 Q1362.11 1540.33 1359.03 1544.94 Q1355.98 1549.52 1350.17 1549.52 Q1344.36 1549.52 1341.28 1544.94 Q1338.22 1540.33 1338.22 1531.6 Q1338.22 1522.85 1341.28 1518.27 Q1344.36 1513.66 1350.17 1513.66 Z\" fill=\"#000000\" fill-rule=\"evenodd\" fill-opacity=\"1\" /><path clip-path=\"url(#clip970)\" d=\"M1835.63 1529.7 Q1832.48 1529.7 1830.63 1531.86 Q1828.8 1534.01 1828.8 1537.76 Q1828.8 1541.49 1830.63 1543.66 Q1832.48 1545.82 1835.63 1545.82 Q1838.78 1545.82 1840.61 1543.66 Q1842.46 1541.49 1842.46 1537.76 Q1842.46 1534.01 1840.61 1531.86 Q1838.78 1529.7 1835.63 1529.7 M1844.91 1515.05 L1844.91 1519.31 Q1843.15 1518.48 1841.35 1518.04 Q1839.57 1517.6 1837.81 1517.6 Q1833.18 1517.6 1830.72 1520.72 Q1828.29 1523.85 1827.94 1530.17 Q1829.31 1528.15 1831.37 1527.09 Q1833.43 1526 1835.91 1526 Q1841.12 1526 1844.13 1529.17 Q1847.16 1532.32 1847.16 1537.76 Q1847.16 1543.08 1844.01 1546.3 Q1840.86 1549.52 1835.63 1549.52 Q1829.63 1549.52 1826.46 1544.94 Q1823.29 1540.33 1823.29 1531.6 Q1823.29 1523.41 1827.18 1518.55 Q1831.07 1513.66 1837.62 1513.66 Q1839.38 1513.66 1841.16 1514.01 Q1842.97 1514.36 1844.91 1515.05 Z\" fill=\"#000000\" fill-rule=\"evenodd\" fill-opacity=\"1\" /><path clip-path=\"url(#clip970)\" d=\"M1865.21 1517.37 Q1861.6 1517.37 1859.77 1520.93 Q1857.97 1524.47 1857.97 1531.6 Q1857.97 1538.71 1859.77 1542.27 Q1861.6 1545.82 1865.21 1545.82 Q1868.85 1545.82 1870.65 1542.27 Q1872.48 1538.71 1872.48 1531.6 Q1872.48 1524.47 1870.65 1520.93 Q1868.85 1517.37 1865.21 1517.37 M1865.21 1513.66 Q1871.02 1513.66 1874.08 1518.27 Q1877.16 1522.85 1877.16 1531.6 Q1877.16 1540.33 1874.08 1544.94 Q1871.02 1549.52 1865.21 1549.52 Q1859.4 1549.52 1856.32 1544.94 Q1853.27 1540.33 1853.27 1531.6 Q1853.27 1522.85 1856.32 1518.27 Q1859.4 1513.66 1865.21 1513.66 Z\" fill=\"#000000\" fill-rule=\"evenodd\" fill-opacity=\"1\" /><path clip-path=\"url(#clip970)\" d=\"M1895.38 1517.37 Q1891.76 1517.37 1889.94 1520.93 Q1888.13 1524.47 1888.13 1531.6 Q1888.13 1538.71 1889.94 1542.27 Q1891.76 1545.82 1895.38 1545.82 Q1899.01 1545.82 1900.81 1542.27 Q1902.64 1538.71 1902.64 1531.6 Q1902.64 1524.47 1900.81 1520.93 Q1899.01 1517.37 1895.38 1517.37 M1895.38 1513.66 Q1901.19 1513.66 1904.24 1518.27 Q1907.32 1522.85 1907.32 1531.6 Q1907.32 1540.33 1904.24 1544.94 Q1901.19 1549.52 1895.38 1549.52 Q1889.56 1549.52 1886.49 1544.94 Q1883.43 1540.33 1883.43 1531.6 Q1883.43 1522.85 1886.49 1518.27 Q1889.56 1513.66 1895.38 1513.66 Z\" fill=\"#000000\" fill-rule=\"evenodd\" fill-opacity=\"1\" /><polyline clip-path=\"url(#clip972)\" style=\"stroke:#000000; stroke-linecap:butt; stroke-linejoin:round; stroke-width:2; stroke-opacity:0.1; fill:none\" points=\"\n",
       "  169.121,1291.37 2352.76,1291.37 \n",
       "  \"/>\n",
       "<polyline clip-path=\"url(#clip972)\" style=\"stroke:#000000; stroke-linecap:butt; stroke-linejoin:round; stroke-width:2; stroke-opacity:0.1; fill:none\" points=\"\n",
       "  169.121,1062.03 2352.76,1062.03 \n",
       "  \"/>\n",
       "<polyline clip-path=\"url(#clip972)\" style=\"stroke:#000000; stroke-linecap:butt; stroke-linejoin:round; stroke-width:2; stroke-opacity:0.1; fill:none\" points=\"\n",
       "  169.121,832.685 2352.76,832.685 \n",
       "  \"/>\n",
       "<polyline clip-path=\"url(#clip972)\" style=\"stroke:#000000; stroke-linecap:butt; stroke-linejoin:round; stroke-width:2; stroke-opacity:0.1; fill:none\" points=\"\n",
       "  169.121,603.342 2352.76,603.342 \n",
       "  \"/>\n",
       "<polyline clip-path=\"url(#clip972)\" style=\"stroke:#000000; stroke-linecap:butt; stroke-linejoin:round; stroke-width:2; stroke-opacity:0.1; fill:none\" points=\"\n",
       "  169.121,373.999 2352.76,373.999 \n",
       "  \"/>\n",
       "<polyline clip-path=\"url(#clip972)\" style=\"stroke:#000000; stroke-linecap:butt; stroke-linejoin:round; stroke-width:2; stroke-opacity:0.1; fill:none\" points=\"\n",
       "  169.121,144.657 2352.76,144.657 \n",
       "  \"/>\n",
       "<polyline clip-path=\"url(#clip970)\" style=\"stroke:#000000; stroke-linecap:butt; stroke-linejoin:round; stroke-width:4; stroke-opacity:1; fill:none\" points=\"\n",
       "  169.121,1486.45 169.121,47.2441 \n",
       "  \"/>\n",
       "<polyline clip-path=\"url(#clip970)\" style=\"stroke:#000000; stroke-linecap:butt; stroke-linejoin:round; stroke-width:4; stroke-opacity:1; fill:none\" points=\"\n",
       "  169.121,1291.37 188.019,1291.37 \n",
       "  \"/>\n",
       "<polyline clip-path=\"url(#clip970)\" style=\"stroke:#000000; stroke-linecap:butt; stroke-linejoin:round; stroke-width:4; stroke-opacity:1; fill:none\" points=\"\n",
       "  169.121,1062.03 188.019,1062.03 \n",
       "  \"/>\n",
       "<polyline clip-path=\"url(#clip970)\" style=\"stroke:#000000; stroke-linecap:butt; stroke-linejoin:round; stroke-width:4; stroke-opacity:1; fill:none\" points=\"\n",
       "  169.121,832.685 188.019,832.685 \n",
       "  \"/>\n",
       "<polyline clip-path=\"url(#clip970)\" style=\"stroke:#000000; stroke-linecap:butt; stroke-linejoin:round; stroke-width:4; stroke-opacity:1; fill:none\" points=\"\n",
       "  169.121,603.342 188.019,603.342 \n",
       "  \"/>\n",
       "<polyline clip-path=\"url(#clip970)\" style=\"stroke:#000000; stroke-linecap:butt; stroke-linejoin:round; stroke-width:4; stroke-opacity:1; fill:none\" points=\"\n",
       "  169.121,373.999 188.019,373.999 \n",
       "  \"/>\n",
       "<polyline clip-path=\"url(#clip970)\" style=\"stroke:#000000; stroke-linecap:butt; stroke-linejoin:round; stroke-width:4; stroke-opacity:1; fill:none\" points=\"\n",
       "  169.121,144.657 188.019,144.657 \n",
       "  \"/>\n",
       "<path clip-path=\"url(#clip970)\" d=\"M81.0614 1274.09 L99.4178 1274.09 L99.4178 1278.03 L85.3438 1278.03 L85.3438 1286.5 Q86.3623 1286.15 87.3808 1285.99 Q88.3993 1285.8 89.4178 1285.8 Q95.2049 1285.8 98.5845 1288.97 Q101.964 1292.15 101.964 1297.56 Q101.964 1303.14 98.4919 1306.24 Q95.0197 1309.32 88.7003 1309.32 Q86.5243 1309.32 84.2558 1308.95 Q82.0105 1308.58 79.6031 1307.84 L79.6031 1303.14 Q81.6864 1304.28 83.9086 1304.83 Q86.1308 1305.39 88.6077 1305.39 Q92.6123 1305.39 94.9502 1303.28 Q97.2882 1301.17 97.2882 1297.56 Q97.2882 1293.95 94.9502 1291.84 Q92.6123 1289.74 88.6077 1289.74 Q86.7327 1289.74 84.8577 1290.16 Q83.0058 1290.57 81.0614 1291.45 L81.0614 1274.09 Z\" fill=\"#000000\" fill-rule=\"evenodd\" fill-opacity=\"1\" /><path clip-path=\"url(#clip970)\" d=\"M121.177 1277.17 Q117.566 1277.17 115.737 1280.73 Q113.932 1284.28 113.932 1291.41 Q113.932 1298.51 115.737 1302.08 Q117.566 1305.62 121.177 1305.62 Q124.811 1305.62 126.617 1302.08 Q128.445 1298.51 128.445 1291.41 Q128.445 1284.28 126.617 1280.73 Q124.811 1277.17 121.177 1277.17 M121.177 1273.47 Q126.987 1273.47 130.043 1278.07 Q133.121 1282.66 133.121 1291.41 Q133.121 1300.13 130.043 1304.74 Q126.987 1309.32 121.177 1309.32 Q115.367 1309.32 112.288 1304.74 Q109.233 1300.13 109.233 1291.41 Q109.233 1282.66 112.288 1278.07 Q115.367 1273.47 121.177 1273.47 Z\" fill=\"#000000\" fill-rule=\"evenodd\" fill-opacity=\"1\" /><path clip-path=\"url(#clip970)\" d=\"M80.8299 1044.75 L103.052 1044.75 L103.052 1046.74 L90.5058 1079.31 L85.6216 1079.31 L97.4271 1048.68 L80.8299 1048.68 L80.8299 1044.75 Z\" fill=\"#000000\" fill-rule=\"evenodd\" fill-opacity=\"1\" /><path clip-path=\"url(#clip970)\" d=\"M112.219 1044.75 L130.575 1044.75 L130.575 1048.68 L116.501 1048.68 L116.501 1057.15 Q117.52 1056.81 118.538 1056.65 Q119.557 1056.46 120.575 1056.46 Q126.362 1056.46 129.742 1059.63 Q133.121 1062.8 133.121 1068.22 Q133.121 1073.8 129.649 1076.9 Q126.177 1079.98 119.857 1079.98 Q117.682 1079.98 115.413 1079.61 Q113.168 1079.24 110.76 1078.5 L110.76 1073.8 Q112.844 1074.93 115.066 1075.49 Q117.288 1076.04 119.765 1076.04 Q123.77 1076.04 126.107 1073.94 Q128.445 1071.83 128.445 1068.22 Q128.445 1064.61 126.107 1062.5 Q123.77 1060.4 119.765 1060.4 Q117.89 1060.4 116.015 1060.81 Q114.163 1061.23 112.219 1062.11 L112.219 1044.75 Z\" fill=\"#000000\" fill-rule=\"evenodd\" fill-opacity=\"1\" /><path clip-path=\"url(#clip970)\" d=\"M51.6634 846.03 L59.3023 846.03 L59.3023 819.664 L50.9921 821.331 L50.9921 817.072 L59.256 815.405 L63.9319 815.405 L63.9319 846.03 L71.5707 846.03 L71.5707 849.965 L51.6634 849.965 L51.6634 846.03 Z\" fill=\"#000000\" fill-rule=\"evenodd\" fill-opacity=\"1\" /><path clip-path=\"url(#clip970)\" d=\"M91.0151 818.484 Q87.404 818.484 85.5753 822.048 Q83.7697 825.59 83.7697 832.72 Q83.7697 839.826 85.5753 843.391 Q87.404 846.932 91.0151 846.932 Q94.6493 846.932 96.4548 843.391 Q98.2835 839.826 98.2835 832.72 Q98.2835 825.59 96.4548 822.048 Q94.6493 818.484 91.0151 818.484 M91.0151 814.78 Q96.8252 814.78 99.8808 819.386 Q102.959 823.97 102.959 832.72 Q102.959 841.446 99.8808 846.053 Q96.8252 850.636 91.0151 850.636 Q85.2049 850.636 82.1262 846.053 Q79.0707 841.446 79.0707 832.72 Q79.0707 823.97 82.1262 819.386 Q85.2049 814.78 91.0151 814.78 Z\" fill=\"#000000\" fill-rule=\"evenodd\" fill-opacity=\"1\" /><path clip-path=\"url(#clip970)\" d=\"M121.177 818.484 Q117.566 818.484 115.737 822.048 Q113.932 825.59 113.932 832.72 Q113.932 839.826 115.737 843.391 Q117.566 846.932 121.177 846.932 Q124.811 846.932 126.617 843.391 Q128.445 839.826 128.445 832.72 Q128.445 825.59 126.617 822.048 Q124.811 818.484 121.177 818.484 M121.177 814.78 Q126.987 814.78 130.043 819.386 Q133.121 823.97 133.121 832.72 Q133.121 841.446 130.043 846.053 Q126.987 850.636 121.177 850.636 Q115.367 850.636 112.288 846.053 Q109.233 841.446 109.233 832.72 Q109.233 823.97 112.288 819.386 Q115.367 814.78 121.177 814.78 Z\" fill=\"#000000\" fill-rule=\"evenodd\" fill-opacity=\"1\" /><path clip-path=\"url(#clip970)\" d=\"M52.6588 616.687 L60.2976 616.687 L60.2976 590.321 L51.9875 591.988 L51.9875 587.729 L60.2513 586.062 L64.9272 586.062 L64.9272 616.687 L72.5661 616.687 L72.5661 620.622 L52.6588 620.622 L52.6588 616.687 Z\" fill=\"#000000\" fill-rule=\"evenodd\" fill-opacity=\"1\" /><path clip-path=\"url(#clip970)\" d=\"M86.0382 616.687 L102.358 616.687 L102.358 620.622 L80.4133 620.622 L80.4133 616.687 Q83.0753 613.932 87.6586 609.303 Q92.2651 604.65 93.4456 603.307 Q95.691 600.784 96.5706 599.048 Q97.4734 597.289 97.4734 595.599 Q97.4734 592.845 95.5289 591.108 Q93.6076 589.372 90.5058 589.372 Q88.3067 589.372 85.8531 590.136 Q83.4225 590.9 80.6447 592.451 L80.6447 587.729 Q83.4688 586.595 85.9225 586.016 Q88.3762 585.437 90.4132 585.437 Q95.7836 585.437 98.978 588.122 Q102.172 590.807 102.172 595.298 Q102.172 597.428 101.362 599.349 Q100.575 601.247 98.4687 603.84 Q97.89 604.511 94.7882 607.729 Q91.6864 610.923 86.0382 616.687 Z\" fill=\"#000000\" fill-rule=\"evenodd\" fill-opacity=\"1\" /><path clip-path=\"url(#clip970)\" d=\"M112.219 586.062 L130.575 586.062 L130.575 589.997 L116.501 589.997 L116.501 598.469 Q117.52 598.122 118.538 597.96 Q119.557 597.775 120.575 597.775 Q126.362 597.775 129.742 600.946 Q133.121 604.118 133.121 609.534 Q133.121 615.113 129.649 618.215 Q126.177 621.293 119.857 621.293 Q117.682 621.293 115.413 620.923 Q113.168 620.553 110.76 619.812 L110.76 615.113 Q112.844 616.247 115.066 616.803 Q117.288 617.358 119.765 617.358 Q123.77 617.358 126.107 615.252 Q128.445 613.145 128.445 609.534 Q128.445 605.923 126.107 603.817 Q123.77 601.71 119.765 601.71 Q117.89 601.71 116.015 602.127 Q114.163 602.544 112.219 603.423 L112.219 586.062 Z\" fill=\"#000000\" fill-rule=\"evenodd\" fill-opacity=\"1\" /><path clip-path=\"url(#clip970)\" d=\"M51.6634 387.344 L59.3023 387.344 L59.3023 360.979 L50.9921 362.645 L50.9921 358.386 L59.256 356.719 L63.9319 356.719 L63.9319 387.344 L71.5707 387.344 L71.5707 391.279 L51.6634 391.279 L51.6634 387.344 Z\" fill=\"#000000\" fill-rule=\"evenodd\" fill-opacity=\"1\" /><path clip-path=\"url(#clip970)\" d=\"M81.0614 356.719 L99.4178 356.719 L99.4178 360.655 L85.3438 360.655 L85.3438 369.127 Q86.3623 368.78 87.3808 368.618 Q88.3993 368.432 89.4178 368.432 Q95.2049 368.432 98.5845 371.604 Q101.964 374.775 101.964 380.192 Q101.964 385.77 98.4919 388.872 Q95.0197 391.951 88.7003 391.951 Q86.5243 391.951 84.2558 391.58 Q82.0105 391.21 79.6031 390.469 L79.6031 385.77 Q81.6864 386.904 83.9086 387.46 Q86.1308 388.016 88.6077 388.016 Q92.6123 388.016 94.9502 385.909 Q97.2882 383.803 97.2882 380.192 Q97.2882 376.58 94.9502 374.474 Q92.6123 372.367 88.6077 372.367 Q86.7327 372.367 84.8577 372.784 Q83.0058 373.201 81.0614 374.08 L81.0614 356.719 Z\" fill=\"#000000\" fill-rule=\"evenodd\" fill-opacity=\"1\" /><path clip-path=\"url(#clip970)\" d=\"M121.177 359.798 Q117.566 359.798 115.737 363.363 Q113.932 366.905 113.932 374.034 Q113.932 381.141 115.737 384.705 Q117.566 388.247 121.177 388.247 Q124.811 388.247 126.617 384.705 Q128.445 381.141 128.445 374.034 Q128.445 366.905 126.617 363.363 Q124.811 359.798 121.177 359.798 M121.177 356.094 Q126.987 356.094 130.043 360.701 Q133.121 365.284 133.121 374.034 Q133.121 382.761 130.043 387.367 Q126.987 391.951 121.177 391.951 Q115.367 391.951 112.288 387.367 Q109.233 382.761 109.233 374.034 Q109.233 365.284 112.288 360.701 Q115.367 356.094 121.177 356.094 Z\" fill=\"#000000\" fill-rule=\"evenodd\" fill-opacity=\"1\" /><path clip-path=\"url(#clip970)\" d=\"M52.6588 158.002 L60.2976 158.002 L60.2976 131.636 L51.9875 133.303 L51.9875 129.043 L60.2513 127.377 L64.9272 127.377 L64.9272 158.002 L72.5661 158.002 L72.5661 161.937 L52.6588 161.937 L52.6588 158.002 Z\" fill=\"#000000\" fill-rule=\"evenodd\" fill-opacity=\"1\" /><path clip-path=\"url(#clip970)\" d=\"M80.8299 127.377 L103.052 127.377 L103.052 129.367 L90.5058 161.937 L85.6216 161.937 L97.4271 131.312 L80.8299 131.312 L80.8299 127.377 Z\" fill=\"#000000\" fill-rule=\"evenodd\" fill-opacity=\"1\" /><path clip-path=\"url(#clip970)\" d=\"M112.219 127.377 L130.575 127.377 L130.575 131.312 L116.501 131.312 L116.501 139.784 Q117.52 139.437 118.538 139.275 Q119.557 139.09 120.575 139.09 Q126.362 139.09 129.742 142.261 Q133.121 145.432 133.121 150.849 Q133.121 156.427 129.649 159.529 Q126.177 162.608 119.857 162.608 Q117.682 162.608 115.413 162.238 Q113.168 161.867 110.76 161.127 L110.76 156.427 Q112.844 157.562 115.066 158.117 Q117.288 158.673 119.765 158.673 Q123.77 158.673 126.107 156.566 Q128.445 154.46 128.445 150.849 Q128.445 147.238 126.107 145.131 Q123.77 143.025 119.765 143.025 Q117.89 143.025 116.015 143.441 Q114.163 143.858 112.219 144.738 L112.219 127.377 Z\" fill=\"#000000\" fill-rule=\"evenodd\" fill-opacity=\"1\" /><polyline clip-path=\"url(#clip972)\" style=\"stroke:#009af9; stroke-linecap:butt; stroke-linejoin:round; stroke-width:4; stroke-opacity:1; fill:none\" points=\"\n",
       "  230.922,1387.88 233.651,1423.95 236.379,1410.03 239.108,1410.79 241.836,1404.32 244.565,1398.45 247.293,1397.33 250.022,1400.79 252.75,1406.04 255.479,1399 \n",
       "  258.207,1394.71 260.936,1392.6 263.665,1390.4 266.393,1398.47 269.122,1397.05 271.85,1399.85 274.579,1388.24 277.307,1391.59 280.036,1395.31 282.764,1371.07 \n",
       "  285.493,1368.34 288.221,1368.15 290.95,1357.31 293.678,1350.59 296.407,1350.45 299.135,1358.02 301.864,1359.23 304.592,1361.48 307.321,1358.13 310.049,1359.76 \n",
       "  312.778,1358.34 315.506,1359.21 318.235,1358.04 320.963,1355.52 323.692,1357.74 326.42,1353.36 329.149,1350.47 331.878,1350.24 334.606,1349 337.335,1352.95 \n",
       "  340.063,1348.77 342.792,1346.76 345.52,1347.49 348.249,1349.81 350.977,1354.44 353.706,1353.5 356.434,1339.76 359.163,1335.15 361.891,1333.32 364.62,1328.68 \n",
       "  367.348,1323.2 370.077,1318.85 372.805,1322.26 375.534,1318.52 378.262,1302.63 380.991,1311.9 383.719,1317.19 386.448,1321.67 389.176,1317.81 391.905,1317.24 \n",
       "  394.633,1314.42 397.362,1311.46 400.091,1305.08 402.819,1302.03 405.548,1301.25 408.276,1298.25 411.005,1291.14 413.733,1292.52 416.462,1289.95 419.19,1293.78 \n",
       "  421.919,1293.96 424.647,1293.14 427.376,1293.09 430.104,1284.19 432.833,1282.52 435.561,1280.98 438.29,1274.22 441.018,1274.95 443.747,1279.26 446.475,1281.51 \n",
       "  449.204,1280.8 451.932,1289.83 454.661,1267.24 457.389,1270.39 460.118,1264.42 462.846,1271.92 465.575,1284.81 468.304,1284.72 471.032,1289.72 473.761,1297.84 \n",
       "  476.489,1324.12 479.218,1317.38 481.946,1312.19 484.675,1314.12 487.403,1316.6 490.132,1330.15 492.86,1322.1 495.589,1330.86 498.317,1338.02 501.046,1339.6 \n",
       "  503.774,1341.3 506.503,1343.25 509.231,1341.14 511.96,1348.55 514.688,1352.6 517.417,1338.06 520.145,1331.41 522.874,1325.27 525.602,1313.96 528.331,1308.39 \n",
       "  531.059,1303.27 533.788,1304.7 536.517,1304.79 539.245,1308.02 541.974,1305.38 544.702,1294.93 547.431,1296.26 550.159,1292.61 552.888,1294.17 555.616,1294.63 \n",
       "  558.345,1301.53 561.073,1291.83 563.802,1291.97 566.53,1296.14 569.259,1287.82 571.987,1285.11 574.716,1281.26 577.444,1281.67 580.173,1291.32 582.901,1288.53 \n",
       "  585.63,1283.96 588.358,1287.36 591.087,1283.8 593.815,1279.42 596.544,1281.05 599.273,1283.69 602.001,1278.39 604.73,1285.43 607.458,1274.81 610.187,1271.1 \n",
       "  612.915,1271.49 615.644,1275.27 618.372,1273.62 621.101,1269.17 623.829,1271.23 626.558,1261.46 629.286,1272.04 632.015,1282.15 634.743,1306.64 637.472,1298.25 \n",
       "  640.2,1293.57 642.929,1283.5 645.657,1289.1 648.386,1290.27 651.114,1270.8 653.843,1285.06 656.571,1287.38 659.3,1276.46 662.028,1267.63 664.757,1267.61 \n",
       "  667.486,1262.38 670.214,1262.79 672.943,1285.32 675.671,1276.49 678.4,1281.83 681.128,1278.69 683.857,1270.71 686.585,1271.33 689.314,1278.3 692.042,1270.29 \n",
       "  694.771,1260.91 697.499,1260.96 700.228,1258.87 702.956,1253.07 705.685,1237.27 708.413,1238.42 711.142,1248.37 713.87,1245.73 716.599,1243.9 719.327,1239.15 \n",
       "  722.056,1243.3 724.784,1250.71 727.513,1248.44 730.241,1250.82 732.97,1243.14 735.699,1245.75 738.427,1248.21 741.156,1236.4 743.884,1234.97 746.613,1247.89 \n",
       "  749.341,1243.62 752.07,1229.42 754.798,1229.31 757.527,1235.41 760.255,1229.38 762.984,1222.36 765.712,1208.33 768.441,1209.11 771.169,1210.37 773.898,1212.55 \n",
       "  776.626,1210.46 779.355,1207.87 782.083,1198.46 784.812,1199.72 787.54,1192.34 790.269,1191.42 792.997,1184.54 795.726,1178.88 798.454,1192.09 801.183,1192.16 \n",
       "  803.912,1179.54 806.64,1163.35 809.369,1159.5 812.097,1160.35 814.826,1160.09 817.554,1155.07 820.283,1153.44 823.011,1148.72 825.74,1149.27 828.468,1143.51 \n",
       "  831.197,1147.71 833.925,1140.55 836.654,1137.48 839.382,1139.34 842.111,1146.45 844.839,1149.15 847.568,1149.68 850.296,1139.16 853.025,1143.93 855.753,1135.78 \n",
       "  858.482,1137.14 861.21,1144.22 863.939,1155.03 866.667,1149.77 869.396,1140.97 872.125,1129.2 874.853,1137.89 877.582,1134.32 880.31,1129.06 883.039,1127.48 \n",
       "  885.767,1119.02 888.496,1108.22 891.224,1106.96 893.953,1108.49 896.681,1107.85 899.41,1109.18 902.138,1098.72 904.867,1098.1 907.595,1085.17 910.324,1085.42 \n",
       "  913.052,1081.48 915.781,1076.59 918.509,1061.22 921.238,1067.92 923.966,1062.49 926.695,1065.72 929.423,1054.71 932.152,1039.94 934.88,1038.34 937.609,1023.13 \n",
       "  940.338,1032.95 943.066,1036.02 945.795,1027.08 948.523,1019.07 951.252,1024.03 953.98,1021.43 956.709,1017.92 959.437,1020.03 962.166,1041.5 964.894,1021.46 \n",
       "  967.623,1006.21 970.351,1007.28 973.08,1040.22 975.808,1042.17 978.537,1018.8 981.265,1012.83 983.994,1004.21 986.722,1016.09 989.451,1012.6 992.179,1017.05 \n",
       "  994.908,999.646 997.636,1004.99 1000.36,1004.81 1003.09,1018.45 1005.82,1007.86 1008.55,1015.47 1011.28,1032.1 1014.01,1066.2 1016.74,1089.37 1019.46,1078.88 \n",
       "  1022.19,1122.76 1024.92,1123.12 1027.65,1064.76 1030.38,1086.52 1033.11,1055.74 1035.84,1078.26 1038.56,1087.19 1041.29,1139.61 1044.02,1095.65 1046.75,1118.38 \n",
       "  1049.48,1180.76 1052.21,1112.55 1054.94,1194.56 1057.66,1170.14 1060.39,1184.34 1063.12,1188.67 1065.85,1224.31 1068.58,1235.48 1071.31,1183.85 1074.03,1186.97 \n",
       "  1076.76,1157.34 1079.49,1181.88 1082.22,1165.67 1084.95,1166.86 1087.68,1197.55 1090.41,1188.33 1093.13,1196.4 1095.86,1148.1 1098.59,1155.07 1101.32,1139.84 \n",
       "  1104.05,1135.44 1106.78,1123.38 1109.51,1091.73 1112.23,1097.74 1114.96,1092.55 1117.69,1101.47 1120.42,1114.94 1123.15,1134.57 1125.88,1116.84 1128.61,1119.29 \n",
       "  1131.33,1101.08 1134.06,1100.63 1136.79,1111.15 1139.52,1090.17 1142.25,1076.25 1144.98,1087.09 1147.71,1077.71 1150.43,1067.62 1153.16,1060.58 1155.89,1053.45 \n",
       "  1158.62,1038.8 1161.35,1027.6 1164.08,1035.86 1166.8,1044.48 1169.53,1040.15 1172.26,1044.35 1174.99,1027.72 1177.72,1031.89 1180.45,1017.92 1183.18,1023.38 \n",
       "  1185.9,1018.7 1188.63,1023.66 1191.36,1020.49 1194.09,1020.17 1196.82,1020.88 1199.55,1011.92 1202.28,1008.5 1205,1004.42 1207.73,1010.84 1210.46,989.785 \n",
       "  1213.19,985.29 1215.92,961.14 1218.65,940.843 1221.38,979.694 1224.1,973.043 1226.83,963.433 1229.56,942.586 1232.29,943.71 1235.02,943.389 1237.75,947.998 \n",
       "  1240.47,927.014 1243.2,909.446 1245.93,924.284 1248.66,913.322 1251.39,939.031 1254.12,920.34 1256.85,913.414 1259.57,914.996 1262.3,914.996 1265.03,892.658 \n",
       "  1267.76,895.318 1270.49,875.411 1273.22,871.65 1275.95,870.114 1278.67,874.173 1281.4,859.678 1284.13,853.555 1286.86,864.586 1289.59,866.375 1292.32,847.753 \n",
       "  1295.05,860.206 1297.77,857.706 1300.5,898.323 1303.23,900.433 1305.96,880.296 1308.69,894.584 1311.42,878.186 1314.14,867.637 1316.87,775.257 1319.6,750.695 \n",
       "  1322.33,744.021 1325.06,740.374 1327.79,705.147 1330.52,730.742 1333.24,715.926 1335.97,746.681 1338.7,713.335 1341.43,694.987 1344.16,695.928 1346.89,698.68 \n",
       "  1349.62,689.919 1352.34,688.589 1355.07,665.035 1357.8,609.122 1360.53,595.476 1363.26,604.948 1365.99,589.375 1368.72,603.25 1371.44,605.108 1374.17,566.28 \n",
       "  1376.9,519.128 1379.63,544.63 1382.36,641.138 1385.09,640.404 1387.81,715.078 1390.54,673.796 1393.27,708.932 1396,722.6 1398.73,691.777 1401.46,690.125 \n",
       "  1404.19,721.408 1406.91,737.829 1409.64,769.937 1412.37,740.214 1415.1,724.343 1417.83,767.368 1420.56,757.277 1423.29,720.032 1426.01,695.446 1428.74,703.427 \n",
       "  1431.47,687.649 1434.2,678.658 1436.93,713.243 1439.66,681.319 1442.39,711.959 1445.11,694.345 1447.84,695.354 1450.57,677.007 1453.3,608.846 1456.03,639.12 \n",
       "  1458.76,638.294 1461.48,642.697 1464.21,658.201 1466.94,686.089 1469.67,672.053 1472.4,677.924 1475.13,688.199 1477.86,694.712 1480.58,694.621 1483.31,680.401 \n",
       "  1486.04,729.939 1488.77,692.144 1491.5,751.406 1494.23,752.231 1496.96,736.911 1499.68,695.538 1502.41,658.109 1505.14,661.228 1507.87,682.97 1510.6,686.181 \n",
       "  1513.33,653.889 1516.06,656.458 1518.78,655.999 1521.51,646.459 1524.24,654.807 1526.97,667.283 1529.7,661.687 1532.43,673.613 1535.15,705.629 1537.88,693.52 \n",
       "  1540.61,685.63 1543.34,680.493 1546.07,657.926 1548.8,624.258 1551.53,620.956 1554.25,622.24 1556.98,628.57 1559.71,614.809 1562.44,609.03 1565.17,632.881 \n",
       "  1567.9,619.488 1570.63,627.102 1573.35,632.881 1576.08,576.922 1578.81,577.564 1581.54,569.399 1584.27,588.114 1587,573.711 1589.73,540.227 1592.45,548.667 \n",
       "  1595.18,539.401 1597.91,496.101 1600.64,512.798 1603.37,523.347 1606.1,532.796 1608.82,562.886 1611.55,548.208 1614.28,588.664 1617.01,549.034 1619.74,538.667 \n",
       "  1622.47,566.831 1625.2,568.482 1627.92,549.309 1630.65,567.473 1633.38,583.71 1636.11,577.381 1638.84,538.851 1641.57,494.45 1644.3,474.268 1647.02,438.949 \n",
       "  1649.75,436.748 1652.48,446.839 1655.21,492.432 1657.94,539.493 1660.67,519.494 1663.4,511.697 1666.12,521.329 1668.85,489.68 1671.58,495.459 1674.31,494.083 \n",
       "  1677.04,502.34 1679.77,508.027 1682.49,510.412 1685.22,508.211 1687.95,528.209 1690.68,549.768 1693.41,560.134 1696.14,558.666 1698.87,594.168 1701.59,595.453 \n",
       "  1704.32,600.131 1707.05,640.129 1709.78,637.652 1712.51,577.747 1715.24,602.241 1717.97,630.313 1720.69,648.018 1723.42,636.184 1726.15,682.603 1728.88,639.211 \n",
       "  1731.61,649.394 1734.34,631.23 1737.07,639.762 1739.79,612.608 1742.52,598.113 1745.25,605.544 1747.98,644.349 1750.71,649.302 1753.44,618.112 1756.16,625.909 \n",
       "  1758.89,648.385 1761.62,643.798 1764.35,638.111 1767.08,636.459 1769.81,650.128 1772.54,629.487 1775.26,621.69 1777.99,595.086 1780.72,592.242 1783.45,576.738 \n",
       "  1786.18,554.171 1788.91,529.952 1791.64,546.098 1794.36,516.834 1797.09,538.851 1799.82,516.192 1802.55,519.311 1805.28,513.073 1808.01,528.943 1810.74,525.366 \n",
       "  1813.46,539.677 1816.19,517.843 1818.92,514.174 1821.65,517.201 1824.38,524.632 1827.11,525.549 1829.84,544.08 1832.56,534.172 1835.29,577.197 1838.02,574.904 \n",
       "  1840.75,559.859 1843.48,555.547 1846.21,586.371 1848.93,594.994 1851.66,623.8 1854.39,603.617 1857.12,580.867 1859.85,591.692 1862.58,604.718 1865.31,606.186 \n",
       "  1868.03,582.151 1870.76,599.397 1873.49,584.077 1876.22,585.912 1878.95,586.371 1881.68,600.774 1884.41,606.92 1887.13,609.947 1889.86,602.792 1892.59,616.736 \n",
       "  1895.32,595.178 1898.05,595.086 1900.78,587.38 1903.51,583.802 1906.23,593.159 1908.96,581.784 1911.69,553.07 1914.42,560.776 1917.15,556.098 1919.88,541.053 \n",
       "  1922.6,553.254 1925.33,536.374 1928.06,520.962 1930.79,523.531 1933.52,526.191 1936.25,528.943 1938.98,513.623 1941.7,499.404 1944.43,493.625 1947.16,490.781 \n",
       "  1949.89,466.103 1952.62,447.206 1955.35,423.813 1958.08,436.014 1960.8,418.859 1963.53,424.455 1966.26,413.997 1968.99,381.797 1971.72,387.944 1974.45,407.117 \n",
       "  1977.18,443.261 1979.9,409.318 1982.63,416.199 1985.36,403.355 1988.09,387.21 1990.82,383.265 1993.55,403.63 1996.27,420.051 1999,413.997 2001.73,411.979 \n",
       "  2004.46,415.098 2007.19,398.218 2009.92,401.979 2012.65,400.97 2015.37,409.41 2018.1,409.869 2020.83,414.364 2023.56,411.979 2026.29,384.182 2029.02,382.256 \n",
       "  2031.75,363.725 2034.47,372.256 2037.2,407.392 2039.93,404.273 2042.66,390.604 2045.39,376.66 2048.12,377.485 2050.85,389.044 2053.57,396.567 2056.3,386.843 \n",
       "  2059.03,345.377 2061.76,357.212 2064.49,350.973 2067.22,340.515 2069.94,334.552 2072.67,312.627 2075.4,327.122 2078.13,336.662 2080.86,383.448 2083.59,378.128 \n",
       "  2086.32,391.246 2089.04,382.898 2091.77,385.1 2094.5,410.144 2097.23,438.766 2099.96,434.271 2102.69,412.07 2105.42,403.08 2108.14,402.254 2110.87,416.474 \n",
       "  2113.6,448.215 2116.33,439.775 2119.06,451.976 2121.79,441.426 2124.52,473.626 2127.24,455.554 2129.97,447.389 2132.7,435.555 2135.43,439.133 2138.16,439.958 \n",
       "  2140.89,451.884 2143.61,457.388 2146.34,431.243 2149.07,421.336 2151.8,405.649 2154.53,385.375 2157.26,380.788 2159.99,378.77 2162.71,386.017 2165.44,386.476 \n",
       "  2168.17,380.237 2170.9,384.549 2173.63,350.423 2176.36,375.834 2179.09,383.54 2181.81,373.816 2184.54,360.331 2187.27,365.193 2190,362.257 2192.73,369.963 \n",
       "  2195.46,366.569 2198.19,393.081 2200.91,393.539 2203.64,374.091 2206.37,373.999 2209.1,364.826 2211.83,341.983 2214.56,301.802 2217.28,277.217 2220.01,272.905 \n",
       "  2222.74,269.327 2225.47,264.465 2228.2,311.526 2230.93,280.061 2233.66,233.642 2236.38,238.504 2239.11,247.769 2241.84,265.383 2244.57,233.458 2247.3,179.7 \n",
       "  2250.03,143.923 2252.76,148.693 2255.48,103.834 2258.21,137.868 2260.94,150.803 2263.67,105.21 2266.4,169.793 2269.13,180.067 2271.86,192.819 2274.58,163.096 \n",
       "  2277.31,138.786 2280.04,132.914 2282.77,95.7608 2285.5,105.302 2288.23,104.476 2290.95,115.301 \n",
       "  \"/>\n",
       "<polyline clip-path=\"url(#clip972)\" style=\"stroke:#e26f46; stroke-linecap:butt; stroke-linejoin:round; stroke-width:4; stroke-opacity:1; fill:none\" points=\"\n",
       "  230.922,1116.07 233.651,1445.72 236.379,1377.39 239.108,1394.54 241.836,1382.06 244.565,1379.54 247.293,1377.04 250.022,1380.11 252.75,1385.07 255.479,1379.48 \n",
       "  258.207,1375.08 260.936,1372.54 263.665,1370.43 266.393,1377.3 269.122,1376.82 271.85,1379.37 274.579,1369.23 277.307,1371.19 280.036,1374.41 282.764,1353.74 \n",
       "  285.493,1348.88 288.221,1347.82 290.95,1338.59 293.678,1331.48 296.407,1330.46 299.135,1337.11 301.864,1338.99 304.592,1341.26 307.321,1338.43 310.049,1339.62 \n",
       "  312.778,1338.39 315.506,1339.15 318.235,1338.1 320.963,1335.84 323.692,1337.48 326.42,1333.81 329.149,1330.92 331.878,1330.27 334.606,1329.17 337.335,1332.54 \n",
       "  340.063,1329.21 342.792,1327.14 345.52,1327.41 348.249,1329.57 350.977,1333.9 353.706,1333.58 356.434,1321.45 359.163,1315.94 361.891,1313.56 364.62,1309.4 \n",
       "  367.348,1304.06 370.077,1299.59 372.805,1302.09 375.534,1299.1 378.262,1284.85 380.991,1291.27 383.719,1296.54 386.448,1301.5 389.176,1298.42 391.905,1297.65 \n",
       "  394.633,1294.92 397.362,1292.13 400.091,1286.11 402.819,1282.78 405.548,1281.65 408.276,1278.95 411.005,1272.38 413.733,1272.82 416.462,1270.56 419.19,1273.82 \n",
       "  421.919,1274.23 424.647,1273.69 427.376,1273.47 430.104,1265.64 432.833,1263.28 435.561,1261.54 438.29,1255.53 441.018,1255.44 443.747,1259.18 446.475,1261.71 \n",
       "  449.204,1261.36 451.932,1269.26 454.661,1250.2 457.389,1250.99 460.118,1245.29 462.846,1251.86 465.575,1263.58 468.304,1265.16 471.032,1269.67 473.761,1277.18 \n",
       "  476.489,1301.33 479.218,1298.1 481.946,1293.44 484.675,1294.02 487.403,1296.54 490.132,1308.78 492.86,1303.06 495.589,1310.3 498.317,1317.04 501.046,1319.6 \n",
       "  503.774,1321.19 506.503,1323.09 509.231,1321.44 511.96,1327.8 514.688,1332.03 517.417,1319.85 520.145,1312.51 522.874,1306.04 525.602,1295.56 528.331,1289.39 \n",
       "  531.059,1284.14 533.788,1284.9 536.517,1285.03 539.245,1288 541.974,1285.94 544.702,1276.56 547.431,1276.57 550.159,1273.29 552.888,1274.49 555.616,1274.87 \n",
       "  558.345,1281.14 561.073,1273.21 563.802,1272.58 566.53,1275.88 569.259,1269.19 571.987,1266 574.716,1262.08 577.444,1262.15 580.173,1270.59 582.901,1269.16 \n",
       "  585.63,1265.08 588.358,1267.39 591.087,1264.58 593.815,1260.5 596.544,1261.33 599.273,1263.79 602.001,1259.47 604.73,1265.18 607.458,1256.34 610.187,1252.31 \n",
       "  612.915,1251.84 615.644,1255.38 618.372,1254.27 621.101,1250.29 623.829,1251.55 626.558,1243.09 629.286,1251.55 632.015,1261.2 634.743,1284.26 637.472,1279.28 \n",
       "  640.2,1274.88 642.929,1264.91 645.657,1269.05 648.386,1270.34 651.114,1253.64 653.843,1264.13 656.571,1267.13 659.3,1258.43 662.028,1249.25 664.757,1248.18 \n",
       "  667.486,1243.49 670.214,1243.44 672.943,1263.16 675.671,1257.71 678.4,1262.09 681.128,1259.23 683.857,1252.33 686.585,1251.79 689.314,1257.94 692.042,1251.67 \n",
       "  694.771,1242.75 697.499,1241.54 700.228,1239.65 702.956,1234.43 705.685,1219.84 708.413,1219.18 711.142,1227.74 713.87,1226.68 716.599,1224.95 719.327,1220.37 \n",
       "  722.056,1223.61 724.784,1230.43 727.513,1229.35 730.241,1231.31 732.97,1224.63 735.699,1226.31 738.427,1228.46 741.156,1218.53 743.884,1216.06 746.613,1226.99 \n",
       "  749.341,1224.68 752.07,1212.03 754.798,1210.2 757.527,1215.35 760.255,1210.83 762.984,1204.14 765.712,1190.83 768.441,1190.08 771.169,1190.99 773.898,1193.28 \n",
       "  776.626,1191.58 779.355,1189.16 782.083,1180.51 784.812,1180.69 787.54,1174.08 790.269,1172.73 792.997,1166.3 795.726,1160.77 798.454,1171.62 801.183,1172.99 \n",
       "  803.912,1162.26 806.64,1146.49 809.369,1141.26 812.097,1141.4 814.826,1141.38 817.554,1136.93 820.283,1134.98 823.011,1130.53 825.74,1130.59 828.468,1125.45 \n",
       "  831.197,1128.68 833.925,1122.59 836.654,1119.4 839.382,1120.43 842.111,1126.97 844.839,1130.1 847.568,1130.99 850.296,1121.71 853.025,1124.89 855.753,1117.9 \n",
       "  858.482,1118.61 861.21,1124.62 863.939,1135.08 866.667,1131.59 869.396,1123.51 872.125,1111.96 874.853,1118.4 877.582,1115.89 880.31,1111.31 883.039,1109.08 \n",
       "  885.767,1101.47 888.496,1091.11 891.224,1088.73 893.953,1089.82 896.681,1089.51 899.41,1090.63 902.138,1081.51 904.867,1079.98 907.595,1068.21 910.324,1067.34 \n",
       "  913.052,1063.49 915.781,1059.05 918.509,1044.82 921.238,1049.19 923.966,1044.7 926.695,1047.45 929.423,1037.7 932.152,1023.85 934.88,1020.56 937.609,1006.87 \n",
       "  940.338,1014.14 943.066,1017.4 945.795,1010.34 948.523,1002.2 951.252,1005.6 953.98,1003.73 956.709,1000.61 959.437,1001.92 962.166,1021.06 964.894,1005.59 \n",
       "  967.623,990.676 970.351,989.229 973.08,1018.47 975.808,1023.56 978.537,1003.96 981.265,995.855 983.994,987.247 986.722,997.063 989.451,994.931 992.179,998.966 \n",
       "  994.908,983.691 997.636,986.967 1000.36,986.733 1003.09,999.26 1005.82,991.018 1008.55,997.138 1011.28,1011.98 1014.01,1044.19 1016.74,1068.15 1019.46,1061.9 \n",
       "  1022.19,1099.59 1024.92,1103.78 1027.65,1053.77 1030.38,1066.33 1033.11,1040.16 1035.84,1058.45 1038.56,1067.03 1041.29,1115.52 1044.02,1081.44 1046.75,1098.64 \n",
       "  1049.48,1153.71 1052.21,1101.54 1054.94,1167.85 1057.66,1151.89 1060.39,1165.59 1063.12,1168.19 1065.85,1201.61 1068.58,1214.34 1071.31,1171.13 1074.03,1168.28 \n",
       "  1076.76,1141.26 1079.49,1160.91 1082.22,1147.91 1084.95,1148.66 1087.68,1174.69 1090.41,1170.2 1093.13,1176.94 1095.86,1134.49 1098.59,1136.39 1101.32,1122.15 \n",
       "  1104.05,1117.91 1106.78,1105.95 1109.51,1077.21 1112.23,1078.94 1114.96,1074.42 1117.69,1082.38 1120.42,1094.72 1123.15,1113.77 1125.88,1100.19 1128.61,1100.97 \n",
       "  1131.33,1084.4 1134.06,1082.7 1136.79,1091.25 1139.52,1074.19 1142.25,1059.96 1144.98,1067.48 1147.71,1060.33 1150.43,1050.89 1153.16,1043.22 1155.89,1036.21 \n",
       "  1158.62,1022.49 1161.35,1011.09 1164.08,1016.97 1166.8,1025.33 1169.53,1022.68 1172.26,1025.98 1174.99,1011.54 1177.72,1013.79 1180.45,1001.35 1183.18,1005.23 \n",
       "  1185.9,1001.08 1188.63,1005.46 1191.36,1002.8 1194.09,1002.51 1196.82,1002.86 1199.55,995.143 1202.28,991.214 1205,987.056 1207.73,992.378 1210.46,974.351 \n",
       "  1213.19,968.546 1215.92,946.12 1218.65,926.158 1221.38,957.69 1224.1,955.606 1226.83,947.658 1229.56,927.399 1232.29,926.474 1235.02,925.782 1237.75,930.23 \n",
       "  1240.47,911.997 1243.2,894.632 1245.93,905.31 1248.66,897.085 1251.39,919.2 1254.12,904.658 1256.85,897.677 1259.57,897.324 1262.3,897.864 1265.03,878.115 \n",
       "  1267.76,878.28 1270.49,860.385 1273.22,855.589 1275.95,853.139 1278.67,856.903 1281.4,844.376 1284.13,837.727 1286.86,846.356 1289.59,849.171 1292.32,833.207 \n",
       "  1295.05,842.202 1297.77,840.775 1300.5,876.981 1303.23,882.447 1305.96,866.129 1308.69,875.99 1311.42,862.701 1314.14,852.403 1316.87,769.171 1319.6,738.527 \n",
       "  1322.33,727.851 1325.06,724.992 1327.79,693.202 1330.52,712.382 1333.24,700.878 1335.97,727.853 1338.7,700.391 1341.43,682.26 1344.16,679.638 1346.89,682.594 \n",
       "  1349.62,675.132 1352.34,673.185 1355.07,651.976 1357.8,600.518 1360.53,582.304 1363.26,588.299 1365.99,575.979 1368.72,586.849 1371.44,589.293 1374.17,555.924 \n",
       "  1376.9,510.205 1379.63,527.131 1382.36,614.149 1385.09,624.306 1387.81,691.87 1390.54,661.349 1393.27,690.746 1396,703.671 1398.73,680.119 1401.46,674.813 \n",
       "  1404.19,701.669 1406.91,719.61 1409.64,750.259 1412.37,727.113 1415.1,710.921 1417.83,745.979 1420.56,741.671 1423.29,708.96 1426.01,682.588 1428.74,686.675 \n",
       "  1431.47,673.418 1434.2,664.411 1436.93,693.34 1439.66,668.747 1442.39,693.517 1445.11,679.569 1447.84,680.309 1450.57,662.929 1453.3,601.71 1456.03,620.9 \n",
       "  1458.76,621.859 1461.48,627.466 1464.21,640.626 1466.94,667.202 1469.67,657.749 1472.4,662.103 1475.13,670.924 1477.86,678.266 1480.58,678.83 1483.31,666.384 \n",
       "  1486.04,708.545 1488.77,679.8 1491.5,729.832 1494.23,734.459 1496.96,723.617 1499.68,684.19 1502.41,647.278 1505.14,645.287 1507.87,664.567 1510.6,669.979 \n",
       "  1513.33,642.203 1516.06,641.019 1518.78,640.095 1521.51,632.266 1524.24,638.421 1526.97,650.096 1529.7,646.729 1532.43,656.828 1535.15,685.927 1537.88,678.881 \n",
       "  1540.61,671.293 1543.34,665.203 1546.07,644.987 1548.8,612.949 1551.53,606.23 1554.25,606.514 1556.98,612.606 1559.71,601.009 1562.44,594.732 1565.17,614.699 \n",
       "  1567.9,605.399 1570.63,611.395 1573.35,616.475 1576.08,568.302 1578.81,563.209 1581.54,554.638 1584.27,571.331 1587,559.895 1589.73,529.724 1592.45,533.012 \n",
       "  1595.18,525.259 1597.91,486.811 1600.64,496.716 1603.37,506.804 1606.1,517.275 1608.82,544.463 1611.55,534.747 1614.28,569.553 1617.01,537.783 1619.74,526.211 \n",
       "  1622.47,548.106 1625.2,553.131 1627.92,536.896 1630.65,550.664 1633.38,566.361 1636.11,563.178 1638.84,528.57 1641.57,485.33 1644.3,462.309 1647.02,428.674 \n",
       "  1649.75,423.273 1652.48,431.18 1655.21,472.869 1657.94,518.932 1660.67,507.018 1663.4,498.6 1666.12,505.267 1668.85,478.683 1671.58,480.852 1674.31,479.247 \n",
       "  1677.04,487.143 1679.77,492.608 1682.49,495.637 1685.22,493.857 1687.95,511.325 1690.68,532.202 1693.41,544.053 1696.14,543.959 1698.87,575.141 1701.59,579.646 \n",
       "  1704.32,584.894 1707.05,619.991 1709.78,622.109 1712.51,569.922 1715.24,584.902 1717.97,610.791 1720.69,630.783 1723.42,622.035 1726.15,662.032 1728.88,627.796 \n",
       "  1731.61,634.03 1734.34,616.942 1737.07,624.081 1739.79,599.888 1742.52,585.239 1745.25,589.241 1747.98,624.472 1750.71,632.852 1753.44,606.736 1756.16,609.985 \n",
       "  1758.89,629.93 1761.62,628.807 1764.35,623.613 1767.08,621.184 1769.81,633.104 1772.54,616.259 1775.26,607.721 1777.99,582.705 1780.72,577.835 1783.45,563.159 \n",
       "  1786.18,542.157 1788.91,518.023 1791.64,529.615 1794.36,505.045 1797.09,522.322 1799.82,503.331 1802.55,505.094 1805.28,498.654 1808.01,512.778 1810.74,510.699 \n",
       "  1813.46,523.631 1816.19,505.3 1818.92,500.51 1821.65,501.898 1824.38,509.19 1827.11,510.665 1829.84,527.295 1832.56,520.261 1835.29,557.74 1838.02,559.36 \n",
       "  1840.75,547.302 1843.48,541.064 1846.21,567.811 1848.93,578.459 1851.66,605.565 1854.39,590.252 1857.12,569.018 1859.85,575.248 1862.58,587.796 1865.31,590.841 \n",
       "  1868.03,569.887 1870.76,582.597 1873.49,570.203 1876.22,571.181 1878.95,570.902 1881.68,584.141 1884.41,590.779 1887.13,594.515 1889.86,588.36 1892.59,600.038 \n",
       "  1895.32,582.163 1898.05,580.476 1900.78,572.802 1903.51,569.391 1906.23,576.892 1908.96,567.916 1911.69,541.687 1914.42,545.202 1917.15,541.346 1919.88,528.241 \n",
       "  1922.6,537.095 1925.33,523.216 1928.06,508.467 1930.79,508.49 1933.52,511.091 1936.25,513.966 1938.98,500.717 1941.7,486.711 1944.43,479.774 1947.16,476.62 \n",
       "  1949.89,454.579 1952.62,435.457 1955.35,412.351 1958.08,420.736 1960.8,406.385 1963.53,410.291 1966.26,400.814 1968.99,371.981 1971.72,373.67 1974.45,390.647 \n",
       "  1977.18,425.011 1979.9,398.885 1982.63,402.283 1985.36,390.197 1988.09,375.706 1990.82,369.869 1993.55,387.422 1996.27,403.916 1999,400.772 2001.73,398.425 \n",
       "  2004.46,400.673 2007.19,386.212 2009.92,387.928 2012.65,386.924 2015.37,394.678 2018.1,395.703 2020.83,400.019 2023.56,398.179 2026.29,373.627 2029.02,369.011 \n",
       "  2031.75,351.855 2034.47,357.956 2037.2,389.155 2039.93,390.476 2042.66,378.719 2045.39,364.488 2048.12,363.722 2050.85,373.798 2053.57,381.793 2056.3,374.163 \n",
       "  2059.03,336.671 2061.76,342.681 2064.49,337.482 2067.22,328.622 2069.94,321.706 2072.67,301.797 2075.4,312.318 2078.13,321.688 2080.86,364.596 2083.59,364.382 \n",
       "  2086.32,376.609 2089.04,369.57 2091.77,371.453 2094.5,393.137 2097.23,421.223 2099.96,420.561 2102.69,400.92 2105.42,390.302 2108.14,388.345 2110.87,400.886 \n",
       "  2113.6,430.299 2116.33,426.35 2119.06,436.837 2121.79,428.052 2124.52,456.044 2127.24,442.683 2129.97,434.865 2132.7,422.446 2135.43,424.824 2138.16,425.506 \n",
       "  2140.89,436.461 2143.61,442.327 2146.34,420.192 2149.07,408.773 2151.8,393.288 2154.53,374.076 2157.26,367.631 2159.99,365.148 2162.71,371.463 2165.44,372.52 \n",
       "  2168.17,367.284 2170.9,370.333 2173.63,340.562 2176.36,359.797 2179.09,368.107 2181.81,361.605 2184.54,348.251 2187.27,351.084 2190,348.734 2192.73,355.587 \n",
       "  2195.46,353.1 2198.19,376.455 2200.91,379.201 2203.64,362.927 2206.37,360.406 2209.1,352.005 2211.83,331.229 2214.56,293.229 2217.28,267.182 2220.01,260.242 \n",
       "  2222.74,256.62 2225.47,252.075 2228.2,292.976 2230.93,269.81 2233.66,227.065 2236.38,225.083 2239.11,233.419 2241.84,250.481 2244.57,224.066 2247.3,173.878 \n",
       "  2250.03,135.913 2252.76,135.879 2255.48,96.58 2258.21,122.656 2260.94,136.002 2263.67,98.8493 2266.4,150.662 2269.13,165.05 2271.86,179.722 2274.58,153.639 \n",
       "  2277.31,129.943 2280.04,121.222 2282.77,87.9763 2285.5,92.7142 2288.23,92.0249 2290.95,102.352 \n",
       "  \"/>\n",
       "<path clip-path=\"url(#clip970)\" d=\"\n",
       "M1984.91 250.738 L2279.97 250.738 L2279.97 95.2176 L1984.91 95.2176  Z\n",
       "  \" fill=\"#ffffff\" fill-rule=\"evenodd\" fill-opacity=\"1\"/>\n",
       "<polyline clip-path=\"url(#clip970)\" style=\"stroke:#000000; stroke-linecap:butt; stroke-linejoin:round; stroke-width:4; stroke-opacity:1; fill:none\" points=\"\n",
       "  1984.91,250.738 2279.97,250.738 2279.97,95.2176 1984.91,95.2176 1984.91,250.738 \n",
       "  \"/>\n",
       "<polyline clip-path=\"url(#clip970)\" style=\"stroke:#009af9; stroke-linecap:butt; stroke-linejoin:round; stroke-width:4; stroke-opacity:1; fill:none\" points=\"\n",
       "  2009.17,147.058 2154.75,147.058 \n",
       "  \"/>\n",
       "<path clip-path=\"url(#clip970)\" d=\"M2192.86 166.745 Q2191.05 171.375 2189.34 172.787 Q2187.62 174.199 2184.75 174.199 L2181.35 174.199 L2181.35 170.634 L2183.85 170.634 Q2185.61 170.634 2186.58 169.8 Q2187.55 168.967 2188.73 165.865 L2189.5 163.921 L2179.01 138.412 L2183.53 138.412 L2191.63 158.689 L2199.73 138.412 L2204.24 138.412 L2192.86 166.745 Z\" fill=\"#000000\" fill-rule=\"evenodd\" fill-opacity=\"1\" /><path clip-path=\"url(#clip970)\" d=\"M2211.54 160.402 L2219.17 160.402 L2219.17 134.037 L2210.86 135.703 L2210.86 131.444 L2219.13 129.778 L2223.8 129.778 L2223.8 160.402 L2231.44 160.402 L2231.44 164.338 L2211.54 164.338 L2211.54 160.402 Z\" fill=\"#000000\" fill-rule=\"evenodd\" fill-opacity=\"1\" /><polyline clip-path=\"url(#clip970)\" style=\"stroke:#e26f46; stroke-linecap:butt; stroke-linejoin:round; stroke-width:4; stroke-opacity:1; fill:none\" points=\"\n",
       "  2009.17,198.898 2154.75,198.898 \n",
       "  \"/>\n",
       "<path clip-path=\"url(#clip970)\" d=\"M2192.86 218.585 Q2191.05 223.215 2189.34 224.627 Q2187.62 226.039 2184.75 226.039 L2181.35 226.039 L2181.35 222.474 L2183.85 222.474 Q2185.61 222.474 2186.58 221.64 Q2187.55 220.807 2188.73 217.705 L2189.5 215.761 L2179.01 190.252 L2183.53 190.252 L2191.63 210.529 L2199.73 190.252 L2204.24 190.252 L2192.86 218.585 Z\" fill=\"#000000\" fill-rule=\"evenodd\" fill-opacity=\"1\" /><path clip-path=\"url(#clip970)\" d=\"M2214.75 212.242 L2231.07 212.242 L2231.07 216.178 L2209.13 216.178 L2209.13 212.242 Q2211.79 209.488 2216.37 204.858 Q2220.98 200.205 2222.16 198.863 Q2224.41 196.34 2225.29 194.604 Q2226.19 192.844 2226.19 191.155 Q2226.19 188.4 2224.24 186.664 Q2222.32 184.928 2219.22 184.928 Q2217.02 184.928 2214.57 185.692 Q2212.14 186.455 2209.36 188.006 L2209.36 183.284 Q2212.18 182.15 2214.64 181.571 Q2217.09 180.993 2219.13 180.993 Q2224.5 180.993 2227.69 183.678 Q2230.89 186.363 2230.89 190.854 Q2230.89 192.983 2230.08 194.905 Q2229.29 196.803 2227.18 199.395 Q2226.6 200.067 2223.5 203.284 Q2220.4 206.479 2214.75 212.242 Z\" fill=\"#000000\" fill-rule=\"evenodd\" fill-opacity=\"1\" /></svg>\n"
      ]
     },
     "execution_count": 99,
     "metadata": {},
     "output_type": "execute_result"
    }
   ],
   "source": [
    "plot(X)\n",
    "plot!(predicted)"
   ]
  },
  {
   "cell_type": "code",
   "execution_count": 94,
   "id": "29e0dc30-212b-4d99-964d-9fff94e334f6",
   "metadata": {},
   "outputs": [
    {
     "data": {
      "text/plain": [
       "756-element Vector{Vector{Float32}}:\n",
       " [35.878574]\n",
       " [39.939785]\n",
       " [38.53677]\n",
       " [39.487427]\n",
       " [39.776024]\n",
       " [40.463596]\n",
       " [40.64799]\n",
       " [40.327694]\n",
       " [39.78639]\n",
       " [40.394222]\n",
       " [40.875877]\n",
       " [41.15167]\n",
       " [41.38176]\n",
       " ⋮\n",
       " [175.94337]\n",
       " [179.99333]\n",
       " [174.34541]\n",
       " [172.77695]\n",
       " [171.17763]\n",
       " [174.02092]\n",
       " [176.60385]\n",
       " [177.55455]\n",
       " [181.17857]\n",
       " [180.66211]\n",
       " [180.73724]\n",
       " [179.61147]"
      ]
     },
     "execution_count": 94,
     "metadata": {},
     "output_type": "execute_result"
    }
   ],
   "source": []
  },
  {
   "cell_type": "code",
   "execution_count": null,
   "id": "de497faf-9fbd-42ce-afea-0a2a9ad6a06a",
   "metadata": {},
   "outputs": [],
   "source": []
  }
 ],
 "metadata": {
  "kernelspec": {
   "display_name": "Julia 1.7.3",
   "language": "julia",
   "name": "julia-1.7"
  },
  "language_info": {
   "file_extension": ".jl",
   "mimetype": "application/julia",
   "name": "julia",
   "version": "1.7.3"
  }
 },
 "nbformat": 4,
 "nbformat_minor": 5
}
