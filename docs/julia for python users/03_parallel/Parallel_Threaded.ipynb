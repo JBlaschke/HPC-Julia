{
 "cells": [
  {
   "cell_type": "code",
   "execution_count": 1,
   "id": "5241bd2d-5c2a-4994-b715-f2e9e6521f57",
   "metadata": {
    "slideshow": {
     "slide_type": "skip"
    },
    "tags": []
   },
   "outputs": [],
   "source": [
    "using BenchmarkTools"
   ]
  },
  {
   "cell_type": "markdown",
   "id": "49cd47f6-cb37-41ae-a019-ebc4c8b57131",
   "metadata": {
    "slideshow": {
     "slide_type": "slide"
    },
    "tags": []
   },
   "source": [
    "# A (very) Brief Look at Multi-Threaded Computing\n",
    "\n",
    "([Back to Overview](../index.html#/0/5))"
   ]
  },
  {
   "cell_type": "markdown",
   "id": "6dad3984-660a-470c-84a4-c1e4b2f34b74",
   "metadata": {
    "slideshow": {
     "slide_type": "fragment"
    },
    "tags": []
   },
   "source": [
    "Here we will look at how (distributed) parallel computing can be achieved from within Julia. The nice thing about Julia is that parallel computing is baked into the standard library. This is only a very brief overview -- but should be enough to get everyone started."
   ]
  },
  {
   "cell_type": "markdown",
   "id": "28bb83ad-c205-4797-bb84-fbf8e32af991",
   "metadata": {
    "slideshow": {
     "slide_type": "subslide"
    },
    "tags": []
   },
   "source": [
    "### Controling the number of threads"
   ]
  },
  {
   "cell_type": "markdown",
   "id": "d419ef08-ee27-42ae-9f2a-9f12f1edf344",
   "metadata": {
    "slideshow": {
     "slide_type": "fragment"
    },
    "tags": []
   },
   "source": [
    "Let's check the number of threads"
   ]
  },
  {
   "cell_type": "code",
   "execution_count": 2,
   "id": "cdadeef1-88ca-47e8-8240-15036c12c5bc",
   "metadata": {
    "slideshow": {
     "slide_type": "fragment"
    },
    "tags": []
   },
   "outputs": [
    {
     "data": {
      "text/plain": [
       "4"
      ]
     },
     "execution_count": 2,
     "metadata": {},
     "output_type": "execute_result"
    }
   ],
   "source": [
    "Threads.nthreads()"
   ]
  },
  {
   "cell_type": "markdown",
   "id": "65da7b49-4a4a-4505-b22a-337d6fcd6fdc",
   "metadata": {
    "slideshow": {
     "slide_type": "fragment"
    },
    "tags": []
   },
   "source": [
    "Note that we can't change the number of threads of a running `julia` process. It is controlled either from the command line by running `julia -t n`, where $n$ is the number of workers; or by the `JULIA_NUM_THREADS` envionment variable."
   ]
  },
  {
   "cell_type": "markdown",
   "id": "3847f12f-22c5-4863-a484-4a68dc42aae7",
   "metadata": {
    "slideshow": {
     "slide_type": "skip"
    },
    "tags": []
   },
   "source": [
    "## Thread placement"
   ]
  },
  {
   "cell_type": "markdown",
   "id": "a7e04e00-ac01-4a24-a61a-96d6847274d5",
   "metadata": {
    "slideshow": {
     "slide_type": "skip"
    },
    "tags": []
   },
   "source": [
    "Often it is helpful to figure out which thread is placed on which CPU core. [ThreadPinning.jl](https://github.com/carstenbauer/ThreadPinning.jl) can help us with this. **Warning:** this requires `lscpu` (so probably only works on linux?)"
   ]
  },
  {
   "cell_type": "code",
   "execution_count": 7,
   "id": "6699cd32-675d-45e7-b300-001435ccbc5c",
   "metadata": {
    "slideshow": {
     "slide_type": "skip"
    },
    "tags": []
   },
   "outputs": [],
   "source": [
    "using ThreadPinning"
   ]
  },
  {
   "cell_type": "code",
   "execution_count": null,
   "id": "a7a9cceb-26d7-4ee5-8389-e7a6f5254b8e",
   "metadata": {
    "slideshow": {
     "slide_type": "skip"
    },
    "tags": []
   },
   "outputs": [],
   "source": [
    "threadinfo()"
   ]
  },
  {
   "cell_type": "markdown",
   "id": "9f32ab4c-f716-4b3a-a44b-0c1dc74c55be",
   "metadata": {
    "slideshow": {
     "slide_type": "slide"
    },
    "tags": []
   },
   "source": [
    "## Multi-Threaded `for` loops"
   ]
  },
  {
   "cell_type": "markdown",
   "id": "239b35df-95aa-45e6-82f7-ab0cbc572648",
   "metadata": {
    "slideshow": {
     "slide_type": "subslide"
    },
    "tags": []
   },
   "source": [
    "The `@threads` macro spreads a for loop over the available threads"
   ]
  },
  {
   "cell_type": "code",
   "execution_count": 3,
   "id": "3ff9d041-edfd-48d5-a381-9a17359c753c",
   "metadata": {
    "slideshow": {
     "slide_type": "fragment"
    },
    "tags": []
   },
   "outputs": [
    {
     "name": "stdout",
     "output_type": "stream",
     "text": [
      "[1.0, 1.0, 1.0, 2.0, 2.0, 2.0, 3.0, 3.0, 4.0, 4.0]\n"
     ]
    }
   ],
   "source": [
    "a = zeros(10)\n",
    "Threads.@threads for i = 1:10\n",
    "    a[i] = Threads.threadid()\n",
    "end\n",
    "println(a)"
   ]
  },
  {
   "cell_type": "markdown",
   "id": "f4175cf9-c535-4fad-99ce-6f88c11f31cf",
   "metadata": {
    "slideshow": {
     "slide_type": "fragment"
    },
    "tags": []
   },
   "source": [
    "**Warning:** this placement can be random!"
   ]
  },
  {
   "cell_type": "markdown",
   "id": "b5a96bc2-19ba-4b80-9097-127d255af779",
   "metadata": {
    "slideshow": {
     "slide_type": "subslide"
    },
    "tags": []
   },
   "source": [
    "Let's test the performance of multi-threaded code"
   ]
  },
  {
   "cell_type": "code",
   "execution_count": 4,
   "id": "572a7c29-600b-49c5-b959-9165a86533b3",
   "metadata": {
    "slideshow": {
     "slide_type": "fragment"
    },
    "tags": []
   },
   "outputs": [
    {
     "data": {
      "text/plain": [
       "sqrt_array (generic function with 1 method)"
      ]
     },
     "execution_count": 4,
     "metadata": {},
     "output_type": "execute_result"
    }
   ],
   "source": [
    "function sqrt_array(A)\n",
    "    B = similar(A)\n",
    "    for i in eachindex(A)\n",
    "        @inbounds B[i] = sqrt(A[i])\n",
    "    end\n",
    "    B\n",
    "end"
   ]
  },
  {
   "cell_type": "code",
   "execution_count": 5,
   "id": "68e35cf6-c06e-4d9c-9fec-21ae3bbabb1d",
   "metadata": {
    "slideshow": {
     "slide_type": "fragment"
    },
    "tags": []
   },
   "outputs": [
    {
     "data": {
      "text/plain": [
       "threaded_sqrt_array (generic function with 1 method)"
      ]
     },
     "execution_count": 5,
     "metadata": {},
     "output_type": "execute_result"
    }
   ],
   "source": [
    "function threaded_sqrt_array(A)\n",
    "    B = similar(A)\n",
    "    Threads.@threads for i in eachindex(A)\n",
    "        @inbounds B[i] = sqrt(A[i])\n",
    "    end\n",
    "    B\n",
    "end"
   ]
  },
  {
   "cell_type": "code",
   "execution_count": 6,
   "id": "7f54282a-643f-49e5-8cdf-a702db0829a6",
   "metadata": {
    "slideshow": {
     "slide_type": "subslide"
    },
    "tags": []
   },
   "outputs": [
    {
     "name": "stdout",
     "output_type": "stream",
     "text": [
      "  1.506 ms (2 allocations: 7.63 MiB)\n"
     ]
    }
   ],
   "source": [
    "A = rand(1000, 1000)\n",
    "@btime sqrt_array(A);"
   ]
  },
  {
   "cell_type": "code",
   "execution_count": 8,
   "id": "b22c540b-eccf-4fe7-b595-03155479b364",
   "metadata": {
    "slideshow": {
     "slide_type": "fragment"
    },
    "tags": []
   },
   "outputs": [
    {
     "name": "stdout",
     "output_type": "stream",
     "text": [
      "  515.931 μs (27 allocations: 7.63 MiB)\n"
     ]
    }
   ],
   "source": [
    "@btime threaded_sqrt_array(A);"
   ]
  },
  {
   "cell_type": "markdown",
   "id": "670b0f47-a851-4e15-b794-412fadbe71f3",
   "metadata": {
    "slideshow": {
     "slide_type": "slide"
    },
    "tags": []
   },
   "source": [
    "## Reductions and multi-threaded code"
   ]
  },
  {
   "cell_type": "markdown",
   "id": "9ec1b896-e579-4ede-a6d7-fddb1432a2ca",
   "metadata": {
    "slideshow": {
     "slide_type": "fragment"
    },
    "tags": []
   },
   "source": [
    "Multi-threaded code can encounter race conditions. Let's look at this code which calculates the map-reduced sum square root:"
   ]
  },
  {
   "cell_type": "code",
   "execution_count": 10,
   "id": "2e59e679-cfc1-4a54-be6c-31cf06335180",
   "metadata": {
    "slideshow": {
     "slide_type": "fragment"
    },
    "tags": []
   },
   "outputs": [
    {
     "data": {
      "text/plain": [
       "sqrt_sum (generic function with 1 method)"
      ]
     },
     "execution_count": 10,
     "metadata": {},
     "output_type": "execute_result"
    }
   ],
   "source": [
    "function sqrt_sum(A)\n",
    "    s = zero(eltype(A))\n",
    "    for i in eachindex(A)\n",
    "        @inbounds s += sqrt(A[i])\n",
    "    end\n",
    "    return s\n",
    "end"
   ]
  },
  {
   "cell_type": "markdown",
   "id": "7ddc7769-e34a-485f-8a2e-c2bdb7370f14",
   "metadata": {
    "slideshow": {
     "slide_type": "subslide"
    },
    "tags": []
   },
   "source": [
    "The naive versioun would be:"
   ]
  },
  {
   "cell_type": "code",
   "execution_count": 12,
   "id": "4cd241e8-3006-446b-97be-55a1073e1202",
   "metadata": {
    "slideshow": {
     "slide_type": "fragment"
    },
    "tags": []
   },
   "outputs": [
    {
     "data": {
      "text/plain": [
       "threaded_sqrt_sum (generic function with 1 method)"
      ]
     },
     "execution_count": 12,
     "metadata": {},
     "output_type": "execute_result"
    }
   ],
   "source": [
    "function threaded_sqrt_sum(A)\n",
    "    s = zero(eltype(A))\n",
    "    Threads.@threads for i in eachindex(A)\n",
    "        @inbounds s += sqrt(A[i])\n",
    "    end\n",
    "    return s\n",
    "end"
   ]
  },
  {
   "cell_type": "markdown",
   "id": "88f17ba1-8306-4e6d-bb75-8af6a3da532b",
   "metadata": {
    "slideshow": {
     "slide_type": "fragment"
    },
    "tags": []
   },
   "source": [
    "since multiple threads write to s _at the same time_, we encounter a race condition."
   ]
  },
  {
   "cell_type": "markdown",
   "id": "9832ca9d-3a93-473f-a852-7ee5ec5a752c",
   "metadata": {
    "slideshow": {
     "slide_type": "subslide"
    },
    "tags": []
   },
   "source": [
    "We can see this by comparing the results:"
   ]
  },
  {
   "cell_type": "code",
   "execution_count": 33,
   "id": "98e855e5-365d-4e28-a89f-be93ace2161a",
   "metadata": {
    "slideshow": {
     "slide_type": "fragment"
    },
    "tags": []
   },
   "outputs": [
    {
     "data": {
      "text/plain": [
       "666276.2521367806"
      ]
     },
     "execution_count": 33,
     "metadata": {},
     "output_type": "execute_result"
    }
   ],
   "source": [
    "sqrt_sum(A)"
   ]
  },
  {
   "cell_type": "code",
   "execution_count": 34,
   "id": "a1382322-2756-4130-8421-7d9d2366ac07",
   "metadata": {
    "slideshow": {
     "slide_type": "fragment"
    },
    "tags": []
   },
   "outputs": [
    {
     "data": {
      "text/plain": [
       "166545.27314915543"
      ]
     },
     "execution_count": 34,
     "metadata": {},
     "output_type": "execute_result"
    }
   ],
   "source": [
    "threaded_sqrt_sum(A)"
   ]
  },
  {
   "cell_type": "markdown",
   "id": "492cac70-4ab5-4f21-b2aa-67aa55abb8b3",
   "metadata": {
    "slideshow": {
     "slide_type": "subslide"
    },
    "tags": []
   },
   "source": [
    "### Atomic Opertaions"
   ]
  },
  {
   "cell_type": "markdown",
   "id": "31f2c7c7-32ea-422a-b9de-f3a03881e0e1",
   "metadata": {
    "slideshow": {
     "slide_type": "fragment"
    },
    "tags": []
   },
   "source": [
    "A work-around is to use atomic operations:"
   ]
  },
  {
   "cell_type": "code",
   "execution_count": 23,
   "id": "48d86a82-1c0b-4f11-b847-d835c2348608",
   "metadata": {
    "slideshow": {
     "slide_type": "fragment"
    },
    "tags": []
   },
   "outputs": [
    {
     "data": {
      "text/plain": [
       "threaded_sqrt_sum_atomic (generic function with 1 method)"
      ]
     },
     "execution_count": 23,
     "metadata": {},
     "output_type": "execute_result"
    }
   ],
   "source": [
    "function threaded_sqrt_sum_atomic(A)\n",
    "    s = Threads.Atomic{eltype(A)}(zero(eltype(A)))\n",
    "    Threads.@threads for i in eachindex(A)\n",
    "        @inbounds Threads.atomic_add!(s, sqrt(A[i]))\n",
    "    end\n",
    "    return s[]\n",
    "end"
   ]
  },
  {
   "cell_type": "markdown",
   "id": "f0284354-3e7e-42ca-9844-d28ac251511e",
   "metadata": {
    "slideshow": {
     "slide_type": "fragment"
    },
    "tags": []
   },
   "source": [
    "But this effectively serializes the code (only one atomic will run at a time). Instead we can change the algorithm a bit:"
   ]
  },
  {
   "cell_type": "markdown",
   "id": "0703b381-4da9-4e1b-9307-96f3b23a0c8f",
   "metadata": {
    "slideshow": {
     "slide_type": "subslide"
    },
    "tags": []
   },
   "source": [
    "### Independent Work"
   ]
  },
  {
   "cell_type": "markdown",
   "id": "4806e556-5b7d-472d-b530-b9e443902847",
   "metadata": {
    "slideshow": {
     "slide_type": "fragment"
    },
    "tags": []
   },
   "source": [
    "Let's break up the sum into independent work"
   ]
  },
  {
   "cell_type": "code",
   "execution_count": 28,
   "id": "5155dfcd-07ec-4216-a695-20423e014533",
   "metadata": {
    "slideshow": {
     "slide_type": "fragment"
    },
    "tags": []
   },
   "outputs": [
    {
     "data": {
      "text/plain": [
       "threaded_sqrt_sum_independent (generic function with 1 method)"
      ]
     },
     "execution_count": 28,
     "metadata": {},
     "output_type": "execute_result"
    }
   ],
   "source": [
    "function threaded_sqrt_sum_independent(A)\n",
    "    # Independent work part\n",
    "    partial = zeros(eltype(A), Threads.nthreads())\n",
    "    Threads.@threads for i in eachindex(A)\n",
    "        @inbounds partial[Threads.threadid()] += sqrt(A[i])\n",
    "    end\n",
    "    # Single-threaded part\n",
    "    s = zero(eltype(A))\n",
    "    for i in eachindex(partial)\n",
    "        s += partial[i]\n",
    "    end\n",
    "    return s\n",
    "end"
   ]
  },
  {
   "cell_type": "markdown",
   "id": "2515e050-ef58-4520-a6a0-a1fc07269a54",
   "metadata": {
    "slideshow": {
     "slide_type": "subslide"
    },
    "tags": []
   },
   "source": [
    "And let's see how they compare:"
   ]
  },
  {
   "cell_type": "code",
   "execution_count": 18,
   "id": "b5ce8e11-6fc9-4c1f-b5e3-00291ea0e545",
   "metadata": {
    "slideshow": {
     "slide_type": "fragment"
    },
    "tags": []
   },
   "outputs": [
    {
     "name": "stdout",
     "output_type": "stream",
     "text": [
      "  1.465 ms (1 allocation: 16 bytes)\n"
     ]
    },
    {
     "data": {
      "text/plain": [
       "666276.2521367806"
      ]
     },
     "execution_count": 18,
     "metadata": {},
     "output_type": "execute_result"
    }
   ],
   "source": [
    "@btime sqrt_sum(A)"
   ]
  },
  {
   "cell_type": "code",
   "execution_count": 24,
   "id": "04839910-d3bc-4795-b7ba-42d1c933fbae",
   "metadata": {
    "slideshow": {
     "slide_type": "fragment"
    },
    "tags": []
   },
   "outputs": [
    {
     "name": "stdout",
     "output_type": "stream",
     "text": [
      "  42.910 ms (27 allocations: 2.05 KiB)\n"
     ]
    },
    {
     "data": {
      "text/plain": [
       "666276.2521367898"
      ]
     },
     "execution_count": 24,
     "metadata": {},
     "output_type": "execute_result"
    }
   ],
   "source": [
    "@btime threaded_sqrt_sum_atomic(A)"
   ]
  },
  {
   "cell_type": "code",
   "execution_count": 29,
   "id": "d12c183e-121e-4dfd-8f2b-9fd8f671ac04",
   "metadata": {
    "slideshow": {
     "slide_type": "fragment"
    },
    "tags": []
   },
   "outputs": [
    {
     "name": "stdout",
     "output_type": "stream",
     "text": [
      "  677.865 μs (27 allocations: 2.12 KiB)\n"
     ]
    },
    {
     "data": {
      "text/plain": [
       "666276.2521367706"
      ]
     },
     "execution_count": 29,
     "metadata": {},
     "output_type": "execute_result"
    }
   ],
   "source": [
    "@btime threaded_sqrt_sum_independent(A)"
   ]
  }
 ],
 "metadata": {
  "kernelspec": {
   "display_name": "Julia 1.8.1",
   "language": "julia",
   "name": "julia-1.8"
  },
  "language_info": {
   "file_extension": ".jl",
   "mimetype": "application/julia",
   "name": "julia",
   "version": "1.8.1"
  }
 },
 "nbformat": 4,
 "nbformat_minor": 5
}
