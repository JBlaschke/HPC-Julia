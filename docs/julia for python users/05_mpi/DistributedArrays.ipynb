{
 "cells": [
  {
   "cell_type": "code",
   "execution_count": 1,
   "id": "economic-possibility",
   "metadata": {
    "slideshow": {
     "slide_type": "skip"
    },
    "tags": []
   },
   "outputs": [
    {
     "data": {
      "text/plain": [
       "4-element Vector{Int64}:\n",
       " 2\n",
       " 3\n",
       " 4\n",
       " 5"
      ]
     },
     "execution_count": 1,
     "metadata": {},
     "output_type": "execute_result"
    }
   ],
   "source": [
    "# to import MPIManager\n",
    "using MPIClusterManagers\n",
    "\n",
    "# need to also import Distributed to use addprocs()\n",
    "using Distributed\n",
    "\n",
    "# specify, number of mpi workers, launch cmd, etc.\n",
    "manager=MPIManager(np=4)\n",
    "\n",
    "# start mpi workers and add them as julia workers too.\n",
    "addprocs(manager)"
   ]
  },
  {
   "cell_type": "code",
   "execution_count": 2,
   "id": "adolescent-command",
   "metadata": {
    "slideshow": {
     "slide_type": "skip"
    },
    "tags": []
   },
   "outputs": [
    {
     "name": "stdout",
     "output_type": "stream",
     "text": [
      "      From worker 5:\tHello world, I am 3 of 4\n",
      "      From worker 4:\tHello world, I am 2 of 4\n",
      "      From worker 3:\tHello world, I am 1 of 4\n",
      "      From worker 2:\tHello world, I am 0 of 4\n"
     ]
    }
   ],
   "source": [
    "@mpi_do manager begin\n",
    "    using MPI: MPI, Comm, Win, free\n",
    "    comm = MPI.COMM_WORLD\n",
    "    rank = MPI.Comm_rank(comm)\n",
    "    size = MPI.Comm_size(comm)\n",
    "    println(\"Hello world, I am $(rank) of $(size)\")\n",
    "end"
   ]
  },
  {
   "cell_type": "code",
   "execution_count": 6,
   "id": "sitting-influence",
   "metadata": {
    "slideshow": {
     "slide_type": "skip"
    },
    "tags": []
   },
   "outputs": [],
   "source": [
    "using DistributedArrays\n",
    "@mpi_do manager begin\n",
    "    using DistributedArrays\n",
    "end"
   ]
  },
  {
   "cell_type": "code",
   "execution_count": 33,
   "id": "resident-south",
   "metadata": {
    "slideshow": {
     "slide_type": "skip"
    },
    "tags": []
   },
   "outputs": [
    {
     "data": {
      "text/plain": [
       "1"
      ]
     },
     "execution_count": 33,
     "metadata": {},
     "output_type": "execute_result"
    }
   ],
   "source": [
    "a = 1"
   ]
  },
  {
   "cell_type": "code",
   "execution_count": 34,
   "id": "careful-rocket",
   "metadata": {
    "slideshow": {
     "slide_type": "skip"
    },
    "tags": []
   },
   "outputs": [
    {
     "ename": "LoadError",
     "evalue": "TaskFailedException\n\n\u001b[91m    nested task error: \u001b[39mOn worker 5:\n    UndefVarError: a not defined\n    Stacktrace:\n     [1] top-level scope\n    \u001b[90m   @ \u001b[39m\u001b[90;4mIn[34]:2\u001b[0m\n     [2] \u001b[0m\u001b[1meval\u001b[22m\n    \u001b[90m   @ \u001b[39m\u001b[90m./\u001b[39m\u001b[90;4mboot.jl:360\u001b[0m\u001b[90m [inlined]\u001b[39m\n     [3] \u001b[0m\u001b[1m#77\u001b[22m\n    \u001b[90m   @ \u001b[39m\u001b[90m~/.julia/packages/MPIClusterManagers/0ZYYQ/src/\u001b[39m\u001b[90;4mmpimanager.jl:510\u001b[0m\n     [4] \u001b[0m\u001b[1m#103\u001b[22m\n    \u001b[90m   @ \u001b[39m\u001b[90m/Users/julia/buildbot/worker/package_macos64/build/usr/share/julia/stdlib/v1.6/Distributed/src/\u001b[39m\u001b[90;4mprocess_messages.jl:274\u001b[0m\n     [5] \u001b[0m\u001b[1mrun_work_thunk\u001b[22m\n    \u001b[90m   @ \u001b[39m\u001b[90m/Users/julia/buildbot/worker/package_macos64/build/usr/share/julia/stdlib/v1.6/Distributed/src/\u001b[39m\u001b[90;4mprocess_messages.jl:63\u001b[0m\n     [6] \u001b[0m\u001b[1mrun_work_thunk\u001b[22m\n    \u001b[90m   @ \u001b[39m\u001b[90m/Users/julia/buildbot/worker/package_macos64/build/usr/share/julia/stdlib/v1.6/Distributed/src/\u001b[39m\u001b[90;4mprocess_messages.jl:72\u001b[0m\n     [7] \u001b[0m\u001b[1m#96\u001b[22m\n    \u001b[90m   @ \u001b[39m\u001b[90m./\u001b[39m\u001b[90;4mtask.jl:406\u001b[0m\n    Stacktrace:\n     [1] \u001b[0m\u001b[1mremotecall_fetch\u001b[22m\u001b[0m\u001b[1m(\u001b[22m::\u001b[0mFunction, ::\u001b[0mDistributed.Worker, ::\u001b[0mFuture, ::\u001b[0mVararg\u001b[90m{Any, N} where N\u001b[39m; \u001b[90mkwargs\u001b[39m::\u001b[0mBase.Iterators.Pairs\u001b[90m{Union{}, Union{}, Tuple{}, NamedTuple{(), Tuple{}}}\u001b[39m\u001b[0m\u001b[1m)\u001b[22m\n    \u001b[90m   @ \u001b[39m\u001b[35mDistributed\u001b[39m \u001b[90m/Users/julia/buildbot/worker/package_macos64/build/usr/share/julia/stdlib/v1.6/Distributed/src/\u001b[39m\u001b[90;4mremotecall.jl:394\u001b[0m\n     [2] \u001b[0m\u001b[1mremotecall_fetch\u001b[22m\u001b[0m\u001b[1m(\u001b[22m::\u001b[0mFunction, ::\u001b[0mDistributed.Worker, ::\u001b[0mFuture, ::\u001b[0mVararg\u001b[90m{Any, N} where N\u001b[39m\u001b[0m\u001b[1m)\u001b[22m\n    \u001b[90m   @ \u001b[39m\u001b[35mDistributed\u001b[39m \u001b[90m/Users/julia/buildbot/worker/package_macos64/build/usr/share/julia/stdlib/v1.6/Distributed/src/\u001b[39m\u001b[90;4mremotecall.jl:386\u001b[0m\n     [3] \u001b[0m\u001b[1mremotecall_fetch\u001b[22m\u001b[0m\u001b[1m(\u001b[22m\u001b[90mf\u001b[39m::\u001b[0mFunction, \u001b[90mid\u001b[39m::\u001b[0mInt64, \u001b[90margs\u001b[39m::\u001b[0mFuture; \u001b[90mkwargs\u001b[39m::\u001b[0mBase.Iterators.Pairs\u001b[90m{Union{}, Union{}, Tuple{}, NamedTuple{(), Tuple{}}}\u001b[39m\u001b[0m\u001b[1m)\u001b[22m\n    \u001b[90m   @ \u001b[39m\u001b[35mDistributed\u001b[39m \u001b[90m/Users/julia/buildbot/worker/package_macos64/build/usr/share/julia/stdlib/v1.6/Distributed/src/\u001b[39m\u001b[90;4mremotecall.jl:421\u001b[0m\n     [4] \u001b[0m\u001b[1mremotecall_fetch\u001b[22m\n    \u001b[90m   @ \u001b[39m\u001b[90m/Users/julia/buildbot/worker/package_macos64/build/usr/share/julia/stdlib/v1.6/Distributed/src/\u001b[39m\u001b[90;4mremotecall.jl:421\u001b[0m\u001b[90m [inlined]\u001b[39m\n     [5] \u001b[0m\u001b[1mmacro expansion\u001b[22m\n    \u001b[90m   @ \u001b[39m\u001b[90m~/.julia/packages/MPIClusterManagers/0ZYYQ/src/\u001b[39m\u001b[90;4mmpimanager.jl:493\u001b[0m\u001b[90m [inlined]\u001b[39m\n     [6] \u001b[0m\u001b[1m(::MPIClusterManagers.var\"#25#28\"{Future})\u001b[22m\u001b[0m\u001b[1m(\u001b[22m\u001b[0m\u001b[1m)\u001b[22m\n    \u001b[90m   @ \u001b[39m\u001b[36mMPIClusterManagers\u001b[39m \u001b[90m./\u001b[39m\u001b[90;4mtask.jl:406\u001b[0m\n\n...and 3 more exceptions.\n",
     "output_type": "error",
     "traceback": [
      "TaskFailedException\n\n\u001b[91m    nested task error: \u001b[39mOn worker 5:\n    UndefVarError: a not defined\n    Stacktrace:\n     [1] top-level scope\n    \u001b[90m   @ \u001b[39m\u001b[90;4mIn[34]:2\u001b[0m\n     [2] \u001b[0m\u001b[1meval\u001b[22m\n    \u001b[90m   @ \u001b[39m\u001b[90m./\u001b[39m\u001b[90;4mboot.jl:360\u001b[0m\u001b[90m [inlined]\u001b[39m\n     [3] \u001b[0m\u001b[1m#77\u001b[22m\n    \u001b[90m   @ \u001b[39m\u001b[90m~/.julia/packages/MPIClusterManagers/0ZYYQ/src/\u001b[39m\u001b[90;4mmpimanager.jl:510\u001b[0m\n     [4] \u001b[0m\u001b[1m#103\u001b[22m\n    \u001b[90m   @ \u001b[39m\u001b[90m/Users/julia/buildbot/worker/package_macos64/build/usr/share/julia/stdlib/v1.6/Distributed/src/\u001b[39m\u001b[90;4mprocess_messages.jl:274\u001b[0m\n     [5] \u001b[0m\u001b[1mrun_work_thunk\u001b[22m\n    \u001b[90m   @ \u001b[39m\u001b[90m/Users/julia/buildbot/worker/package_macos64/build/usr/share/julia/stdlib/v1.6/Distributed/src/\u001b[39m\u001b[90;4mprocess_messages.jl:63\u001b[0m\n     [6] \u001b[0m\u001b[1mrun_work_thunk\u001b[22m\n    \u001b[90m   @ \u001b[39m\u001b[90m/Users/julia/buildbot/worker/package_macos64/build/usr/share/julia/stdlib/v1.6/Distributed/src/\u001b[39m\u001b[90;4mprocess_messages.jl:72\u001b[0m\n     [7] \u001b[0m\u001b[1m#96\u001b[22m\n    \u001b[90m   @ \u001b[39m\u001b[90m./\u001b[39m\u001b[90;4mtask.jl:406\u001b[0m\n    Stacktrace:\n     [1] \u001b[0m\u001b[1mremotecall_fetch\u001b[22m\u001b[0m\u001b[1m(\u001b[22m::\u001b[0mFunction, ::\u001b[0mDistributed.Worker, ::\u001b[0mFuture, ::\u001b[0mVararg\u001b[90m{Any, N} where N\u001b[39m; \u001b[90mkwargs\u001b[39m::\u001b[0mBase.Iterators.Pairs\u001b[90m{Union{}, Union{}, Tuple{}, NamedTuple{(), Tuple{}}}\u001b[39m\u001b[0m\u001b[1m)\u001b[22m\n    \u001b[90m   @ \u001b[39m\u001b[35mDistributed\u001b[39m \u001b[90m/Users/julia/buildbot/worker/package_macos64/build/usr/share/julia/stdlib/v1.6/Distributed/src/\u001b[39m\u001b[90;4mremotecall.jl:394\u001b[0m\n     [2] \u001b[0m\u001b[1mremotecall_fetch\u001b[22m\u001b[0m\u001b[1m(\u001b[22m::\u001b[0mFunction, ::\u001b[0mDistributed.Worker, ::\u001b[0mFuture, ::\u001b[0mVararg\u001b[90m{Any, N} where N\u001b[39m\u001b[0m\u001b[1m)\u001b[22m\n    \u001b[90m   @ \u001b[39m\u001b[35mDistributed\u001b[39m \u001b[90m/Users/julia/buildbot/worker/package_macos64/build/usr/share/julia/stdlib/v1.6/Distributed/src/\u001b[39m\u001b[90;4mremotecall.jl:386\u001b[0m\n     [3] \u001b[0m\u001b[1mremotecall_fetch\u001b[22m\u001b[0m\u001b[1m(\u001b[22m\u001b[90mf\u001b[39m::\u001b[0mFunction, \u001b[90mid\u001b[39m::\u001b[0mInt64, \u001b[90margs\u001b[39m::\u001b[0mFuture; \u001b[90mkwargs\u001b[39m::\u001b[0mBase.Iterators.Pairs\u001b[90m{Union{}, Union{}, Tuple{}, NamedTuple{(), Tuple{}}}\u001b[39m\u001b[0m\u001b[1m)\u001b[22m\n    \u001b[90m   @ \u001b[39m\u001b[35mDistributed\u001b[39m \u001b[90m/Users/julia/buildbot/worker/package_macos64/build/usr/share/julia/stdlib/v1.6/Distributed/src/\u001b[39m\u001b[90;4mremotecall.jl:421\u001b[0m\n     [4] \u001b[0m\u001b[1mremotecall_fetch\u001b[22m\n    \u001b[90m   @ \u001b[39m\u001b[90m/Users/julia/buildbot/worker/package_macos64/build/usr/share/julia/stdlib/v1.6/Distributed/src/\u001b[39m\u001b[90;4mremotecall.jl:421\u001b[0m\u001b[90m [inlined]\u001b[39m\n     [5] \u001b[0m\u001b[1mmacro expansion\u001b[22m\n    \u001b[90m   @ \u001b[39m\u001b[90m~/.julia/packages/MPIClusterManagers/0ZYYQ/src/\u001b[39m\u001b[90;4mmpimanager.jl:493\u001b[0m\u001b[90m [inlined]\u001b[39m\n     [6] \u001b[0m\u001b[1m(::MPIClusterManagers.var\"#25#28\"{Future})\u001b[22m\u001b[0m\u001b[1m(\u001b[22m\u001b[0m\u001b[1m)\u001b[22m\n    \u001b[90m   @ \u001b[39m\u001b[36mMPIClusterManagers\u001b[39m \u001b[90m./\u001b[39m\u001b[90;4mtask.jl:406\u001b[0m\n\n...and 3 more exceptions.\n",
      "",
      "Stacktrace:",
      " [1] sync_end(c::Channel{Any})",
      "   @ Base ./task.jl:364",
      " [2] macro expansion",
      "   @ ./task.jl:383 [inlined]",
      " [3] mpi_do(mgr::MPIManager, expr::Function)",
      "   @ MPIClusterManagers ~/.julia/packages/MPIClusterManagers/0ZYYQ/src/mpimanager.jl:490",
      " [4] top-level scope",
      "   @ ~/.julia/packages/MPIClusterManagers/0ZYYQ/src/mpimanager.jl:511",
      " [5] eval",
      "   @ ./boot.jl:360 [inlined]",
      " [6] include_string(mapexpr::typeof(REPL.softscope), mod::Module, code::String, filename::String)",
      "   @ Base ./loading.jl:1094"
     ]
    }
   ],
   "source": [
    "@mpi_do manager begin\n",
    "    println(a)\n",
    "end"
   ]
  },
  {
   "cell_type": "markdown",
   "id": "coral-claim",
   "metadata": {
    "slideshow": {
     "slide_type": "slide"
    },
    "tags": []
   },
   "source": [
    "# MPI + Distributed Arrays\n",
    "\n",
    "([Back to Overview](../index.html#/0/7))"
   ]
  },
  {
   "cell_type": "code",
   "execution_count": 53,
   "id": "varied-consensus",
   "metadata": {
    "slideshow": {
     "slide_type": "subslide"
    },
    "tags": []
   },
   "outputs": [],
   "source": [
    "@mpi_do manager begin\n",
    "function work(N)\n",
    "    x0 = rank\n",
    "    for n = 1:Int(N)\n",
    "        x0 = sqrt(x0 + 1)\n",
    "    end\n",
    "    out = zeros(2, 2)\n",
    "    out[1, 1] = x0 + rank\n",
    "    return out\n",
    "end\n",
    "end"
   ]
  },
  {
   "cell_type": "code",
   "execution_count": 57,
   "id": "dangerous-artist",
   "metadata": {
    "slideshow": {
     "slide_type": "subslide"
    },
    "tags": []
   },
   "outputs": [
    {
     "data": {
      "text/plain": [
       "4×4 DArray{Float64, 2, Matrix{Float64}}:\n",
       " 1.61803  0.0  3.61803  0.0\n",
       " 0.0      0.0  0.0      0.0\n",
       " 2.61803  0.0  4.61803  0.0\n",
       " 0.0      0.0  0.0      0.0"
      ]
     },
     "execution_count": 57,
     "metadata": {},
     "output_type": "execute_result"
    }
   ],
   "source": [
    "r1 = DistributedArrays.remotecall(() -> work(1e10), workers()[1]) \n",
    "r2 = DistributedArrays.remotecall(() -> work(1e10), workers()[2]) \n",
    "r3 = DistributedArrays.remotecall(() -> work(1e10), workers()[3]) \n",
    "r4 = DistributedArrays.remotecall(() -> work(1e10), workers()[4]) \n",
    "D  = DArray(reshape([r1 r2 r3 r4], (2,2))) "
   ]
  },
  {
   "cell_type": "code",
   "execution_count": 14,
   "id": "answering-forest",
   "metadata": {
    "slideshow": {
     "slide_type": "subslide"
    },
    "tags": []
   },
   "outputs": [
    {
     "data": {
      "text/plain": [
       "4-element Vector{Tuple{UnitRange{Int64}, UnitRange{Int64}}}:\n",
       " (1:2, 1:2)\n",
       " (3:4, 1:2)\n",
       " (1:2, 3:4)\n",
       " (3:4, 3:4)"
      ]
     },
     "execution_count": 14,
     "metadata": {},
     "output_type": "execute_result"
    }
   ],
   "source": [
    "[@fetchfrom p localindices(D) for p in workers()]"
   ]
  },
  {
   "cell_type": "code",
   "execution_count": 27,
   "id": "following-banks",
   "metadata": {
    "slideshow": {
     "slide_type": "skip"
    },
    "tags": []
   },
   "outputs": [
    {
     "name": "stdout",
     "output_type": "stream",
     "text": [
      "      From worker 4:\t[0.0 0.0 0.0 0.0; 0.0 0.0 0.0 0.0; 0.0 0.0 0.0 0.0; 0.0 0.0 0.0 0.0]\n"
     ]
    }
   ],
   "source": [
    "@mpi_do manager begin\n",
    "    if rank == 2\n",
    "        println(D)\n",
    "    end\n",
    "end"
   ]
  },
  {
   "cell_type": "code",
   "execution_count": 19,
   "id": "bulgarian-feedback",
   "metadata": {
    "slideshow": {
     "slide_type": "skip"
    },
    "tags": []
   },
   "outputs": [
    {
     "data": {
      "text/plain": [
       "(1:0, 1:0)"
      ]
     },
     "execution_count": 19,
     "metadata": {},
     "output_type": "execute_result"
    }
   ],
   "source": [
    "localindices(D)"
   ]
  }
 ],
 "metadata": {
  "kernelspec": {
   "display_name": "Julia 1.8.1",
   "language": "julia",
   "name": "julia-1.8"
  },
  "language_info": {
   "file_extension": ".jl",
   "mimetype": "application/julia",
   "name": "julia",
   "version": "1.8.1"
  }
 },
 "nbformat": 4,
 "nbformat_minor": 5
}
