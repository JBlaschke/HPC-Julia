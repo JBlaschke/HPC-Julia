{
 "cells": [
  {
   "cell_type": "code",
   "execution_count": 1,
   "id": "weighted-fitting",
   "metadata": {
    "slideshow": {
     "slide_type": "skip"
    },
    "tags": []
   },
   "outputs": [
    {
     "name": "stdout",
     "output_type": "stream",
     "text": [
      "Populating the interactive namespace from numpy and matplotlib\n"
     ]
    }
   ],
   "source": [
    "%pylab inline"
   ]
  },
  {
   "cell_type": "markdown",
   "id": "headed-district",
   "metadata": {
    "slideshow": {
     "slide_type": "slide"
    },
    "tags": []
   },
   "source": [
    "# Numba Examble\n",
    "\n",
    "JIT-compiled (thread) parallel python code: https://gist.github.com/safijari/fa4eba922cea19b3bc6a693fe2a97af7"
   ]
  },
  {
   "cell_type": "markdown",
   "id": "physical-suffering",
   "metadata": {
    "slideshow": {
     "slide_type": "subslide"
    },
    "tags": []
   },
   "source": [
    "We want to solve a silly version of the (under) damped spring-mass problem\n",
    "\n",
    "![spring-mass](https://upload.wikimedia.org/wikipedia/commons/f/fa/Spring-mass_under-damped.gif)"
   ]
  },
  {
   "cell_type": "code",
   "execution_count": 2,
   "id": "twenty-stack",
   "metadata": {
    "slideshow": {
     "slide_type": "subslide"
    },
    "tags": []
   },
   "outputs": [],
   "source": [
    "def friction_fn(v, vt):\n",
    "    if v > vt:\n",
    "        return - v * 3\n",
    "    else:\n",
    "        return - vt * 3 * np.sign(v)\n",
    "\n",
    "\n",
    "def simulate_spring_mass_funky_damper(x0, T=10, dt=0.0001, vt=1.0):\n",
    "    times = np.arange(0, T, dt)\n",
    "    positions = np.zeros_like(times)\n",
    "\n",
    "    v = 0\n",
    "    a = 0\n",
    "    x = x0\n",
    "    positions[0] = x0/x0\n",
    "\n",
    "    for ii in range(len(times)):\n",
    "        if ii == 0:\n",
    "            continue\n",
    "        t = times[ii]\n",
    "        a = friction_fn(v, vt) - 100*x\n",
    "        v = v + a*dt\n",
    "        x = x + v*dt\n",
    "        positions[ii] = x/x0\n",
    "\n",
    "    return times, positions"
   ]
  },
  {
   "cell_type": "code",
   "execution_count": 3,
   "id": "tutorial-rwanda",
   "metadata": {
    "slideshow": {
     "slide_type": "fragment"
    },
    "tags": []
   },
   "outputs": [],
   "source": [
    "plot(*simulate_spring_mass_funky_damper(0.1))\n",
    "plot(*simulate_spring_mass_funky_damper(1))\n",
    "plot(*simulate_spring_mass_funky_damper(10))\n",
    "legend(['0.1', '1', '10'])\n",
    "\n",
    "savefig(\"ts_python.png\")\n",
    "close()"
   ]
  },
  {
   "cell_type": "markdown",
   "id": "bearing-terry",
   "metadata": {
    "slideshow": {
     "slide_type": "subslide"
    },
    "tags": []
   },
   "source": [
    "This code generates a time series of the (normalized) position given its different initial position:\n",
    "\n",
    "![ts](ts_python.png)"
   ]
  },
  {
   "cell_type": "code",
   "execution_count": 4,
   "id": "cloudy-marker",
   "metadata": {
    "slideshow": {
     "slide_type": "fragment"
    },
    "tags": []
   },
   "outputs": [
    {
     "name": "stdout",
     "output_type": "stream",
     "text": [
      "CPU times: user 280 ms, sys: 4.82 ms, total: 285 ms\n",
      "Wall time: 289 ms\n"
     ]
    }
   ],
   "source": [
    "%time _ = simulate_spring_mass_funky_damper(1)"
   ]
  },
  {
   "cell_type": "markdown",
   "id": "printable-candy",
   "metadata": {
    "slideshow": {
     "slide_type": "slide"
    },
    "tags": []
   },
   "source": [
    "## Compile with Numba\n",
    "\n",
    "Remember to use the `njit` decorator, to disable (slow) python support"
   ]
  },
  {
   "cell_type": "code",
   "execution_count": 5,
   "id": "capable-example",
   "metadata": {
    "slideshow": {
     "slide_type": "fragment"
    },
    "tags": []
   },
   "outputs": [],
   "source": [
    "from numba import njit"
   ]
  },
  {
   "cell_type": "code",
   "execution_count": 6,
   "id": "shared-baghdad",
   "metadata": {
    "slideshow": {
     "slide_type": "fragment"
    },
    "tags": []
   },
   "outputs": [],
   "source": [
    "@njit\n",
    "def numba_friction_fn(v, vt):\n",
    "    if v > vt:\n",
    "        return - v * 3\n",
    "    else:\n",
    "        return - vt * 3 * np.sign(v)\n",
    "\n",
    "@njit\n",
    "def numba_simulate_spring_mass_funky_damper(x0, T=10, dt=0.0001, vt=1.0):\n",
    "    times = np.arange(0, T, dt)\n",
    "    positions = np.zeros_like(times)\n",
    "    \n",
    "    v = 0\n",
    "    a = 0\n",
    "    x = x0\n",
    "    positions[0] = x0/x0\n",
    "    \n",
    "    for ii in range(len(times)):\n",
    "        if ii == 0:\n",
    "            continue\n",
    "        t = times[ii]\n",
    "        a = numba_friction_fn(v, vt) - 100*x\n",
    "        v = v + a*dt\n",
    "        x = x + v*dt\n",
    "        positions[ii] = x/x0\n",
    "    return times, positions"
   ]
  },
  {
   "cell_type": "code",
   "execution_count": 7,
   "id": "controlled-crossing",
   "metadata": {
    "slideshow": {
     "slide_type": "skip"
    },
    "tags": []
   },
   "outputs": [],
   "source": [
    "_ = numba_simulate_spring_mass_funky_damper(0.1)"
   ]
  },
  {
   "cell_type": "code",
   "execution_count": 8,
   "id": "honey-shock",
   "metadata": {
    "slideshow": {
     "slide_type": "skip"
    },
    "tags": []
   },
   "outputs": [],
   "source": [
    "_, ax = subplots(nrows=1, ncols=2, sharey=True, figsize=(12,5))\n",
    "\n",
    "ax[0].plot(*numba_simulate_spring_mass_funky_damper(0.1))\n",
    "ax[0].plot(*numba_simulate_spring_mass_funky_damper(1))\n",
    "ax[0].plot(*numba_simulate_spring_mass_funky_damper(10))\n",
    "ax[0].legend(['0.1', '1', '10'])\n",
    "\n",
    "ax[1].plot(*simulate_spring_mass_funky_damper(0.1))\n",
    "ax[1].plot(*simulate_spring_mass_funky_damper(1))\n",
    "ax[1].plot(*simulate_spring_mass_funky_damper(10))\n",
    "ax[1].legend(['0.1', '1', '10'])\n",
    "\n",
    "savefig(\"ts_numba.png\")\n",
    "close()"
   ]
  },
  {
   "cell_type": "markdown",
   "id": "burning-virgin",
   "metadata": {
    "slideshow": {
     "slide_type": "subslide"
    },
    "tags": []
   },
   "source": [
    "Numba-generated a time series (left) vs original python version (right):\n",
    "\n",
    "![ts](ts_numba.png)"
   ]
  },
  {
   "cell_type": "code",
   "execution_count": 9,
   "id": "lesbian-compression",
   "metadata": {
    "slideshow": {
     "slide_type": "fragment"
    },
    "tags": []
   },
   "outputs": [
    {
     "name": "stdout",
     "output_type": "stream",
     "text": [
      "CPU times: user 308 ms, sys: 5.5 ms, total: 313 ms\n",
      "Wall time: 319 ms\n"
     ]
    }
   ],
   "source": [
    "%time _ = simulate_spring_mass_funky_damper(0.1)"
   ]
  },
  {
   "cell_type": "code",
   "execution_count": 10,
   "id": "relative-auction",
   "metadata": {
    "slideshow": {
     "slide_type": "fragment"
    },
    "tags": []
   },
   "outputs": [
    {
     "name": "stdout",
     "output_type": "stream",
     "text": [
      "CPU times: user 1.49 ms, sys: 44 µs, total: 1.53 ms\n",
      "Wall time: 1.66 ms\n"
     ]
    }
   ],
   "source": [
    "%time _ = numba_simulate_spring_mass_funky_damper(1)"
   ]
  },
  {
   "cell_type": "code",
   "execution_count": null,
   "id": "dramatic-mounting",
   "metadata": {},
   "outputs": [],
   "source": []
  }
 ],
 "metadata": {
  "kernelspec": {
   "display_name": "Python 3",
   "language": "python",
   "name": "python3"
  },
  "language_info": {
   "codemirror_mode": {
    "name": "ipython",
    "version": 3
   },
   "file_extension": ".py",
   "mimetype": "text/x-python",
   "name": "python",
   "nbconvert_exporter": "python",
   "pygments_lexer": "ipython3",
   "version": "3.8.8"
  }
 },
 "nbformat": 4,
 "nbformat_minor": 5
}
