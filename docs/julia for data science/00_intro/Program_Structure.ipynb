{
 "cells": [
  {
   "cell_type": "markdown",
   "id": "cced748d-7fb4-485a-958e-5a14ef94e64f",
   "metadata": {
    "slideshow": {
     "slide_type": "slide"
    },
    "tags": []
   },
   "source": [
    "# The Structure of a Julia Program\n",
    "([Back to Overview](../index.html#/0/2))"
   ]
  },
  {
   "cell_type": "markdown",
   "id": "6cad4ff4-975f-4dc9-91c2-154154f35f78",
   "metadata": {
    "slideshow": {
     "slide_type": "subslide"
    },
    "tags": []
   },
   "source": [
    "A Julia program is broken up into:\n",
    "1. Modules\n",
    "2. Functions\n",
    "3. Statements\n",
    "\n",
    "which organize code that can act on different data types.\n",
    "\n",
    "Let's look at each of these in turn."
   ]
  },
  {
   "cell_type": "markdown",
   "id": "1289fef4-432f-44fc-b2e0-1c591e069156",
   "metadata": {
    "slideshow": {
     "slide_type": "slide"
    },
    "tags": []
   },
   "source": [
    "## Modules"
   ]
  },
  {
   "cell_type": "markdown",
   "id": "68289867-0eee-4086-b81d-ddb2fdf16554",
   "metadata": {
    "slideshow": {
     "slide_type": "fragment"
    },
    "tags": []
   },
   "source": [
    "Modules encapsulate namespaces, and are similar to Python modules: https://docs.julialang.org/en/v1/manual/modules/"
   ]
  },
  {
   "cell_type": "markdown",
   "id": "b02b1848-34af-4331-9934-e99df70d5d8c",
   "metadata": {
    "slideshow": {
     "slide_type": "fragment"
    },
    "tags": []
   },
   "source": [
    "Created using the `module` keyword. They are frequently used to encapsulate source files into their own name-space:\n",
    "```julia\n",
    "module MyModule\n",
    "\n",
    "include(\"my_function.jl\")\n",
    "\n",
    "export my_func\n",
    "\n",
    "end\n",
    "```\n",
    "With the external source file `my_function.jl`:\n",
    "```julia\n",
    "function my_helper(...)\n",
    "    ...\n",
    "end\n",
    "\n",
    "function my_func(...)\n",
    "    ...\n",
    "    my_helper(...)\n",
    "    ...\n",
    "end\n",
    "```\n",
    "This hides `my_helper` from all functions outside of `MyModule`."
   ]
  },
  {
   "cell_type": "markdown",
   "id": "ef951a2d-a834-4edb-b0c2-82332ce9bf07",
   "metadata": {
    "slideshow": {
     "slide_type": "fragment"
    },
    "tags": []
   },
   "source": [
    "Note that unlike Python, modules do not necessarily need to be in seperate files or folders. Later we will see how code in one file can add to a preexisting module."
   ]
  },
  {
   "cell_type": "markdown",
   "id": "8419b9e6-538f-4d19-a0cd-a546d440eb72",
   "metadata": {
    "slideshow": {
     "slide_type": "subslide"
    },
    "tags": []
   },
   "source": [
    "Here is an example: Let's define two modules with the `hello` function:"
   ]
  },
  {
   "cell_type": "code",
   "execution_count": 1,
   "id": "ef177baf-db8b-432c-b2fb-35b8e68ea67e",
   "metadata": {
    "slideshow": {
     "slide_type": "fragment"
    },
    "tags": []
   },
   "outputs": [],
   "source": [
    "module ModuleA\n",
    "function hello()\n",
    "    println(\"Hi from A\")\n",
    "end\n",
    "end\n",
    "\n",
    "module ModuleB\n",
    "function hello()\n",
    "    println(\"Hi from B\")\n",
    "end\n",
    "end;"
   ]
  },
  {
   "cell_type": "markdown",
   "id": "101bf915-380f-4a8c-90ca-f921766b9e79",
   "metadata": {
    "slideshow": {
     "slide_type": "fragment"
    },
    "tags": []
   },
   "source": [
    "These can be called by using the `<Module Name>.<Function Name>` syntax:"
   ]
  },
  {
   "cell_type": "code",
   "execution_count": 2,
   "id": "8d0941d7-838c-44c4-bce0-4c929c0ec1f2",
   "metadata": {
    "slideshow": {
     "slide_type": "fragment"
    },
    "tags": []
   },
   "outputs": [
    {
     "name": "stdout",
     "output_type": "stream",
     "text": [
      "Hi from A\n"
     ]
    }
   ],
   "source": [
    "ModuleA.hello()"
   ]
  },
  {
   "cell_type": "code",
   "execution_count": 3,
   "id": "fa392f30-8f42-4200-8bf6-29098a433c74",
   "metadata": {
    "slideshow": {
     "slide_type": "fragment"
    },
    "tags": []
   },
   "outputs": [
    {
     "name": "stdout",
     "output_type": "stream",
     "text": [
      "Hi from B\n"
     ]
    }
   ],
   "source": [
    "ModuleB.hello()"
   ]
  },
  {
   "cell_type": "markdown",
   "id": "eb72f1e8-c3de-4967-9cba-8fcee978e3eb",
   "metadata": {
    "slideshow": {
     "slide_type": "slide"
    },
    "tags": []
   },
   "source": [
    "## Functions"
   ]
  },
  {
   "cell_type": "markdown",
   "id": "0f251f28-ee5a-40c8-9b51-c12dd2ed5cd1",
   "metadata": {
    "slideshow": {
     "slide_type": "fragment"
    },
    "tags": []
   },
   "source": [
    "The `function` keyword is used to declare a (multi-line) function. **The last statement is automatically returned**. Intermediate returns can be triggered using the `return` keyword"
   ]
  },
  {
   "cell_type": "code",
   "execution_count": 1,
   "id": "1b002f92-6661-4db3-993a-fc6e67ebf246",
   "metadata": {
    "slideshow": {
     "slide_type": "fragment"
    },
    "tags": []
   },
   "outputs": [
    {
     "data": {
      "text/plain": [
       "fib_1 (generic function with 1 method)"
      ]
     },
     "execution_count": 1,
     "metadata": {},
     "output_type": "execute_result"
    }
   ],
   "source": [
    "function fib_1(n)\n",
    "    if n <= 2\n",
    "        return 1\n",
    "    end\n",
    "\n",
    "    fib_1(n - 1) + fib_1(n - 2)\n",
    "end"
   ]
  },
  {
   "cell_type": "code",
   "execution_count": 2,
   "id": "8b9964e4-149b-418d-a96c-ab03424574e3",
   "metadata": {
    "slideshow": {
     "slide_type": "fragment"
    },
    "tags": []
   },
   "outputs": [
    {
     "data": {
      "text/plain": [
       "2178309"
      ]
     },
     "execution_count": 2,
     "metadata": {},
     "output_type": "execute_result"
    }
   ],
   "source": [
    "fib_1(32)"
   ]
  },
  {
   "cell_type": "markdown",
   "id": "7c444140-5f3e-4b49-818a-2f874944a1e9",
   "metadata": {
    "slideshow": {
     "slide_type": "subslide"
    },
    "tags": []
   },
   "source": [
    "Functions can also be defined using a single line of code:"
   ]
  },
  {
   "cell_type": "code",
   "execution_count": 4,
   "id": "e0d7e743-530b-431b-a1ac-6aa4b96acd4a",
   "metadata": {
    "slideshow": {
     "slide_type": "fragment"
    },
    "tags": []
   },
   "outputs": [
    {
     "data": {
      "text/plain": [
       "f (generic function with 1 method)"
      ]
     },
     "execution_count": 4,
     "metadata": {},
     "output_type": "execute_result"
    }
   ],
   "source": [
    "f(x) = 2x"
   ]
  },
  {
   "cell_type": "code",
   "execution_count": 5,
   "id": "b810d1b6-df55-4c01-808e-31d08f16c127",
   "metadata": {
    "slideshow": {
     "slide_type": "fragment"
    },
    "tags": []
   },
   "outputs": [
    {
     "data": {
      "text/plain": [
       "6"
      ]
     },
     "execution_count": 5,
     "metadata": {},
     "output_type": "execute_result"
    }
   ],
   "source": [
    "f(3)"
   ]
  },
  {
   "cell_type": "markdown",
   "id": "cfa23bf3-00d3-498b-bcde-294e8494d744",
   "metadata": {},
   "source": []
  }
 ],
 "metadata": {
  "kernelspec": {
   "display_name": "Julia 1.7.2",
   "language": "julia",
   "name": "julia-1.7"
  },
  "language_info": {
   "file_extension": ".jl",
   "mimetype": "application/julia",
   "name": "julia",
   "version": "1.7.2"
  }
 },
 "nbformat": 4,
 "nbformat_minor": 5
}
