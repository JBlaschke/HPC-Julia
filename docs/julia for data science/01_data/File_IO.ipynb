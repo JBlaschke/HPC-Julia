{
 "cells": [
  {
   "cell_type": "markdown",
   "id": "a2c705e4-8d1c-456c-bcbf-b2655627c039",
   "metadata": {
    "slideshow": {
     "slide_type": "slide"
    },
    "tags": []
   },
   "source": [
    "# File I/O\n",
    "([Back to Overview](../index.html#/0/3))"
   ]
  },
  {
   "cell_type": "markdown",
   "id": "4dc261af-218f-4143-9712-5c2f3396149a",
   "metadata": {},
   "source": [
    "## Interacting with the Filesystem"
   ]
  },
  {
   "cell_type": "code",
   "execution_count": 3,
   "id": "bd7a7f65-aed3-4f16-bf35-967a6e564190",
   "metadata": {},
   "outputs": [
    {
     "data": {
      "text/plain": [
       "\"/Users/blaschke/Developer/hpc-julia/docs/julia for data science/01_data\""
      ]
     },
     "execution_count": 3,
     "metadata": {},
     "output_type": "execute_result"
    }
   ],
   "source": [
    "@__DIR__"
   ]
  },
  {
   "cell_type": "code",
   "execution_count": 4,
   "id": "614b378f-054b-476a-a63d-a62574d47db1",
   "metadata": {},
   "outputs": [
    {
     "data": {
      "text/plain": [
       "\"/Users/blaschke/Developer/hpc-julia/docs/julia for data science/01_data/../../../exercises/covid/data\""
      ]
     },
     "execution_count": 4,
     "metadata": {},
     "output_type": "execute_result"
    }
   ],
   "source": [
    "data_directory = joinpath(@__DIR__, \"..\", \"..\", \"..\", \"exercises\", \"covid\", \"data\")"
   ]
  },
  {
   "cell_type": "code",
   "execution_count": 5,
   "id": "9241b061-45ac-48d6-ad4d-2393c369ce95",
   "metadata": {},
   "outputs": [
    {
     "data": {
      "text/plain": [
       "\"/var/folders/gy/fk8y1bkd5b78l0n687jwhzkc0029yh/T/jl_ncdHkM\""
      ]
     },
     "execution_count": 5,
     "metadata": {},
     "output_type": "execute_result"
    }
   ],
   "source": [
    "temp_directory = mktempdir()"
   ]
  },
  {
   "cell_type": "markdown",
   "id": "8a03de6c-0eeb-4338-bdde-26693448f97f",
   "metadata": {
    "slideshow": {
     "slide_type": "slide"
    },
    "tags": []
   },
   "source": [
    "## Read and Writing to Files Directly"
   ]
  },
  {
   "cell_type": "code",
   "execution_count": 53,
   "id": "4bf4696f-d361-4fea-8fea-73592a4ae424",
   "metadata": {},
   "outputs": [
    {
     "data": {
      "text/plain": [
       "3-element Vector{Int64}:\n",
       " 4\n",
       " 2\n",
       " 3"
      ]
     },
     "execution_count": 53,
     "metadata": {},
     "output_type": "execute_result"
    }
   ],
   "source": [
    "a = [4, 2, 3]"
   ]
  },
  {
   "cell_type": "code",
   "execution_count": 54,
   "id": "14ae6bbc-f163-4eaf-904e-f52ad28f20ca",
   "metadata": {},
   "outputs": [
    {
     "data": {
      "text/plain": [
       "String[]"
      ]
     },
     "execution_count": 54,
     "metadata": {},
     "output_type": "execute_result"
    }
   ],
   "source": [
    "readdir(temp_directory)"
   ]
  },
  {
   "cell_type": "code",
   "execution_count": 55,
   "id": "eb9253ab-11df-4459-b3e6-9977cd6c06a9",
   "metadata": {},
   "outputs": [
    {
     "data": {
      "text/plain": [
       "24"
      ]
     },
     "execution_count": 55,
     "metadata": {},
     "output_type": "execute_result"
    }
   ],
   "source": [
    "write(joinpath(temp_directory, \"a.dat\"), a)"
   ]
  },
  {
   "cell_type": "code",
   "execution_count": 56,
   "id": "27379c55-55ca-4cf0-bcdb-0e4620de74dd",
   "metadata": {},
   "outputs": [
    {
     "data": {
      "text/plain": [
       "1-element Vector{String}:\n",
       " \"a.dat\""
      ]
     },
     "execution_count": 56,
     "metadata": {},
     "output_type": "execute_result"
    }
   ],
   "source": [
    "readdir(temp_directory)"
   ]
  },
  {
   "cell_type": "code",
   "execution_count": 59,
   "id": "67f0c0b6-46b7-4c37-ae3e-5b6a049942ea",
   "metadata": {},
   "outputs": [
    {
     "data": {
      "text/plain": [
       "4"
      ]
     },
     "execution_count": 59,
     "metadata": {},
     "output_type": "execute_result"
    }
   ],
   "source": [
    "read(joinpath(temp_directory, \"a.dat\"), Int64)"
   ]
  },
  {
   "cell_type": "code",
   "execution_count": 60,
   "id": "a3fcd85c-fc08-4239-8c07-0527d785e36f",
   "metadata": {},
   "outputs": [
    {
     "data": {
      "text/plain": [
       "\"\\x04\\0\\0\\0\\0\\0\\0\\0\\x02\\0\\0\\0\\0\\0\\0\\0\\x03\\0\\0\\0\\0\\0\\0\\0\""
      ]
     },
     "execution_count": 60,
     "metadata": {},
     "output_type": "execute_result"
    }
   ],
   "source": [
    "read(joinpath(temp_directory, \"a.dat\"), String)"
   ]
  },
  {
   "cell_type": "code",
   "execution_count": 61,
   "id": "35741642-b07a-4cee-99b5-55ebfd2ced9d",
   "metadata": {},
   "outputs": [
    {
     "name": "stdout",
     "output_type": "stream",
     "text": [
      "4,2,3,"
     ]
    }
   ],
   "source": [
    "open(joinpath(temp_directory, \"a.dat\"), \"r\") do io\n",
    "    while !eof(io)\n",
    "        print(read(io, Int64), \",\")\n",
    "    end\n",
    "end"
   ]
  },
  {
   "cell_type": "markdown",
   "id": "e7df00e0-d2e7-4535-b0ef-ff82d3cee6ae",
   "metadata": {},
   "source": [
    "## JSON"
   ]
  },
  {
   "cell_type": "markdown",
   "id": "f5a2e65e-dad5-4e6e-8ca0-d81fd4d29f19",
   "metadata": {},
   "source": [
    "https://github.com/JuliaIO/JSON.jl"
   ]
  },
  {
   "cell_type": "code",
   "execution_count": 62,
   "id": "2127c64f-b10d-4e6c-9016-350dcb5102b8",
   "metadata": {},
   "outputs": [],
   "source": [
    "using JSON"
   ]
  },
  {
   "cell_type": "code",
   "execution_count": 63,
   "id": "84abedd3-b6fc-43bd-9912-b5a43727f990",
   "metadata": {},
   "outputs": [
    {
     "data": {
      "text/plain": [
       "Dict{String, Any} with 2 entries:\n",
       "  \"b\" => \"hello\"\n",
       "  \"a\" => 1"
      ]
     },
     "execution_count": 63,
     "metadata": {},
     "output_type": "execute_result"
    }
   ],
   "source": [
    "d = Dict(\n",
    "    \"a\"=>1,\n",
    "    \"b\"=>\"hello\"\n",
    ")"
   ]
  },
  {
   "cell_type": "code",
   "execution_count": 64,
   "id": "3bafee56-6a5a-4900-a298-5e41a7ff0faf",
   "metadata": {},
   "outputs": [
    {
     "data": {
      "text/plain": [
       "\"{\\\"b\\\":\\\"hello\\\",\\\"a\\\":1}\""
      ]
     },
     "execution_count": 64,
     "metadata": {},
     "output_type": "execute_result"
    }
   ],
   "source": [
    "json(d)"
   ]
  },
  {
   "cell_type": "code",
   "execution_count": 65,
   "id": "bf412682-ea12-405b-bbbb-d310ba82332d",
   "metadata": {},
   "outputs": [
    {
     "data": {
      "text/plain": [
       "19"
      ]
     },
     "execution_count": 65,
     "metadata": {},
     "output_type": "execute_result"
    }
   ],
   "source": [
    "write(joinpath(temp_directory, \"d.json\"), json(d))"
   ]
  },
  {
   "cell_type": "code",
   "execution_count": 66,
   "id": "32bdf53d-86ba-46ca-a271-c5cf6aeb873c",
   "metadata": {},
   "outputs": [
    {
     "data": {
      "text/plain": [
       "\"{\\\"b\\\":\\\"hello\\\",\\\"a\\\":1}\""
      ]
     },
     "execution_count": 66,
     "metadata": {},
     "output_type": "execute_result"
    }
   ],
   "source": [
    "d_string = read(joinpath(temp_directory, \"d.json\"), String)"
   ]
  },
  {
   "cell_type": "code",
   "execution_count": 67,
   "id": "06e8b5c2-26c5-4fa9-acd2-66d67c6035f8",
   "metadata": {},
   "outputs": [
    {
     "data": {
      "text/plain": [
       "Dict{String, Any} with 2 entries:\n",
       "  \"b\" => \"hello\"\n",
       "  \"a\" => 1"
      ]
     },
     "execution_count": 67,
     "metadata": {},
     "output_type": "execute_result"
    }
   ],
   "source": [
    "JSON.parse(d_string)"
   ]
  },
  {
   "cell_type": "markdown",
   "id": "5c498477-db2d-4580-83dd-ad67dca0a166",
   "metadata": {},
   "source": [
    "## CSV"
   ]
  },
  {
   "cell_type": "markdown",
   "id": "98a2c2f5-7891-4cbb-a123-98fcb90ac7ce",
   "metadata": {},
   "source": [
    "https://csv.juliadata.org/stable/"
   ]
  },
  {
   "cell_type": "code",
   "execution_count": 6,
   "id": "4239e6bc-a477-492d-adb4-c26bf70e41a1",
   "metadata": {},
   "outputs": [
    {
     "data": {
      "text/plain": [
       "1-element Vector{String}:\n",
       " \"total-covid-cases-deaths-per-million.csv\""
      ]
     },
     "execution_count": 6,
     "metadata": {},
     "output_type": "execute_result"
    }
   ],
   "source": [
    "readdir(data_directory)"
   ]
  },
  {
   "cell_type": "code",
   "execution_count": 7,
   "id": "cc7f786c-e6bb-4020-914b-195bef82cf65",
   "metadata": {},
   "outputs": [],
   "source": [
    "using DataFrames\n",
    "using CSV"
   ]
  },
  {
   "cell_type": "code",
   "execution_count": 10,
   "id": "36dc0edb-820e-4017-a99c-4d226d91f919",
   "metadata": {},
   "outputs": [
    {
     "data": {
      "text/html": [
       "<div class=\"data-frame\"><p>0 rows × 3 columns</p><table class=\"data-frame\"><thead><tr><th></th><th>name</th><th>age</th><th>coffees</th></tr><tr><th></th><th title=\"String\">String</th><th title=\"Float64\">Float64</th><th title=\"Int64\">Int64</th></tr></thead><tbody></tbody></table></div>"
      ],
      "text/latex": [
       "\\begin{tabular}{r|ccc}\n",
       "\t& name & age & coffees\\\\\n",
       "\t\\hline\n",
       "\t& String & Float64 & Int64\\\\\n",
       "\t\\hline\n",
       "\\end{tabular}\n"
      ],
      "text/plain": [
       "\u001b[1m0×3 DataFrame\u001b[0m"
      ]
     },
     "execution_count": 10,
     "metadata": {},
     "output_type": "execute_result"
    }
   ],
   "source": [
    "df = DataFrame(name=String[], age=Float64[], coffees=Int64[])"
   ]
  },
  {
   "cell_type": "code",
   "execution_count": 11,
   "id": "4424b817-2373-43a1-82d4-8f5829379cab",
   "metadata": {},
   "outputs": [
    {
     "data": {
      "text/html": [
       "<div class=\"data-frame\"><p>1 rows × 3 columns</p><table class=\"data-frame\"><thead><tr><th></th><th>name</th><th>age</th><th>coffees</th></tr><tr><th></th><th title=\"String\">String</th><th title=\"Float64\">Float64</th><th title=\"Int64\">Int64</th></tr></thead><tbody><tr><th>1</th><td>Johannes</td><td>37.5</td><td>10</td></tr></tbody></table></div>"
      ],
      "text/latex": [
       "\\begin{tabular}{r|ccc}\n",
       "\t& name & age & coffees\\\\\n",
       "\t\\hline\n",
       "\t& String & Float64 & Int64\\\\\n",
       "\t\\hline\n",
       "\t1 & Johannes & 37.5 & 10 \\\\\n",
       "\\end{tabular}\n"
      ],
      "text/plain": [
       "\u001b[1m1×3 DataFrame\u001b[0m\n",
       "\u001b[1m Row \u001b[0m│\u001b[1m name     \u001b[0m\u001b[1m age     \u001b[0m\u001b[1m coffees \u001b[0m\n",
       "\u001b[1m     \u001b[0m│\u001b[90m String   \u001b[0m\u001b[90m Float64 \u001b[0m\u001b[90m Int64   \u001b[0m\n",
       "─────┼────────────────────────────\n",
       "   1 │ Johannes     37.5       10"
      ]
     },
     "execution_count": 11,
     "metadata": {},
     "output_type": "execute_result"
    }
   ],
   "source": [
    "push!(df, (\"Johannes\", 36.5, 10))"
   ]
  },
  {
   "cell_type": "code",
   "execution_count": 12,
   "id": "fcb948e5-ab47-430d-9542-89647fdb8345",
   "metadata": {},
   "outputs": [
    {
     "data": {
      "text/html": [
       "<div class=\"data-frame\"><p>2 rows × 3 columns</p><table class=\"data-frame\"><thead><tr><th></th><th>name</th><th>age</th><th>coffees</th></tr><tr><th></th><th title=\"String\">String</th><th title=\"Float64\">Float64</th><th title=\"Int64\">Int64</th></tr></thead><tbody><tr><th>1</th><td>Johannes</td><td>37.5</td><td>10</td></tr><tr><th>2</th><td>Christin</td><td>34.1</td><td>2</td></tr></tbody></table></div>"
      ],
      "text/latex": [
       "\\begin{tabular}{r|ccc}\n",
       "\t& name & age & coffees\\\\\n",
       "\t\\hline\n",
       "\t& String & Float64 & Int64\\\\\n",
       "\t\\hline\n",
       "\t1 & Johannes & 37.5 & 10 \\\\\n",
       "\t2 & Christin & 34.1 & 2 \\\\\n",
       "\\end{tabular}\n"
      ],
      "text/plain": [
       "\u001b[1m2×3 DataFrame\u001b[0m\n",
       "\u001b[1m Row \u001b[0m│\u001b[1m name     \u001b[0m\u001b[1m age     \u001b[0m\u001b[1m coffees \u001b[0m\n",
       "\u001b[1m     \u001b[0m│\u001b[90m String   \u001b[0m\u001b[90m Float64 \u001b[0m\u001b[90m Int64   \u001b[0m\n",
       "─────┼────────────────────────────\n",
       "   1 │ Johannes     37.5       10\n",
       "   2 │ Christin     34.1        2"
      ]
     },
     "execution_count": 12,
     "metadata": {},
     "output_type": "execute_result"
    }
   ],
   "source": [
    "push!(df, (\"Christin\", 34.1, 2))"
   ]
  },
  {
   "cell_type": "code",
   "execution_count": 18,
   "id": "70ed3052-a3f7-4a33-b0b7-9bcf4e5df861",
   "metadata": {},
   "outputs": [
    {
     "data": {
      "text/plain": [
       "\"/var/folders/gy/fk8y1bkd5b78l0n687jwhzkc0029yh/T/jl_ncdHkM/coffee.csv\""
      ]
     },
     "execution_count": 18,
     "metadata": {},
     "output_type": "execute_result"
    }
   ],
   "source": [
    "CSV.write(joinpath(temp_directory, \"coffee.csv\"), df)"
   ]
  },
  {
   "cell_type": "code",
   "execution_count": 19,
   "id": "c5b6f473-a6e1-4d93-9461-c28b4b8bcf56",
   "metadata": {},
   "outputs": [
    {
     "data": {
      "text/plain": [
       "1-element Vector{String}:\n",
       " \"coffee.csv\""
      ]
     },
     "execution_count": 19,
     "metadata": {},
     "output_type": "execute_result"
    }
   ],
   "source": [
    "readdir(temp_directory)"
   ]
  },
  {
   "cell_type": "code",
   "execution_count": 20,
   "id": "856b3deb-bfe4-442f-965c-06c984d0f24e",
   "metadata": {},
   "outputs": [
    {
     "name": "stdout",
     "output_type": "stream",
     "text": [
      "name,age,coffees\n",
      "Johannes,37.5,10\n",
      "Christin,34.1,2\n"
     ]
    }
   ],
   "source": [
    "open(joinpath(temp_directory, \"coffee.csv\")) do io\n",
    "    for line in readlines(io)\n",
    "        println(line)\n",
    "    end\n",
    "end"
   ]
  },
  {
   "cell_type": "code",
   "execution_count": 23,
   "id": "fcf37f19-950c-4625-8e49-6e90e13c35e3",
   "metadata": {},
   "outputs": [
    {
     "data": {
      "text/plain": [
       "2-element CSV.File:\n",
       " CSV.Row: (name = \"Johannes\", age = 37.5, coffees = 10)\n",
       " CSV.Row: (name = \"Christin\", age = 34.1, coffees = 2)"
      ]
     },
     "execution_count": 23,
     "metadata": {},
     "output_type": "execute_result"
    }
   ],
   "source": [
    "CSV.File(joinpath(temp_directory, \"coffee.csv\"))"
   ]
  },
  {
   "cell_type": "code",
   "execution_count": 24,
   "id": "483a5223-8860-47f5-b225-3e56240089dd",
   "metadata": {},
   "outputs": [
    {
     "data": {
      "text/html": [
       "<div class=\"data-frame\"><p>2 rows × 3 columns</p><table class=\"data-frame\"><thead><tr><th></th><th>name</th><th>age</th><th>coffees</th></tr><tr><th></th><th title=\"String15\">String15</th><th title=\"Float64\">Float64</th><th title=\"Int64\">Int64</th></tr></thead><tbody><tr><th>1</th><td>Johannes</td><td>37.5</td><td>10</td></tr><tr><th>2</th><td>Christin</td><td>34.1</td><td>2</td></tr></tbody></table></div>"
      ],
      "text/latex": [
       "\\begin{tabular}{r|ccc}\n",
       "\t& name & age & coffees\\\\\n",
       "\t\\hline\n",
       "\t& String15 & Float64 & Int64\\\\\n",
       "\t\\hline\n",
       "\t1 & Johannes & 37.5 & 10 \\\\\n",
       "\t2 & Christin & 34.1 & 2 \\\\\n",
       "\\end{tabular}\n"
      ],
      "text/plain": [
       "\u001b[1m2×3 DataFrame\u001b[0m\n",
       "\u001b[1m Row \u001b[0m│\u001b[1m name     \u001b[0m\u001b[1m age     \u001b[0m\u001b[1m coffees \u001b[0m\n",
       "\u001b[1m     \u001b[0m│\u001b[90m String15 \u001b[0m\u001b[90m Float64 \u001b[0m\u001b[90m Int64   \u001b[0m\n",
       "─────┼────────────────────────────\n",
       "   1 │ Johannes     37.5       10\n",
       "   2 │ Christin     34.1        2"
      ]
     },
     "execution_count": 24,
     "metadata": {},
     "output_type": "execute_result"
    }
   ],
   "source": [
    "CSV.File(joinpath(temp_directory, \"coffee.csv\")) |> DataFrame"
   ]
  },
  {
   "cell_type": "code",
   "execution_count": null,
   "id": "093aac22-be34-4bd1-b8fd-534f74b18bb2",
   "metadata": {},
   "outputs": [],
   "source": []
  }
 ],
 "metadata": {
  "kernelspec": {
   "display_name": "Julia 1.7.1",
   "language": "julia",
   "name": "julia-1.7"
  },
  "language_info": {
   "file_extension": ".jl",
   "mimetype": "application/julia",
   "name": "julia",
   "version": "1.7.1"
  }
 },
 "nbformat": 4,
 "nbformat_minor": 5
}
